{
  "cells": [
    {
      "cell_type": "markdown",
      "metadata": {
        "id": "view-in-github",
        "colab_type": "text"
      },
      "source": [
        "<a href=\"https://colab.research.google.com/github/A-l-E-v/ML-Engineer/blob/main/2_2_basic_operation_conspect.ipynb\" target=\"_parent\"><img src=\"https://colab.research.google.com/assets/colab-badge.svg\" alt=\"Open In Colab\"/></a>"
      ]
    },
    {
      "cell_type": "markdown",
      "id": "3a2835c9-d1e3-4e1d-acd4-9c94523f6cb5",
      "metadata": {
        "id": "3a2835c9-d1e3-4e1d-acd4-9c94523f6cb5"
      },
      "source": [
        "# 2.2 Pandas. Базовые операции"
      ]
    },
    {
      "cell_type": "markdown",
      "id": "e2655759-4e29-4f25-9a4e-acaaa8b02ea3",
      "metadata": {
        "id": "e2655759-4e29-4f25-9a4e-acaaa8b02ea3"
      },
      "source": [
        "В этом уроке мы с вами научимся производить базовые операции на данными."
      ]
    },
    {
      "cell_type": "code",
      "execution_count": null,
      "id": "410d1364-b002-44df-9508-4462f5650207",
      "metadata": {
        "tags": [],
        "id": "410d1364-b002-44df-9508-4462f5650207"
      },
      "outputs": [],
      "source": [
        "# импортируем библиотеку\n",
        "import pandas as pd"
      ]
    },
    {
      "cell_type": "code",
      "execution_count": null,
      "id": "3fe4f6c2-ef56-4787-b9c0-c97d0f99c5dc",
      "metadata": {
        "scrolled": true,
        "tags": [],
        "id": "3fe4f6c2-ef56-4787-b9c0-c97d0f99c5dc",
        "outputId": "1787404a-0d75-4336-a705-8a78cec5a86a"
      },
      "outputs": [
        {
          "data": {
            "text/html": [
              "<div>\n",
              "<style scoped>\n",
              "    .dataframe tbody tr th:only-of-type {\n",
              "        vertical-align: middle;\n",
              "    }\n",
              "\n",
              "    .dataframe tbody tr th {\n",
              "        vertical-align: top;\n",
              "    }\n",
              "\n",
              "    .dataframe thead th {\n",
              "        text-align: right;\n",
              "    }\n",
              "</style>\n",
              "<table border=\"1\" class=\"dataframe\">\n",
              "  <thead>\n",
              "    <tr style=\"text-align: right;\">\n",
              "      <th></th>\n",
              "      <th>id</th>\n",
              "      <th>name</th>\n",
              "      <th>number_of_seasons</th>\n",
              "      <th>number_of_episodes</th>\n",
              "      <th>original_language</th>\n",
              "      <th>vote_count</th>\n",
              "      <th>vote_average</th>\n",
              "      <th>overview</th>\n",
              "      <th>adult</th>\n",
              "      <th>backdrop_path</th>\n",
              "      <th>...</th>\n",
              "      <th>tagline</th>\n",
              "      <th>genres</th>\n",
              "      <th>created_by</th>\n",
              "      <th>languages</th>\n",
              "      <th>networks</th>\n",
              "      <th>origin_country</th>\n",
              "      <th>spoken_languages</th>\n",
              "      <th>production_companies</th>\n",
              "      <th>production_countries</th>\n",
              "      <th>episode_run_time</th>\n",
              "    </tr>\n",
              "  </thead>\n",
              "  <tbody>\n",
              "    <tr>\n",
              "      <th>0</th>\n",
              "      <td>1399</td>\n",
              "      <td>Game of Thrones</td>\n",
              "      <td>8</td>\n",
              "      <td>73</td>\n",
              "      <td>en</td>\n",
              "      <td>21857</td>\n",
              "      <td>8.442</td>\n",
              "      <td>Seven noble families fight for control of the ...</td>\n",
              "      <td>False</td>\n",
              "      <td>/2OMB0ynKlyIenMJWI2Dy9IWT4c.jpg</td>\n",
              "      <td>...</td>\n",
              "      <td>Winter Is Coming</td>\n",
              "      <td>Sci-Fi &amp; Fantasy, Drama, Action &amp; Adventure</td>\n",
              "      <td>David Benioff, D.B. Weiss</td>\n",
              "      <td>en</td>\n",
              "      <td>HBO</td>\n",
              "      <td>US</td>\n",
              "      <td>English</td>\n",
              "      <td>Revolution Sun Studios, Television 360, Genera...</td>\n",
              "      <td>United Kingdom, United States of America</td>\n",
              "      <td>0</td>\n",
              "    </tr>\n",
              "    <tr>\n",
              "      <th>1</th>\n",
              "      <td>71446</td>\n",
              "      <td>Money Heist</td>\n",
              "      <td>3</td>\n",
              "      <td>41</td>\n",
              "      <td>es</td>\n",
              "      <td>17836</td>\n",
              "      <td>8.257</td>\n",
              "      <td>To carry out the biggest heist in history, a m...</td>\n",
              "      <td>False</td>\n",
              "      <td>/gFZriCkpJYsApPZEF3jhxL4yLzG.jpg</td>\n",
              "      <td>...</td>\n",
              "      <td>The perfect robbery.</td>\n",
              "      <td>Crime, Drama</td>\n",
              "      <td>Álex Pina</td>\n",
              "      <td>es</td>\n",
              "      <td>Netflix, Antena 3</td>\n",
              "      <td>ES</td>\n",
              "      <td>Español</td>\n",
              "      <td>Vancouver Media</td>\n",
              "      <td>Spain</td>\n",
              "      <td>70</td>\n",
              "    </tr>\n",
              "    <tr>\n",
              "      <th>2</th>\n",
              "      <td>66732</td>\n",
              "      <td>Stranger Things</td>\n",
              "      <td>4</td>\n",
              "      <td>34</td>\n",
              "      <td>en</td>\n",
              "      <td>16161</td>\n",
              "      <td>8.624</td>\n",
              "      <td>When a young boy vanishes, a small town uncove...</td>\n",
              "      <td>False</td>\n",
              "      <td>/2MaumbgBlW1NoPo3ZJO38A6v7OS.jpg</td>\n",
              "      <td>...</td>\n",
              "      <td>Every ending has a beginning.</td>\n",
              "      <td>Drama, Sci-Fi &amp; Fantasy, Mystery</td>\n",
              "      <td>Matt Duffer, Ross Duffer</td>\n",
              "      <td>en</td>\n",
              "      <td>Netflix</td>\n",
              "      <td>US</td>\n",
              "      <td>English</td>\n",
              "      <td>21 Laps Entertainment, Monkey Massacre Product...</td>\n",
              "      <td>United States of America</td>\n",
              "      <td>0</td>\n",
              "    </tr>\n",
              "    <tr>\n",
              "      <th>3</th>\n",
              "      <td>1402</td>\n",
              "      <td>The Walking Dead</td>\n",
              "      <td>11</td>\n",
              "      <td>177</td>\n",
              "      <td>en</td>\n",
              "      <td>15432</td>\n",
              "      <td>8.121</td>\n",
              "      <td>Sheriff's deputy Rick Grimes awakens from a co...</td>\n",
              "      <td>False</td>\n",
              "      <td>/x4salpjB11umlUOltfNvSSrjSXm.jpg</td>\n",
              "      <td>...</td>\n",
              "      <td>Fight the dead. Fear the living.</td>\n",
              "      <td>Action &amp; Adventure, Drama, Sci-Fi &amp; Fantasy</td>\n",
              "      <td>Frank Darabont</td>\n",
              "      <td>en</td>\n",
              "      <td>AMC</td>\n",
              "      <td>US</td>\n",
              "      <td>English</td>\n",
              "      <td>AMC Studios, Circle of Confusion, Valhalla Mot...</td>\n",
              "      <td>United States of America</td>\n",
              "      <td>42</td>\n",
              "    </tr>\n",
              "    <tr>\n",
              "      <th>4</th>\n",
              "      <td>63174</td>\n",
              "      <td>Lucifer</td>\n",
              "      <td>6</td>\n",
              "      <td>93</td>\n",
              "      <td>en</td>\n",
              "      <td>13870</td>\n",
              "      <td>8.486</td>\n",
              "      <td>Bored and unhappy as the Lord of Hell, Lucifer...</td>\n",
              "      <td>False</td>\n",
              "      <td>/aDBRtunw49UF4XmqfyNuD9nlYIu.jpg</td>\n",
              "      <td>...</td>\n",
              "      <td>It's good to be bad.</td>\n",
              "      <td>Crime, Sci-Fi &amp; Fantasy</td>\n",
              "      <td>Tom Kapinos</td>\n",
              "      <td>en</td>\n",
              "      <td>FOX, Netflix</td>\n",
              "      <td>US</td>\n",
              "      <td>English</td>\n",
              "      <td>Warner Bros. Television, DC Entertainment, Jer...</td>\n",
              "      <td>United States of America</td>\n",
              "      <td>45</td>\n",
              "    </tr>\n",
              "    <tr>\n",
              "      <th>...</th>\n",
              "      <td>...</td>\n",
              "      <td>...</td>\n",
              "      <td>...</td>\n",
              "      <td>...</td>\n",
              "      <td>...</td>\n",
              "      <td>...</td>\n",
              "      <td>...</td>\n",
              "      <td>...</td>\n",
              "      <td>...</td>\n",
              "      <td>...</td>\n",
              "      <td>...</td>\n",
              "      <td>...</td>\n",
              "      <td>...</td>\n",
              "      <td>...</td>\n",
              "      <td>...</td>\n",
              "      <td>...</td>\n",
              "      <td>...</td>\n",
              "      <td>...</td>\n",
              "      <td>...</td>\n",
              "      <td>...</td>\n",
              "      <td>...</td>\n",
              "    </tr>\n",
              "    <tr>\n",
              "      <th>158561</th>\n",
              "      <td>235768</td>\n",
              "      <td>天罚-二战全纪实</td>\n",
              "      <td>1</td>\n",
              "      <td>100</td>\n",
              "      <td>zh</td>\n",
              "      <td>0</td>\n",
              "      <td>0.000</td>\n",
              "      <td>NaN</td>\n",
              "      <td>False</td>\n",
              "      <td>NaN</td>\n",
              "      <td>...</td>\n",
              "      <td>NaN</td>\n",
              "      <td>Documentary, War &amp; Politics</td>\n",
              "      <td>NaN</td>\n",
              "      <td>zh</td>\n",
              "      <td>NaN</td>\n",
              "      <td>CN</td>\n",
              "      <td>普通话</td>\n",
              "      <td>NaN</td>\n",
              "      <td>NaN</td>\n",
              "      <td>0</td>\n",
              "    </tr>\n",
              "    <tr>\n",
              "      <th>158562</th>\n",
              "      <td>235767</td>\n",
              "      <td>我们这一摊</td>\n",
              "      <td>1</td>\n",
              "      <td>13</td>\n",
              "      <td>zh</td>\n",
              "      <td>0</td>\n",
              "      <td>0.000</td>\n",
              "      <td>NaN</td>\n",
              "      <td>False</td>\n",
              "      <td>NaN</td>\n",
              "      <td>...</td>\n",
              "      <td>NaN</td>\n",
              "      <td>Reality</td>\n",
              "      <td>NaN</td>\n",
              "      <td>NaN</td>\n",
              "      <td>NaN</td>\n",
              "      <td>CN</td>\n",
              "      <td>NaN</td>\n",
              "      <td>NaN</td>\n",
              "      <td>NaN</td>\n",
              "      <td>0</td>\n",
              "    </tr>\n",
              "    <tr>\n",
              "      <th>158563</th>\n",
              "      <td>235766</td>\n",
              "      <td>山里来了熊孩子</td>\n",
              "      <td>1</td>\n",
              "      <td>13</td>\n",
              "      <td>zh</td>\n",
              "      <td>0</td>\n",
              "      <td>0.000</td>\n",
              "      <td>NaN</td>\n",
              "      <td>False</td>\n",
              "      <td>/qAdXlecuPyg2jb2GbRXzHEUcpmw.jpg</td>\n",
              "      <td>...</td>\n",
              "      <td>NaN</td>\n",
              "      <td>Reality</td>\n",
              "      <td>NaN</td>\n",
              "      <td>NaN</td>\n",
              "      <td>NaN</td>\n",
              "      <td>CN</td>\n",
              "      <td>NaN</td>\n",
              "      <td>NaN</td>\n",
              "      <td>NaN</td>\n",
              "      <td>0</td>\n",
              "    </tr>\n",
              "    <tr>\n",
              "      <th>158564</th>\n",
              "      <td>235765</td>\n",
              "      <td>开心超人联盟之勇敢之城1——棋兽传奇</td>\n",
              "      <td>1</td>\n",
              "      <td>6</td>\n",
              "      <td>zh</td>\n",
              "      <td>0</td>\n",
              "      <td>0.000</td>\n",
              "      <td>NaN</td>\n",
              "      <td>False</td>\n",
              "      <td>/ksuAmIZRkBMshJtkHtMDwyYLmDh.jpg</td>\n",
              "      <td>...</td>\n",
              "      <td>NaN</td>\n",
              "      <td>Animation, Kids</td>\n",
              "      <td>NaN</td>\n",
              "      <td>NaN</td>\n",
              "      <td>iQiyi, Youku, Mango TV, Tencent Video, Aniworl...</td>\n",
              "      <td>CN</td>\n",
              "      <td>NaN</td>\n",
              "      <td>广东明星创意动画有限公司</td>\n",
              "      <td>NaN</td>\n",
              "      <td>0</td>\n",
              "    </tr>\n",
              "    <tr>\n",
              "      <th>158565</th>\n",
              "      <td>38212</td>\n",
              "      <td>Anhoniyon Ka Andhera</td>\n",
              "      <td>0</td>\n",
              "      <td>0</td>\n",
              "      <td>en</td>\n",
              "      <td>0</td>\n",
              "      <td>0.000</td>\n",
              "      <td>Anhoniyon Ka Andhera is a weekly Indian televi...</td>\n",
              "      <td>False</td>\n",
              "      <td>NaN</td>\n",
              "      <td>...</td>\n",
              "      <td>NaN</td>\n",
              "      <td>NaN</td>\n",
              "      <td>NaN</td>\n",
              "      <td>en</td>\n",
              "      <td>Colors</td>\n",
              "      <td>IO</td>\n",
              "      <td>English</td>\n",
              "      <td>NaN</td>\n",
              "      <td>NaN</td>\n",
              "      <td>60</td>\n",
              "    </tr>\n",
              "  </tbody>\n",
              "</table>\n",
              "<p>158566 rows × 29 columns</p>\n",
              "</div>"
            ],
            "text/plain": [
              "            id                  name  number_of_seasons  number_of_episodes  \\\n",
              "0         1399       Game of Thrones                  8                  73   \n",
              "1        71446           Money Heist                  3                  41   \n",
              "2        66732       Stranger Things                  4                  34   \n",
              "3         1402      The Walking Dead                 11                 177   \n",
              "4        63174               Lucifer                  6                  93   \n",
              "...        ...                   ...                ...                 ...   \n",
              "158561  235768              天罚-二战全纪实                  1                 100   \n",
              "158562  235767                 我们这一摊                  1                  13   \n",
              "158563  235766               山里来了熊孩子                  1                  13   \n",
              "158564  235765    开心超人联盟之勇敢之城1——棋兽传奇                  1                   6   \n",
              "158565   38212  Anhoniyon Ka Andhera                  0                   0   \n",
              "\n",
              "       original_language  vote_count  vote_average  \\\n",
              "0                     en       21857         8.442   \n",
              "1                     es       17836         8.257   \n",
              "2                     en       16161         8.624   \n",
              "3                     en       15432         8.121   \n",
              "4                     en       13870         8.486   \n",
              "...                  ...         ...           ...   \n",
              "158561                zh           0         0.000   \n",
              "158562                zh           0         0.000   \n",
              "158563                zh           0         0.000   \n",
              "158564                zh           0         0.000   \n",
              "158565                en           0         0.000   \n",
              "\n",
              "                                                 overview  adult  \\\n",
              "0       Seven noble families fight for control of the ...  False   \n",
              "1       To carry out the biggest heist in history, a m...  False   \n",
              "2       When a young boy vanishes, a small town uncove...  False   \n",
              "3       Sheriff's deputy Rick Grimes awakens from a co...  False   \n",
              "4       Bored and unhappy as the Lord of Hell, Lucifer...  False   \n",
              "...                                                   ...    ...   \n",
              "158561                                                NaN  False   \n",
              "158562                                                NaN  False   \n",
              "158563                                                NaN  False   \n",
              "158564                                                NaN  False   \n",
              "158565  Anhoniyon Ka Andhera is a weekly Indian televi...  False   \n",
              "\n",
              "                           backdrop_path  ...  \\\n",
              "0        /2OMB0ynKlyIenMJWI2Dy9IWT4c.jpg  ...   \n",
              "1       /gFZriCkpJYsApPZEF3jhxL4yLzG.jpg  ...   \n",
              "2       /2MaumbgBlW1NoPo3ZJO38A6v7OS.jpg  ...   \n",
              "3       /x4salpjB11umlUOltfNvSSrjSXm.jpg  ...   \n",
              "4       /aDBRtunw49UF4XmqfyNuD9nlYIu.jpg  ...   \n",
              "...                                  ...  ...   \n",
              "158561                               NaN  ...   \n",
              "158562                               NaN  ...   \n",
              "158563  /qAdXlecuPyg2jb2GbRXzHEUcpmw.jpg  ...   \n",
              "158564  /ksuAmIZRkBMshJtkHtMDwyYLmDh.jpg  ...   \n",
              "158565                               NaN  ...   \n",
              "\n",
              "                                 tagline  \\\n",
              "0                       Winter Is Coming   \n",
              "1                   The perfect robbery.   \n",
              "2          Every ending has a beginning.   \n",
              "3       Fight the dead. Fear the living.   \n",
              "4                   It's good to be bad.   \n",
              "...                                  ...   \n",
              "158561                               NaN   \n",
              "158562                               NaN   \n",
              "158563                               NaN   \n",
              "158564                               NaN   \n",
              "158565                               NaN   \n",
              "\n",
              "                                             genres  \\\n",
              "0       Sci-Fi & Fantasy, Drama, Action & Adventure   \n",
              "1                                      Crime, Drama   \n",
              "2                  Drama, Sci-Fi & Fantasy, Mystery   \n",
              "3       Action & Adventure, Drama, Sci-Fi & Fantasy   \n",
              "4                           Crime, Sci-Fi & Fantasy   \n",
              "...                                             ...   \n",
              "158561                  Documentary, War & Politics   \n",
              "158562                                      Reality   \n",
              "158563                                      Reality   \n",
              "158564                              Animation, Kids   \n",
              "158565                                          NaN   \n",
              "\n",
              "                       created_by  languages  \\\n",
              "0       David Benioff, D.B. Weiss         en   \n",
              "1                       Álex Pina         es   \n",
              "2        Matt Duffer, Ross Duffer         en   \n",
              "3                  Frank Darabont         en   \n",
              "4                     Tom Kapinos         en   \n",
              "...                           ...        ...   \n",
              "158561                        NaN         zh   \n",
              "158562                        NaN        NaN   \n",
              "158563                        NaN        NaN   \n",
              "158564                        NaN        NaN   \n",
              "158565                        NaN         en   \n",
              "\n",
              "                                                 networks  origin_country  \\\n",
              "0                                                     HBO              US   \n",
              "1                                       Netflix, Antena 3              ES   \n",
              "2                                                 Netflix              US   \n",
              "3                                                     AMC              US   \n",
              "4                                            FOX, Netflix              US   \n",
              "...                                                   ...             ...   \n",
              "158561                                                NaN              CN   \n",
              "158562                                                NaN              CN   \n",
              "158563                                                NaN              CN   \n",
              "158564  iQiyi, Youku, Mango TV, Tencent Video, Aniworl...              CN   \n",
              "158565                                             Colors              IO   \n",
              "\n",
              "       spoken_languages                               production_companies  \\\n",
              "0               English  Revolution Sun Studios, Television 360, Genera...   \n",
              "1               Español                                    Vancouver Media   \n",
              "2               English  21 Laps Entertainment, Monkey Massacre Product...   \n",
              "3               English  AMC Studios, Circle of Confusion, Valhalla Mot...   \n",
              "4               English  Warner Bros. Television, DC Entertainment, Jer...   \n",
              "...                 ...                                                ...   \n",
              "158561              普通话                                                NaN   \n",
              "158562              NaN                                                NaN   \n",
              "158563              NaN                                                NaN   \n",
              "158564              NaN                                       广东明星创意动画有限公司   \n",
              "158565          English                                                NaN   \n",
              "\n",
              "                            production_countries episode_run_time  \n",
              "0       United Kingdom, United States of America                0  \n",
              "1                                          Spain               70  \n",
              "2                       United States of America                0  \n",
              "3                       United States of America               42  \n",
              "4                       United States of America               45  \n",
              "...                                          ...              ...  \n",
              "158561                                       NaN                0  \n",
              "158562                                       NaN                0  \n",
              "158563                                       NaN                0  \n",
              "158564                                       NaN                0  \n",
              "158565                                       NaN               60  \n",
              "\n",
              "[158566 rows x 29 columns]"
            ]
          },
          "execution_count": 10,
          "metadata": {},
          "output_type": "execute_result"
        }
      ],
      "source": [
        "# прочитаем данные\n",
        "df = pd.read_csv(\"/Users/19247629/Documents/orig/orig_df.csv\")\n",
        "df"
      ]
    },
    {
      "cell_type": "code",
      "execution_count": null,
      "id": "ff9f58e0-cba0-4252-a9a0-8ab0389b2dfd",
      "metadata": {
        "scrolled": true,
        "tags": [],
        "id": "ff9f58e0-cba0-4252-a9a0-8ab0389b2dfd",
        "outputId": "e482afbe-e377-4bc4-9e03-85fa6d93daa0"
      },
      "outputs": [
        {
          "name": "stdout",
          "output_type": "stream",
          "text": [
            "<class 'pandas.core.frame.DataFrame'>\n",
            "RangeIndex: 158566 entries, 0 to 158565\n",
            "Data columns (total 29 columns):\n",
            " #   Column                Non-Null Count   Dtype  \n",
            "---  ------                --------------   -----  \n",
            " 0   id                    158566 non-null  int64  \n",
            " 1   name                  158561 non-null  object \n",
            " 2   number_of_seasons     158566 non-null  int64  \n",
            " 3   number_of_episodes    158566 non-null  int64  \n",
            " 4   original_language     158566 non-null  object \n",
            " 5   vote_count            158566 non-null  int64  \n",
            " 6   vote_average          158566 non-null  float64\n",
            " 7   overview              89357 non-null   object \n",
            " 8   adult                 158566 non-null  bool   \n",
            " 9   backdrop_path         74263 non-null   object \n",
            " 10  first_air_date        128542 non-null  object \n",
            " 11  last_air_date         130608 non-null  object \n",
            " 12  homepage              49380 non-null   object \n",
            " 13  in_production         158566 non-null  bool   \n",
            " 14  original_name         158561 non-null  object \n",
            " 15  popularity            158566 non-null  float64\n",
            " 16  poster_path           102277 non-null  object \n",
            " 17  type                  158566 non-null  object \n",
            " 18  status                158566 non-null  object \n",
            " 19  tagline               5211 non-null    object \n",
            " 20  genres                94479 non-null   object \n",
            " 21  created_by            34840 non-null   object \n",
            " 22  languages             104964 non-null  object \n",
            " 23  networks              93978 non-null   object \n",
            " 24  origin_country        127552 non-null  object \n",
            " 25  spoken_languages      104256 non-null  object \n",
            " 26  production_companies  56595 non-null   object \n",
            " 27  production_countries  73556 non-null   object \n",
            " 28  episode_run_time      158566 non-null  int64  \n",
            "dtypes: bool(2), float64(2), int64(5), object(20)\n",
            "memory usage: 33.0+ MB\n"
          ]
        }
      ],
      "source": [
        "# выведем сводную информацию по столбцам\n",
        "df.info()"
      ]
    },
    {
      "cell_type": "markdown",
      "id": "b138b4fa-3cea-4e95-b096-b35a52d28361",
      "metadata": {
        "id": "b138b4fa-3cea-4e95-b096-b35a52d28361"
      },
      "source": [
        "## Числа"
      ]
    },
    {
      "cell_type": "markdown",
      "id": "8c6cba97-62b1-4610-b43e-072eac963c01",
      "metadata": {
        "id": "8c6cba97-62b1-4610-b43e-072eac963c01"
      },
      "source": [
        "Сначала научимся работать с числовыми столбцами. Возьмем для примера vote_count."
      ]
    },
    {
      "cell_type": "code",
      "execution_count": null,
      "id": "dc1106b6-8021-463f-9825-dfc7c57190ac",
      "metadata": {
        "tags": [],
        "id": "dc1106b6-8021-463f-9825-dfc7c57190ac",
        "outputId": "88d35d05-310d-437e-a67f-fa39193c84a8"
      },
      "outputs": [
        {
          "data": {
            "text/plain": [
              "0         21857\n",
              "1         17836\n",
              "2         16161\n",
              "3         15432\n",
              "4         13870\n",
              "          ...  \n",
              "158561        0\n",
              "158562        0\n",
              "158563        0\n",
              "158564        0\n",
              "158565        0\n",
              "Name: vote_count, Length: 158566, dtype: int64"
            ]
          },
          "execution_count": 12,
          "metadata": {},
          "output_type": "execute_result"
        }
      ],
      "source": [
        "# выведем столбец\n",
        "df['vote_count']"
      ]
    },
    {
      "cell_type": "code",
      "execution_count": null,
      "id": "05bcf3e8-1778-454d-a572-53ef17048e3b",
      "metadata": {
        "tags": [],
        "id": "05bcf3e8-1778-454d-a572-53ef17048e3b",
        "outputId": "95e98ca2-ad40-42f8-ef0f-68a72bad1212"
      },
      "outputs": [
        {
          "data": {
            "text/plain": [
              "0         21957\n",
              "1         17936\n",
              "2         16261\n",
              "3         15532\n",
              "4         13970\n",
              "          ...  \n",
              "158561      100\n",
              "158562      100\n",
              "158563      100\n",
              "158564      100\n",
              "158565      100\n",
              "Name: vote_count, Length: 158566, dtype: int64"
            ]
          },
          "execution_count": 13,
          "metadata": {},
          "output_type": "execute_result"
        }
      ],
      "source": [
        "# ко всем данным в столбце по строчно можно применить любую математическую операцию\n",
        "df['vote_count'] + 100"
      ]
    },
    {
      "cell_type": "markdown",
      "id": "0fa56d5c-ef11-4c40-88a7-aa184551a43d",
      "metadata": {
        "id": "0fa56d5c-ef11-4c40-88a7-aa184551a43d"
      },
      "source": [
        "К каждому значению в столбце прибавилось 100."
      ]
    },
    {
      "cell_type": "code",
      "execution_count": null,
      "id": "2ac611c9-faee-4563-a88e-3699cae0c58c",
      "metadata": {
        "tags": [],
        "id": "2ac611c9-faee-4563-a88e-3699cae0c58c",
        "outputId": "4e44bb4d-fdef-47e7-963c-f8a7c29b9898"
      },
      "outputs": [
        {
          "data": {
            "text/plain": [
              "0         21757\n",
              "1         17736\n",
              "2         16061\n",
              "3         15332\n",
              "4         13770\n",
              "          ...  \n",
              "158561     -100\n",
              "158562     -100\n",
              "158563     -100\n",
              "158564     -100\n",
              "158565     -100\n",
              "Name: vote_count, Length: 158566, dtype: int64"
            ]
          },
          "execution_count": 16,
          "metadata": {},
          "output_type": "execute_result"
        }
      ],
      "source": [
        "# вычтем 100\n",
        "df['vote_count'] - 100"
      ]
    },
    {
      "cell_type": "code",
      "execution_count": null,
      "id": "93d315b4-b567-4daa-b76c-6d07a5cdd4a8",
      "metadata": {
        "tags": [],
        "id": "93d315b4-b567-4daa-b76c-6d07a5cdd4a8",
        "outputId": "d3ee117f-2cef-4ce1-9c92-db30b2feb924"
      },
      "outputs": [
        {
          "data": {
            "text/plain": [
              "0         2185700\n",
              "1         1783600\n",
              "2         1616100\n",
              "3         1543200\n",
              "4         1387000\n",
              "           ...   \n",
              "158561          0\n",
              "158562          0\n",
              "158563          0\n",
              "158564          0\n",
              "158565          0\n",
              "Name: vote_count, Length: 158566, dtype: int64"
            ]
          },
          "execution_count": 14,
          "metadata": {},
          "output_type": "execute_result"
        }
      ],
      "source": [
        "# теперь умножим на 100\n",
        "df['vote_count'] * 100"
      ]
    },
    {
      "cell_type": "code",
      "execution_count": null,
      "id": "79c87545-6eff-4862-a342-b48cfdec0645",
      "metadata": {
        "tags": [],
        "id": "79c87545-6eff-4862-a342-b48cfdec0645",
        "outputId": "33ab5293-fe1e-4f65-85b9-f134801135de"
      },
      "outputs": [
        {
          "data": {
            "text/plain": [
              "0         218.57\n",
              "1         178.36\n",
              "2         161.61\n",
              "3         154.32\n",
              "4         138.70\n",
              "           ...  \n",
              "158561      0.00\n",
              "158562      0.00\n",
              "158563      0.00\n",
              "158564      0.00\n",
              "158565      0.00\n",
              "Name: vote_count, Length: 158566, dtype: float64"
            ]
          },
          "execution_count": 15,
          "metadata": {},
          "output_type": "execute_result"
        }
      ],
      "source": [
        "#  теперь поделим\n",
        "df['vote_count'] / 100"
      ]
    },
    {
      "cell_type": "markdown",
      "id": "e02af23f-f686-40b1-8c24-70f563ee1a71",
      "metadata": {
        "id": "e02af23f-f686-40b1-8c24-70f563ee1a71"
      },
      "source": [
        "Обратите внимание, что результат имеет тип float64 а не int64. Важное замечание, во всех случаях мы совершали операции, на выходе которой нам возвращался резульат, который мы нигде не сохраняли. Если мы хотим сохранить его в отдельный столбец, то это можно сдклать так."
      ]
    },
    {
      "cell_type": "code",
      "execution_count": null,
      "id": "20dc8f95-ca4b-4edf-9db2-bba544fe03fb",
      "metadata": {
        "tags": [],
        "id": "20dc8f95-ca4b-4edf-9db2-bba544fe03fb",
        "outputId": "ab20875a-64ca-448a-8216-acf31387be90"
      },
      "outputs": [
        {
          "data": {
            "text/plain": [
              "0         43712\n",
              "1         35670\n",
              "2         32320\n",
              "3         30862\n",
              "4         27738\n",
              "          ...  \n",
              "158561       -2\n",
              "158562       -2\n",
              "158563       -2\n",
              "158564       -2\n",
              "158565       -2\n",
              "Name: test_result, Length: 158566, dtype: int64"
            ]
          },
          "execution_count": 17,
          "metadata": {},
          "output_type": "execute_result"
        }
      ],
      "source": [
        "# сделамем несколько проивзольных операций и сохраним их в новый столбец\n",
        "df['test_result'] = df['vote_count'] * 2 + 4 - 6\n",
        "df['test_result']"
      ]
    },
    {
      "cell_type": "code",
      "execution_count": null,
      "id": "03d8a964-3737-4477-b2d8-be737a6481ce",
      "metadata": {
        "scrolled": true,
        "tags": [],
        "id": "03d8a964-3737-4477-b2d8-be737a6481ce",
        "outputId": "9a0e20f4-c978-43a6-bfc6-56c0be0d761e"
      },
      "outputs": [
        {
          "data": {
            "text/html": [
              "<div>\n",
              "<style scoped>\n",
              "    .dataframe tbody tr th:only-of-type {\n",
              "        vertical-align: middle;\n",
              "    }\n",
              "\n",
              "    .dataframe tbody tr th {\n",
              "        vertical-align: top;\n",
              "    }\n",
              "\n",
              "    .dataframe thead th {\n",
              "        text-align: right;\n",
              "    }\n",
              "</style>\n",
              "<table border=\"1\" class=\"dataframe\">\n",
              "  <thead>\n",
              "    <tr style=\"text-align: right;\">\n",
              "      <th></th>\n",
              "      <th>vote_count</th>\n",
              "      <th>vote_average</th>\n",
              "    </tr>\n",
              "  </thead>\n",
              "  <tbody>\n",
              "    <tr>\n",
              "      <th>0</th>\n",
              "      <td>21857</td>\n",
              "      <td>8.442</td>\n",
              "    </tr>\n",
              "    <tr>\n",
              "      <th>1</th>\n",
              "      <td>17836</td>\n",
              "      <td>8.257</td>\n",
              "    </tr>\n",
              "    <tr>\n",
              "      <th>2</th>\n",
              "      <td>16161</td>\n",
              "      <td>8.624</td>\n",
              "    </tr>\n",
              "    <tr>\n",
              "      <th>3</th>\n",
              "      <td>15432</td>\n",
              "      <td>8.121</td>\n",
              "    </tr>\n",
              "    <tr>\n",
              "      <th>4</th>\n",
              "      <td>13870</td>\n",
              "      <td>8.486</td>\n",
              "    </tr>\n",
              "    <tr>\n",
              "      <th>...</th>\n",
              "      <td>...</td>\n",
              "      <td>...</td>\n",
              "    </tr>\n",
              "    <tr>\n",
              "      <th>158561</th>\n",
              "      <td>0</td>\n",
              "      <td>0.000</td>\n",
              "    </tr>\n",
              "    <tr>\n",
              "      <th>158562</th>\n",
              "      <td>0</td>\n",
              "      <td>0.000</td>\n",
              "    </tr>\n",
              "    <tr>\n",
              "      <th>158563</th>\n",
              "      <td>0</td>\n",
              "      <td>0.000</td>\n",
              "    </tr>\n",
              "    <tr>\n",
              "      <th>158564</th>\n",
              "      <td>0</td>\n",
              "      <td>0.000</td>\n",
              "    </tr>\n",
              "    <tr>\n",
              "      <th>158565</th>\n",
              "      <td>0</td>\n",
              "      <td>0.000</td>\n",
              "    </tr>\n",
              "  </tbody>\n",
              "</table>\n",
              "<p>158566 rows × 2 columns</p>\n",
              "</div>"
            ],
            "text/plain": [
              "        vote_count  vote_average\n",
              "0            21857         8.442\n",
              "1            17836         8.257\n",
              "2            16161         8.624\n",
              "3            15432         8.121\n",
              "4            13870         8.486\n",
              "...            ...           ...\n",
              "158561           0         0.000\n",
              "158562           0         0.000\n",
              "158563           0         0.000\n",
              "158564           0         0.000\n",
              "158565           0         0.000\n",
              "\n",
              "[158566 rows x 2 columns]"
            ]
          },
          "execution_count": 22,
          "metadata": {},
          "output_type": "execute_result"
        }
      ],
      "source": [
        "# выведем два числовых столбца\n",
        "df[['vote_count', 'vote_average']]"
      ]
    },
    {
      "cell_type": "code",
      "execution_count": null,
      "id": "9016a345-7bba-425e-b74f-9fd3a8723de0",
      "metadata": {
        "tags": [],
        "id": "9016a345-7bba-425e-b74f-9fd3a8723de0",
        "outputId": "a1e5d7cb-b4ef-443e-f9fc-e9909bbb8cfa"
      },
      "outputs": [
        {
          "data": {
            "text/plain": [
              "0         21865.442\n",
              "1         17844.257\n",
              "2         16169.624\n",
              "3         15440.121\n",
              "4         13878.486\n",
              "            ...    \n",
              "158561        0.000\n",
              "158562        0.000\n",
              "158563        0.000\n",
              "158564        0.000\n",
              "158565        0.000\n",
              "Length: 158566, dtype: float64"
            ]
          },
          "execution_count": 18,
          "metadata": {},
          "output_type": "execute_result"
        }
      ],
      "source": [
        "#  столбцы можно складывать между собой...\n",
        "df['vote_count'] + df['vote_average']"
      ]
    },
    {
      "cell_type": "code",
      "execution_count": null,
      "id": "ff838727-f3c7-4cec-954f-7e4d5dd2524c",
      "metadata": {
        "tags": [],
        "id": "ff838727-f3c7-4cec-954f-7e4d5dd2524c",
        "outputId": "2c8fc710-5d3a-4e50-87ba-b128f0cc3b72"
      },
      "outputs": [
        {
          "data": {
            "text/plain": [
              "0         184516.794\n",
              "1         147271.852\n",
              "2         139372.464\n",
              "3         125323.272\n",
              "4         117700.820\n",
              "             ...    \n",
              "158561         0.000\n",
              "158562         0.000\n",
              "158563         0.000\n",
              "158564         0.000\n",
              "158565         0.000\n",
              "Length: 158566, dtype: float64"
            ]
          },
          "execution_count": 19,
          "metadata": {},
          "output_type": "execute_result"
        }
      ],
      "source": [
        "# ... и умножать\n",
        "df['vote_count'] * df['vote_average']"
      ]
    },
    {
      "cell_type": "code",
      "execution_count": null,
      "id": "8e170863-bdd7-4b64-8353-197c173578d3",
      "metadata": {
        "tags": [],
        "id": "8e170863-bdd7-4b64-8353-197c173578d3",
        "outputId": "21c7ecaa-7ab2-4bf9-e844-c4c012eda26d"
      },
      "outputs": [
        {
          "data": {
            "text/plain": [
              "0         2589.078417\n",
              "1         2160.106576\n",
              "2         1873.956401\n",
              "3         1900.258589\n",
              "4         1634.456752\n",
              "             ...     \n",
              "158561            NaN\n",
              "158562            NaN\n",
              "158563            NaN\n",
              "158564            NaN\n",
              "158565            NaN\n",
              "Length: 158566, dtype: float64"
            ]
          },
          "execution_count": 23,
          "metadata": {},
          "output_type": "execute_result"
        }
      ],
      "source": [
        "# ... и делить\n",
        "df['vote_count'] / df['vote_average']"
      ]
    },
    {
      "cell_type": "markdown",
      "id": "a5de5838-8ec6-4a04-83e5-24b28e6a1429",
      "metadata": {
        "id": "a5de5838-8ec6-4a04-83e5-24b28e6a1429"
      },
      "source": [
        "В местах где мы 0 делим на 0 - повяивлись NaN. Что это такое? Это родсвтенник уже известного вам None из библиотеки numpy, а именно np.nan. Только с NaN можно совершать немного другой ряд операций"
      ]
    },
    {
      "cell_type": "code",
      "execution_count": null,
      "id": "4467809a-972e-4c76-b5c9-fd9bcac9c9d9",
      "metadata": {
        "tags": [],
        "id": "4467809a-972e-4c76-b5c9-fd9bcac9c9d9"
      },
      "outputs": [],
      "source": [
        "import numpy as np"
      ]
    },
    {
      "cell_type": "code",
      "execution_count": null,
      "id": "a625fb3b-e13b-4984-b77e-6e1f6fa998f2",
      "metadata": {
        "id": "a625fb3b-e13b-4984-b77e-6e1f6fa998f2",
        "outputId": "597db2d9-62c1-4995-8520-3b2f3110485e"
      },
      "outputs": [
        {
          "data": {
            "text/plain": [
              "(None, nan)"
            ]
          },
          "execution_count": 5,
          "metadata": {},
          "output_type": "execute_result"
        }
      ],
      "source": [
        "# вот как они выглядят при выводе\n",
        "None, np.nan"
      ]
    },
    {
      "cell_type": "markdown",
      "id": "3f7b25bf-13aa-4d4a-a060-c71aed934ede",
      "metadata": {
        "id": "3f7b25bf-13aa-4d4a-a060-c71aed934ede"
      },
      "source": [
        "np.nan считается дробным float64 значением, поэтому если в целочисленном столбце есть хоть один nan, то вся колонка становится float64."
      ]
    },
    {
      "cell_type": "code",
      "execution_count": null,
      "id": "58adda70-16f9-4696-97f8-241c384333c6",
      "metadata": {
        "tags": [],
        "id": "58adda70-16f9-4696-97f8-241c384333c6",
        "outputId": "80a45dac-3e64-4672-ed29-a460c0cacb85"
      },
      "outputs": [
        {
          "data": {
            "text/plain": [
              "0         21857.0\n",
              "1         17836.0\n",
              "2         16161.0\n",
              "3         15432.0\n",
              "4         13870.0\n",
              "           ...   \n",
              "158561        NaN\n",
              "158562        NaN\n",
              "158563        NaN\n",
              "158564        NaN\n",
              "158565        NaN\n",
              "Name: vote_count, Length: 158566, dtype: float64"
            ]
          },
          "execution_count": 26,
          "metadata": {},
          "output_type": "execute_result"
        }
      ],
      "source": [
        "df['vote_count'].replace(0, np.nan)"
      ]
    },
    {
      "cell_type": "code",
      "execution_count": null,
      "id": "e26ea421-885d-484f-8326-c7e9d43ac763",
      "metadata": {
        "tags": [],
        "id": "e26ea421-885d-484f-8326-c7e9d43ac763",
        "outputId": "0c77e915-5542-4d6f-ca95-7af1d25400af"
      },
      "outputs": [
        {
          "data": {
            "text/plain": [
              "0         21857\n",
              "1         17836\n",
              "2         16161\n",
              "3         15432\n",
              "4         13870\n",
              "          ...  \n",
              "158561     None\n",
              "158562     None\n",
              "158563     None\n",
              "158564     None\n",
              "158565     None\n",
              "Name: vote_count, Length: 158566, dtype: object"
            ]
          },
          "execution_count": 28,
          "metadata": {},
          "output_type": "execute_result"
        }
      ],
      "source": [
        "# если вместо 0 постаавить None, то тип столбца будет смешанным\n",
        "df['vote_count'].replace(0, None)"
      ]
    },
    {
      "cell_type": "code",
      "execution_count": null,
      "id": "8775b1fc-53cc-4fdc-85b6-63fdbf40fa94",
      "metadata": {
        "tags": [],
        "id": "8775b1fc-53cc-4fdc-85b6-63fdbf40fa94",
        "outputId": "cad959a6-5580-45dc-ef24-02c00553b58d"
      },
      "outputs": [
        {
          "data": {
            "text/plain": [
              "int"
            ]
          },
          "execution_count": 30,
          "metadata": {},
          "output_type": "execute_result"
        }
      ],
      "source": [
        "#  в случае такой замены, первые элементы останутся целого типа\n",
        "type(df['vote_count'].replace(0, None)[0])"
      ]
    },
    {
      "cell_type": "code",
      "execution_count": null,
      "id": "272ab658-7c30-45d2-962a-cf1b23cfb978",
      "metadata": {
        "tags": [],
        "id": "272ab658-7c30-45d2-962a-cf1b23cfb978",
        "outputId": "23cdd99c-b95c-4463-9c19-77c23cc083f6"
      },
      "outputs": [
        {
          "data": {
            "text/plain": [
              "(True, False, False)"
            ]
          },
          "execution_count": 31,
          "metadata": {},
          "output_type": "execute_result"
        }
      ],
      "source": [
        "# операции проверки None и  np.nan  могут выводить сбивающие с толку результаты\n",
        "np.nan is np.nan, np.nan is None, None is np.nan"
      ]
    },
    {
      "cell_type": "code",
      "execution_count": null,
      "id": "09697bb1-e42a-4686-b574-e2db2f11809b",
      "metadata": {
        "tags": [],
        "id": "09697bb1-e42a-4686-b574-e2db2f11809b",
        "outputId": "6b73ef65-67c4-4964-a231-f401dc9476b2"
      },
      "outputs": [
        {
          "data": {
            "text/plain": [
              "(True, True)"
            ]
          },
          "execution_count": 32,
          "metadata": {},
          "output_type": "execute_result"
        }
      ],
      "source": [
        "# поэтмоу проще для проверки применять функцию pd.isnull()\n",
        "pd.isnull(None), pd.isnull(np.nan)"
      ]
    },
    {
      "cell_type": "code",
      "execution_count": null,
      "id": "859e4d74-983c-401f-8558-6b354680c0d7",
      "metadata": {
        "tags": [],
        "id": "859e4d74-983c-401f-8558-6b354680c0d7",
        "outputId": "4a635201-5022-4599-a93a-379df14f0dde"
      },
      "outputs": [
        {
          "data": {
            "text/plain": [
              "array([ True,  True])"
            ]
          },
          "execution_count": 33,
          "metadata": {},
          "output_type": "execute_result"
        }
      ],
      "source": [
        "# на вход можно подать и массив\n",
        "pd.isnull([None, np.nan])"
      ]
    },
    {
      "cell_type": "code",
      "execution_count": null,
      "id": "58c69582-7e2b-4c31-995e-2ac1eceb8043",
      "metadata": {
        "tags": [],
        "id": "58c69582-7e2b-4c31-995e-2ac1eceb8043",
        "outputId": "90f323d2-cf68-4bd8-cecf-87c6e2af9d74"
      },
      "outputs": [
        {
          "data": {
            "text/plain": [
              "array([False, False])"
            ]
          },
          "execution_count": 34,
          "metadata": {},
          "output_type": "execute_result"
        }
      ],
      "source": [
        "#  существует и обратная функция\n",
        "pd.notnull([None, np.nan])"
      ]
    },
    {
      "cell_type": "markdown",
      "id": "721af8f9-031d-4f38-b3a9-55c61d05ed72",
      "metadata": {
        "id": "721af8f9-031d-4f38-b3a9-55c61d05ed72"
      },
      "source": [
        "Вернемся к числам и операциям с ними."
      ]
    },
    {
      "cell_type": "code",
      "execution_count": null,
      "id": "3ab6c4a7-4588-4e65-886b-bc13f07eb522",
      "metadata": {
        "tags": [],
        "id": "3ab6c4a7-4588-4e65-886b-bc13f07eb522",
        "outputId": "deccc74d-f383-4839-d88a-95633daeb438"
      },
      "outputs": [
        {
          "data": {
            "text/plain": [
              "0         21857\n",
              "1         17836\n",
              "2         16161\n",
              "3         15432\n",
              "4         13870\n",
              "          ...  \n",
              "158561        0\n",
              "158562        0\n",
              "158563        0\n",
              "158564        0\n",
              "158565        0\n",
              "Name: vote_count, Length: 158566, dtype: int64"
            ]
          },
          "execution_count": 39,
          "metadata": {},
          "output_type": "execute_result"
        }
      ],
      "source": [
        "# посмотрим на столбец\n",
        "df['vote_count']"
      ]
    },
    {
      "cell_type": "code",
      "execution_count": null,
      "id": "43b202e5-bf18-4bcf-ae82-73603f5dd581",
      "metadata": {
        "tags": [],
        "id": "43b202e5-bf18-4bcf-ae82-73603f5dd581",
        "outputId": "db98a983-829f-4068-b8bb-4b9529ecc69f"
      },
      "outputs": [
        {
          "data": {
            "text/plain": [
              "0         21857\n",
              "1         17836\n",
              "2         16161\n",
              "3         15432\n",
              "4         13870\n",
              "          ...  \n",
              "158561      100\n",
              "158562      100\n",
              "158563      100\n",
              "158564      100\n",
              "158565      100\n",
              "Name: vote_count, Length: 158566, dtype: int64"
            ]
          },
          "execution_count": 40,
          "metadata": {},
          "output_type": "execute_result"
        }
      ],
      "source": [
        "# любое число в нем можно заменить на любое другое. Пусть мы. хотим заменить 0 на 100\n",
        "df['vote_count'].replace(0,  100)"
      ]
    },
    {
      "cell_type": "code",
      "execution_count": null,
      "id": "ae839cc8-3a63-4aeb-86f5-df0465ef268d",
      "metadata": {
        "tags": [],
        "id": "ae839cc8-3a63-4aeb-86f5-df0465ef268d",
        "outputId": "d8ec6b12-3773-4ab2-d673-9fa292a7237b"
      },
      "outputs": [
        {
          "data": {
            "text/plain": [
              "0         21857.0000\n",
              "1         17836.0000\n",
              "2         16161.0000\n",
              "3         15432.0000\n",
              "4         13870.0000\n",
              "             ...    \n",
              "158561       14.1443\n",
              "158562       14.1443\n",
              "158563       14.1443\n",
              "158564       14.1443\n",
              "158565       14.1443\n",
              "Name: vote_count, Length: 158566, dtype: float64"
            ]
          },
          "execution_count": 41,
          "metadata": {},
          "output_type": "execute_result"
        }
      ],
      "source": [
        "#  или заменить 0 на среднее значение от всего столбца\n",
        "df['vote_count'].replace(0,  df['vote_count'].mean())"
      ]
    },
    {
      "cell_type": "markdown",
      "id": "a7460ab2-3f17-4141-81c4-83909abbea1f",
      "metadata": {
        "id": "a7460ab2-3f17-4141-81c4-83909abbea1f"
      },
      "source": [
        "Типы столбцов можно менять"
      ]
    },
    {
      "cell_type": "code",
      "execution_count": null,
      "id": "56b1d227-0009-44e0-89ce-122eedeb2fe2",
      "metadata": {
        "tags": [],
        "id": "56b1d227-0009-44e0-89ce-122eedeb2fe2",
        "outputId": "557bf03c-9a6c-4283-8510-e79e22cbba60"
      },
      "outputs": [
        {
          "data": {
            "text/plain": [
              "0         21857.0\n",
              "1         17836.0\n",
              "2         16161.0\n",
              "3         15432.0\n",
              "4         13870.0\n",
              "           ...   \n",
              "158561        0.0\n",
              "158562        0.0\n",
              "158563        0.0\n",
              "158564        0.0\n",
              "158565        0.0\n",
              "Name: vote_count, Length: 158566, dtype: float64"
            ]
          },
          "execution_count": 42,
          "metadata": {},
          "output_type": "execute_result"
        }
      ],
      "source": [
        "#  давайте заменим int на float\n",
        "df['vote_count'].astype('float')"
      ]
    },
    {
      "cell_type": "code",
      "execution_count": null,
      "id": "4c915a6e-58fa-475c-974a-57874e0ee16f",
      "metadata": {
        "scrolled": true,
        "tags": [],
        "id": "4c915a6e-58fa-475c-974a-57874e0ee16f",
        "outputId": "0b15a527-fd8b-40f9-c4ea-79d094adcbee"
      },
      "outputs": [
        {
          "data": {
            "text/plain": [
              "0         8\n",
              "1         8\n",
              "2         8\n",
              "3         8\n",
              "4         8\n",
              "         ..\n",
              "158561    0\n",
              "158562    0\n",
              "158563    0\n",
              "158564    0\n",
              "158565    0\n",
              "Name: vote_average, Length: 158566, dtype: int64"
            ]
          },
          "execution_count": 43,
          "metadata": {},
          "output_type": "execute_result"
        }
      ],
      "source": [
        "#  а теперь float  на int\n",
        "df['vote_average'].astype('int')"
      ]
    },
    {
      "cell_type": "code",
      "execution_count": null,
      "id": "7bd3156e-0e72-47c3-a946-b31cb3f368d5",
      "metadata": {
        "id": "7bd3156e-0e72-47c3-a946-b31cb3f368d5",
        "outputId": "4734510f-1405-4d7b-f2ed-d18542dba4ba"
      },
      "outputs": [
        {
          "data": {
            "text/plain": [
              "0         21857\n",
              "1         17836\n",
              "2         16161\n",
              "3         15432\n",
              "4         13870\n",
              "          ...  \n",
              "158561        0\n",
              "158562        0\n",
              "158563        0\n",
              "158564        0\n",
              "158565        0\n",
              "Name: str_vote_count, Length: 158566, dtype: object"
            ]
          },
          "execution_count": 44,
          "metadata": {},
          "output_type": "execute_result"
        }
      ],
      "source": [
        "# а теперь сделаем все числа строками, то есть приведем к типу str\n",
        "df['str_vote_count'] = df['vote_count'].astype(\"str\")\n",
        "df['str_vote_count']"
      ]
    },
    {
      "cell_type": "code",
      "execution_count": null,
      "id": "e927b926-faab-4e2c-8e3c-83dfe0320500",
      "metadata": {
        "tags": [],
        "id": "e927b926-faab-4e2c-8e3c-83dfe0320500"
      },
      "outputs": [],
      "source": [
        "df['str_vote_count'][0]"
      ]
    },
    {
      "cell_type": "code",
      "execution_count": null,
      "id": "ed7371fe-7f85-4d3e-8ea7-c7acf6e98302",
      "metadata": {
        "id": "ed7371fe-7f85-4d3e-8ea7-c7acf6e98302",
        "outputId": "e77a893b-149f-43e0-867a-4e5aef5f025a"
      },
      "outputs": [
        {
          "data": {
            "text/plain": [
              "2185700"
            ]
          },
          "execution_count": 48,
          "metadata": {},
          "output_type": "execute_result"
        }
      ],
      "source": [
        "# переведм строку обратно в число и умножим первый элемент на 100\n",
        "df['str_vote_count'].astype('int')[0]*100"
      ]
    },
    {
      "cell_type": "markdown",
      "id": "7ca693e9-f7cb-4a3c-89dd-122cac86554a",
      "metadata": {
        "id": "7ca693e9-f7cb-4a3c-89dd-122cac86554a"
      },
      "source": [
        "## Строки"
      ]
    },
    {
      "cell_type": "markdown",
      "id": "a0ae462c-06c7-43d6-8f49-c4b933529f35",
      "metadata": {
        "id": "a0ae462c-06c7-43d6-8f49-c4b933529f35"
      },
      "source": [
        "Теперь научимся работать со строками."
      ]
    },
    {
      "cell_type": "code",
      "execution_count": null,
      "id": "b5d1b718-d12d-48da-b198-f66334e2d5d2",
      "metadata": {
        "tags": [],
        "id": "b5d1b718-d12d-48da-b198-f66334e2d5d2",
        "outputId": "5900ccee-5746-4c48-cafe-4b6e26b323e0"
      },
      "outputs": [
        {
          "data": {
            "text/plain": [
              "0              Game of Thrones\n",
              "1                  Money Heist\n",
              "2              Stranger Things\n",
              "3             The Walking Dead\n",
              "4                      Lucifer\n",
              "                  ...         \n",
              "158561                天罚-二战全纪实\n",
              "158562                   我们这一摊\n",
              "158563                 山里来了熊孩子\n",
              "158564      开心超人联盟之勇敢之城1——棋兽传奇\n",
              "158565    Anhoniyon Ka Andhera\n",
              "Name: name, Length: 158566, dtype: object"
            ]
          },
          "execution_count": 49,
          "metadata": {},
          "output_type": "execute_result"
        }
      ],
      "source": [
        "# выведем столбец\n",
        "df['name']"
      ]
    },
    {
      "cell_type": "code",
      "execution_count": null,
      "id": "136a3b9d-5624-4fda-84f4-4c18326dad50",
      "metadata": {
        "tags": [],
        "id": "136a3b9d-5624-4fda-84f4-4c18326dad50",
        "outputId": "463399ed-ab1e-4cec-9a81-13279c64cbd3"
      },
      "outputs": [
        {
          "data": {
            "text/plain": [
              "0              Game of Thrones_test\n",
              "1                  Money Heist_test\n",
              "2              Stranger Things_test\n",
              "3             The Walking Dead_test\n",
              "4                      Lucifer_test\n",
              "                    ...            \n",
              "158561                天罚-二战全纪实_test\n",
              "158562                   我们这一摊_test\n",
              "158563                 山里来了熊孩子_test\n",
              "158564      开心超人联盟之勇敢之城1——棋兽传奇_test\n",
              "158565    Anhoniyon Ka Andhera_test\n",
              "Name: name, Length: 158566, dtype: object"
            ]
          },
          "execution_count": 50,
          "metadata": {},
          "output_type": "execute_result"
        }
      ],
      "source": [
        "#  ко всем данным можно прбавить другую строку\n",
        "df['name'] + \"_test\""
      ]
    },
    {
      "cell_type": "code",
      "execution_count": null,
      "id": "5c63a1c6-99b5-498e-95f1-83c308d2e5af",
      "metadata": {
        "scrolled": true,
        "tags": [],
        "id": "5c63a1c6-99b5-498e-95f1-83c308d2e5af",
        "outputId": "91c39375-d275-4c96-cb6d-19b2869bb59b"
      },
      "outputs": [
        {
          "ename": "TypeError",
          "evalue": "unsupported operand type(s) for -: 'str' and 'str'",
          "output_type": "error",
          "traceback": [
            "\u001b[0;31m---------------------------------------------------------------------------\u001b[0m",
            "\u001b[0;31mTypeError\u001b[0m                                 Traceback (most recent call last)",
            "File \u001b[0;32m~/anaconda3/lib/python3.11/site-packages/pandas/core/ops/array_ops.py:165\u001b[0m, in \u001b[0;36m_na_arithmetic_op\u001b[0;34m(left, right, op, is_cmp)\u001b[0m\n\u001b[1;32m    164\u001b[0m \u001b[38;5;28;01mtry\u001b[39;00m:\n\u001b[0;32m--> 165\u001b[0m     result \u001b[38;5;241m=\u001b[39m func(left, right)\n\u001b[1;32m    166\u001b[0m \u001b[38;5;28;01mexcept\u001b[39;00m \u001b[38;5;167;01mTypeError\u001b[39;00m:\n",
            "\u001b[0;31mTypeError\u001b[0m: unsupported operand type(s) for -: 'str' and 'str'",
            "\nDuring handling of the above exception, another exception occurred:\n",
            "\u001b[0;31mTypeError\u001b[0m                                 Traceback (most recent call last)",
            "Cell \u001b[0;32mIn[51], line 1\u001b[0m\n\u001b[0;32m----> 1\u001b[0m df[\u001b[38;5;124m'\u001b[39m\u001b[38;5;124mname\u001b[39m\u001b[38;5;124m'\u001b[39m] \u001b[38;5;241m-\u001b[39m \u001b[38;5;124m\"\u001b[39m\u001b[38;5;124mGame\u001b[39m\u001b[38;5;124m\"\u001b[39m\n",
            "File \u001b[0;32m~/anaconda3/lib/python3.11/site-packages/pandas/core/ops/common.py:72\u001b[0m, in \u001b[0;36m_unpack_zerodim_and_defer.<locals>.new_method\u001b[0;34m(self, other)\u001b[0m\n\u001b[1;32m     68\u001b[0m             \u001b[38;5;28;01mreturn\u001b[39;00m \u001b[38;5;28mNotImplemented\u001b[39m\n\u001b[1;32m     70\u001b[0m other \u001b[38;5;241m=\u001b[39m item_from_zerodim(other)\n\u001b[0;32m---> 72\u001b[0m \u001b[38;5;28;01mreturn\u001b[39;00m method(\u001b[38;5;28mself\u001b[39m, other)\n",
            "File \u001b[0;32m~/anaconda3/lib/python3.11/site-packages/pandas/core/arraylike.py:110\u001b[0m, in \u001b[0;36mOpsMixin.__sub__\u001b[0;34m(self, other)\u001b[0m\n\u001b[1;32m    108\u001b[0m \u001b[38;5;129m@unpack_zerodim_and_defer\u001b[39m(\u001b[38;5;124m\"\u001b[39m\u001b[38;5;124m__sub__\u001b[39m\u001b[38;5;124m\"\u001b[39m)\n\u001b[1;32m    109\u001b[0m \u001b[38;5;28;01mdef\u001b[39;00m \u001b[38;5;21m__sub__\u001b[39m(\u001b[38;5;28mself\u001b[39m, other):\n\u001b[0;32m--> 110\u001b[0m     \u001b[38;5;28;01mreturn\u001b[39;00m \u001b[38;5;28mself\u001b[39m\u001b[38;5;241m.\u001b[39m_arith_method(other, operator\u001b[38;5;241m.\u001b[39msub)\n",
            "File \u001b[0;32m~/anaconda3/lib/python3.11/site-packages/pandas/core/series.py:6259\u001b[0m, in \u001b[0;36mSeries._arith_method\u001b[0;34m(self, other, op)\u001b[0m\n\u001b[1;32m   6257\u001b[0m \u001b[38;5;28;01mdef\u001b[39;00m \u001b[38;5;21m_arith_method\u001b[39m(\u001b[38;5;28mself\u001b[39m, other, op):\n\u001b[1;32m   6258\u001b[0m     \u001b[38;5;28mself\u001b[39m, other \u001b[38;5;241m=\u001b[39m ops\u001b[38;5;241m.\u001b[39malign_method_SERIES(\u001b[38;5;28mself\u001b[39m, other)\n\u001b[0;32m-> 6259\u001b[0m     \u001b[38;5;28;01mreturn\u001b[39;00m base\u001b[38;5;241m.\u001b[39mIndexOpsMixin\u001b[38;5;241m.\u001b[39m_arith_method(\u001b[38;5;28mself\u001b[39m, other, op)\n",
            "File \u001b[0;32m~/anaconda3/lib/python3.11/site-packages/pandas/core/base.py:1325\u001b[0m, in \u001b[0;36mIndexOpsMixin._arith_method\u001b[0;34m(self, other, op)\u001b[0m\n\u001b[1;32m   1322\u001b[0m rvalues \u001b[38;5;241m=\u001b[39m ensure_wrapped_if_datetimelike(rvalues)\n\u001b[1;32m   1324\u001b[0m \u001b[38;5;28;01mwith\u001b[39;00m np\u001b[38;5;241m.\u001b[39merrstate(\u001b[38;5;28mall\u001b[39m\u001b[38;5;241m=\u001b[39m\u001b[38;5;124m\"\u001b[39m\u001b[38;5;124mignore\u001b[39m\u001b[38;5;124m\"\u001b[39m):\n\u001b[0;32m-> 1325\u001b[0m     result \u001b[38;5;241m=\u001b[39m ops\u001b[38;5;241m.\u001b[39marithmetic_op(lvalues, rvalues, op)\n\u001b[1;32m   1327\u001b[0m \u001b[38;5;28;01mreturn\u001b[39;00m \u001b[38;5;28mself\u001b[39m\u001b[38;5;241m.\u001b[39m_construct_result(result, name\u001b[38;5;241m=\u001b[39mres_name)\n",
            "File \u001b[0;32m~/anaconda3/lib/python3.11/site-packages/pandas/core/ops/array_ops.py:226\u001b[0m, in \u001b[0;36marithmetic_op\u001b[0;34m(left, right, op)\u001b[0m\n\u001b[1;32m    222\u001b[0m     _bool_arith_check(op, left, right)\n\u001b[1;32m    224\u001b[0m     \u001b[38;5;66;03m# error: Argument 1 to \"_na_arithmetic_op\" has incompatible type\u001b[39;00m\n\u001b[1;32m    225\u001b[0m     \u001b[38;5;66;03m# \"Union[ExtensionArray, ndarray[Any, Any]]\"; expected \"ndarray[Any, Any]\"\u001b[39;00m\n\u001b[0;32m--> 226\u001b[0m     res_values \u001b[38;5;241m=\u001b[39m _na_arithmetic_op(left, right, op)  \u001b[38;5;66;03m# type: ignore[arg-type]\u001b[39;00m\n\u001b[1;32m    228\u001b[0m \u001b[38;5;28;01mreturn\u001b[39;00m res_values\n",
            "File \u001b[0;32m~/anaconda3/lib/python3.11/site-packages/pandas/core/ops/array_ops.py:172\u001b[0m, in \u001b[0;36m_na_arithmetic_op\u001b[0;34m(left, right, op, is_cmp)\u001b[0m\n\u001b[1;32m    166\u001b[0m \u001b[38;5;28;01mexcept\u001b[39;00m \u001b[38;5;167;01mTypeError\u001b[39;00m:\n\u001b[1;32m    167\u001b[0m     \u001b[38;5;28;01mif\u001b[39;00m \u001b[38;5;129;01mnot\u001b[39;00m is_cmp \u001b[38;5;129;01mand\u001b[39;00m (is_object_dtype(left\u001b[38;5;241m.\u001b[39mdtype) \u001b[38;5;129;01mor\u001b[39;00m is_object_dtype(right)):\n\u001b[1;32m    168\u001b[0m         \u001b[38;5;66;03m# For object dtype, fallback to a masked operation (only operating\u001b[39;00m\n\u001b[1;32m    169\u001b[0m         \u001b[38;5;66;03m#  on the non-missing values)\u001b[39;00m\n\u001b[1;32m    170\u001b[0m         \u001b[38;5;66;03m# Don't do this for comparisons, as that will handle complex numbers\u001b[39;00m\n\u001b[1;32m    171\u001b[0m         \u001b[38;5;66;03m#  incorrectly, see GH#32047\u001b[39;00m\n\u001b[0;32m--> 172\u001b[0m         result \u001b[38;5;241m=\u001b[39m _masked_arith_op(left, right, op)\n\u001b[1;32m    173\u001b[0m     \u001b[38;5;28;01melse\u001b[39;00m:\n\u001b[1;32m    174\u001b[0m         \u001b[38;5;28;01mraise\u001b[39;00m\n",
            "File \u001b[0;32m~/anaconda3/lib/python3.11/site-packages/pandas/core/ops/array_ops.py:129\u001b[0m, in \u001b[0;36m_masked_arith_op\u001b[0;34m(x, y, op)\u001b[0m\n\u001b[1;32m    126\u001b[0m         mask \u001b[38;5;241m=\u001b[39m np\u001b[38;5;241m.\u001b[39mwhere(y \u001b[38;5;241m==\u001b[39m \u001b[38;5;241m1\u001b[39m, \u001b[38;5;28;01mFalse\u001b[39;00m, mask)\n\u001b[1;32m    128\u001b[0m     \u001b[38;5;28;01mif\u001b[39;00m mask\u001b[38;5;241m.\u001b[39many():\n\u001b[0;32m--> 129\u001b[0m         result[mask] \u001b[38;5;241m=\u001b[39m op(xrav[mask], y)\n\u001b[1;32m    131\u001b[0m np\u001b[38;5;241m.\u001b[39mputmask(result, \u001b[38;5;241m~\u001b[39mmask, np\u001b[38;5;241m.\u001b[39mnan)\n\u001b[1;32m    132\u001b[0m result \u001b[38;5;241m=\u001b[39m result\u001b[38;5;241m.\u001b[39mreshape(x\u001b[38;5;241m.\u001b[39mshape)  \u001b[38;5;66;03m# 2D compat\u001b[39;00m\n",
            "\u001b[0;31mTypeError\u001b[0m: unsupported operand type(s) for -: 'str' and 'str'"
          ]
        }
      ],
      "source": [
        "#  а вот вычесть нельзя\n",
        "df['name'] - \"Game\""
      ]
    },
    {
      "cell_type": "code",
      "execution_count": null,
      "id": "c5f3fb2f-3969-4130-a8bb-cf749158cf43",
      "metadata": {
        "scrolled": true,
        "tags": [],
        "id": "c5f3fb2f-3969-4130-a8bb-cf749158cf43",
        "outputId": "e77533c7-19db-4dfb-c2e9-a03a68215f02"
      },
      "outputs": [
        {
          "data": {
            "text/plain": [
              "0              Game of Thrones\n",
              "1                  Money Heist\n",
              "2              Stranger Things\n",
              "3             The Walking Dead\n",
              "4                      Lucifer\n",
              "                  ...         \n",
              "158561                天罚-二战全纪实\n",
              "158562                   我们这一摊\n",
              "158563                 山里来了熊孩子\n",
              "158564      开心超人联盟之勇敢之城1——棋兽传奇\n",
              "158565    Anhoniyon Ka Andhera\n",
              "Name: name, Length: 158566, dtype: object"
            ]
          },
          "execution_count": 53,
          "metadata": {},
          "output_type": "execute_result"
        }
      ],
      "source": [
        "#  если мы хотим заменить слово внутри всех строк, то так делать не правльно\n",
        "df['name'].replace(\"Game\", \"test\")"
      ]
    },
    {
      "cell_type": "code",
      "execution_count": null,
      "id": "c12d0ff4-524b-42e8-bd40-ae5f1ac14163",
      "metadata": {
        "scrolled": true,
        "tags": [],
        "id": "c12d0ff4-524b-42e8-bd40-ae5f1ac14163",
        "outputId": "bdb37362-500d-46d3-c732-d217defb925f"
      },
      "outputs": [
        {
          "data": {
            "text/plain": [
              "0              test of Thrones\n",
              "1                  Money Heist\n",
              "2              Stranger Things\n",
              "3             The Walking Dead\n",
              "4                      Lucifer\n",
              "                  ...         \n",
              "158561                天罚-二战全纪实\n",
              "158562                   我们这一摊\n",
              "158563                 山里来了熊孩子\n",
              "158564      开心超人联盟之勇敢之城1——棋兽传奇\n",
              "158565    Anhoniyon Ka Andhera\n",
              "Name: name, Length: 158566, dtype: object"
            ]
          },
          "execution_count": 55,
          "metadata": {},
          "output_type": "execute_result"
        }
      ],
      "source": [
        "# правильно делать вот так, через .str\n",
        "df['name'].str.replace(\"Game\", \"test\")"
      ]
    },
    {
      "cell_type": "markdown",
      "id": "35f54831-acb9-456f-bd0e-b1ef1912d6a8",
      "metadata": {
        "id": "35f54831-acb9-456f-bd0e-b1ef1912d6a8"
      },
      "source": [
        "## Булевы данные"
      ]
    },
    {
      "cell_type": "markdown",
      "id": "0e16e3f3-8bd5-4ee4-b3bc-e83d5bf4dc01",
      "metadata": {
        "id": "0e16e3f3-8bd5-4ee4-b3bc-e83d5bf4dc01"
      },
      "source": [
        "Научимся работать с логическими данными."
      ]
    },
    {
      "cell_type": "code",
      "execution_count": null,
      "id": "42640fff-8f67-4249-a6bd-f587da9b4e6a",
      "metadata": {
        "tags": [],
        "id": "42640fff-8f67-4249-a6bd-f587da9b4e6a",
        "outputId": "b81032d7-3069-4a1c-8f5d-68a959f33e1a"
      },
      "outputs": [
        {
          "data": {
            "text/plain": [
              "0         False\n",
              "1         False\n",
              "2         False\n",
              "3         False\n",
              "4         False\n",
              "          ...  \n",
              "158561    False\n",
              "158562    False\n",
              "158563    False\n",
              "158564    False\n",
              "158565    False\n",
              "Name: adult, Length: 158566, dtype: bool"
            ]
          },
          "execution_count": 56,
          "metadata": {},
          "output_type": "execute_result"
        }
      ],
      "source": [
        "df['adult']"
      ]
    },
    {
      "cell_type": "code",
      "execution_count": null,
      "id": "6a7b115e-5ed7-4c18-a71e-ea6b5b21ec8a",
      "metadata": {
        "tags": [],
        "id": "6a7b115e-5ed7-4c18-a71e-ea6b5b21ec8a",
        "outputId": "ed953a02-e9ed-4679-f4fc-3eb15ffdadfe"
      },
      "outputs": [
        {
          "data": {
            "text/plain": [
              "0         2\n",
              "1         2\n",
              "2         2\n",
              "3         2\n",
              "4         2\n",
              "         ..\n",
              "158561    2\n",
              "158562    2\n",
              "158563    2\n",
              "158564    2\n",
              "158565    2\n",
              "Name: adult, Length: 158566, dtype: int64"
            ]
          },
          "execution_count": 57,
          "metadata": {},
          "output_type": "execute_result"
        }
      ],
      "source": [
        "# на уровне питона True равен единице. поэтому при желании с булевым столбцом можно провдить базовые операции\n",
        "df['adult']+1 *2"
      ]
    },
    {
      "cell_type": "code",
      "execution_count": null,
      "id": "0c6ce168-a6ff-40a1-af35-53bd4e56ff71",
      "metadata": {
        "tags": [],
        "id": "0c6ce168-a6ff-40a1-af35-53bd4e56ff71",
        "outputId": "8fc5fd36-43d2-45cb-a85e-b8421a5ee4db"
      },
      "outputs": [
        {
          "data": {
            "text/plain": [
              "1938"
            ]
          },
          "execution_count": 60,
          "metadata": {},
          "output_type": "execute_result"
        }
      ],
      "source": [
        "# или проссумировать все True в столбце\n",
        "df['adult'].sum()"
      ]
    },
    {
      "cell_type": "markdown",
      "id": "1b80f4c0-ea2d-49d1-a335-d8d1421c7e2d",
      "metadata": {
        "id": "1b80f4c0-ea2d-49d1-a335-d8d1421c7e2d"
      },
      "source": [
        "1938 раз встречается True в столбце adult - это значит что в данных встречается 1938 фильмов для взрослых."
      ]
    },
    {
      "cell_type": "markdown",
      "id": "a54eb6d8-0162-46f8-a1dc-7bde05e18008",
      "metadata": {
        "id": "a54eb6d8-0162-46f8-a1dc-7bde05e18008"
      },
      "source": [
        "## Дата и время"
      ]
    },
    {
      "cell_type": "markdown",
      "id": "65dc1422-6b6e-4f97-9c97-3625d26bd7ea",
      "metadata": {
        "id": "65dc1422-6b6e-4f97-9c97-3625d26bd7ea"
      },
      "source": [
        "Научимся работать с датой и временем."
      ]
    },
    {
      "cell_type": "code",
      "execution_count": null,
      "id": "37058fad-34d3-4b72-bbe5-9df09fd7655e",
      "metadata": {
        "scrolled": true,
        "tags": [],
        "id": "37058fad-34d3-4b72-bbe5-9df09fd7655e",
        "outputId": "d5b3e546-a7d9-487f-9c2b-73f9382f9d87"
      },
      "outputs": [
        {
          "name": "stdout",
          "output_type": "stream",
          "text": [
            "<class 'pandas.core.frame.DataFrame'>\n",
            "RangeIndex: 158566 entries, 0 to 158565\n",
            "Data columns (total 33 columns):\n",
            " #   Column                Non-Null Count   Dtype  \n",
            "---  ------                --------------   -----  \n",
            " 0   id                    158566 non-null  int64  \n",
            " 1   name                  158561 non-null  object \n",
            " 2   number_of_seasons     158566 non-null  int64  \n",
            " 3   number_of_episodes    158566 non-null  int64  \n",
            " 4   original_language     158566 non-null  object \n",
            " 5   vote_count            158566 non-null  int64  \n",
            " 6   vote_average          158566 non-null  float64\n",
            " 7   overview              89357 non-null   object \n",
            " 8   adult                 158566 non-null  bool   \n",
            " 9   backdrop_path         74263 non-null   object \n",
            " 10  first_air_date        128542 non-null  object \n",
            " 11  last_air_date         130608 non-null  object \n",
            " 12  homepage              49380 non-null   object \n",
            " 13  in_production         158566 non-null  bool   \n",
            " 14  original_name         158561 non-null  object \n",
            " 15  popularity            158566 non-null  float64\n",
            " 16  poster_path           102277 non-null  object \n",
            " 17  type                  158566 non-null  object \n",
            " 18  status                158566 non-null  object \n",
            " 19  tagline               5211 non-null    object \n",
            " 20  genres                94479 non-null   object \n",
            " 21  created_by            34840 non-null   object \n",
            " 22  languages             104964 non-null  object \n",
            " 23  networks              93978 non-null   object \n",
            " 24  origin_country        127552 non-null  object \n",
            " 25  spoken_languages      104256 non-null  object \n",
            " 26  production_companies  56595 non-null   object \n",
            " 27  production_countries  73556 non-null   object \n",
            " 28  episode_run_time      158566 non-null  int64  \n",
            " 29  test_result           158566 non-null  int64  \n",
            " 30  test                  158566 non-null  float64\n",
            " 31  test 56               158566 non-null  float64\n",
            " 32  str_vote_count        158566 non-null  object \n",
            "dtypes: bool(2), float64(4), int64(6), object(21)\n",
            "memory usage: 37.8+ MB\n"
          ]
        }
      ],
      "source": [
        "df.info()"
      ]
    },
    {
      "cell_type": "markdown",
      "id": "475b70e5-63ab-4fe9-9281-cb7b4fabdd49",
      "metadata": {
        "id": "475b70e5-63ab-4fe9-9281-cb7b4fabdd49"
      },
      "source": [
        "Датой явно являются столбцы first_air_date и last_air_date, однако они имеют тип object, а не datetime -  такое бывает при чтениии данных."
      ]
    },
    {
      "cell_type": "code",
      "execution_count": null,
      "id": "26509735-e759-41a6-afda-a08c3f904d46",
      "metadata": {
        "tags": [],
        "id": "26509735-e759-41a6-afda-a08c3f904d46",
        "outputId": "464ce0d3-8b56-4007-dfce-04a2c61e66ea"
      },
      "outputs": [
        {
          "data": {
            "text/plain": [
              "0         2011-04-17\n",
              "1         2017-05-02\n",
              "2         2016-07-15\n",
              "3         2010-10-31\n",
              "4         2016-01-25\n",
              "             ...    \n",
              "158561    2015-01-01\n",
              "158562    2023-09-02\n",
              "158563    2023-09-16\n",
              "158564    2023-09-26\n",
              "158565           NaN\n",
              "Name: first_air_date, Length: 158566, dtype: object"
            ]
          },
          "execution_count": 62,
          "metadata": {},
          "output_type": "execute_result"
        }
      ],
      "source": [
        "df['first_air_date']"
      ]
    },
    {
      "cell_type": "code",
      "execution_count": null,
      "id": "7c6f8ca3-55dc-4537-b0d7-c8a71c48b7cf",
      "metadata": {
        "tags": [],
        "id": "7c6f8ca3-55dc-4537-b0d7-c8a71c48b7cf",
        "outputId": "b578dd5c-dddb-452c-e6d5-a9067b7b8179"
      },
      "outputs": [
        {
          "data": {
            "text/plain": [
              "'2011-04-17'"
            ]
          },
          "execution_count": 63,
          "metadata": {},
          "output_type": "execute_result"
        }
      ],
      "source": [
        "# первый элемент в столбце является строкой\n",
        "df['first_air_date'][0]"
      ]
    },
    {
      "cell_type": "markdown",
      "id": "70f8847e-fb5f-4bcc-abf2-c7cf600bddd4",
      "metadata": {
        "id": "70f8847e-fb5f-4bcc-abf2-c7cf600bddd4"
      },
      "source": [
        "Чтобы изменить тип, применяется метод to_datetime и указывется нужный нам формат по следующим правилам."
      ]
    },
    {
      "cell_type": "markdown",
      "id": "820ffb4e-219f-4771-84d2-7481a4135a9d",
      "metadata": {
        "id": "820ffb4e-219f-4771-84d2-7481a4135a9d"
      },
      "source": [
        "* %d — день месяца (от 01 до 31)\n",
        "* %m — номер месяца (от 01 до 12)\n",
        "* %Y — четырёхзначный номер года (например, 2019)\n",
        "* Z — стандартный разделитель даты и времени\n",
        "* T — стандартный разделитель даты и времени\n",
        "* %H — номер часа в 24-часовом формате\n",
        "* %I — номер часа в 12-часовом формате\n",
        "* %M — минуты (от 00 до 59)\n",
        "* %S — секунды (от 00 до 59)  \n",
        "\n",
        "Пример:\n",
        "\"01.04.2019Z11:03:00\"  \n",
        "%d.%m.%YZ%H:%M:%S\n",
        "\n",
        "В нашем случае '2011-04-17' == '%Y-%m-%d'"
      ]
    },
    {
      "cell_type": "code",
      "execution_count": null,
      "id": "53bc3426-6eeb-47ba-93ed-ff8949cc2872",
      "metadata": {
        "tags": [],
        "id": "53bc3426-6eeb-47ba-93ed-ff8949cc2872",
        "outputId": "0f9194a7-7ef7-41dd-c083-67fa724e640e"
      },
      "outputs": [
        {
          "data": {
            "text/plain": [
              "0        2011-04-17\n",
              "1        2017-05-02\n",
              "2        2016-07-15\n",
              "3        2010-10-31\n",
              "4        2016-01-25\n",
              "            ...    \n",
              "158561   2015-01-01\n",
              "158562   2023-09-02\n",
              "158563   2023-09-16\n",
              "158564   2023-09-26\n",
              "158565          NaT\n",
              "Name: first_air_date, Length: 158566, dtype: datetime64[ns]"
            ]
          },
          "execution_count": 65,
          "metadata": {},
          "output_type": "execute_result"
        }
      ],
      "source": [
        "# изменим тип данных\n",
        "pd.to_datetime(df['first_air_date'], format='%Y-%m-%d')"
      ]
    },
    {
      "cell_type": "markdown",
      "id": "75d97878-d250-4eab-b9f2-f3218fb98fe2",
      "metadata": {
        "id": "75d97878-d250-4eab-b9f2-f3218fb98fe2"
      },
      "source": [
        "Обратите внимание, что nan отобразился в NaT (not a time)."
      ]
    },
    {
      "cell_type": "markdown",
      "id": "aac231c6-f906-4a2b-ae97-0f269d7abd1e",
      "metadata": {
        "id": "aac231c6-f906-4a2b-ae97-0f269d7abd1e"
      },
      "source": [
        "Так же, как и вслуче выполнения математичсеких операций, все наши вычисления никуда не сохраняются, пока мы явно не укажем знак присвоения."
      ]
    },
    {
      "cell_type": "code",
      "execution_count": null,
      "id": "803b87d6-f7da-45fc-ac5c-fe9ff840a94a",
      "metadata": {
        "tags": [],
        "id": "803b87d6-f7da-45fc-ac5c-fe9ff840a94a"
      },
      "outputs": [],
      "source": [
        "# измением тип данных и перезапишем столбец\n",
        "df['first_air_date_dt'] = pd.to_datetime(df['first_air_date'], format='%Y-%m-%d')"
      ]
    },
    {
      "cell_type": "code",
      "execution_count": null,
      "id": "f11e54db-ef42-4443-9d19-ffd33ed18e3b",
      "metadata": {
        "tags": [],
        "id": "f11e54db-ef42-4443-9d19-ffd33ed18e3b",
        "outputId": "40c2dd68-e106-4a0d-e2b2-ff0689f50b19"
      },
      "outputs": [
        {
          "data": {
            "text/plain": [
              "0        2011-04-17\n",
              "1        2017-05-02\n",
              "2        2016-07-15\n",
              "3        2010-10-31\n",
              "4        2016-01-25\n",
              "            ...    \n",
              "158561   2015-01-01\n",
              "158562   2023-09-02\n",
              "158563   2023-09-16\n",
              "158564   2023-09-26\n",
              "158565          NaT\n",
              "Name: first_air_date_dt, Length: 158566, dtype: datetime64[ns]"
            ]
          },
          "execution_count": 67,
          "metadata": {},
          "output_type": "execute_result"
        }
      ],
      "source": [
        "df['first_air_date_dt']"
      ]
    },
    {
      "cell_type": "markdown",
      "id": "d0e26044-a082-436b-b256-533814beb27b",
      "metadata": {
        "id": "d0e26044-a082-436b-b256-533814beb27b"
      },
      "source": [
        "Теперь столбец не строковый, а datetime64 - с ним можно делать ряд операций."
      ]
    },
    {
      "cell_type": "code",
      "execution_count": null,
      "id": "1f054a41-ed2b-4c36-a276-05d27b3d1093",
      "metadata": {
        "tags": [],
        "id": "1f054a41-ed2b-4c36-a276-05d27b3d1093",
        "outputId": "3199ef01-a8d7-4163-ab2e-6aac594a4842"
      },
      "outputs": [
        {
          "data": {
            "text/plain": [
              "0         2011.0\n",
              "1         2017.0\n",
              "2         2016.0\n",
              "3         2010.0\n",
              "4         2016.0\n",
              "           ...  \n",
              "158561    2015.0\n",
              "158562    2023.0\n",
              "158563    2023.0\n",
              "158564    2023.0\n",
              "158565       NaN\n",
              "Name: first_air_date_dt, Length: 158566, dtype: float64"
            ]
          },
          "execution_count": 70,
          "metadata": {},
          "output_type": "execute_result"
        }
      ],
      "source": [
        "# наприер достать только год, не забыв указать .dt\n",
        "df['first_air_date_dt'].dt.year"
      ]
    },
    {
      "cell_type": "code",
      "execution_count": null,
      "id": "6d15e4c9-2b7f-421d-b3a2-2822b768d239",
      "metadata": {
        "tags": [],
        "id": "6d15e4c9-2b7f-421d-b3a2-2822b768d239",
        "outputId": "3e297027-5b46-4d64-f05f-363b199303aa"
      },
      "outputs": [
        {
          "data": {
            "text/plain": [
              "0          4.0\n",
              "1          5.0\n",
              "2          7.0\n",
              "3         10.0\n",
              "4          1.0\n",
              "          ... \n",
              "158561     1.0\n",
              "158562     9.0\n",
              "158563     9.0\n",
              "158564     9.0\n",
              "158565     NaN\n",
              "Name: first_air_date_dt, Length: 158566, dtype: float64"
            ]
          },
          "execution_count": 71,
          "metadata": {},
          "output_type": "execute_result"
        }
      ],
      "source": [
        "#  или только месяц\n",
        "df['first_air_date_dt'].dt.month"
      ]
    },
    {
      "cell_type": "code",
      "execution_count": null,
      "id": "53597d3f-71cd-4b95-a2ef-48fdec21091a",
      "metadata": {
        "tags": [],
        "id": "53597d3f-71cd-4b95-a2ef-48fdec21091a",
        "outputId": "acb8afcd-9f1e-4211-d4b4-a4a4dce6e98d"
      },
      "outputs": [
        {
          "data": {
            "text/plain": [
              "0         17.0\n",
              "1          2.0\n",
              "2         15.0\n",
              "3         31.0\n",
              "4         25.0\n",
              "          ... \n",
              "158561     1.0\n",
              "158562     2.0\n",
              "158563    16.0\n",
              "158564    26.0\n",
              "158565     NaN\n",
              "Name: first_air_date_dt, Length: 158566, dtype: float64"
            ]
          },
          "execution_count": 72,
          "metadata": {},
          "output_type": "execute_result"
        }
      ],
      "source": [
        "#  или только день\n",
        "df['first_air_date_dt'].dt.day"
      ]
    },
    {
      "cell_type": "markdown",
      "id": "ab906e22-b373-4e41-9b15-2a345fd93d94",
      "metadata": {
        "id": "ab906e22-b373-4e41-9b15-2a345fd93d94"
      },
      "source": [
        "Данные можно не только извлечь, но и усечь."
      ]
    },
    {
      "cell_type": "code",
      "execution_count": null,
      "id": "a465e887-5022-4aff-8b50-1be013fc3069",
      "metadata": {
        "tags": [],
        "id": "a465e887-5022-4aff-8b50-1be013fc3069"
      },
      "outputs": [],
      "source": [
        "# усечь до месяца\n",
        "df['first_air_date_dt'].dt.to_period('M')"
      ]
    },
    {
      "cell_type": "code",
      "execution_count": null,
      "id": "ae85ec8c-29bf-4aa1-9aaf-1ca93b7a1a10",
      "metadata": {
        "tags": [],
        "id": "ae85ec8c-29bf-4aa1-9aaf-1ca93b7a1a10",
        "outputId": "3f65385f-9bfe-4838-b37c-c0a8fba284bd"
      },
      "outputs": [
        {
          "data": {
            "text/plain": [
              "0         2011\n",
              "1         2017\n",
              "2         2016\n",
              "3         2010\n",
              "4         2016\n",
              "          ... \n",
              "158561    2015\n",
              "158562    2023\n",
              "158563    2023\n",
              "158564    2023\n",
              "158565     NaT\n",
              "Name: first_air_date_dt, Length: 158566, dtype: period[A-DEC]"
            ]
          },
          "execution_count": 74,
          "metadata": {},
          "output_type": "execute_result"
        }
      ],
      "source": [
        "# или до года\n",
        "df['first_air_date_dt'].dt.to_period('Y')"
      ]
    },
    {
      "cell_type": "code",
      "execution_count": null,
      "id": "947d1af2-b6ba-4318-b4dd-7f4847018783",
      "metadata": {
        "tags": [],
        "id": "947d1af2-b6ba-4318-b4dd-7f4847018783",
        "outputId": "5622d93a-831d-46ed-98bc-ef336767eb84"
      },
      "outputs": [
        {
          "data": {
            "text/plain": [
              "0         2011-04-17\n",
              "1         2017-05-02\n",
              "2         2016-07-15\n",
              "3         2010-10-31\n",
              "4         2016-01-25\n",
              "             ...    \n",
              "158561    2015-01-01\n",
              "158562    2023-09-02\n",
              "158563    2023-09-16\n",
              "158564    2023-09-26\n",
              "158565           NaT\n",
              "Name: first_air_date_dt, Length: 158566, dtype: period[D]"
            ]
          },
          "execution_count": 75,
          "metadata": {},
          "output_type": "execute_result"
        }
      ],
      "source": [
        "# или до дня\n",
        "df['first_air_date_dt'].dt.to_period('D')"
      ]
    },
    {
      "cell_type": "markdown",
      "id": "0ac9365c-edd0-4381-a55e-b1ca7b71ac7b",
      "metadata": {
        "id": "0ac9365c-edd0-4381-a55e-b1ca7b71ac7b"
      },
      "source": [
        "## Функции"
      ]
    },
    {
      "cell_type": "markdown",
      "id": "0b5251c9-4b51-4414-80e1-defbb267abdb",
      "metadata": {
        "id": "0b5251c9-4b51-4414-80e1-defbb267abdb"
      },
      "source": [
        "Все дейтвия которые мы делали, можно привести к виду функций."
      ]
    },
    {
      "cell_type": "code",
      "execution_count": null,
      "id": "68b2f4cd-0b3b-40e0-8bdc-644d3f797eeb",
      "metadata": {
        "tags": [],
        "id": "68b2f4cd-0b3b-40e0-8bdc-644d3f797eeb",
        "outputId": "9e60cfef-1235-44de-caf3-4c0f632b47ed"
      },
      "outputs": [
        {
          "data": {
            "text/plain": [
              "0              Game of Thrones\n",
              "1                  Money Heist\n",
              "2              Stranger Things\n",
              "3             The Walking Dead\n",
              "4                      Lucifer\n",
              "                  ...         \n",
              "158561                天罚-二战全纪实\n",
              "158562                   我们这一摊\n",
              "158563                 山里来了熊孩子\n",
              "158564      开心超人联盟之勇敢之城1——棋兽传奇\n",
              "158565    Anhoniyon Ka Andhera\n",
              "Name: name, Length: 158566, dtype: object"
            ]
          },
          "execution_count": 76,
          "metadata": {},
          "output_type": "execute_result"
        }
      ],
      "source": [
        "df['name']"
      ]
    },
    {
      "cell_type": "markdown",
      "id": "0b1e03af-5c8b-429a-90cb-c48cb3bea164",
      "metadata": {
        "tags": [],
        "id": "0b1e03af-5c8b-429a-90cb-c48cb3bea164"
      },
      "source": [
        "Например функцию приведения текста к ниижнему регистру можно сделать так:"
      ]
    },
    {
      "cell_type": "code",
      "execution_count": null,
      "id": "60389611-6a33-42ab-8777-fc44b07f354c",
      "metadata": {
        "tags": [],
        "id": "60389611-6a33-42ab-8777-fc44b07f354c",
        "outputId": "85c76aa3-80c6-48e7-dfaf-bc0f6647210a"
      },
      "outputs": [
        {
          "data": {
            "text/plain": [
              "0              game of thrones\n",
              "1                  money heist\n",
              "2              stranger things\n",
              "3             the walking dead\n",
              "4                      lucifer\n",
              "                  ...         \n",
              "158561                天罚-二战全纪实\n",
              "158562                   我们这一摊\n",
              "158563                 山里来了熊孩子\n",
              "158564      开心超人联盟之勇敢之城1——棋兽传奇\n",
              "158565    anhoniyon ka andhera\n",
              "Name: name, Length: 158566, dtype: object"
            ]
          },
          "execution_count": 77,
          "metadata": {},
          "output_type": "execute_result"
        }
      ],
      "source": [
        "df['name'].str.lower()"
      ]
    },
    {
      "cell_type": "code",
      "execution_count": null,
      "id": "9ca918d4-1ceb-447c-8985-0bd3cbea4d3b",
      "metadata": {
        "scrolled": true,
        "tags": [],
        "id": "9ca918d4-1ceb-447c-8985-0bd3cbea4d3b",
        "outputId": "cf57945f-a8f4-41bc-805b-a3c51e18b22d"
      },
      "outputs": [
        {
          "ename": "AttributeError",
          "evalue": "'float' object has no attribute 'lower'",
          "output_type": "error",
          "traceback": [
            "\u001b[0;31m---------------------------------------------------------------------------\u001b[0m",
            "\u001b[0;31mAttributeError\u001b[0m                            Traceback (most recent call last)",
            "Cell \u001b[0;32mIn[78], line 1\u001b[0m\n\u001b[0;32m----> 1\u001b[0m df[\u001b[38;5;124m'\u001b[39m\u001b[38;5;124mname\u001b[39m\u001b[38;5;124m'\u001b[39m]\u001b[38;5;241m.\u001b[39mapply(\u001b[38;5;28;01mlambda\u001b[39;00m x: x\u001b[38;5;241m.\u001b[39mlower())\n",
            "File \u001b[0;32m~/anaconda3/lib/python3.11/site-packages/pandas/core/series.py:4771\u001b[0m, in \u001b[0;36mSeries.apply\u001b[0;34m(self, func, convert_dtype, args, **kwargs)\u001b[0m\n\u001b[1;32m   4661\u001b[0m \u001b[38;5;28;01mdef\u001b[39;00m \u001b[38;5;21mapply\u001b[39m(\n\u001b[1;32m   4662\u001b[0m     \u001b[38;5;28mself\u001b[39m,\n\u001b[1;32m   4663\u001b[0m     func: AggFuncType,\n\u001b[0;32m   (...)\u001b[0m\n\u001b[1;32m   4666\u001b[0m     \u001b[38;5;241m*\u001b[39m\u001b[38;5;241m*\u001b[39mkwargs,\n\u001b[1;32m   4667\u001b[0m ) \u001b[38;5;241m-\u001b[39m\u001b[38;5;241m>\u001b[39m DataFrame \u001b[38;5;241m|\u001b[39m Series:\n\u001b[1;32m   4668\u001b[0m \u001b[38;5;250m    \u001b[39m\u001b[38;5;124;03m\"\"\"\u001b[39;00m\n\u001b[1;32m   4669\u001b[0m \u001b[38;5;124;03m    Invoke function on values of Series.\u001b[39;00m\n\u001b[1;32m   4670\u001b[0m \n\u001b[0;32m   (...)\u001b[0m\n\u001b[1;32m   4769\u001b[0m \u001b[38;5;124;03m    dtype: float64\u001b[39;00m\n\u001b[1;32m   4770\u001b[0m \u001b[38;5;124;03m    \"\"\"\u001b[39;00m\n\u001b[0;32m-> 4771\u001b[0m     \u001b[38;5;28;01mreturn\u001b[39;00m SeriesApply(\u001b[38;5;28mself\u001b[39m, func, convert_dtype, args, kwargs)\u001b[38;5;241m.\u001b[39mapply()\n",
            "File \u001b[0;32m~/anaconda3/lib/python3.11/site-packages/pandas/core/apply.py:1123\u001b[0m, in \u001b[0;36mSeriesApply.apply\u001b[0;34m(self)\u001b[0m\n\u001b[1;32m   1120\u001b[0m     \u001b[38;5;28;01mreturn\u001b[39;00m \u001b[38;5;28mself\u001b[39m\u001b[38;5;241m.\u001b[39mapply_str()\n\u001b[1;32m   1122\u001b[0m \u001b[38;5;66;03m# self.f is Callable\u001b[39;00m\n\u001b[0;32m-> 1123\u001b[0m \u001b[38;5;28;01mreturn\u001b[39;00m \u001b[38;5;28mself\u001b[39m\u001b[38;5;241m.\u001b[39mapply_standard()\n",
            "File \u001b[0;32m~/anaconda3/lib/python3.11/site-packages/pandas/core/apply.py:1174\u001b[0m, in \u001b[0;36mSeriesApply.apply_standard\u001b[0;34m(self)\u001b[0m\n\u001b[1;32m   1172\u001b[0m     \u001b[38;5;28;01melse\u001b[39;00m:\n\u001b[1;32m   1173\u001b[0m         values \u001b[38;5;241m=\u001b[39m obj\u001b[38;5;241m.\u001b[39mastype(\u001b[38;5;28mobject\u001b[39m)\u001b[38;5;241m.\u001b[39m_values\n\u001b[0;32m-> 1174\u001b[0m         mapped \u001b[38;5;241m=\u001b[39m lib\u001b[38;5;241m.\u001b[39mmap_infer(\n\u001b[1;32m   1175\u001b[0m             values,\n\u001b[1;32m   1176\u001b[0m             f,\n\u001b[1;32m   1177\u001b[0m             convert\u001b[38;5;241m=\u001b[39m\u001b[38;5;28mself\u001b[39m\u001b[38;5;241m.\u001b[39mconvert_dtype,\n\u001b[1;32m   1178\u001b[0m         )\n\u001b[1;32m   1180\u001b[0m \u001b[38;5;28;01mif\u001b[39;00m \u001b[38;5;28mlen\u001b[39m(mapped) \u001b[38;5;129;01mand\u001b[39;00m \u001b[38;5;28misinstance\u001b[39m(mapped[\u001b[38;5;241m0\u001b[39m], ABCSeries):\n\u001b[1;32m   1181\u001b[0m     \u001b[38;5;66;03m# GH#43986 Need to do list(mapped) in order to get treated as nested\u001b[39;00m\n\u001b[1;32m   1182\u001b[0m     \u001b[38;5;66;03m#  See also GH#25959 regarding EA support\u001b[39;00m\n\u001b[1;32m   1183\u001b[0m     \u001b[38;5;28;01mreturn\u001b[39;00m obj\u001b[38;5;241m.\u001b[39m_constructor_expanddim(\u001b[38;5;28mlist\u001b[39m(mapped), index\u001b[38;5;241m=\u001b[39mobj\u001b[38;5;241m.\u001b[39mindex)\n",
            "File \u001b[0;32m~/anaconda3/lib/python3.11/site-packages/pandas/_libs/lib.pyx:2924\u001b[0m, in \u001b[0;36mpandas._libs.lib.map_infer\u001b[0;34m()\u001b[0m\n",
            "Cell \u001b[0;32mIn[78], line 1\u001b[0m, in \u001b[0;36m<lambda>\u001b[0;34m(x)\u001b[0m\n\u001b[0;32m----> 1\u001b[0m df[\u001b[38;5;124m'\u001b[39m\u001b[38;5;124mname\u001b[39m\u001b[38;5;124m'\u001b[39m]\u001b[38;5;241m.\u001b[39mapply(\u001b[38;5;28;01mlambda\u001b[39;00m x: x\u001b[38;5;241m.\u001b[39mlower())\n",
            "\u001b[0;31mAttributeError\u001b[0m: 'float' object has no attribute 'lower'"
          ]
        }
      ],
      "source": [
        "# ... или так.  Только теперь мы это сделали через apply и лямбда функции\n",
        "df['name'].apply(lambda x: x.lower())"
      ]
    },
    {
      "cell_type": "markdown",
      "id": "0a2e549a-9977-4ba4-82c3-5ed854198020",
      "metadata": {
        "id": "0a2e549a-9977-4ba4-82c3-5ed854198020"
      },
      "source": [
        "При попытке выполнения мы получаем ошибку, так как если х не строка, то у него нет метода lower. Напомню, что в конце столбца стоит np.nan. Поэтому добавим в функцию простейшую проверку: если nan, то возвращаем None, а если нет, то снижаем регистр букв."
      ]
    },
    {
      "cell_type": "code",
      "execution_count": null,
      "id": "6531adc7-3c83-46c4-a3c5-cbe0cae84d6b",
      "metadata": {
        "tags": [],
        "id": "6531adc7-3c83-46c4-a3c5-cbe0cae84d6b",
        "outputId": "8fedc9a0-4efb-4e5f-969e-a466bb0d5cb8"
      },
      "outputs": [
        {
          "data": {
            "text/plain": [
              "0              game of thrones\n",
              "1                  money heist\n",
              "2              stranger things\n",
              "3             the walking dead\n",
              "4                      lucifer\n",
              "                  ...         \n",
              "158561                天罚-二战全纪实\n",
              "158562                   我们这一摊\n",
              "158563                 山里来了熊孩子\n",
              "158564      开心超人联盟之勇敢之城1——棋兽传奇\n",
              "158565    anhoniyon ka andhera\n",
              "Name: name, Length: 158566, dtype: object"
            ]
          },
          "execution_count": 79,
          "metadata": {},
          "output_type": "execute_result"
        }
      ],
      "source": [
        "df['name'].apply(lambda x: x.lower() if pd.notnull(x) else None)"
      ]
    },
    {
      "cell_type": "code",
      "execution_count": null,
      "id": "fc6e8009-16b9-42c6-aee1-e63670067cc9",
      "metadata": {
        "tags": [],
        "id": "fc6e8009-16b9-42c6-aee1-e63670067cc9",
        "outputId": "a763f0a0-aaf2-4174-c9ca-79d0696bfa54"
      },
      "outputs": [
        {
          "data": {
            "text/plain": [
              "0              game of thrones test\n",
              "1                  money heist test\n",
              "2              stranger things test\n",
              "3             the walking dead test\n",
              "4                      lucifer test\n",
              "                    ...            \n",
              "158561                天罚-二战全纪实 test\n",
              "158562                   我们这一摊 test\n",
              "158563                 山里来了熊孩子 test\n",
              "158564      开心超人联盟之勇敢之城1——棋兽传奇 test\n",
              "158565    anhoniyon ka andhera test\n",
              "Name: name, Length: 158566, dtype: object"
            ]
          },
          "execution_count": 80,
          "metadata": {},
          "output_type": "execute_result"
        }
      ],
      "source": [
        "# снизим регистр и добавим подстроку в конец\n",
        "df['name'].apply(lambda x: x.lower() + \" test\" if pd.notnull(x) else None)"
      ]
    },
    {
      "cell_type": "markdown",
      "id": "4cae357d-3698-462f-b6fd-528f9a272250",
      "metadata": {
        "id": "4cae357d-3698-462f-b6fd-528f9a272250"
      },
      "source": [
        "Большие и сложные функции лучше выносить отдельно. Создадим функцию, которая приводит все к нижнему регистру и заменяет \"the\" на \"ze\""
      ]
    },
    {
      "cell_type": "code",
      "execution_count": null,
      "id": "d973830a-66e1-47de-af9e-2e0782978edd",
      "metadata": {
        "tags": [],
        "id": "d973830a-66e1-47de-af9e-2e0782978edd"
      },
      "outputs": [],
      "source": [
        "def test_func(film_name):\n",
        "    if pd.notnull(film_name):\n",
        "        clean_name = film_name.lower()\n",
        "        clean_name = clean_name.replace(\"the\", \"ze\")\n",
        "    else:\n",
        "        clean_name = None\n",
        "    return clean_name"
      ]
    },
    {
      "cell_type": "code",
      "execution_count": null,
      "id": "97929fed-e3f1-4c9d-80d2-b8db4fd4c31e",
      "metadata": {
        "scrolled": true,
        "tags": [],
        "id": "97929fed-e3f1-4c9d-80d2-b8db4fd4c31e",
        "outputId": "ee05341a-3344-4084-96ab-e0bb5184c4b6"
      },
      "outputs": [
        {
          "data": {
            "text/plain": [
              "0              game of thrones\n",
              "1                  money heist\n",
              "2              stranger things\n",
              "3              ze walking dead\n",
              "4                      lucifer\n",
              "                  ...         \n",
              "158561                天罚-二战全纪实\n",
              "158562                   我们这一摊\n",
              "158563                 山里来了熊孩子\n",
              "158564      开心超人联盟之勇敢之城1——棋兽传奇\n",
              "158565    anhoniyon ka andhera\n",
              "Name: name, Length: 158566, dtype: object"
            ]
          },
          "execution_count": 82,
          "metadata": {},
          "output_type": "execute_result"
        }
      ],
      "source": [
        "# применим функцию к сотлбцу\n",
        "df['name'].apply(test_func)"
      ]
    },
    {
      "cell_type": "markdown",
      "id": "9584a2f1-0ea4-443d-b638-5ab6cb488bbc",
      "metadata": {
        "id": "9584a2f1-0ea4-443d-b638-5ab6cb488bbc"
      },
      "source": [
        "Если функция затрагивает несколько столбцов ( например мноает их), то  необходимо указать axis=1"
      ]
    },
    {
      "cell_type": "code",
      "execution_count": null,
      "id": "4424979f-2f5d-4973-8fbe-99eba06297d7",
      "metadata": {
        "tags": [],
        "id": "4424979f-2f5d-4973-8fbe-99eba06297d7",
        "outputId": "e6f7d724-36cd-4bde-87d4-7d36e004cafb"
      },
      "outputs": [
        {
          "data": {
            "text/plain": [
              "0          584\n",
              "1          123\n",
              "2          136\n",
              "3         1947\n",
              "4          558\n",
              "          ... \n",
              "158561     100\n",
              "158562      13\n",
              "158563      13\n",
              "158564       6\n",
              "158565       0\n",
              "Length: 158566, dtype: int64"
            ]
          },
          "execution_count": 83,
          "metadata": {},
          "output_type": "execute_result"
        }
      ],
      "source": [
        "df['number_of_seasons'] * df['number_of_episodes']"
      ]
    },
    {
      "cell_type": "code",
      "execution_count": null,
      "id": "a1b0d194-43de-4087-ae5b-4c7dafd2e811",
      "metadata": {
        "tags": [],
        "id": "a1b0d194-43de-4087-ae5b-4c7dafd2e811"
      },
      "outputs": [],
      "source": [
        "def miltiply_col(row):\n",
        "    result = row['number_of_seasons'] * row['number_of_episodes']\n",
        "    return result"
      ]
    },
    {
      "cell_type": "code",
      "execution_count": null,
      "id": "4124e8cd-085c-48ac-84ef-6149aef5d08a",
      "metadata": {
        "scrolled": true,
        "tags": [],
        "id": "4124e8cd-085c-48ac-84ef-6149aef5d08a"
      },
      "outputs": [],
      "source": [
        "df.apply(miltiply_col, axis=1)"
      ]
    },
    {
      "cell_type": "markdown",
      "id": "8da23e8f-317e-4923-92ec-43d0bac55931",
      "metadata": {
        "id": "8da23e8f-317e-4923-92ec-43d0bac55931"
      },
      "source": [
        "Подведем итоги. В ходе занятия мы научились обрабатывать числовые, строковые, булевы и временнЫе данные, а также применять функции."
      ]
    },
    {
      "cell_type": "code",
      "execution_count": null,
      "id": "6fb50544-f061-4c9d-887d-fd16f0eb489c",
      "metadata": {
        "id": "6fb50544-f061-4c9d-887d-fd16f0eb489c"
      },
      "outputs": [],
      "source": []
    }
  ],
  "metadata": {
    "kernelspec": {
      "display_name": "Python 3 (ipykernel)",
      "language": "python",
      "name": "python3"
    },
    "language_info": {
      "codemirror_mode": {
        "name": "ipython",
        "version": 3
      },
      "file_extension": ".py",
      "mimetype": "text/x-python",
      "name": "python",
      "nbconvert_exporter": "python",
      "pygments_lexer": "ipython3",
      "version": "3.11.4"
    },
    "colab": {
      "provenance": [],
      "include_colab_link": true
    }
  },
  "nbformat": 4,
  "nbformat_minor": 5
}