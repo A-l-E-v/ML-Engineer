{
  "cells": [
    {
      "cell_type": "markdown",
      "metadata": {
        "id": "fVJa1M59v2Wt"
      },
      "source": [
        "## Векторы"
      ]
    },
    {
      "cell_type": "markdown",
      "metadata": {
        "id": "RXQ6-MqG3jwZ"
      },
      "source": [
        "#### Цель"
      ]
    },
    {
      "cell_type": "markdown",
      "metadata": {
        "id": "grAZP-uvfszE"
      },
      "source": [
        "Овладеть понятием вектора и операциями над векторами."
      ]
    },
    {
      "cell_type": "code",
      "execution_count": 2,
      "metadata": {
        "colab": {
          "base_uri": "https://localhost:8080/"
        },
        "id": "tLeuhgKOzqEY",
        "outputId": "66563718-2989-4962-f5c8-4cdb6fbbdb6c"
      },
      "outputs": [
        {
          "name": "stdout",
          "output_type": "stream",
          "text": [
            "[-9  4  9  2  1]\n",
            "[-4  7  5 -7 -7]\n",
            "88\n"
          ]
        }
      ],
      "source": [
        "import numpy as np\n",
        "n = 5\n",
        "a1 = np.random.randint(-9, 10, size=n).astype(int)\n",
        "a2 = np.random.randint(-9, 10, size=n).astype(int)\n",
        "print(a1)\n",
        "print(a2)\n",
        "print(a1 @ a2)"
      ]
    },
    {
      "cell_type": "code",
      "execution_count": 3,
      "metadata": {
        "colab": {
          "base_uri": "https://localhost:8080/"
        },
        "id": "8fjVffzt0EXa",
        "outputId": "3412abd5-c0b7-4b0f-8cf2-dff046638cdd"
      },
      "outputs": [
        {
          "name": "stdout",
          "output_type": "stream",
          "text": [
            "(-9,  4,  9,  2,  1), (-4,  7,  5, -7, -7)\n"
          ]
        }
      ],
      "source": [
        "print('(', end='')\n",
        "for i in range(len(a1)):\n",
        "  print(f'{a1[i]:2d}', end='')\n",
        "  if i != len(a1)-1:\n",
        "    print(', ', end='')\n",
        "print(')', end=', ')\n",
        "\n",
        "print('(', end='')\n",
        "for i in range(len(a1)):\n",
        "  print(f'{a2[i]:2d}', end='')\n",
        "  if i != len(a2)-1:\n",
        "    print(', ', end='')\n",
        "print(')')"
      ]
    },
    {
      "cell_type": "markdown",
      "metadata": {
        "id": "gs_VbnSwzc06"
      },
      "source": [
        "### Задание 1\n"
      ]
    },
    {
      "cell_type": "markdown",
      "metadata": {
        "id": "qPVjDpZH39SE"
      },
      "source": [
        "Найдите значение скалярного произведения векторов.\n",
        "\n",
        "1.  (-3, -4,  3), ( 2,  3,  8)\n",
        "ОТВЕТ:\n",
        "    (−3)⋅2+(−4)⋅3+3⋅8=−6−12+24=6\n",
        "\n",
        "2.  (-4,  7,  4), (-1,  8, -2)\n",
        "ОТВЕТ:\n",
        "    (−4)⋅(−1)+7⋅8+4⋅(−2)=4+56−8=52\n",
        "\n",
        "3.  ( 1,  0,  6, -1), ( 0, -7, -1,  0)\n",
        "ОТВЕТ:\n",
        "    1⋅0+0⋅(−7)+6⋅(−1)+(−1)⋅0=0+0−6+0=−6\n",
        "\n",
        "4.  ( 1, -3, -5, -8), ( 4, -8,  8,  2)\n",
        "ОТВЕТ:\n",
        "    1⋅4+(−3)⋅(−8)+(−5)⋅8+(−8)⋅2=4+24−40−16=−28\n",
        "\n",
        "5.  (-9,  7, -2, -6,  0), ( 3, -4, -2,  5, -8)\n",
        "ОТВЕТ:\n",
        "    (−9)⋅3+7⋅(−4)+(−2)⋅(−2)+(−6)⋅5+0⋅(−8)=−27−28+4−30+0=−81"
      ]
    },
    {
      "cell_type": "markdown",
      "metadata": {
        "id": "GzSXRuwdwc6W"
      },
      "source": [
        "### Задание 2"
      ]
    },
    {
      "cell_type": "markdown",
      "metadata": {
        "id": "SilfE13S4BQE"
      },
      "source": [
        "Вы располагаете следующими сбережениями: $100,  €200,  ¥300. Курс доллара — 90 рублей, курс евро 99 рублей, курс йены 0.6 рубля. Вам интересно понять, сколько рублей можно получить за продажу каждой валюты отдельно и суммарно. Решите задачу письменно и программно с помощью векторов и векторого произведения.\n",
        "\n",
        "Письменное решение:\n",
        "\n",
        "\n",
        "\n",
        "    Продажа долларов:\n",
        "\n",
        "100 долларов×90 рублей/доллар=9000 рублей\n",
        "100долларов×90рублей/доллар=9000рублей\n",
        "\n",
        "    Продажа евро:\n",
        "\n",
        "200 евро×99 рублей/евро=19800 рублей\n",
        "200евро×99рублей/евро=19800рублей\n",
        "\n",
        "    Продажа йен:\n",
        "\n",
        "300 йен×0.6 рублей/йена=180 рублей\n",
        "300йен×0.6рублей/йена=180рублей\n",
        "\n",
        "    Общая сумма в рублях:\n",
        "\n",
        "9000+19800+180=29980 рублей\n",
        "9000+19800+180=29980рублей\n",
        "\n",
        "\n",
        "Программное решение:"
      ]
    },
    {
      "cell_type": "code",
      "execution_count": 6,
      "metadata": {},
      "outputs": [
        {
          "name": "stdout",
          "output_type": "stream",
          "text": [
            "Общая сумма в рублях: 28980.0\n"
          ]
        }
      ],
      "source": [
        "import numpy as np\n",
        "\n",
        "# Вектор количества валют\n",
        "currency_amounts = np.array([100, 200, 300])\n",
        "\n",
        "# Вектор курсов валют\n",
        "currency_rates = np.array([90, 99, 0.6])\n",
        "\n",
        "# Скалярное произведение для нахождения \"суммарной\" суммы в рублях\n",
        "total_rubles = np.dot(currency_amounts, currency_rates)\n",
        "\n",
        "print(\"Общая сумма в рублях:\", total_rubles)\n"
      ]
    },
    {
      "cell_type": "markdown",
      "metadata": {
        "id": "bcymOQS94Dqk"
      },
      "source": [
        "### Результат"
      ]
    },
    {
      "cell_type": "markdown",
      "metadata": {
        "id": "W0E6xCQ1_MGe"
      },
      "source": [
        "Решение для задания предоставляется в виде прикрепленного фото с подробными ответами и программного кода на языке Python.\n",
        "\n"
      ]
    },
    {
      "cell_type": "markdown",
      "metadata": {
        "id": "vMDMFG4U4Jlk"
      },
      "source": [
        "### Критерии оценивания\n",
        "\n"
      ]
    },
    {
      "cell_type": "markdown",
      "metadata": {
        "id": "fO1ecF5G4M7e"
      },
      "source": [
        "К1 - за каждый правильно решенный пункт в 1 задании (+ 1 балл)\n",
        "\n",
        "К2 - задание 2 решено верно письменно (1 балла)\n",
        "\n",
        "К3 - задание 2 решено верно программно (1 балла)\n",
        "\n",
        "Максимальное количество баллов —  7 баллов.\n",
        "\n",
        "Минимальное количество баллов, чтобы преподаватель смог зачесть вашу работу — 3 баллов."
      ]
    }
  ],
  "metadata": {
    "colab": {
      "collapsed_sections": [
        "RXQ6-MqG3jwZ",
        "gs_VbnSwzc06",
        "GzSXRuwdwc6W"
      ],
      "provenance": []
    },
    "kernelspec": {
      "display_name": "myenv",
      "language": "python",
      "name": "python3"
    },
    "language_info": {
      "codemirror_mode": {
        "name": "ipython",
        "version": 3
      },
      "file_extension": ".py",
      "mimetype": "text/x-python",
      "name": "python",
      "nbconvert_exporter": "python",
      "pygments_lexer": "ipython3",
      "version": "3.12.3"
    }
  },
  "nbformat": 4,
  "nbformat_minor": 0
}
