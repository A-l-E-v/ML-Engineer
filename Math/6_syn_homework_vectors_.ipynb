{
  "nbformat": 4,
  "nbformat_minor": 0,
  "metadata": {
    "colab": {
      "provenance": [],
      "collapsed_sections": [
        "RXQ6-MqG3jwZ",
        "gs_VbnSwzc06",
        "GzSXRuwdwc6W"
      ]
    },
    "kernelspec": {
      "name": "python3",
      "display_name": "Python 3"
    },
    "language_info": {
      "name": "python"
    }
  },
  "cells": [
    {
      "cell_type": "markdown",
      "source": [
        "## Векторы"
      ],
      "metadata": {
        "id": "fVJa1M59v2Wt"
      }
    },
    {
      "cell_type": "markdown",
      "source": [
        "#### Цель"
      ],
      "metadata": {
        "id": "RXQ6-MqG3jwZ"
      }
    },
    {
      "cell_type": "markdown",
      "source": [
        "Овладеть понятием вектора и операциями над векторами."
      ],
      "metadata": {
        "id": "grAZP-uvfszE"
      }
    },
    {
      "cell_type": "code",
      "source": [
        "n = 5\n",
        "a1 = np.random.randint(-9, 10, size=n).astype(int)\n",
        "a2 = np.random.randint(-9, 10, size=n).astype(int)\n",
        "print(a1)\n",
        "print(a2)\n",
        "print(a1 @ a2)"
      ],
      "metadata": {
        "colab": {
          "base_uri": "https://localhost:8080/"
        },
        "id": "tLeuhgKOzqEY",
        "outputId": "66563718-2989-4962-f5c8-4cdb6fbbdb6c"
      },
      "execution_count": null,
      "outputs": [
        {
          "output_type": "stream",
          "name": "stdout",
          "text": [
            "[-9  7 -2 -6  0]\n",
            "[ 3 -4 -2  5 -8]\n",
            "-81\n"
          ]
        }
      ]
    },
    {
      "cell_type": "code",
      "source": [
        "print('(', end='')\n",
        "for i in range(len(a1)):\n",
        "  print(f'{a1[i]:2d}', end='')\n",
        "  if i != len(a1)-1:\n",
        "    print(', ', end='')\n",
        "print(')', end=', ')\n",
        "\n",
        "print('(', end='')\n",
        "for i in range(len(a1)):\n",
        "  print(f'{a2[i]:2d}', end='')\n",
        "  if i != len(a2)-1:\n",
        "    print(', ', end='')\n",
        "print(')')"
      ],
      "metadata": {
        "colab": {
          "base_uri": "https://localhost:8080/"
        },
        "id": "8fjVffzt0EXa",
        "outputId": "3412abd5-c0b7-4b0f-8cf2-dff046638cdd"
      },
      "execution_count": null,
      "outputs": [
        {
          "output_type": "stream",
          "name": "stdout",
          "text": [
            "(-9,  7, -2, -6,  0), ( 3, -4, -2,  5, -8)\n"
          ]
        }
      ]
    },
    {
      "cell_type": "markdown",
      "source": [
        "### Задание 1\n"
      ],
      "metadata": {
        "id": "gs_VbnSwzc06"
      }
    },
    {
      "cell_type": "markdown",
      "source": [
        "Найдите значение скалярного произведения векторов.\n",
        "\n",
        "1.  (-3, -4,  3), ( 2,  3,  8)\n",
        "2.  (-4,  7,  4), (-1,  8, -2)\n",
        "3.  ( 1,  0,  6, -1), ( 0, -7, -1,  0)\n",
        "4.  ( 1, -3, -5, -8), ( 4, -8,  8,  2)\n",
        "5.  (-9,  7, -2, -6,  0), ( 3, -4, -2,  5, -8)"
      ],
      "metadata": {
        "id": "qPVjDpZH39SE"
      }
    },
    {
      "cell_type": "markdown",
      "source": [
        "### Задание 2"
      ],
      "metadata": {
        "id": "GzSXRuwdwc6W"
      }
    },
    {
      "cell_type": "markdown",
      "source": [
        "Вы располагаете следующими сбережениями: $100,  €200,  ¥300. Курс доллара — 90 рублей, курс евро 99 рублей, курс йены 0.6 рубля. Вам интересно понять, сколько рублей можно получить за продажу каждой валюты отдельно и суммарно. Решите задачу письменно и программно с помощью векторов и векторого произведения."
      ],
      "metadata": {
        "id": "SilfE13S4BQE"
      }
    },
    {
      "cell_type": "markdown",
      "source": [
        "### Результат"
      ],
      "metadata": {
        "id": "bcymOQS94Dqk"
      }
    },
    {
      "cell_type": "markdown",
      "source": [
        "Решение для задания предоставляется в виде прикрепленного фото с подробными ответами и программного кода на языке Python.\n",
        "\n"
      ],
      "metadata": {
        "id": "W0E6xCQ1_MGe"
      }
    },
    {
      "cell_type": "markdown",
      "source": [
        "### Критерии оценивания\n",
        "\n"
      ],
      "metadata": {
        "id": "vMDMFG4U4Jlk"
      }
    },
    {
      "cell_type": "markdown",
      "source": [
        "К1 - за каждый правильно решенный пункт в 1 задании (+ 1 балл)\n",
        "\n",
        "К2 - задание 2 решено верно письменно (1 балла)\n",
        "\n",
        "К3 - задание 2 решено верно программно (1 балла)\n",
        "\n",
        "Максимальное количество баллов —  7 баллов.\n",
        "\n",
        "Минимальное количество баллов, чтобы преподаватель смог зачесть вашу работу — 3 баллов."
      ],
      "metadata": {
        "id": "fO1ecF5G4M7e"
      }
    }
  ]
}