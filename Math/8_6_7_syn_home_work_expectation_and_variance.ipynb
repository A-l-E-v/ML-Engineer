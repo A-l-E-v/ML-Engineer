{
  "cells": [
    {
      "cell_type": "markdown",
      "metadata": {
        "id": "_hCPrqEYuwXL"
      },
      "source": [
        "### Математическое ожидание и дисперсия"
      ]
    },
    {
      "cell_type": "markdown",
      "metadata": {
        "id": "Lfyy2dKMxRIk"
      },
      "source": [
        "#### Цель"
      ]
    },
    {
      "cell_type": "markdown",
      "metadata": {
        "id": "D69dcslbjFz5"
      },
      "source": [
        "Научиться определять математическое ожидание и разброс данных для дальнейшего применения в анализе, прогнозировании и для принятия оптимальных решений."
      ]
    },
    {
      "cell_type": "markdown",
      "metadata": {
        "id": "ul2O9J_ujrzS"
      },
      "source": [
        "#### Задание"
      ]
    },
    {
      "cell_type": "markdown",
      "metadata": {
        "id": "2ZwfcwrMJEHA"
      },
      "source": [
        "Найдите математическое ожидание и стандартное отклонение для заданных случайных величин."
      ]
    },
    {
      "cell_type": "markdown",
      "metadata": {},
      "source": [
        "\n",
        "1.\n",
        "\\[\n",
        "\\begin{array}{|c|c|c|c|c|c|}\n",
        "\\hline\n",
        "x & 25 & 10 & 27 & 3 & 1 \\\\\n",
        "\\hline\n",
        "p & 0.09 & 0.16 & 0.2 & 0.16 & 0.2 \\\\\n",
        "\\hline\n",
        "\\end{array}\n",
        "\\]\n",
        "\n",
        "2.\n",
        "\\[\n",
        "\\begin{array}{|c|c|c|c|c|c|}\n",
        "\\hline\n",
        "x & 10 & 14 & 13 & 17 & 12 \\\\\n",
        "\\hline\n",
        "p & 0.14 & 0.25 & 0.07 & 0.11 & 0.21 \\\\\n",
        "\\hline\n",
        "\\end{array}\n",
        "\\]\n",
        "\n",
        "3.\n",
        "\\[\n",
        "\\begin{array}{|c|c|c|c|c|c|}\n",
        "\\hline\n",
        "x & 24 & 7 & 9 & 15 & 1 \\\\\n",
        "\\hline\n",
        "p & 0.05 & 0.27 & 0.05 & 0.18 & 0.09 \\\\\n",
        "\\hline\n",
        "\\end{array}\n",
        "\\]\n",
        "\n",
        "4.\n",
        "\\[\n",
        "\\begin{array}{|c|c|c|c|c|c|}\n",
        "\\hline\n",
        "x & 20 & 15 & 1 & 4 & 3 \\\\\n",
        "\\hline\n",
        "p & 0.17 & 0.07 & 0.07 & 0.17 & 0.24 \\\\\n",
        "\\hline\n",
        "\\end{array}\n",
        "\\]\n",
        "\n",
        "5.\n",
        "\\[\n",
        "\\begin{array}{|c|c|c|c|c|c|}\n",
        "\\hline\n",
        "x & 16 & 14 & 1 & 17 & 21 \\\\\n",
        "\\hline\n",
        "p & 0.14 & 0.25 & 0.11 & 0.14 & 0.04 \\\\\n",
        "\\hline\n",
        "\\end{array}\n",
        "\\]\n"
      ]
    },
    {
      "cell_type": "markdown",
      "metadata": {
        "id": "EGt_4xkLx5jw"
      },
      "source": [
        "#### Результат"
      ]
    },
    {
      "cell_type": "markdown",
      "metadata": {
        "id": "UteZoym6jpp6"
      },
      "source": [
        "Решение для задания предоставляется в виде прикрепленного фото с подробными ответами."
      ]
    },
    {
      "cell_type": "markdown",
      "metadata": {
        "id": "k_Fc5M2qyI5q"
      },
      "source": [
        "#### Критерии оценивания"
      ]
    },
    {
      "cell_type": "markdown",
      "metadata": {
        "id": "H0USQmrPyDUv"
      },
      "source": [
        "К1 - за  каждый правильно решенный пункт задания (+ 1 балл)\n",
        "\n",
        "Максимальное количество баллов —  5 баллов.\n",
        "\n",
        "Минимальное количество баллов, чтобы преподаватель смог зачесть вашу работу — 3 балла."
      ]
    }
  ],
  "metadata": {
    "colab": {
      "provenance": []
    },
    "kernelspec": {
      "display_name": "myenv",
      "language": "python",
      "name": "python3"
    },
    "language_info": {
      "codemirror_mode": {
        "name": "ipython",
        "version": 3
      },
      "file_extension": ".py",
      "mimetype": "text/x-python",
      "name": "python",
      "nbconvert_exporter": "python",
      "pygments_lexer": "ipython3",
      "version": "3.12.3"
    }
  },
  "nbformat": 4,
  "nbformat_minor": 0
}
