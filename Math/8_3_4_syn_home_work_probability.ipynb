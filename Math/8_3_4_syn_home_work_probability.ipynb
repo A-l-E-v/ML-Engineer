{
  "nbformat": 4,
  "nbformat_minor": 0,
  "metadata": {
    "colab": {
      "provenance": []
    },
    "kernelspec": {
      "name": "python3",
      "display_name": "Python 3"
    },
    "language_info": {
      "name": "python"
    }
  },
  "cells": [
    {
      "cell_type": "markdown",
      "source": [
        "### Классическая вероятность"
      ],
      "metadata": {
        "id": "48Uh4vGc__rm"
      }
    },
    {
      "cell_type": "markdown",
      "source": [
        "#### Цель"
      ],
      "metadata": {
        "id": "oNP9LRVJuwAv"
      }
    },
    {
      "cell_type": "markdown",
      "source": [
        "Понять основные принципы и методы расчета вероятностей на основе равновозможных элементарных исходов."
      ],
      "metadata": {
        "id": "mStN5A0Xe77o"
      }
    },
    {
      "cell_type": "markdown",
      "source": [
        "#### Задание 1"
      ],
      "metadata": {
        "id": "lyyDTdpXAB4-"
      }
    },
    {
      "cell_type": "markdown",
      "source": [
        "На экзамене 25 билетов, студент выучил 10. Какой шанс у студента сдать экзамен?"
      ],
      "metadata": {
        "id": "EOBAuKO_u3ke"
      }
    },
    {
      "cell_type": "markdown",
      "source": [
        "#### Задание 2"
      ],
      "metadata": {
        "id": "0b9__k8uKZi7"
      }
    },
    {
      "cell_type": "markdown",
      "source": [
        "Тот же экзамен, тот же студент. Но 10 билетов он выучил на 100%, а 5 билетов на 50%. Остальные билеты он совсем не выучил. Какой шанс у студента сдать экзамен?"
      ],
      "metadata": {
        "id": "6sfuUwoZu9fn"
      }
    },
    {
      "cell_type": "markdown",
      "source": [
        "\n",
        "#### Задание 3"
      ],
      "metadata": {
        "id": "tRwPfEN1KbTN"
      }
    },
    {
      "cell_type": "markdown",
      "source": [
        "Тот же экзамен, тот же студент. 10 билетов он выучил на 100%, 5 билетов на 50%, 10 билетов совсем не выучил. Но есть 30% шанс попасть на злого преподавателя и 70% на доброго преподавателя. Добрый преподаватель засчитывает билет даже, если он выучен на 50%. Злой преподаватель не засчитывает билет, если он выучен не на 100% и заваливает студента с вероятностью 10% даже, если билет выучен на все 100%. Какой шанс у студента сдать экзамен?"
      ],
      "metadata": {
        "id": "JwvpCBYivd3d"
      }
    },
    {
      "cell_type": "markdown",
      "source": [
        "#### Результат"
      ],
      "metadata": {
        "id": "tMGiYORovz1G"
      }
    },
    {
      "cell_type": "markdown",
      "source": [
        "Решение для задания предоставляется в виде прикрепленного фото с подробными ответами."
      ],
      "metadata": {
        "id": "IthKbDCGfJaM"
      }
    },
    {
      "cell_type": "markdown",
      "source": [
        "#### Критерии оценивания"
      ],
      "metadata": {
        "id": "FiBrmJXFv6G2"
      }
    },
    {
      "cell_type": "markdown",
      "source": [
        "К1 - за каждое правильно решенное задание (+ 1 балл)\n",
        "\n",
        "Максимальное количество баллов —  3 балла.\n",
        "\n",
        "Минимальное количество баллов, чтобы преподаватель смог зачесть вашу работу — 1 балла."
      ],
      "metadata": {
        "id": "HcT_-BIkv-NN"
      }
    }
  ]
}