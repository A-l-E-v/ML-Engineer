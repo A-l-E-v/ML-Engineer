{
  "cells": [
    {
      "cell_type": "markdown",
      "metadata": {
        "id": "1cbLXutr7AVO"
      },
      "source": [
        "###Распределение Пуассона и формула Лапласа"
      ]
    },
    {
      "cell_type": "markdown",
      "metadata": {
        "id": "4HZ2dKuD1vJ9"
      },
      "source": [
        "#### Цель"
      ]
    },
    {
      "cell_type": "markdown",
      "metadata": {
        "id": "Xh96jH62D9DV"
      },
      "source": [
        "Научиться моделировать случайные события, вычислять вероятности и аппроксимировать биномиальное распределение для удобного анализа данных."
      ]
    },
    {
      "cell_type": "markdown",
      "metadata": {
        "id": "_wcyAj8J7KCY"
      },
      "source": [
        "####Задание 1"
      ]
    },
    {
      "cell_type": "markdown",
      "metadata": {
        "id": "_PgKhobh13_F"
      },
      "source": [
        "Найдите вероятность наступления $k$ событий в серии из $n$ экспериментов, если вероятность успеха в одном испытании равно $p$.\n",
        "\n",
        "1. $ n = 100, \\quad k = 5, \\quad \\ \\  p = 0.06$\n",
        "1. $ n = 150, \\quad k = 10, \\quad \\  p = 0.07$\n",
        "1. $ n = 200, \\quad k = 20, \\quad \\ p = 0.1$\n",
        "1. $ n = 300, \\quad k = 142, \\quad    p = 0.5$\n",
        "1. $ n = 500, \\quad k = 400, \\quad    p = 0.8$"
      ]
    },
    {
      "cell_type": "markdown",
      "metadata": {},
      "source": [
        "Для нахождения вероятности наступления k событий в серии из n экспериментов с вероятностью успеха p используется биномиальное распределение. Формула биномиального распределения:"
      ]
    },
    {
      "cell_type": "markdown",
      "metadata": {},
      "source": [
        "![alt text](1.png)"
      ]
    },
    {
      "cell_type": "markdown",
      "metadata": {},
      "source": [
        "Где C(n,k) — биномиальный коэффициент, который вычисляется как:\n",
        "\n",
        "![alt text](2.png)\n"
      ]
    },
    {
      "cell_type": "markdown",
      "metadata": {},
      "source": [
        "Рассчитаем вероятности для каждого набора значений n, k и p:\n",
        "\n",
        "![alt text](3.png)![alt text](4.png)![alt text](5.png)![alt text](6.png)![alt text](7.png)"
      ]
    },
    {
      "cell_type": "markdown",
      "metadata": {
        "id": "4B-cMcPLBRJ-"
      },
      "source": [
        "####Задание 2\n"
      ]
    },
    {
      "cell_type": "markdown",
      "metadata": {
        "id": "_32Ou0CYCKQn"
      },
      "source": [
        "\n",
        "Вы держите небольшой ресторанчик и сегодня у Вас банкет. Для него подтребуется 180 яиц. Вы заказали 200 яиц, но по итогу всех перемещений до повора доходит 92% купленных яиц. Какова вероятность, что повар получит нужное количество яиц? Напишите программу, чтобы получить ответ на вопрос задания."
      ]
    },
    {
      "cell_type": "markdown",
      "metadata": {},
      "source": [
        "\n",
        "    Общее количество яиц: n=200\n",
        "    Процент яиц, доходящих до повара: p=0.92\n",
        "    Минимальное количество яиц, необходимое повару: k=180\n",
        "\n",
        "Используем биномиальное распределение для нахождения вероятности того, что повар получит как минимум 180 яиц:"
      ]
    },
    {
      "cell_type": "markdown",
      "metadata": {},
      "source": [
        "![alt text](8.png))\n",
        "\n",
        "Для упрощения расчетов можно использовать нормальное приближение биномиального распределения. Среднее значение μ и стандартное отклонение σ:\n",
        "\n",
        "![alt text](9.png)"
      ]
    },
    {
      "cell_type": "markdown",
      "metadata": {},
      "source": [
        "Теперь используем стандартное нормальное распределение для нахождения вероятности:\n",
        "\n",
        "![alt text](10.png)"
      ]
    },
    {
      "cell_type": "markdown",
      "metadata": {},
      "source": [
        "Вероятность составляет примерно 85.08%"
      ]
    },
    {
      "cell_type": "code",
      "execution_count": 2,
      "metadata": {},
      "outputs": [
        {
          "name": "stdout",
          "output_type": "stream",
          "text": [
            "Вероятность того, что повар получит нужное количество яиц: 0.8832\n"
          ]
        }
      ],
      "source": [
        "import numpy as np\n",
        "\n",
        "# Общее количество заказанных яиц\n",
        "total_eggs = 200\n",
        "\n",
        "# Процент яиц, доходящих до повара\n",
        "percentage_received = 0.92\n",
        "\n",
        "# Симуляция количества яиц, доходящих до повара\n",
        "np.random.seed(42)\n",
        "received_eggs = np.random.binomial(total_eggs, percentage_received, 10000)\n",
        "\n",
        "# Подсчет вероятности того, что повар получит нужное количество яиц (180 или больше)\n",
        "count_sufficient_eggs = np.sum(received_eggs >= 180)\n",
        "probability = count_sufficient_eggs / 10000\n",
        "\n",
        "# Вывод результата\n",
        "print(f\"Вероятность того, что повар получит нужное количество яиц: {probability:.4f}\")"
      ]
    },
    {
      "cell_type": "markdown",
      "metadata": {
        "id": "3VeFIsFOKN2x"
      },
      "source": [
        "####Задание 3"
      ]
    },
    {
      "cell_type": "markdown",
      "metadata": {
        "id": "RflqoGm_18wN"
      },
      "source": [
        "Вы коммивояжер 19-го века и продаете людям пока что еще непонятное, но многообещающее изобретение под названием \"телефон\". В целом дела у Вас идут хорошо, из 10 домов, которые вы посещаете 4 решают преобрести Ваш продукт. За этот месяц вы планируете обойти 300 домов. Какова вероятность, что вы продадите  от 100 до 130 телефонов? Можете решить руками, но лучше напишите программу для решения задания."
      ]
    },
    {
      "cell_type": "code",
      "execution_count": 5,
      "metadata": {},
      "outputs": [
        {
          "name": "stdout",
          "output_type": "stream",
          "text": [
            "Вероятность продать от 100 до 130 телефонов: 0.8812\n"
          ]
        }
      ],
      "source": [
        "import numpy as np\n",
        "\n",
        "# Параметры задачи\n",
        "total_houses = 300\n",
        "probability_of_sale = 0.4  # Вероятность продажи в одном доме\n",
        "\n",
        "# Симуляция продаж телефонов в 300 домах\n",
        "def simulate_sales(total_houses, probability_of_sale):\n",
        "    return np.random.binomial(total_houses, probability_of_sale)\n",
        "\n",
        "# Количество симуляций\n",
        "num_simulations = 10000\n",
        "\n",
        "# Подсчет вероятности продать от 100 до 130 телефонов\n",
        "count_successful_sales = 0\n",
        "\n",
        "for _ in range(num_simulations):\n",
        "    sales = simulate_sales(total_houses, probability_of_sale)\n",
        "    if 100 <= sales <= 130:\n",
        "        count_successful_sales += 1\n",
        "\n",
        "probability = count_successful_sales / num_simulations\n",
        "\n",
        "# Вывод результата\n",
        "print(f\"Вероятность продать от 100 до 130 телефонов: {probability:.4f}\")\n"
      ]
    },
    {
      "cell_type": "markdown",
      "metadata": {
        "id": "FftGbVZPEtaN"
      },
      "source": [
        "#### Результат"
      ]
    },
    {
      "cell_type": "markdown",
      "metadata": {
        "id": "FZq1Lwnh2EV9"
      },
      "source": [
        "Решение для задания предоставляется в виде прикрепленного фото с подробными математическими решениями и ответами, программного кода на языке Python.\n",
        "\n"
      ]
    },
    {
      "cell_type": "markdown",
      "metadata": {
        "id": "4Rh46hak2HzN"
      },
      "source": [
        "#### Критерии оценивания\n",
        "\n"
      ]
    },
    {
      "cell_type": "markdown",
      "metadata": {
        "id": "SK9GtYjv2MBl"
      },
      "source": [
        "К1 - за каждый выполненный верно пункт 1 задания (+ 1 балл)\n",
        "\n",
        "К2 - за каждое выполненное верно задание 2 и 3 (1 балл)\n",
        "\n",
        "Максимальное количество баллов —  7 баллов.\n",
        "\n",
        "Минимальное количество баллов, чтобы преподаватель смог зачесть вашу работу — 4 балла."
      ]
    }
  ],
  "metadata": {
    "colab": {
      "provenance": []
    },
    "kernelspec": {
      "display_name": "myenv",
      "language": "python",
      "name": "python3"
    },
    "language_info": {
      "codemirror_mode": {
        "name": "ipython",
        "version": 3
      },
      "file_extension": ".py",
      "mimetype": "text/x-python",
      "name": "python",
      "nbconvert_exporter": "python",
      "pygments_lexer": "ipython3",
      "version": "3.12.3"
    }
  },
  "nbformat": 4,
  "nbformat_minor": 0
}
