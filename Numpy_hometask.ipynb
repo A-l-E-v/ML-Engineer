{
  "cells": [
    {
      "cell_type": "markdown",
      "metadata": {
        "id": "view-in-github",
        "colab_type": "text"
      },
      "source": [
        "<a href=\"https://colab.research.google.com/github/A-l-E-v/ML-Engineer/blob/main/Numpy_hometask.ipynb\" target=\"_parent\"><img src=\"https://colab.research.google.com/assets/colab-badge.svg\" alt=\"Open In Colab\"/></a>"
      ]
    },
    {
      "cell_type": "markdown",
      "metadata": {
        "id": "KTv_BSxEQqSA"
      },
      "source": [
        "# Домашнее задание\n",
        "# Тема 1. Numpy"
      ]
    },
    {
      "cell_type": "markdown",
      "metadata": {
        "id": "OJiZO_sqRzq_"
      },
      "source": [
        "**Цель**: практика применения констант и функций библиотеки Numpy для решения\n",
        "математических задач.\n"
      ]
    },
    {
      "cell_type": "code",
      "execution_count": null,
      "metadata": {
        "id": "FLYEwH_IgNnb"
      },
      "outputs": [],
      "source": [
        "import numpy as np"
      ]
    },
    {
      "cell_type": "markdown",
      "metadata": {
        "id": "yI39ftAhkd0S"
      },
      "source": [
        "# Задание 1\n",
        "Создайте матрицы $\\begin{pmatrix} -6 & 8 \\\\ 8 & 6 \\end{pmatrix}$ и $\\begin{pmatrix} 3 & 1 \\\\ 1 & 3 \\end{pmatrix}$. Посчитайте их поэлементное и матричное произведения."
      ]
    },
    {
      "cell_type": "code",
      "execution_count": null,
      "metadata": {
        "id": "OvwoioH1kroT"
      },
      "outputs": [],
      "source": []
    },
    {
      "cell_type": "code",
      "execution_count": null,
      "metadata": {
        "id": "H21Si2_n939L"
      },
      "outputs": [],
      "source": []
    },
    {
      "cell_type": "markdown",
      "metadata": {
        "id": "UO-DtcZ91avU"
      },
      "source": [
        "# Задание 2\n",
        "Создайте матрицу 10 на 10, где каждая строка будет заполнена числами от 1 до 10 в порядке возрастания."
      ]
    },
    {
      "cell_type": "code",
      "execution_count": null,
      "metadata": {
        "id": "zs9jKuph1t4l"
      },
      "outputs": [],
      "source": []
    },
    {
      "cell_type": "markdown",
      "metadata": {
        "id": "SS8TSAWybS6B"
      },
      "source": [
        "# Задание 3\n",
        "Создайте матрицу 10 на 10, где элементы слева направо увеличиваются на 1, например, первая строка будет выглядеть, так 1, 2, 3, ..., 10, а вторая начнётся с 11."
      ]
    },
    {
      "cell_type": "code",
      "execution_count": null,
      "metadata": {
        "id": "Vvnw5jvecdEt"
      },
      "outputs": [],
      "source": []
    },
    {
      "cell_type": "markdown",
      "metadata": {
        "id": "OwEDBzXkcZuk"
      },
      "source": [
        "# Задание 4\n",
        "Вам предложен массив 10 x 10000, где каждая строка является набором независимых случайных величин из нормального распределения с матожиданием 3 и единичной дисперсией. Посчитайте выборочное среднее в каждой строке и найдите процент строк, в которых полученное значение больше реального."
      ]
    },
    {
      "cell_type": "code",
      "execution_count": null,
      "metadata": {
        "id": "L4dqTMH1bdQ_"
      },
      "outputs": [],
      "source": [
        "data = np.random.normal(3, 1, (10, 10000))"
      ]
    },
    {
      "cell_type": "markdown",
      "metadata": {
        "id": "eTKo499Km_8U"
      },
      "source": [
        "# Задание 5\n",
        "Вам предложен массив 50 x 1000, где каждая строка является набором независимых случайных величин из нормального распределения с матожиданием 3 и дисперсией равной 100. Вам нужно изучить, как меняется выборочное среднее суммы n случайных величин в зависимости от n. Постройте график, передав ваш массив в функцию my_plot. Не забудьте перед этим запустить ячейку с её кодом. Предполагается, что выборочное среднее будет посчитано по 1000 каких-то посчитанных величин, каждая из которых пришла из какой-то выборки."
      ]
    },
    {
      "cell_type": "code",
      "execution_count": null,
      "metadata": {
        "cellView": "form",
        "colab": {
          "background_save": true
        },
        "id": "J40Ok6iHqklV"
      },
      "outputs": [],
      "source": [
        "# @title my_plot\n",
        "import matplotlib.pyplot as plt\n",
        "def my_plot(A):\n",
        "    plt.plot(np.arange(1, len(A) + 1), A)\n",
        "    plt.xlabel('n')\n",
        "    plt.ylabel('Выборочное среднее')\n",
        "    plt.title('Зависимость выборочного среднего n случайных величин от n')\n",
        "    plt.grid(True)\n",
        "    plt.show()"
      ]
    },
    {
      "cell_type": "code",
      "execution_count": null,
      "metadata": {
        "id": "QhVkMlWfnZYT"
      },
      "outputs": [],
      "source": [
        "data = np.random.normal(3, 100, (50, 1000))"
      ]
    },
    {
      "cell_type": "markdown",
      "metadata": {
        "id": "mpveXqxUtVTW"
      },
      "source": [
        "**Рекомендации для выполнения:**\n",
        "*   Решения с использованием стронних библиотек не принимаются\n",
        "*   Старайтесь не использовать циклы, всё домашнее задание можно решить, не использовав ни одного цикла\n",
        "\n",
        "**Результат:** решение для каждого задания предоставляется в виде программного кода на языке Python\n",
        "\n",
        "**Критерии оценивания:**\n",
        "\n",
        "К1 - за каждое правильно решенное задание +2 балла\n",
        "\n",
        "Максимальное количество баллов —  10 баллов.\n",
        "\n",
        "Минимальное количество баллов, чтобы преподаватель смог зачесть вашу работу — 5 баллов."
      ]
    }
  ],
  "metadata": {
    "colab": {
      "provenance": [],
      "toc_visible": true,
      "include_colab_link": true
    },
    "kernelspec": {
      "display_name": "Python 3",
      "name": "python3"
    },
    "language_info": {
      "name": "python"
    }
  },
  "nbformat": 4,
  "nbformat_minor": 0
}