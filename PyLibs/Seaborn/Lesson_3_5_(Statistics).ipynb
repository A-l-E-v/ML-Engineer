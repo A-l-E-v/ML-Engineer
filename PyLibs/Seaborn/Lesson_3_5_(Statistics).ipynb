{
  "cells": [
    {
      "cell_type": "markdown",
      "metadata": {
        "id": "view-in-github",
        "colab_type": "text"
      },
      "source": [
        "<a href=\"https://colab.research.google.com/github/A-l-E-v/ML-Engineer/blob/main/Lesson_3_5_(Statistics).ipynb\" target=\"_parent\"><img src=\"https://colab.research.google.com/assets/colab-badge.svg\" alt=\"Open In Colab\"/></a>"
      ]
    },
    {
      "cell_type": "code",
      "execution_count": null,
      "id": "047b0195",
      "metadata": {
        "id": "047b0195"
      },
      "outputs": [],
      "source": [
        "import numpy as np\n",
        "import pandas as pd\n",
        "import matplotlib.pyplot as plt\n",
        "import seaborn as sns\n",
        "sns.set_theme(style=\"darkgrid\")"
      ]
    },
    {
      "cell_type": "markdown",
      "id": "bc64cfab",
      "metadata": {
        "id": "bc64cfab"
      },
      "source": [
        "## 1. Координатная функция (regplot)\n",
        "\n",
        "*   Новый пункт\n",
        "*   Новый пункт\n",
        "\n"
      ]
    },
    {
      "cell_type": "code",
      "execution_count": null,
      "id": "0dc27d8b",
      "metadata": {
        "id": "0dc27d8b"
      },
      "outputs": [],
      "source": [
        "data_auto = sns.load_dataset('mpg')"
      ]
    },
    {
      "cell_type": "code",
      "execution_count": null,
      "id": "fca8e543",
      "metadata": {
        "id": "fca8e543"
      },
      "outputs": [],
      "source": [
        "data_auto.head()"
      ]
    },
    {
      "cell_type": "code",
      "execution_count": null,
      "id": "0a97f1d1",
      "metadata": {
        "id": "0a97f1d1"
      },
      "outputs": [],
      "source": [
        "fig, ax = plt.subplots()\n",
        "sns.regplot(data=data_auto, x=\"horsepower\", y=\"acceleration\", ax=ax)\n",
        "ax.set_title('Acceleration vs. horsepower', size=15)\n",
        "plt.show()"
      ]
    },
    {
      "cell_type": "code",
      "execution_count": null,
      "id": "da4223b8",
      "metadata": {
        "id": "da4223b8"
      },
      "outputs": [],
      "source": [
        "# можем попробовать восстановить нелинейную зависимость\n",
        "fig, ax = plt.subplots()\n",
        "sns.regplot(data=data_auto, x=\"horsepower\", y=\"acceleration\", order=1.5, ax=ax)\n",
        "ax.set_title('Acceleration vs. horsepower (quadratic order regression)', size=15)\n",
        "plt.show()"
      ]
    },
    {
      "cell_type": "code",
      "execution_count": null,
      "id": "f9b17636",
      "metadata": {
        "id": "f9b17636"
      },
      "outputs": [],
      "source": [
        "# можем попробовать использовать регрессию на логарифм феличины\n",
        "fig, ax = plt.subplots()\n",
        "sns.regplot(data=data_auto, x=\"horsepower\", y=\"acceleration\", logx=True, ax=ax)\n",
        "ax.set_title('Acceleration vs. horsepower (regression of log x)', size=15)\n",
        "plt.show()"
      ]
    },
    {
      "cell_type": "code",
      "execution_count": null,
      "id": "5a182d5e",
      "metadata": {
        "id": "5a182d5e"
      },
      "outputs": [],
      "source": [
        "!pip install statsmodels"
      ]
    },
    {
      "cell_type": "code",
      "execution_count": null,
      "id": "18ebd1fc",
      "metadata": {
        "id": "18ebd1fc"
      },
      "outputs": [],
      "source": [
        "# можно использовать локальное сглаживание\n",
        "fig, ax = plt.subplots()\n",
        "sns.regplot(data=data_auto, x=\"horsepower\", y=\"acceleration\", lowess=True, ax=ax)\n",
        "ax.set_title('Acceleration vs. horsepower (smoothed)', size=15)\n",
        "plt.show()"
      ]
    },
    {
      "cell_type": "code",
      "execution_count": null,
      "id": "a1fc82bd",
      "metadata": {
        "id": "a1fc82bd"
      },
      "outputs": [],
      "source": [
        "# можно также производить логистическую регрессию\n",
        "fig, ax = plt.subplots()\n",
        "sns.regplot(x=data_auto[\"mpg\"], y=data_auto[\"origin\"].eq(\"europe\").rename(\"probability\"), logistic=True)\n",
        "ax.set_title('Probability of auto being from Europe (log regression)', size=15)\n",
        "plt.show()"
      ]
    },
    {
      "cell_type": "code",
      "execution_count": null,
      "id": "1d898500",
      "metadata": {
        "id": "1d898500"
      },
      "outputs": [],
      "source": [
        "# можем строить регрессию, устойчивую к выбросам\n",
        "fig, ax = plt.subplots()\n",
        "sns.regplot(data=data_auto, x=\"horsepower\", y=\"acceleration\", line_kws={'label': 'regression'},\n",
        "            ax=ax, label='ordinary')\n",
        "sns.regplot(data=data_auto, x=\"horsepower\", y=\"acceleration\", robust=True, scatter=False,\n",
        "            ax=ax, label='robust')\n",
        "handles, labels = ax.get_legend_handles_labels()\n",
        "print(handles)\n",
        "print(labels)\n",
        "ax.set_title('Acceleration vs. horsepower (robust regression)', size=15)\n",
        "ax.legend(handles=[tuple(handles[:2]), handles[2]], labels=[labels[0], labels[2]])\n",
        "plt.show()"
      ]
    },
    {
      "cell_type": "code",
      "execution_count": null,
      "id": "83496712",
      "metadata": {
        "id": "83496712"
      },
      "outputs": [],
      "source": [
        "# можем убрать доверительный интервал (станет быстрее)\n",
        "fig, ax = plt.subplots()\n",
        "sns.regplot(data=data_auto, x=\"horsepower\", y=\"acceleration\", ci=None, ax=ax)\n",
        "ax.set_title('Acceleration vs. horsepower', size=15)\n",
        "plt.show()"
      ]
    },
    {
      "cell_type": "code",
      "execution_count": null,
      "id": "e79b35f6",
      "metadata": {
        "id": "e79b35f6"
      },
      "outputs": [],
      "source": [
        "# можем делать регрессию на категориальные величины\n",
        "fig, ax = plt.subplots()\n",
        "sns.regplot(data=data_auto, x=\"model_year\", y=\"acceleration\", x_jitter=.15, ax=ax)\n",
        "ax.set_title('Acceleration vs. model year release', size=15)\n",
        "plt.show()"
      ]
    },
    {
      "cell_type": "code",
      "execution_count": null,
      "id": "a9b50ed2",
      "metadata": {
        "id": "a9b50ed2"
      },
      "outputs": [],
      "source": [
        "# можем делать регрессию на агрегированные категориальные величины\n",
        "fig, ax = plt.subplots()\n",
        "sns.regplot(data=data_auto, x=\"model_year\", y=\"acceleration\", x_estimator=np.median, ax=ax)\n",
        "ax.set_title('Acceleration vs. model year release', size=15)\n",
        "plt.show()"
      ]
    },
    {
      "cell_type": "code",
      "execution_count": null,
      "id": "619ec68f",
      "metadata": {
        "id": "619ec68f"
      },
      "outputs": [],
      "source": [
        "# можем делать регрессию на агрегированные непрерывные величины, предварительно разбив по бинам\n",
        "fig, ax = plt.subplots()\n",
        "sns.regplot(data=data_auto, x=\"horsepower\", y=\"acceleration\", x_bins=np.arange(50, 225, 15), x_ci=90,\n",
        "            robust=True, ax=ax)\n",
        "ax.set_title('Acceleration vs. horsepower (robust, aggregated)', size=15)\n",
        "plt.show()"
      ]
    },
    {
      "cell_type": "code",
      "execution_count": null,
      "id": "36de4150",
      "metadata": {
        "id": "36de4150"
      },
      "outputs": [],
      "source": [
        "# можем кастомизировать внешний вид графика\n",
        "fig, ax = plt.subplots()\n",
        "sns.regplot(data=data_auto, x=\"horsepower\", y=\"acceleration\", ci=99.7, marker=\"x\", color=\"r\",\n",
        "            scatter_kws={'s': 12.5},\n",
        "            line_kws={'color': \"g\", 'lw': 2},\n",
        "           )\n",
        "ax.set_title('Acceleration vs. horsepower (stylized)', size=15)\n",
        "plt.setp(ax.collections[1], alpha=0.5)\n",
        "plt.show()"
      ]
    },
    {
      "cell_type": "markdown",
      "id": "d6f6f7fa",
      "metadata": {
        "id": "d6f6f7fa"
      },
      "source": [
        "## 2. Рисуночная функция (lmplot)"
      ]
    },
    {
      "cell_type": "code",
      "execution_count": null,
      "id": "4f604bcc",
      "metadata": {
        "id": "4f604bcc"
      },
      "outputs": [],
      "source": [
        "# lmplot по умолчанию\n",
        "lp = sns.lmplot(data=data_auto, x=\"horsepower\", y=\"acceleration\", aspect=1.25)\n",
        "lp.fig.suptitle('Acceleration vs. horsepower', fontsize=15, x=0.55)\n",
        "lp.fig.subplots_adjust(top=0.9)\n",
        "plt.show()"
      ]
    },
    {
      "cell_type": "code",
      "execution_count": null,
      "id": "5b08e840",
      "metadata": {
        "id": "5b08e840"
      },
      "outputs": [],
      "source": [
        "# разделение по цветам\n",
        "lp = sns.lmplot(data=data_auto, x=\"horsepower\", y=\"acceleration\", hue='origin',\n",
        "                scatter_kws={'alpha': .3},\n",
        "                aspect=1.25)\n",
        "lp.fig.suptitle('Acceleration vs. horsepower by origin', fontsize=15)\n",
        "lp.fig.subplots_adjust(top=0.9)\n",
        "plt.setp(lp.fig.axes[0].collections[1::2], alpha=.4)\n",
        "plt.show()"
      ]
    },
    {
      "cell_type": "code",
      "execution_count": null,
      "id": "ad2feadf",
      "metadata": {
        "id": "ad2feadf"
      },
      "outputs": [],
      "source": [
        "# разделение по цветам\n",
        "lp = sns.lmplot(data=data_auto, x=\"horsepower\", y=\"acceleration\", hue='origin',\n",
        "                markers=['*', 'o', 'd'], palette=['b', 'r', 'g'], scatter_kws={'alpha': .3},\n",
        "                aspect=1.25)\n",
        "lp.fig.suptitle('Acceleration vs. horsepower by origin', fontsize=15)\n",
        "lp.fig.subplots_adjust(top=0.9)\n",
        "plt.setp(lp.fig.axes[0].collections[1::2], alpha=.4)\n",
        "plt.show()"
      ]
    },
    {
      "cell_type": "code",
      "execution_count": null,
      "id": "2b622add",
      "metadata": {
        "id": "2b622add"
      },
      "outputs": [],
      "source": [
        "# разделение по колонкам\n",
        "lp = sns.lmplot(data=data_auto, x=\"horsepower\", y=\"acceleration\", col='cylinders', aspect=0.85)\n",
        "lp.fig.suptitle('Acceleration vs. horsepower by the number of cylinders', fontsize=15)\n",
        "lp.fig.subplots_adjust(top=0.85)\n",
        "plt.show()"
      ]
    },
    {
      "cell_type": "code",
      "execution_count": null,
      "id": "89626db8",
      "metadata": {
        "id": "89626db8"
      },
      "outputs": [],
      "source": [
        "# разделение по колонкам с ограниченным количеством в каждой строке\n",
        "lp = sns.lmplot(data=data_auto, x=\"horsepower\", y=\"acceleration\", col='model_year', col_wrap=3)\n",
        "lp.fig.suptitle('Acceleration vs. horsepower by release year', fontsize=15)\n",
        "lp.fig.subplots_adjust(top=0.95)\n",
        "plt.show()"
      ]
    },
    {
      "cell_type": "code",
      "execution_count": null,
      "id": "ac0cb1a2",
      "metadata": {
        "id": "ac0cb1a2"
      },
      "outputs": [],
      "source": [
        "# разделение по колонкам и столбцам\n",
        "lp = sns.lmplot(data=data_auto, x=\"horsepower\", y=\"acceleration\", col='cylinders', row='origin', aspect=0.85)\n",
        "lp.fig.suptitle('Acceleration vs. horsepower by the number of cylinders and origin', fontsize=15)\n",
        "lp.fig.subplots_adjust(top=0.9)\n",
        "plt.show()"
      ]
    },
    {
      "cell_type": "code",
      "execution_count": null,
      "id": "5d916295",
      "metadata": {
        "id": "5d916295"
      },
      "outputs": [],
      "source": [
        "# разделение по колонкам и столбцам c разным масштабом осей\n",
        "lp = sns.lmplot(data=data_auto, x=\"horsepower\", y=\"acceleration\", col='cylinders', row='origin',\n",
        "                facet_kws={'sharex': False, 'sharey': False},\n",
        "                aspect=0.85)\n",
        "lp.fig.suptitle('Acceleration vs. horsepower by the number of cylinders and origin', fontsize=15)\n",
        "lp.fig.subplots_adjust(top=0.9)\n",
        "plt.show()"
      ]
    },
    {
      "cell_type": "code",
      "execution_count": null,
      "id": "67a56fb6",
      "metadata": {
        "id": "67a56fb6"
      },
      "outputs": [],
      "source": [
        "# можно использовать в jointplot\n",
        "jp = sns.jointplot(data=data_auto, x='horsepower', y='acceleration', kind='reg')\n",
        "jp.fig.suptitle('Acceleration vs. horsepower', fontsize=15)\n",
        "jp.fig.subplots_adjust(top=0.9)\n",
        "plt.show()"
      ]
    },
    {
      "cell_type": "code",
      "execution_count": null,
      "id": "e7941482",
      "metadata": {
        "id": "e7941482"
      },
      "outputs": [],
      "source": [
        "# можно использовать в pairplot\n",
        "pp = sns.pairplot(data_auto, kind='reg')\n",
        "pp.fig.suptitle('Pairwise relationships between values', fontsize=15)\n",
        "pp.fig.subplots_adjust(top=0.95)\n",
        "plt.show()"
      ]
    }
  ],
  "metadata": {
    "kernelspec": {
      "display_name": "Python 3 (ipykernel)",
      "language": "python",
      "name": "python3"
    },
    "language_info": {
      "codemirror_mode": {
        "name": "ipython",
        "version": 3
      },
      "file_extension": ".py",
      "mimetype": "text/x-python",
      "name": "python",
      "nbconvert_exporter": "python",
      "pygments_lexer": "ipython3",
      "version": "3.10.12"
    },
    "colab": {
      "provenance": [],
      "include_colab_link": true
    }
  },
  "nbformat": 4,
  "nbformat_minor": 5
}