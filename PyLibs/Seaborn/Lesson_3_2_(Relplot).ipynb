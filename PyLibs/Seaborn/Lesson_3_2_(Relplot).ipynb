{
  "cells": [
    {
      "cell_type": "markdown",
      "metadata": {
        "id": "view-in-github",
        "colab_type": "text"
      },
      "source": [
        "<a href=\"https://colab.research.google.com/github/A-l-E-v/ML-Engineer/blob/main/Lesson_3_2_(Relplot).ipynb\" target=\"_parent\"><img src=\"https://colab.research.google.com/assets/colab-badge.svg\" alt=\"Open In Colab\"/></a>"
      ]
    },
    {
      "cell_type": "markdown",
      "id": "87f6e0a4",
      "metadata": {
        "id": "87f6e0a4"
      },
      "source": [
        "# Relplot"
      ]
    },
    {
      "cell_type": "code",
      "execution_count": null,
      "id": "0421d6ad",
      "metadata": {
        "id": "0421d6ad"
      },
      "outputs": [],
      "source": [
        "!pip install seaborn"
      ]
    },
    {
      "cell_type": "code",
      "execution_count": null,
      "id": "071aa42c",
      "metadata": {
        "id": "071aa42c"
      },
      "outputs": [],
      "source": [
        "import numpy as np\n",
        "import pandas as pd\n",
        "import matplotlib.pyplot as plt\n",
        "import seaborn as sns\n",
        "sns.set_theme(style=\"darkgrid\")"
      ]
    },
    {
      "cell_type": "code",
      "execution_count": null,
      "id": "f1dae733",
      "metadata": {
        "scrolled": false,
        "id": "f1dae733"
      },
      "outputs": [],
      "source": [
        "sns.get_dataset_names()"
      ]
    },
    {
      "cell_type": "markdown",
      "id": "5e0849df",
      "metadata": {
        "id": "5e0849df"
      },
      "source": [
        "Подробнее: https://github.com/mwaskom/seaborn-data/tree/master"
      ]
    },
    {
      "cell_type": "markdown",
      "id": "8be4141e",
      "metadata": {
        "id": "8be4141e"
      },
      "source": [
        "## 1. Построение точечных графиков (scatterplot)"
      ]
    },
    {
      "cell_type": "code",
      "execution_count": null,
      "id": "94b6675f",
      "metadata": {
        "id": "94b6675f"
      },
      "outputs": [],
      "source": [
        "data_scatter = sns.load_dataset('mpg')"
      ]
    },
    {
      "cell_type": "code",
      "execution_count": null,
      "id": "ca838b50",
      "metadata": {
        "id": "ca838b50"
      },
      "outputs": [],
      "source": [
        "data_scatter.head()"
      ]
    },
    {
      "cell_type": "code",
      "execution_count": null,
      "id": "4591ddb1",
      "metadata": {
        "id": "4591ddb1"
      },
      "outputs": [],
      "source": [
        "fig, ax = plt.subplots()\n",
        "sns.scatterplot(data=data_scatter, x='mpg', y='horsepower', ax=ax)\n",
        "plt.show()"
      ]
    },
    {
      "cell_type": "code",
      "execution_count": null,
      "id": "30f448bd",
      "metadata": {
        "id": "30f448bd"
      },
      "outputs": [],
      "source": [
        "# добавляем название\n",
        "fig, ax = plt.subplots()\n",
        "sns.scatterplot(data=data_scatter, x='mpg', y='horsepower', ax=ax)\n",
        "ax.set_title('Acceleration/horsepower relation', size=15)\n",
        "plt.show()"
      ]
    },
    {
      "cell_type": "code",
      "execution_count": null,
      "id": "a88187f6",
      "metadata": {
        "id": "a88187f6"
      },
      "outputs": [],
      "source": [
        "# поиграем с hue и palette\n",
        "fig, ax = plt.subplots()\n",
        "sns.scatterplot(data=data_scatter, x='mpg', y='horsepower', ax=ax, hue='model_year', palette='coolwarm')\n",
        "ax.set_title('Acceleration/horsepower relation', size=15)\n",
        "plt.show()"
      ]
    },
    {
      "cell_type": "code",
      "execution_count": null,
      "id": "0ea92993",
      "metadata": {
        "id": "0ea92993"
      },
      "outputs": [],
      "source": [
        "# поиграем с style и markers\n",
        "fig, ax = plt.subplots()\n",
        "sns.scatterplot(data=data_scatter, x='mpg', y='horsepower', ax=ax, style='origin', markers={'japan': 'o',\n",
        "                                                                                            'usa': 'd',\n",
        "                                                                                            'europe': '*'})\n",
        "ax.set_title('Acceleration/horsepower relation', size=15)\n",
        "plt.show()"
      ]
    },
    {
      "cell_type": "code",
      "execution_count": null,
      "id": "ae85457c",
      "metadata": {
        "id": "ae85457c"
      },
      "outputs": [],
      "source": [
        "# поиграем с size и sizes\n",
        "fig, ax = plt.subplots()\n",
        "sns.scatterplot(data=data_scatter, x='mpg', y='horsepower', ax=ax, size='cylinders', sizes=(0, 150))\n",
        "ax.set_title('Acceleration/horsepower relation', size=15)\n",
        "plt.show()"
      ]
    },
    {
      "cell_type": "code",
      "execution_count": null,
      "id": "3ea0f3d7",
      "metadata": {
        "id": "3ea0f3d7"
      },
      "outputs": [],
      "source": [
        "# соединяем всё вместе\n",
        "\n",
        "fig, ax = plt.subplots()\n",
        "sns.scatterplot(data=data_scatter, x='mpg', y='horsepower', ax=ax, hue='model_year',\n",
        "                style='origin', markers=['d', 'o', '*'], size='cylinders')\n",
        "ax.set_title('Acceleration/horsepower relation', size=15)\n",
        "plt.show()"
      ]
    },
    {
      "cell_type": "code",
      "execution_count": null,
      "id": "aa3c8fb2",
      "metadata": {
        "id": "aa3c8fb2"
      },
      "outputs": [],
      "source": [
        "# решаем вопрос с легендой\n",
        "# 1\n",
        "\n",
        "fig, ax = plt.subplots()\n",
        "sns.scatterplot(data=data_scatter, x='mpg', y='horsepower', ax=ax, hue='model_year',\n",
        "                style='origin', markers=['d', 'o', '*'], size='cylinders')\n",
        "ax.set_title('Acceleration/horsepower relation', size=15)\n",
        "ax.legend(loc='upper left', bbox_to_anchor=(1, 1), prop={'size': 9.5})\n",
        "plt.show()"
      ]
    },
    {
      "cell_type": "markdown",
      "id": "a7ea53e1",
      "metadata": {
        "id": "a7ea53e1"
      },
      "source": [
        "## 2. Построение непрерывных графиков (lineplot)"
      ]
    },
    {
      "cell_type": "code",
      "execution_count": null,
      "id": "198ef3c9",
      "metadata": {
        "id": "198ef3c9"
      },
      "outputs": [],
      "source": [
        "data_line = sns.load_dataset(\"flights\")"
      ]
    },
    {
      "cell_type": "code",
      "execution_count": null,
      "id": "2a7ff4c2",
      "metadata": {
        "id": "2a7ff4c2"
      },
      "outputs": [],
      "source": [
        "data_line.head()"
      ]
    },
    {
      "cell_type": "code",
      "execution_count": null,
      "id": "2018e035",
      "metadata": {
        "id": "2018e035"
      },
      "outputs": [],
      "source": [
        "month_to_number = \\\n",
        "{\n",
        "    'Jan': 1,\n",
        "    'Feb': 2,\n",
        "    'Mar': 3,\n",
        "    'Apr': 4,\n",
        "    'May': 5,\n",
        "    'Jun': 6,\n",
        "    'Jul': 7,\n",
        "    'Aug': 8,\n",
        "    'Sep': 9,\n",
        "    'Oct': 10,\n",
        "    'Nov': 11,\n",
        "    'Dec': 12\n",
        "}\n",
        "\n",
        "dates = pd.to_datetime({'year': data_line['year'],\n",
        "                        'month': data_line['month'].map(month_to_number),\n",
        "                        'day': 1})"
      ]
    },
    {
      "cell_type": "code",
      "execution_count": null,
      "id": "253a4428",
      "metadata": {
        "id": "253a4428"
      },
      "outputs": [],
      "source": [
        "dates"
      ]
    },
    {
      "cell_type": "code",
      "execution_count": null,
      "id": "c171ea51",
      "metadata": {
        "id": "c171ea51"
      },
      "outputs": [],
      "source": [
        "# пример визуализации столбчатых данных\n",
        "fig, ax = plt.subplots()\n",
        "sns.lineplot(data=data_line, x=dates, y='passengers', ax=ax)\n",
        "ax.set_title('Number of passengers per flight (1949-1961)', size=15)\n",
        "ax.set_xlabel('date')\n",
        "plt.show()"
      ]
    },
    {
      "cell_type": "code",
      "execution_count": null,
      "id": "9202a763",
      "metadata": {
        "id": "9202a763"
      },
      "outputs": [],
      "source": [
        "data_line_pivoted = data_line.pivot(index=\"year\", columns=\"month\", values=\"passengers\")\n",
        "data_line_pivoted.head()"
      ]
    },
    {
      "cell_type": "code",
      "execution_count": null,
      "id": "cb1d7f4c",
      "metadata": {
        "id": "cb1d7f4c"
      },
      "outputs": [],
      "source": [
        "# пример визуализации табличных данных\n",
        "fig, ax = plt.subplots()\n",
        "sns.lineplot(data=data_line_pivoted, ax=ax)\n",
        "ax.set_title('Visualizing wide-form data', size=15)\n",
        "ax.set_ylabel('passengers')\n",
        "plt.show()"
      ]
    },
    {
      "cell_type": "code",
      "execution_count": null,
      "id": "2f4dbb16",
      "metadata": {
        "id": "2f4dbb16"
      },
      "outputs": [],
      "source": [
        "# пример визуализации столбчатых данных\n",
        "fig, ax = plt.subplots()\n",
        "sns.lineplot(data=data_line, x='year', y='passengers', ax=ax)\n",
        "ax.set_title('Number of passengers per year (1949-1961)', size=15)\n",
        "plt.show()"
      ]
    },
    {
      "cell_type": "code",
      "execution_count": null,
      "id": "40b06c48",
      "metadata": {
        "id": "40b06c48"
      },
      "outputs": [],
      "source": [
        "# играемся с hue\n",
        "fig, ax = plt.subplots()\n",
        "sns.lineplot(data=data_line, x='year', y='passengers', hue='month', ax=ax)\n",
        "ax.set_title('Number of passengers per year (1949-1961)', size=15)\n",
        "plt.show()"
      ]
    },
    {
      "cell_type": "code",
      "execution_count": null,
      "id": "5023dcad",
      "metadata": {
        "id": "5023dcad"
      },
      "outputs": [],
      "source": [
        "# играемся с style\n",
        "fig, ax = plt.subplots()\n",
        "sns.lineplot(data=data_line, x='year', y='passengers', hue='month', style='month', ax=ax)\n",
        "ax.set_title('Number of passengers per year (1949-1961)', size=15)\n",
        "plt.show()"
      ]
    },
    {
      "cell_type": "code",
      "execution_count": null,
      "id": "4d362410",
      "metadata": {
        "id": "4d362410"
      },
      "outputs": [],
      "source": [
        "data_signals = sns.load_dataset(\"fmri\")\n",
        "data_signals.head()"
      ]
    },
    {
      "cell_type": "code",
      "execution_count": null,
      "id": "106d0825",
      "metadata": {
        "id": "106d0825"
      },
      "outputs": [],
      "source": [
        "fig, ax = plt.subplots()\n",
        "sns.lineplot(data=data_signals, x=\"timepoint\", y=\"signal\", hue=\"event\", ax=ax)\n",
        "ax.set_title('Signal level in time', size=15)\n",
        "plt.show()"
      ]
    },
    {
      "cell_type": "code",
      "execution_count": null,
      "id": "b185f52a",
      "metadata": {
        "id": "b185f52a"
      },
      "outputs": [],
      "source": [
        "# более сложная агрегация\n",
        "fig, ax = plt.subplots()\n",
        "sns.lineplot(data=data_signals, x=\"timepoint\", y=\"signal\", hue=\"event\", style='region',\n",
        "             dashes=[(1, 0), (2, 2)], ax=ax)\n",
        "ax.set_title('Signal level in time', size=15)\n",
        "plt.show()"
      ]
    },
    {
      "cell_type": "code",
      "execution_count": null,
      "id": "6f63c207",
      "metadata": {
        "id": "6f63c207"
      },
      "outputs": [],
      "source": [
        "# маркеры вместо стилей линий\n",
        "fig, ax = plt.subplots()\n",
        "sns.lineplot(data=data_signals, x=\"timepoint\", y=\"signal\", hue=\"event\", style='region',\n",
        "             dashes=False, markers=['d', '>'], ax=ax)\n",
        "ax.set_title('Signal level in time', size=15)\n",
        "plt.show()"
      ]
    },
    {
      "cell_type": "code",
      "execution_count": null,
      "id": "cef104a5",
      "metadata": {
        "id": "cef104a5"
      },
      "outputs": [],
      "source": [
        "# errorbar'ы и их вид\n",
        "fig, ax = plt.subplots()\n",
        "sns.lineplot(data=data_signals, x=\"timepoint\", y=\"signal\", hue=\"event\",\n",
        "             err_style='bars', errorbar=('se', 3), ax=ax)\n",
        "ax.set_title('Signal level in time', size=15)\n",
        "plt.show()"
      ]
    },
    {
      "cell_type": "code",
      "execution_count": null,
      "id": "953df189",
      "metadata": {
        "id": "953df189"
      },
      "outputs": [],
      "source": [
        "# пучки значений\n",
        "fig, ax = plt.subplots()\n",
        "sns.lineplot(data=data_signals[data_signals['region'] == 'frontal'], x=\"timepoint\", y=\"signal\",\n",
        "             hue=\"event\", units='subject', estimator=None, ax=ax)\n",
        "ax.set_title('Signal level in time', size=15)\n",
        "plt.show()"
      ]
    },
    {
      "cell_type": "code",
      "execution_count": null,
      "id": "87a0c89e",
      "metadata": {
        "id": "87a0c89e"
      },
      "outputs": [],
      "source": [
        "# а ещё можно не сортировать данные если не надо\n",
        "fig, ax = plt.subplots()\n",
        "x, y = np.random.normal(size=(2, 5000)).cumsum(axis=1)\n",
        "sns.lineplot(x=x, y=y, lw=1, sort=False)\n",
        "ax.scatter([0], [0], s=25, c='r')\n",
        "ax.set_title('Random walk', size=15)\n",
        "plt.show()"
      ]
    },
    {
      "cell_type": "code",
      "execution_count": null,
      "id": "ece29015",
      "metadata": {
        "id": "ece29015"
      },
      "outputs": [],
      "source": [
        "data_dots = sns.load_dataset(\"dots\").query(\"align == 'dots'\")\n",
        "data_dots.head()"
      ]
    },
    {
      "cell_type": "code",
      "execution_count": null,
      "id": "638305a4",
      "metadata": {
        "id": "638305a4"
      },
      "outputs": [],
      "source": [
        "# играемся с size\n",
        "fig, ax = plt.subplots()\n",
        "sns.lineplot(data=data_dots, x=\"time\", y=\"firing_rate\", size=\"coherence\", hue=\"choice\", ax=ax)\n",
        "ax.set_title('Firing rate in time', size=15)\n",
        "plt.show()"
      ]
    },
    {
      "cell_type": "markdown",
      "id": "42c1a87f",
      "metadata": {
        "id": "42c1a87f"
      },
      "source": [
        "## 3. Использование рисуночной функции, объединяющей интерфейсы (relplot)"
      ]
    },
    {
      "cell_type": "code",
      "execution_count": null,
      "id": "e346b540",
      "metadata": {
        "id": "e346b540"
      },
      "outputs": [],
      "source": [
        "# Всё это можно объединить в relplot\n",
        "sns.relplot(data=data_scatter, x='mpg', y='horsepower', height=7)\n",
        "plt.show()"
      ]
    },
    {
      "cell_type": "code",
      "execution_count": null,
      "id": "8e271b2c",
      "metadata": {
        "id": "8e271b2c"
      },
      "outputs": [],
      "source": [
        "# чтобы добавить название, надо повозиться\n",
        "rp = sns.relplot(data=data_scatter, x='mpg', y='horsepower', height=7)\n",
        "rp.fig.suptitle('Acceleration/horsepower relation', fontsize=15)\n",
        "rp.fig.subplots_adjust(top=0.93);\n",
        "plt.show()"
      ]
    },
    {
      "cell_type": "code",
      "execution_count": null,
      "id": "c4d5c739",
      "metadata": {
        "id": "c4d5c739"
      },
      "outputs": [],
      "source": [
        "# легенда вынесена\n",
        "rp = sns.relplot(data=data_scatter, x='mpg', y='horsepower', hue='model_year', height=7)\n",
        "rp.fig.suptitle('Acceleration/horsepower relation', fontsize=15)\n",
        "rp.fig.subplots_adjust(top=0.93);\n",
        "plt.show()"
      ]
    },
    {
      "cell_type": "code",
      "execution_count": null,
      "id": "2359fdc6",
      "metadata": {
        "id": "2359fdc6"
      },
      "outputs": [],
      "source": [
        "rp = sns.relplot(data=data_signals, x=\"timepoint\", y=\"signal\", hue=\"event\", kind='line',\n",
        "            height=7, aspect=1.3)\n",
        "rp.fig.suptitle('Signal level in time', fontsize=15)\n",
        "rp.fig.subplots_adjust(top=0.93);\n",
        "plt.show()"
      ]
    },
    {
      "cell_type": "code",
      "execution_count": null,
      "id": "67d99ecc",
      "metadata": {
        "id": "67d99ecc"
      },
      "outputs": [],
      "source": [
        "# композиции\n",
        "\n",
        "rp = sns.relplot(data=data_signals, x=\"timepoint\", y=\"signal\", hue=\"event\", col='region', kind='line',\n",
        "            height=5, linewidth=2)\n",
        "rp.fig.suptitle('Signal level in time depending on region', fontsize=15)\n",
        "rp.fig.subplots_adjust(top=0.85);\n",
        "plt.show()"
      ]
    },
    {
      "cell_type": "code",
      "execution_count": null,
      "id": "3bad6e55",
      "metadata": {
        "id": "3bad6e55"
      },
      "outputs": [],
      "source": [
        "# можно составлять очень красивые композиции!\n",
        "rp = sns.relplot(data=data_signals[data_signals['region'] == 'frontal'], kind=\"line\",\n",
        "                 x=\"timepoint\", y=\"signal\", hue=\"event\", style=\"event\",\n",
        "                 col=\"subject\", col_wrap=5,\n",
        "                 height=3, aspect=.75, linewidth=2.5)\n",
        "rp.fig.suptitle('Signal levels in time for each subject', fontsize=15)\n",
        "rp.fig.subplots_adjust(top=0.9);\n",
        "plt.show()"
      ]
    }
  ],
  "metadata": {
    "kernelspec": {
      "display_name": "Python 3 (ipykernel)",
      "language": "python",
      "name": "python3"
    },
    "language_info": {
      "codemirror_mode": {
        "name": "ipython",
        "version": 3
      },
      "file_extension": ".py",
      "mimetype": "text/x-python",
      "name": "python",
      "nbconvert_exporter": "python",
      "pygments_lexer": "ipython3",
      "version": "3.10.12"
    },
    "colab": {
      "provenance": [],
      "include_colab_link": true
    }
  },
  "nbformat": 4,
  "nbformat_minor": 5
}