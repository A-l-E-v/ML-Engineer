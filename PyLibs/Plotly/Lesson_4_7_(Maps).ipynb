{
  "cells": [
    {
      "cell_type": "markdown",
      "metadata": {
        "id": "view-in-github",
        "colab_type": "text"
      },
      "source": [
        "<a href=\"https://colab.research.google.com/github/A-l-E-v/ML-Engineer/blob/main/Lesson_4_7_(Maps).ipynb\" target=\"_parent\"><img src=\"https://colab.research.google.com/assets/colab-badge.svg\" alt=\"Open In Colab\"/></a>"
      ]
    },
    {
      "cell_type": "code",
      "execution_count": null,
      "id": "fcf2fda9",
      "metadata": {
        "scrolled": true,
        "id": "fcf2fda9"
      },
      "outputs": [],
      "source": [
        "!pip install geopandas"
      ]
    },
    {
      "cell_type": "code",
      "execution_count": null,
      "id": "0c1b30ce",
      "metadata": {
        "id": "0c1b30ce"
      },
      "outputs": [],
      "source": [
        "!pip install wget"
      ]
    },
    {
      "cell_type": "code",
      "execution_count": null,
      "id": "a7702e9e",
      "metadata": {
        "id": "a7702e9e"
      },
      "outputs": [],
      "source": [
        "import pandas as pd\n",
        "import plotly.graph_objects as go\n",
        "import plotly.express as px\n",
        "import geopandas as gpd\n",
        "import json\n",
        "import shapely.geometry\n",
        "import numpy as np\n",
        "import wget\n",
        "from urllib.request import urlopen"
      ]
    },
    {
      "cell_type": "markdown",
      "id": "0f2fa665",
      "metadata": {
        "id": "0f2fa665"
      },
      "source": [
        "Plotly поддерживает два основных типа карт:\n",
        "\n",
        "1) **Mapbox карты.** Это тайловые (плиточные) карты. Технология тайловых карт пришла из видеоигр: там для экономии ресурсов процессора вместо того, чтобы отрисовывать сразу все объекты в высоком разрешении, были отрисованы разные плитки, которые послойно менялись в зависимости от уровня близости игрока к объекту. Так и тут: Тайловые карты представляют собой набор векторных изображений (или плиток), каждое из которых принадлежит своему слою, или, другими словами, отображает тот или иной уровень детализации объектов в зависимости от изменения масштаба. В этом случае информация о карте содержится в *layout.mapbox*.\n",
        "\n",
        "2) **Geo карты.** Это контурные карты. В отличие от тайловых, они создаются единожды и задаются набором линий, которые приближаются и отдаляются как простой рисунок и не меняются сами по себе в зависимости от масштаба. В этом случае информация о карте содержится в *layout.geo*\n",
        "\n",
        "При обсуждении инструментала использования карт мы будем отдельно уточнять, для какого конкретно типа мы делаем обзор."
      ]
    },
    {
      "cell_type": "code",
      "execution_count": null,
      "id": "da62eda2",
      "metadata": {
        "id": "da62eda2"
      },
      "outputs": [],
      "source": [
        "# https://community.plotly.com/t/plotly-colours-list/11730/6\n",
        "\n",
        "def show_named_plotly_colours():\n",
        "    \"\"\"\n",
        "    function to display to user the colours to match plotly's named\n",
        "    css colours.\n",
        "\n",
        "    Reference:\n",
        "        #https://community.plotly.com/t/plotly-colours-list/11730/3\n",
        "\n",
        "    Returns:\n",
        "        plotly dataframe with cell colour to match named colour name\n",
        "\n",
        "    \"\"\"\n",
        "    s='''\n",
        "        aliceblue, antiquewhite, aqua, aquamarine, azure,\n",
        "        beige, bisque, black, blanchedalmond, blue,\n",
        "        blueviolet, brown, burlywood, cadetblue,\n",
        "        chartreuse, chocolate, coral, cornflowerblue,\n",
        "        cornsilk, crimson, cyan, darkblue, darkcyan,\n",
        "        darkgoldenrod, darkgray, darkgrey, darkgreen,\n",
        "        darkkhaki, darkmagenta, darkolivegreen, darkorange,\n",
        "        darkorchid, darkred, darksalmon, darkseagreen,\n",
        "        darkslateblue, darkslategray, darkslategrey,\n",
        "        darkturquoise, darkviolet, deeppink, deepskyblue,\n",
        "        dimgray, dimgrey, dodgerblue, firebrick,\n",
        "        floralwhite, forestgreen, fuchsia, gainsboro,\n",
        "        ghostwhite, gold, goldenrod, gray, grey, green,\n",
        "        greenyellow, honeydew, hotpink, indianred, indigo,\n",
        "        ivory, khaki, lavender, lavenderblush, lawngreen,\n",
        "        lemonchiffon, lightblue, lightcoral, lightcyan,\n",
        "        lightgoldenrodyellow, lightgray, lightgrey,\n",
        "        lightgreen, lightpink, lightsalmon, lightseagreen,\n",
        "        lightskyblue, lightslategray, lightslategrey,\n",
        "        lightsteelblue, lightyellow, lime, limegreen,\n",
        "        linen, magenta, maroon, mediumaquamarine,\n",
        "        mediumblue, mediumorchid, mediumpurple,\n",
        "        mediumseagreen, mediumslateblue, mediumspringgreen,\n",
        "        mediumturquoise, mediumvioletred, midnightblue,\n",
        "        mintcream, mistyrose, moccasin, navajowhite, navy,\n",
        "        oldlace, olive, olivedrab, orange, orangered,\n",
        "        orchid, palegoldenrod, palegreen, paleturquoise,\n",
        "        palevioletred, papayawhip, peachpuff, peru, pink,\n",
        "        plum, powderblue, purple, red, rosybrown,\n",
        "        royalblue, saddlebrown, salmon, sandybrown,\n",
        "        seagreen, seashell, sienna, silver, skyblue,\n",
        "        slateblue, slategray, slategrey, snow, springgreen,\n",
        "        steelblue, tan, teal, thistle, tomato, turquoise,\n",
        "        violet, wheat, white, whitesmoke, yellow,\n",
        "        yellowgreen\n",
        "        '''\n",
        "    li=s.split(',')\n",
        "    li=[l.replace('\\n','') for l in li]\n",
        "    li=[l.replace(' ','') for l in li]\n",
        "\n",
        "    import pandas as pd\n",
        "    import plotly.graph_objects as go\n",
        "\n",
        "    df=pd.DataFrame.from_dict({'colour': li})\n",
        "    fig = go.Figure(data=[go.Table(\n",
        "      header=dict(\n",
        "        values=[\"Plotly Named CSS colours\"],\n",
        "        line_color='black', fill_color='white',\n",
        "        align='center', font=dict(color='black', size=14)\n",
        "      ),\n",
        "      cells=dict(\n",
        "        values=[df.colour],\n",
        "        line_color=[df.colour], fill_color=[df.colour],\n",
        "        align='center', font=dict(color='black', size=11)\n",
        "      ))\n",
        "    ])\n",
        "\n",
        "    fig.show()"
      ]
    },
    {
      "cell_type": "code",
      "execution_count": null,
      "id": "a55eff6b",
      "metadata": {
        "id": "a55eff6b"
      },
      "outputs": [],
      "source": [
        "show_named_plotly_colours()"
      ]
    },
    {
      "cell_type": "markdown",
      "id": "3d029008",
      "metadata": {
        "id": "3d029008"
      },
      "source": [
        "## 1. Конфигурация карт"
      ]
    },
    {
      "cell_type": "markdown",
      "id": "03faef28",
      "metadata": {
        "id": "03faef28"
      },
      "source": [
        "### Geo"
      ]
    },
    {
      "cell_type": "markdown",
      "id": "059ccbc6",
      "metadata": {
        "id": "059ccbc6"
      },
      "source": [
        "**NB!** Все конфигурации, о которых мы будем тут говорить, применимы также и к картам, созданным с помощью Plotly Express"
      ]
    },
    {
      "cell_type": "code",
      "execution_count": null,
      "id": "e22495e0",
      "metadata": {
        "id": "e22495e0"
      },
      "outputs": [],
      "source": [
        "# hello, world! (в этот раз в прямом смысле)\n",
        "fig = go.Figure(go.Scattergeo())\n",
        "fig.update_layout(height=400, margin={\"r\": 0, \"t\": 0, \"l\": 0, \"b\": 0})\n",
        "fig.show()"
      ]
    },
    {
      "cell_type": "code",
      "execution_count": null,
      "id": "6aa5e197",
      "metadata": {
        "id": "6aa5e197"
      },
      "outputs": [],
      "source": [
        "# характеристики карты можно менять с помощью .update_geos()\n",
        "# давайте добавим все фичи на карту\n",
        "\n",
        "fig = go.Figure(go.Scattergeo())\n",
        "fig.update_geos \\\n",
        "(\n",
        "    resolution=50,\n",
        "    showcoastlines=True, coastlinecolor=\"RebeccaPurple\",\n",
        "    showland=True, landcolor=\"LightGreen\",\n",
        "    showocean=True, oceancolor=\"navy\",\n",
        "    showlakes=True, lakecolor=\"aqua\",\n",
        "    showrivers=True, rivercolor=\"royalblue\"\n",
        ")\n",
        "fig.update_layout(height=400, margin={\"r\": 0, \"t\": 0, \"l\": 0, \"b\": 0})\n",
        "fig.show()"
      ]
    },
    {
      "cell_type": "code",
      "execution_count": null,
      "id": "cc4dba15",
      "metadata": {
        "id": "cc4dba15"
      },
      "outputs": [],
      "source": [
        "# но можно и отключать, если они нам не нужны\n",
        "\n",
        "fig = go.Figure(go.Scattergeo())\n",
        "fig.update_geos \\\n",
        "(\n",
        "    resolution=50,\n",
        "    visible=False,\n",
        "    showrivers=True, rivercolor=\"royalblue\"\n",
        ")\n",
        "fig.update_layout(height=400, margin={\"r\": 0, \"t\": 0, \"l\": 0, \"b\": 0})\n",
        "fig.show()"
      ]
    },
    {
      "cell_type": "code",
      "execution_count": null,
      "id": "1b4fd238",
      "metadata": {
        "id": "1b4fd238"
      },
      "outputs": [],
      "source": [
        "# можно показать границы стран\n",
        "\n",
        "fig = go.Figure(go.Scattergeo())\n",
        "fig.update_geos(\n",
        "    visible=False, resolution=50,\n",
        "    showcountries=True, countrycolor=\"RebeccaPurple\"\n",
        ")\n",
        "fig.update_layout(height=400, margin={\"r\":0,\"t\":0,\"l\":0,\"b\":0})\n",
        "fig.show()"
      ]
    },
    {
      "cell_type": "markdown",
      "id": "b5dd2dc2",
      "metadata": {
        "id": "b5dd2dc2"
      },
      "source": [
        "**NB!** Во избежание недопониманий, стоит прояснить, что данные по границам опираются на [Natural Earth Data](https://www.naturalearthdata.com/about/), пункт политики которых гласит:\n",
        "\n",
        "*Natural Earth Vector draws boundaries of countries according to defacto status. We show who actually controls the situation on the ground.*\n",
        "\n",
        "Что означает, что границы показаны в пределах **де-факто** контролируемых территорий. Более того, некоторые спорные границы могут быть помечены пунктиром, при этом сплошной линией будут показаны границы общеустоявшиеся."
      ]
    },
    {
      "cell_type": "code",
      "execution_count": null,
      "id": "f822a631",
      "metadata": {
        "id": "f822a631"
      },
      "outputs": [],
      "source": [
        "# можно показать карту в других проекциях\n",
        "\n",
        "fig = go.Figure(go.Scattergeo())\n",
        "fig.update_geos(projection_type=\"orthographic\")\n",
        "fig.update_layout(height=400, margin={\"r\":0,\"t\":0,\"l\":0,\"b\":0})\n",
        "fig.show()"
      ]
    },
    {
      "cell_type": "code",
      "execution_count": null,
      "id": "bf1a95e8",
      "metadata": {
        "id": "bf1a95e8"
      },
      "outputs": [],
      "source": [
        "# можно показать карту в других проекциях\n",
        "\n",
        "fig = go.Figure(go.Scattergeo())\n",
        "fig.update_geos(projection_type=\"natural earth\")\n",
        "fig.update_layout(height=400, margin={\"r\":0,\"t\":0,\"l\":0,\"b\":0})\n",
        "fig.show()"
      ]
    },
    {
      "cell_type": "code",
      "execution_count": null,
      "id": "04b9e9e7",
      "metadata": {
        "id": "04b9e9e7"
      },
      "outputs": [],
      "source": [
        "# можно повернуть карту и сократить угол обзора\n",
        "\n",
        "fig = go.Figure(go.Scattergeo())\n",
        "fig.update_geos\\\n",
        "(\n",
        "    center={\"lon\": -50, \"lat\": 30}, # точка фокуса\n",
        "    projection_rotation={\"lon\": 10, \"lat\": 50, \"roll\": 30}, # свойства поворота\n",
        "    lataxis_range=[-100, 50],\n",
        "    lonaxis_range=[0, 150] # окно обзора\n",
        ")\n",
        "fig.update_layout(height=400, margin={\"r\": 0,\"t\": 0,\"l\": 0,\"b\": 0})\n",
        "fig.show()"
      ]
    },
    {
      "cell_type": "code",
      "execution_count": null,
      "id": "2837adac",
      "metadata": {
        "id": "2837adac"
      },
      "outputs": [],
      "source": [
        "# параметр fitbounds задает угол обзора, здесь мы задаем его автоматически на основе построенных данных\n",
        "\n",
        "fig = px.line_geo(lat=[40, 45, 50, 55], lon=[0, 30, 60, 90])\n",
        "fig.update_geos(fitbounds=\"locations\")\n",
        "fig.update_layout(height=400, margin={\"r\": 0,\"t\": 0,\"l\": 0,\"b\": 0})\n",
        "fig.show()"
      ]
    },
    {
      "cell_type": "code",
      "execution_count": null,
      "id": "b8cbc328",
      "metadata": {
        "id": "b8cbc328"
      },
      "outputs": [],
      "source": [
        "# параметр scope позволяет автоматически выбирать подмножество контуров для отрисовки\n",
        "# более того, он контролирует параметры projection type, center, roll, а также угол обзора\n",
        "\n",
        "fig = go.Figure(go.Scattergeo())\n",
        "fig.update_geos \\\n",
        "(\n",
        "    visible=False,\n",
        "    resolution=50,\n",
        "    scope=\"north america\", # или 'world', 'usa', 'europe', 'asia', 'africa', 'south america'.\n",
        "    showcountries=True, countrycolor=\"Black\",\n",
        "    showsubunits=True, subunitcolor=\"Black\", subunitwidth=0.1 # доступно только для \"north america\" и \"usa\"\n",
        ")\n",
        "fig.update_layout(height=400, margin={\"r\": 0, \"t\": 0, \"l\": 0, \"b\": 0})\n",
        "fig.show()"
      ]
    },
    {
      "cell_type": "code",
      "execution_count": null,
      "id": "7cd96276",
      "metadata": {
        "id": "7cd96276"
      },
      "outputs": [],
      "source": [
        "# параметр scope позволяет автоматически выбирать подмножество контуров для отрисовки\n",
        "# более того, он контролирует параметры projection type, center, roll, а также угол обзора\n",
        "\n",
        "fig = go.Figure(go.Scattergeo())\n",
        "fig.update_geos \\\n",
        "(\n",
        "    visible=False,\n",
        "    resolution=50,\n",
        "    scope=\"usa\", # или 'world', 'north america', 'europe', 'asia', 'africa', 'south america'.\n",
        "    showcountries=True, countrycolor=\"Black\",\n",
        "    showsubunits=True, subunitcolor=\"Black\", subunitwidth=0.1 # доступно только для \"north america\" и \"usa\"\n",
        ")\n",
        "fig.update_layout(height=400, margin={\"r\": 0, \"t\": 0, \"l\": 0, \"b\": 0})\n",
        "fig.show()"
      ]
    },
    {
      "cell_type": "code",
      "execution_count": null,
      "id": "7aeb499e",
      "metadata": {
        "id": "7aeb499e"
      },
      "outputs": [],
      "source": [
        "# параметр scope позволяет автоматически выбирать подмножество контуров для отрисовки\n",
        "# более того, он контролирует параметры projection type, center, roll, а также угол обзора\n",
        "\n",
        "fig = go.Figure(go.Scattergeo())\n",
        "fig.update_geos \\\n",
        "(\n",
        "    visible=False,\n",
        "    resolution=50,\n",
        "    scope=\"europe\", # или 'world', 'north america', 'usa', 'asia', 'africa', 'south america'.\n",
        "    showcountries=True, countrycolor=\"Black\"\n",
        ")\n",
        "fig.update_layout(height=400, margin={\"r\": 0, \"t\": 0, \"l\": 0, \"b\": 0})\n",
        "fig.show()"
      ]
    },
    {
      "cell_type": "code",
      "execution_count": null,
      "id": "d9f1e94e",
      "metadata": {
        "id": "d9f1e94e"
      },
      "outputs": [],
      "source": [
        "# также можно нарисовать сетку\n",
        "\n",
        "fig = go.Figure(go.Scattergeo())\n",
        "fig.update_geos(lataxis_showgrid=True, lonaxis_showgrid=True)\n",
        "fig.update_layout(height=400, margin={\"r\": 0,\"t\": 0, \"l\": 0, \"b\": 0})\n",
        "fig.show()"
      ]
    },
    {
      "cell_type": "markdown",
      "id": "aab67483",
      "metadata": {
        "id": "aab67483"
      },
      "source": [
        "### Mapbox"
      ]
    },
    {
      "cell_type": "markdown",
      "id": "8a7930b5",
      "metadata": {
        "id": "8a7930b5"
      },
      "source": [
        "Слои в картах Mapbox делятся на три вида:\n",
        "\n",
        "1. layout.mapbox.style определяет нижние слои, так называемую *базовую карту*\n",
        "2. Различные объекты данных будут построены поверх базовой карты.\n",
        "3. layout.mapbox.layers - это массив, определяющий слои, которые будут построены поверх объектов данных\n",
        "\n",
        "Пункты 2 и 3 могут контролироваться с помощью параметра *below*"
      ]
    },
    {
      "cell_type": "markdown",
      "id": "1ad0bd36",
      "metadata": {
        "id": "1ad0bd36"
      },
      "source": [
        "Слово *mapbox* в названиях различных методов и атрибутов ссылаются на Mapbox GL JS-библиотеку с открытым исходным кодом, интегрированную в питоновскеую версию библиотеки Plotly. Если базовая карта, определенная в layout.mapbox.style использует данные из **сервиса** Mapbox, тогда для корректной работы необходимо будет зарегистрироваться на https://mapbox.com/ и бесплатно получить Mapbox Access токен (правда, придётся ввести данные кредитной карты). Этот токен затем должен быть передан в соответствующие параметры конфигурации. В противном случае регистрироваться и получать токен не требуется."
      ]
    },
    {
      "cell_type": "markdown",
      "id": "1884e4cb",
      "metadata": {
        "id": "1884e4cb"
      },
      "source": [
        "Значение, передаваемое в layout.mapbox.style, может быть одним из:\n",
        "\n",
        "* \"white-bg\", что оставит просто белый лист как базу\n",
        "* \"open-street-map\", \"carto-positron\", или \"carto-darkmatter\" - это карты, состоящие из растровых тайлов, причём их использование не требует регистрации или получение токена\n",
        "* \"basic\", \"streets\", \"outdoors\", \"light\", \"dark\", \"satellite\", or \"satellite-streets\" - это карты из векторных тайлов, требуется регистрация и получение токена.\n",
        "* ссылки на те или иные сервисы Mapbox, требуется токен.\n",
        "* Mapbox Style объект (https://docs.mapbox.com/mapbox-gl-js/style-spec/)"
      ]
    },
    {
      "cell_type": "code",
      "execution_count": null,
      "id": "fe20a45d",
      "metadata": {
        "id": "fe20a45d"
      },
      "outputs": [],
      "source": [
        "# нарисуем карту американских городов на OpenStreet\n",
        "us_cities = pd.read_csv(\"https://raw.githubusercontent.com/plotly/datasets/master/2014_us_cities.csv\")\n",
        "\n",
        "fig = px.scatter_mapbox(us_cities, lat=\"lat\", lon=\"lon\", hover_name=\"name\", hover_data=[\"pop\"],\n",
        "                        color_discrete_sequence=[\"red\"], zoom=4, height=400)\n",
        "fig.update_layout(mapbox_style=\"open-street-map\", margin={\"r\": 0, \"t\": 0, \"l\": 0, \"b\": 0})\n",
        "fig.show()"
      ]
    },
    {
      "cell_type": "code",
      "execution_count": null,
      "id": "33d6890b",
      "metadata": {
        "id": "33d6890b"
      },
      "outputs": [],
      "source": [
        "# нарисуем карту американских городов получив базовую карту по ссылке\n",
        "\n",
        "fig = px.scatter_mapbox(us_cities, lat=\"lat\", lon=\"lon\", hover_name=\"name\", hover_data=[\"pop\"],\n",
        "                        color_discrete_sequence=[\"red\"], zoom=4, height=400)\n",
        "fig.update_layout \\\n",
        "(\n",
        "    mapbox_style=\"white-bg\",\n",
        "    mapbox_layers=\\\n",
        "    [{\n",
        "        \"below\": 'traces', # под объектами данных\n",
        "        \"sourcetype\": \"raster\", # растровые тайлы\n",
        "        \"sourceattribution\": \"United States Geological Survey\",\n",
        "        \"source\":\n",
        "        [\n",
        "            \"https://basemap.nationalmap.gov/arcgis/rest/services/\"\n",
        "            \"USGSImageryOnly/MapServer/tile/{z}/{y}/{x}\"\n",
        "        ]\n",
        "    }]\n",
        ")\n",
        "fig.update_layout(margin={\"r\": 0, \"t\": 0, \"l\": 0, \"b\": 0})\n",
        "fig.show()"
      ]
    },
    {
      "cell_type": "code",
      "execution_count": null,
      "id": "035e87cf",
      "metadata": {
        "id": "035e87cf"
      },
      "outputs": [],
      "source": [
        "# нужен mapbox token\n",
        "token = open(\".mapbox_token\").read()\n",
        "\n",
        "fig = px.scatter_mapbox(us_cities, lat=\"lat\", lon=\"lon\", hover_name=\"name\", hover_data=[\"pop\"],\n",
        "                        color_discrete_sequence=[\"red\"], zoom=4, height=400)\n",
        "fig.update_layout(mapbox_style=\"dark\", mapbox_accesstoken=token, margin={\"r\": 0, \"t\": 0, \"l\": 0, \"b\": 0})\n",
        "fig.show()"
      ]
    },
    {
      "cell_type": "code",
      "execution_count": null,
      "id": "12a5952e",
      "metadata": {
        "id": "12a5952e"
      },
      "outputs": [],
      "source": [
        "# можно ограничивать угол обзора\n",
        "us_cities = pd.read_csv(\"https://raw.githubusercontent.com/plotly/datasets/master/2014_us_cities.csv\")\n",
        "\n",
        "fig = px.scatter_mapbox(us_cities, lat=\"lat\", lon=\"lon\", hover_name=\"name\", hover_data=[\"pop\"],\n",
        "                        color_discrete_sequence=[\"red\"], zoom=4, height=400)\n",
        "fig.update_layout(mapbox_bounds={\"west\": -180, \"east\": -50, \"south\": 20, \"north\": 90})\n",
        "fig.update_layout(mapbox_style=\"open-street-map\", margin={\"r\": 0, \"t\": 0, \"l\": 0, \"b\": 0})\n",
        "fig.show()"
      ]
    },
    {
      "cell_type": "markdown",
      "id": "d68b59bd",
      "metadata": {
        "id": "d68b59bd"
      },
      "source": [
        "## 2. Фоновые карты (хороплеты)"
      ]
    },
    {
      "cell_type": "markdown",
      "id": "8bd338c3",
      "metadata": {
        "id": "8bd338c3"
      },
      "source": [
        "[Фоновые карты или хороплеты](https://ru.wikipedia.org/wiki/Фоновая_картограмма) - это карты, в которых разным стилем или цветами показывают характеристики тех или иных территорий на ней."
      ]
    },
    {
      "cell_type": "markdown",
      "id": "e45db411",
      "metadata": {
        "id": "e45db411"
      },
      "source": [
        "При создании хороплета мы должны предоставить два главных типа вводных данных:\n",
        "\n",
        "1. Информция о разметке:\n",
        "    1. Это может быть соответствующий GeoJSON файл, где каждый атрибут имеет поле *id*, либо присутствует другая идентифицирующая объект величина, либо\n",
        "    2. одна из встроенных в plotly разметок: штаты США или границы стран\n",
        "2. Список значений, каждый из которых определен идентификатором.\n",
        "\n",
        "Первые данные заносятся в аргумент *geojson*, а вторые - в аргумент *color* (в случае использования px.choropleth) или *z* (в случае использования объекта из graph_objects) в том же порядке, что и соответствующие ID в первом аргументе.\n",
        "\n",
        "Также стоит отметить, что в аргумент *geojson* может быть передана ссылка на GeoJSON-файл"
      ]
    },
    {
      "cell_type": "code",
      "execution_count": null,
      "id": "d2669a31",
      "metadata": {
        "id": "d2669a31"
      },
      "outputs": [],
      "source": [
        "# посмотрим как выглядят данные о разметке для стран:\n",
        "\n",
        "with urlopen('https://raw.githubusercontent.com/plotly/datasets/master/geojson-counties-fips.json') \\\n",
        "as response:\n",
        "    counties = json.load(response)\n",
        "\n",
        "counties[\"features\"][0]"
      ]
    },
    {
      "cell_type": "code",
      "execution_count": null,
      "id": "3349c0cb",
      "metadata": {
        "id": "3349c0cb"
      },
      "outputs": [],
      "source": [
        "# данные по безработице для штатов\n",
        "\n",
        "df = pd.read_csv(\"https://raw.githubusercontent.com/plotly/datasets/master/fips-unemp-16.csv\",\n",
        "                 dtype={\"fips\": str})\n",
        "df.head()"
      ]
    },
    {
      "cell_type": "code",
      "execution_count": null,
      "id": "bda9e2e5",
      "metadata": {
        "id": "bda9e2e5"
      },
      "outputs": [],
      "source": [
        "# строим\n",
        "\n",
        "fig = px.choropleth\\\n",
        "(\n",
        "    df,\n",
        "    geojson=counties,\n",
        "    locations='fips',\n",
        "    color='unemp',\n",
        "    color_continuous_scale=\"inferno\",\n",
        "    range_color=(0, 12),\n",
        "    scope=\"usa\",\n",
        "    labels={'unemp':'unemployment rate'}\n",
        ")\n",
        "fig.update_layout(margin={\"r\": 0, \"t\": 0, \"l\": 0, \"b\": 0})\n",
        "fig.show()"
      ]
    },
    {
      "cell_type": "code",
      "execution_count": null,
      "id": "1ad89803",
      "metadata": {
        "id": "1ad89803"
      },
      "outputs": [],
      "source": [
        "# также можем воспользоваться mapbox\n",
        "\n",
        "fig = px.choropleth_mapbox \\\n",
        "(\n",
        "    df,\n",
        "    geojson=counties,\n",
        "    locations='fips',\n",
        "    color='unemp',\n",
        "    color_continuous_scale=\"inferno\",\n",
        "    range_color=(0, 12),\n",
        "    mapbox_style=\"carto-positron\",\n",
        "    zoom=3,\n",
        "    center={\"lat\": 37, \"lon\": -96},\n",
        "    opacity=0.5,\n",
        "    labels={'unemp':'unemployment rate'}\n",
        ")\n",
        "fig.update_layout(margin={\"r\": 0, \"t\": 0, \"l\": 0, \"b\": 0})\n",
        "fig.show()"
      ]
    },
    {
      "cell_type": "code",
      "execution_count": null,
      "id": "a87370ba",
      "metadata": {
        "id": "a87370ba"
      },
      "outputs": [],
      "source": [
        "# просмотрим данные голосования - заметим, что тут нет id, но есть district\n",
        "df = px.data.election()\n",
        "geojson = px.data.election_geojson()\n",
        "\n",
        "print(df[\"district\"][2])\n",
        "print(geojson[\"features\"][0][\"properties\"])\n",
        "\n",
        "df"
      ]
    },
    {
      "cell_type": "code",
      "execution_count": null,
      "id": "573c9631",
      "metadata": {
        "id": "573c9631"
      },
      "outputs": [],
      "source": [
        "# используем featureidkey\n",
        "fig = px.choropleth\\\n",
        "(\n",
        "    df,\n",
        "    geojson=geojson,\n",
        "    color=\"Joly\",\n",
        "    locations=\"district\",\n",
        "    featureidkey=\"properties.district\",\n",
        "    projection=\"mercator\"\n",
        ")\n",
        "fig.update_geos(fitbounds=\"locations\", visible=False)\n",
        "fig.update_layout(margin={\"r\": 0, \"t\": 0, \"l\": 0, \"b\": 0})\n",
        "fig.show()"
      ]
    },
    {
      "cell_type": "code",
      "execution_count": null,
      "id": "aa595359",
      "metadata": {
        "id": "aa595359"
      },
      "outputs": [],
      "source": [
        "# а теперь определим победителей в каждом округе\n",
        "fig = px.choropleth_mapbox\\\n",
        "(\n",
        "    df,\n",
        "    geojson=geojson,\n",
        "    color=\"winner\",\n",
        "    locations=\"district\",\n",
        "    featureidkey=\"properties.district\",\n",
        "    hover_data=[\"Bergeron\", \"Coderre\", \"Joly\"],\n",
        "    center={\"lat\": 45.6, \"lon\": -73.7},\n",
        "    mapbox_style=\"carto-positron\",\n",
        "    zoom=9\n",
        ")\n",
        "fig.update_geos(fitbounds=\"locations\", visible=False)\n",
        "fig.update_layout(margin={\"r\": 0, \"t\": 0, \"l\": 0, \"b\": 0})\n",
        "fig.show()"
      ]
    },
    {
      "cell_type": "code",
      "execution_count": null,
      "id": "550e1ecc",
      "metadata": {
        "scrolled": false,
        "id": "550e1ecc"
      },
      "outputs": [],
      "source": [
        "# воспользуемся геопандасом\n",
        "\n",
        "df = px.data.election()\n",
        "geo_df = gpd.GeoDataFrame.from_features(px.data.election_geojson()[\"features\"])\n",
        "display(geo_df.head())\n",
        "geo_df = geo_df.merge(df, on=\"district\").set_index(\"district\")\n",
        "display(geo_df.head())\n",
        "\n",
        "fig = px.choropleth_mapbox \\\n",
        "(\n",
        "    geo_df,\n",
        "    geojson=geo_df.geometry,\n",
        "    locations=geo_df.index,\n",
        "    color=\"Joly\",\n",
        "    center={\"lat\": 45.6, \"lon\": -73.7},\n",
        "    mapbox_style=\"carto-positron\",\n",
        "    zoom=9\n",
        ")\n",
        "fig.update_geos(fitbounds=\"locations\", visible=False)\n",
        "fig.show()"
      ]
    },
    {
      "cell_type": "code",
      "execution_count": null,
      "id": "439e2b95",
      "metadata": {
        "id": "439e2b95"
      },
      "outputs": [],
      "source": [
        "px.data.gapminder().query(\"year==2007\")"
      ]
    },
    {
      "cell_type": "code",
      "execution_count": null,
      "id": "1644bd1a",
      "metadata": {
        "id": "1644bd1a"
      },
      "outputs": [],
      "source": [
        "# воспользуемся локациями стран передав их коды в locations\n",
        "# (так можно, так как локации стран встроены в plotly)\n",
        "df = px.data.gapminder().query(\"year==2007\")\n",
        "fig = px.choropleth(df, locations=\"iso_alpha\",\n",
        "                    color=\"gdpPercap\",\n",
        "                    hover_name=\"country\",\n",
        "                    color_continuous_scale=\"solar\")\n",
        "fig.show()"
      ]
    },
    {
      "cell_type": "code",
      "execution_count": null,
      "id": "0978e0a9",
      "metadata": {
        "id": "0978e0a9"
      },
      "outputs": [],
      "source": [
        "# то же самое прокатывает со штатами\n",
        "fig = px.choropleth(locations=[\"NV\", \"TX\", \"MI\"],\n",
        "                    locationmode=\"USA-states\",\n",
        "                    scope=\"usa\", color=[\"a\", \"b\", \"c\"],\n",
        "                    color_discrete_sequence=[\"cyan\", \"magenta\", \"yellow\"])\n",
        "fig.show()"
      ]
    },
    {
      "cell_type": "code",
      "execution_count": null,
      "id": "93b51d5b",
      "metadata": {
        "id": "93b51d5b"
      },
      "outputs": [],
      "source": [
        "df = pd.read_csv(\"https://raw.githubusercontent.com/plotly/datasets/master/unemployment_data_europe_oecd.csv\")\n",
        "df"
      ]
    },
    {
      "cell_type": "code",
      "execution_count": null,
      "id": "9bdcf2eb",
      "metadata": {
        "id": "9bdcf2eb"
      },
      "outputs": [],
      "source": [
        "# то же самое можно делать и с помощью go.Chloropleth\n",
        "\n",
        "df = pd.read_csv(\"https://raw.githubusercontent.com/plotly/datasets/master/unemployment_data_europe_oecd.csv\")\n",
        "df = df.query(\"TIME=='2023-01'\")\n",
        "\n",
        "fig = go.Figure\\\n",
        "(\n",
        "    data=go.Choropleth\\\n",
        "    (\n",
        "        locations=df['LOCATION'],\n",
        "        z = df['Value'], # данные для цветового разделения\n",
        "        locationmode = 'ISO-3', # метод для определения локации по коду\n",
        "        colorscale = 'Reds',\n",
        "        colorbar_title = \"%\"\n",
        "    )\n",
        ")\n",
        "\n",
        "fig.update_layout\\\n",
        "(\n",
        "    title_text = 'Uneployment rate in Europe in Jan 2023',\n",
        "    geo_scope='europe',\n",
        "    margin={\"r\": 0, \"t\": 35, \"l\": 0, \"b\": 0}\n",
        ")\n",
        "\n",
        "fig.show()"
      ]
    },
    {
      "cell_type": "code",
      "execution_count": null,
      "id": "4791b11f",
      "metadata": {
        "id": "4791b11f"
      },
      "outputs": [],
      "source": [
        "fig = go.Figure \\\n",
        "(\n",
        "    data=go.Choropleth \\\n",
        "    (\n",
        "        locations=df['LOCATION'],\n",
        "        z = df['Value'], # данные для цветового разделения\n",
        "        locationmode = 'ISO-3', # метод для определения локации по коду\n",
        "        colorscale = 'Reds',\n",
        "        colorbar_title = \"%\"\n",
        "    )\n",
        ")\n",
        "\n",
        "fig.update_layout \\\n",
        "(\n",
        "    title_text = 'Uneployment rate in Europe in Jan 2023',\n",
        "    margin={\"r\": 0, \"t\": 35, \"l\": 0, \"b\": 0}\n",
        ")\n",
        "\n",
        "fig.update_geos \\\n",
        "(\n",
        "    scope='europe',\n",
        "    showrivers=True,\n",
        "    rivercolor='royalblue'\n",
        ")\n",
        "\n",
        "fig.show()"
      ]
    },
    {
      "cell_type": "code",
      "execution_count": null,
      "id": "a7b4366c",
      "metadata": {
        "id": "a7b4366c"
      },
      "outputs": [],
      "source": [
        "df = pd.read_csv(\"https://raw.githubusercontent.com/plotly/datasets/master/country_indicators.csv\")\n",
        "print(df[\"Indicator Name\"].unique())"
      ]
    },
    {
      "cell_type": "code",
      "execution_count": null,
      "id": "7973b6ab",
      "metadata": {
        "id": "7973b6ab"
      },
      "outputs": [],
      "source": [
        "df"
      ]
    },
    {
      "cell_type": "code",
      "execution_count": null,
      "id": "19d16cac",
      "metadata": {
        "id": "19d16cac"
      },
      "outputs": [],
      "source": [
        "# сделаем мировую карту выбросов углекислоты\n",
        "\n",
        "df = pd.read_csv(\"https://raw.githubusercontent.com/plotly/datasets/master/country_indicators.csv\")\n",
        "df = df.query(\"Year==2002 & `Indicator Name`=='CO2 emissions (metric tons per capita)'\")\n",
        "\n",
        "fig = go.Figure \\\n",
        "(\n",
        "    data=go.Choropleth\\\n",
        "    (\n",
        "        locations = df['Country Name'],\n",
        "        locationmode = 'country names',\n",
        "        z = df['Value'],\n",
        "        text = df['Country Name'],\n",
        "        colorscale = 'turbid',\n",
        "        marker_line_color='darkgray',\n",
        "        marker_line_width=0.5,\n",
        "        colorbar_title = 'tons per capita'\n",
        "    )\n",
        ")\n",
        "\n",
        "fig.update_layout(\n",
        "    title_text='2002 CO2 emissions (tons per capita)',\n",
        "    geo=\\\n",
        "    {\n",
        "        \"showframe\": False,\n",
        "        \"showcoastlines\": False,\n",
        "        \"projection_type\": 'equirectangular'\n",
        "    }\n",
        ")\n",
        "\n",
        "fig.show()"
      ]
    },
    {
      "cell_type": "code",
      "execution_count": null,
      "id": "c4ffef2a",
      "metadata": {
        "scrolled": true,
        "id": "c4ffef2a"
      },
      "outputs": [],
      "source": [
        "token = open(\".mapbox_token\").read()\n",
        "\n",
        "with urlopen('https://raw.githubusercontent.com/plotly/datasets/master/geojson-counties-fips.json')\\\n",
        "as response:\n",
        "    counties = json.load(response)\n",
        "\n",
        "df = pd.read_csv(\"https://raw.githubusercontent.com/plotly/datasets/master/fips-unemp-16.csv\",\n",
        "                   dtype={\"fips\": str})\n",
        "\n",
        "\n",
        "fig = go.Figure(go.Choroplethmapbox(geojson=counties, locations=df.fips, z=df.unemp,\n",
        "                                    colorscale=\"Viridis\", zmin=0, zmax=12, marker_line_width=0))\n",
        "fig.update_layout(mapbox_style=\"light\", mapbox_accesstoken=token,\n",
        "                  mapbox_zoom=3, mapbox_center = {\"lat\": 37.1, \"lon\": -95.7})\n",
        "fig.update_layout(margin={\"r\": 0, \"t\": 0, \"l\": 0, \"b\": 0})\n",
        "fig.show()"
      ]
    },
    {
      "cell_type": "markdown",
      "id": "509c2e0a",
      "metadata": {
        "id": "509c2e0a"
      },
      "source": [
        "## 3. Точечные графики на картах"
      ]
    },
    {
      "cell_type": "code",
      "execution_count": null,
      "id": "980a0453",
      "metadata": {
        "id": "980a0453"
      },
      "outputs": [],
      "source": [
        "# стандартный пример - популяции стран\n",
        "\n",
        "df = px.data.gapminder().query(\"year == 2007\")\n",
        "fig = px.scatter_geo\\\n",
        "(\n",
        "    df, locations=\"iso_alpha\",\n",
        "    size=\"pop\",\n",
        ")\n",
        "fig.show()"
      ]
    },
    {
      "cell_type": "code",
      "execution_count": null,
      "id": "f6d9bb05",
      "metadata": {
        "id": "f6d9bb05"
      },
      "outputs": [],
      "source": [
        "# обновление\n",
        "\n",
        "fig = px.scatter_geo(df, locations=\"iso_alpha\",\n",
        "                     color=\"continent\",\n",
        "                     hover_name=\"country\",\n",
        "                     hover_data=[\"gdpPercap\", \"lifeExp\"],\n",
        "                     size=\"pop\",\n",
        "                     projection=\"natural earth\")\n",
        "fig.show()"
      ]
    },
    {
      "cell_type": "code",
      "execution_count": null,
      "id": "3aa52212",
      "metadata": {
        "id": "3aa52212"
      },
      "outputs": [],
      "source": [
        "# можно и с mapbox\n",
        "us_cities = pd.read_csv(\"https://raw.githubusercontent.com/plotly/datasets/master/2014_us_cities.csv\")\n",
        "\n",
        "fig = px.scatter_mapbox(us_cities, lat=\"lat\", lon=\"lon\", hover_name=\"name\", size=\"pop\", hover_data=[\"pop\"],\n",
        "                        color_discrete_sequence=[\"red\"], zoom=3, height=400)\n",
        "fig.update_layout(mapbox_style=\"open-street-map\", margin={\"r\": 0, \"t\": 0, \"l\": 0, \"b\": 0})\n",
        "fig.show()"
      ]
    },
    {
      "cell_type": "code",
      "execution_count": null,
      "id": "0be15fe1",
      "metadata": {
        "id": "0be15fe1"
      },
      "outputs": [],
      "source": [
        "df = pd.read_csv('https://raw.githubusercontent.com/plotly/datasets/'\n",
        "                 'master/2011_february_us_airport_traffic.csv')\n",
        "df"
      ]
    },
    {
      "cell_type": "code",
      "execution_count": null,
      "id": "e5d9ac7d",
      "metadata": {
        "id": "e5d9ac7d"
      },
      "outputs": [],
      "source": [
        "# выведем данные для американских аэропортов\n",
        "\n",
        "df['text'] = df['airport'] + '' + df['city'] + ', ' + df['state'] + '' + 'Arrivals: ' + df['cnt'].astype(str)\n",
        "\n",
        "fig = go.Figure\\\n",
        "(\n",
        "    data=go.Scattergeo\\\n",
        "    (\n",
        "        lon = df['long'],\n",
        "        lat = df['lat'],\n",
        "        text = df['text'],\n",
        "        mode = 'markers',\n",
        "        marker_color = df['cnt'],\n",
        "    )\n",
        ")\n",
        "\n",
        "fig.update_layout\\\n",
        "(\n",
        "    title = 'Most trafficked US airports<br>(Hover for airport names)',\n",
        "    geo_scope='usa',\n",
        ")\n",
        "fig.show()"
      ]
    },
    {
      "cell_type": "code",
      "execution_count": null,
      "id": "74941b90",
      "metadata": {
        "id": "74941b90"
      },
      "outputs": [],
      "source": [
        "# теперь можно их стилизовать\n",
        "\n",
        "fig = go.Figure \\\n",
        "(\n",
        "    data=go.Scattergeo\\\n",
        "    (\n",
        "        lon = df['long'],\n",
        "        lat = df['lat'],\n",
        "        text = df['text'],\n",
        "        mode = 'markers',\n",
        "        marker = \\\n",
        "        {\n",
        "            \"size\": 6,\n",
        "            \"opacity\": 0.75,\n",
        "            \"symbol\": 'diamond',\n",
        "            \"line\": \\\n",
        "            {\n",
        "                \"width\": 2,\n",
        "                \"color\": 'grey'\n",
        "            },\n",
        "            \"colorscale\": 'Reds',\n",
        "            \"cmin\": 0,\n",
        "            \"color\": df['cnt'],\n",
        "            \"cmax\": df['cnt'].max(),\n",
        "            \"colorbar_title\":\"Incoming flights<br>February 2011\"\n",
        "        }\n",
        "    )\n",
        ")\n",
        "\n",
        "\n",
        "fig.update_layout\\\n",
        "(\n",
        "    title = 'Most trafficked US airports<br>(Hover for airport names)',\n",
        "    geo = \\\n",
        "    {\n",
        "        \"scope\":'usa',\n",
        "        \"showland\": True,\n",
        "        \"subunitwidth\": 0.4\n",
        "    }\n",
        ")\n",
        "fig.show()"
      ]
    },
    {
      "cell_type": "code",
      "execution_count": null,
      "id": "81f31b64",
      "metadata": {
        "id": "81f31b64"
      },
      "outputs": [],
      "source": [
        "df = pd.read_csv('https://raw.githubusercontent.com/plotly/datasets/master/2015_06_30_precipitation.csv')\n",
        "df"
      ]
    },
    {
      "cell_type": "code",
      "execution_count": null,
      "id": "2f5189e8",
      "metadata": {
        "id": "2f5189e8"
      },
      "outputs": [],
      "source": [
        "# данные по осадкам\n",
        "\n",
        "\n",
        "\n",
        "fig = go.Figure \\\n",
        "(\n",
        "    data=go.Scattergeo \\\n",
        "    (\n",
        "        lat = df['Lat'],\n",
        "        lon = df['Lon'],\n",
        "        text = df['Globvalue'].astype(str) + ' inches',\n",
        "        marker = \\\n",
        "        {\n",
        "            \"color\": df['Globvalue'],\n",
        "            \"colorscale\": \"Teal\",\n",
        "            \"opacity\": 0.7,\n",
        "            \"size\": 2,\n",
        "            \"colorbar\": \\\n",
        "            {\n",
        "                \"titleside\": \"right\",\n",
        "                \"ticks\": \"outside\",\n",
        "                \"dtick\": 0.1\n",
        "            }\n",
        "        }\n",
        "    )\n",
        ")\n",
        "\n",
        "fig.update_layout(\n",
        "    geo = \\\n",
        "    {\n",
        "        \"scope\": 'north america',\n",
        "        \"showcoastlines\": True, \"coastlinecolor\": \"RebeccaPurple\",\n",
        "        \"showland\": True, \"landcolor\": \"green\",\n",
        "        \"showlakes\": True, \"lakecolor\": \"aqua\",\n",
        "        \"showrivers\": True, \"rivercolor\": \"royalblue\",\n",
        "        \"subunitcolor\": \"Black\",\n",
        "        \"countrycolor\": \"Black\",\n",
        "        \"showsubunits\": True,\n",
        "        \"showcountries\": True,\n",
        "        \"resolution\": 50,\n",
        "        \"projection\": \\\n",
        "        {\n",
        "            \"type\": 'conic conformal',\n",
        "            \"rotation_lon\": -100\n",
        "        },\n",
        "        \"lonaxis\": \\\n",
        "        {\n",
        "            \"showgrid\": True,\n",
        "            \"gridwidth\": 0.5,\n",
        "            \"range\": [-140.0, -55.0],\n",
        "            \"dtick\": 5\n",
        "        },\n",
        "        \"lataxis\": \\\n",
        "        {\n",
        "            \"showgrid\": True,\n",
        "            \"gridwidth\": 0.5,\n",
        "            \"range\": [20.0, 60.0],\n",
        "            \"dtick\": 5\n",
        "        }\n",
        "    },\n",
        "    title='US Precipitation 06-30-2015<br>Source: <a href=\"http://water.weather.gov/precip/\">NOAA</a>',\n",
        ")\n",
        "fig.show()"
      ]
    },
    {
      "cell_type": "code",
      "execution_count": null,
      "id": "2729c639",
      "metadata": {
        "id": "2729c639"
      },
      "outputs": [],
      "source": [
        "# можно заменять маркеры на иконки\n",
        "\n",
        "token = open(\".mapbox_token\").read() # you need your own token\n",
        "\n",
        "fig = go.Figure\\\n",
        "(\n",
        "    go.Scattermapbox\\\n",
        "    (\n",
        "        mode=\"markers+text+lines\",\n",
        "        lon=[-75, -80, -50],\n",
        "        lat=[45, 20, -20],\n",
        "        marker={'size': 20, 'symbol': [\"bus\", \"harbor\", \"airport\"]},\n",
        "        text=[\"Bus\", \"Harbor\", \"airport\"],\n",
        "        textposition=\"bottom right\"\n",
        "    )\n",
        ")\n",
        "\n",
        "fig.update_layout\\\n",
        "(\n",
        "    mapbox = \\\n",
        "    {\n",
        "        'accesstoken': token,\n",
        "        'style': \"outdoors\",\n",
        "        'zoom': 0.7\n",
        "    },\n",
        "    showlegend = False)\n",
        "\n",
        "fig.show()"
      ]
    },
    {
      "cell_type": "code",
      "execution_count": null,
      "id": "daaf7885",
      "metadata": {
        "id": "daaf7885"
      },
      "outputs": [],
      "source": [
        "# можно кластеризовать маркеры, которые будут раскрываться по ходу дела\n",
        "\n",
        "px.set_mapbox_access_token(open(\".mapbox_token\").read())\n",
        "df = pd.read_csv \\\n",
        "(\n",
        "    \"https://raw.githubusercontent.com/plotly/datasets/master/2011_february_us_airport_traffic.csv\"\n",
        ")\n",
        "fig = px.scatter_mapbox(df, lat=\"lat\", lon=\"long\", size=\"cnt\", zoom=3)\n",
        "fig.update_traces(cluster={\"enabled\": True})\n",
        "fig.show()"
      ]
    },
    {
      "cell_type": "markdown",
      "id": "3590ca3a",
      "metadata": {
        "id": "3590ca3a"
      },
      "source": [
        "## 4. Линии на картах"
      ]
    },
    {
      "cell_type": "code",
      "execution_count": null,
      "id": "31fa55b0",
      "metadata": {
        "id": "31fa55b0"
      },
      "outputs": [],
      "source": [
        "df = px.data.gapminder().query(\"year == 2007\")\n",
        "fig = px.line_geo(df, locations=\"iso_alpha\",\n",
        "                  color=\"continent\",\n",
        "                  projection=\"orthographic\")\n",
        "fig.show()"
      ]
    },
    {
      "cell_type": "code",
      "execution_count": null,
      "id": "b2ceb144",
      "metadata": {
        "id": "b2ceb144"
      },
      "outputs": [],
      "source": [
        "# здесь мы распакуем все точки линий рек, чтобы выводилась аннотация при наведении на каждую из них\n",
        "\n",
        "# скачиваем файл\n",
        "wget.download(\"https://plotly.github.io/datasets/ne_50m_rivers_lake_centerlines.zip\")\n",
        "\n",
        "# распаковываем файл с точками рек\n",
        "geo_df = gpd.read_file(\"zip://ne_50m_rivers_lake_centerlines.zip\")\n",
        "\n",
        "lats = []\n",
        "lons = []\n",
        "names = []\n",
        "\n",
        "display(geo_df)\n",
        "\n",
        "# в цикле проходимся по всем формам рек и экстрактируем нужные нам атрибуты\n",
        "for feature, name in zip(geo_df.geometry, geo_df.name):\n",
        "    if isinstance(feature, shapely.geometry.linestring.LineString):\n",
        "        linestrings = [feature]\n",
        "    elif isinstance(feature, shapely.geometry.multilinestring.MultiLineString):\n",
        "        linestrings = feature.geoms\n",
        "    else:\n",
        "        continue\n",
        "    for linestring in linestrings:\n",
        "        x, y = linestring.xy\n",
        "        lats = np.append(lats, y)\n",
        "        lons = np.append(lons, x)\n",
        "        names = np.append(names, [name]*len(y))\n",
        "        lats = np.append(lats, None)\n",
        "        lons = np.append(lons, None)\n",
        "        names = np.append(names, None)\n",
        "\n",
        "# таким образом получаем всё что нужно\n",
        "fig = px.line_geo(lat=lats, lon=lons, hover_name=names)\n",
        "fig.show()"
      ]
    },
    {
      "cell_type": "code",
      "execution_count": null,
      "id": "251cf72f",
      "metadata": {
        "id": "251cf72f"
      },
      "outputs": [],
      "source": [
        "# можно в mapbox\n",
        "\n",
        "fig = px.line_mapbox(lat=lats, lon=lons, hover_name=names,\n",
        "                     mapbox_style=\"open-street-map\", zoom=1)\n",
        "fig.show()"
      ]
    },
    {
      "cell_type": "code",
      "execution_count": null,
      "id": "9cc09c1b",
      "metadata": {
        "id": "9cc09c1b"
      },
      "outputs": [],
      "source": [
        "df_flight_paths.head()"
      ]
    },
    {
      "cell_type": "code",
      "execution_count": null,
      "id": "a3d528f8",
      "metadata": {
        "id": "a3d528f8"
      },
      "outputs": [],
      "source": [
        "# сделаем визуализацию с перелётами между аэропортами\n",
        "\n",
        "df_airports = pd.read_csv('https://raw.githubusercontent.com/plotly/datasets/'\n",
        "                          'master/2011_february_us_airport_traffic.csv')\n",
        "df_airports.head()\n",
        "\n",
        "df_flight_paths = pd.read_csv('https://raw.githubusercontent.com/plotly/datasets/'\n",
        "                              'master/2011_february_aa_flight_paths.csv')\n",
        "df_flight_paths.head()\n",
        "\n",
        "fig = go.Figure()\n",
        "\n",
        "# добавляем маркеры аэропортов\n",
        "fig.add_trace \\\n",
        "(\n",
        "    go.Scattergeo \\\n",
        "    (\n",
        "        locationmode = 'USA-states',\n",
        "        lon = df_airports['long'],\n",
        "        lat = df_airports['lat'],\n",
        "        hoverinfo = 'text',\n",
        "        text = df_airports['airport'],\n",
        "        mode = 'markers',\n",
        "        marker = \\\n",
        "        {\n",
        "            \"size\": 2,\n",
        "            \"color\": 'red',\n",
        "            \"line\": \\\n",
        "            {\n",
        "                \"width\": 2,\n",
        "                \"color\": 'grey'\n",
        "            }\n",
        "        }\n",
        "    )\n",
        ")\n",
        "\n",
        "# добавляем линии перелётов с интенсивностью цвета в зависимости от популярности направления\n",
        "flight_paths = []\n",
        "for i in range(len(df_flight_paths)):\n",
        "    fig.add_trace \\\n",
        "    (\n",
        "        go.Scattergeo \\\n",
        "        (\n",
        "            locationmode = 'USA-states',\n",
        "            lon = [df_flight_paths['start_lon'][i], df_flight_paths['end_lon'][i]],\n",
        "            lat = [df_flight_paths['start_lat'][i], df_flight_paths['end_lat'][i]],\n",
        "            mode = 'lines',\n",
        "            line = {\"width\": 1, \"color\": 'red'},\n",
        "            opacity = float(df_flight_paths['cnt'][i]) / float(df_flight_paths['cnt'].max()),\n",
        "        )\n",
        "    )\n",
        "\n",
        "# обновляем дизайн\n",
        "fig.update_layout\\\n",
        "(\n",
        "    title_text = 'Feb. 2011 American Airline flight paths<br>(Hover for airport names)',\n",
        "    showlegend = False,\n",
        "    geo = \\\n",
        "    {\n",
        "        \"scope\": 'north america',\n",
        "        \"projection_type\": 'azimuthal equal area',\n",
        "        \"showland\": True,\n",
        "        \"landcolor\": 'azure',\n",
        "        \"countrycolor\": 'lightsteelblue',\n",
        "    },\n",
        ")\n",
        "\n",
        "fig.show()"
      ]
    },
    {
      "cell_type": "code",
      "execution_count": null,
      "id": "bb11db7c",
      "metadata": {
        "id": "bb11db7c"
      },
      "outputs": [],
      "source": [
        "# чтобы улучшить перформанс, нужно объединить все линии в один график:\n",
        "\n",
        "fig = go.Figure()\n",
        "\n",
        "# добавляем маркеры аэропортов\n",
        "fig.add_trace \\\n",
        "(\n",
        "    go.Scattergeo \\\n",
        "    (\n",
        "        locationmode = 'USA-states',\n",
        "        lon = df_airports['long'],\n",
        "        lat = df_airports['lat'],\n",
        "        hoverinfo = 'text',\n",
        "        text = df_airports['airport'],\n",
        "        mode = 'markers',\n",
        "        marker = \\\n",
        "        {\n",
        "            \"size\": 2,\n",
        "            \"color\": 'red',\n",
        "            \"line\": \\\n",
        "            {\n",
        "                \"width\": 2,\n",
        "                \"color\": 'grey'\n",
        "            }\n",
        "        }\n",
        "    )\n",
        ")\n",
        "\n",
        "# здесь происходит оптимизация\n",
        "lons = []\n",
        "lats = []\n",
        "lons = np.empty(3 * len(df_flight_paths))\n",
        "lons[::3] = df_flight_paths['start_lon']\n",
        "lons[1::3] = df_flight_paths['end_lon']\n",
        "lons[2::3] = None # тут вставляем как бы разрыв между линиями\n",
        "lats = np.empty(3 * len(df_flight_paths))\n",
        "lats[::3] = df_flight_paths['start_lat']\n",
        "lats[1::3] = df_flight_paths['end_lat']\n",
        "lats[2::3] = None # и тут тоже\n",
        "\n",
        "# теперь добавляем все линии как сущность одного графика\n",
        "fig.add_trace\\\n",
        "(\n",
        "    go.Scattergeo\\\n",
        "    (\n",
        "        locationmode = 'USA-states',\n",
        "        lon = lons,\n",
        "        lat = lats,\n",
        "        mode = 'lines',\n",
        "        line = {\"width\": 1, \"color\": 'red'},\n",
        "        opacity = 0.5\n",
        "    )\n",
        ")\n",
        "\n",
        "# обновляем дизайн\n",
        "fig.update_layout\\\n",
        "(\n",
        "    title_text = 'Feb. 2011 American Airline flight paths<br>(Hover for airport names)',\n",
        "    showlegend = False,\n",
        "    geo = \\\n",
        "    {\n",
        "        \"scope\": 'north america',\n",
        "        \"projection_type\": 'azimuthal equal area',\n",
        "        \"showland\": True,\n",
        "        \"landcolor\": 'azure',\n",
        "        \"countrycolor\": 'lightsteelblue',\n",
        "    },\n",
        ")\n",
        "\n",
        "fig.show()"
      ]
    },
    {
      "cell_type": "code",
      "execution_count": null,
      "id": "676d5ef5",
      "metadata": {
        "id": "676d5ef5"
      },
      "outputs": [],
      "source": [
        "df = pd.read_csv('https://raw.githubusercontent.com/plotly/datasets/master/globe_contours.csv')\n",
        "df.head()"
      ]
    },
    {
      "cell_type": "code",
      "execution_count": null,
      "id": "2fe7fc22",
      "metadata": {
        "id": "2fe7fc22"
      },
      "outputs": [],
      "source": [
        "# рисуем линии на ортографической проекции шара\n",
        "\n",
        "fig = go.Figure()\n",
        "\n",
        "\n",
        "# добавляем линии\n",
        "for i, (lat, lon) in enumerate(zip(df.columns[::2], df.columns[1::2])):\n",
        "    fig.add_trace \\\n",
        "    (\n",
        "        go.Scattergeo \\\n",
        "        (\n",
        "            lon=df[lon],\n",
        "            lat=df[lat],\n",
        "            mode='lines',\n",
        "            line={\"width\": 2, \"color\": px.colors.diverging.RdBu[i%len(px.colors.diverging.RdBu)]}\n",
        "        )\n",
        "    )\n",
        "\n",
        "# обновляем внешний вид\n",
        "fig.update_layout(\n",
        "    title_text='Contour lines over globe<br>(Click and drag to rotate)',\n",
        "    showlegend=False,\n",
        "    geo = \\\n",
        "    {\n",
        "        \"scope\": 'north america',\n",
        "        \"showcoastlines\": True, \"coastlinecolor\": \"RebeccaPurple\",\n",
        "        \"showland\": True, \"landcolor\": \"green\",\n",
        "        \"showlakes\": True, \"lakecolor\": \"aqua\",\n",
        "        \"showrivers\": True, \"rivercolor\": \"royalblue\",\n",
        "        \"subunitcolor\": \"Black\",\n",
        "        \"countrycolor\": \"Black\",\n",
        "        \"showsubunits\": True,\n",
        "        \"showcountries\": True,\n",
        "        \"resolution\": 50,\n",
        "        \"projection\": \\\n",
        "        {\n",
        "            \"type\": 'orthographic',\n",
        "            \"rotation\": {\"lon\": -100, \"lat\": 40}\n",
        "        },\n",
        "        \"lonaxis\": \\\n",
        "        {\n",
        "            \"showgrid\": True,\n",
        "            \"gridwidth\": 0.5,\n",
        "        },\n",
        "        \"lataxis\": \\\n",
        "        {\n",
        "            \"showgrid\": True,\n",
        "            \"gridwidth\": 0.5,\n",
        "        }\n",
        "    },\n",
        ")\n",
        "\n",
        "fig.show()"
      ]
    },
    {
      "cell_type": "code",
      "execution_count": null,
      "id": "8f87dcad",
      "metadata": {
        "id": "8f87dcad"
      },
      "outputs": [],
      "source": [
        "# также можно добавлять линии с помощью scattermapbox\n",
        "\n",
        "fig = go.Figure\\\n",
        "(\n",
        "    go.Scattermapbox\\\n",
        "    (\n",
        "        mode=\"markers+lines\",\n",
        "        lon=[37.618, 30.304, 49.109],\n",
        "        lat=[55.751, 59.938, 55.796],\n",
        "        marker={'size': 10}\n",
        "    )\n",
        ")\n",
        "\n",
        "fig.add_trace\\\n",
        "(\n",
        "    go.Scattermapbox\\\n",
        "    (\n",
        "        mode=\"markers+lines\",\n",
        "        lon=[37.618, 135.067, 131.87353],\n",
        "        lat=[55.751, 48.466, 43.10562],\n",
        "        marker={'size': 10}\\\n",
        "    )\n",
        ")\n",
        "\n",
        "fig.update_layout\\\n",
        "(\n",
        "    margin={'l': 0, 't': 0, 'b': 0, 'r': 0},\n",
        "    mapbox=\\\n",
        "    {\n",
        "        'style': \"open-street-map\",\n",
        "        'center': {'lon': 80, 'lat': 55},\n",
        "        'zoom': 2\n",
        "    }\n",
        ")\n",
        "\n",
        "fig.show()"
      ]
    },
    {
      "cell_type": "markdown",
      "id": "d5159987",
      "metadata": {
        "id": "d5159987"
      },
      "source": [
        "## 5. Остальные возможности plotly"
      ]
    },
    {
      "cell_type": "markdown",
      "id": "fdc734f4",
      "metadata": {
        "id": "fdc734f4"
      },
      "source": [
        "### Пузырьковая карта"
      ]
    },
    {
      "cell_type": "code",
      "execution_count": null,
      "id": "9b19a5e8",
      "metadata": {
        "id": "9b19a5e8"
      },
      "outputs": [],
      "source": [
        "df = pd.read_csv(\"https://raw.githubusercontent.com/plotly/datasets/master/unemployment_data_europe_oecd.csv\")\n",
        "df"
      ]
    },
    {
      "cell_type": "code",
      "execution_count": null,
      "id": "a743b03b",
      "metadata": {
        "id": "a743b03b"
      },
      "outputs": [],
      "source": [
        "df[\"TIME\"] = pd.to_datetime(df[\"TIME\"])"
      ]
    },
    {
      "cell_type": "code",
      "execution_count": null,
      "id": "c8d564d0",
      "metadata": {
        "id": "c8d564d0"
      },
      "outputs": [],
      "source": [
        "# иллюстрация безработицы\n",
        "\n",
        "fig = px.scatter_geo(df[df[\"TIME\"].dt.year == 2003], locations=\"LOCATION\",\n",
        "                     hover_name=\"LOCATION\", size=\"Value\",\n",
        "                     projection=\"natural earth\")\n",
        "fig.show()"
      ]
    },
    {
      "cell_type": "code",
      "execution_count": null,
      "id": "aa367fa9",
      "metadata": {
        "id": "aa367fa9"
      },
      "outputs": [],
      "source": [
        "# анимация безработицы\n",
        "fig = px.scatter_geo(df, locations=\"LOCATION\",\n",
        "                     hover_name=\"LOCATION\", size=\"Value\",\n",
        "                     animation_frame=\"TIME\",\n",
        "                     projection=\"natural earth\")\n",
        "fig.show()"
      ]
    },
    {
      "cell_type": "code",
      "execution_count": null,
      "id": "57b79766",
      "metadata": {
        "id": "57b79766"
      },
      "outputs": [],
      "source": [
        "# выводим топ городов по населению\n",
        "\n",
        "df = pd.read_csv('https://raw.githubusercontent.com/plotly/datasets/master/2014_us_cities.csv')\n",
        "df.head()\n",
        "\n",
        "df['text'] = df['name'] + '<br>Population ' + (df['pop']/1e6).astype(str)+' million'\n",
        "limits = [(0, 2), (3, 10), (11, 20), (21, 50), (50, 3000)]\n",
        "colors = [\"royalblue\", \"crimson\", \"lightseagreen\", \"orange\", \"lightgrey\"]\n",
        "cities = []\n",
        "scale = 5000\n",
        "\n",
        "fig = go.Figure()\n",
        "\n",
        "for i in range(len(limits)):\n",
        "    lim = limits[i]\n",
        "    df_sub = df[lim[0]:lim[1]]\n",
        "    fig.add_trace\\\n",
        "    (\n",
        "        go.Scattergeo\\\n",
        "        (\n",
        "            locationmode = 'USA-states',\n",
        "            lon = df_sub['lon'],\n",
        "            lat = df_sub['lat'],\n",
        "            text = df_sub['text'],\n",
        "            marker = \\\n",
        "            {\n",
        "                \"size\": df_sub['pop']/scale,\n",
        "                \"color\": colors[i],\n",
        "                \"line_color\": 'grey',\n",
        "                \"line_width\": 0.5,\n",
        "                \"sizemode\": 'area'\n",
        "            },\n",
        "            name='{0} - {1}'.format(lim[0] + 1, lim[1] + 1)\n",
        "        )\n",
        "    )\n",
        "\n",
        "fig.update_layout\\\n",
        "(\n",
        "        title_text = '2014 US city populations<br>(Click legend to toggle traces)',\n",
        "        showlegend = True,\n",
        "        geo = \\\n",
        "        {\n",
        "            \"scope\": 'usa',\n",
        "            \"landcolor\": 'black'\n",
        "        }\n",
        ")\n",
        "\n",
        "fig.show()"
      ]
    },
    {
      "cell_type": "markdown",
      "id": "f5329b45",
      "metadata": {
        "id": "f5329b45"
      },
      "source": [
        "### Карта плотности"
      ]
    },
    {
      "cell_type": "code",
      "execution_count": null,
      "id": "a70494a5",
      "metadata": {
        "id": "a70494a5"
      },
      "outputs": [],
      "source": [
        "df = pd.read_csv('https://raw.githubusercontent.com/plotly/datasets/master/earthquakes-23k.csv')\n",
        "df"
      ]
    },
    {
      "cell_type": "code",
      "execution_count": null,
      "id": "7de242b2",
      "metadata": {
        "id": "7de242b2"
      },
      "outputs": [],
      "source": [
        "fig = px.density_mapbox(df, lat='Latitude', lon='Longitude', z='Magnitude', radius=7,\n",
        "                        center={\"lat\": 0, \"lon\": 100}, zoom=0,\n",
        "                        mapbox_style=\"open-street-map\")\n",
        "fig.show()"
      ]
    },
    {
      "cell_type": "code",
      "execution_count": null,
      "id": "6321bbed",
      "metadata": {
        "id": "6321bbed"
      },
      "outputs": [],
      "source": [
        "# можно сделать с помощью Densitymapbox\n",
        "\n",
        "fig = go.Figure\\\n",
        "(\n",
        "    go.Densitymapbox\\\n",
        "    (\n",
        "        lat=df.Latitude,\n",
        "        lon=df.Longitude,\n",
        "        z=df.Magnitude,\n",
        "        radius=7\n",
        "    )\n",
        ")\n",
        "fig.update_layout(mapbox_style=\"open-street-map\", mapbox_center_lon=100, margin={\"r\":0,\"t\":0,\"l\":0,\"b\":0})\n",
        "fig.show()"
      ]
    },
    {
      "cell_type": "markdown",
      "id": "42e9f641",
      "metadata": {
        "id": "42e9f641"
      },
      "source": [
        "## Дополнительные материалы"
      ]
    },
    {
      "cell_type": "markdown",
      "id": "521672a6",
      "metadata": {
        "id": "521672a6"
      },
      "source": [
        "[Зарекистрироваться и получить Mapbox Access токен можно здесь](https://account.mapbox.com/auth/signup/)\n",
        "\n",
        "[Как создавать закрашенные зоны на картах](https://plotly.com/python/filled-area-on-mapbox/)\n",
        "\n",
        "[Ячеистые диаграммы на картах](https://plotly.com/python/hexbin-mapbox/)\n",
        "\n",
        "[Документация по layout.geo](https://plotly.com/python/reference/layout/geo/)\n",
        "\n",
        "[Документация по layout.mapbox](https://plotly.com/python/reference/layout/mapbox/)"
      ]
    }
  ],
  "metadata": {
    "kernelspec": {
      "display_name": "Python 3 (ipykernel)",
      "language": "python",
      "name": "python3"
    },
    "language_info": {
      "codemirror_mode": {
        "name": "ipython",
        "version": 3
      },
      "file_extension": ".py",
      "mimetype": "text/x-python",
      "name": "python",
      "nbconvert_exporter": "python",
      "pygments_lexer": "ipython3",
      "version": "3.10.12"
    },
    "colab": {
      "provenance": [],
      "include_colab_link": true
    }
  },
  "nbformat": 4,
  "nbformat_minor": 5
}