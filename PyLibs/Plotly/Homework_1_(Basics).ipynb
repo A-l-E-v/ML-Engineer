{
  "cells": [
    {
      "cell_type": "markdown",
      "metadata": {
        "colab_type": "text",
        "id": "view-in-github"
      },
      "source": [
        "<a href=\"https://colab.research.google.com/github/A-l-E-v/ML-Engineer/blob/main/Homework_1_(Basics).ipynb\" target=\"_parent\"><img src=\"https://colab.research.google.com/assets/colab-badge.svg\" alt=\"Open In Colab\"/></a>"
      ]
    },
    {
      "cell_type": "markdown",
      "id": "a-Vyf5OVbPX1",
      "metadata": {
        "id": "a-Vyf5OVbPX1"
      },
      "source": [
        "# Домашнее задание\n",
        "# Тема 4. Урок 2. Plotly"
      ]
    },
    {
      "cell_type": "markdown",
      "id": "l-f7xI7Lbl_0",
      "metadata": {
        "id": "l-f7xI7Lbl_0"
      },
      "source": [
        "## Инструкции для выполнения домашнего задания"
      ]
    },
    {
      "cell_type": "markdown",
      "id": "aJWFl5itci7c",
      "metadata": {
        "id": "aJWFl5itci7c"
      },
      "source": [
        "1. Домашнее задание состоит из вводной части и 4 заданий\n",
        "2. В вводной части вам нужно подключить необходимые библиотеки\n",
        "3. В каждом задании дан фрагмент программного кода, который нужно дополнить для построения графиков\n",
        "4. В каждом фрагменте программного кода даны комментарии, написанные через **#** и выделенные зеленым цветом. Комментарии или дают пояснения к строке, или объясняют, какие строки должны быть на месте пропусков, т.е. чем вы должны дополнить фрагмент программного кода до полноценной программы\n",
        "5. В случае если вы забыли ранее изученные  материалы, вы всегда можете вернуться на обучающую платформу и просмотреть их заново (видео, презентация, тетрадь и т.д.), а также можете воспользоваться документацией Plotly"
      ]
    },
    {
      "cell_type": "markdown",
      "id": "CFUwW76gczVT",
      "metadata": {
        "id": "CFUwW76gczVT"
      },
      "source": [
        "## Подготовка к выполнению домашего задания"
      ]
    },
    {
      "cell_type": "code",
      "execution_count": 93,
      "id": "fb0f8810",
      "metadata": {
        "id": "fb0f8810"
      },
      "outputs": [],
      "source": [
        "import numpy as np\n",
        "import plotly.graph_objects as go # для объектов plotly\n",
        "import plotly.subplots as sp # для построения композиций\n",
        "import plotly.express as px # для построения быстрых графиков"
      ]
    },
    {
      "cell_type": "markdown",
      "id": "f45c4102",
      "metadata": {
        "id": "f45c4102"
      },
      "source": [
        "# Задание 1"
      ]
    },
    {
      "cell_type": "markdown",
      "id": "3x69hzLcqNjL",
      "metadata": {
        "id": "3x69hzLcqNjL"
      },
      "source": [
        "Создаём данные, которые затем будем визуализировать:"
      ]
    },
    {
      "cell_type": "code",
      "execution_count": 94,
      "id": "558cb79a",
      "metadata": {
        "id": "558cb79a"
      },
      "outputs": [],
      "source": [
        "X = np.linspace(0, 8, 100) # сетка\n",
        "y_sin = np.sin(X) # синус\n",
        "y_cos = np.cos(X) # косинус"
      ]
    },
    {
      "cell_type": "markdown",
      "id": "Ni0G3iBiqTp6",
      "metadata": {
        "id": "Ni0G3iBiqTp6"
      },
      "source": [
        "Визуализируем данные:"
      ]
    },
    {
      "cell_type": "code",
      "execution_count": 95,
      "id": "1fb11053",
      "metadata": {
        "colab": {
          "base_uri": "https://localhost:8080/",
          "height": 542
        },
        "id": "1fb11053",
        "outputId": "2fccbc39-481f-4d1b-c4ca-152d11ca44cd"
      },
      "outputs": [
        {
          "data": {
            "application/vnd.plotly.v1+json": {
              "config": {
                "plotlyServerURL": "https://plot.ly"
              },
              "data": [
                {
                  "mode": "lines",
                  "name": "sin(x)",
                  "type": "scatter",
                  "x": {
                    "bdata": "AAAAAAAAAABbv1Kg1q+0P1u/UqDWr8Q/CB988MEHzz9bv1Kg1q/UPzJvZ0jM29k/CB988MEH3z9wZ0jM2xniP1u/UqDWr+Q/RhdddNFF5z8yb2dIzNvpPx3HcRzHcew/CB988MEH7z96O0Ni3s7wP3BnSMzbGfI/ZZNNNtlk8z9bv1Kg1q/0P1HrVwrU+vU/RhdddNFF9z88Q2LezpD4PzJvZ0jM2/k/J5tssskm+z8dx3Ecx3H8PxPzdobEvP0/CB988MEH/z9/pUCtXykAQHo7Q2LezgBAddFFF110AUBwZ0jM2xkCQGr9SoFavwJAZZNNNtlkA0BgKVDrVwoEQFu/UqDWrwRAVlVVVVVVBUBR61cK1PoFQEyBWr9SoAZARhdddNFFB0BBrV8pUOsHQDxDYt7OkAhAN9lkk002CUAyb2dIzNsJQC0Fav1KgQpAJ5tssskmC0AiMW9nSMwLQB3HcRzHcQxAGF100UUXDUAT83aGxLwNQA6JeTtDYg5ACB988MEHD0ADtX6lQK0PQH+lQK1fKRBAffDBBx98EEB6O0Ni3s4QQHeGxLydIRFAddFFF110EUByHMdxHMcRQHBnSMzbGRJAbbLJJptsEkBq/UqBWr8SQGhIzNsZEhNAZZNNNtlkE0Bj3s6QmLcTQGApUOtXChRAXnTRRRddFEBbv1Kg1q8UQFgK1PqVAhVAVlVVVVVVFUBToNavFKgVQFHrVwrU+hVATjbZZJNNFkBMgVq/UqAWQEnM2xkS8xZARhdddNFFF0BEYt7OkJgXQEGtXylQ6xdAP/jggw8+GEA8Q2LezpAYQDmO4ziO4xhAN9lkk002GUA0JObtDIkZQDJvZ0jM2xlAL7rooosuGkAtBWr9SoEaQCpQ61cK1BpAJ5tssskmG0Al5u0MiXkbQCIxb2dIzBtAIHzwwQcfHEAdx3Ecx3EcQBsS83aGxBxAGF100UUXHUAVqPUrBWodQBPzdobEvB1AED744IMPHkAOiXk7Q2IeQAvU+pUCtR5ACB988MEHH0AGav1KgVofQAO1fqVArR9AAAAAAAAAIEA=",
                    "dtype": "f8"
                  },
                  "y": {
                    "bdata": "AAAAAAAAAABQnwOhE6q0P4aD12nQmMQ/OBVEbC26zj+aXlz7GVTUP1ZjAncmKdk/MJFbWinU3T+tjlgJqybhPzPWi6iZRuM/jMGNw1NG5T9rLLlhgiLnP9abcO0J2Og/wp1YZQ9k6j9Cx6wh/cPrP8bEtiWH9ew/3oUw9q727T+qMSjuxsXuP+nq1Ax1Ye8/jxGtN7XI7z8WKvjs2vrvPxNbBmSS9+8/vfYrGeG+7z8EMJfEJVHvPzVLD7wXr+4/ULGlwMXZ7T89qlg6lNLsP1+Im+Q6m+s/XCen78E16j8tOV6bfqToPwdzcVEP6uY/1MdGRVcJ5T8tGfOgeQXjP5nLVUfU4eA/5G8waPRD3T8fve0FW5PYP1zwnFCyudM/QjKqlSl+zT+q7hQOqFfDP/ktPQarIbI/Q/MxRilShL/XNlPm9jG3v/iZhd9z2cW/bAZ7/2r1z7+9DWN7/u3UvwXkfI9Pvtm/C85I1Z1j3r/+oDIhE2vhv27xVlA9h+O/87gu/MaC5b/8p9srYFrnv0APRfL0Cum/sbKGkrKR6r8vrnU3DOzrv83zWTa/F+2/gg2+1dYS7r/Z0wWSr9vuv1BdVtr5cO+/6Ro8QbzR778abWYdVf3vv5FuwJd78++/vLAjJUC0778cltlqDEDvv006GY6il+6/kM6o7xu87b90XMBV567sv6dgP4fGceu/DxE1XMsG6r8806JIVHDov1roP2cIsea/4y3bCtPL5L9QnsLd3sPiv82rVpeQnOC/ibxAoQKz3L+NVcYC8fzXv2Fja1/LHtO/owS4cmdBzL8HK3fkAhbCv13shtuaMa+/cwsYt+dRlD9lssSBRLm5P9tkP1qKGcc/TtGhLu2X0D9ys7jvW4fVP+Re7YzSUto/va9YO07y3j/OuoHVCq/hP6sIQfdix+M/cAYeaa++5T97pGBHp5HnP276UGE+Pek/B1+5UKq+6j9MxHwjZxPsP9wld487Oe0/YoKiqTwu7j/CPksa0fDuP/aV+cizf+8/XW+Z+/XZ7z9AIFXlAP/vPwO1iKKW7u8/e88ooNKo7z8=",
                    "dtype": "f8"
                  }
                },
                {
                  "mode": "lines",
                  "name": "cos(x)",
                  "type": "scatter",
                  "x": {
                    "bdata": "AAAAAAAAAABbv1Kg1q+0P1u/UqDWr8Q/CB988MEHzz9bv1Kg1q/UPzJvZ0jM29k/CB988MEH3z9wZ0jM2xniP1u/UqDWr+Q/RhdddNFF5z8yb2dIzNvpPx3HcRzHcew/CB988MEH7z96O0Ni3s7wP3BnSMzbGfI/ZZNNNtlk8z9bv1Kg1q/0P1HrVwrU+vU/RhdddNFF9z88Q2LezpD4PzJvZ0jM2/k/J5tssskm+z8dx3Ecx3H8PxPzdobEvP0/CB988MEH/z9/pUCtXykAQHo7Q2LezgBAddFFF110AUBwZ0jM2xkCQGr9SoFavwJAZZNNNtlkA0BgKVDrVwoEQFu/UqDWrwRAVlVVVVVVBUBR61cK1PoFQEyBWr9SoAZARhdddNFFB0BBrV8pUOsHQDxDYt7OkAhAN9lkk002CUAyb2dIzNsJQC0Fav1KgQpAJ5tssskmC0AiMW9nSMwLQB3HcRzHcQxAGF100UUXDUAT83aGxLwNQA6JeTtDYg5ACB988MEHD0ADtX6lQK0PQH+lQK1fKRBAffDBBx98EEB6O0Ni3s4QQHeGxLydIRFAddFFF110EUByHMdxHMcRQHBnSMzbGRJAbbLJJptsEkBq/UqBWr8SQGhIzNsZEhNAZZNNNtlkE0Bj3s6QmLcTQGApUOtXChRAXnTRRRddFEBbv1Kg1q8UQFgK1PqVAhVAVlVVVVVVFUBToNavFKgVQFHrVwrU+hVATjbZZJNNFkBMgVq/UqAWQEnM2xkS8xZARhdddNFFF0BEYt7OkJgXQEGtXylQ6xdAP/jggw8+GEA8Q2LezpAYQDmO4ziO4xhAN9lkk002GUA0JObtDIkZQDJvZ0jM2xlAL7rooosuGkAtBWr9SoEaQCpQ61cK1BpAJ5tssskmG0Al5u0MiXkbQCIxb2dIzBtAIHzwwQcfHEAdx3Ecx3EcQBsS83aGxBxAGF100UUXHUAVqPUrBWodQBPzdobEvB1AED744IMPHkAOiXk7Q2IeQAvU+pUCtR5ACB988MEHH0AGav1KgVofQAO1fqVArR9AAAAAAAAAIEA=",
                    "dtype": "f8"
                  },
                  "y": {
                    "bdata": "AAAAAAAA8D9HK6CUROXvP0AFMfw+le8/0Kwk6XQQ7z9d9043xFfuP3RuOXlhbO0/2qiW9NVP7D+KWjIR/QPrPyzmpz4Bi+k/an8OVljn5z8liaZ9vxvmP3BcZpU2K+Q/hq0LNPsY4j/7DCJ6BtHfP78oJjHuOts/P1edLVd31j+n2toSN47RP+OvS3WED8k/9ioyAHixvT+L7rrClSSiP3iQonMUOKe/UMFg43wbwL9Jc4tRC07Kv2XwUmZTKtK/5EnDk0cP178Zq47PtM3bvzitYAvXLuC/cAd8Acpb4r/EOljDEGrkv1d+Uwk8Vua/xHL7hxUd6L8H3OdNpbvpvz+saLk2L+u/sAu+/Vx17L+b70ww94vtvwtVC9czce6/LQcz8pMj778PmSd87aHvv1p1Yltt6++/Chwlw5j/778KSaQATt7vv046VbPEh++/XQT/b4387r+zOSvPkD3uv397iegNTO2/AzrPPZgp7L/hXY4YFdjqv282aV+4Wem/K1Lu5wCx57/uV0JLtODlv4cjj0Ta6+O/VPD0oLfV4b+77+WSkUPfv+rFzt93p9q/6U3D0dXe1b83wRp5qfHQvysw1uVb0Me/5pY+ojYru792oZsCRCGav2WWNlP9Sqw/DwVx2NVdwT8z0VVz6IvLPyrnOoT6xdI/NrDXL6Om1z9hcPsHyF/cP4Pvmm7CdOA/FJo0WiKe4j+xKNk4Z6jkPy8B6XQokOY/Ktb2IjdS6D8t9U9To+vpP5LASfrAWes/y1shZyya7D/eEvhBzqrtP9z/QArfie4/MI/JD+o17z8bYmXhz63vP5Q6LS3I8O8/kpAuD2P+7z84o1zMidbvPzWwivh+ee8/Ct4vB97n7j+psa5HmiLuP8b90U79Ku0/Z3om0KQC7D9xBcnqf6vqP3xdLO7LJ+k/PW88nBB65z/UkB/vG6XlP27VpWn9q+M/ZKg6+gCS4T/kmMfxUrXePzoLA5NVE9o/t/g5WMdF1T+MojWLrlTQPy32fa6ZkMY/xJHF9kWkuD/ztnLMZ/GPP8rGN9KXrrC/lC9jv76fwr8=",
                    "dtype": "f8"
                  }
                },
                {
                  "mode": "markers",
                  "name": "circle",
                  "type": "scatter",
                  "x": {
                    "bdata": "AAAAAAAAAABQnwOhE6q0P4aD12nQmMQ/OBVEbC26zj+aXlz7GVTUP1ZjAncmKdk/MJFbWinU3T+tjlgJqybhPzPWi6iZRuM/jMGNw1NG5T9rLLlhgiLnP9abcO0J2Og/wp1YZQ9k6j9Cx6wh/cPrP8bEtiWH9ew/3oUw9q727T+qMSjuxsXuP+nq1Ax1Ye8/jxGtN7XI7z8WKvjs2vrvPxNbBmSS9+8/vfYrGeG+7z8EMJfEJVHvPzVLD7wXr+4/ULGlwMXZ7T89qlg6lNLsP1+Im+Q6m+s/XCen78E16j8tOV6bfqToPwdzcVEP6uY/1MdGRVcJ5T8tGfOgeQXjP5nLVUfU4eA/5G8waPRD3T8fve0FW5PYP1zwnFCyudM/QjKqlSl+zT+q7hQOqFfDP/ktPQarIbI/Q/MxRilShL/XNlPm9jG3v/iZhd9z2cW/bAZ7/2r1z7+9DWN7/u3UvwXkfI9Pvtm/C85I1Z1j3r/+oDIhE2vhv27xVlA9h+O/87gu/MaC5b/8p9srYFrnv0APRfL0Cum/sbKGkrKR6r8vrnU3DOzrv83zWTa/F+2/gg2+1dYS7r/Z0wWSr9vuv1BdVtr5cO+/6Ro8QbzR778abWYdVf3vv5FuwJd78++/vLAjJUC0778cltlqDEDvv006GY6il+6/kM6o7xu87b90XMBV567sv6dgP4fGceu/DxE1XMsG6r8806JIVHDov1roP2cIsea/4y3bCtPL5L9QnsLd3sPiv82rVpeQnOC/ibxAoQKz3L+NVcYC8fzXv2Fja1/LHtO/owS4cmdBzL8HK3fkAhbCv13shtuaMa+/cwsYt+dRlD9lssSBRLm5P9tkP1qKGcc/TtGhLu2X0D9ys7jvW4fVP+Re7YzSUto/va9YO07y3j/OuoHVCq/hP6sIQfdix+M/cAYeaa++5T97pGBHp5HnP276UGE+Pek/B1+5UKq+6j9MxHwjZxPsP9wld487Oe0/YoKiqTwu7j/CPksa0fDuP/aV+cizf+8/XW+Z+/XZ7z9AIFXlAP/vPwO1iKKW7u8/e88ooNKo7z8=",
                    "dtype": "f8"
                  },
                  "y": {
                    "bdata": "AAAAAAAA8D9HK6CUROXvP0AFMfw+le8/0Kwk6XQQ7z9d9043xFfuP3RuOXlhbO0/2qiW9NVP7D+KWjIR/QPrPyzmpz4Bi+k/an8OVljn5z8liaZ9vxvmP3BcZpU2K+Q/hq0LNPsY4j/7DCJ6BtHfP78oJjHuOts/P1edLVd31j+n2toSN47RP+OvS3WED8k/9ioyAHixvT+L7rrClSSiP3iQonMUOKe/UMFg43wbwL9Jc4tRC07Kv2XwUmZTKtK/5EnDk0cP178Zq47PtM3bvzitYAvXLuC/cAd8Acpb4r/EOljDEGrkv1d+Uwk8Vua/xHL7hxUd6L8H3OdNpbvpvz+saLk2L+u/sAu+/Vx17L+b70ww94vtvwtVC9czce6/LQcz8pMj778PmSd87aHvv1p1Yltt6++/Chwlw5j/778KSaQATt7vv046VbPEh++/XQT/b4387r+zOSvPkD3uv397iegNTO2/AzrPPZgp7L/hXY4YFdjqv282aV+4Wem/K1Lu5wCx57/uV0JLtODlv4cjj0Ta6+O/VPD0oLfV4b+77+WSkUPfv+rFzt93p9q/6U3D0dXe1b83wRp5qfHQvysw1uVb0Me/5pY+ojYru792oZsCRCGav2WWNlP9Sqw/DwVx2NVdwT8z0VVz6IvLPyrnOoT6xdI/NrDXL6Om1z9hcPsHyF/cP4Pvmm7CdOA/FJo0WiKe4j+xKNk4Z6jkPy8B6XQokOY/Ktb2IjdS6D8t9U9To+vpP5LASfrAWes/y1shZyya7D/eEvhBzqrtP9z/QArfie4/MI/JD+o17z8bYmXhz63vP5Q6LS3I8O8/kpAuD2P+7z84o1zMidbvPzWwivh+ee8/Ct4vB97n7j+psa5HmiLuP8b90U79Ku0/Z3om0KQC7D9xBcnqf6vqP3xdLO7LJ+k/PW88nBB65z/UkB/vG6XlP27VpWn9q+M/ZKg6+gCS4T/kmMfxUrXePzoLA5NVE9o/t/g5WMdF1T+MojWLrlTQPy32fa6ZkMY/xJHF9kWkuD/ztnLMZ/GPP8rGN9KXrrC/lC9jv76fwr8=",
                    "dtype": "f8"
                  }
                }
              ],
              "layout": {
                "template": {
                  "data": {
                    "bar": [
                      {
                        "error_x": {
                          "color": "#2a3f5f"
                        },
                        "error_y": {
                          "color": "#2a3f5f"
                        },
                        "marker": {
                          "line": {
                            "color": "#E5ECF6",
                            "width": 0.5
                          },
                          "pattern": {
                            "fillmode": "overlay",
                            "size": 10,
                            "solidity": 0.2
                          }
                        },
                        "type": "bar"
                      }
                    ],
                    "barpolar": [
                      {
                        "marker": {
                          "line": {
                            "color": "#E5ECF6",
                            "width": 0.5
                          },
                          "pattern": {
                            "fillmode": "overlay",
                            "size": 10,
                            "solidity": 0.2
                          }
                        },
                        "type": "barpolar"
                      }
                    ],
                    "carpet": [
                      {
                        "aaxis": {
                          "endlinecolor": "#2a3f5f",
                          "gridcolor": "white",
                          "linecolor": "white",
                          "minorgridcolor": "white",
                          "startlinecolor": "#2a3f5f"
                        },
                        "baxis": {
                          "endlinecolor": "#2a3f5f",
                          "gridcolor": "white",
                          "linecolor": "white",
                          "minorgridcolor": "white",
                          "startlinecolor": "#2a3f5f"
                        },
                        "type": "carpet"
                      }
                    ],
                    "choropleth": [
                      {
                        "colorbar": {
                          "outlinewidth": 0,
                          "ticks": ""
                        },
                        "type": "choropleth"
                      }
                    ],
                    "contour": [
                      {
                        "colorbar": {
                          "outlinewidth": 0,
                          "ticks": ""
                        },
                        "colorscale": [
                          [
                            0,
                            "#0d0887"
                          ],
                          [
                            0.1111111111111111,
                            "#46039f"
                          ],
                          [
                            0.2222222222222222,
                            "#7201a8"
                          ],
                          [
                            0.3333333333333333,
                            "#9c179e"
                          ],
                          [
                            0.4444444444444444,
                            "#bd3786"
                          ],
                          [
                            0.5555555555555556,
                            "#d8576b"
                          ],
                          [
                            0.6666666666666666,
                            "#ed7953"
                          ],
                          [
                            0.7777777777777778,
                            "#fb9f3a"
                          ],
                          [
                            0.8888888888888888,
                            "#fdca26"
                          ],
                          [
                            1,
                            "#f0f921"
                          ]
                        ],
                        "type": "contour"
                      }
                    ],
                    "contourcarpet": [
                      {
                        "colorbar": {
                          "outlinewidth": 0,
                          "ticks": ""
                        },
                        "type": "contourcarpet"
                      }
                    ],
                    "heatmap": [
                      {
                        "colorbar": {
                          "outlinewidth": 0,
                          "ticks": ""
                        },
                        "colorscale": [
                          [
                            0,
                            "#0d0887"
                          ],
                          [
                            0.1111111111111111,
                            "#46039f"
                          ],
                          [
                            0.2222222222222222,
                            "#7201a8"
                          ],
                          [
                            0.3333333333333333,
                            "#9c179e"
                          ],
                          [
                            0.4444444444444444,
                            "#bd3786"
                          ],
                          [
                            0.5555555555555556,
                            "#d8576b"
                          ],
                          [
                            0.6666666666666666,
                            "#ed7953"
                          ],
                          [
                            0.7777777777777778,
                            "#fb9f3a"
                          ],
                          [
                            0.8888888888888888,
                            "#fdca26"
                          ],
                          [
                            1,
                            "#f0f921"
                          ]
                        ],
                        "type": "heatmap"
                      }
                    ],
                    "histogram": [
                      {
                        "marker": {
                          "pattern": {
                            "fillmode": "overlay",
                            "size": 10,
                            "solidity": 0.2
                          }
                        },
                        "type": "histogram"
                      }
                    ],
                    "histogram2d": [
                      {
                        "colorbar": {
                          "outlinewidth": 0,
                          "ticks": ""
                        },
                        "colorscale": [
                          [
                            0,
                            "#0d0887"
                          ],
                          [
                            0.1111111111111111,
                            "#46039f"
                          ],
                          [
                            0.2222222222222222,
                            "#7201a8"
                          ],
                          [
                            0.3333333333333333,
                            "#9c179e"
                          ],
                          [
                            0.4444444444444444,
                            "#bd3786"
                          ],
                          [
                            0.5555555555555556,
                            "#d8576b"
                          ],
                          [
                            0.6666666666666666,
                            "#ed7953"
                          ],
                          [
                            0.7777777777777778,
                            "#fb9f3a"
                          ],
                          [
                            0.8888888888888888,
                            "#fdca26"
                          ],
                          [
                            1,
                            "#f0f921"
                          ]
                        ],
                        "type": "histogram2d"
                      }
                    ],
                    "histogram2dcontour": [
                      {
                        "colorbar": {
                          "outlinewidth": 0,
                          "ticks": ""
                        },
                        "colorscale": [
                          [
                            0,
                            "#0d0887"
                          ],
                          [
                            0.1111111111111111,
                            "#46039f"
                          ],
                          [
                            0.2222222222222222,
                            "#7201a8"
                          ],
                          [
                            0.3333333333333333,
                            "#9c179e"
                          ],
                          [
                            0.4444444444444444,
                            "#bd3786"
                          ],
                          [
                            0.5555555555555556,
                            "#d8576b"
                          ],
                          [
                            0.6666666666666666,
                            "#ed7953"
                          ],
                          [
                            0.7777777777777778,
                            "#fb9f3a"
                          ],
                          [
                            0.8888888888888888,
                            "#fdca26"
                          ],
                          [
                            1,
                            "#f0f921"
                          ]
                        ],
                        "type": "histogram2dcontour"
                      }
                    ],
                    "mesh3d": [
                      {
                        "colorbar": {
                          "outlinewidth": 0,
                          "ticks": ""
                        },
                        "type": "mesh3d"
                      }
                    ],
                    "parcoords": [
                      {
                        "line": {
                          "colorbar": {
                            "outlinewidth": 0,
                            "ticks": ""
                          }
                        },
                        "type": "parcoords"
                      }
                    ],
                    "pie": [
                      {
                        "automargin": true,
                        "type": "pie"
                      }
                    ],
                    "scatter": [
                      {
                        "fillpattern": {
                          "fillmode": "overlay",
                          "size": 10,
                          "solidity": 0.2
                        },
                        "type": "scatter"
                      }
                    ],
                    "scatter3d": [
                      {
                        "line": {
                          "colorbar": {
                            "outlinewidth": 0,
                            "ticks": ""
                          }
                        },
                        "marker": {
                          "colorbar": {
                            "outlinewidth": 0,
                            "ticks": ""
                          }
                        },
                        "type": "scatter3d"
                      }
                    ],
                    "scattercarpet": [
                      {
                        "marker": {
                          "colorbar": {
                            "outlinewidth": 0,
                            "ticks": ""
                          }
                        },
                        "type": "scattercarpet"
                      }
                    ],
                    "scattergeo": [
                      {
                        "marker": {
                          "colorbar": {
                            "outlinewidth": 0,
                            "ticks": ""
                          }
                        },
                        "type": "scattergeo"
                      }
                    ],
                    "scattergl": [
                      {
                        "marker": {
                          "colorbar": {
                            "outlinewidth": 0,
                            "ticks": ""
                          }
                        },
                        "type": "scattergl"
                      }
                    ],
                    "scattermap": [
                      {
                        "marker": {
                          "colorbar": {
                            "outlinewidth": 0,
                            "ticks": ""
                          }
                        },
                        "type": "scattermap"
                      }
                    ],
                    "scattermapbox": [
                      {
                        "marker": {
                          "colorbar": {
                            "outlinewidth": 0,
                            "ticks": ""
                          }
                        },
                        "type": "scattermapbox"
                      }
                    ],
                    "scatterpolar": [
                      {
                        "marker": {
                          "colorbar": {
                            "outlinewidth": 0,
                            "ticks": ""
                          }
                        },
                        "type": "scatterpolar"
                      }
                    ],
                    "scatterpolargl": [
                      {
                        "marker": {
                          "colorbar": {
                            "outlinewidth": 0,
                            "ticks": ""
                          }
                        },
                        "type": "scatterpolargl"
                      }
                    ],
                    "scatterternary": [
                      {
                        "marker": {
                          "colorbar": {
                            "outlinewidth": 0,
                            "ticks": ""
                          }
                        },
                        "type": "scatterternary"
                      }
                    ],
                    "surface": [
                      {
                        "colorbar": {
                          "outlinewidth": 0,
                          "ticks": ""
                        },
                        "colorscale": [
                          [
                            0,
                            "#0d0887"
                          ],
                          [
                            0.1111111111111111,
                            "#46039f"
                          ],
                          [
                            0.2222222222222222,
                            "#7201a8"
                          ],
                          [
                            0.3333333333333333,
                            "#9c179e"
                          ],
                          [
                            0.4444444444444444,
                            "#bd3786"
                          ],
                          [
                            0.5555555555555556,
                            "#d8576b"
                          ],
                          [
                            0.6666666666666666,
                            "#ed7953"
                          ],
                          [
                            0.7777777777777778,
                            "#fb9f3a"
                          ],
                          [
                            0.8888888888888888,
                            "#fdca26"
                          ],
                          [
                            1,
                            "#f0f921"
                          ]
                        ],
                        "type": "surface"
                      }
                    ],
                    "table": [
                      {
                        "cells": {
                          "fill": {
                            "color": "#EBF0F8"
                          },
                          "line": {
                            "color": "white"
                          }
                        },
                        "header": {
                          "fill": {
                            "color": "#C8D4E3"
                          },
                          "line": {
                            "color": "white"
                          }
                        },
                        "type": "table"
                      }
                    ]
                  },
                  "layout": {
                    "annotationdefaults": {
                      "arrowcolor": "#2a3f5f",
                      "arrowhead": 0,
                      "arrowwidth": 1
                    },
                    "autotypenumbers": "strict",
                    "coloraxis": {
                      "colorbar": {
                        "outlinewidth": 0,
                        "ticks": ""
                      }
                    },
                    "colorscale": {
                      "diverging": [
                        [
                          0,
                          "#8e0152"
                        ],
                        [
                          0.1,
                          "#c51b7d"
                        ],
                        [
                          0.2,
                          "#de77ae"
                        ],
                        [
                          0.3,
                          "#f1b6da"
                        ],
                        [
                          0.4,
                          "#fde0ef"
                        ],
                        [
                          0.5,
                          "#f7f7f7"
                        ],
                        [
                          0.6,
                          "#e6f5d0"
                        ],
                        [
                          0.7,
                          "#b8e186"
                        ],
                        [
                          0.8,
                          "#7fbc41"
                        ],
                        [
                          0.9,
                          "#4d9221"
                        ],
                        [
                          1,
                          "#276419"
                        ]
                      ],
                      "sequential": [
                        [
                          0,
                          "#0d0887"
                        ],
                        [
                          0.1111111111111111,
                          "#46039f"
                        ],
                        [
                          0.2222222222222222,
                          "#7201a8"
                        ],
                        [
                          0.3333333333333333,
                          "#9c179e"
                        ],
                        [
                          0.4444444444444444,
                          "#bd3786"
                        ],
                        [
                          0.5555555555555556,
                          "#d8576b"
                        ],
                        [
                          0.6666666666666666,
                          "#ed7953"
                        ],
                        [
                          0.7777777777777778,
                          "#fb9f3a"
                        ],
                        [
                          0.8888888888888888,
                          "#fdca26"
                        ],
                        [
                          1,
                          "#f0f921"
                        ]
                      ],
                      "sequentialminus": [
                        [
                          0,
                          "#0d0887"
                        ],
                        [
                          0.1111111111111111,
                          "#46039f"
                        ],
                        [
                          0.2222222222222222,
                          "#7201a8"
                        ],
                        [
                          0.3333333333333333,
                          "#9c179e"
                        ],
                        [
                          0.4444444444444444,
                          "#bd3786"
                        ],
                        [
                          0.5555555555555556,
                          "#d8576b"
                        ],
                        [
                          0.6666666666666666,
                          "#ed7953"
                        ],
                        [
                          0.7777777777777778,
                          "#fb9f3a"
                        ],
                        [
                          0.8888888888888888,
                          "#fdca26"
                        ],
                        [
                          1,
                          "#f0f921"
                        ]
                      ]
                    },
                    "colorway": [
                      "#636efa",
                      "#EF553B",
                      "#00cc96",
                      "#ab63fa",
                      "#FFA15A",
                      "#19d3f3",
                      "#FF6692",
                      "#B6E880",
                      "#FF97FF",
                      "#FECB52"
                    ],
                    "font": {
                      "color": "#2a3f5f"
                    },
                    "geo": {
                      "bgcolor": "white",
                      "lakecolor": "white",
                      "landcolor": "#E5ECF6",
                      "showlakes": true,
                      "showland": true,
                      "subunitcolor": "white"
                    },
                    "hoverlabel": {
                      "align": "left"
                    },
                    "hovermode": "closest",
                    "mapbox": {
                      "style": "light"
                    },
                    "paper_bgcolor": "white",
                    "plot_bgcolor": "#E5ECF6",
                    "polar": {
                      "angularaxis": {
                        "gridcolor": "white",
                        "linecolor": "white",
                        "ticks": ""
                      },
                      "bgcolor": "#E5ECF6",
                      "radialaxis": {
                        "gridcolor": "white",
                        "linecolor": "white",
                        "ticks": ""
                      }
                    },
                    "scene": {
                      "xaxis": {
                        "backgroundcolor": "#E5ECF6",
                        "gridcolor": "white",
                        "gridwidth": 2,
                        "linecolor": "white",
                        "showbackground": true,
                        "ticks": "",
                        "zerolinecolor": "white"
                      },
                      "yaxis": {
                        "backgroundcolor": "#E5ECF6",
                        "gridcolor": "white",
                        "gridwidth": 2,
                        "linecolor": "white",
                        "showbackground": true,
                        "ticks": "",
                        "zerolinecolor": "white"
                      },
                      "zaxis": {
                        "backgroundcolor": "#E5ECF6",
                        "gridcolor": "white",
                        "gridwidth": 2,
                        "linecolor": "white",
                        "showbackground": true,
                        "ticks": "",
                        "zerolinecolor": "white"
                      }
                    },
                    "shapedefaults": {
                      "line": {
                        "color": "#2a3f5f"
                      }
                    },
                    "ternary": {
                      "aaxis": {
                        "gridcolor": "white",
                        "linecolor": "white",
                        "ticks": ""
                      },
                      "baxis": {
                        "gridcolor": "white",
                        "linecolor": "white",
                        "ticks": ""
                      },
                      "bgcolor": "#E5ECF6",
                      "caxis": {
                        "gridcolor": "white",
                        "linecolor": "white",
                        "ticks": ""
                      }
                    },
                    "title": {
                      "x": 0.05
                    },
                    "xaxis": {
                      "automargin": true,
                      "gridcolor": "white",
                      "linecolor": "white",
                      "ticks": "",
                      "title": {
                        "standoff": 15
                      },
                      "zerolinecolor": "white",
                      "zerolinewidth": 2
                    },
                    "yaxis": {
                      "automargin": true,
                      "gridcolor": "white",
                      "linecolor": "white",
                      "ticks": "",
                      "title": {
                        "standoff": 15
                      },
                      "zerolinecolor": "white",
                      "zerolinewidth": 2
                    }
                  }
                }
              }
            }
          },
          "metadata": {},
          "output_type": "display_data"
        }
      ],
      "source": [
        "fig = go.Figure()\n",
        "\n",
        "fig.add_traces([go.Scatter(x=X, y=y_sin, mode='lines', name=\"sin(x)\"),\n",
        "                go.Scatter(x=X, y=y_cos, mode='lines', name=\"cos(x)\"),\n",
        "                go.Scatter(x=y_sin, y=y_cos, mode='markers', name=\"circle\")])\n",
        "\n",
        "fig.show()"
      ]
    },
    {
      "cell_type": "markdown",
      "id": "ZgvhRDTAqgOi",
      "metadata": {
        "id": "ZgvhRDTAqgOi"
      },
      "source": [
        "Перед вами должна появиться визуализация трёх графиков."
      ]
    },
    {
      "cell_type": "markdown",
      "id": "3b637637",
      "metadata": {
        "id": "3b637637"
      },
      "source": [
        "Обновите эту визуализацию в следущих аспектах:\n",
        "\n",
        "1. Добавьте подпись на график (любую на ваше усмотрение), размер подписи должен быть 25, также подпись должна быть центрирована относительно рисунка\n",
        "2. Добавьте подписи на оси х и у, размер 20\n",
        "3. Увеличьте размер численных подписей штрихов осей до 15\n",
        "5. Поменяйте у точечного графика тип маркера на треугольник, указывающий вниз\n",
        "6. График косинуса должен стать пунктирным вместо сплошного\n",
        "\n",
        "**Важно!**\n",
        "\n",
        "Все изменения должны вноситься **только** путём использования методов *update_layout* (для обновления стиля рисунка) или *update_traces* (для обновления стиля графика) для уже созданного объекта fig. Также для обновления стилей графика можно найти нужный график внутри fig.data и применить для него метод *update*. Создавать новый объект fig или как-то менять код выше, добавляя в него параметры **запрещено!**\n",
        "\n",
        "Для того, чтобы найти для этого и последующих заданий нужные параметры для изменения, можно воспользоваться [списком параметров рисунка из документации](https://plotly.com/python/reference/layout/), а также [списком параметров для осей](https://plotly.com/python/reference/layout/xaxis/), и, конечно же, [самым важным сайтом](https://google.com)"
      ]
    },
    {
      "cell_type": "code",
      "execution_count": 96,
      "id": "ZmvWHykfr7Ep",
      "metadata": {
        "id": "ZmvWHykfr7Ep"
      },
      "outputs": [
        {
          "data": {
            "text/plain": [
              "Scatter({\n",
              "    'line': {'dash': 'dash'},\n",
              "    'mode': 'lines',\n",
              "    'name': 'cos(x)',\n",
              "    'x': array([0.        , 0.08080808, 0.16161616, 0.24242424, 0.32323232, 0.4040404 ,\n",
              "                0.48484848, 0.56565657, 0.64646465, 0.72727273, 0.80808081, 0.88888889,\n",
              "                0.96969697, 1.05050505, 1.13131313, 1.21212121, 1.29292929, 1.37373737,\n",
              "                1.45454545, 1.53535354, 1.61616162, 1.6969697 , 1.77777778, 1.85858586,\n",
              "                1.93939394, 2.02020202, 2.1010101 , 2.18181818, 2.26262626, 2.34343434,\n",
              "                2.42424242, 2.50505051, 2.58585859, 2.66666667, 2.74747475, 2.82828283,\n",
              "                2.90909091, 2.98989899, 3.07070707, 3.15151515, 3.23232323, 3.31313131,\n",
              "                3.39393939, 3.47474747, 3.55555556, 3.63636364, 3.71717172, 3.7979798 ,\n",
              "                3.87878788, 3.95959596, 4.04040404, 4.12121212, 4.2020202 , 4.28282828,\n",
              "                4.36363636, 4.44444444, 4.52525253, 4.60606061, 4.68686869, 4.76767677,\n",
              "                4.84848485, 4.92929293, 5.01010101, 5.09090909, 5.17171717, 5.25252525,\n",
              "                5.33333333, 5.41414141, 5.49494949, 5.57575758, 5.65656566, 5.73737374,\n",
              "                5.81818182, 5.8989899 , 5.97979798, 6.06060606, 6.14141414, 6.22222222,\n",
              "                6.3030303 , 6.38383838, 6.46464646, 6.54545455, 6.62626263, 6.70707071,\n",
              "                6.78787879, 6.86868687, 6.94949495, 7.03030303, 7.11111111, 7.19191919,\n",
              "                7.27272727, 7.35353535, 7.43434343, 7.51515152, 7.5959596 , 7.67676768,\n",
              "                7.75757576, 7.83838384, 7.91919192, 8.        ]),\n",
              "    'y': array([ 1.        ,  0.9967368 ,  0.98696851,  0.97075887,  0.94821368,\n",
              "                 0.91948007,  0.88474558,  0.84423688,  0.79821837,  0.74699036,\n",
              "                 0.69088721,  0.63027505,  0.56554947,  0.49713289,  0.42547183,\n",
              "                 0.35103397,  0.27430512,  0.19578605,  0.11598921,  0.03543537,\n",
              "                -0.04534973, -0.12583886, -0.20550672, -0.28383336, -0.36030759,\n",
              "                -0.43443032, -0.50571778, -0.57370472, -0.63794745, -0.69802667,\n",
              "                -0.75355031, -0.80415597, -0.8495134 , -0.88932657, -0.92333564,\n",
              "                -0.95131866, -0.97309301, -0.98851656, -0.99748867, -0.99995077,\n",
              "                -0.9958868 , -0.98532329, -0.96832916, -0.94501534, -0.91553398,\n",
              "                -0.88007748, -0.83887725, -0.79220217, -0.74035688, -0.68367972,\n",
              "                -0.6225406 , -0.55733854, -0.48849906, -0.41647145, -0.34172578,\n",
              "                -0.26474988, -0.18604611, -0.10612813, -0.02551752,  0.05525962,\n",
              "                 0.13567613,  0.21520715,  0.29333365,  0.36954574,  0.44334603,\n",
              "                 0.51425287,  0.58180349,  0.64555703,  0.70509742,  0.76003606,\n",
              "                 0.8100144 ,  0.85470628,  0.89382   ,  0.9271003 ,  0.95432999,\n",
              "                 0.97533134,  0.98996729,  0.99814233,  0.99980309,  0.99493875,\n",
              "                 0.98358105,  0.96580411,  0.94172396,  0.91149774,  0.87532273,\n",
              "                 0.83343502,  0.78610798,  0.7336505 ,  0.67640492,  0.61474486,\n",
              "                 0.54907273,  0.47981714,  0.40743007,  0.33238395,  0.25516857,\n",
              "                 0.17628785,  0.09625661,  0.01559716, -0.06516408, -0.14550003])\n",
              "})"
            ]
          },
          "execution_count": 96,
          "metadata": {},
          "output_type": "execute_result"
        }
      ],
      "source": [
        "# Обновление стиля графика\n",
        "fig.update_layout(\n",
        "    title={\n",
        "        'text': \"Графики функций sin(x), cos(x) и их параметрическая зависимость\",\n",
        "        'font': {'size': 25},\n",
        "        'x': 0.5,\n",
        "        'xanchor': 'center'\n",
        "    },\n",
        "    xaxis_title=\"X\",\n",
        "    yaxis_title=\"Y\",\n",
        "    xaxis={'tickfont': {'size': 15}},\n",
        "    yaxis={'tickfont': {'size': 15}}\n",
        ")\n",
        "\n",
        "# Обновление стиля отдельных графиков\n",
        "fig.data[2].update(marker={'symbol': 'triangle-down'})  # Точечный график - треугольник вниз\n",
        "fig.data[1].update(line={'dash': 'dash'})  # Косинус - пунктирная линия\n"
      ]
    },
    {
      "cell_type": "markdown",
      "id": "qYCwXLezr-b4",
      "metadata": {
        "id": "qYCwXLezr-b4"
      },
      "source": [
        "Выведите результат:"
      ]
    },
    {
      "cell_type": "code",
      "execution_count": 97,
      "id": "557f7a78",
      "metadata": {
        "id": "557f7a78"
      },
      "outputs": [
        {
          "data": {
            "application/vnd.plotly.v1+json": {
              "config": {
                "plotlyServerURL": "https://plot.ly"
              },
              "data": [
                {
                  "mode": "lines",
                  "name": "sin(x)",
                  "type": "scatter",
                  "x": {
                    "bdata": "AAAAAAAAAABbv1Kg1q+0P1u/UqDWr8Q/CB988MEHzz9bv1Kg1q/UPzJvZ0jM29k/CB988MEH3z9wZ0jM2xniP1u/UqDWr+Q/RhdddNFF5z8yb2dIzNvpPx3HcRzHcew/CB988MEH7z96O0Ni3s7wP3BnSMzbGfI/ZZNNNtlk8z9bv1Kg1q/0P1HrVwrU+vU/RhdddNFF9z88Q2LezpD4PzJvZ0jM2/k/J5tssskm+z8dx3Ecx3H8PxPzdobEvP0/CB988MEH/z9/pUCtXykAQHo7Q2LezgBAddFFF110AUBwZ0jM2xkCQGr9SoFavwJAZZNNNtlkA0BgKVDrVwoEQFu/UqDWrwRAVlVVVVVVBUBR61cK1PoFQEyBWr9SoAZARhdddNFFB0BBrV8pUOsHQDxDYt7OkAhAN9lkk002CUAyb2dIzNsJQC0Fav1KgQpAJ5tssskmC0AiMW9nSMwLQB3HcRzHcQxAGF100UUXDUAT83aGxLwNQA6JeTtDYg5ACB988MEHD0ADtX6lQK0PQH+lQK1fKRBAffDBBx98EEB6O0Ni3s4QQHeGxLydIRFAddFFF110EUByHMdxHMcRQHBnSMzbGRJAbbLJJptsEkBq/UqBWr8SQGhIzNsZEhNAZZNNNtlkE0Bj3s6QmLcTQGApUOtXChRAXnTRRRddFEBbv1Kg1q8UQFgK1PqVAhVAVlVVVVVVFUBToNavFKgVQFHrVwrU+hVATjbZZJNNFkBMgVq/UqAWQEnM2xkS8xZARhdddNFFF0BEYt7OkJgXQEGtXylQ6xdAP/jggw8+GEA8Q2LezpAYQDmO4ziO4xhAN9lkk002GUA0JObtDIkZQDJvZ0jM2xlAL7rooosuGkAtBWr9SoEaQCpQ61cK1BpAJ5tssskmG0Al5u0MiXkbQCIxb2dIzBtAIHzwwQcfHEAdx3Ecx3EcQBsS83aGxBxAGF100UUXHUAVqPUrBWodQBPzdobEvB1AED744IMPHkAOiXk7Q2IeQAvU+pUCtR5ACB988MEHH0AGav1KgVofQAO1fqVArR9AAAAAAAAAIEA=",
                    "dtype": "f8"
                  },
                  "y": {
                    "bdata": "AAAAAAAAAABQnwOhE6q0P4aD12nQmMQ/OBVEbC26zj+aXlz7GVTUP1ZjAncmKdk/MJFbWinU3T+tjlgJqybhPzPWi6iZRuM/jMGNw1NG5T9rLLlhgiLnP9abcO0J2Og/wp1YZQ9k6j9Cx6wh/cPrP8bEtiWH9ew/3oUw9q727T+qMSjuxsXuP+nq1Ax1Ye8/jxGtN7XI7z8WKvjs2vrvPxNbBmSS9+8/vfYrGeG+7z8EMJfEJVHvPzVLD7wXr+4/ULGlwMXZ7T89qlg6lNLsP1+Im+Q6m+s/XCen78E16j8tOV6bfqToPwdzcVEP6uY/1MdGRVcJ5T8tGfOgeQXjP5nLVUfU4eA/5G8waPRD3T8fve0FW5PYP1zwnFCyudM/QjKqlSl+zT+q7hQOqFfDP/ktPQarIbI/Q/MxRilShL/XNlPm9jG3v/iZhd9z2cW/bAZ7/2r1z7+9DWN7/u3UvwXkfI9Pvtm/C85I1Z1j3r/+oDIhE2vhv27xVlA9h+O/87gu/MaC5b/8p9srYFrnv0APRfL0Cum/sbKGkrKR6r8vrnU3DOzrv83zWTa/F+2/gg2+1dYS7r/Z0wWSr9vuv1BdVtr5cO+/6Ro8QbzR778abWYdVf3vv5FuwJd78++/vLAjJUC0778cltlqDEDvv006GY6il+6/kM6o7xu87b90XMBV567sv6dgP4fGceu/DxE1XMsG6r8806JIVHDov1roP2cIsea/4y3bCtPL5L9QnsLd3sPiv82rVpeQnOC/ibxAoQKz3L+NVcYC8fzXv2Fja1/LHtO/owS4cmdBzL8HK3fkAhbCv13shtuaMa+/cwsYt+dRlD9lssSBRLm5P9tkP1qKGcc/TtGhLu2X0D9ys7jvW4fVP+Re7YzSUto/va9YO07y3j/OuoHVCq/hP6sIQfdix+M/cAYeaa++5T97pGBHp5HnP276UGE+Pek/B1+5UKq+6j9MxHwjZxPsP9wld487Oe0/YoKiqTwu7j/CPksa0fDuP/aV+cizf+8/XW+Z+/XZ7z9AIFXlAP/vPwO1iKKW7u8/e88ooNKo7z8=",
                    "dtype": "f8"
                  }
                },
                {
                  "line": {
                    "dash": "dash"
                  },
                  "mode": "lines",
                  "name": "cos(x)",
                  "type": "scatter",
                  "x": {
                    "bdata": "AAAAAAAAAABbv1Kg1q+0P1u/UqDWr8Q/CB988MEHzz9bv1Kg1q/UPzJvZ0jM29k/CB988MEH3z9wZ0jM2xniP1u/UqDWr+Q/RhdddNFF5z8yb2dIzNvpPx3HcRzHcew/CB988MEH7z96O0Ni3s7wP3BnSMzbGfI/ZZNNNtlk8z9bv1Kg1q/0P1HrVwrU+vU/RhdddNFF9z88Q2LezpD4PzJvZ0jM2/k/J5tssskm+z8dx3Ecx3H8PxPzdobEvP0/CB988MEH/z9/pUCtXykAQHo7Q2LezgBAddFFF110AUBwZ0jM2xkCQGr9SoFavwJAZZNNNtlkA0BgKVDrVwoEQFu/UqDWrwRAVlVVVVVVBUBR61cK1PoFQEyBWr9SoAZARhdddNFFB0BBrV8pUOsHQDxDYt7OkAhAN9lkk002CUAyb2dIzNsJQC0Fav1KgQpAJ5tssskmC0AiMW9nSMwLQB3HcRzHcQxAGF100UUXDUAT83aGxLwNQA6JeTtDYg5ACB988MEHD0ADtX6lQK0PQH+lQK1fKRBAffDBBx98EEB6O0Ni3s4QQHeGxLydIRFAddFFF110EUByHMdxHMcRQHBnSMzbGRJAbbLJJptsEkBq/UqBWr8SQGhIzNsZEhNAZZNNNtlkE0Bj3s6QmLcTQGApUOtXChRAXnTRRRddFEBbv1Kg1q8UQFgK1PqVAhVAVlVVVVVVFUBToNavFKgVQFHrVwrU+hVATjbZZJNNFkBMgVq/UqAWQEnM2xkS8xZARhdddNFFF0BEYt7OkJgXQEGtXylQ6xdAP/jggw8+GEA8Q2LezpAYQDmO4ziO4xhAN9lkk002GUA0JObtDIkZQDJvZ0jM2xlAL7rooosuGkAtBWr9SoEaQCpQ61cK1BpAJ5tssskmG0Al5u0MiXkbQCIxb2dIzBtAIHzwwQcfHEAdx3Ecx3EcQBsS83aGxBxAGF100UUXHUAVqPUrBWodQBPzdobEvB1AED744IMPHkAOiXk7Q2IeQAvU+pUCtR5ACB988MEHH0AGav1KgVofQAO1fqVArR9AAAAAAAAAIEA=",
                    "dtype": "f8"
                  },
                  "y": {
                    "bdata": "AAAAAAAA8D9HK6CUROXvP0AFMfw+le8/0Kwk6XQQ7z9d9043xFfuP3RuOXlhbO0/2qiW9NVP7D+KWjIR/QPrPyzmpz4Bi+k/an8OVljn5z8liaZ9vxvmP3BcZpU2K+Q/hq0LNPsY4j/7DCJ6BtHfP78oJjHuOts/P1edLVd31j+n2toSN47RP+OvS3WED8k/9ioyAHixvT+L7rrClSSiP3iQonMUOKe/UMFg43wbwL9Jc4tRC07Kv2XwUmZTKtK/5EnDk0cP178Zq47PtM3bvzitYAvXLuC/cAd8Acpb4r/EOljDEGrkv1d+Uwk8Vua/xHL7hxUd6L8H3OdNpbvpvz+saLk2L+u/sAu+/Vx17L+b70ww94vtvwtVC9czce6/LQcz8pMj778PmSd87aHvv1p1Yltt6++/Chwlw5j/778KSaQATt7vv046VbPEh++/XQT/b4387r+zOSvPkD3uv397iegNTO2/AzrPPZgp7L/hXY4YFdjqv282aV+4Wem/K1Lu5wCx57/uV0JLtODlv4cjj0Ta6+O/VPD0oLfV4b+77+WSkUPfv+rFzt93p9q/6U3D0dXe1b83wRp5qfHQvysw1uVb0Me/5pY+ojYru792oZsCRCGav2WWNlP9Sqw/DwVx2NVdwT8z0VVz6IvLPyrnOoT6xdI/NrDXL6Om1z9hcPsHyF/cP4Pvmm7CdOA/FJo0WiKe4j+xKNk4Z6jkPy8B6XQokOY/Ktb2IjdS6D8t9U9To+vpP5LASfrAWes/y1shZyya7D/eEvhBzqrtP9z/QArfie4/MI/JD+o17z8bYmXhz63vP5Q6LS3I8O8/kpAuD2P+7z84o1zMidbvPzWwivh+ee8/Ct4vB97n7j+psa5HmiLuP8b90U79Ku0/Z3om0KQC7D9xBcnqf6vqP3xdLO7LJ+k/PW88nBB65z/UkB/vG6XlP27VpWn9q+M/ZKg6+gCS4T/kmMfxUrXePzoLA5NVE9o/t/g5WMdF1T+MojWLrlTQPy32fa6ZkMY/xJHF9kWkuD/ztnLMZ/GPP8rGN9KXrrC/lC9jv76fwr8=",
                    "dtype": "f8"
                  }
                },
                {
                  "marker": {
                    "symbol": "triangle-down"
                  },
                  "mode": "markers",
                  "name": "circle",
                  "type": "scatter",
                  "x": {
                    "bdata": "AAAAAAAAAABQnwOhE6q0P4aD12nQmMQ/OBVEbC26zj+aXlz7GVTUP1ZjAncmKdk/MJFbWinU3T+tjlgJqybhPzPWi6iZRuM/jMGNw1NG5T9rLLlhgiLnP9abcO0J2Og/wp1YZQ9k6j9Cx6wh/cPrP8bEtiWH9ew/3oUw9q727T+qMSjuxsXuP+nq1Ax1Ye8/jxGtN7XI7z8WKvjs2vrvPxNbBmSS9+8/vfYrGeG+7z8EMJfEJVHvPzVLD7wXr+4/ULGlwMXZ7T89qlg6lNLsP1+Im+Q6m+s/XCen78E16j8tOV6bfqToPwdzcVEP6uY/1MdGRVcJ5T8tGfOgeQXjP5nLVUfU4eA/5G8waPRD3T8fve0FW5PYP1zwnFCyudM/QjKqlSl+zT+q7hQOqFfDP/ktPQarIbI/Q/MxRilShL/XNlPm9jG3v/iZhd9z2cW/bAZ7/2r1z7+9DWN7/u3UvwXkfI9Pvtm/C85I1Z1j3r/+oDIhE2vhv27xVlA9h+O/87gu/MaC5b/8p9srYFrnv0APRfL0Cum/sbKGkrKR6r8vrnU3DOzrv83zWTa/F+2/gg2+1dYS7r/Z0wWSr9vuv1BdVtr5cO+/6Ro8QbzR778abWYdVf3vv5FuwJd78++/vLAjJUC0778cltlqDEDvv006GY6il+6/kM6o7xu87b90XMBV567sv6dgP4fGceu/DxE1XMsG6r8806JIVHDov1roP2cIsea/4y3bCtPL5L9QnsLd3sPiv82rVpeQnOC/ibxAoQKz3L+NVcYC8fzXv2Fja1/LHtO/owS4cmdBzL8HK3fkAhbCv13shtuaMa+/cwsYt+dRlD9lssSBRLm5P9tkP1qKGcc/TtGhLu2X0D9ys7jvW4fVP+Re7YzSUto/va9YO07y3j/OuoHVCq/hP6sIQfdix+M/cAYeaa++5T97pGBHp5HnP276UGE+Pek/B1+5UKq+6j9MxHwjZxPsP9wld487Oe0/YoKiqTwu7j/CPksa0fDuP/aV+cizf+8/XW+Z+/XZ7z9AIFXlAP/vPwO1iKKW7u8/e88ooNKo7z8=",
                    "dtype": "f8"
                  },
                  "y": {
                    "bdata": "AAAAAAAA8D9HK6CUROXvP0AFMfw+le8/0Kwk6XQQ7z9d9043xFfuP3RuOXlhbO0/2qiW9NVP7D+KWjIR/QPrPyzmpz4Bi+k/an8OVljn5z8liaZ9vxvmP3BcZpU2K+Q/hq0LNPsY4j/7DCJ6BtHfP78oJjHuOts/P1edLVd31j+n2toSN47RP+OvS3WED8k/9ioyAHixvT+L7rrClSSiP3iQonMUOKe/UMFg43wbwL9Jc4tRC07Kv2XwUmZTKtK/5EnDk0cP178Zq47PtM3bvzitYAvXLuC/cAd8Acpb4r/EOljDEGrkv1d+Uwk8Vua/xHL7hxUd6L8H3OdNpbvpvz+saLk2L+u/sAu+/Vx17L+b70ww94vtvwtVC9czce6/LQcz8pMj778PmSd87aHvv1p1Yltt6++/Chwlw5j/778KSaQATt7vv046VbPEh++/XQT/b4387r+zOSvPkD3uv397iegNTO2/AzrPPZgp7L/hXY4YFdjqv282aV+4Wem/K1Lu5wCx57/uV0JLtODlv4cjj0Ta6+O/VPD0oLfV4b+77+WSkUPfv+rFzt93p9q/6U3D0dXe1b83wRp5qfHQvysw1uVb0Me/5pY+ojYru792oZsCRCGav2WWNlP9Sqw/DwVx2NVdwT8z0VVz6IvLPyrnOoT6xdI/NrDXL6Om1z9hcPsHyF/cP4Pvmm7CdOA/FJo0WiKe4j+xKNk4Z6jkPy8B6XQokOY/Ktb2IjdS6D8t9U9To+vpP5LASfrAWes/y1shZyya7D/eEvhBzqrtP9z/QArfie4/MI/JD+o17z8bYmXhz63vP5Q6LS3I8O8/kpAuD2P+7z84o1zMidbvPzWwivh+ee8/Ct4vB97n7j+psa5HmiLuP8b90U79Ku0/Z3om0KQC7D9xBcnqf6vqP3xdLO7LJ+k/PW88nBB65z/UkB/vG6XlP27VpWn9q+M/ZKg6+gCS4T/kmMfxUrXePzoLA5NVE9o/t/g5WMdF1T+MojWLrlTQPy32fa6ZkMY/xJHF9kWkuD/ztnLMZ/GPP8rGN9KXrrC/lC9jv76fwr8=",
                    "dtype": "f8"
                  }
                }
              ],
              "layout": {
                "template": {
                  "data": {
                    "bar": [
                      {
                        "error_x": {
                          "color": "#2a3f5f"
                        },
                        "error_y": {
                          "color": "#2a3f5f"
                        },
                        "marker": {
                          "line": {
                            "color": "#E5ECF6",
                            "width": 0.5
                          },
                          "pattern": {
                            "fillmode": "overlay",
                            "size": 10,
                            "solidity": 0.2
                          }
                        },
                        "type": "bar"
                      }
                    ],
                    "barpolar": [
                      {
                        "marker": {
                          "line": {
                            "color": "#E5ECF6",
                            "width": 0.5
                          },
                          "pattern": {
                            "fillmode": "overlay",
                            "size": 10,
                            "solidity": 0.2
                          }
                        },
                        "type": "barpolar"
                      }
                    ],
                    "carpet": [
                      {
                        "aaxis": {
                          "endlinecolor": "#2a3f5f",
                          "gridcolor": "white",
                          "linecolor": "white",
                          "minorgridcolor": "white",
                          "startlinecolor": "#2a3f5f"
                        },
                        "baxis": {
                          "endlinecolor": "#2a3f5f",
                          "gridcolor": "white",
                          "linecolor": "white",
                          "minorgridcolor": "white",
                          "startlinecolor": "#2a3f5f"
                        },
                        "type": "carpet"
                      }
                    ],
                    "choropleth": [
                      {
                        "colorbar": {
                          "outlinewidth": 0,
                          "ticks": ""
                        },
                        "type": "choropleth"
                      }
                    ],
                    "contour": [
                      {
                        "colorbar": {
                          "outlinewidth": 0,
                          "ticks": ""
                        },
                        "colorscale": [
                          [
                            0,
                            "#0d0887"
                          ],
                          [
                            0.1111111111111111,
                            "#46039f"
                          ],
                          [
                            0.2222222222222222,
                            "#7201a8"
                          ],
                          [
                            0.3333333333333333,
                            "#9c179e"
                          ],
                          [
                            0.4444444444444444,
                            "#bd3786"
                          ],
                          [
                            0.5555555555555556,
                            "#d8576b"
                          ],
                          [
                            0.6666666666666666,
                            "#ed7953"
                          ],
                          [
                            0.7777777777777778,
                            "#fb9f3a"
                          ],
                          [
                            0.8888888888888888,
                            "#fdca26"
                          ],
                          [
                            1,
                            "#f0f921"
                          ]
                        ],
                        "type": "contour"
                      }
                    ],
                    "contourcarpet": [
                      {
                        "colorbar": {
                          "outlinewidth": 0,
                          "ticks": ""
                        },
                        "type": "contourcarpet"
                      }
                    ],
                    "heatmap": [
                      {
                        "colorbar": {
                          "outlinewidth": 0,
                          "ticks": ""
                        },
                        "colorscale": [
                          [
                            0,
                            "#0d0887"
                          ],
                          [
                            0.1111111111111111,
                            "#46039f"
                          ],
                          [
                            0.2222222222222222,
                            "#7201a8"
                          ],
                          [
                            0.3333333333333333,
                            "#9c179e"
                          ],
                          [
                            0.4444444444444444,
                            "#bd3786"
                          ],
                          [
                            0.5555555555555556,
                            "#d8576b"
                          ],
                          [
                            0.6666666666666666,
                            "#ed7953"
                          ],
                          [
                            0.7777777777777778,
                            "#fb9f3a"
                          ],
                          [
                            0.8888888888888888,
                            "#fdca26"
                          ],
                          [
                            1,
                            "#f0f921"
                          ]
                        ],
                        "type": "heatmap"
                      }
                    ],
                    "histogram": [
                      {
                        "marker": {
                          "pattern": {
                            "fillmode": "overlay",
                            "size": 10,
                            "solidity": 0.2
                          }
                        },
                        "type": "histogram"
                      }
                    ],
                    "histogram2d": [
                      {
                        "colorbar": {
                          "outlinewidth": 0,
                          "ticks": ""
                        },
                        "colorscale": [
                          [
                            0,
                            "#0d0887"
                          ],
                          [
                            0.1111111111111111,
                            "#46039f"
                          ],
                          [
                            0.2222222222222222,
                            "#7201a8"
                          ],
                          [
                            0.3333333333333333,
                            "#9c179e"
                          ],
                          [
                            0.4444444444444444,
                            "#bd3786"
                          ],
                          [
                            0.5555555555555556,
                            "#d8576b"
                          ],
                          [
                            0.6666666666666666,
                            "#ed7953"
                          ],
                          [
                            0.7777777777777778,
                            "#fb9f3a"
                          ],
                          [
                            0.8888888888888888,
                            "#fdca26"
                          ],
                          [
                            1,
                            "#f0f921"
                          ]
                        ],
                        "type": "histogram2d"
                      }
                    ],
                    "histogram2dcontour": [
                      {
                        "colorbar": {
                          "outlinewidth": 0,
                          "ticks": ""
                        },
                        "colorscale": [
                          [
                            0,
                            "#0d0887"
                          ],
                          [
                            0.1111111111111111,
                            "#46039f"
                          ],
                          [
                            0.2222222222222222,
                            "#7201a8"
                          ],
                          [
                            0.3333333333333333,
                            "#9c179e"
                          ],
                          [
                            0.4444444444444444,
                            "#bd3786"
                          ],
                          [
                            0.5555555555555556,
                            "#d8576b"
                          ],
                          [
                            0.6666666666666666,
                            "#ed7953"
                          ],
                          [
                            0.7777777777777778,
                            "#fb9f3a"
                          ],
                          [
                            0.8888888888888888,
                            "#fdca26"
                          ],
                          [
                            1,
                            "#f0f921"
                          ]
                        ],
                        "type": "histogram2dcontour"
                      }
                    ],
                    "mesh3d": [
                      {
                        "colorbar": {
                          "outlinewidth": 0,
                          "ticks": ""
                        },
                        "type": "mesh3d"
                      }
                    ],
                    "parcoords": [
                      {
                        "line": {
                          "colorbar": {
                            "outlinewidth": 0,
                            "ticks": ""
                          }
                        },
                        "type": "parcoords"
                      }
                    ],
                    "pie": [
                      {
                        "automargin": true,
                        "type": "pie"
                      }
                    ],
                    "scatter": [
                      {
                        "fillpattern": {
                          "fillmode": "overlay",
                          "size": 10,
                          "solidity": 0.2
                        },
                        "type": "scatter"
                      }
                    ],
                    "scatter3d": [
                      {
                        "line": {
                          "colorbar": {
                            "outlinewidth": 0,
                            "ticks": ""
                          }
                        },
                        "marker": {
                          "colorbar": {
                            "outlinewidth": 0,
                            "ticks": ""
                          }
                        },
                        "type": "scatter3d"
                      }
                    ],
                    "scattercarpet": [
                      {
                        "marker": {
                          "colorbar": {
                            "outlinewidth": 0,
                            "ticks": ""
                          }
                        },
                        "type": "scattercarpet"
                      }
                    ],
                    "scattergeo": [
                      {
                        "marker": {
                          "colorbar": {
                            "outlinewidth": 0,
                            "ticks": ""
                          }
                        },
                        "type": "scattergeo"
                      }
                    ],
                    "scattergl": [
                      {
                        "marker": {
                          "colorbar": {
                            "outlinewidth": 0,
                            "ticks": ""
                          }
                        },
                        "type": "scattergl"
                      }
                    ],
                    "scattermap": [
                      {
                        "marker": {
                          "colorbar": {
                            "outlinewidth": 0,
                            "ticks": ""
                          }
                        },
                        "type": "scattermap"
                      }
                    ],
                    "scattermapbox": [
                      {
                        "marker": {
                          "colorbar": {
                            "outlinewidth": 0,
                            "ticks": ""
                          }
                        },
                        "type": "scattermapbox"
                      }
                    ],
                    "scatterpolar": [
                      {
                        "marker": {
                          "colorbar": {
                            "outlinewidth": 0,
                            "ticks": ""
                          }
                        },
                        "type": "scatterpolar"
                      }
                    ],
                    "scatterpolargl": [
                      {
                        "marker": {
                          "colorbar": {
                            "outlinewidth": 0,
                            "ticks": ""
                          }
                        },
                        "type": "scatterpolargl"
                      }
                    ],
                    "scatterternary": [
                      {
                        "marker": {
                          "colorbar": {
                            "outlinewidth": 0,
                            "ticks": ""
                          }
                        },
                        "type": "scatterternary"
                      }
                    ],
                    "surface": [
                      {
                        "colorbar": {
                          "outlinewidth": 0,
                          "ticks": ""
                        },
                        "colorscale": [
                          [
                            0,
                            "#0d0887"
                          ],
                          [
                            0.1111111111111111,
                            "#46039f"
                          ],
                          [
                            0.2222222222222222,
                            "#7201a8"
                          ],
                          [
                            0.3333333333333333,
                            "#9c179e"
                          ],
                          [
                            0.4444444444444444,
                            "#bd3786"
                          ],
                          [
                            0.5555555555555556,
                            "#d8576b"
                          ],
                          [
                            0.6666666666666666,
                            "#ed7953"
                          ],
                          [
                            0.7777777777777778,
                            "#fb9f3a"
                          ],
                          [
                            0.8888888888888888,
                            "#fdca26"
                          ],
                          [
                            1,
                            "#f0f921"
                          ]
                        ],
                        "type": "surface"
                      }
                    ],
                    "table": [
                      {
                        "cells": {
                          "fill": {
                            "color": "#EBF0F8"
                          },
                          "line": {
                            "color": "white"
                          }
                        },
                        "header": {
                          "fill": {
                            "color": "#C8D4E3"
                          },
                          "line": {
                            "color": "white"
                          }
                        },
                        "type": "table"
                      }
                    ]
                  },
                  "layout": {
                    "annotationdefaults": {
                      "arrowcolor": "#2a3f5f",
                      "arrowhead": 0,
                      "arrowwidth": 1
                    },
                    "autotypenumbers": "strict",
                    "coloraxis": {
                      "colorbar": {
                        "outlinewidth": 0,
                        "ticks": ""
                      }
                    },
                    "colorscale": {
                      "diverging": [
                        [
                          0,
                          "#8e0152"
                        ],
                        [
                          0.1,
                          "#c51b7d"
                        ],
                        [
                          0.2,
                          "#de77ae"
                        ],
                        [
                          0.3,
                          "#f1b6da"
                        ],
                        [
                          0.4,
                          "#fde0ef"
                        ],
                        [
                          0.5,
                          "#f7f7f7"
                        ],
                        [
                          0.6,
                          "#e6f5d0"
                        ],
                        [
                          0.7,
                          "#b8e186"
                        ],
                        [
                          0.8,
                          "#7fbc41"
                        ],
                        [
                          0.9,
                          "#4d9221"
                        ],
                        [
                          1,
                          "#276419"
                        ]
                      ],
                      "sequential": [
                        [
                          0,
                          "#0d0887"
                        ],
                        [
                          0.1111111111111111,
                          "#46039f"
                        ],
                        [
                          0.2222222222222222,
                          "#7201a8"
                        ],
                        [
                          0.3333333333333333,
                          "#9c179e"
                        ],
                        [
                          0.4444444444444444,
                          "#bd3786"
                        ],
                        [
                          0.5555555555555556,
                          "#d8576b"
                        ],
                        [
                          0.6666666666666666,
                          "#ed7953"
                        ],
                        [
                          0.7777777777777778,
                          "#fb9f3a"
                        ],
                        [
                          0.8888888888888888,
                          "#fdca26"
                        ],
                        [
                          1,
                          "#f0f921"
                        ]
                      ],
                      "sequentialminus": [
                        [
                          0,
                          "#0d0887"
                        ],
                        [
                          0.1111111111111111,
                          "#46039f"
                        ],
                        [
                          0.2222222222222222,
                          "#7201a8"
                        ],
                        [
                          0.3333333333333333,
                          "#9c179e"
                        ],
                        [
                          0.4444444444444444,
                          "#bd3786"
                        ],
                        [
                          0.5555555555555556,
                          "#d8576b"
                        ],
                        [
                          0.6666666666666666,
                          "#ed7953"
                        ],
                        [
                          0.7777777777777778,
                          "#fb9f3a"
                        ],
                        [
                          0.8888888888888888,
                          "#fdca26"
                        ],
                        [
                          1,
                          "#f0f921"
                        ]
                      ]
                    },
                    "colorway": [
                      "#636efa",
                      "#EF553B",
                      "#00cc96",
                      "#ab63fa",
                      "#FFA15A",
                      "#19d3f3",
                      "#FF6692",
                      "#B6E880",
                      "#FF97FF",
                      "#FECB52"
                    ],
                    "font": {
                      "color": "#2a3f5f"
                    },
                    "geo": {
                      "bgcolor": "white",
                      "lakecolor": "white",
                      "landcolor": "#E5ECF6",
                      "showlakes": true,
                      "showland": true,
                      "subunitcolor": "white"
                    },
                    "hoverlabel": {
                      "align": "left"
                    },
                    "hovermode": "closest",
                    "mapbox": {
                      "style": "light"
                    },
                    "paper_bgcolor": "white",
                    "plot_bgcolor": "#E5ECF6",
                    "polar": {
                      "angularaxis": {
                        "gridcolor": "white",
                        "linecolor": "white",
                        "ticks": ""
                      },
                      "bgcolor": "#E5ECF6",
                      "radialaxis": {
                        "gridcolor": "white",
                        "linecolor": "white",
                        "ticks": ""
                      }
                    },
                    "scene": {
                      "xaxis": {
                        "backgroundcolor": "#E5ECF6",
                        "gridcolor": "white",
                        "gridwidth": 2,
                        "linecolor": "white",
                        "showbackground": true,
                        "ticks": "",
                        "zerolinecolor": "white"
                      },
                      "yaxis": {
                        "backgroundcolor": "#E5ECF6",
                        "gridcolor": "white",
                        "gridwidth": 2,
                        "linecolor": "white",
                        "showbackground": true,
                        "ticks": "",
                        "zerolinecolor": "white"
                      },
                      "zaxis": {
                        "backgroundcolor": "#E5ECF6",
                        "gridcolor": "white",
                        "gridwidth": 2,
                        "linecolor": "white",
                        "showbackground": true,
                        "ticks": "",
                        "zerolinecolor": "white"
                      }
                    },
                    "shapedefaults": {
                      "line": {
                        "color": "#2a3f5f"
                      }
                    },
                    "ternary": {
                      "aaxis": {
                        "gridcolor": "white",
                        "linecolor": "white",
                        "ticks": ""
                      },
                      "baxis": {
                        "gridcolor": "white",
                        "linecolor": "white",
                        "ticks": ""
                      },
                      "bgcolor": "#E5ECF6",
                      "caxis": {
                        "gridcolor": "white",
                        "linecolor": "white",
                        "ticks": ""
                      }
                    },
                    "title": {
                      "x": 0.05
                    },
                    "xaxis": {
                      "automargin": true,
                      "gridcolor": "white",
                      "linecolor": "white",
                      "ticks": "",
                      "title": {
                        "standoff": 15
                      },
                      "zerolinecolor": "white",
                      "zerolinewidth": 2
                    },
                    "yaxis": {
                      "automargin": true,
                      "gridcolor": "white",
                      "linecolor": "white",
                      "ticks": "",
                      "title": {
                        "standoff": 15
                      },
                      "zerolinecolor": "white",
                      "zerolinewidth": 2
                    }
                  }
                },
                "title": {
                  "font": {
                    "size": 25
                  },
                  "text": "Графики функций sin(x), cos(x) и их параметрическая зависимость",
                  "x": 0.5,
                  "xanchor": "center"
                },
                "xaxis": {
                  "tickfont": {
                    "size": 15
                  },
                  "title": {
                    "text": "X"
                  }
                },
                "yaxis": {
                  "tickfont": {
                    "size": 15
                  },
                  "title": {
                    "text": "Y"
                  }
                }
              }
            }
          },
          "metadata": {},
          "output_type": "display_data"
        }
      ],
      "source": [
        "fig.show()"
      ]
    },
    {
      "cell_type": "markdown",
      "id": "126b698e",
      "metadata": {
        "id": "126b698e"
      },
      "source": [
        "# Задание 2"
      ]
    },
    {
      "cell_type": "markdown",
      "id": "GMHAmqYAsRUK",
      "metadata": {
        "id": "GMHAmqYAsRUK"
      },
      "source": [
        "Создаем композицию:"
      ]
    },
    {
      "cell_type": "code",
      "execution_count": 98,
      "id": "ba809818",
      "metadata": {
        "colab": {
          "base_uri": "https://localhost:8080/",
          "height": 542
        },
        "id": "ba809818",
        "outputId": "1fdbfa03-5b9f-4f89-bd44-619d606b0f60"
      },
      "outputs": [
        {
          "data": {
            "application/vnd.plotly.v1+json": {
              "config": {
                "plotlyServerURL": "https://plot.ly"
              },
              "data": [
                {
                  "marker": {
                    "size": 5
                  },
                  "mode": "markers+lines",
                  "name": "sin_11",
                  "type": "scatter",
                  "x": {
                    "bdata": "AAAAAAAAAABbv1Kg1q+0P1u/UqDWr8Q/CB988MEHzz9bv1Kg1q/UPzJvZ0jM29k/CB988MEH3z9wZ0jM2xniP1u/UqDWr+Q/RhdddNFF5z8yb2dIzNvpPx3HcRzHcew/CB988MEH7z96O0Ni3s7wP3BnSMzbGfI/ZZNNNtlk8z9bv1Kg1q/0P1HrVwrU+vU/RhdddNFF9z88Q2LezpD4PzJvZ0jM2/k/J5tssskm+z8dx3Ecx3H8PxPzdobEvP0/CB988MEH/z9/pUCtXykAQHo7Q2LezgBAddFFF110AUBwZ0jM2xkCQGr9SoFavwJAZZNNNtlkA0BgKVDrVwoEQFu/UqDWrwRAVlVVVVVVBUBR61cK1PoFQEyBWr9SoAZARhdddNFFB0BBrV8pUOsHQDxDYt7OkAhAN9lkk002CUAyb2dIzNsJQC0Fav1KgQpAJ5tssskmC0AiMW9nSMwLQB3HcRzHcQxAGF100UUXDUAT83aGxLwNQA6JeTtDYg5ACB988MEHD0ADtX6lQK0PQH+lQK1fKRBAffDBBx98EEB6O0Ni3s4QQHeGxLydIRFAddFFF110EUByHMdxHMcRQHBnSMzbGRJAbbLJJptsEkBq/UqBWr8SQGhIzNsZEhNAZZNNNtlkE0Bj3s6QmLcTQGApUOtXChRAXnTRRRddFEBbv1Kg1q8UQFgK1PqVAhVAVlVVVVVVFUBToNavFKgVQFHrVwrU+hVATjbZZJNNFkBMgVq/UqAWQEnM2xkS8xZARhdddNFFF0BEYt7OkJgXQEGtXylQ6xdAP/jggw8+GEA8Q2LezpAYQDmO4ziO4xhAN9lkk002GUA0JObtDIkZQDJvZ0jM2xlAL7rooosuGkAtBWr9SoEaQCpQ61cK1BpAJ5tssskmG0Al5u0MiXkbQCIxb2dIzBtAIHzwwQcfHEAdx3Ecx3EcQBsS83aGxBxAGF100UUXHUAVqPUrBWodQBPzdobEvB1AED744IMPHkAOiXk7Q2IeQAvU+pUCtR5ACB988MEHH0AGav1KgVofQAO1fqVArR9AAAAAAAAAIEA=",
                    "dtype": "f8"
                  },
                  "xaxis": "x",
                  "y": {
                    "bdata": "AAAAAAAAAABQnwOhE6q0P4aD12nQmMQ/OBVEbC26zj+aXlz7GVTUP1ZjAncmKdk/MJFbWinU3T+tjlgJqybhPzPWi6iZRuM/jMGNw1NG5T9rLLlhgiLnP9abcO0J2Og/wp1YZQ9k6j9Cx6wh/cPrP8bEtiWH9ew/3oUw9q727T+qMSjuxsXuP+nq1Ax1Ye8/jxGtN7XI7z8WKvjs2vrvPxNbBmSS9+8/vfYrGeG+7z8EMJfEJVHvPzVLD7wXr+4/ULGlwMXZ7T89qlg6lNLsP1+Im+Q6m+s/XCen78E16j8tOV6bfqToPwdzcVEP6uY/1MdGRVcJ5T8tGfOgeQXjP5nLVUfU4eA/5G8waPRD3T8fve0FW5PYP1zwnFCyudM/QjKqlSl+zT+q7hQOqFfDP/ktPQarIbI/Q/MxRilShL/XNlPm9jG3v/iZhd9z2cW/bAZ7/2r1z7+9DWN7/u3UvwXkfI9Pvtm/C85I1Z1j3r/+oDIhE2vhv27xVlA9h+O/87gu/MaC5b/8p9srYFrnv0APRfL0Cum/sbKGkrKR6r8vrnU3DOzrv83zWTa/F+2/gg2+1dYS7r/Z0wWSr9vuv1BdVtr5cO+/6Ro8QbzR778abWYdVf3vv5FuwJd78++/vLAjJUC0778cltlqDEDvv006GY6il+6/kM6o7xu87b90XMBV567sv6dgP4fGceu/DxE1XMsG6r8806JIVHDov1roP2cIsea/4y3bCtPL5L9QnsLd3sPiv82rVpeQnOC/ibxAoQKz3L+NVcYC8fzXv2Fja1/LHtO/owS4cmdBzL8HK3fkAhbCv13shtuaMa+/cwsYt+dRlD9lssSBRLm5P9tkP1qKGcc/TtGhLu2X0D9ys7jvW4fVP+Re7YzSUto/va9YO07y3j/OuoHVCq/hP6sIQfdix+M/cAYeaa++5T97pGBHp5HnP276UGE+Pek/B1+5UKq+6j9MxHwjZxPsP9wld487Oe0/YoKiqTwu7j/CPksa0fDuP/aV+cizf+8/XW+Z+/XZ7z9AIFXlAP/vPwO1iKKW7u8/e88ooNKo7z8=",
                    "dtype": "f8"
                  },
                  "yaxis": "y"
                },
                {
                  "marker": {
                    "size": 5
                  },
                  "mode": "markers+lines",
                  "name": "cos_11",
                  "type": "scatter",
                  "x": {
                    "bdata": "AAAAAAAAAABbv1Kg1q+0P1u/UqDWr8Q/CB988MEHzz9bv1Kg1q/UPzJvZ0jM29k/CB988MEH3z9wZ0jM2xniP1u/UqDWr+Q/RhdddNFF5z8yb2dIzNvpPx3HcRzHcew/CB988MEH7z96O0Ni3s7wP3BnSMzbGfI/ZZNNNtlk8z9bv1Kg1q/0P1HrVwrU+vU/RhdddNFF9z88Q2LezpD4PzJvZ0jM2/k/J5tssskm+z8dx3Ecx3H8PxPzdobEvP0/CB988MEH/z9/pUCtXykAQHo7Q2LezgBAddFFF110AUBwZ0jM2xkCQGr9SoFavwJAZZNNNtlkA0BgKVDrVwoEQFu/UqDWrwRAVlVVVVVVBUBR61cK1PoFQEyBWr9SoAZARhdddNFFB0BBrV8pUOsHQDxDYt7OkAhAN9lkk002CUAyb2dIzNsJQC0Fav1KgQpAJ5tssskmC0AiMW9nSMwLQB3HcRzHcQxAGF100UUXDUAT83aGxLwNQA6JeTtDYg5ACB988MEHD0ADtX6lQK0PQH+lQK1fKRBAffDBBx98EEB6O0Ni3s4QQHeGxLydIRFAddFFF110EUByHMdxHMcRQHBnSMzbGRJAbbLJJptsEkBq/UqBWr8SQGhIzNsZEhNAZZNNNtlkE0Bj3s6QmLcTQGApUOtXChRAXnTRRRddFEBbv1Kg1q8UQFgK1PqVAhVAVlVVVVVVFUBToNavFKgVQFHrVwrU+hVATjbZZJNNFkBMgVq/UqAWQEnM2xkS8xZARhdddNFFF0BEYt7OkJgXQEGtXylQ6xdAP/jggw8+GEA8Q2LezpAYQDmO4ziO4xhAN9lkk002GUA0JObtDIkZQDJvZ0jM2xlAL7rooosuGkAtBWr9SoEaQCpQ61cK1BpAJ5tssskmG0Al5u0MiXkbQCIxb2dIzBtAIHzwwQcfHEAdx3Ecx3EcQBsS83aGxBxAGF100UUXHUAVqPUrBWodQBPzdobEvB1AED744IMPHkAOiXk7Q2IeQAvU+pUCtR5ACB988MEHH0AGav1KgVofQAO1fqVArR9AAAAAAAAAIEA=",
                    "dtype": "f8"
                  },
                  "xaxis": "x",
                  "y": {
                    "bdata": "AAAAAAAA8D9HK6CUROXvP0AFMfw+le8/0Kwk6XQQ7z9d9043xFfuP3RuOXlhbO0/2qiW9NVP7D+KWjIR/QPrPyzmpz4Bi+k/an8OVljn5z8liaZ9vxvmP3BcZpU2K+Q/hq0LNPsY4j/7DCJ6BtHfP78oJjHuOts/P1edLVd31j+n2toSN47RP+OvS3WED8k/9ioyAHixvT+L7rrClSSiP3iQonMUOKe/UMFg43wbwL9Jc4tRC07Kv2XwUmZTKtK/5EnDk0cP178Zq47PtM3bvzitYAvXLuC/cAd8Acpb4r/EOljDEGrkv1d+Uwk8Vua/xHL7hxUd6L8H3OdNpbvpvz+saLk2L+u/sAu+/Vx17L+b70ww94vtvwtVC9czce6/LQcz8pMj778PmSd87aHvv1p1Yltt6++/Chwlw5j/778KSaQATt7vv046VbPEh++/XQT/b4387r+zOSvPkD3uv397iegNTO2/AzrPPZgp7L/hXY4YFdjqv282aV+4Wem/K1Lu5wCx57/uV0JLtODlv4cjj0Ta6+O/VPD0oLfV4b+77+WSkUPfv+rFzt93p9q/6U3D0dXe1b83wRp5qfHQvysw1uVb0Me/5pY+ojYru792oZsCRCGav2WWNlP9Sqw/DwVx2NVdwT8z0VVz6IvLPyrnOoT6xdI/NrDXL6Om1z9hcPsHyF/cP4Pvmm7CdOA/FJo0WiKe4j+xKNk4Z6jkPy8B6XQokOY/Ktb2IjdS6D8t9U9To+vpP5LASfrAWes/y1shZyya7D/eEvhBzqrtP9z/QArfie4/MI/JD+o17z8bYmXhz63vP5Q6LS3I8O8/kpAuD2P+7z84o1zMidbvPzWwivh+ee8/Ct4vB97n7j+psa5HmiLuP8b90U79Ku0/Z3om0KQC7D9xBcnqf6vqP3xdLO7LJ+k/PW88nBB65z/UkB/vG6XlP27VpWn9q+M/ZKg6+gCS4T/kmMfxUrXePzoLA5NVE9o/t/g5WMdF1T+MojWLrlTQPy32fa6ZkMY/xJHF9kWkuD/ztnLMZ/GPP8rGN9KXrrC/lC9jv76fwr8=",
                    "dtype": "f8"
                  },
                  "yaxis": "y"
                },
                {
                  "mode": "lines",
                  "name": "sin_12",
                  "type": "scatter",
                  "x": {
                    "bdata": "AAAAAAAAAABbv1Kg1q+0P1u/UqDWr8Q/CB988MEHzz9bv1Kg1q/UPzJvZ0jM29k/CB988MEH3z9wZ0jM2xniP1u/UqDWr+Q/RhdddNFF5z8yb2dIzNvpPx3HcRzHcew/CB988MEH7z96O0Ni3s7wP3BnSMzbGfI/ZZNNNtlk8z9bv1Kg1q/0P1HrVwrU+vU/RhdddNFF9z88Q2LezpD4PzJvZ0jM2/k/J5tssskm+z8dx3Ecx3H8PxPzdobEvP0/CB988MEH/z9/pUCtXykAQHo7Q2LezgBAddFFF110AUBwZ0jM2xkCQGr9SoFavwJAZZNNNtlkA0BgKVDrVwoEQFu/UqDWrwRAVlVVVVVVBUBR61cK1PoFQEyBWr9SoAZARhdddNFFB0BBrV8pUOsHQDxDYt7OkAhAN9lkk002CUAyb2dIzNsJQC0Fav1KgQpAJ5tssskmC0AiMW9nSMwLQB3HcRzHcQxAGF100UUXDUAT83aGxLwNQA6JeTtDYg5ACB988MEHD0ADtX6lQK0PQH+lQK1fKRBAffDBBx98EEB6O0Ni3s4QQHeGxLydIRFAddFFF110EUByHMdxHMcRQHBnSMzbGRJAbbLJJptsEkBq/UqBWr8SQGhIzNsZEhNAZZNNNtlkE0Bj3s6QmLcTQGApUOtXChRAXnTRRRddFEBbv1Kg1q8UQFgK1PqVAhVAVlVVVVVVFUBToNavFKgVQFHrVwrU+hVATjbZZJNNFkBMgVq/UqAWQEnM2xkS8xZARhdddNFFF0BEYt7OkJgXQEGtXylQ6xdAP/jggw8+GEA8Q2LezpAYQDmO4ziO4xhAN9lkk002GUA0JObtDIkZQDJvZ0jM2xlAL7rooosuGkAtBWr9SoEaQCpQ61cK1BpAJ5tssskmG0Al5u0MiXkbQCIxb2dIzBtAIHzwwQcfHEAdx3Ecx3EcQBsS83aGxBxAGF100UUXHUAVqPUrBWodQBPzdobEvB1AED744IMPHkAOiXk7Q2IeQAvU+pUCtR5ACB988MEHH0AGav1KgVofQAO1fqVArR9AAAAAAAAAIEA=",
                    "dtype": "f8"
                  },
                  "xaxis": "x2",
                  "y": {
                    "bdata": "AAAAAAAAAABQnwOhE6q0P4aD12nQmMQ/OBVEbC26zj+aXlz7GVTUP1ZjAncmKdk/MJFbWinU3T+tjlgJqybhPzPWi6iZRuM/jMGNw1NG5T9rLLlhgiLnP9abcO0J2Og/wp1YZQ9k6j9Cx6wh/cPrP8bEtiWH9ew/3oUw9q727T+qMSjuxsXuP+nq1Ax1Ye8/jxGtN7XI7z8WKvjs2vrvPxNbBmSS9+8/vfYrGeG+7z8EMJfEJVHvPzVLD7wXr+4/ULGlwMXZ7T89qlg6lNLsP1+Im+Q6m+s/XCen78E16j8tOV6bfqToPwdzcVEP6uY/1MdGRVcJ5T8tGfOgeQXjP5nLVUfU4eA/5G8waPRD3T8fve0FW5PYP1zwnFCyudM/QjKqlSl+zT+q7hQOqFfDP/ktPQarIbI/Q/MxRilShL/XNlPm9jG3v/iZhd9z2cW/bAZ7/2r1z7+9DWN7/u3UvwXkfI9Pvtm/C85I1Z1j3r/+oDIhE2vhv27xVlA9h+O/87gu/MaC5b/8p9srYFrnv0APRfL0Cum/sbKGkrKR6r8vrnU3DOzrv83zWTa/F+2/gg2+1dYS7r/Z0wWSr9vuv1BdVtr5cO+/6Ro8QbzR778abWYdVf3vv5FuwJd78++/vLAjJUC0778cltlqDEDvv006GY6il+6/kM6o7xu87b90XMBV567sv6dgP4fGceu/DxE1XMsG6r8806JIVHDov1roP2cIsea/4y3bCtPL5L9QnsLd3sPiv82rVpeQnOC/ibxAoQKz3L+NVcYC8fzXv2Fja1/LHtO/owS4cmdBzL8HK3fkAhbCv13shtuaMa+/cwsYt+dRlD9lssSBRLm5P9tkP1qKGcc/TtGhLu2X0D9ys7jvW4fVP+Re7YzSUto/va9YO07y3j/OuoHVCq/hP6sIQfdix+M/cAYeaa++5T97pGBHp5HnP276UGE+Pek/B1+5UKq+6j9MxHwjZxPsP9wld487Oe0/YoKiqTwu7j/CPksa0fDuP/aV+cizf+8/XW+Z+/XZ7z9AIFXlAP/vPwO1iKKW7u8/e88ooNKo7z8=",
                    "dtype": "f8"
                  },
                  "yaxis": "y2"
                },
                {
                  "mode": "lines",
                  "name": "cos_12",
                  "type": "scatter",
                  "x": {
                    "bdata": "AAAAAAAAAABbv1Kg1q+0P1u/UqDWr8Q/CB988MEHzz9bv1Kg1q/UPzJvZ0jM29k/CB988MEH3z9wZ0jM2xniP1u/UqDWr+Q/RhdddNFF5z8yb2dIzNvpPx3HcRzHcew/CB988MEH7z96O0Ni3s7wP3BnSMzbGfI/ZZNNNtlk8z9bv1Kg1q/0P1HrVwrU+vU/RhdddNFF9z88Q2LezpD4PzJvZ0jM2/k/J5tssskm+z8dx3Ecx3H8PxPzdobEvP0/CB988MEH/z9/pUCtXykAQHo7Q2LezgBAddFFF110AUBwZ0jM2xkCQGr9SoFavwJAZZNNNtlkA0BgKVDrVwoEQFu/UqDWrwRAVlVVVVVVBUBR61cK1PoFQEyBWr9SoAZARhdddNFFB0BBrV8pUOsHQDxDYt7OkAhAN9lkk002CUAyb2dIzNsJQC0Fav1KgQpAJ5tssskmC0AiMW9nSMwLQB3HcRzHcQxAGF100UUXDUAT83aGxLwNQA6JeTtDYg5ACB988MEHD0ADtX6lQK0PQH+lQK1fKRBAffDBBx98EEB6O0Ni3s4QQHeGxLydIRFAddFFF110EUByHMdxHMcRQHBnSMzbGRJAbbLJJptsEkBq/UqBWr8SQGhIzNsZEhNAZZNNNtlkE0Bj3s6QmLcTQGApUOtXChRAXnTRRRddFEBbv1Kg1q8UQFgK1PqVAhVAVlVVVVVVFUBToNavFKgVQFHrVwrU+hVATjbZZJNNFkBMgVq/UqAWQEnM2xkS8xZARhdddNFFF0BEYt7OkJgXQEGtXylQ6xdAP/jggw8+GEA8Q2LezpAYQDmO4ziO4xhAN9lkk002GUA0JObtDIkZQDJvZ0jM2xlAL7rooosuGkAtBWr9SoEaQCpQ61cK1BpAJ5tssskmG0Al5u0MiXkbQCIxb2dIzBtAIHzwwQcfHEAdx3Ecx3EcQBsS83aGxBxAGF100UUXHUAVqPUrBWodQBPzdobEvB1AED744IMPHkAOiXk7Q2IeQAvU+pUCtR5ACB988MEHH0AGav1KgVofQAO1fqVArR9AAAAAAAAAIEA=",
                    "dtype": "f8"
                  },
                  "xaxis": "x2",
                  "y": {
                    "bdata": "AAAAAAAA8D9HK6CUROXvP0AFMfw+le8/0Kwk6XQQ7z9d9043xFfuP3RuOXlhbO0/2qiW9NVP7D+KWjIR/QPrPyzmpz4Bi+k/an8OVljn5z8liaZ9vxvmP3BcZpU2K+Q/hq0LNPsY4j/7DCJ6BtHfP78oJjHuOts/P1edLVd31j+n2toSN47RP+OvS3WED8k/9ioyAHixvT+L7rrClSSiP3iQonMUOKe/UMFg43wbwL9Jc4tRC07Kv2XwUmZTKtK/5EnDk0cP178Zq47PtM3bvzitYAvXLuC/cAd8Acpb4r/EOljDEGrkv1d+Uwk8Vua/xHL7hxUd6L8H3OdNpbvpvz+saLk2L+u/sAu+/Vx17L+b70ww94vtvwtVC9czce6/LQcz8pMj778PmSd87aHvv1p1Yltt6++/Chwlw5j/778KSaQATt7vv046VbPEh++/XQT/b4387r+zOSvPkD3uv397iegNTO2/AzrPPZgp7L/hXY4YFdjqv282aV+4Wem/K1Lu5wCx57/uV0JLtODlv4cjj0Ta6+O/VPD0oLfV4b+77+WSkUPfv+rFzt93p9q/6U3D0dXe1b83wRp5qfHQvysw1uVb0Me/5pY+ojYru792oZsCRCGav2WWNlP9Sqw/DwVx2NVdwT8z0VVz6IvLPyrnOoT6xdI/NrDXL6Om1z9hcPsHyF/cP4Pvmm7CdOA/FJo0WiKe4j+xKNk4Z6jkPy8B6XQokOY/Ktb2IjdS6D8t9U9To+vpP5LASfrAWes/y1shZyya7D/eEvhBzqrtP9z/QArfie4/MI/JD+o17z8bYmXhz63vP5Q6LS3I8O8/kpAuD2P+7z84o1zMidbvPzWwivh+ee8/Ct4vB97n7j+psa5HmiLuP8b90U79Ku0/Z3om0KQC7D9xBcnqf6vqP3xdLO7LJ+k/PW88nBB65z/UkB/vG6XlP27VpWn9q+M/ZKg6+gCS4T/kmMfxUrXePzoLA5NVE9o/t/g5WMdF1T+MojWLrlTQPy32fa6ZkMY/xJHF9kWkuD/ztnLMZ/GPP8rGN9KXrrC/lC9jv76fwr8=",
                    "dtype": "f8"
                  },
                  "yaxis": "y2"
                },
                {
                  "marker": {
                    "size": 5
                  },
                  "mode": "markers",
                  "name": "circle_12",
                  "type": "scatter",
                  "x": {
                    "bdata": "AAAAAAAA8D9HK6CUROXvP0AFMfw+le8/0Kwk6XQQ7z9d9043xFfuP3RuOXlhbO0/2qiW9NVP7D+KWjIR/QPrPyzmpz4Bi+k/an8OVljn5z8liaZ9vxvmP3BcZpU2K+Q/hq0LNPsY4j/7DCJ6BtHfP78oJjHuOts/P1edLVd31j+n2toSN47RP+OvS3WED8k/9ioyAHixvT+L7rrClSSiP3iQonMUOKe/UMFg43wbwL9Jc4tRC07Kv2XwUmZTKtK/5EnDk0cP178Zq47PtM3bvzitYAvXLuC/cAd8Acpb4r/EOljDEGrkv1d+Uwk8Vua/xHL7hxUd6L8H3OdNpbvpvz+saLk2L+u/sAu+/Vx17L+b70ww94vtvwtVC9czce6/LQcz8pMj778PmSd87aHvv1p1Yltt6++/Chwlw5j/778KSaQATt7vv046VbPEh++/XQT/b4387r+zOSvPkD3uv397iegNTO2/AzrPPZgp7L/hXY4YFdjqv282aV+4Wem/K1Lu5wCx57/uV0JLtODlv4cjj0Ta6+O/VPD0oLfV4b+77+WSkUPfv+rFzt93p9q/6U3D0dXe1b83wRp5qfHQvysw1uVb0Me/5pY+ojYru792oZsCRCGav2WWNlP9Sqw/DwVx2NVdwT8z0VVz6IvLPyrnOoT6xdI/NrDXL6Om1z9hcPsHyF/cP4Pvmm7CdOA/FJo0WiKe4j+xKNk4Z6jkPy8B6XQokOY/Ktb2IjdS6D8t9U9To+vpP5LASfrAWes/y1shZyya7D/eEvhBzqrtP9z/QArfie4/MI/JD+o17z8bYmXhz63vP5Q6LS3I8O8/kpAuD2P+7z84o1zMidbvPzWwivh+ee8/Ct4vB97n7j+psa5HmiLuP8b90U79Ku0/Z3om0KQC7D9xBcnqf6vqP3xdLO7LJ+k/PW88nBB65z/UkB/vG6XlP27VpWn9q+M/ZKg6+gCS4T/kmMfxUrXePzoLA5NVE9o/t/g5WMdF1T+MojWLrlTQPy32fa6ZkMY/xJHF9kWkuD/ztnLMZ/GPP8rGN9KXrrC/lC9jv76fwr8=",
                    "dtype": "f8"
                  },
                  "xaxis": "x2",
                  "y": {
                    "bdata": "AAAAAAAAAABQnwOhE6q0P4aD12nQmMQ/OBVEbC26zj+aXlz7GVTUP1ZjAncmKdk/MJFbWinU3T+tjlgJqybhPzPWi6iZRuM/jMGNw1NG5T9rLLlhgiLnP9abcO0J2Og/wp1YZQ9k6j9Cx6wh/cPrP8bEtiWH9ew/3oUw9q727T+qMSjuxsXuP+nq1Ax1Ye8/jxGtN7XI7z8WKvjs2vrvPxNbBmSS9+8/vfYrGeG+7z8EMJfEJVHvPzVLD7wXr+4/ULGlwMXZ7T89qlg6lNLsP1+Im+Q6m+s/XCen78E16j8tOV6bfqToPwdzcVEP6uY/1MdGRVcJ5T8tGfOgeQXjP5nLVUfU4eA/5G8waPRD3T8fve0FW5PYP1zwnFCyudM/QjKqlSl+zT+q7hQOqFfDP/ktPQarIbI/Q/MxRilShL/XNlPm9jG3v/iZhd9z2cW/bAZ7/2r1z7+9DWN7/u3UvwXkfI9Pvtm/C85I1Z1j3r/+oDIhE2vhv27xVlA9h+O/87gu/MaC5b/8p9srYFrnv0APRfL0Cum/sbKGkrKR6r8vrnU3DOzrv83zWTa/F+2/gg2+1dYS7r/Z0wWSr9vuv1BdVtr5cO+/6Ro8QbzR778abWYdVf3vv5FuwJd78++/vLAjJUC0778cltlqDEDvv006GY6il+6/kM6o7xu87b90XMBV567sv6dgP4fGceu/DxE1XMsG6r8806JIVHDov1roP2cIsea/4y3bCtPL5L9QnsLd3sPiv82rVpeQnOC/ibxAoQKz3L+NVcYC8fzXv2Fja1/LHtO/owS4cmdBzL8HK3fkAhbCv13shtuaMa+/cwsYt+dRlD9lssSBRLm5P9tkP1qKGcc/TtGhLu2X0D9ys7jvW4fVP+Re7YzSUto/va9YO07y3j/OuoHVCq/hP6sIQfdix+M/cAYeaa++5T97pGBHp5HnP276UGE+Pek/B1+5UKq+6j9MxHwjZxPsP9wld487Oe0/YoKiqTwu7j/CPksa0fDuP/aV+cizf+8/XW+Z+/XZ7z9AIFXlAP/vPwO1iKKW7u8/e88ooNKo7z8=",
                    "dtype": "f8"
                  },
                  "yaxis": "y2"
                },
                {
                  "marker": {
                    "size": 5
                  },
                  "mode": "markers",
                  "name": "sin_21",
                  "type": "scatter",
                  "x": {
                    "bdata": "AAAAAAAAAABbv1Kg1q+0P1u/UqDWr8Q/CB988MEHzz9bv1Kg1q/UPzJvZ0jM29k/CB988MEH3z9wZ0jM2xniP1u/UqDWr+Q/RhdddNFF5z8yb2dIzNvpPx3HcRzHcew/CB988MEH7z96O0Ni3s7wP3BnSMzbGfI/ZZNNNtlk8z9bv1Kg1q/0P1HrVwrU+vU/RhdddNFF9z88Q2LezpD4PzJvZ0jM2/k/J5tssskm+z8dx3Ecx3H8PxPzdobEvP0/CB988MEH/z9/pUCtXykAQHo7Q2LezgBAddFFF110AUBwZ0jM2xkCQGr9SoFavwJAZZNNNtlkA0BgKVDrVwoEQFu/UqDWrwRAVlVVVVVVBUBR61cK1PoFQEyBWr9SoAZARhdddNFFB0BBrV8pUOsHQDxDYt7OkAhAN9lkk002CUAyb2dIzNsJQC0Fav1KgQpAJ5tssskmC0AiMW9nSMwLQB3HcRzHcQxAGF100UUXDUAT83aGxLwNQA6JeTtDYg5ACB988MEHD0ADtX6lQK0PQH+lQK1fKRBAffDBBx98EEB6O0Ni3s4QQHeGxLydIRFAddFFF110EUByHMdxHMcRQHBnSMzbGRJAbbLJJptsEkBq/UqBWr8SQGhIzNsZEhNAZZNNNtlkE0Bj3s6QmLcTQGApUOtXChRAXnTRRRddFEBbv1Kg1q8UQFgK1PqVAhVAVlVVVVVVFUBToNavFKgVQFHrVwrU+hVATjbZZJNNFkBMgVq/UqAWQEnM2xkS8xZARhdddNFFF0BEYt7OkJgXQEGtXylQ6xdAP/jggw8+GEA8Q2LezpAYQDmO4ziO4xhAN9lkk002GUA0JObtDIkZQDJvZ0jM2xlAL7rooosuGkAtBWr9SoEaQCpQ61cK1BpAJ5tssskmG0Al5u0MiXkbQCIxb2dIzBtAIHzwwQcfHEAdx3Ecx3EcQBsS83aGxBxAGF100UUXHUAVqPUrBWodQBPzdobEvB1AED744IMPHkAOiXk7Q2IeQAvU+pUCtR5ACB988MEHH0AGav1KgVofQAO1fqVArR9AAAAAAAAAIEA=",
                    "dtype": "f8"
                  },
                  "xaxis": "x3",
                  "y": {
                    "bdata": "AAAAAAAAAABQnwOhE6q0P4aD12nQmMQ/OBVEbC26zj+aXlz7GVTUP1ZjAncmKdk/MJFbWinU3T+tjlgJqybhPzPWi6iZRuM/jMGNw1NG5T9rLLlhgiLnP9abcO0J2Og/wp1YZQ9k6j9Cx6wh/cPrP8bEtiWH9ew/3oUw9q727T+qMSjuxsXuP+nq1Ax1Ye8/jxGtN7XI7z8WKvjs2vrvPxNbBmSS9+8/vfYrGeG+7z8EMJfEJVHvPzVLD7wXr+4/ULGlwMXZ7T89qlg6lNLsP1+Im+Q6m+s/XCen78E16j8tOV6bfqToPwdzcVEP6uY/1MdGRVcJ5T8tGfOgeQXjP5nLVUfU4eA/5G8waPRD3T8fve0FW5PYP1zwnFCyudM/QjKqlSl+zT+q7hQOqFfDP/ktPQarIbI/Q/MxRilShL/XNlPm9jG3v/iZhd9z2cW/bAZ7/2r1z7+9DWN7/u3UvwXkfI9Pvtm/C85I1Z1j3r/+oDIhE2vhv27xVlA9h+O/87gu/MaC5b/8p9srYFrnv0APRfL0Cum/sbKGkrKR6r8vrnU3DOzrv83zWTa/F+2/gg2+1dYS7r/Z0wWSr9vuv1BdVtr5cO+/6Ro8QbzR778abWYdVf3vv5FuwJd78++/vLAjJUC0778cltlqDEDvv006GY6il+6/kM6o7xu87b90XMBV567sv6dgP4fGceu/DxE1XMsG6r8806JIVHDov1roP2cIsea/4y3bCtPL5L9QnsLd3sPiv82rVpeQnOC/ibxAoQKz3L+NVcYC8fzXv2Fja1/LHtO/owS4cmdBzL8HK3fkAhbCv13shtuaMa+/cwsYt+dRlD9lssSBRLm5P9tkP1qKGcc/TtGhLu2X0D9ys7jvW4fVP+Re7YzSUto/va9YO07y3j/OuoHVCq/hP6sIQfdix+M/cAYeaa++5T97pGBHp5HnP276UGE+Pek/B1+5UKq+6j9MxHwjZxPsP9wld487Oe0/YoKiqTwu7j/CPksa0fDuP/aV+cizf+8/XW+Z+/XZ7z9AIFXlAP/vPwO1iKKW7u8/e88ooNKo7z8=",
                    "dtype": "f8"
                  },
                  "yaxis": "y3"
                },
                {
                  "marker": {
                    "size": 5
                  },
                  "mode": "markers",
                  "name": "cos_21",
                  "type": "scatter",
                  "x": {
                    "bdata": "AAAAAAAAAABbv1Kg1q+0P1u/UqDWr8Q/CB988MEHzz9bv1Kg1q/UPzJvZ0jM29k/CB988MEH3z9wZ0jM2xniP1u/UqDWr+Q/RhdddNFF5z8yb2dIzNvpPx3HcRzHcew/CB988MEH7z96O0Ni3s7wP3BnSMzbGfI/ZZNNNtlk8z9bv1Kg1q/0P1HrVwrU+vU/RhdddNFF9z88Q2LezpD4PzJvZ0jM2/k/J5tssskm+z8dx3Ecx3H8PxPzdobEvP0/CB988MEH/z9/pUCtXykAQHo7Q2LezgBAddFFF110AUBwZ0jM2xkCQGr9SoFavwJAZZNNNtlkA0BgKVDrVwoEQFu/UqDWrwRAVlVVVVVVBUBR61cK1PoFQEyBWr9SoAZARhdddNFFB0BBrV8pUOsHQDxDYt7OkAhAN9lkk002CUAyb2dIzNsJQC0Fav1KgQpAJ5tssskmC0AiMW9nSMwLQB3HcRzHcQxAGF100UUXDUAT83aGxLwNQA6JeTtDYg5ACB988MEHD0ADtX6lQK0PQH+lQK1fKRBAffDBBx98EEB6O0Ni3s4QQHeGxLydIRFAddFFF110EUByHMdxHMcRQHBnSMzbGRJAbbLJJptsEkBq/UqBWr8SQGhIzNsZEhNAZZNNNtlkE0Bj3s6QmLcTQGApUOtXChRAXnTRRRddFEBbv1Kg1q8UQFgK1PqVAhVAVlVVVVVVFUBToNavFKgVQFHrVwrU+hVATjbZZJNNFkBMgVq/UqAWQEnM2xkS8xZARhdddNFFF0BEYt7OkJgXQEGtXylQ6xdAP/jggw8+GEA8Q2LezpAYQDmO4ziO4xhAN9lkk002GUA0JObtDIkZQDJvZ0jM2xlAL7rooosuGkAtBWr9SoEaQCpQ61cK1BpAJ5tssskmG0Al5u0MiXkbQCIxb2dIzBtAIHzwwQcfHEAdx3Ecx3EcQBsS83aGxBxAGF100UUXHUAVqPUrBWodQBPzdobEvB1AED744IMPHkAOiXk7Q2IeQAvU+pUCtR5ACB988MEHH0AGav1KgVofQAO1fqVArR9AAAAAAAAAIEA=",
                    "dtype": "f8"
                  },
                  "xaxis": "x3",
                  "y": {
                    "bdata": "AAAAAAAA8D9HK6CUROXvP0AFMfw+le8/0Kwk6XQQ7z9d9043xFfuP3RuOXlhbO0/2qiW9NVP7D+KWjIR/QPrPyzmpz4Bi+k/an8OVljn5z8liaZ9vxvmP3BcZpU2K+Q/hq0LNPsY4j/7DCJ6BtHfP78oJjHuOts/P1edLVd31j+n2toSN47RP+OvS3WED8k/9ioyAHixvT+L7rrClSSiP3iQonMUOKe/UMFg43wbwL9Jc4tRC07Kv2XwUmZTKtK/5EnDk0cP178Zq47PtM3bvzitYAvXLuC/cAd8Acpb4r/EOljDEGrkv1d+Uwk8Vua/xHL7hxUd6L8H3OdNpbvpvz+saLk2L+u/sAu+/Vx17L+b70ww94vtvwtVC9czce6/LQcz8pMj778PmSd87aHvv1p1Yltt6++/Chwlw5j/778KSaQATt7vv046VbPEh++/XQT/b4387r+zOSvPkD3uv397iegNTO2/AzrPPZgp7L/hXY4YFdjqv282aV+4Wem/K1Lu5wCx57/uV0JLtODlv4cjj0Ta6+O/VPD0oLfV4b+77+WSkUPfv+rFzt93p9q/6U3D0dXe1b83wRp5qfHQvysw1uVb0Me/5pY+ojYru792oZsCRCGav2WWNlP9Sqw/DwVx2NVdwT8z0VVz6IvLPyrnOoT6xdI/NrDXL6Om1z9hcPsHyF/cP4Pvmm7CdOA/FJo0WiKe4j+xKNk4Z6jkPy8B6XQokOY/Ktb2IjdS6D8t9U9To+vpP5LASfrAWes/y1shZyya7D/eEvhBzqrtP9z/QArfie4/MI/JD+o17z8bYmXhz63vP5Q6LS3I8O8/kpAuD2P+7z84o1zMidbvPzWwivh+ee8/Ct4vB97n7j+psa5HmiLuP8b90U79Ku0/Z3om0KQC7D9xBcnqf6vqP3xdLO7LJ+k/PW88nBB65z/UkB/vG6XlP27VpWn9q+M/ZKg6+gCS4T/kmMfxUrXePzoLA5NVE9o/t/g5WMdF1T+MojWLrlTQPy32fa6ZkMY/xJHF9kWkuD/ztnLMZ/GPP8rGN9KXrrC/lC9jv76fwr8=",
                    "dtype": "f8"
                  },
                  "yaxis": "y3"
                },
                {
                  "marker": {
                    "size": 5
                  },
                  "mode": "markers",
                  "name": "circle_21",
                  "type": "scatter",
                  "x": {
                    "bdata": "AAAAAAAA8D9HK6CUROXvP0AFMfw+le8/0Kwk6XQQ7z9d9043xFfuP3RuOXlhbO0/2qiW9NVP7D+KWjIR/QPrPyzmpz4Bi+k/an8OVljn5z8liaZ9vxvmP3BcZpU2K+Q/hq0LNPsY4j/7DCJ6BtHfP78oJjHuOts/P1edLVd31j+n2toSN47RP+OvS3WED8k/9ioyAHixvT+L7rrClSSiP3iQonMUOKe/UMFg43wbwL9Jc4tRC07Kv2XwUmZTKtK/5EnDk0cP178Zq47PtM3bvzitYAvXLuC/cAd8Acpb4r/EOljDEGrkv1d+Uwk8Vua/xHL7hxUd6L8H3OdNpbvpvz+saLk2L+u/sAu+/Vx17L+b70ww94vtvwtVC9czce6/LQcz8pMj778PmSd87aHvv1p1Yltt6++/Chwlw5j/778KSaQATt7vv046VbPEh++/XQT/b4387r+zOSvPkD3uv397iegNTO2/AzrPPZgp7L/hXY4YFdjqv282aV+4Wem/K1Lu5wCx57/uV0JLtODlv4cjj0Ta6+O/VPD0oLfV4b+77+WSkUPfv+rFzt93p9q/6U3D0dXe1b83wRp5qfHQvysw1uVb0Me/5pY+ojYru792oZsCRCGav2WWNlP9Sqw/DwVx2NVdwT8z0VVz6IvLPyrnOoT6xdI/NrDXL6Om1z9hcPsHyF/cP4Pvmm7CdOA/FJo0WiKe4j+xKNk4Z6jkPy8B6XQokOY/Ktb2IjdS6D8t9U9To+vpP5LASfrAWes/y1shZyya7D/eEvhBzqrtP9z/QArfie4/MI/JD+o17z8bYmXhz63vP5Q6LS3I8O8/kpAuD2P+7z84o1zMidbvPzWwivh+ee8/Ct4vB97n7j+psa5HmiLuP8b90U79Ku0/Z3om0KQC7D9xBcnqf6vqP3xdLO7LJ+k/PW88nBB65z/UkB/vG6XlP27VpWn9q+M/ZKg6+gCS4T/kmMfxUrXePzoLA5NVE9o/t/g5WMdF1T+MojWLrlTQPy32fa6ZkMY/xJHF9kWkuD/ztnLMZ/GPP8rGN9KXrrC/lC9jv76fwr8=",
                    "dtype": "f8"
                  },
                  "xaxis": "x3",
                  "y": {
                    "bdata": "AAAAAAAAAABQnwOhE6q0P4aD12nQmMQ/OBVEbC26zj+aXlz7GVTUP1ZjAncmKdk/MJFbWinU3T+tjlgJqybhPzPWi6iZRuM/jMGNw1NG5T9rLLlhgiLnP9abcO0J2Og/wp1YZQ9k6j9Cx6wh/cPrP8bEtiWH9ew/3oUw9q727T+qMSjuxsXuP+nq1Ax1Ye8/jxGtN7XI7z8WKvjs2vrvPxNbBmSS9+8/vfYrGeG+7z8EMJfEJVHvPzVLD7wXr+4/ULGlwMXZ7T89qlg6lNLsP1+Im+Q6m+s/XCen78E16j8tOV6bfqToPwdzcVEP6uY/1MdGRVcJ5T8tGfOgeQXjP5nLVUfU4eA/5G8waPRD3T8fve0FW5PYP1zwnFCyudM/QjKqlSl+zT+q7hQOqFfDP/ktPQarIbI/Q/MxRilShL/XNlPm9jG3v/iZhd9z2cW/bAZ7/2r1z7+9DWN7/u3UvwXkfI9Pvtm/C85I1Z1j3r/+oDIhE2vhv27xVlA9h+O/87gu/MaC5b/8p9srYFrnv0APRfL0Cum/sbKGkrKR6r8vrnU3DOzrv83zWTa/F+2/gg2+1dYS7r/Z0wWSr9vuv1BdVtr5cO+/6Ro8QbzR778abWYdVf3vv5FuwJd78++/vLAjJUC0778cltlqDEDvv006GY6il+6/kM6o7xu87b90XMBV567sv6dgP4fGceu/DxE1XMsG6r8806JIVHDov1roP2cIsea/4y3bCtPL5L9QnsLd3sPiv82rVpeQnOC/ibxAoQKz3L+NVcYC8fzXv2Fja1/LHtO/owS4cmdBzL8HK3fkAhbCv13shtuaMa+/cwsYt+dRlD9lssSBRLm5P9tkP1qKGcc/TtGhLu2X0D9ys7jvW4fVP+Re7YzSUto/va9YO07y3j/OuoHVCq/hP6sIQfdix+M/cAYeaa++5T97pGBHp5HnP276UGE+Pek/B1+5UKq+6j9MxHwjZxPsP9wld487Oe0/YoKiqTwu7j/CPksa0fDuP/aV+cizf+8/XW+Z+/XZ7z9AIFXlAP/vPwO1iKKW7u8/e88ooNKo7z8=",
                    "dtype": "f8"
                  },
                  "yaxis": "y3"
                },
                {
                  "mode": "lines",
                  "name": "sin_22",
                  "type": "scatter",
                  "x": {
                    "bdata": "AAAAAAAAAABbv1Kg1q+0P1u/UqDWr8Q/CB988MEHzz9bv1Kg1q/UPzJvZ0jM29k/CB988MEH3z9wZ0jM2xniP1u/UqDWr+Q/RhdddNFF5z8yb2dIzNvpPx3HcRzHcew/CB988MEH7z96O0Ni3s7wP3BnSMzbGfI/ZZNNNtlk8z9bv1Kg1q/0P1HrVwrU+vU/RhdddNFF9z88Q2LezpD4PzJvZ0jM2/k/J5tssskm+z8dx3Ecx3H8PxPzdobEvP0/CB988MEH/z9/pUCtXykAQHo7Q2LezgBAddFFF110AUBwZ0jM2xkCQGr9SoFavwJAZZNNNtlkA0BgKVDrVwoEQFu/UqDWrwRAVlVVVVVVBUBR61cK1PoFQEyBWr9SoAZARhdddNFFB0BBrV8pUOsHQDxDYt7OkAhAN9lkk002CUAyb2dIzNsJQC0Fav1KgQpAJ5tssskmC0AiMW9nSMwLQB3HcRzHcQxAGF100UUXDUAT83aGxLwNQA6JeTtDYg5ACB988MEHD0ADtX6lQK0PQH+lQK1fKRBAffDBBx98EEB6O0Ni3s4QQHeGxLydIRFAddFFF110EUByHMdxHMcRQHBnSMzbGRJAbbLJJptsEkBq/UqBWr8SQGhIzNsZEhNAZZNNNtlkE0Bj3s6QmLcTQGApUOtXChRAXnTRRRddFEBbv1Kg1q8UQFgK1PqVAhVAVlVVVVVVFUBToNavFKgVQFHrVwrU+hVATjbZZJNNFkBMgVq/UqAWQEnM2xkS8xZARhdddNFFF0BEYt7OkJgXQEGtXylQ6xdAP/jggw8+GEA8Q2LezpAYQDmO4ziO4xhAN9lkk002GUA0JObtDIkZQDJvZ0jM2xlAL7rooosuGkAtBWr9SoEaQCpQ61cK1BpAJ5tssskmG0Al5u0MiXkbQCIxb2dIzBtAIHzwwQcfHEAdx3Ecx3EcQBsS83aGxBxAGF100UUXHUAVqPUrBWodQBPzdobEvB1AED744IMPHkAOiXk7Q2IeQAvU+pUCtR5ACB988MEHH0AGav1KgVofQAO1fqVArR9AAAAAAAAAIEA=",
                    "dtype": "f8"
                  },
                  "xaxis": "x4",
                  "y": {
                    "bdata": "AAAAAAAAAABQnwOhE6q0P4aD12nQmMQ/OBVEbC26zj+aXlz7GVTUP1ZjAncmKdk/MJFbWinU3T+tjlgJqybhPzPWi6iZRuM/jMGNw1NG5T9rLLlhgiLnP9abcO0J2Og/wp1YZQ9k6j9Cx6wh/cPrP8bEtiWH9ew/3oUw9q727T+qMSjuxsXuP+nq1Ax1Ye8/jxGtN7XI7z8WKvjs2vrvPxNbBmSS9+8/vfYrGeG+7z8EMJfEJVHvPzVLD7wXr+4/ULGlwMXZ7T89qlg6lNLsP1+Im+Q6m+s/XCen78E16j8tOV6bfqToPwdzcVEP6uY/1MdGRVcJ5T8tGfOgeQXjP5nLVUfU4eA/5G8waPRD3T8fve0FW5PYP1zwnFCyudM/QjKqlSl+zT+q7hQOqFfDP/ktPQarIbI/Q/MxRilShL/XNlPm9jG3v/iZhd9z2cW/bAZ7/2r1z7+9DWN7/u3UvwXkfI9Pvtm/C85I1Z1j3r/+oDIhE2vhv27xVlA9h+O/87gu/MaC5b/8p9srYFrnv0APRfL0Cum/sbKGkrKR6r8vrnU3DOzrv83zWTa/F+2/gg2+1dYS7r/Z0wWSr9vuv1BdVtr5cO+/6Ro8QbzR778abWYdVf3vv5FuwJd78++/vLAjJUC0778cltlqDEDvv006GY6il+6/kM6o7xu87b90XMBV567sv6dgP4fGceu/DxE1XMsG6r8806JIVHDov1roP2cIsea/4y3bCtPL5L9QnsLd3sPiv82rVpeQnOC/ibxAoQKz3L+NVcYC8fzXv2Fja1/LHtO/owS4cmdBzL8HK3fkAhbCv13shtuaMa+/cwsYt+dRlD9lssSBRLm5P9tkP1qKGcc/TtGhLu2X0D9ys7jvW4fVP+Re7YzSUto/va9YO07y3j/OuoHVCq/hP6sIQfdix+M/cAYeaa++5T97pGBHp5HnP276UGE+Pek/B1+5UKq+6j9MxHwjZxPsP9wld487Oe0/YoKiqTwu7j/CPksa0fDuP/aV+cizf+8/XW+Z+/XZ7z9AIFXlAP/vPwO1iKKW7u8/e88ooNKo7z8=",
                    "dtype": "f8"
                  },
                  "yaxis": "y4"
                },
                {
                  "marker": {
                    "size": 5
                  },
                  "mode": "markers",
                  "name": "cos_22",
                  "type": "scatter",
                  "x": {
                    "bdata": "AAAAAAAAAABbv1Kg1q+0P1u/UqDWr8Q/CB988MEHzz9bv1Kg1q/UPzJvZ0jM29k/CB988MEH3z9wZ0jM2xniP1u/UqDWr+Q/RhdddNFF5z8yb2dIzNvpPx3HcRzHcew/CB988MEH7z96O0Ni3s7wP3BnSMzbGfI/ZZNNNtlk8z9bv1Kg1q/0P1HrVwrU+vU/RhdddNFF9z88Q2LezpD4PzJvZ0jM2/k/J5tssskm+z8dx3Ecx3H8PxPzdobEvP0/CB988MEH/z9/pUCtXykAQHo7Q2LezgBAddFFF110AUBwZ0jM2xkCQGr9SoFavwJAZZNNNtlkA0BgKVDrVwoEQFu/UqDWrwRAVlVVVVVVBUBR61cK1PoFQEyBWr9SoAZARhdddNFFB0BBrV8pUOsHQDxDYt7OkAhAN9lkk002CUAyb2dIzNsJQC0Fav1KgQpAJ5tssskmC0AiMW9nSMwLQB3HcRzHcQxAGF100UUXDUAT83aGxLwNQA6JeTtDYg5ACB988MEHD0ADtX6lQK0PQH+lQK1fKRBAffDBBx98EEB6O0Ni3s4QQHeGxLydIRFAddFFF110EUByHMdxHMcRQHBnSMzbGRJAbbLJJptsEkBq/UqBWr8SQGhIzNsZEhNAZZNNNtlkE0Bj3s6QmLcTQGApUOtXChRAXnTRRRddFEBbv1Kg1q8UQFgK1PqVAhVAVlVVVVVVFUBToNavFKgVQFHrVwrU+hVATjbZZJNNFkBMgVq/UqAWQEnM2xkS8xZARhdddNFFF0BEYt7OkJgXQEGtXylQ6xdAP/jggw8+GEA8Q2LezpAYQDmO4ziO4xhAN9lkk002GUA0JObtDIkZQDJvZ0jM2xlAL7rooosuGkAtBWr9SoEaQCpQ61cK1BpAJ5tssskmG0Al5u0MiXkbQCIxb2dIzBtAIHzwwQcfHEAdx3Ecx3EcQBsS83aGxBxAGF100UUXHUAVqPUrBWodQBPzdobEvB1AED744IMPHkAOiXk7Q2IeQAvU+pUCtR5ACB988MEHH0AGav1KgVofQAO1fqVArR9AAAAAAAAAIEA=",
                    "dtype": "f8"
                  },
                  "xaxis": "x4",
                  "y": {
                    "bdata": "AAAAAAAA8D9HK6CUROXvP0AFMfw+le8/0Kwk6XQQ7z9d9043xFfuP3RuOXlhbO0/2qiW9NVP7D+KWjIR/QPrPyzmpz4Bi+k/an8OVljn5z8liaZ9vxvmP3BcZpU2K+Q/hq0LNPsY4j/7DCJ6BtHfP78oJjHuOts/P1edLVd31j+n2toSN47RP+OvS3WED8k/9ioyAHixvT+L7rrClSSiP3iQonMUOKe/UMFg43wbwL9Jc4tRC07Kv2XwUmZTKtK/5EnDk0cP178Zq47PtM3bvzitYAvXLuC/cAd8Acpb4r/EOljDEGrkv1d+Uwk8Vua/xHL7hxUd6L8H3OdNpbvpvz+saLk2L+u/sAu+/Vx17L+b70ww94vtvwtVC9czce6/LQcz8pMj778PmSd87aHvv1p1Yltt6++/Chwlw5j/778KSaQATt7vv046VbPEh++/XQT/b4387r+zOSvPkD3uv397iegNTO2/AzrPPZgp7L/hXY4YFdjqv282aV+4Wem/K1Lu5wCx57/uV0JLtODlv4cjj0Ta6+O/VPD0oLfV4b+77+WSkUPfv+rFzt93p9q/6U3D0dXe1b83wRp5qfHQvysw1uVb0Me/5pY+ojYru792oZsCRCGav2WWNlP9Sqw/DwVx2NVdwT8z0VVz6IvLPyrnOoT6xdI/NrDXL6Om1z9hcPsHyF/cP4Pvmm7CdOA/FJo0WiKe4j+xKNk4Z6jkPy8B6XQokOY/Ktb2IjdS6D8t9U9To+vpP5LASfrAWes/y1shZyya7D/eEvhBzqrtP9z/QArfie4/MI/JD+o17z8bYmXhz63vP5Q6LS3I8O8/kpAuD2P+7z84o1zMidbvPzWwivh+ee8/Ct4vB97n7j+psa5HmiLuP8b90U79Ku0/Z3om0KQC7D9xBcnqf6vqP3xdLO7LJ+k/PW88nBB65z/UkB/vG6XlP27VpWn9q+M/ZKg6+gCS4T/kmMfxUrXePzoLA5NVE9o/t/g5WMdF1T+MojWLrlTQPy32fa6ZkMY/xJHF9kWkuD/ztnLMZ/GPP8rGN9KXrrC/lC9jv76fwr8=",
                    "dtype": "f8"
                  },
                  "yaxis": "y4"
                },
                {
                  "marker": {
                    "size": 3
                  },
                  "mode": "markers+lines",
                  "name": "circle_22",
                  "type": "scatter",
                  "x": {
                    "bdata": "AAAAAAAA8D9HK6CUROXvP0AFMfw+le8/0Kwk6XQQ7z9d9043xFfuP3RuOXlhbO0/2qiW9NVP7D+KWjIR/QPrPyzmpz4Bi+k/an8OVljn5z8liaZ9vxvmP3BcZpU2K+Q/hq0LNPsY4j/7DCJ6BtHfP78oJjHuOts/P1edLVd31j+n2toSN47RP+OvS3WED8k/9ioyAHixvT+L7rrClSSiP3iQonMUOKe/UMFg43wbwL9Jc4tRC07Kv2XwUmZTKtK/5EnDk0cP178Zq47PtM3bvzitYAvXLuC/cAd8Acpb4r/EOljDEGrkv1d+Uwk8Vua/xHL7hxUd6L8H3OdNpbvpvz+saLk2L+u/sAu+/Vx17L+b70ww94vtvwtVC9czce6/LQcz8pMj778PmSd87aHvv1p1Yltt6++/Chwlw5j/778KSaQATt7vv046VbPEh++/XQT/b4387r+zOSvPkD3uv397iegNTO2/AzrPPZgp7L/hXY4YFdjqv282aV+4Wem/K1Lu5wCx57/uV0JLtODlv4cjj0Ta6+O/VPD0oLfV4b+77+WSkUPfv+rFzt93p9q/6U3D0dXe1b83wRp5qfHQvysw1uVb0Me/5pY+ojYru792oZsCRCGav2WWNlP9Sqw/DwVx2NVdwT8z0VVz6IvLPyrnOoT6xdI/NrDXL6Om1z9hcPsHyF/cP4Pvmm7CdOA/FJo0WiKe4j+xKNk4Z6jkPy8B6XQokOY/Ktb2IjdS6D8t9U9To+vpP5LASfrAWes/y1shZyya7D/eEvhBzqrtP9z/QArfie4/MI/JD+o17z8bYmXhz63vP5Q6LS3I8O8/kpAuD2P+7z84o1zMidbvPzWwivh+ee8/Ct4vB97n7j+psa5HmiLuP8b90U79Ku0/Z3om0KQC7D9xBcnqf6vqP3xdLO7LJ+k/PW88nBB65z/UkB/vG6XlP27VpWn9q+M/ZKg6+gCS4T/kmMfxUrXePzoLA5NVE9o/t/g5WMdF1T+MojWLrlTQPy32fa6ZkMY/xJHF9kWkuD/ztnLMZ/GPP8rGN9KXrrC/lC9jv76fwr8=",
                    "dtype": "f8"
                  },
                  "xaxis": "x4",
                  "y": {
                    "bdata": "AAAAAAAAAABQnwOhE6q0P4aD12nQmMQ/OBVEbC26zj+aXlz7GVTUP1ZjAncmKdk/MJFbWinU3T+tjlgJqybhPzPWi6iZRuM/jMGNw1NG5T9rLLlhgiLnP9abcO0J2Og/wp1YZQ9k6j9Cx6wh/cPrP8bEtiWH9ew/3oUw9q727T+qMSjuxsXuP+nq1Ax1Ye8/jxGtN7XI7z8WKvjs2vrvPxNbBmSS9+8/vfYrGeG+7z8EMJfEJVHvPzVLD7wXr+4/ULGlwMXZ7T89qlg6lNLsP1+Im+Q6m+s/XCen78E16j8tOV6bfqToPwdzcVEP6uY/1MdGRVcJ5T8tGfOgeQXjP5nLVUfU4eA/5G8waPRD3T8fve0FW5PYP1zwnFCyudM/QjKqlSl+zT+q7hQOqFfDP/ktPQarIbI/Q/MxRilShL/XNlPm9jG3v/iZhd9z2cW/bAZ7/2r1z7+9DWN7/u3UvwXkfI9Pvtm/C85I1Z1j3r/+oDIhE2vhv27xVlA9h+O/87gu/MaC5b/8p9srYFrnv0APRfL0Cum/sbKGkrKR6r8vrnU3DOzrv83zWTa/F+2/gg2+1dYS7r/Z0wWSr9vuv1BdVtr5cO+/6Ro8QbzR778abWYdVf3vv5FuwJd78++/vLAjJUC0778cltlqDEDvv006GY6il+6/kM6o7xu87b90XMBV567sv6dgP4fGceu/DxE1XMsG6r8806JIVHDov1roP2cIsea/4y3bCtPL5L9QnsLd3sPiv82rVpeQnOC/ibxAoQKz3L+NVcYC8fzXv2Fja1/LHtO/owS4cmdBzL8HK3fkAhbCv13shtuaMa+/cwsYt+dRlD9lssSBRLm5P9tkP1qKGcc/TtGhLu2X0D9ys7jvW4fVP+Re7YzSUto/va9YO07y3j/OuoHVCq/hP6sIQfdix+M/cAYeaa++5T97pGBHp5HnP276UGE+Pek/B1+5UKq+6j9MxHwjZxPsP9wld487Oe0/YoKiqTwu7j/CPksa0fDuP/aV+cizf+8/XW+Z+/XZ7z9AIFXlAP/vPwO1iKKW7u8/e88ooNKo7z8=",
                    "dtype": "f8"
                  },
                  "yaxis": "y4"
                }
              ],
              "layout": {
                "template": {
                  "data": {
                    "bar": [
                      {
                        "error_x": {
                          "color": "#2a3f5f"
                        },
                        "error_y": {
                          "color": "#2a3f5f"
                        },
                        "marker": {
                          "line": {
                            "color": "#E5ECF6",
                            "width": 0.5
                          },
                          "pattern": {
                            "fillmode": "overlay",
                            "size": 10,
                            "solidity": 0.2
                          }
                        },
                        "type": "bar"
                      }
                    ],
                    "barpolar": [
                      {
                        "marker": {
                          "line": {
                            "color": "#E5ECF6",
                            "width": 0.5
                          },
                          "pattern": {
                            "fillmode": "overlay",
                            "size": 10,
                            "solidity": 0.2
                          }
                        },
                        "type": "barpolar"
                      }
                    ],
                    "carpet": [
                      {
                        "aaxis": {
                          "endlinecolor": "#2a3f5f",
                          "gridcolor": "white",
                          "linecolor": "white",
                          "minorgridcolor": "white",
                          "startlinecolor": "#2a3f5f"
                        },
                        "baxis": {
                          "endlinecolor": "#2a3f5f",
                          "gridcolor": "white",
                          "linecolor": "white",
                          "minorgridcolor": "white",
                          "startlinecolor": "#2a3f5f"
                        },
                        "type": "carpet"
                      }
                    ],
                    "choropleth": [
                      {
                        "colorbar": {
                          "outlinewidth": 0,
                          "ticks": ""
                        },
                        "type": "choropleth"
                      }
                    ],
                    "contour": [
                      {
                        "colorbar": {
                          "outlinewidth": 0,
                          "ticks": ""
                        },
                        "colorscale": [
                          [
                            0,
                            "#0d0887"
                          ],
                          [
                            0.1111111111111111,
                            "#46039f"
                          ],
                          [
                            0.2222222222222222,
                            "#7201a8"
                          ],
                          [
                            0.3333333333333333,
                            "#9c179e"
                          ],
                          [
                            0.4444444444444444,
                            "#bd3786"
                          ],
                          [
                            0.5555555555555556,
                            "#d8576b"
                          ],
                          [
                            0.6666666666666666,
                            "#ed7953"
                          ],
                          [
                            0.7777777777777778,
                            "#fb9f3a"
                          ],
                          [
                            0.8888888888888888,
                            "#fdca26"
                          ],
                          [
                            1,
                            "#f0f921"
                          ]
                        ],
                        "type": "contour"
                      }
                    ],
                    "contourcarpet": [
                      {
                        "colorbar": {
                          "outlinewidth": 0,
                          "ticks": ""
                        },
                        "type": "contourcarpet"
                      }
                    ],
                    "heatmap": [
                      {
                        "colorbar": {
                          "outlinewidth": 0,
                          "ticks": ""
                        },
                        "colorscale": [
                          [
                            0,
                            "#0d0887"
                          ],
                          [
                            0.1111111111111111,
                            "#46039f"
                          ],
                          [
                            0.2222222222222222,
                            "#7201a8"
                          ],
                          [
                            0.3333333333333333,
                            "#9c179e"
                          ],
                          [
                            0.4444444444444444,
                            "#bd3786"
                          ],
                          [
                            0.5555555555555556,
                            "#d8576b"
                          ],
                          [
                            0.6666666666666666,
                            "#ed7953"
                          ],
                          [
                            0.7777777777777778,
                            "#fb9f3a"
                          ],
                          [
                            0.8888888888888888,
                            "#fdca26"
                          ],
                          [
                            1,
                            "#f0f921"
                          ]
                        ],
                        "type": "heatmap"
                      }
                    ],
                    "histogram": [
                      {
                        "marker": {
                          "pattern": {
                            "fillmode": "overlay",
                            "size": 10,
                            "solidity": 0.2
                          }
                        },
                        "type": "histogram"
                      }
                    ],
                    "histogram2d": [
                      {
                        "colorbar": {
                          "outlinewidth": 0,
                          "ticks": ""
                        },
                        "colorscale": [
                          [
                            0,
                            "#0d0887"
                          ],
                          [
                            0.1111111111111111,
                            "#46039f"
                          ],
                          [
                            0.2222222222222222,
                            "#7201a8"
                          ],
                          [
                            0.3333333333333333,
                            "#9c179e"
                          ],
                          [
                            0.4444444444444444,
                            "#bd3786"
                          ],
                          [
                            0.5555555555555556,
                            "#d8576b"
                          ],
                          [
                            0.6666666666666666,
                            "#ed7953"
                          ],
                          [
                            0.7777777777777778,
                            "#fb9f3a"
                          ],
                          [
                            0.8888888888888888,
                            "#fdca26"
                          ],
                          [
                            1,
                            "#f0f921"
                          ]
                        ],
                        "type": "histogram2d"
                      }
                    ],
                    "histogram2dcontour": [
                      {
                        "colorbar": {
                          "outlinewidth": 0,
                          "ticks": ""
                        },
                        "colorscale": [
                          [
                            0,
                            "#0d0887"
                          ],
                          [
                            0.1111111111111111,
                            "#46039f"
                          ],
                          [
                            0.2222222222222222,
                            "#7201a8"
                          ],
                          [
                            0.3333333333333333,
                            "#9c179e"
                          ],
                          [
                            0.4444444444444444,
                            "#bd3786"
                          ],
                          [
                            0.5555555555555556,
                            "#d8576b"
                          ],
                          [
                            0.6666666666666666,
                            "#ed7953"
                          ],
                          [
                            0.7777777777777778,
                            "#fb9f3a"
                          ],
                          [
                            0.8888888888888888,
                            "#fdca26"
                          ],
                          [
                            1,
                            "#f0f921"
                          ]
                        ],
                        "type": "histogram2dcontour"
                      }
                    ],
                    "mesh3d": [
                      {
                        "colorbar": {
                          "outlinewidth": 0,
                          "ticks": ""
                        },
                        "type": "mesh3d"
                      }
                    ],
                    "parcoords": [
                      {
                        "line": {
                          "colorbar": {
                            "outlinewidth": 0,
                            "ticks": ""
                          }
                        },
                        "type": "parcoords"
                      }
                    ],
                    "pie": [
                      {
                        "automargin": true,
                        "type": "pie"
                      }
                    ],
                    "scatter": [
                      {
                        "fillpattern": {
                          "fillmode": "overlay",
                          "size": 10,
                          "solidity": 0.2
                        },
                        "type": "scatter"
                      }
                    ],
                    "scatter3d": [
                      {
                        "line": {
                          "colorbar": {
                            "outlinewidth": 0,
                            "ticks": ""
                          }
                        },
                        "marker": {
                          "colorbar": {
                            "outlinewidth": 0,
                            "ticks": ""
                          }
                        },
                        "type": "scatter3d"
                      }
                    ],
                    "scattercarpet": [
                      {
                        "marker": {
                          "colorbar": {
                            "outlinewidth": 0,
                            "ticks": ""
                          }
                        },
                        "type": "scattercarpet"
                      }
                    ],
                    "scattergeo": [
                      {
                        "marker": {
                          "colorbar": {
                            "outlinewidth": 0,
                            "ticks": ""
                          }
                        },
                        "type": "scattergeo"
                      }
                    ],
                    "scattergl": [
                      {
                        "marker": {
                          "colorbar": {
                            "outlinewidth": 0,
                            "ticks": ""
                          }
                        },
                        "type": "scattergl"
                      }
                    ],
                    "scattermap": [
                      {
                        "marker": {
                          "colorbar": {
                            "outlinewidth": 0,
                            "ticks": ""
                          }
                        },
                        "type": "scattermap"
                      }
                    ],
                    "scattermapbox": [
                      {
                        "marker": {
                          "colorbar": {
                            "outlinewidth": 0,
                            "ticks": ""
                          }
                        },
                        "type": "scattermapbox"
                      }
                    ],
                    "scatterpolar": [
                      {
                        "marker": {
                          "colorbar": {
                            "outlinewidth": 0,
                            "ticks": ""
                          }
                        },
                        "type": "scatterpolar"
                      }
                    ],
                    "scatterpolargl": [
                      {
                        "marker": {
                          "colorbar": {
                            "outlinewidth": 0,
                            "ticks": ""
                          }
                        },
                        "type": "scatterpolargl"
                      }
                    ],
                    "scatterternary": [
                      {
                        "marker": {
                          "colorbar": {
                            "outlinewidth": 0,
                            "ticks": ""
                          }
                        },
                        "type": "scatterternary"
                      }
                    ],
                    "surface": [
                      {
                        "colorbar": {
                          "outlinewidth": 0,
                          "ticks": ""
                        },
                        "colorscale": [
                          [
                            0,
                            "#0d0887"
                          ],
                          [
                            0.1111111111111111,
                            "#46039f"
                          ],
                          [
                            0.2222222222222222,
                            "#7201a8"
                          ],
                          [
                            0.3333333333333333,
                            "#9c179e"
                          ],
                          [
                            0.4444444444444444,
                            "#bd3786"
                          ],
                          [
                            0.5555555555555556,
                            "#d8576b"
                          ],
                          [
                            0.6666666666666666,
                            "#ed7953"
                          ],
                          [
                            0.7777777777777778,
                            "#fb9f3a"
                          ],
                          [
                            0.8888888888888888,
                            "#fdca26"
                          ],
                          [
                            1,
                            "#f0f921"
                          ]
                        ],
                        "type": "surface"
                      }
                    ],
                    "table": [
                      {
                        "cells": {
                          "fill": {
                            "color": "#EBF0F8"
                          },
                          "line": {
                            "color": "white"
                          }
                        },
                        "header": {
                          "fill": {
                            "color": "#C8D4E3"
                          },
                          "line": {
                            "color": "white"
                          }
                        },
                        "type": "table"
                      }
                    ]
                  },
                  "layout": {
                    "annotationdefaults": {
                      "arrowcolor": "#2a3f5f",
                      "arrowhead": 0,
                      "arrowwidth": 1
                    },
                    "autotypenumbers": "strict",
                    "coloraxis": {
                      "colorbar": {
                        "outlinewidth": 0,
                        "ticks": ""
                      }
                    },
                    "colorscale": {
                      "diverging": [
                        [
                          0,
                          "#8e0152"
                        ],
                        [
                          0.1,
                          "#c51b7d"
                        ],
                        [
                          0.2,
                          "#de77ae"
                        ],
                        [
                          0.3,
                          "#f1b6da"
                        ],
                        [
                          0.4,
                          "#fde0ef"
                        ],
                        [
                          0.5,
                          "#f7f7f7"
                        ],
                        [
                          0.6,
                          "#e6f5d0"
                        ],
                        [
                          0.7,
                          "#b8e186"
                        ],
                        [
                          0.8,
                          "#7fbc41"
                        ],
                        [
                          0.9,
                          "#4d9221"
                        ],
                        [
                          1,
                          "#276419"
                        ]
                      ],
                      "sequential": [
                        [
                          0,
                          "#0d0887"
                        ],
                        [
                          0.1111111111111111,
                          "#46039f"
                        ],
                        [
                          0.2222222222222222,
                          "#7201a8"
                        ],
                        [
                          0.3333333333333333,
                          "#9c179e"
                        ],
                        [
                          0.4444444444444444,
                          "#bd3786"
                        ],
                        [
                          0.5555555555555556,
                          "#d8576b"
                        ],
                        [
                          0.6666666666666666,
                          "#ed7953"
                        ],
                        [
                          0.7777777777777778,
                          "#fb9f3a"
                        ],
                        [
                          0.8888888888888888,
                          "#fdca26"
                        ],
                        [
                          1,
                          "#f0f921"
                        ]
                      ],
                      "sequentialminus": [
                        [
                          0,
                          "#0d0887"
                        ],
                        [
                          0.1111111111111111,
                          "#46039f"
                        ],
                        [
                          0.2222222222222222,
                          "#7201a8"
                        ],
                        [
                          0.3333333333333333,
                          "#9c179e"
                        ],
                        [
                          0.4444444444444444,
                          "#bd3786"
                        ],
                        [
                          0.5555555555555556,
                          "#d8576b"
                        ],
                        [
                          0.6666666666666666,
                          "#ed7953"
                        ],
                        [
                          0.7777777777777778,
                          "#fb9f3a"
                        ],
                        [
                          0.8888888888888888,
                          "#fdca26"
                        ],
                        [
                          1,
                          "#f0f921"
                        ]
                      ]
                    },
                    "colorway": [
                      "#636efa",
                      "#EF553B",
                      "#00cc96",
                      "#ab63fa",
                      "#FFA15A",
                      "#19d3f3",
                      "#FF6692",
                      "#B6E880",
                      "#FF97FF",
                      "#FECB52"
                    ],
                    "font": {
                      "color": "#2a3f5f"
                    },
                    "geo": {
                      "bgcolor": "white",
                      "lakecolor": "white",
                      "landcolor": "#E5ECF6",
                      "showlakes": true,
                      "showland": true,
                      "subunitcolor": "white"
                    },
                    "hoverlabel": {
                      "align": "left"
                    },
                    "hovermode": "closest",
                    "mapbox": {
                      "style": "light"
                    },
                    "paper_bgcolor": "white",
                    "plot_bgcolor": "#E5ECF6",
                    "polar": {
                      "angularaxis": {
                        "gridcolor": "white",
                        "linecolor": "white",
                        "ticks": ""
                      },
                      "bgcolor": "#E5ECF6",
                      "radialaxis": {
                        "gridcolor": "white",
                        "linecolor": "white",
                        "ticks": ""
                      }
                    },
                    "scene": {
                      "xaxis": {
                        "backgroundcolor": "#E5ECF6",
                        "gridcolor": "white",
                        "gridwidth": 2,
                        "linecolor": "white",
                        "showbackground": true,
                        "ticks": "",
                        "zerolinecolor": "white"
                      },
                      "yaxis": {
                        "backgroundcolor": "#E5ECF6",
                        "gridcolor": "white",
                        "gridwidth": 2,
                        "linecolor": "white",
                        "showbackground": true,
                        "ticks": "",
                        "zerolinecolor": "white"
                      },
                      "zaxis": {
                        "backgroundcolor": "#E5ECF6",
                        "gridcolor": "white",
                        "gridwidth": 2,
                        "linecolor": "white",
                        "showbackground": true,
                        "ticks": "",
                        "zerolinecolor": "white"
                      }
                    },
                    "shapedefaults": {
                      "line": {
                        "color": "#2a3f5f"
                      }
                    },
                    "ternary": {
                      "aaxis": {
                        "gridcolor": "white",
                        "linecolor": "white",
                        "ticks": ""
                      },
                      "baxis": {
                        "gridcolor": "white",
                        "linecolor": "white",
                        "ticks": ""
                      },
                      "bgcolor": "#E5ECF6",
                      "caxis": {
                        "gridcolor": "white",
                        "linecolor": "white",
                        "ticks": ""
                      }
                    },
                    "title": {
                      "x": 0.05
                    },
                    "xaxis": {
                      "automargin": true,
                      "gridcolor": "white",
                      "linecolor": "white",
                      "ticks": "",
                      "title": {
                        "standoff": 15
                      },
                      "zerolinecolor": "white",
                      "zerolinewidth": 2
                    },
                    "yaxis": {
                      "automargin": true,
                      "gridcolor": "white",
                      "linecolor": "white",
                      "ticks": "",
                      "title": {
                        "standoff": 15
                      },
                      "zerolinecolor": "white",
                      "zerolinewidth": 2
                    }
                  }
                },
                "xaxis": {
                  "anchor": "y",
                  "domain": [
                    0,
                    0.45
                  ]
                },
                "xaxis2": {
                  "anchor": "y2",
                  "domain": [
                    0.55,
                    1
                  ]
                },
                "xaxis3": {
                  "anchor": "y3",
                  "domain": [
                    0,
                    0.45
                  ]
                },
                "xaxis4": {
                  "anchor": "y4",
                  "domain": [
                    0.55,
                    1
                  ]
                },
                "yaxis": {
                  "anchor": "x",
                  "domain": [
                    0.575,
                    1
                  ]
                },
                "yaxis2": {
                  "anchor": "x2",
                  "domain": [
                    0.575,
                    1
                  ]
                },
                "yaxis3": {
                  "anchor": "x3",
                  "domain": [
                    0,
                    0.425
                  ]
                },
                "yaxis4": {
                  "anchor": "x4",
                  "domain": [
                    0,
                    0.425
                  ]
                }
              }
            }
          },
          "metadata": {},
          "output_type": "display_data"
        }
      ],
      "source": [
        "fig = sp.make_subplots(rows=2, cols=2)\n",
        "\n",
        "fig.add_scatter(x=X, y=y_sin, mode='markers+lines', name=\"sin_11\",\n",
        "                marker_size=5,\n",
        "                row=1, col=1)\n",
        "\n",
        "fig.add_scatter(x=X, y=y_cos, mode='markers+lines', name=\"cos_11\",\n",
        "                marker_size=5,\n",
        "                row=1, col=1)\n",
        "\n",
        "fig.add_scatter(x=X, y=y_sin, mode='lines', name=\"sin_12\",\n",
        "                row=1, col=2)\n",
        "\n",
        "fig.add_scatter(x=X, y=y_cos, mode='lines', name=\"cos_12\",\n",
        "                row=1, col=2)\n",
        "\n",
        "fig.add_scatter(x=y_cos, y=y_sin, mode='markers', name=\"circle_12\",\n",
        "                marker_size=5,\n",
        "                row=1, col=2)\n",
        "\n",
        "fig.add_scatter(x=X, y=y_sin, mode='markers', name=\"sin_21\",\n",
        "                marker_size=5,\n",
        "                row=2, col=1)\n",
        "\n",
        "fig.add_scatter(x=X, y=y_cos, mode='markers', name=\"cos_21\",\n",
        "                marker_size=5,\n",
        "                row=2, col=1)\n",
        "\n",
        "fig.add_scatter(x=y_cos, y=y_sin, mode='markers', name=\"circle_21\",\n",
        "                marker_size=5,\n",
        "                row=2, col=1)\n",
        "\n",
        "fig.add_scatter(x=X, y=y_sin, mode='lines', name=\"sin_22\",\n",
        "                row=2, col=2)\n",
        "\n",
        "fig.add_scatter(x=X, y=y_cos, mode='markers', name=\"cos_22\",\n",
        "                marker_size=5,\n",
        "                row=2, col=2)\n",
        "\n",
        "fig.add_scatter(x=y_cos, y=y_sin, mode='markers+lines', name=\"circle_22\",\n",
        "                marker_size=3,\n",
        "                row=2, col=2)\n",
        "\n",
        "fig.show()"
      ]
    },
    {
      "cell_type": "markdown",
      "id": "DUdY2oCCsbXB",
      "metadata": {
        "id": "DUdY2oCCsbXB"
      },
      "source": [
        "Перед вами должна появиться композиция из четырёх графиков."
      ]
    },
    {
      "cell_type": "markdown",
      "id": "3350def2",
      "metadata": {
        "id": "3350def2"
      },
      "source": [
        "Видоизмените композицию путём обновления элементов рисунка fig:\n",
        "\n",
        "1. Увеличьте высоту изображения до 720\n",
        "2. Для всех линий графиков из первой строки увеличьте их толщину до 5\n",
        "3. Для всех маркеров из графиков второго столбца смените их тип на ромбы (\"diamond\")\n",
        "4. Для всех графиков типа \"линия\" (НЕ \"линия + маркеры\") смените стиль на пунктир\n",
        "5. Для всех графиков, обозначающих синус, смените цвет на синий, косинус - на красный, кольцо - на фиолетовый\n",
        "    \n",
        "При выполнении этого задания также позволяется использовать метод *for_each_trace* (вероятно, при выполнении одного из обновлений он вам пригодится)."
      ]
    },
    {
      "cell_type": "code",
      "execution_count": 99,
      "id": "AOs3MSJqtXvg",
      "metadata": {
        "id": "AOs3MSJqtXvg"
      },
      "outputs": [
        {
          "data": {
            "application/vnd.plotly.v1+json": {
              "config": {
                "plotlyServerURL": "https://plot.ly"
              },
              "data": [
                {
                  "line": {
                    "color": "blue",
                    "width": 5
                  },
                  "marker": {
                    "color": "blue",
                    "size": 5
                  },
                  "mode": "markers+lines",
                  "name": "sin_11",
                  "type": "scatter",
                  "x": {
                    "bdata": "AAAAAAAAAABbv1Kg1q+0P1u/UqDWr8Q/CB988MEHzz9bv1Kg1q/UPzJvZ0jM29k/CB988MEH3z9wZ0jM2xniP1u/UqDWr+Q/RhdddNFF5z8yb2dIzNvpPx3HcRzHcew/CB988MEH7z96O0Ni3s7wP3BnSMzbGfI/ZZNNNtlk8z9bv1Kg1q/0P1HrVwrU+vU/RhdddNFF9z88Q2LezpD4PzJvZ0jM2/k/J5tssskm+z8dx3Ecx3H8PxPzdobEvP0/CB988MEH/z9/pUCtXykAQHo7Q2LezgBAddFFF110AUBwZ0jM2xkCQGr9SoFavwJAZZNNNtlkA0BgKVDrVwoEQFu/UqDWrwRAVlVVVVVVBUBR61cK1PoFQEyBWr9SoAZARhdddNFFB0BBrV8pUOsHQDxDYt7OkAhAN9lkk002CUAyb2dIzNsJQC0Fav1KgQpAJ5tssskmC0AiMW9nSMwLQB3HcRzHcQxAGF100UUXDUAT83aGxLwNQA6JeTtDYg5ACB988MEHD0ADtX6lQK0PQH+lQK1fKRBAffDBBx98EEB6O0Ni3s4QQHeGxLydIRFAddFFF110EUByHMdxHMcRQHBnSMzbGRJAbbLJJptsEkBq/UqBWr8SQGhIzNsZEhNAZZNNNtlkE0Bj3s6QmLcTQGApUOtXChRAXnTRRRddFEBbv1Kg1q8UQFgK1PqVAhVAVlVVVVVVFUBToNavFKgVQFHrVwrU+hVATjbZZJNNFkBMgVq/UqAWQEnM2xkS8xZARhdddNFFF0BEYt7OkJgXQEGtXylQ6xdAP/jggw8+GEA8Q2LezpAYQDmO4ziO4xhAN9lkk002GUA0JObtDIkZQDJvZ0jM2xlAL7rooosuGkAtBWr9SoEaQCpQ61cK1BpAJ5tssskmG0Al5u0MiXkbQCIxb2dIzBtAIHzwwQcfHEAdx3Ecx3EcQBsS83aGxBxAGF100UUXHUAVqPUrBWodQBPzdobEvB1AED744IMPHkAOiXk7Q2IeQAvU+pUCtR5ACB988MEHH0AGav1KgVofQAO1fqVArR9AAAAAAAAAIEA=",
                    "dtype": "f8"
                  },
                  "xaxis": "x",
                  "y": {
                    "bdata": "AAAAAAAAAABQnwOhE6q0P4aD12nQmMQ/OBVEbC26zj+aXlz7GVTUP1ZjAncmKdk/MJFbWinU3T+tjlgJqybhPzPWi6iZRuM/jMGNw1NG5T9rLLlhgiLnP9abcO0J2Og/wp1YZQ9k6j9Cx6wh/cPrP8bEtiWH9ew/3oUw9q727T+qMSjuxsXuP+nq1Ax1Ye8/jxGtN7XI7z8WKvjs2vrvPxNbBmSS9+8/vfYrGeG+7z8EMJfEJVHvPzVLD7wXr+4/ULGlwMXZ7T89qlg6lNLsP1+Im+Q6m+s/XCen78E16j8tOV6bfqToPwdzcVEP6uY/1MdGRVcJ5T8tGfOgeQXjP5nLVUfU4eA/5G8waPRD3T8fve0FW5PYP1zwnFCyudM/QjKqlSl+zT+q7hQOqFfDP/ktPQarIbI/Q/MxRilShL/XNlPm9jG3v/iZhd9z2cW/bAZ7/2r1z7+9DWN7/u3UvwXkfI9Pvtm/C85I1Z1j3r/+oDIhE2vhv27xVlA9h+O/87gu/MaC5b/8p9srYFrnv0APRfL0Cum/sbKGkrKR6r8vrnU3DOzrv83zWTa/F+2/gg2+1dYS7r/Z0wWSr9vuv1BdVtr5cO+/6Ro8QbzR778abWYdVf3vv5FuwJd78++/vLAjJUC0778cltlqDEDvv006GY6il+6/kM6o7xu87b90XMBV567sv6dgP4fGceu/DxE1XMsG6r8806JIVHDov1roP2cIsea/4y3bCtPL5L9QnsLd3sPiv82rVpeQnOC/ibxAoQKz3L+NVcYC8fzXv2Fja1/LHtO/owS4cmdBzL8HK3fkAhbCv13shtuaMa+/cwsYt+dRlD9lssSBRLm5P9tkP1qKGcc/TtGhLu2X0D9ys7jvW4fVP+Re7YzSUto/va9YO07y3j/OuoHVCq/hP6sIQfdix+M/cAYeaa++5T97pGBHp5HnP276UGE+Pek/B1+5UKq+6j9MxHwjZxPsP9wld487Oe0/YoKiqTwu7j/CPksa0fDuP/aV+cizf+8/XW+Z+/XZ7z9AIFXlAP/vPwO1iKKW7u8/e88ooNKo7z8=",
                    "dtype": "f8"
                  },
                  "yaxis": "y"
                },
                {
                  "line": {
                    "color": "red",
                    "width": 5
                  },
                  "marker": {
                    "color": "red",
                    "size": 5
                  },
                  "mode": "markers+lines",
                  "name": "cos_11",
                  "type": "scatter",
                  "x": {
                    "bdata": "AAAAAAAAAABbv1Kg1q+0P1u/UqDWr8Q/CB988MEHzz9bv1Kg1q/UPzJvZ0jM29k/CB988MEH3z9wZ0jM2xniP1u/UqDWr+Q/RhdddNFF5z8yb2dIzNvpPx3HcRzHcew/CB988MEH7z96O0Ni3s7wP3BnSMzbGfI/ZZNNNtlk8z9bv1Kg1q/0P1HrVwrU+vU/RhdddNFF9z88Q2LezpD4PzJvZ0jM2/k/J5tssskm+z8dx3Ecx3H8PxPzdobEvP0/CB988MEH/z9/pUCtXykAQHo7Q2LezgBAddFFF110AUBwZ0jM2xkCQGr9SoFavwJAZZNNNtlkA0BgKVDrVwoEQFu/UqDWrwRAVlVVVVVVBUBR61cK1PoFQEyBWr9SoAZARhdddNFFB0BBrV8pUOsHQDxDYt7OkAhAN9lkk002CUAyb2dIzNsJQC0Fav1KgQpAJ5tssskmC0AiMW9nSMwLQB3HcRzHcQxAGF100UUXDUAT83aGxLwNQA6JeTtDYg5ACB988MEHD0ADtX6lQK0PQH+lQK1fKRBAffDBBx98EEB6O0Ni3s4QQHeGxLydIRFAddFFF110EUByHMdxHMcRQHBnSMzbGRJAbbLJJptsEkBq/UqBWr8SQGhIzNsZEhNAZZNNNtlkE0Bj3s6QmLcTQGApUOtXChRAXnTRRRddFEBbv1Kg1q8UQFgK1PqVAhVAVlVVVVVVFUBToNavFKgVQFHrVwrU+hVATjbZZJNNFkBMgVq/UqAWQEnM2xkS8xZARhdddNFFF0BEYt7OkJgXQEGtXylQ6xdAP/jggw8+GEA8Q2LezpAYQDmO4ziO4xhAN9lkk002GUA0JObtDIkZQDJvZ0jM2xlAL7rooosuGkAtBWr9SoEaQCpQ61cK1BpAJ5tssskmG0Al5u0MiXkbQCIxb2dIzBtAIHzwwQcfHEAdx3Ecx3EcQBsS83aGxBxAGF100UUXHUAVqPUrBWodQBPzdobEvB1AED744IMPHkAOiXk7Q2IeQAvU+pUCtR5ACB988MEHH0AGav1KgVofQAO1fqVArR9AAAAAAAAAIEA=",
                    "dtype": "f8"
                  },
                  "xaxis": "x",
                  "y": {
                    "bdata": "AAAAAAAA8D9HK6CUROXvP0AFMfw+le8/0Kwk6XQQ7z9d9043xFfuP3RuOXlhbO0/2qiW9NVP7D+KWjIR/QPrPyzmpz4Bi+k/an8OVljn5z8liaZ9vxvmP3BcZpU2K+Q/hq0LNPsY4j/7DCJ6BtHfP78oJjHuOts/P1edLVd31j+n2toSN47RP+OvS3WED8k/9ioyAHixvT+L7rrClSSiP3iQonMUOKe/UMFg43wbwL9Jc4tRC07Kv2XwUmZTKtK/5EnDk0cP178Zq47PtM3bvzitYAvXLuC/cAd8Acpb4r/EOljDEGrkv1d+Uwk8Vua/xHL7hxUd6L8H3OdNpbvpvz+saLk2L+u/sAu+/Vx17L+b70ww94vtvwtVC9czce6/LQcz8pMj778PmSd87aHvv1p1Yltt6++/Chwlw5j/778KSaQATt7vv046VbPEh++/XQT/b4387r+zOSvPkD3uv397iegNTO2/AzrPPZgp7L/hXY4YFdjqv282aV+4Wem/K1Lu5wCx57/uV0JLtODlv4cjj0Ta6+O/VPD0oLfV4b+77+WSkUPfv+rFzt93p9q/6U3D0dXe1b83wRp5qfHQvysw1uVb0Me/5pY+ojYru792oZsCRCGav2WWNlP9Sqw/DwVx2NVdwT8z0VVz6IvLPyrnOoT6xdI/NrDXL6Om1z9hcPsHyF/cP4Pvmm7CdOA/FJo0WiKe4j+xKNk4Z6jkPy8B6XQokOY/Ktb2IjdS6D8t9U9To+vpP5LASfrAWes/y1shZyya7D/eEvhBzqrtP9z/QArfie4/MI/JD+o17z8bYmXhz63vP5Q6LS3I8O8/kpAuD2P+7z84o1zMidbvPzWwivh+ee8/Ct4vB97n7j+psa5HmiLuP8b90U79Ku0/Z3om0KQC7D9xBcnqf6vqP3xdLO7LJ+k/PW88nBB65z/UkB/vG6XlP27VpWn9q+M/ZKg6+gCS4T/kmMfxUrXePzoLA5NVE9o/t/g5WMdF1T+MojWLrlTQPy32fa6ZkMY/xJHF9kWkuD/ztnLMZ/GPP8rGN9KXrrC/lC9jv76fwr8=",
                    "dtype": "f8"
                  },
                  "yaxis": "y"
                },
                {
                  "line": {
                    "color": "blue",
                    "dash": "dash"
                  },
                  "marker": {
                    "symbol": "diamond"
                  },
                  "mode": "lines",
                  "name": "sin_12",
                  "type": "scatter",
                  "x": {
                    "bdata": "AAAAAAAAAABbv1Kg1q+0P1u/UqDWr8Q/CB988MEHzz9bv1Kg1q/UPzJvZ0jM29k/CB988MEH3z9wZ0jM2xniP1u/UqDWr+Q/RhdddNFF5z8yb2dIzNvpPx3HcRzHcew/CB988MEH7z96O0Ni3s7wP3BnSMzbGfI/ZZNNNtlk8z9bv1Kg1q/0P1HrVwrU+vU/RhdddNFF9z88Q2LezpD4PzJvZ0jM2/k/J5tssskm+z8dx3Ecx3H8PxPzdobEvP0/CB988MEH/z9/pUCtXykAQHo7Q2LezgBAddFFF110AUBwZ0jM2xkCQGr9SoFavwJAZZNNNtlkA0BgKVDrVwoEQFu/UqDWrwRAVlVVVVVVBUBR61cK1PoFQEyBWr9SoAZARhdddNFFB0BBrV8pUOsHQDxDYt7OkAhAN9lkk002CUAyb2dIzNsJQC0Fav1KgQpAJ5tssskmC0AiMW9nSMwLQB3HcRzHcQxAGF100UUXDUAT83aGxLwNQA6JeTtDYg5ACB988MEHD0ADtX6lQK0PQH+lQK1fKRBAffDBBx98EEB6O0Ni3s4QQHeGxLydIRFAddFFF110EUByHMdxHMcRQHBnSMzbGRJAbbLJJptsEkBq/UqBWr8SQGhIzNsZEhNAZZNNNtlkE0Bj3s6QmLcTQGApUOtXChRAXnTRRRddFEBbv1Kg1q8UQFgK1PqVAhVAVlVVVVVVFUBToNavFKgVQFHrVwrU+hVATjbZZJNNFkBMgVq/UqAWQEnM2xkS8xZARhdddNFFF0BEYt7OkJgXQEGtXylQ6xdAP/jggw8+GEA8Q2LezpAYQDmO4ziO4xhAN9lkk002GUA0JObtDIkZQDJvZ0jM2xlAL7rooosuGkAtBWr9SoEaQCpQ61cK1BpAJ5tssskmG0Al5u0MiXkbQCIxb2dIzBtAIHzwwQcfHEAdx3Ecx3EcQBsS83aGxBxAGF100UUXHUAVqPUrBWodQBPzdobEvB1AED744IMPHkAOiXk7Q2IeQAvU+pUCtR5ACB988MEHH0AGav1KgVofQAO1fqVArR9AAAAAAAAAIEA=",
                    "dtype": "f8"
                  },
                  "xaxis": "x2",
                  "y": {
                    "bdata": "AAAAAAAAAABQnwOhE6q0P4aD12nQmMQ/OBVEbC26zj+aXlz7GVTUP1ZjAncmKdk/MJFbWinU3T+tjlgJqybhPzPWi6iZRuM/jMGNw1NG5T9rLLlhgiLnP9abcO0J2Og/wp1YZQ9k6j9Cx6wh/cPrP8bEtiWH9ew/3oUw9q727T+qMSjuxsXuP+nq1Ax1Ye8/jxGtN7XI7z8WKvjs2vrvPxNbBmSS9+8/vfYrGeG+7z8EMJfEJVHvPzVLD7wXr+4/ULGlwMXZ7T89qlg6lNLsP1+Im+Q6m+s/XCen78E16j8tOV6bfqToPwdzcVEP6uY/1MdGRVcJ5T8tGfOgeQXjP5nLVUfU4eA/5G8waPRD3T8fve0FW5PYP1zwnFCyudM/QjKqlSl+zT+q7hQOqFfDP/ktPQarIbI/Q/MxRilShL/XNlPm9jG3v/iZhd9z2cW/bAZ7/2r1z7+9DWN7/u3UvwXkfI9Pvtm/C85I1Z1j3r/+oDIhE2vhv27xVlA9h+O/87gu/MaC5b/8p9srYFrnv0APRfL0Cum/sbKGkrKR6r8vrnU3DOzrv83zWTa/F+2/gg2+1dYS7r/Z0wWSr9vuv1BdVtr5cO+/6Ro8QbzR778abWYdVf3vv5FuwJd78++/vLAjJUC0778cltlqDEDvv006GY6il+6/kM6o7xu87b90XMBV567sv6dgP4fGceu/DxE1XMsG6r8806JIVHDov1roP2cIsea/4y3bCtPL5L9QnsLd3sPiv82rVpeQnOC/ibxAoQKz3L+NVcYC8fzXv2Fja1/LHtO/owS4cmdBzL8HK3fkAhbCv13shtuaMa+/cwsYt+dRlD9lssSBRLm5P9tkP1qKGcc/TtGhLu2X0D9ys7jvW4fVP+Re7YzSUto/va9YO07y3j/OuoHVCq/hP6sIQfdix+M/cAYeaa++5T97pGBHp5HnP276UGE+Pek/B1+5UKq+6j9MxHwjZxPsP9wld487Oe0/YoKiqTwu7j/CPksa0fDuP/aV+cizf+8/XW+Z+/XZ7z9AIFXlAP/vPwO1iKKW7u8/e88ooNKo7z8=",
                    "dtype": "f8"
                  },
                  "yaxis": "y2"
                },
                {
                  "line": {
                    "color": "red",
                    "dash": "dash"
                  },
                  "marker": {
                    "symbol": "diamond"
                  },
                  "mode": "lines",
                  "name": "cos_12",
                  "type": "scatter",
                  "x": {
                    "bdata": "AAAAAAAAAABbv1Kg1q+0P1u/UqDWr8Q/CB988MEHzz9bv1Kg1q/UPzJvZ0jM29k/CB988MEH3z9wZ0jM2xniP1u/UqDWr+Q/RhdddNFF5z8yb2dIzNvpPx3HcRzHcew/CB988MEH7z96O0Ni3s7wP3BnSMzbGfI/ZZNNNtlk8z9bv1Kg1q/0P1HrVwrU+vU/RhdddNFF9z88Q2LezpD4PzJvZ0jM2/k/J5tssskm+z8dx3Ecx3H8PxPzdobEvP0/CB988MEH/z9/pUCtXykAQHo7Q2LezgBAddFFF110AUBwZ0jM2xkCQGr9SoFavwJAZZNNNtlkA0BgKVDrVwoEQFu/UqDWrwRAVlVVVVVVBUBR61cK1PoFQEyBWr9SoAZARhdddNFFB0BBrV8pUOsHQDxDYt7OkAhAN9lkk002CUAyb2dIzNsJQC0Fav1KgQpAJ5tssskmC0AiMW9nSMwLQB3HcRzHcQxAGF100UUXDUAT83aGxLwNQA6JeTtDYg5ACB988MEHD0ADtX6lQK0PQH+lQK1fKRBAffDBBx98EEB6O0Ni3s4QQHeGxLydIRFAddFFF110EUByHMdxHMcRQHBnSMzbGRJAbbLJJptsEkBq/UqBWr8SQGhIzNsZEhNAZZNNNtlkE0Bj3s6QmLcTQGApUOtXChRAXnTRRRddFEBbv1Kg1q8UQFgK1PqVAhVAVlVVVVVVFUBToNavFKgVQFHrVwrU+hVATjbZZJNNFkBMgVq/UqAWQEnM2xkS8xZARhdddNFFF0BEYt7OkJgXQEGtXylQ6xdAP/jggw8+GEA8Q2LezpAYQDmO4ziO4xhAN9lkk002GUA0JObtDIkZQDJvZ0jM2xlAL7rooosuGkAtBWr9SoEaQCpQ61cK1BpAJ5tssskmG0Al5u0MiXkbQCIxb2dIzBtAIHzwwQcfHEAdx3Ecx3EcQBsS83aGxBxAGF100UUXHUAVqPUrBWodQBPzdobEvB1AED744IMPHkAOiXk7Q2IeQAvU+pUCtR5ACB988MEHH0AGav1KgVofQAO1fqVArR9AAAAAAAAAIEA=",
                    "dtype": "f8"
                  },
                  "xaxis": "x2",
                  "y": {
                    "bdata": "AAAAAAAA8D9HK6CUROXvP0AFMfw+le8/0Kwk6XQQ7z9d9043xFfuP3RuOXlhbO0/2qiW9NVP7D+KWjIR/QPrPyzmpz4Bi+k/an8OVljn5z8liaZ9vxvmP3BcZpU2K+Q/hq0LNPsY4j/7DCJ6BtHfP78oJjHuOts/P1edLVd31j+n2toSN47RP+OvS3WED8k/9ioyAHixvT+L7rrClSSiP3iQonMUOKe/UMFg43wbwL9Jc4tRC07Kv2XwUmZTKtK/5EnDk0cP178Zq47PtM3bvzitYAvXLuC/cAd8Acpb4r/EOljDEGrkv1d+Uwk8Vua/xHL7hxUd6L8H3OdNpbvpvz+saLk2L+u/sAu+/Vx17L+b70ww94vtvwtVC9czce6/LQcz8pMj778PmSd87aHvv1p1Yltt6++/Chwlw5j/778KSaQATt7vv046VbPEh++/XQT/b4387r+zOSvPkD3uv397iegNTO2/AzrPPZgp7L/hXY4YFdjqv282aV+4Wem/K1Lu5wCx57/uV0JLtODlv4cjj0Ta6+O/VPD0oLfV4b+77+WSkUPfv+rFzt93p9q/6U3D0dXe1b83wRp5qfHQvysw1uVb0Me/5pY+ojYru792oZsCRCGav2WWNlP9Sqw/DwVx2NVdwT8z0VVz6IvLPyrnOoT6xdI/NrDXL6Om1z9hcPsHyF/cP4Pvmm7CdOA/FJo0WiKe4j+xKNk4Z6jkPy8B6XQokOY/Ktb2IjdS6D8t9U9To+vpP5LASfrAWes/y1shZyya7D/eEvhBzqrtP9z/QArfie4/MI/JD+o17z8bYmXhz63vP5Q6LS3I8O8/kpAuD2P+7z84o1zMidbvPzWwivh+ee8/Ct4vB97n7j+psa5HmiLuP8b90U79Ku0/Z3om0KQC7D9xBcnqf6vqP3xdLO7LJ+k/PW88nBB65z/UkB/vG6XlP27VpWn9q+M/ZKg6+gCS4T/kmMfxUrXePzoLA5NVE9o/t/g5WMdF1T+MojWLrlTQPy32fa6ZkMY/xJHF9kWkuD/ztnLMZ/GPP8rGN9KXrrC/lC9jv76fwr8=",
                    "dtype": "f8"
                  },
                  "yaxis": "y2"
                },
                {
                  "line": {
                    "color": "purple"
                  },
                  "marker": {
                    "color": "purple",
                    "size": 5,
                    "symbol": "diamond"
                  },
                  "mode": "markers",
                  "name": "circle_12",
                  "type": "scatter",
                  "x": {
                    "bdata": "AAAAAAAA8D9HK6CUROXvP0AFMfw+le8/0Kwk6XQQ7z9d9043xFfuP3RuOXlhbO0/2qiW9NVP7D+KWjIR/QPrPyzmpz4Bi+k/an8OVljn5z8liaZ9vxvmP3BcZpU2K+Q/hq0LNPsY4j/7DCJ6BtHfP78oJjHuOts/P1edLVd31j+n2toSN47RP+OvS3WED8k/9ioyAHixvT+L7rrClSSiP3iQonMUOKe/UMFg43wbwL9Jc4tRC07Kv2XwUmZTKtK/5EnDk0cP178Zq47PtM3bvzitYAvXLuC/cAd8Acpb4r/EOljDEGrkv1d+Uwk8Vua/xHL7hxUd6L8H3OdNpbvpvz+saLk2L+u/sAu+/Vx17L+b70ww94vtvwtVC9czce6/LQcz8pMj778PmSd87aHvv1p1Yltt6++/Chwlw5j/778KSaQATt7vv046VbPEh++/XQT/b4387r+zOSvPkD3uv397iegNTO2/AzrPPZgp7L/hXY4YFdjqv282aV+4Wem/K1Lu5wCx57/uV0JLtODlv4cjj0Ta6+O/VPD0oLfV4b+77+WSkUPfv+rFzt93p9q/6U3D0dXe1b83wRp5qfHQvysw1uVb0Me/5pY+ojYru792oZsCRCGav2WWNlP9Sqw/DwVx2NVdwT8z0VVz6IvLPyrnOoT6xdI/NrDXL6Om1z9hcPsHyF/cP4Pvmm7CdOA/FJo0WiKe4j+xKNk4Z6jkPy8B6XQokOY/Ktb2IjdS6D8t9U9To+vpP5LASfrAWes/y1shZyya7D/eEvhBzqrtP9z/QArfie4/MI/JD+o17z8bYmXhz63vP5Q6LS3I8O8/kpAuD2P+7z84o1zMidbvPzWwivh+ee8/Ct4vB97n7j+psa5HmiLuP8b90U79Ku0/Z3om0KQC7D9xBcnqf6vqP3xdLO7LJ+k/PW88nBB65z/UkB/vG6XlP27VpWn9q+M/ZKg6+gCS4T/kmMfxUrXePzoLA5NVE9o/t/g5WMdF1T+MojWLrlTQPy32fa6ZkMY/xJHF9kWkuD/ztnLMZ/GPP8rGN9KXrrC/lC9jv76fwr8=",
                    "dtype": "f8"
                  },
                  "xaxis": "x2",
                  "y": {
                    "bdata": "AAAAAAAAAABQnwOhE6q0P4aD12nQmMQ/OBVEbC26zj+aXlz7GVTUP1ZjAncmKdk/MJFbWinU3T+tjlgJqybhPzPWi6iZRuM/jMGNw1NG5T9rLLlhgiLnP9abcO0J2Og/wp1YZQ9k6j9Cx6wh/cPrP8bEtiWH9ew/3oUw9q727T+qMSjuxsXuP+nq1Ax1Ye8/jxGtN7XI7z8WKvjs2vrvPxNbBmSS9+8/vfYrGeG+7z8EMJfEJVHvPzVLD7wXr+4/ULGlwMXZ7T89qlg6lNLsP1+Im+Q6m+s/XCen78E16j8tOV6bfqToPwdzcVEP6uY/1MdGRVcJ5T8tGfOgeQXjP5nLVUfU4eA/5G8waPRD3T8fve0FW5PYP1zwnFCyudM/QjKqlSl+zT+q7hQOqFfDP/ktPQarIbI/Q/MxRilShL/XNlPm9jG3v/iZhd9z2cW/bAZ7/2r1z7+9DWN7/u3UvwXkfI9Pvtm/C85I1Z1j3r/+oDIhE2vhv27xVlA9h+O/87gu/MaC5b/8p9srYFrnv0APRfL0Cum/sbKGkrKR6r8vrnU3DOzrv83zWTa/F+2/gg2+1dYS7r/Z0wWSr9vuv1BdVtr5cO+/6Ro8QbzR778abWYdVf3vv5FuwJd78++/vLAjJUC0778cltlqDEDvv006GY6il+6/kM6o7xu87b90XMBV567sv6dgP4fGceu/DxE1XMsG6r8806JIVHDov1roP2cIsea/4y3bCtPL5L9QnsLd3sPiv82rVpeQnOC/ibxAoQKz3L+NVcYC8fzXv2Fja1/LHtO/owS4cmdBzL8HK3fkAhbCv13shtuaMa+/cwsYt+dRlD9lssSBRLm5P9tkP1qKGcc/TtGhLu2X0D9ys7jvW4fVP+Re7YzSUto/va9YO07y3j/OuoHVCq/hP6sIQfdix+M/cAYeaa++5T97pGBHp5HnP276UGE+Pek/B1+5UKq+6j9MxHwjZxPsP9wld487Oe0/YoKiqTwu7j/CPksa0fDuP/aV+cizf+8/XW+Z+/XZ7z9AIFXlAP/vPwO1iKKW7u8/e88ooNKo7z8=",
                    "dtype": "f8"
                  },
                  "yaxis": "y2"
                },
                {
                  "line": {
                    "color": "blue"
                  },
                  "marker": {
                    "color": "blue",
                    "size": 5
                  },
                  "mode": "markers",
                  "name": "sin_21",
                  "type": "scatter",
                  "x": {
                    "bdata": "AAAAAAAAAABbv1Kg1q+0P1u/UqDWr8Q/CB988MEHzz9bv1Kg1q/UPzJvZ0jM29k/CB988MEH3z9wZ0jM2xniP1u/UqDWr+Q/RhdddNFF5z8yb2dIzNvpPx3HcRzHcew/CB988MEH7z96O0Ni3s7wP3BnSMzbGfI/ZZNNNtlk8z9bv1Kg1q/0P1HrVwrU+vU/RhdddNFF9z88Q2LezpD4PzJvZ0jM2/k/J5tssskm+z8dx3Ecx3H8PxPzdobEvP0/CB988MEH/z9/pUCtXykAQHo7Q2LezgBAddFFF110AUBwZ0jM2xkCQGr9SoFavwJAZZNNNtlkA0BgKVDrVwoEQFu/UqDWrwRAVlVVVVVVBUBR61cK1PoFQEyBWr9SoAZARhdddNFFB0BBrV8pUOsHQDxDYt7OkAhAN9lkk002CUAyb2dIzNsJQC0Fav1KgQpAJ5tssskmC0AiMW9nSMwLQB3HcRzHcQxAGF100UUXDUAT83aGxLwNQA6JeTtDYg5ACB988MEHD0ADtX6lQK0PQH+lQK1fKRBAffDBBx98EEB6O0Ni3s4QQHeGxLydIRFAddFFF110EUByHMdxHMcRQHBnSMzbGRJAbbLJJptsEkBq/UqBWr8SQGhIzNsZEhNAZZNNNtlkE0Bj3s6QmLcTQGApUOtXChRAXnTRRRddFEBbv1Kg1q8UQFgK1PqVAhVAVlVVVVVVFUBToNavFKgVQFHrVwrU+hVATjbZZJNNFkBMgVq/UqAWQEnM2xkS8xZARhdddNFFF0BEYt7OkJgXQEGtXylQ6xdAP/jggw8+GEA8Q2LezpAYQDmO4ziO4xhAN9lkk002GUA0JObtDIkZQDJvZ0jM2xlAL7rooosuGkAtBWr9SoEaQCpQ61cK1BpAJ5tssskmG0Al5u0MiXkbQCIxb2dIzBtAIHzwwQcfHEAdx3Ecx3EcQBsS83aGxBxAGF100UUXHUAVqPUrBWodQBPzdobEvB1AED744IMPHkAOiXk7Q2IeQAvU+pUCtR5ACB988MEHH0AGav1KgVofQAO1fqVArR9AAAAAAAAAIEA=",
                    "dtype": "f8"
                  },
                  "xaxis": "x3",
                  "y": {
                    "bdata": "AAAAAAAAAABQnwOhE6q0P4aD12nQmMQ/OBVEbC26zj+aXlz7GVTUP1ZjAncmKdk/MJFbWinU3T+tjlgJqybhPzPWi6iZRuM/jMGNw1NG5T9rLLlhgiLnP9abcO0J2Og/wp1YZQ9k6j9Cx6wh/cPrP8bEtiWH9ew/3oUw9q727T+qMSjuxsXuP+nq1Ax1Ye8/jxGtN7XI7z8WKvjs2vrvPxNbBmSS9+8/vfYrGeG+7z8EMJfEJVHvPzVLD7wXr+4/ULGlwMXZ7T89qlg6lNLsP1+Im+Q6m+s/XCen78E16j8tOV6bfqToPwdzcVEP6uY/1MdGRVcJ5T8tGfOgeQXjP5nLVUfU4eA/5G8waPRD3T8fve0FW5PYP1zwnFCyudM/QjKqlSl+zT+q7hQOqFfDP/ktPQarIbI/Q/MxRilShL/XNlPm9jG3v/iZhd9z2cW/bAZ7/2r1z7+9DWN7/u3UvwXkfI9Pvtm/C85I1Z1j3r/+oDIhE2vhv27xVlA9h+O/87gu/MaC5b/8p9srYFrnv0APRfL0Cum/sbKGkrKR6r8vrnU3DOzrv83zWTa/F+2/gg2+1dYS7r/Z0wWSr9vuv1BdVtr5cO+/6Ro8QbzR778abWYdVf3vv5FuwJd78++/vLAjJUC0778cltlqDEDvv006GY6il+6/kM6o7xu87b90XMBV567sv6dgP4fGceu/DxE1XMsG6r8806JIVHDov1roP2cIsea/4y3bCtPL5L9QnsLd3sPiv82rVpeQnOC/ibxAoQKz3L+NVcYC8fzXv2Fja1/LHtO/owS4cmdBzL8HK3fkAhbCv13shtuaMa+/cwsYt+dRlD9lssSBRLm5P9tkP1qKGcc/TtGhLu2X0D9ys7jvW4fVP+Re7YzSUto/va9YO07y3j/OuoHVCq/hP6sIQfdix+M/cAYeaa++5T97pGBHp5HnP276UGE+Pek/B1+5UKq+6j9MxHwjZxPsP9wld487Oe0/YoKiqTwu7j/CPksa0fDuP/aV+cizf+8/XW+Z+/XZ7z9AIFXlAP/vPwO1iKKW7u8/e88ooNKo7z8=",
                    "dtype": "f8"
                  },
                  "yaxis": "y3"
                },
                {
                  "line": {
                    "color": "red"
                  },
                  "marker": {
                    "color": "red",
                    "size": 5
                  },
                  "mode": "markers",
                  "name": "cos_21",
                  "type": "scatter",
                  "x": {
                    "bdata": "AAAAAAAAAABbv1Kg1q+0P1u/UqDWr8Q/CB988MEHzz9bv1Kg1q/UPzJvZ0jM29k/CB988MEH3z9wZ0jM2xniP1u/UqDWr+Q/RhdddNFF5z8yb2dIzNvpPx3HcRzHcew/CB988MEH7z96O0Ni3s7wP3BnSMzbGfI/ZZNNNtlk8z9bv1Kg1q/0P1HrVwrU+vU/RhdddNFF9z88Q2LezpD4PzJvZ0jM2/k/J5tssskm+z8dx3Ecx3H8PxPzdobEvP0/CB988MEH/z9/pUCtXykAQHo7Q2LezgBAddFFF110AUBwZ0jM2xkCQGr9SoFavwJAZZNNNtlkA0BgKVDrVwoEQFu/UqDWrwRAVlVVVVVVBUBR61cK1PoFQEyBWr9SoAZARhdddNFFB0BBrV8pUOsHQDxDYt7OkAhAN9lkk002CUAyb2dIzNsJQC0Fav1KgQpAJ5tssskmC0AiMW9nSMwLQB3HcRzHcQxAGF100UUXDUAT83aGxLwNQA6JeTtDYg5ACB988MEHD0ADtX6lQK0PQH+lQK1fKRBAffDBBx98EEB6O0Ni3s4QQHeGxLydIRFAddFFF110EUByHMdxHMcRQHBnSMzbGRJAbbLJJptsEkBq/UqBWr8SQGhIzNsZEhNAZZNNNtlkE0Bj3s6QmLcTQGApUOtXChRAXnTRRRddFEBbv1Kg1q8UQFgK1PqVAhVAVlVVVVVVFUBToNavFKgVQFHrVwrU+hVATjbZZJNNFkBMgVq/UqAWQEnM2xkS8xZARhdddNFFF0BEYt7OkJgXQEGtXylQ6xdAP/jggw8+GEA8Q2LezpAYQDmO4ziO4xhAN9lkk002GUA0JObtDIkZQDJvZ0jM2xlAL7rooosuGkAtBWr9SoEaQCpQ61cK1BpAJ5tssskmG0Al5u0MiXkbQCIxb2dIzBtAIHzwwQcfHEAdx3Ecx3EcQBsS83aGxBxAGF100UUXHUAVqPUrBWodQBPzdobEvB1AED744IMPHkAOiXk7Q2IeQAvU+pUCtR5ACB988MEHH0AGav1KgVofQAO1fqVArR9AAAAAAAAAIEA=",
                    "dtype": "f8"
                  },
                  "xaxis": "x3",
                  "y": {
                    "bdata": "AAAAAAAA8D9HK6CUROXvP0AFMfw+le8/0Kwk6XQQ7z9d9043xFfuP3RuOXlhbO0/2qiW9NVP7D+KWjIR/QPrPyzmpz4Bi+k/an8OVljn5z8liaZ9vxvmP3BcZpU2K+Q/hq0LNPsY4j/7DCJ6BtHfP78oJjHuOts/P1edLVd31j+n2toSN47RP+OvS3WED8k/9ioyAHixvT+L7rrClSSiP3iQonMUOKe/UMFg43wbwL9Jc4tRC07Kv2XwUmZTKtK/5EnDk0cP178Zq47PtM3bvzitYAvXLuC/cAd8Acpb4r/EOljDEGrkv1d+Uwk8Vua/xHL7hxUd6L8H3OdNpbvpvz+saLk2L+u/sAu+/Vx17L+b70ww94vtvwtVC9czce6/LQcz8pMj778PmSd87aHvv1p1Yltt6++/Chwlw5j/778KSaQATt7vv046VbPEh++/XQT/b4387r+zOSvPkD3uv397iegNTO2/AzrPPZgp7L/hXY4YFdjqv282aV+4Wem/K1Lu5wCx57/uV0JLtODlv4cjj0Ta6+O/VPD0oLfV4b+77+WSkUPfv+rFzt93p9q/6U3D0dXe1b83wRp5qfHQvysw1uVb0Me/5pY+ojYru792oZsCRCGav2WWNlP9Sqw/DwVx2NVdwT8z0VVz6IvLPyrnOoT6xdI/NrDXL6Om1z9hcPsHyF/cP4Pvmm7CdOA/FJo0WiKe4j+xKNk4Z6jkPy8B6XQokOY/Ktb2IjdS6D8t9U9To+vpP5LASfrAWes/y1shZyya7D/eEvhBzqrtP9z/QArfie4/MI/JD+o17z8bYmXhz63vP5Q6LS3I8O8/kpAuD2P+7z84o1zMidbvPzWwivh+ee8/Ct4vB97n7j+psa5HmiLuP8b90U79Ku0/Z3om0KQC7D9xBcnqf6vqP3xdLO7LJ+k/PW88nBB65z/UkB/vG6XlP27VpWn9q+M/ZKg6+gCS4T/kmMfxUrXePzoLA5NVE9o/t/g5WMdF1T+MojWLrlTQPy32fa6ZkMY/xJHF9kWkuD/ztnLMZ/GPP8rGN9KXrrC/lC9jv76fwr8=",
                    "dtype": "f8"
                  },
                  "yaxis": "y3"
                },
                {
                  "line": {
                    "color": "purple"
                  },
                  "marker": {
                    "color": "purple",
                    "size": 5
                  },
                  "mode": "markers",
                  "name": "circle_21",
                  "type": "scatter",
                  "x": {
                    "bdata": "AAAAAAAA8D9HK6CUROXvP0AFMfw+le8/0Kwk6XQQ7z9d9043xFfuP3RuOXlhbO0/2qiW9NVP7D+KWjIR/QPrPyzmpz4Bi+k/an8OVljn5z8liaZ9vxvmP3BcZpU2K+Q/hq0LNPsY4j/7DCJ6BtHfP78oJjHuOts/P1edLVd31j+n2toSN47RP+OvS3WED8k/9ioyAHixvT+L7rrClSSiP3iQonMUOKe/UMFg43wbwL9Jc4tRC07Kv2XwUmZTKtK/5EnDk0cP178Zq47PtM3bvzitYAvXLuC/cAd8Acpb4r/EOljDEGrkv1d+Uwk8Vua/xHL7hxUd6L8H3OdNpbvpvz+saLk2L+u/sAu+/Vx17L+b70ww94vtvwtVC9czce6/LQcz8pMj778PmSd87aHvv1p1Yltt6++/Chwlw5j/778KSaQATt7vv046VbPEh++/XQT/b4387r+zOSvPkD3uv397iegNTO2/AzrPPZgp7L/hXY4YFdjqv282aV+4Wem/K1Lu5wCx57/uV0JLtODlv4cjj0Ta6+O/VPD0oLfV4b+77+WSkUPfv+rFzt93p9q/6U3D0dXe1b83wRp5qfHQvysw1uVb0Me/5pY+ojYru792oZsCRCGav2WWNlP9Sqw/DwVx2NVdwT8z0VVz6IvLPyrnOoT6xdI/NrDXL6Om1z9hcPsHyF/cP4Pvmm7CdOA/FJo0WiKe4j+xKNk4Z6jkPy8B6XQokOY/Ktb2IjdS6D8t9U9To+vpP5LASfrAWes/y1shZyya7D/eEvhBzqrtP9z/QArfie4/MI/JD+o17z8bYmXhz63vP5Q6LS3I8O8/kpAuD2P+7z84o1zMidbvPzWwivh+ee8/Ct4vB97n7j+psa5HmiLuP8b90U79Ku0/Z3om0KQC7D9xBcnqf6vqP3xdLO7LJ+k/PW88nBB65z/UkB/vG6XlP27VpWn9q+M/ZKg6+gCS4T/kmMfxUrXePzoLA5NVE9o/t/g5WMdF1T+MojWLrlTQPy32fa6ZkMY/xJHF9kWkuD/ztnLMZ/GPP8rGN9KXrrC/lC9jv76fwr8=",
                    "dtype": "f8"
                  },
                  "xaxis": "x3",
                  "y": {
                    "bdata": "AAAAAAAAAABQnwOhE6q0P4aD12nQmMQ/OBVEbC26zj+aXlz7GVTUP1ZjAncmKdk/MJFbWinU3T+tjlgJqybhPzPWi6iZRuM/jMGNw1NG5T9rLLlhgiLnP9abcO0J2Og/wp1YZQ9k6j9Cx6wh/cPrP8bEtiWH9ew/3oUw9q727T+qMSjuxsXuP+nq1Ax1Ye8/jxGtN7XI7z8WKvjs2vrvPxNbBmSS9+8/vfYrGeG+7z8EMJfEJVHvPzVLD7wXr+4/ULGlwMXZ7T89qlg6lNLsP1+Im+Q6m+s/XCen78E16j8tOV6bfqToPwdzcVEP6uY/1MdGRVcJ5T8tGfOgeQXjP5nLVUfU4eA/5G8waPRD3T8fve0FW5PYP1zwnFCyudM/QjKqlSl+zT+q7hQOqFfDP/ktPQarIbI/Q/MxRilShL/XNlPm9jG3v/iZhd9z2cW/bAZ7/2r1z7+9DWN7/u3UvwXkfI9Pvtm/C85I1Z1j3r/+oDIhE2vhv27xVlA9h+O/87gu/MaC5b/8p9srYFrnv0APRfL0Cum/sbKGkrKR6r8vrnU3DOzrv83zWTa/F+2/gg2+1dYS7r/Z0wWSr9vuv1BdVtr5cO+/6Ro8QbzR778abWYdVf3vv5FuwJd78++/vLAjJUC0778cltlqDEDvv006GY6il+6/kM6o7xu87b90XMBV567sv6dgP4fGceu/DxE1XMsG6r8806JIVHDov1roP2cIsea/4y3bCtPL5L9QnsLd3sPiv82rVpeQnOC/ibxAoQKz3L+NVcYC8fzXv2Fja1/LHtO/owS4cmdBzL8HK3fkAhbCv13shtuaMa+/cwsYt+dRlD9lssSBRLm5P9tkP1qKGcc/TtGhLu2X0D9ys7jvW4fVP+Re7YzSUto/va9YO07y3j/OuoHVCq/hP6sIQfdix+M/cAYeaa++5T97pGBHp5HnP276UGE+Pek/B1+5UKq+6j9MxHwjZxPsP9wld487Oe0/YoKiqTwu7j/CPksa0fDuP/aV+cizf+8/XW+Z+/XZ7z9AIFXlAP/vPwO1iKKW7u8/e88ooNKo7z8=",
                    "dtype": "f8"
                  },
                  "yaxis": "y3"
                },
                {
                  "line": {
                    "color": "blue",
                    "dash": "dash"
                  },
                  "marker": {
                    "symbol": "diamond"
                  },
                  "mode": "lines",
                  "name": "sin_22",
                  "type": "scatter",
                  "x": {
                    "bdata": "AAAAAAAAAABbv1Kg1q+0P1u/UqDWr8Q/CB988MEHzz9bv1Kg1q/UPzJvZ0jM29k/CB988MEH3z9wZ0jM2xniP1u/UqDWr+Q/RhdddNFF5z8yb2dIzNvpPx3HcRzHcew/CB988MEH7z96O0Ni3s7wP3BnSMzbGfI/ZZNNNtlk8z9bv1Kg1q/0P1HrVwrU+vU/RhdddNFF9z88Q2LezpD4PzJvZ0jM2/k/J5tssskm+z8dx3Ecx3H8PxPzdobEvP0/CB988MEH/z9/pUCtXykAQHo7Q2LezgBAddFFF110AUBwZ0jM2xkCQGr9SoFavwJAZZNNNtlkA0BgKVDrVwoEQFu/UqDWrwRAVlVVVVVVBUBR61cK1PoFQEyBWr9SoAZARhdddNFFB0BBrV8pUOsHQDxDYt7OkAhAN9lkk002CUAyb2dIzNsJQC0Fav1KgQpAJ5tssskmC0AiMW9nSMwLQB3HcRzHcQxAGF100UUXDUAT83aGxLwNQA6JeTtDYg5ACB988MEHD0ADtX6lQK0PQH+lQK1fKRBAffDBBx98EEB6O0Ni3s4QQHeGxLydIRFAddFFF110EUByHMdxHMcRQHBnSMzbGRJAbbLJJptsEkBq/UqBWr8SQGhIzNsZEhNAZZNNNtlkE0Bj3s6QmLcTQGApUOtXChRAXnTRRRddFEBbv1Kg1q8UQFgK1PqVAhVAVlVVVVVVFUBToNavFKgVQFHrVwrU+hVATjbZZJNNFkBMgVq/UqAWQEnM2xkS8xZARhdddNFFF0BEYt7OkJgXQEGtXylQ6xdAP/jggw8+GEA8Q2LezpAYQDmO4ziO4xhAN9lkk002GUA0JObtDIkZQDJvZ0jM2xlAL7rooosuGkAtBWr9SoEaQCpQ61cK1BpAJ5tssskmG0Al5u0MiXkbQCIxb2dIzBtAIHzwwQcfHEAdx3Ecx3EcQBsS83aGxBxAGF100UUXHUAVqPUrBWodQBPzdobEvB1AED744IMPHkAOiXk7Q2IeQAvU+pUCtR5ACB988MEHH0AGav1KgVofQAO1fqVArR9AAAAAAAAAIEA=",
                    "dtype": "f8"
                  },
                  "xaxis": "x4",
                  "y": {
                    "bdata": "AAAAAAAAAABQnwOhE6q0P4aD12nQmMQ/OBVEbC26zj+aXlz7GVTUP1ZjAncmKdk/MJFbWinU3T+tjlgJqybhPzPWi6iZRuM/jMGNw1NG5T9rLLlhgiLnP9abcO0J2Og/wp1YZQ9k6j9Cx6wh/cPrP8bEtiWH9ew/3oUw9q727T+qMSjuxsXuP+nq1Ax1Ye8/jxGtN7XI7z8WKvjs2vrvPxNbBmSS9+8/vfYrGeG+7z8EMJfEJVHvPzVLD7wXr+4/ULGlwMXZ7T89qlg6lNLsP1+Im+Q6m+s/XCen78E16j8tOV6bfqToPwdzcVEP6uY/1MdGRVcJ5T8tGfOgeQXjP5nLVUfU4eA/5G8waPRD3T8fve0FW5PYP1zwnFCyudM/QjKqlSl+zT+q7hQOqFfDP/ktPQarIbI/Q/MxRilShL/XNlPm9jG3v/iZhd9z2cW/bAZ7/2r1z7+9DWN7/u3UvwXkfI9Pvtm/C85I1Z1j3r/+oDIhE2vhv27xVlA9h+O/87gu/MaC5b/8p9srYFrnv0APRfL0Cum/sbKGkrKR6r8vrnU3DOzrv83zWTa/F+2/gg2+1dYS7r/Z0wWSr9vuv1BdVtr5cO+/6Ro8QbzR778abWYdVf3vv5FuwJd78++/vLAjJUC0778cltlqDEDvv006GY6il+6/kM6o7xu87b90XMBV567sv6dgP4fGceu/DxE1XMsG6r8806JIVHDov1roP2cIsea/4y3bCtPL5L9QnsLd3sPiv82rVpeQnOC/ibxAoQKz3L+NVcYC8fzXv2Fja1/LHtO/owS4cmdBzL8HK3fkAhbCv13shtuaMa+/cwsYt+dRlD9lssSBRLm5P9tkP1qKGcc/TtGhLu2X0D9ys7jvW4fVP+Re7YzSUto/va9YO07y3j/OuoHVCq/hP6sIQfdix+M/cAYeaa++5T97pGBHp5HnP276UGE+Pek/B1+5UKq+6j9MxHwjZxPsP9wld487Oe0/YoKiqTwu7j/CPksa0fDuP/aV+cizf+8/XW+Z+/XZ7z9AIFXlAP/vPwO1iKKW7u8/e88ooNKo7z8=",
                    "dtype": "f8"
                  },
                  "yaxis": "y4"
                },
                {
                  "line": {
                    "color": "red"
                  },
                  "marker": {
                    "color": "red",
                    "size": 5,
                    "symbol": "diamond"
                  },
                  "mode": "markers",
                  "name": "cos_22",
                  "type": "scatter",
                  "x": {
                    "bdata": "AAAAAAAAAABbv1Kg1q+0P1u/UqDWr8Q/CB988MEHzz9bv1Kg1q/UPzJvZ0jM29k/CB988MEH3z9wZ0jM2xniP1u/UqDWr+Q/RhdddNFF5z8yb2dIzNvpPx3HcRzHcew/CB988MEH7z96O0Ni3s7wP3BnSMzbGfI/ZZNNNtlk8z9bv1Kg1q/0P1HrVwrU+vU/RhdddNFF9z88Q2LezpD4PzJvZ0jM2/k/J5tssskm+z8dx3Ecx3H8PxPzdobEvP0/CB988MEH/z9/pUCtXykAQHo7Q2LezgBAddFFF110AUBwZ0jM2xkCQGr9SoFavwJAZZNNNtlkA0BgKVDrVwoEQFu/UqDWrwRAVlVVVVVVBUBR61cK1PoFQEyBWr9SoAZARhdddNFFB0BBrV8pUOsHQDxDYt7OkAhAN9lkk002CUAyb2dIzNsJQC0Fav1KgQpAJ5tssskmC0AiMW9nSMwLQB3HcRzHcQxAGF100UUXDUAT83aGxLwNQA6JeTtDYg5ACB988MEHD0ADtX6lQK0PQH+lQK1fKRBAffDBBx98EEB6O0Ni3s4QQHeGxLydIRFAddFFF110EUByHMdxHMcRQHBnSMzbGRJAbbLJJptsEkBq/UqBWr8SQGhIzNsZEhNAZZNNNtlkE0Bj3s6QmLcTQGApUOtXChRAXnTRRRddFEBbv1Kg1q8UQFgK1PqVAhVAVlVVVVVVFUBToNavFKgVQFHrVwrU+hVATjbZZJNNFkBMgVq/UqAWQEnM2xkS8xZARhdddNFFF0BEYt7OkJgXQEGtXylQ6xdAP/jggw8+GEA8Q2LezpAYQDmO4ziO4xhAN9lkk002GUA0JObtDIkZQDJvZ0jM2xlAL7rooosuGkAtBWr9SoEaQCpQ61cK1BpAJ5tssskmG0Al5u0MiXkbQCIxb2dIzBtAIHzwwQcfHEAdx3Ecx3EcQBsS83aGxBxAGF100UUXHUAVqPUrBWodQBPzdobEvB1AED744IMPHkAOiXk7Q2IeQAvU+pUCtR5ACB988MEHH0AGav1KgVofQAO1fqVArR9AAAAAAAAAIEA=",
                    "dtype": "f8"
                  },
                  "xaxis": "x4",
                  "y": {
                    "bdata": "AAAAAAAA8D9HK6CUROXvP0AFMfw+le8/0Kwk6XQQ7z9d9043xFfuP3RuOXlhbO0/2qiW9NVP7D+KWjIR/QPrPyzmpz4Bi+k/an8OVljn5z8liaZ9vxvmP3BcZpU2K+Q/hq0LNPsY4j/7DCJ6BtHfP78oJjHuOts/P1edLVd31j+n2toSN47RP+OvS3WED8k/9ioyAHixvT+L7rrClSSiP3iQonMUOKe/UMFg43wbwL9Jc4tRC07Kv2XwUmZTKtK/5EnDk0cP178Zq47PtM3bvzitYAvXLuC/cAd8Acpb4r/EOljDEGrkv1d+Uwk8Vua/xHL7hxUd6L8H3OdNpbvpvz+saLk2L+u/sAu+/Vx17L+b70ww94vtvwtVC9czce6/LQcz8pMj778PmSd87aHvv1p1Yltt6++/Chwlw5j/778KSaQATt7vv046VbPEh++/XQT/b4387r+zOSvPkD3uv397iegNTO2/AzrPPZgp7L/hXY4YFdjqv282aV+4Wem/K1Lu5wCx57/uV0JLtODlv4cjj0Ta6+O/VPD0oLfV4b+77+WSkUPfv+rFzt93p9q/6U3D0dXe1b83wRp5qfHQvysw1uVb0Me/5pY+ojYru792oZsCRCGav2WWNlP9Sqw/DwVx2NVdwT8z0VVz6IvLPyrnOoT6xdI/NrDXL6Om1z9hcPsHyF/cP4Pvmm7CdOA/FJo0WiKe4j+xKNk4Z6jkPy8B6XQokOY/Ktb2IjdS6D8t9U9To+vpP5LASfrAWes/y1shZyya7D/eEvhBzqrtP9z/QArfie4/MI/JD+o17z8bYmXhz63vP5Q6LS3I8O8/kpAuD2P+7z84o1zMidbvPzWwivh+ee8/Ct4vB97n7j+psa5HmiLuP8b90U79Ku0/Z3om0KQC7D9xBcnqf6vqP3xdLO7LJ+k/PW88nBB65z/UkB/vG6XlP27VpWn9q+M/ZKg6+gCS4T/kmMfxUrXePzoLA5NVE9o/t/g5WMdF1T+MojWLrlTQPy32fa6ZkMY/xJHF9kWkuD/ztnLMZ/GPP8rGN9KXrrC/lC9jv76fwr8=",
                    "dtype": "f8"
                  },
                  "yaxis": "y4"
                },
                {
                  "line": {
                    "color": "purple"
                  },
                  "marker": {
                    "color": "purple",
                    "size": 3,
                    "symbol": "diamond"
                  },
                  "mode": "markers+lines",
                  "name": "circle_22",
                  "type": "scatter",
                  "x": {
                    "bdata": "AAAAAAAA8D9HK6CUROXvP0AFMfw+le8/0Kwk6XQQ7z9d9043xFfuP3RuOXlhbO0/2qiW9NVP7D+KWjIR/QPrPyzmpz4Bi+k/an8OVljn5z8liaZ9vxvmP3BcZpU2K+Q/hq0LNPsY4j/7DCJ6BtHfP78oJjHuOts/P1edLVd31j+n2toSN47RP+OvS3WED8k/9ioyAHixvT+L7rrClSSiP3iQonMUOKe/UMFg43wbwL9Jc4tRC07Kv2XwUmZTKtK/5EnDk0cP178Zq47PtM3bvzitYAvXLuC/cAd8Acpb4r/EOljDEGrkv1d+Uwk8Vua/xHL7hxUd6L8H3OdNpbvpvz+saLk2L+u/sAu+/Vx17L+b70ww94vtvwtVC9czce6/LQcz8pMj778PmSd87aHvv1p1Yltt6++/Chwlw5j/778KSaQATt7vv046VbPEh++/XQT/b4387r+zOSvPkD3uv397iegNTO2/AzrPPZgp7L/hXY4YFdjqv282aV+4Wem/K1Lu5wCx57/uV0JLtODlv4cjj0Ta6+O/VPD0oLfV4b+77+WSkUPfv+rFzt93p9q/6U3D0dXe1b83wRp5qfHQvysw1uVb0Me/5pY+ojYru792oZsCRCGav2WWNlP9Sqw/DwVx2NVdwT8z0VVz6IvLPyrnOoT6xdI/NrDXL6Om1z9hcPsHyF/cP4Pvmm7CdOA/FJo0WiKe4j+xKNk4Z6jkPy8B6XQokOY/Ktb2IjdS6D8t9U9To+vpP5LASfrAWes/y1shZyya7D/eEvhBzqrtP9z/QArfie4/MI/JD+o17z8bYmXhz63vP5Q6LS3I8O8/kpAuD2P+7z84o1zMidbvPzWwivh+ee8/Ct4vB97n7j+psa5HmiLuP8b90U79Ku0/Z3om0KQC7D9xBcnqf6vqP3xdLO7LJ+k/PW88nBB65z/UkB/vG6XlP27VpWn9q+M/ZKg6+gCS4T/kmMfxUrXePzoLA5NVE9o/t/g5WMdF1T+MojWLrlTQPy32fa6ZkMY/xJHF9kWkuD/ztnLMZ/GPP8rGN9KXrrC/lC9jv76fwr8=",
                    "dtype": "f8"
                  },
                  "xaxis": "x4",
                  "y": {
                    "bdata": "AAAAAAAAAABQnwOhE6q0P4aD12nQmMQ/OBVEbC26zj+aXlz7GVTUP1ZjAncmKdk/MJFbWinU3T+tjlgJqybhPzPWi6iZRuM/jMGNw1NG5T9rLLlhgiLnP9abcO0J2Og/wp1YZQ9k6j9Cx6wh/cPrP8bEtiWH9ew/3oUw9q727T+qMSjuxsXuP+nq1Ax1Ye8/jxGtN7XI7z8WKvjs2vrvPxNbBmSS9+8/vfYrGeG+7z8EMJfEJVHvPzVLD7wXr+4/ULGlwMXZ7T89qlg6lNLsP1+Im+Q6m+s/XCen78E16j8tOV6bfqToPwdzcVEP6uY/1MdGRVcJ5T8tGfOgeQXjP5nLVUfU4eA/5G8waPRD3T8fve0FW5PYP1zwnFCyudM/QjKqlSl+zT+q7hQOqFfDP/ktPQarIbI/Q/MxRilShL/XNlPm9jG3v/iZhd9z2cW/bAZ7/2r1z7+9DWN7/u3UvwXkfI9Pvtm/C85I1Z1j3r/+oDIhE2vhv27xVlA9h+O/87gu/MaC5b/8p9srYFrnv0APRfL0Cum/sbKGkrKR6r8vrnU3DOzrv83zWTa/F+2/gg2+1dYS7r/Z0wWSr9vuv1BdVtr5cO+/6Ro8QbzR778abWYdVf3vv5FuwJd78++/vLAjJUC0778cltlqDEDvv006GY6il+6/kM6o7xu87b90XMBV567sv6dgP4fGceu/DxE1XMsG6r8806JIVHDov1roP2cIsea/4y3bCtPL5L9QnsLd3sPiv82rVpeQnOC/ibxAoQKz3L+NVcYC8fzXv2Fja1/LHtO/owS4cmdBzL8HK3fkAhbCv13shtuaMa+/cwsYt+dRlD9lssSBRLm5P9tkP1qKGcc/TtGhLu2X0D9ys7jvW4fVP+Re7YzSUto/va9YO07y3j/OuoHVCq/hP6sIQfdix+M/cAYeaa++5T97pGBHp5HnP276UGE+Pek/B1+5UKq+6j9MxHwjZxPsP9wld487Oe0/YoKiqTwu7j/CPksa0fDuP/aV+cizf+8/XW+Z+/XZ7z9AIFXlAP/vPwO1iKKW7u8/e88ooNKo7z8=",
                    "dtype": "f8"
                  },
                  "yaxis": "y4"
                }
              ],
              "layout": {
                "height": 720,
                "template": {
                  "data": {
                    "bar": [
                      {
                        "error_x": {
                          "color": "#2a3f5f"
                        },
                        "error_y": {
                          "color": "#2a3f5f"
                        },
                        "marker": {
                          "line": {
                            "color": "#E5ECF6",
                            "width": 0.5
                          },
                          "pattern": {
                            "fillmode": "overlay",
                            "size": 10,
                            "solidity": 0.2
                          }
                        },
                        "type": "bar"
                      }
                    ],
                    "barpolar": [
                      {
                        "marker": {
                          "line": {
                            "color": "#E5ECF6",
                            "width": 0.5
                          },
                          "pattern": {
                            "fillmode": "overlay",
                            "size": 10,
                            "solidity": 0.2
                          }
                        },
                        "type": "barpolar"
                      }
                    ],
                    "carpet": [
                      {
                        "aaxis": {
                          "endlinecolor": "#2a3f5f",
                          "gridcolor": "white",
                          "linecolor": "white",
                          "minorgridcolor": "white",
                          "startlinecolor": "#2a3f5f"
                        },
                        "baxis": {
                          "endlinecolor": "#2a3f5f",
                          "gridcolor": "white",
                          "linecolor": "white",
                          "minorgridcolor": "white",
                          "startlinecolor": "#2a3f5f"
                        },
                        "type": "carpet"
                      }
                    ],
                    "choropleth": [
                      {
                        "colorbar": {
                          "outlinewidth": 0,
                          "ticks": ""
                        },
                        "type": "choropleth"
                      }
                    ],
                    "contour": [
                      {
                        "colorbar": {
                          "outlinewidth": 0,
                          "ticks": ""
                        },
                        "colorscale": [
                          [
                            0,
                            "#0d0887"
                          ],
                          [
                            0.1111111111111111,
                            "#46039f"
                          ],
                          [
                            0.2222222222222222,
                            "#7201a8"
                          ],
                          [
                            0.3333333333333333,
                            "#9c179e"
                          ],
                          [
                            0.4444444444444444,
                            "#bd3786"
                          ],
                          [
                            0.5555555555555556,
                            "#d8576b"
                          ],
                          [
                            0.6666666666666666,
                            "#ed7953"
                          ],
                          [
                            0.7777777777777778,
                            "#fb9f3a"
                          ],
                          [
                            0.8888888888888888,
                            "#fdca26"
                          ],
                          [
                            1,
                            "#f0f921"
                          ]
                        ],
                        "type": "contour"
                      }
                    ],
                    "contourcarpet": [
                      {
                        "colorbar": {
                          "outlinewidth": 0,
                          "ticks": ""
                        },
                        "type": "contourcarpet"
                      }
                    ],
                    "heatmap": [
                      {
                        "colorbar": {
                          "outlinewidth": 0,
                          "ticks": ""
                        },
                        "colorscale": [
                          [
                            0,
                            "#0d0887"
                          ],
                          [
                            0.1111111111111111,
                            "#46039f"
                          ],
                          [
                            0.2222222222222222,
                            "#7201a8"
                          ],
                          [
                            0.3333333333333333,
                            "#9c179e"
                          ],
                          [
                            0.4444444444444444,
                            "#bd3786"
                          ],
                          [
                            0.5555555555555556,
                            "#d8576b"
                          ],
                          [
                            0.6666666666666666,
                            "#ed7953"
                          ],
                          [
                            0.7777777777777778,
                            "#fb9f3a"
                          ],
                          [
                            0.8888888888888888,
                            "#fdca26"
                          ],
                          [
                            1,
                            "#f0f921"
                          ]
                        ],
                        "type": "heatmap"
                      }
                    ],
                    "histogram": [
                      {
                        "marker": {
                          "pattern": {
                            "fillmode": "overlay",
                            "size": 10,
                            "solidity": 0.2
                          }
                        },
                        "type": "histogram"
                      }
                    ],
                    "histogram2d": [
                      {
                        "colorbar": {
                          "outlinewidth": 0,
                          "ticks": ""
                        },
                        "colorscale": [
                          [
                            0,
                            "#0d0887"
                          ],
                          [
                            0.1111111111111111,
                            "#46039f"
                          ],
                          [
                            0.2222222222222222,
                            "#7201a8"
                          ],
                          [
                            0.3333333333333333,
                            "#9c179e"
                          ],
                          [
                            0.4444444444444444,
                            "#bd3786"
                          ],
                          [
                            0.5555555555555556,
                            "#d8576b"
                          ],
                          [
                            0.6666666666666666,
                            "#ed7953"
                          ],
                          [
                            0.7777777777777778,
                            "#fb9f3a"
                          ],
                          [
                            0.8888888888888888,
                            "#fdca26"
                          ],
                          [
                            1,
                            "#f0f921"
                          ]
                        ],
                        "type": "histogram2d"
                      }
                    ],
                    "histogram2dcontour": [
                      {
                        "colorbar": {
                          "outlinewidth": 0,
                          "ticks": ""
                        },
                        "colorscale": [
                          [
                            0,
                            "#0d0887"
                          ],
                          [
                            0.1111111111111111,
                            "#46039f"
                          ],
                          [
                            0.2222222222222222,
                            "#7201a8"
                          ],
                          [
                            0.3333333333333333,
                            "#9c179e"
                          ],
                          [
                            0.4444444444444444,
                            "#bd3786"
                          ],
                          [
                            0.5555555555555556,
                            "#d8576b"
                          ],
                          [
                            0.6666666666666666,
                            "#ed7953"
                          ],
                          [
                            0.7777777777777778,
                            "#fb9f3a"
                          ],
                          [
                            0.8888888888888888,
                            "#fdca26"
                          ],
                          [
                            1,
                            "#f0f921"
                          ]
                        ],
                        "type": "histogram2dcontour"
                      }
                    ],
                    "mesh3d": [
                      {
                        "colorbar": {
                          "outlinewidth": 0,
                          "ticks": ""
                        },
                        "type": "mesh3d"
                      }
                    ],
                    "parcoords": [
                      {
                        "line": {
                          "colorbar": {
                            "outlinewidth": 0,
                            "ticks": ""
                          }
                        },
                        "type": "parcoords"
                      }
                    ],
                    "pie": [
                      {
                        "automargin": true,
                        "type": "pie"
                      }
                    ],
                    "scatter": [
                      {
                        "fillpattern": {
                          "fillmode": "overlay",
                          "size": 10,
                          "solidity": 0.2
                        },
                        "type": "scatter"
                      }
                    ],
                    "scatter3d": [
                      {
                        "line": {
                          "colorbar": {
                            "outlinewidth": 0,
                            "ticks": ""
                          }
                        },
                        "marker": {
                          "colorbar": {
                            "outlinewidth": 0,
                            "ticks": ""
                          }
                        },
                        "type": "scatter3d"
                      }
                    ],
                    "scattercarpet": [
                      {
                        "marker": {
                          "colorbar": {
                            "outlinewidth": 0,
                            "ticks": ""
                          }
                        },
                        "type": "scattercarpet"
                      }
                    ],
                    "scattergeo": [
                      {
                        "marker": {
                          "colorbar": {
                            "outlinewidth": 0,
                            "ticks": ""
                          }
                        },
                        "type": "scattergeo"
                      }
                    ],
                    "scattergl": [
                      {
                        "marker": {
                          "colorbar": {
                            "outlinewidth": 0,
                            "ticks": ""
                          }
                        },
                        "type": "scattergl"
                      }
                    ],
                    "scattermap": [
                      {
                        "marker": {
                          "colorbar": {
                            "outlinewidth": 0,
                            "ticks": ""
                          }
                        },
                        "type": "scattermap"
                      }
                    ],
                    "scattermapbox": [
                      {
                        "marker": {
                          "colorbar": {
                            "outlinewidth": 0,
                            "ticks": ""
                          }
                        },
                        "type": "scattermapbox"
                      }
                    ],
                    "scatterpolar": [
                      {
                        "marker": {
                          "colorbar": {
                            "outlinewidth": 0,
                            "ticks": ""
                          }
                        },
                        "type": "scatterpolar"
                      }
                    ],
                    "scatterpolargl": [
                      {
                        "marker": {
                          "colorbar": {
                            "outlinewidth": 0,
                            "ticks": ""
                          }
                        },
                        "type": "scatterpolargl"
                      }
                    ],
                    "scatterternary": [
                      {
                        "marker": {
                          "colorbar": {
                            "outlinewidth": 0,
                            "ticks": ""
                          }
                        },
                        "type": "scatterternary"
                      }
                    ],
                    "surface": [
                      {
                        "colorbar": {
                          "outlinewidth": 0,
                          "ticks": ""
                        },
                        "colorscale": [
                          [
                            0,
                            "#0d0887"
                          ],
                          [
                            0.1111111111111111,
                            "#46039f"
                          ],
                          [
                            0.2222222222222222,
                            "#7201a8"
                          ],
                          [
                            0.3333333333333333,
                            "#9c179e"
                          ],
                          [
                            0.4444444444444444,
                            "#bd3786"
                          ],
                          [
                            0.5555555555555556,
                            "#d8576b"
                          ],
                          [
                            0.6666666666666666,
                            "#ed7953"
                          ],
                          [
                            0.7777777777777778,
                            "#fb9f3a"
                          ],
                          [
                            0.8888888888888888,
                            "#fdca26"
                          ],
                          [
                            1,
                            "#f0f921"
                          ]
                        ],
                        "type": "surface"
                      }
                    ],
                    "table": [
                      {
                        "cells": {
                          "fill": {
                            "color": "#EBF0F8"
                          },
                          "line": {
                            "color": "white"
                          }
                        },
                        "header": {
                          "fill": {
                            "color": "#C8D4E3"
                          },
                          "line": {
                            "color": "white"
                          }
                        },
                        "type": "table"
                      }
                    ]
                  },
                  "layout": {
                    "annotationdefaults": {
                      "arrowcolor": "#2a3f5f",
                      "arrowhead": 0,
                      "arrowwidth": 1
                    },
                    "autotypenumbers": "strict",
                    "coloraxis": {
                      "colorbar": {
                        "outlinewidth": 0,
                        "ticks": ""
                      }
                    },
                    "colorscale": {
                      "diverging": [
                        [
                          0,
                          "#8e0152"
                        ],
                        [
                          0.1,
                          "#c51b7d"
                        ],
                        [
                          0.2,
                          "#de77ae"
                        ],
                        [
                          0.3,
                          "#f1b6da"
                        ],
                        [
                          0.4,
                          "#fde0ef"
                        ],
                        [
                          0.5,
                          "#f7f7f7"
                        ],
                        [
                          0.6,
                          "#e6f5d0"
                        ],
                        [
                          0.7,
                          "#b8e186"
                        ],
                        [
                          0.8,
                          "#7fbc41"
                        ],
                        [
                          0.9,
                          "#4d9221"
                        ],
                        [
                          1,
                          "#276419"
                        ]
                      ],
                      "sequential": [
                        [
                          0,
                          "#0d0887"
                        ],
                        [
                          0.1111111111111111,
                          "#46039f"
                        ],
                        [
                          0.2222222222222222,
                          "#7201a8"
                        ],
                        [
                          0.3333333333333333,
                          "#9c179e"
                        ],
                        [
                          0.4444444444444444,
                          "#bd3786"
                        ],
                        [
                          0.5555555555555556,
                          "#d8576b"
                        ],
                        [
                          0.6666666666666666,
                          "#ed7953"
                        ],
                        [
                          0.7777777777777778,
                          "#fb9f3a"
                        ],
                        [
                          0.8888888888888888,
                          "#fdca26"
                        ],
                        [
                          1,
                          "#f0f921"
                        ]
                      ],
                      "sequentialminus": [
                        [
                          0,
                          "#0d0887"
                        ],
                        [
                          0.1111111111111111,
                          "#46039f"
                        ],
                        [
                          0.2222222222222222,
                          "#7201a8"
                        ],
                        [
                          0.3333333333333333,
                          "#9c179e"
                        ],
                        [
                          0.4444444444444444,
                          "#bd3786"
                        ],
                        [
                          0.5555555555555556,
                          "#d8576b"
                        ],
                        [
                          0.6666666666666666,
                          "#ed7953"
                        ],
                        [
                          0.7777777777777778,
                          "#fb9f3a"
                        ],
                        [
                          0.8888888888888888,
                          "#fdca26"
                        ],
                        [
                          1,
                          "#f0f921"
                        ]
                      ]
                    },
                    "colorway": [
                      "#636efa",
                      "#EF553B",
                      "#00cc96",
                      "#ab63fa",
                      "#FFA15A",
                      "#19d3f3",
                      "#FF6692",
                      "#B6E880",
                      "#FF97FF",
                      "#FECB52"
                    ],
                    "font": {
                      "color": "#2a3f5f"
                    },
                    "geo": {
                      "bgcolor": "white",
                      "lakecolor": "white",
                      "landcolor": "#E5ECF6",
                      "showlakes": true,
                      "showland": true,
                      "subunitcolor": "white"
                    },
                    "hoverlabel": {
                      "align": "left"
                    },
                    "hovermode": "closest",
                    "mapbox": {
                      "style": "light"
                    },
                    "paper_bgcolor": "white",
                    "plot_bgcolor": "#E5ECF6",
                    "polar": {
                      "angularaxis": {
                        "gridcolor": "white",
                        "linecolor": "white",
                        "ticks": ""
                      },
                      "bgcolor": "#E5ECF6",
                      "radialaxis": {
                        "gridcolor": "white",
                        "linecolor": "white",
                        "ticks": ""
                      }
                    },
                    "scene": {
                      "xaxis": {
                        "backgroundcolor": "#E5ECF6",
                        "gridcolor": "white",
                        "gridwidth": 2,
                        "linecolor": "white",
                        "showbackground": true,
                        "ticks": "",
                        "zerolinecolor": "white"
                      },
                      "yaxis": {
                        "backgroundcolor": "#E5ECF6",
                        "gridcolor": "white",
                        "gridwidth": 2,
                        "linecolor": "white",
                        "showbackground": true,
                        "ticks": "",
                        "zerolinecolor": "white"
                      },
                      "zaxis": {
                        "backgroundcolor": "#E5ECF6",
                        "gridcolor": "white",
                        "gridwidth": 2,
                        "linecolor": "white",
                        "showbackground": true,
                        "ticks": "",
                        "zerolinecolor": "white"
                      }
                    },
                    "shapedefaults": {
                      "line": {
                        "color": "#2a3f5f"
                      }
                    },
                    "ternary": {
                      "aaxis": {
                        "gridcolor": "white",
                        "linecolor": "white",
                        "ticks": ""
                      },
                      "baxis": {
                        "gridcolor": "white",
                        "linecolor": "white",
                        "ticks": ""
                      },
                      "bgcolor": "#E5ECF6",
                      "caxis": {
                        "gridcolor": "white",
                        "linecolor": "white",
                        "ticks": ""
                      }
                    },
                    "title": {
                      "x": 0.05
                    },
                    "xaxis": {
                      "automargin": true,
                      "gridcolor": "white",
                      "linecolor": "white",
                      "ticks": "",
                      "title": {
                        "standoff": 15
                      },
                      "zerolinecolor": "white",
                      "zerolinewidth": 2
                    },
                    "yaxis": {
                      "automargin": true,
                      "gridcolor": "white",
                      "linecolor": "white",
                      "ticks": "",
                      "title": {
                        "standoff": 15
                      },
                      "zerolinecolor": "white",
                      "zerolinewidth": 2
                    }
                  }
                },
                "xaxis": {
                  "anchor": "y",
                  "domain": [
                    0,
                    0.45
                  ]
                },
                "xaxis2": {
                  "anchor": "y2",
                  "domain": [
                    0.55,
                    1
                  ]
                },
                "xaxis3": {
                  "anchor": "y3",
                  "domain": [
                    0,
                    0.45
                  ]
                },
                "xaxis4": {
                  "anchor": "y4",
                  "domain": [
                    0.55,
                    1
                  ]
                },
                "yaxis": {
                  "anchor": "x",
                  "domain": [
                    0.575,
                    1
                  ]
                },
                "yaxis2": {
                  "anchor": "x2",
                  "domain": [
                    0.575,
                    1
                  ]
                },
                "yaxis3": {
                  "anchor": "x3",
                  "domain": [
                    0,
                    0.425
                  ]
                },
                "yaxis4": {
                  "anchor": "x4",
                  "domain": [
                    0,
                    0.425
                  ]
                }
              }
            }
          },
          "metadata": {},
          "output_type": "display_data"
        }
      ],
      "source": [
        "# Увеличение высоты изображения\n",
        "fig.update_layout(height=720)\n",
        "\n",
        "# Функция для обновления всех графиков\n",
        "fig.for_each_trace(\n",
        "    lambda trace: trace.update(\n",
        "        line={\n",
        "            'width': 5 if trace.name in ['sin_11', 'cos_11'] else None,\n",
        "            'dash': 'dash' if trace.mode == 'lines' and '+' not in trace.mode else None,\n",
        "            'color': 'blue' if 'sin' in trace.name else \n",
        "                    'red' if 'cos' in trace.name and 'circle' not in trace.name else\n",
        "                    'purple' if 'circle' in trace.name else None\n",
        "        },\n",
        "        marker={\n",
        "            'symbol': 'diamond' if trace.name.endswith('12') or trace.name.endswith('22') else None,\n",
        "            'color': 'blue' if 'sin' in trace.name and 'markers' in trace.mode else\n",
        "                    'red' if 'cos' in trace.name and 'markers' in trace.mode and 'circle' not in trace.name else\n",
        "                    'purple' if 'circle' in trace.name and 'markers' in trace.mode else None\n",
        "        }\n",
        "    )\n",
        ")"
      ]
    },
    {
      "cell_type": "markdown",
      "id": "i07Hc1WetHMq",
      "metadata": {
        "id": "i07Hc1WetHMq"
      },
      "source": [
        "Выведите результат:"
      ]
    },
    {
      "cell_type": "markdown",
      "id": "1718c438",
      "metadata": {
        "id": "1718c438"
      },
      "source": [
        "# Задание 3"
      ]
    },
    {
      "cell_type": "markdown",
      "id": "gKpCLTvst8WH",
      "metadata": {
        "id": "gKpCLTvst8WH"
      },
      "source": [
        "Загружаем данные по чаевым и смотрим на них:"
      ]
    },
    {
      "cell_type": "markdown",
      "id": "fb347b48",
      "metadata": {
        "id": "fb347b48"
      },
      "source": [
        "В этом задании для данных, загруженных выше, постройте аналог той двумерной сглаженной гистограммы, что мы строили в теме \"Seaborn\", используя plotly.express.\n",
        "Найдите документацию для построения контурного графика в Plotly [здесь](https://plotly.com/python/statistical-charts/).\n",
        "После того, как нужная документация найдена, постройте 2D сглаженную гистограмму по следующим правилам:\n",
        "\n",
        "1. Используйте поле \"total bill\" по оси х, а по оси у - поле \"tip\" таблицы data\n",
        "2. Добавьте название к графику\n",
        "3. Обязательно используйте заливку между линиями уровня, чтобы получилась двумерная гистограмма, а не просто контурный график (как это сделать, написано в найденной документации)\n",
        "4. Используйте цветовую шкалу (colorscale) \"hot\"\n",
        "5. Количество уровней (равное количеству контуров) - 50\n",
        "6. Сами линии уровня, или контуры, на графике не должны быть видны (для этого достаточно уменьшить их ширину до нуля)\n",
        "    \n",
        "**Важно!**\n",
        "\n",
        "Использовать можно только функции модуля *plotly.express* (px), функции и объекты из *plotly.graph_objects* (go) использовать **запрещено!** Если какие-то параметры недоступны в plotly.express, но они необходимы для выполнения задания, то можно найти их [тут](https://plotly.github.io/plotly.py-docs/generated/plotly.graph_objects.Histogram2dContour.html), а затем применить их, используя хорошо знакомый нам метод *update_traces* полученного объекта fig."
      ]
    },
    {
      "cell_type": "code",
      "execution_count": 100,
      "id": "242858b7",
      "metadata": {
        "colab": {
          "base_uri": "https://localhost:8080/",
          "height": 167
        },
        "id": "242858b7",
        "outputId": "d4581e37-9689-4c9a-da39-2141a23d3461"
      },
      "outputs": [
        {
          "data": {
            "text/html": [
              "<div>\n",
              "<style scoped>\n",
              "    .dataframe tbody tr th:only-of-type {\n",
              "        vertical-align: middle;\n",
              "    }\n",
              "\n",
              "    .dataframe tbody tr th {\n",
              "        vertical-align: top;\n",
              "    }\n",
              "\n",
              "    .dataframe thead th {\n",
              "        text-align: right;\n",
              "    }\n",
              "</style>\n",
              "<table border=\"1\" class=\"dataframe\">\n",
              "  <thead>\n",
              "    <tr style=\"text-align: right;\">\n",
              "      <th></th>\n",
              "      <th>total_bill</th>\n",
              "      <th>tip</th>\n",
              "      <th>sex</th>\n",
              "      <th>smoker</th>\n",
              "      <th>day</th>\n",
              "      <th>time</th>\n",
              "      <th>size</th>\n",
              "    </tr>\n",
              "  </thead>\n",
              "  <tbody>\n",
              "    <tr>\n",
              "      <th>0</th>\n",
              "      <td>16.99</td>\n",
              "      <td>1.01</td>\n",
              "      <td>Female</td>\n",
              "      <td>No</td>\n",
              "      <td>Sun</td>\n",
              "      <td>Dinner</td>\n",
              "      <td>2</td>\n",
              "    </tr>\n",
              "    <tr>\n",
              "      <th>1</th>\n",
              "      <td>10.34</td>\n",
              "      <td>1.66</td>\n",
              "      <td>Male</td>\n",
              "      <td>No</td>\n",
              "      <td>Sun</td>\n",
              "      <td>Dinner</td>\n",
              "      <td>3</td>\n",
              "    </tr>\n",
              "    <tr>\n",
              "      <th>2</th>\n",
              "      <td>21.01</td>\n",
              "      <td>3.50</td>\n",
              "      <td>Male</td>\n",
              "      <td>No</td>\n",
              "      <td>Sun</td>\n",
              "      <td>Dinner</td>\n",
              "      <td>3</td>\n",
              "    </tr>\n",
              "    <tr>\n",
              "      <th>3</th>\n",
              "      <td>23.68</td>\n",
              "      <td>3.31</td>\n",
              "      <td>Male</td>\n",
              "      <td>No</td>\n",
              "      <td>Sun</td>\n",
              "      <td>Dinner</td>\n",
              "      <td>2</td>\n",
              "    </tr>\n",
              "    <tr>\n",
              "      <th>4</th>\n",
              "      <td>24.59</td>\n",
              "      <td>3.61</td>\n",
              "      <td>Female</td>\n",
              "      <td>No</td>\n",
              "      <td>Sun</td>\n",
              "      <td>Dinner</td>\n",
              "      <td>4</td>\n",
              "    </tr>\n",
              "  </tbody>\n",
              "</table>\n",
              "</div>"
            ],
            "text/plain": [
              "   total_bill   tip     sex smoker  day    time  size\n",
              "0       16.99  1.01  Female     No  Sun  Dinner     2\n",
              "1       10.34  1.66    Male     No  Sun  Dinner     3\n",
              "2       21.01  3.50    Male     No  Sun  Dinner     3\n",
              "3       23.68  3.31    Male     No  Sun  Dinner     2\n",
              "4       24.59  3.61  Female     No  Sun  Dinner     4"
            ]
          },
          "execution_count": 100,
          "metadata": {},
          "output_type": "execute_result"
        }
      ],
      "source": [
        "data = px.data.tips()\n",
        "data.head()"
      ]
    },
    {
      "cell_type": "code",
      "execution_count": 101,
      "id": "OLJWV1A0v9r-",
      "metadata": {
        "id": "OLJWV1A0v9r-"
      },
      "outputs": [
        {
          "data": {
            "application/vnd.plotly.v1+json": {
              "config": {
                "plotlyServerURL": "https://plot.ly"
              },
              "data": [
                {
                  "colorscale": [
                    [
                      0,
                      "rgb(0,0,0)"
                    ],
                    [
                      0.3333333333333333,
                      "rgb(230,0,0)"
                    ],
                    [
                      0.6666666666666666,
                      "rgb(255,210,0)"
                    ],
                    [
                      1,
                      "rgb(255,255,255)"
                    ]
                  ],
                  "contours": {
                    "coloring": "fill",
                    "showlines": false
                  },
                  "hovertemplate": "total_bill=%{x}<br>tip=%{y}<br>count=%{z}<extra></extra>",
                  "legendgroup": "",
                  "line": {
                    "color": "#636efa",
                    "width": 0
                  },
                  "name": "",
                  "ncontours": 50,
                  "showlegend": false,
                  "type": "histogram2dcontour",
                  "x": {
                    "bdata": "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",
                    "dtype": "f8"
                  },
                  "xaxis": "x",
                  "xbingroup": "x",
                  "y": {
                    "bdata": "KVyPwvUo8D+PwvUoXI/6PwAAAAAAAAxAexSuR+F6CkDhehSuR+EMQNejcD0K1xJAAAAAAAAAAED2KFyPwvUIQFyPwvUoXP8/16NwPQrXCUBcj8L1KFz7PwAAAAAAABRAH4XrUbge+T8AAAAAAAAIQClcj8L1KAhAXI/C9ShcD0C4HoXrUbj6P65H4XoUrg1AAAAAAAAADEDNzMzMzMwKQFK4HoXrURBAAAAAAAAABkDXo3A9CtcBQFK4HoXrUR5AcT0K16NwCUC4HoXrUbgCQAAAAAAAAABAAAAAAAAAAEAzMzMzMzMRQAAAAAAAAAhAMzMzMzMz9z8AAAAAAAAEQAAAAAAAAAhAmpmZmZmZA0ApXI/C9SgKQM3MzMzMzAxAAAAAAAAAAECPwvUoXI8IQHsUrkfhegJAAAAAAAAAFEDsUbgehesBQFK4HoXrUQRAexSuR+F6CEAfhetRuB71P2ZmZmZmZhZAAAAAAAAACEAAAAAAAAAUQAAAAAAAABhAZmZmZmZmAEAAAAAAAAAIQAAAAAAAAARAzczMzMzMBEDNzMzMzMwUQPYoXI/C9fg/XI/C9ShcEUAUrkfhehQMQAAAAAAAAAhAAAAAAAAA+D8pXI/C9Sj8P+xRuB6F6xpArkfhehSuCUAAAAAAAAAAQK5H4XoUrv8/FK5H4XoUDkAfhetRuB4FQDMzMzMzMwlAw/UoXI/CA0AAAAAAAADwPxSuR+F6FABAuB6F61G4AECF61G4HoX/PwAAAAAAAAhAH4XrUbgeCUAAAAAAAAAUQJqZmZmZmQFAAAAAAAAA9D+kcD0K16MIQAAAAAAAABBAAAAAAAAACECuR+F6FK4FQAAAAAAAAAhAMzMzMzMzC0BI4XoUrkf9PwAAAAAAABRAPQrXo3A9AECuR+F6FK4UQAAAAAAAAABAAAAAAAAAEEBmZmZmZmYXQAAAAAAAAAhAAAAAAAAACEAAAAAAAAAMQAAAAAAAAPA/MzMzMzMzEUAAAAAAAAAKQOxRuB6F6xJAAAAAAAAAEEAAAAAAAAD4PwAAAAAAAAhAAAAAAAAA+D8AAAAAAAAEQAAAAAAAAAhAAAAAAAAABEDXo3A9CtcLQFK4HoXrURBAPQrXo3A9+j89CtejcD0QQClcj8L1KBFAFK5H4XoUDkAAAAAAAAAQQAAAAAAAAAhAAAAAAAAA8D8AAAAAAAAQQGZmZmZmZgRAAAAAAAAAEEAAAAAAAAAMQEjhehSuRxRAAAAAAAAA+D/NzMzMzMz8P1yPwvUoXAdAexSuR+F6AkDhehSuR+H6PwAAAAAAAARAAAAAAAAAAEApXI/C9SgEQM3MzMzMzBBArkfhehSu9z8AAAAAAAAAQAAAAAAAAABAcT0K16NwAUAAAAAAAAD4P6RwPQrXowZAAAAAAAAA+D8AAAAAAAAAQAAAAAAAAApAAAAAAAAA9D8AAAAAAAAAQAAAAAAAAABAAAAAAAAAAEAAAAAAAAAGQAAAAAAAAAxAzczMzMzMGkAAAAAAAAAUQAAAAAAAABRAZmZmZmZmAkAAAAAAAAD4P8P1KFyPwvU/FK5H4XoU+j+uR+F6FK77PwAAAAAAAABAAAAAAAAABEAAAAAAAAAAQOxRuB6F6wVAAAAAAAAAAEAAAAAAAAAAQI/C9ShcjxRAAAAAAAAAFEAAAAAAAAAOQOF6FK5H4QRAAAAAAAAAAEAAAAAAAAAMQAAAAAAAAARAAAAAAAAAAEAAAAAAAAAAQAAAAAAAAAhA16NwPQrXC0DsUbgehesBQAAAAAAAABJAw/UoXI/C+T8AAAAAAAAAQAAAAAAAACRASOF6FK5HCUCamZmZmZkUQHE9CtejcAlAAAAAAAAAEEDhehSuR+EIQAAAAAAAAABAAAAAAAAAAEAAAAAAAAAQQGZmZmZmZgxAcT0K16NwDUCamZmZmZkWQAAAAAAAAAxAAAAAAAAAGkAAAAAAAAAIQAAAAAAAABRAAAAAAAAADEAAAAAAAAAAQAAAAAAAAAxAAAAAAAAAEEAAAAAAAAD4P8P1KFyPwhBAexSuR+F6BEApXI/C9SgAQAAAAAAAABBACtejcD0K9z8AAAAAAAAAQAAAAAAAABRAAAAAAAAAAEAAAAAAAAAAQAAAAAAAABBAFK5H4XoUAEAAAAAAAAAAQAAAAAAAAARAAAAAAAAAEEDXo3A9CtcJQEjhehSuRwtAAAAAAAAACEA9CtejcD0AQNejcD0K1wFAAAAAAAAAAECkcD0K16MUQAAAAAAAACJAAAAAAAAABEAAAAAAAAAaQJqZmZmZmfE/AAAAAAAACEAAAAAAAAD4PwrXo3A9Cvc/uB6F61G4CECamZmZmZkBQNejcD0K1wtAuB6F61G4/j8AAAAAAAAIQEjhehSuR/k/AAAAAAAABEAAAAAAAAAAQAAAAAAAAAhAw/UoXI/CBUAK16NwPQoHQAAAAAAAAABAAAAAAAAACEAfhetRuB4LQIXrUbgehfc/AAAAAAAACEAAAAAAAAD0PwAAAAAAAPA/uB6F61G48j+uR+F6FK4SQK5H4XoUrhdAAAAAAAAAAEAAAAAAAAAAQAAAAAAAAPw/AAAAAAAACEA=",
                    "dtype": "f8"
                  },
                  "yaxis": "y",
                  "ybingroup": "y"
                }
              ],
              "layout": {
                "legend": {
                  "tracegroupgap": 0
                },
                "template": {
                  "data": {
                    "bar": [
                      {
                        "error_x": {
                          "color": "#2a3f5f"
                        },
                        "error_y": {
                          "color": "#2a3f5f"
                        },
                        "marker": {
                          "line": {
                            "color": "#E5ECF6",
                            "width": 0.5
                          },
                          "pattern": {
                            "fillmode": "overlay",
                            "size": 10,
                            "solidity": 0.2
                          }
                        },
                        "type": "bar"
                      }
                    ],
                    "barpolar": [
                      {
                        "marker": {
                          "line": {
                            "color": "#E5ECF6",
                            "width": 0.5
                          },
                          "pattern": {
                            "fillmode": "overlay",
                            "size": 10,
                            "solidity": 0.2
                          }
                        },
                        "type": "barpolar"
                      }
                    ],
                    "carpet": [
                      {
                        "aaxis": {
                          "endlinecolor": "#2a3f5f",
                          "gridcolor": "white",
                          "linecolor": "white",
                          "minorgridcolor": "white",
                          "startlinecolor": "#2a3f5f"
                        },
                        "baxis": {
                          "endlinecolor": "#2a3f5f",
                          "gridcolor": "white",
                          "linecolor": "white",
                          "minorgridcolor": "white",
                          "startlinecolor": "#2a3f5f"
                        },
                        "type": "carpet"
                      }
                    ],
                    "choropleth": [
                      {
                        "colorbar": {
                          "outlinewidth": 0,
                          "ticks": ""
                        },
                        "type": "choropleth"
                      }
                    ],
                    "contour": [
                      {
                        "colorbar": {
                          "outlinewidth": 0,
                          "ticks": ""
                        },
                        "colorscale": [
                          [
                            0,
                            "#0d0887"
                          ],
                          [
                            0.1111111111111111,
                            "#46039f"
                          ],
                          [
                            0.2222222222222222,
                            "#7201a8"
                          ],
                          [
                            0.3333333333333333,
                            "#9c179e"
                          ],
                          [
                            0.4444444444444444,
                            "#bd3786"
                          ],
                          [
                            0.5555555555555556,
                            "#d8576b"
                          ],
                          [
                            0.6666666666666666,
                            "#ed7953"
                          ],
                          [
                            0.7777777777777778,
                            "#fb9f3a"
                          ],
                          [
                            0.8888888888888888,
                            "#fdca26"
                          ],
                          [
                            1,
                            "#f0f921"
                          ]
                        ],
                        "type": "contour"
                      }
                    ],
                    "contourcarpet": [
                      {
                        "colorbar": {
                          "outlinewidth": 0,
                          "ticks": ""
                        },
                        "type": "contourcarpet"
                      }
                    ],
                    "heatmap": [
                      {
                        "colorbar": {
                          "outlinewidth": 0,
                          "ticks": ""
                        },
                        "colorscale": [
                          [
                            0,
                            "#0d0887"
                          ],
                          [
                            0.1111111111111111,
                            "#46039f"
                          ],
                          [
                            0.2222222222222222,
                            "#7201a8"
                          ],
                          [
                            0.3333333333333333,
                            "#9c179e"
                          ],
                          [
                            0.4444444444444444,
                            "#bd3786"
                          ],
                          [
                            0.5555555555555556,
                            "#d8576b"
                          ],
                          [
                            0.6666666666666666,
                            "#ed7953"
                          ],
                          [
                            0.7777777777777778,
                            "#fb9f3a"
                          ],
                          [
                            0.8888888888888888,
                            "#fdca26"
                          ],
                          [
                            1,
                            "#f0f921"
                          ]
                        ],
                        "type": "heatmap"
                      }
                    ],
                    "histogram": [
                      {
                        "marker": {
                          "pattern": {
                            "fillmode": "overlay",
                            "size": 10,
                            "solidity": 0.2
                          }
                        },
                        "type": "histogram"
                      }
                    ],
                    "histogram2d": [
                      {
                        "colorbar": {
                          "outlinewidth": 0,
                          "ticks": ""
                        },
                        "colorscale": [
                          [
                            0,
                            "#0d0887"
                          ],
                          [
                            0.1111111111111111,
                            "#46039f"
                          ],
                          [
                            0.2222222222222222,
                            "#7201a8"
                          ],
                          [
                            0.3333333333333333,
                            "#9c179e"
                          ],
                          [
                            0.4444444444444444,
                            "#bd3786"
                          ],
                          [
                            0.5555555555555556,
                            "#d8576b"
                          ],
                          [
                            0.6666666666666666,
                            "#ed7953"
                          ],
                          [
                            0.7777777777777778,
                            "#fb9f3a"
                          ],
                          [
                            0.8888888888888888,
                            "#fdca26"
                          ],
                          [
                            1,
                            "#f0f921"
                          ]
                        ],
                        "type": "histogram2d"
                      }
                    ],
                    "histogram2dcontour": [
                      {
                        "colorbar": {
                          "outlinewidth": 0,
                          "ticks": ""
                        },
                        "colorscale": [
                          [
                            0,
                            "#0d0887"
                          ],
                          [
                            0.1111111111111111,
                            "#46039f"
                          ],
                          [
                            0.2222222222222222,
                            "#7201a8"
                          ],
                          [
                            0.3333333333333333,
                            "#9c179e"
                          ],
                          [
                            0.4444444444444444,
                            "#bd3786"
                          ],
                          [
                            0.5555555555555556,
                            "#d8576b"
                          ],
                          [
                            0.6666666666666666,
                            "#ed7953"
                          ],
                          [
                            0.7777777777777778,
                            "#fb9f3a"
                          ],
                          [
                            0.8888888888888888,
                            "#fdca26"
                          ],
                          [
                            1,
                            "#f0f921"
                          ]
                        ],
                        "type": "histogram2dcontour"
                      }
                    ],
                    "mesh3d": [
                      {
                        "colorbar": {
                          "outlinewidth": 0,
                          "ticks": ""
                        },
                        "type": "mesh3d"
                      }
                    ],
                    "parcoords": [
                      {
                        "line": {
                          "colorbar": {
                            "outlinewidth": 0,
                            "ticks": ""
                          }
                        },
                        "type": "parcoords"
                      }
                    ],
                    "pie": [
                      {
                        "automargin": true,
                        "type": "pie"
                      }
                    ],
                    "scatter": [
                      {
                        "fillpattern": {
                          "fillmode": "overlay",
                          "size": 10,
                          "solidity": 0.2
                        },
                        "type": "scatter"
                      }
                    ],
                    "scatter3d": [
                      {
                        "line": {
                          "colorbar": {
                            "outlinewidth": 0,
                            "ticks": ""
                          }
                        },
                        "marker": {
                          "colorbar": {
                            "outlinewidth": 0,
                            "ticks": ""
                          }
                        },
                        "type": "scatter3d"
                      }
                    ],
                    "scattercarpet": [
                      {
                        "marker": {
                          "colorbar": {
                            "outlinewidth": 0,
                            "ticks": ""
                          }
                        },
                        "type": "scattercarpet"
                      }
                    ],
                    "scattergeo": [
                      {
                        "marker": {
                          "colorbar": {
                            "outlinewidth": 0,
                            "ticks": ""
                          }
                        },
                        "type": "scattergeo"
                      }
                    ],
                    "scattergl": [
                      {
                        "marker": {
                          "colorbar": {
                            "outlinewidth": 0,
                            "ticks": ""
                          }
                        },
                        "type": "scattergl"
                      }
                    ],
                    "scattermap": [
                      {
                        "marker": {
                          "colorbar": {
                            "outlinewidth": 0,
                            "ticks": ""
                          }
                        },
                        "type": "scattermap"
                      }
                    ],
                    "scattermapbox": [
                      {
                        "marker": {
                          "colorbar": {
                            "outlinewidth": 0,
                            "ticks": ""
                          }
                        },
                        "type": "scattermapbox"
                      }
                    ],
                    "scatterpolar": [
                      {
                        "marker": {
                          "colorbar": {
                            "outlinewidth": 0,
                            "ticks": ""
                          }
                        },
                        "type": "scatterpolar"
                      }
                    ],
                    "scatterpolargl": [
                      {
                        "marker": {
                          "colorbar": {
                            "outlinewidth": 0,
                            "ticks": ""
                          }
                        },
                        "type": "scatterpolargl"
                      }
                    ],
                    "scatterternary": [
                      {
                        "marker": {
                          "colorbar": {
                            "outlinewidth": 0,
                            "ticks": ""
                          }
                        },
                        "type": "scatterternary"
                      }
                    ],
                    "surface": [
                      {
                        "colorbar": {
                          "outlinewidth": 0,
                          "ticks": ""
                        },
                        "colorscale": [
                          [
                            0,
                            "#0d0887"
                          ],
                          [
                            0.1111111111111111,
                            "#46039f"
                          ],
                          [
                            0.2222222222222222,
                            "#7201a8"
                          ],
                          [
                            0.3333333333333333,
                            "#9c179e"
                          ],
                          [
                            0.4444444444444444,
                            "#bd3786"
                          ],
                          [
                            0.5555555555555556,
                            "#d8576b"
                          ],
                          [
                            0.6666666666666666,
                            "#ed7953"
                          ],
                          [
                            0.7777777777777778,
                            "#fb9f3a"
                          ],
                          [
                            0.8888888888888888,
                            "#fdca26"
                          ],
                          [
                            1,
                            "#f0f921"
                          ]
                        ],
                        "type": "surface"
                      }
                    ],
                    "table": [
                      {
                        "cells": {
                          "fill": {
                            "color": "#EBF0F8"
                          },
                          "line": {
                            "color": "white"
                          }
                        },
                        "header": {
                          "fill": {
                            "color": "#C8D4E3"
                          },
                          "line": {
                            "color": "white"
                          }
                        },
                        "type": "table"
                      }
                    ]
                  },
                  "layout": {
                    "annotationdefaults": {
                      "arrowcolor": "#2a3f5f",
                      "arrowhead": 0,
                      "arrowwidth": 1
                    },
                    "autotypenumbers": "strict",
                    "coloraxis": {
                      "colorbar": {
                        "outlinewidth": 0,
                        "ticks": ""
                      }
                    },
                    "colorscale": {
                      "diverging": [
                        [
                          0,
                          "#8e0152"
                        ],
                        [
                          0.1,
                          "#c51b7d"
                        ],
                        [
                          0.2,
                          "#de77ae"
                        ],
                        [
                          0.3,
                          "#f1b6da"
                        ],
                        [
                          0.4,
                          "#fde0ef"
                        ],
                        [
                          0.5,
                          "#f7f7f7"
                        ],
                        [
                          0.6,
                          "#e6f5d0"
                        ],
                        [
                          0.7,
                          "#b8e186"
                        ],
                        [
                          0.8,
                          "#7fbc41"
                        ],
                        [
                          0.9,
                          "#4d9221"
                        ],
                        [
                          1,
                          "#276419"
                        ]
                      ],
                      "sequential": [
                        [
                          0,
                          "#0d0887"
                        ],
                        [
                          0.1111111111111111,
                          "#46039f"
                        ],
                        [
                          0.2222222222222222,
                          "#7201a8"
                        ],
                        [
                          0.3333333333333333,
                          "#9c179e"
                        ],
                        [
                          0.4444444444444444,
                          "#bd3786"
                        ],
                        [
                          0.5555555555555556,
                          "#d8576b"
                        ],
                        [
                          0.6666666666666666,
                          "#ed7953"
                        ],
                        [
                          0.7777777777777778,
                          "#fb9f3a"
                        ],
                        [
                          0.8888888888888888,
                          "#fdca26"
                        ],
                        [
                          1,
                          "#f0f921"
                        ]
                      ],
                      "sequentialminus": [
                        [
                          0,
                          "#0d0887"
                        ],
                        [
                          0.1111111111111111,
                          "#46039f"
                        ],
                        [
                          0.2222222222222222,
                          "#7201a8"
                        ],
                        [
                          0.3333333333333333,
                          "#9c179e"
                        ],
                        [
                          0.4444444444444444,
                          "#bd3786"
                        ],
                        [
                          0.5555555555555556,
                          "#d8576b"
                        ],
                        [
                          0.6666666666666666,
                          "#ed7953"
                        ],
                        [
                          0.7777777777777778,
                          "#fb9f3a"
                        ],
                        [
                          0.8888888888888888,
                          "#fdca26"
                        ],
                        [
                          1,
                          "#f0f921"
                        ]
                      ]
                    },
                    "colorway": [
                      "#636efa",
                      "#EF553B",
                      "#00cc96",
                      "#ab63fa",
                      "#FFA15A",
                      "#19d3f3",
                      "#FF6692",
                      "#B6E880",
                      "#FF97FF",
                      "#FECB52"
                    ],
                    "font": {
                      "color": "#2a3f5f"
                    },
                    "geo": {
                      "bgcolor": "white",
                      "lakecolor": "white",
                      "landcolor": "#E5ECF6",
                      "showlakes": true,
                      "showland": true,
                      "subunitcolor": "white"
                    },
                    "hoverlabel": {
                      "align": "left"
                    },
                    "hovermode": "closest",
                    "mapbox": {
                      "style": "light"
                    },
                    "paper_bgcolor": "white",
                    "plot_bgcolor": "#E5ECF6",
                    "polar": {
                      "angularaxis": {
                        "gridcolor": "white",
                        "linecolor": "white",
                        "ticks": ""
                      },
                      "bgcolor": "#E5ECF6",
                      "radialaxis": {
                        "gridcolor": "white",
                        "linecolor": "white",
                        "ticks": ""
                      }
                    },
                    "scene": {
                      "xaxis": {
                        "backgroundcolor": "#E5ECF6",
                        "gridcolor": "white",
                        "gridwidth": 2,
                        "linecolor": "white",
                        "showbackground": true,
                        "ticks": "",
                        "zerolinecolor": "white"
                      },
                      "yaxis": {
                        "backgroundcolor": "#E5ECF6",
                        "gridcolor": "white",
                        "gridwidth": 2,
                        "linecolor": "white",
                        "showbackground": true,
                        "ticks": "",
                        "zerolinecolor": "white"
                      },
                      "zaxis": {
                        "backgroundcolor": "#E5ECF6",
                        "gridcolor": "white",
                        "gridwidth": 2,
                        "linecolor": "white",
                        "showbackground": true,
                        "ticks": "",
                        "zerolinecolor": "white"
                      }
                    },
                    "shapedefaults": {
                      "line": {
                        "color": "#2a3f5f"
                      }
                    },
                    "ternary": {
                      "aaxis": {
                        "gridcolor": "white",
                        "linecolor": "white",
                        "ticks": ""
                      },
                      "baxis": {
                        "gridcolor": "white",
                        "linecolor": "white",
                        "ticks": ""
                      },
                      "bgcolor": "#E5ECF6",
                      "caxis": {
                        "gridcolor": "white",
                        "linecolor": "white",
                        "ticks": ""
                      }
                    },
                    "title": {
                      "x": 0.05
                    },
                    "xaxis": {
                      "automargin": true,
                      "gridcolor": "white",
                      "linecolor": "white",
                      "ticks": "",
                      "title": {
                        "standoff": 15
                      },
                      "zerolinecolor": "white",
                      "zerolinewidth": 2
                    },
                    "yaxis": {
                      "automargin": true,
                      "gridcolor": "white",
                      "linecolor": "white",
                      "ticks": "",
                      "title": {
                        "standoff": 15
                      },
                      "zerolinecolor": "white",
                      "zerolinewidth": 2
                    }
                  }
                },
                "title": {
                  "text": "Распределение чаевых в зависимости от суммы счета"
                },
                "xaxis": {
                  "anchor": "y",
                  "domain": [
                    0,
                    1
                  ],
                  "title": {
                    "text": "total_bill"
                  }
                },
                "yaxis": {
                  "anchor": "x",
                  "domain": [
                    0,
                    1
                  ],
                  "title": {
                    "text": "tip"
                  }
                }
              }
            }
          },
          "metadata": {},
          "output_type": "display_data"
        }
      ],
      "source": [
        "import plotly.express as px\n",
        "\n",
        "# Построение 2D сглаженной гистограммы\n",
        "fig = px.density_heatmap(\n",
        "    data,\n",
        "    x=\"total_bill\",\n",
        "    y=\"tip\",\n",
        "    title=\"Распределение чаевых в зависимости от суммы счета\",\n",
        "    color_continuous_scale=px.colors.sequential.Hot,  # Исправленный параметр цветовой шкалы\n",
        "    nbinsx=50,\n",
        "    nbinsy=50,\n",
        "    marginal_x=\"histogram\",\n",
        "    marginal_y=\"histogram\"\n",
        ")\n",
        "\n",
        "# Построение 2D сглаженной гистограммы\n",
        "fig = px.density_contour(\n",
        "    data,\n",
        "    x=\"total_bill\",\n",
        "    y=\"tip\",\n",
        "    title=\"Распределение чаевых в зависимости от суммы счета\"\n",
        ")\n",
        "\n",
        "# Обновление стиля контуров и цветовой шкалы\n",
        "fig.update_traces(\n",
        "    contours={\n",
        "        'coloring': 'fill',\n",
        "        'showlines': False\n",
        "    },\n",
        "    line={'width': 0},\n",
        "    colorscale=\"hot\",\n",
        "    ncontours=50\n",
        ")\n"
      ]
    },
    {
      "cell_type": "markdown",
      "id": "VB0wBU-qwBYG",
      "metadata": {
        "id": "VB0wBU-qwBYG"
      },
      "source": [
        "Выведите результат:"
      ]
    },
    {
      "cell_type": "code",
      "execution_count": 102,
      "id": "e43e5dab",
      "metadata": {
        "id": "e43e5dab"
      },
      "outputs": [
        {
          "data": {
            "application/vnd.plotly.v1+json": {
              "config": {
                "plotlyServerURL": "https://plot.ly"
              },
              "data": [
                {
                  "colorscale": [
                    [
                      0,
                      "rgb(0,0,0)"
                    ],
                    [
                      0.3333333333333333,
                      "rgb(230,0,0)"
                    ],
                    [
                      0.6666666666666666,
                      "rgb(255,210,0)"
                    ],
                    [
                      1,
                      "rgb(255,255,255)"
                    ]
                  ],
                  "contours": {
                    "coloring": "fill",
                    "showlines": false
                  },
                  "hovertemplate": "total_bill=%{x}<br>tip=%{y}<br>count=%{z}<extra></extra>",
                  "legendgroup": "",
                  "line": {
                    "color": "#636efa",
                    "width": 0
                  },
                  "name": "",
                  "ncontours": 50,
                  "showlegend": false,
                  "type": "histogram2dcontour",
                  "x": {
                    "bdata": "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",
                    "dtype": "f8"
                  },
                  "xaxis": "x",
                  "xbingroup": "x",
                  "y": {
                    "bdata": "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",
                    "dtype": "f8"
                  },
                  "yaxis": "y",
                  "ybingroup": "y"
                }
              ],
              "layout": {
                "legend": {
                  "tracegroupgap": 0
                },
                "template": {
                  "data": {
                    "bar": [
                      {
                        "error_x": {
                          "color": "#2a3f5f"
                        },
                        "error_y": {
                          "color": "#2a3f5f"
                        },
                        "marker": {
                          "line": {
                            "color": "#E5ECF6",
                            "width": 0.5
                          },
                          "pattern": {
                            "fillmode": "overlay",
                            "size": 10,
                            "solidity": 0.2
                          }
                        },
                        "type": "bar"
                      }
                    ],
                    "barpolar": [
                      {
                        "marker": {
                          "line": {
                            "color": "#E5ECF6",
                            "width": 0.5
                          },
                          "pattern": {
                            "fillmode": "overlay",
                            "size": 10,
                            "solidity": 0.2
                          }
                        },
                        "type": "barpolar"
                      }
                    ],
                    "carpet": [
                      {
                        "aaxis": {
                          "endlinecolor": "#2a3f5f",
                          "gridcolor": "white",
                          "linecolor": "white",
                          "minorgridcolor": "white",
                          "startlinecolor": "#2a3f5f"
                        },
                        "baxis": {
                          "endlinecolor": "#2a3f5f",
                          "gridcolor": "white",
                          "linecolor": "white",
                          "minorgridcolor": "white",
                          "startlinecolor": "#2a3f5f"
                        },
                        "type": "carpet"
                      }
                    ],
                    "choropleth": [
                      {
                        "colorbar": {
                          "outlinewidth": 0,
                          "ticks": ""
                        },
                        "type": "choropleth"
                      }
                    ],
                    "contour": [
                      {
                        "colorbar": {
                          "outlinewidth": 0,
                          "ticks": ""
                        },
                        "colorscale": [
                          [
                            0,
                            "#0d0887"
                          ],
                          [
                            0.1111111111111111,
                            "#46039f"
                          ],
                          [
                            0.2222222222222222,
                            "#7201a8"
                          ],
                          [
                            0.3333333333333333,
                            "#9c179e"
                          ],
                          [
                            0.4444444444444444,
                            "#bd3786"
                          ],
                          [
                            0.5555555555555556,
                            "#d8576b"
                          ],
                          [
                            0.6666666666666666,
                            "#ed7953"
                          ],
                          [
                            0.7777777777777778,
                            "#fb9f3a"
                          ],
                          [
                            0.8888888888888888,
                            "#fdca26"
                          ],
                          [
                            1,
                            "#f0f921"
                          ]
                        ],
                        "type": "contour"
                      }
                    ],
                    "contourcarpet": [
                      {
                        "colorbar": {
                          "outlinewidth": 0,
                          "ticks": ""
                        },
                        "type": "contourcarpet"
                      }
                    ],
                    "heatmap": [
                      {
                        "colorbar": {
                          "outlinewidth": 0,
                          "ticks": ""
                        },
                        "colorscale": [
                          [
                            0,
                            "#0d0887"
                          ],
                          [
                            0.1111111111111111,
                            "#46039f"
                          ],
                          [
                            0.2222222222222222,
                            "#7201a8"
                          ],
                          [
                            0.3333333333333333,
                            "#9c179e"
                          ],
                          [
                            0.4444444444444444,
                            "#bd3786"
                          ],
                          [
                            0.5555555555555556,
                            "#d8576b"
                          ],
                          [
                            0.6666666666666666,
                            "#ed7953"
                          ],
                          [
                            0.7777777777777778,
                            "#fb9f3a"
                          ],
                          [
                            0.8888888888888888,
                            "#fdca26"
                          ],
                          [
                            1,
                            "#f0f921"
                          ]
                        ],
                        "type": "heatmap"
                      }
                    ],
                    "histogram": [
                      {
                        "marker": {
                          "pattern": {
                            "fillmode": "overlay",
                            "size": 10,
                            "solidity": 0.2
                          }
                        },
                        "type": "histogram"
                      }
                    ],
                    "histogram2d": [
                      {
                        "colorbar": {
                          "outlinewidth": 0,
                          "ticks": ""
                        },
                        "colorscale": [
                          [
                            0,
                            "#0d0887"
                          ],
                          [
                            0.1111111111111111,
                            "#46039f"
                          ],
                          [
                            0.2222222222222222,
                            "#7201a8"
                          ],
                          [
                            0.3333333333333333,
                            "#9c179e"
                          ],
                          [
                            0.4444444444444444,
                            "#bd3786"
                          ],
                          [
                            0.5555555555555556,
                            "#d8576b"
                          ],
                          [
                            0.6666666666666666,
                            "#ed7953"
                          ],
                          [
                            0.7777777777777778,
                            "#fb9f3a"
                          ],
                          [
                            0.8888888888888888,
                            "#fdca26"
                          ],
                          [
                            1,
                            "#f0f921"
                          ]
                        ],
                        "type": "histogram2d"
                      }
                    ],
                    "histogram2dcontour": [
                      {
                        "colorbar": {
                          "outlinewidth": 0,
                          "ticks": ""
                        },
                        "colorscale": [
                          [
                            0,
                            "#0d0887"
                          ],
                          [
                            0.1111111111111111,
                            "#46039f"
                          ],
                          [
                            0.2222222222222222,
                            "#7201a8"
                          ],
                          [
                            0.3333333333333333,
                            "#9c179e"
                          ],
                          [
                            0.4444444444444444,
                            "#bd3786"
                          ],
                          [
                            0.5555555555555556,
                            "#d8576b"
                          ],
                          [
                            0.6666666666666666,
                            "#ed7953"
                          ],
                          [
                            0.7777777777777778,
                            "#fb9f3a"
                          ],
                          [
                            0.8888888888888888,
                            "#fdca26"
                          ],
                          [
                            1,
                            "#f0f921"
                          ]
                        ],
                        "type": "histogram2dcontour"
                      }
                    ],
                    "mesh3d": [
                      {
                        "colorbar": {
                          "outlinewidth": 0,
                          "ticks": ""
                        },
                        "type": "mesh3d"
                      }
                    ],
                    "parcoords": [
                      {
                        "line": {
                          "colorbar": {
                            "outlinewidth": 0,
                            "ticks": ""
                          }
                        },
                        "type": "parcoords"
                      }
                    ],
                    "pie": [
                      {
                        "automargin": true,
                        "type": "pie"
                      }
                    ],
                    "scatter": [
                      {
                        "fillpattern": {
                          "fillmode": "overlay",
                          "size": 10,
                          "solidity": 0.2
                        },
                        "type": "scatter"
                      }
                    ],
                    "scatter3d": [
                      {
                        "line": {
                          "colorbar": {
                            "outlinewidth": 0,
                            "ticks": ""
                          }
                        },
                        "marker": {
                          "colorbar": {
                            "outlinewidth": 0,
                            "ticks": ""
                          }
                        },
                        "type": "scatter3d"
                      }
                    ],
                    "scattercarpet": [
                      {
                        "marker": {
                          "colorbar": {
                            "outlinewidth": 0,
                            "ticks": ""
                          }
                        },
                        "type": "scattercarpet"
                      }
                    ],
                    "scattergeo": [
                      {
                        "marker": {
                          "colorbar": {
                            "outlinewidth": 0,
                            "ticks": ""
                          }
                        },
                        "type": "scattergeo"
                      }
                    ],
                    "scattergl": [
                      {
                        "marker": {
                          "colorbar": {
                            "outlinewidth": 0,
                            "ticks": ""
                          }
                        },
                        "type": "scattergl"
                      }
                    ],
                    "scattermap": [
                      {
                        "marker": {
                          "colorbar": {
                            "outlinewidth": 0,
                            "ticks": ""
                          }
                        },
                        "type": "scattermap"
                      }
                    ],
                    "scattermapbox": [
                      {
                        "marker": {
                          "colorbar": {
                            "outlinewidth": 0,
                            "ticks": ""
                          }
                        },
                        "type": "scattermapbox"
                      }
                    ],
                    "scatterpolar": [
                      {
                        "marker": {
                          "colorbar": {
                            "outlinewidth": 0,
                            "ticks": ""
                          }
                        },
                        "type": "scatterpolar"
                      }
                    ],
                    "scatterpolargl": [
                      {
                        "marker": {
                          "colorbar": {
                            "outlinewidth": 0,
                            "ticks": ""
                          }
                        },
                        "type": "scatterpolargl"
                      }
                    ],
                    "scatterternary": [
                      {
                        "marker": {
                          "colorbar": {
                            "outlinewidth": 0,
                            "ticks": ""
                          }
                        },
                        "type": "scatterternary"
                      }
                    ],
                    "surface": [
                      {
                        "colorbar": {
                          "outlinewidth": 0,
                          "ticks": ""
                        },
                        "colorscale": [
                          [
                            0,
                            "#0d0887"
                          ],
                          [
                            0.1111111111111111,
                            "#46039f"
                          ],
                          [
                            0.2222222222222222,
                            "#7201a8"
                          ],
                          [
                            0.3333333333333333,
                            "#9c179e"
                          ],
                          [
                            0.4444444444444444,
                            "#bd3786"
                          ],
                          [
                            0.5555555555555556,
                            "#d8576b"
                          ],
                          [
                            0.6666666666666666,
                            "#ed7953"
                          ],
                          [
                            0.7777777777777778,
                            "#fb9f3a"
                          ],
                          [
                            0.8888888888888888,
                            "#fdca26"
                          ],
                          [
                            1,
                            "#f0f921"
                          ]
                        ],
                        "type": "surface"
                      }
                    ],
                    "table": [
                      {
                        "cells": {
                          "fill": {
                            "color": "#EBF0F8"
                          },
                          "line": {
                            "color": "white"
                          }
                        },
                        "header": {
                          "fill": {
                            "color": "#C8D4E3"
                          },
                          "line": {
                            "color": "white"
                          }
                        },
                        "type": "table"
                      }
                    ]
                  },
                  "layout": {
                    "annotationdefaults": {
                      "arrowcolor": "#2a3f5f",
                      "arrowhead": 0,
                      "arrowwidth": 1
                    },
                    "autotypenumbers": "strict",
                    "coloraxis": {
                      "colorbar": {
                        "outlinewidth": 0,
                        "ticks": ""
                      }
                    },
                    "colorscale": {
                      "diverging": [
                        [
                          0,
                          "#8e0152"
                        ],
                        [
                          0.1,
                          "#c51b7d"
                        ],
                        [
                          0.2,
                          "#de77ae"
                        ],
                        [
                          0.3,
                          "#f1b6da"
                        ],
                        [
                          0.4,
                          "#fde0ef"
                        ],
                        [
                          0.5,
                          "#f7f7f7"
                        ],
                        [
                          0.6,
                          "#e6f5d0"
                        ],
                        [
                          0.7,
                          "#b8e186"
                        ],
                        [
                          0.8,
                          "#7fbc41"
                        ],
                        [
                          0.9,
                          "#4d9221"
                        ],
                        [
                          1,
                          "#276419"
                        ]
                      ],
                      "sequential": [
                        [
                          0,
                          "#0d0887"
                        ],
                        [
                          0.1111111111111111,
                          "#46039f"
                        ],
                        [
                          0.2222222222222222,
                          "#7201a8"
                        ],
                        [
                          0.3333333333333333,
                          "#9c179e"
                        ],
                        [
                          0.4444444444444444,
                          "#bd3786"
                        ],
                        [
                          0.5555555555555556,
                          "#d8576b"
                        ],
                        [
                          0.6666666666666666,
                          "#ed7953"
                        ],
                        [
                          0.7777777777777778,
                          "#fb9f3a"
                        ],
                        [
                          0.8888888888888888,
                          "#fdca26"
                        ],
                        [
                          1,
                          "#f0f921"
                        ]
                      ],
                      "sequentialminus": [
                        [
                          0,
                          "#0d0887"
                        ],
                        [
                          0.1111111111111111,
                          "#46039f"
                        ],
                        [
                          0.2222222222222222,
                          "#7201a8"
                        ],
                        [
                          0.3333333333333333,
                          "#9c179e"
                        ],
                        [
                          0.4444444444444444,
                          "#bd3786"
                        ],
                        [
                          0.5555555555555556,
                          "#d8576b"
                        ],
                        [
                          0.6666666666666666,
                          "#ed7953"
                        ],
                        [
                          0.7777777777777778,
                          "#fb9f3a"
                        ],
                        [
                          0.8888888888888888,
                          "#fdca26"
                        ],
                        [
                          1,
                          "#f0f921"
                        ]
                      ]
                    },
                    "colorway": [
                      "#636efa",
                      "#EF553B",
                      "#00cc96",
                      "#ab63fa",
                      "#FFA15A",
                      "#19d3f3",
                      "#FF6692",
                      "#B6E880",
                      "#FF97FF",
                      "#FECB52"
                    ],
                    "font": {
                      "color": "#2a3f5f"
                    },
                    "geo": {
                      "bgcolor": "white",
                      "lakecolor": "white",
                      "landcolor": "#E5ECF6",
                      "showlakes": true,
                      "showland": true,
                      "subunitcolor": "white"
                    },
                    "hoverlabel": {
                      "align": "left"
                    },
                    "hovermode": "closest",
                    "mapbox": {
                      "style": "light"
                    },
                    "paper_bgcolor": "white",
                    "plot_bgcolor": "#E5ECF6",
                    "polar": {
                      "angularaxis": {
                        "gridcolor": "white",
                        "linecolor": "white",
                        "ticks": ""
                      },
                      "bgcolor": "#E5ECF6",
                      "radialaxis": {
                        "gridcolor": "white",
                        "linecolor": "white",
                        "ticks": ""
                      }
                    },
                    "scene": {
                      "xaxis": {
                        "backgroundcolor": "#E5ECF6",
                        "gridcolor": "white",
                        "gridwidth": 2,
                        "linecolor": "white",
                        "showbackground": true,
                        "ticks": "",
                        "zerolinecolor": "white"
                      },
                      "yaxis": {
                        "backgroundcolor": "#E5ECF6",
                        "gridcolor": "white",
                        "gridwidth": 2,
                        "linecolor": "white",
                        "showbackground": true,
                        "ticks": "",
                        "zerolinecolor": "white"
                      },
                      "zaxis": {
                        "backgroundcolor": "#E5ECF6",
                        "gridcolor": "white",
                        "gridwidth": 2,
                        "linecolor": "white",
                        "showbackground": true,
                        "ticks": "",
                        "zerolinecolor": "white"
                      }
                    },
                    "shapedefaults": {
                      "line": {
                        "color": "#2a3f5f"
                      }
                    },
                    "ternary": {
                      "aaxis": {
                        "gridcolor": "white",
                        "linecolor": "white",
                        "ticks": ""
                      },
                      "baxis": {
                        "gridcolor": "white",
                        "linecolor": "white",
                        "ticks": ""
                      },
                      "bgcolor": "#E5ECF6",
                      "caxis": {
                        "gridcolor": "white",
                        "linecolor": "white",
                        "ticks": ""
                      }
                    },
                    "title": {
                      "x": 0.05
                    },
                    "xaxis": {
                      "automargin": true,
                      "gridcolor": "white",
                      "linecolor": "white",
                      "ticks": "",
                      "title": {
                        "standoff": 15
                      },
                      "zerolinecolor": "white",
                      "zerolinewidth": 2
                    },
                    "yaxis": {
                      "automargin": true,
                      "gridcolor": "white",
                      "linecolor": "white",
                      "ticks": "",
                      "title": {
                        "standoff": 15
                      },
                      "zerolinecolor": "white",
                      "zerolinewidth": 2
                    }
                  }
                },
                "title": {
                  "text": "Распределение чаевых в зависимости от суммы счета"
                },
                "xaxis": {
                  "anchor": "y",
                  "domain": [
                    0,
                    1
                  ],
                  "title": {
                    "text": "total_bill"
                  }
                },
                "yaxis": {
                  "anchor": "x",
                  "domain": [
                    0,
                    1
                  ],
                  "title": {
                    "text": "tip"
                  }
                }
              }
            }
          },
          "metadata": {},
          "output_type": "display_data"
        }
      ],
      "source": [
        "fig.show()"
      ]
    },
    {
      "cell_type": "markdown",
      "id": "0812337c",
      "metadata": {
        "id": "0812337c"
      },
      "source": [
        "# Задание 4"
      ]
    },
    {
      "cell_type": "markdown",
      "id": "19592694",
      "metadata": {
        "id": "19592694"
      },
      "source": [
        "Пработайте с интерактивным выводом получившегося в прошлом задании изображения. Сделайте следующее:\n",
        "\n",
        "1. Добавьте возможность масштабирования изображения с помощью скроллинга\n",
        "2. Уберите лого plotly из набора инструментов\n",
        "3. Кастомизируйте функцию кнопки скачивания изображения:\n",
        "  1. Формат - .jpeg\n",
        "  2. Название файла: \"density_map\"\n",
        "  3. Разрешение - 720 на 1080 пикселей\n",
        "4. Набор инструментов должен быть таким: скачивание изображения, зум, перемещение изображения (pan), отрисовка линии, отрисовка замкнутой линии, отрисовка прямоугольника, стирание активной (при клике на неё) линии, автомасштабирование и возврат к первоначальному масштабу. Все остальные инструменты должны отсутствовать."
      ]
    },
    {
      "cell_type": "code",
      "execution_count": 103,
      "id": "MQ3bzXVRw04r",
      "metadata": {
        "id": "MQ3bzXVRw04r"
      },
      "outputs": [],
      "source": [
        "# Конфигурация инструментов\n",
        "config = {\n",
        "    'scrollZoom': True,\n",
        "    'displaylogo': False,\n",
        "    'toImageButtonOptions': {\n",
        "        'format': 'jpeg',\n",
        "        'filename': 'density_map',\n",
        "        'height': 720,\n",
        "        'width': 1080,\n",
        "        'scale': 1\n",
        "    },\n",
        "    'modeBarButtonsToAdd': ['drawline', 'drawopenpath', 'drawrect', 'eraseshape'],\n",
        "    'modeBarButtonsToRemove': ['lasso2d', 'select2d', 'hoverClosestCartesian', \n",
        "                             'hoverCompareCartesian', 'toggleSpikelines', 'zoom2d', 'zoomIn2d', \n",
        "                             'zoomOut2d', 'autoScale2d', 'resetScale2d']\n",
        "}\n",
        "\n",
        "# Добавление стандартных инструментов\n",
        "config['modeBarButtonsToAdd'].extend(['zoom2d', 'pan2d', 'zoomIn2d', 'zoomOut2d', 'autoScale2d', 'resetScale2d'])\n"
      ]
    },
    {
      "cell_type": "markdown",
      "id": "Lxv4UL9Dw3oE",
      "metadata": {
        "id": "Lxv4UL9Dw3oE"
      },
      "source": [
        "Выведите результат:"
      ]
    },
    {
      "cell_type": "code",
      "execution_count": 104,
      "id": "718836c9",
      "metadata": {
        "id": "718836c9"
      },
      "outputs": [
        {
          "data": {
            "application/vnd.plotly.v1+json": {
              "config": {
                "displaylogo": false,
                "modeBarButtonsToAdd": [
                  "drawline",
                  "drawopenpath",
                  "drawrect",
                  "eraseshape",
                  "zoom2d",
                  "pan2d",
                  "zoomIn2d",
                  "zoomOut2d",
                  "autoScale2d",
                  "resetScale2d"
                ],
                "modeBarButtonsToRemove": [
                  "lasso2d",
                  "select2d",
                  "hoverClosestCartesian",
                  "hoverCompareCartesian",
                  "toggleSpikelines",
                  "zoom2d",
                  "zoomIn2d",
                  "zoomOut2d",
                  "autoScale2d",
                  "resetScale2d"
                ],
                "plotlyServerURL": "https://plot.ly",
                "scrollZoom": true,
                "toImageButtonOptions": {
                  "filename": "density_map",
                  "format": "jpeg",
                  "height": 720,
                  "scale": 1,
                  "width": 1080
                }
              },
              "data": [
                {
                  "colorscale": [
                    [
                      0,
                      "rgb(0,0,0)"
                    ],
                    [
                      0.3333333333333333,
                      "rgb(230,0,0)"
                    ],
                    [
                      0.6666666666666666,
                      "rgb(255,210,0)"
                    ],
                    [
                      1,
                      "rgb(255,255,255)"
                    ]
                  ],
                  "contours": {
                    "coloring": "fill",
                    "showlines": false
                  },
                  "hovertemplate": "total_bill=%{x}<br>tip=%{y}<br>count=%{z}<extra></extra>",
                  "legendgroup": "",
                  "line": {
                    "color": "#636efa",
                    "width": 0
                  },
                  "name": "",
                  "ncontours": 50,
                  "showlegend": false,
                  "type": "histogram2dcontour",
                  "x": {
                    "bdata": "PQrXo3D9MECuR+F6FK4kQMP1KFyPAjVArkfhehSuN0DXo3A9Cpc4QArXo3A9SjlACtejcD2KIUDhehSuR+E6QBSuR+F6FC5Aj8L1KFyPLUAK16NwPYokQOF6FK5HoUFA16NwPQrXLkCuR+F6FG4yQClcj8L1qC1AFK5H4XqUNUApXI/C9agkQArXo3A9SjBAuB6F61H4MEBmZmZmZqY0QOxRuB6F6zFACtejcD1KNEAK16NwPYovQPYoXI/CtUNAUrgehevRM0CPwvUoXM8xQD0K16NwvSpA4XoUrkdhKUAzMzMzM7M1QGZmZmZmpjNAmpmZmZkZI0CamZmZmVkyQB+F61G4Hi5AcT0K16OwNEBI4XoUrscxQI/C9ShcDzhAj8L1KFxPMECuR+F6FO4wQHE9CtejsDJAhetRuB5FP0AK16NwPQowQPYoXI/CdTFA4XoUrkfhK0Bcj8L1KFwjQGZmZmZmZj5ACtejcD1KMkB7FK5H4To2QDMzMzMzM0BAzczMzMyMPEAK16NwPQoyQBSuR+F6FClAFK5H4XqUJEBI4XoUrmdBQOF6FK5H4SNAj8L1KFyPOUA9CtejcH0zQOF6FK5HAUNAKVyPwvVoOkB7FK5H4XomQMP1KFyPIkhACtejcD1KNEAfhetRuJ4rQArXo3A9CiZACtejcD1KMkDXo3A9CpcxQBSuR+F6FDRAMzMzMzNzMECPwvUoXI8IQHsUrkfhOjRAhetRuB4FLkAK16NwPQooQFK4HoXrETFAXI/C9SjcOkBI4XoUrkc5QPYoXI/CdS1AhetRuB4FJUDsUbgehesxQDMzMzMzMztAw/UoXI/CNkAK16NwPUoxQHE9CtejcDNAKVyPwvWoMECkcD0K1yMkQNejcD0KV0BA9ihcj8L1L0AK16NwPWpBQI/C9ShcDypASOF6FK5HMkD2KFyPwrU4QClcj8L1KDVAuB6F61H4PEA9CtejcH02QAAAAAAAABdAUrgehetRMEAAAAAAAMA2QPYoXI/CFURASOF6FK5HO0CPwvUoXA8oQMP1KFyPAjVA7FG4HoXrKEAzMzMzM7MmQMP1KFyPwi5AZmZmZmYmRkDsUbgehWs2QOxRuB6F6zRAuB6F61G4LkA9CtejcH00QPYoXI/CNTlAPQrXo3A9MkAfhetRuJ4sQAAAAAAAACxAAAAAAAAAHUApXI/C9QhDQDMzMzMz8zdA9ihcj8K1OUCPwvUoXE8xQK5H4XoU7j1AzczMzMxMJUBcj8L1KNwoQBSuR+F6FDhA4XoUrkdhJ0DXo3A9CtcqQIXrUbgehSxAZmZmZmbmL0D2KFyPwvUoQM3MzMzMzD1ACtejcD0KIUAK16NwPQotQMP1KFyPwiZAUrgehevRNkAUrkfhehQzQIXrUbgeRTRA16NwPQpXJkCF61G4HoUoQMP1KFyPQjJAhetRuB4FIUApXI/C9agkQM3MzMzMTCxAAAAAAAAAMEBSuB6F61EqQLgehetReDFAZmZmZmYmQUC4HoXrUZhEQM3MzMzMDDtArkfhehRuMEAzMzMzM7MgQKRwPQrXozJAPQrXo3C9J0CPwvUoXI8jQArXo3A9Ch5ApHA9CtcjLEDD9Shcj0IqQMP1KFyPQjFAzczMzMyMOECF61G4HsUzQJqZmZmZ2T1A9ihcj8IVSEAAAAAAAAA5QEjhehSuxypAPQrXo3B9MEAAAAAAAIA1QFK4HoXrUSlA9ihcj8I1MEAfhetRuJ4rQMP1KFyPgjFAhetRuB6FOEDD9Shcj8I0QPYoXI/CtT9ArkfhehQuJUDD9Shcj0IlQEjhehSuZ0lAH4XrUbieL0AAAAAAAAAdQJqZmZmZ2T9AUrgehevRMEAzMzMzM3NAQKRwPQrX4zFA9ihcj8L1LEAzMzMzMzMjQHE9CtejUEFAMzMzMzNTQUAUrkfhelQ3QM3MzMzMrEZA7FG4HoUrN0BmZmZmZkZEQHE9CtejsDRAZmZmZmbmNED2KFyPwnU+QGZmZmZmJjJAmpmZmZkZN0DhehSuR2EvQI/C9ShczzNAcT0K16NwPED2KFyPwvUuQBSuR+F6lDBAPQrXo3A9HkCuR+F6FK4kQK5H4XoUjkVAAAAAAAAAKkCF61G4HgUrQPYoXI/CtTJAexSuR+F6KUAAAAAAAAAqQGZmZmZmZjBASOF6FK6HNEC4HoXrUXgwQNejcD0KlzpAPQrXo3BdQ0CF61G4HkU4QIXrUbgehSlAj8L1KFwPPkCkcD0K1+M5QArXo3A9KkhACtejcD2KKkDsUbgehSs8QM3MzMzMzClAZmZmZmYmPECuR+F6FC4nQPYoXI/C9R5ApHA9CtcjPkBSuB6F61EoQNejcD0K1ypAKVyPwvUoIUD2KFyPwvUvQNejcD0K1ypAhetRuB5FMECuR+F6FC4kQDMzMzMzczRAj8L1KFyPKkAfhetRuB42QMP1KFyPAjhA4XoUrkdhL0C4HoXrUTgnQArXo3A9iiVAj8L1KFwPL0CkcD0K1yMkQDMzMzMzMylACtejcD1qQEAK16NwPepBQEjhehSuBz1ArkfhehQuO0DsUbgehas2QFK4HoXr0TFASOF6FK7HMkA=",
                    "dtype": "f8"
                  },
                  "xaxis": "x",
                  "xbingroup": "x",
                  "y": {
                    "bdata": "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",
                    "dtype": "f8"
                  },
                  "yaxis": "y",
                  "ybingroup": "y"
                }
              ],
              "layout": {
                "legend": {
                  "tracegroupgap": 0
                },
                "template": {
                  "data": {
                    "bar": [
                      {
                        "error_x": {
                          "color": "#2a3f5f"
                        },
                        "error_y": {
                          "color": "#2a3f5f"
                        },
                        "marker": {
                          "line": {
                            "color": "#E5ECF6",
                            "width": 0.5
                          },
                          "pattern": {
                            "fillmode": "overlay",
                            "size": 10,
                            "solidity": 0.2
                          }
                        },
                        "type": "bar"
                      }
                    ],
                    "barpolar": [
                      {
                        "marker": {
                          "line": {
                            "color": "#E5ECF6",
                            "width": 0.5
                          },
                          "pattern": {
                            "fillmode": "overlay",
                            "size": 10,
                            "solidity": 0.2
                          }
                        },
                        "type": "barpolar"
                      }
                    ],
                    "carpet": [
                      {
                        "aaxis": {
                          "endlinecolor": "#2a3f5f",
                          "gridcolor": "white",
                          "linecolor": "white",
                          "minorgridcolor": "white",
                          "startlinecolor": "#2a3f5f"
                        },
                        "baxis": {
                          "endlinecolor": "#2a3f5f",
                          "gridcolor": "white",
                          "linecolor": "white",
                          "minorgridcolor": "white",
                          "startlinecolor": "#2a3f5f"
                        },
                        "type": "carpet"
                      }
                    ],
                    "choropleth": [
                      {
                        "colorbar": {
                          "outlinewidth": 0,
                          "ticks": ""
                        },
                        "type": "choropleth"
                      }
                    ],
                    "contour": [
                      {
                        "colorbar": {
                          "outlinewidth": 0,
                          "ticks": ""
                        },
                        "colorscale": [
                          [
                            0,
                            "#0d0887"
                          ],
                          [
                            0.1111111111111111,
                            "#46039f"
                          ],
                          [
                            0.2222222222222222,
                            "#7201a8"
                          ],
                          [
                            0.3333333333333333,
                            "#9c179e"
                          ],
                          [
                            0.4444444444444444,
                            "#bd3786"
                          ],
                          [
                            0.5555555555555556,
                            "#d8576b"
                          ],
                          [
                            0.6666666666666666,
                            "#ed7953"
                          ],
                          [
                            0.7777777777777778,
                            "#fb9f3a"
                          ],
                          [
                            0.8888888888888888,
                            "#fdca26"
                          ],
                          [
                            1,
                            "#f0f921"
                          ]
                        ],
                        "type": "contour"
                      }
                    ],
                    "contourcarpet": [
                      {
                        "colorbar": {
                          "outlinewidth": 0,
                          "ticks": ""
                        },
                        "type": "contourcarpet"
                      }
                    ],
                    "heatmap": [
                      {
                        "colorbar": {
                          "outlinewidth": 0,
                          "ticks": ""
                        },
                        "colorscale": [
                          [
                            0,
                            "#0d0887"
                          ],
                          [
                            0.1111111111111111,
                            "#46039f"
                          ],
                          [
                            0.2222222222222222,
                            "#7201a8"
                          ],
                          [
                            0.3333333333333333,
                            "#9c179e"
                          ],
                          [
                            0.4444444444444444,
                            "#bd3786"
                          ],
                          [
                            0.5555555555555556,
                            "#d8576b"
                          ],
                          [
                            0.6666666666666666,
                            "#ed7953"
                          ],
                          [
                            0.7777777777777778,
                            "#fb9f3a"
                          ],
                          [
                            0.8888888888888888,
                            "#fdca26"
                          ],
                          [
                            1,
                            "#f0f921"
                          ]
                        ],
                        "type": "heatmap"
                      }
                    ],
                    "histogram": [
                      {
                        "marker": {
                          "pattern": {
                            "fillmode": "overlay",
                            "size": 10,
                            "solidity": 0.2
                          }
                        },
                        "type": "histogram"
                      }
                    ],
                    "histogram2d": [
                      {
                        "colorbar": {
                          "outlinewidth": 0,
                          "ticks": ""
                        },
                        "colorscale": [
                          [
                            0,
                            "#0d0887"
                          ],
                          [
                            0.1111111111111111,
                            "#46039f"
                          ],
                          [
                            0.2222222222222222,
                            "#7201a8"
                          ],
                          [
                            0.3333333333333333,
                            "#9c179e"
                          ],
                          [
                            0.4444444444444444,
                            "#bd3786"
                          ],
                          [
                            0.5555555555555556,
                            "#d8576b"
                          ],
                          [
                            0.6666666666666666,
                            "#ed7953"
                          ],
                          [
                            0.7777777777777778,
                            "#fb9f3a"
                          ],
                          [
                            0.8888888888888888,
                            "#fdca26"
                          ],
                          [
                            1,
                            "#f0f921"
                          ]
                        ],
                        "type": "histogram2d"
                      }
                    ],
                    "histogram2dcontour": [
                      {
                        "colorbar": {
                          "outlinewidth": 0,
                          "ticks": ""
                        },
                        "colorscale": [
                          [
                            0,
                            "#0d0887"
                          ],
                          [
                            0.1111111111111111,
                            "#46039f"
                          ],
                          [
                            0.2222222222222222,
                            "#7201a8"
                          ],
                          [
                            0.3333333333333333,
                            "#9c179e"
                          ],
                          [
                            0.4444444444444444,
                            "#bd3786"
                          ],
                          [
                            0.5555555555555556,
                            "#d8576b"
                          ],
                          [
                            0.6666666666666666,
                            "#ed7953"
                          ],
                          [
                            0.7777777777777778,
                            "#fb9f3a"
                          ],
                          [
                            0.8888888888888888,
                            "#fdca26"
                          ],
                          [
                            1,
                            "#f0f921"
                          ]
                        ],
                        "type": "histogram2dcontour"
                      }
                    ],
                    "mesh3d": [
                      {
                        "colorbar": {
                          "outlinewidth": 0,
                          "ticks": ""
                        },
                        "type": "mesh3d"
                      }
                    ],
                    "parcoords": [
                      {
                        "line": {
                          "colorbar": {
                            "outlinewidth": 0,
                            "ticks": ""
                          }
                        },
                        "type": "parcoords"
                      }
                    ],
                    "pie": [
                      {
                        "automargin": true,
                        "type": "pie"
                      }
                    ],
                    "scatter": [
                      {
                        "fillpattern": {
                          "fillmode": "overlay",
                          "size": 10,
                          "solidity": 0.2
                        },
                        "type": "scatter"
                      }
                    ],
                    "scatter3d": [
                      {
                        "line": {
                          "colorbar": {
                            "outlinewidth": 0,
                            "ticks": ""
                          }
                        },
                        "marker": {
                          "colorbar": {
                            "outlinewidth": 0,
                            "ticks": ""
                          }
                        },
                        "type": "scatter3d"
                      }
                    ],
                    "scattercarpet": [
                      {
                        "marker": {
                          "colorbar": {
                            "outlinewidth": 0,
                            "ticks": ""
                          }
                        },
                        "type": "scattercarpet"
                      }
                    ],
                    "scattergeo": [
                      {
                        "marker": {
                          "colorbar": {
                            "outlinewidth": 0,
                            "ticks": ""
                          }
                        },
                        "type": "scattergeo"
                      }
                    ],
                    "scattergl": [
                      {
                        "marker": {
                          "colorbar": {
                            "outlinewidth": 0,
                            "ticks": ""
                          }
                        },
                        "type": "scattergl"
                      }
                    ],
                    "scattermap": [
                      {
                        "marker": {
                          "colorbar": {
                            "outlinewidth": 0,
                            "ticks": ""
                          }
                        },
                        "type": "scattermap"
                      }
                    ],
                    "scattermapbox": [
                      {
                        "marker": {
                          "colorbar": {
                            "outlinewidth": 0,
                            "ticks": ""
                          }
                        },
                        "type": "scattermapbox"
                      }
                    ],
                    "scatterpolar": [
                      {
                        "marker": {
                          "colorbar": {
                            "outlinewidth": 0,
                            "ticks": ""
                          }
                        },
                        "type": "scatterpolar"
                      }
                    ],
                    "scatterpolargl": [
                      {
                        "marker": {
                          "colorbar": {
                            "outlinewidth": 0,
                            "ticks": ""
                          }
                        },
                        "type": "scatterpolargl"
                      }
                    ],
                    "scatterternary": [
                      {
                        "marker": {
                          "colorbar": {
                            "outlinewidth": 0,
                            "ticks": ""
                          }
                        },
                        "type": "scatterternary"
                      }
                    ],
                    "surface": [
                      {
                        "colorbar": {
                          "outlinewidth": 0,
                          "ticks": ""
                        },
                        "colorscale": [
                          [
                            0,
                            "#0d0887"
                          ],
                          [
                            0.1111111111111111,
                            "#46039f"
                          ],
                          [
                            0.2222222222222222,
                            "#7201a8"
                          ],
                          [
                            0.3333333333333333,
                            "#9c179e"
                          ],
                          [
                            0.4444444444444444,
                            "#bd3786"
                          ],
                          [
                            0.5555555555555556,
                            "#d8576b"
                          ],
                          [
                            0.6666666666666666,
                            "#ed7953"
                          ],
                          [
                            0.7777777777777778,
                            "#fb9f3a"
                          ],
                          [
                            0.8888888888888888,
                            "#fdca26"
                          ],
                          [
                            1,
                            "#f0f921"
                          ]
                        ],
                        "type": "surface"
                      }
                    ],
                    "table": [
                      {
                        "cells": {
                          "fill": {
                            "color": "#EBF0F8"
                          },
                          "line": {
                            "color": "white"
                          }
                        },
                        "header": {
                          "fill": {
                            "color": "#C8D4E3"
                          },
                          "line": {
                            "color": "white"
                          }
                        },
                        "type": "table"
                      }
                    ]
                  },
                  "layout": {
                    "annotationdefaults": {
                      "arrowcolor": "#2a3f5f",
                      "arrowhead": 0,
                      "arrowwidth": 1
                    },
                    "autotypenumbers": "strict",
                    "coloraxis": {
                      "colorbar": {
                        "outlinewidth": 0,
                        "ticks": ""
                      }
                    },
                    "colorscale": {
                      "diverging": [
                        [
                          0,
                          "#8e0152"
                        ],
                        [
                          0.1,
                          "#c51b7d"
                        ],
                        [
                          0.2,
                          "#de77ae"
                        ],
                        [
                          0.3,
                          "#f1b6da"
                        ],
                        [
                          0.4,
                          "#fde0ef"
                        ],
                        [
                          0.5,
                          "#f7f7f7"
                        ],
                        [
                          0.6,
                          "#e6f5d0"
                        ],
                        [
                          0.7,
                          "#b8e186"
                        ],
                        [
                          0.8,
                          "#7fbc41"
                        ],
                        [
                          0.9,
                          "#4d9221"
                        ],
                        [
                          1,
                          "#276419"
                        ]
                      ],
                      "sequential": [
                        [
                          0,
                          "#0d0887"
                        ],
                        [
                          0.1111111111111111,
                          "#46039f"
                        ],
                        [
                          0.2222222222222222,
                          "#7201a8"
                        ],
                        [
                          0.3333333333333333,
                          "#9c179e"
                        ],
                        [
                          0.4444444444444444,
                          "#bd3786"
                        ],
                        [
                          0.5555555555555556,
                          "#d8576b"
                        ],
                        [
                          0.6666666666666666,
                          "#ed7953"
                        ],
                        [
                          0.7777777777777778,
                          "#fb9f3a"
                        ],
                        [
                          0.8888888888888888,
                          "#fdca26"
                        ],
                        [
                          1,
                          "#f0f921"
                        ]
                      ],
                      "sequentialminus": [
                        [
                          0,
                          "#0d0887"
                        ],
                        [
                          0.1111111111111111,
                          "#46039f"
                        ],
                        [
                          0.2222222222222222,
                          "#7201a8"
                        ],
                        [
                          0.3333333333333333,
                          "#9c179e"
                        ],
                        [
                          0.4444444444444444,
                          "#bd3786"
                        ],
                        [
                          0.5555555555555556,
                          "#d8576b"
                        ],
                        [
                          0.6666666666666666,
                          "#ed7953"
                        ],
                        [
                          0.7777777777777778,
                          "#fb9f3a"
                        ],
                        [
                          0.8888888888888888,
                          "#fdca26"
                        ],
                        [
                          1,
                          "#f0f921"
                        ]
                      ]
                    },
                    "colorway": [
                      "#636efa",
                      "#EF553B",
                      "#00cc96",
                      "#ab63fa",
                      "#FFA15A",
                      "#19d3f3",
                      "#FF6692",
                      "#B6E880",
                      "#FF97FF",
                      "#FECB52"
                    ],
                    "font": {
                      "color": "#2a3f5f"
                    },
                    "geo": {
                      "bgcolor": "white",
                      "lakecolor": "white",
                      "landcolor": "#E5ECF6",
                      "showlakes": true,
                      "showland": true,
                      "subunitcolor": "white"
                    },
                    "hoverlabel": {
                      "align": "left"
                    },
                    "hovermode": "closest",
                    "mapbox": {
                      "style": "light"
                    },
                    "paper_bgcolor": "white",
                    "plot_bgcolor": "#E5ECF6",
                    "polar": {
                      "angularaxis": {
                        "gridcolor": "white",
                        "linecolor": "white",
                        "ticks": ""
                      },
                      "bgcolor": "#E5ECF6",
                      "radialaxis": {
                        "gridcolor": "white",
                        "linecolor": "white",
                        "ticks": ""
                      }
                    },
                    "scene": {
                      "xaxis": {
                        "backgroundcolor": "#E5ECF6",
                        "gridcolor": "white",
                        "gridwidth": 2,
                        "linecolor": "white",
                        "showbackground": true,
                        "ticks": "",
                        "zerolinecolor": "white"
                      },
                      "yaxis": {
                        "backgroundcolor": "#E5ECF6",
                        "gridcolor": "white",
                        "gridwidth": 2,
                        "linecolor": "white",
                        "showbackground": true,
                        "ticks": "",
                        "zerolinecolor": "white"
                      },
                      "zaxis": {
                        "backgroundcolor": "#E5ECF6",
                        "gridcolor": "white",
                        "gridwidth": 2,
                        "linecolor": "white",
                        "showbackground": true,
                        "ticks": "",
                        "zerolinecolor": "white"
                      }
                    },
                    "shapedefaults": {
                      "line": {
                        "color": "#2a3f5f"
                      }
                    },
                    "ternary": {
                      "aaxis": {
                        "gridcolor": "white",
                        "linecolor": "white",
                        "ticks": ""
                      },
                      "baxis": {
                        "gridcolor": "white",
                        "linecolor": "white",
                        "ticks": ""
                      },
                      "bgcolor": "#E5ECF6",
                      "caxis": {
                        "gridcolor": "white",
                        "linecolor": "white",
                        "ticks": ""
                      }
                    },
                    "title": {
                      "x": 0.05
                    },
                    "xaxis": {
                      "automargin": true,
                      "gridcolor": "white",
                      "linecolor": "white",
                      "ticks": "",
                      "title": {
                        "standoff": 15
                      },
                      "zerolinecolor": "white",
                      "zerolinewidth": 2
                    },
                    "yaxis": {
                      "automargin": true,
                      "gridcolor": "white",
                      "linecolor": "white",
                      "ticks": "",
                      "title": {
                        "standoff": 15
                      },
                      "zerolinecolor": "white",
                      "zerolinewidth": 2
                    }
                  }
                },
                "title": {
                  "text": "Распределение чаевых в зависимости от суммы счета"
                },
                "xaxis": {
                  "anchor": "y",
                  "domain": [
                    0,
                    1
                  ],
                  "title": {
                    "text": "total_bill"
                  }
                },
                "yaxis": {
                  "anchor": "x",
                  "domain": [
                    0,
                    1
                  ],
                  "title": {
                    "text": "tip"
                  }
                }
              }
            }
          },
          "metadata": {},
          "output_type": "display_data"
        }
      ],
      "source": [
        "fig.show(config=config)"
      ]
    },
    {
      "cell_type": "markdown",
      "id": "sELdYlJKxHWL",
      "metadata": {
        "id": "sELdYlJKxHWL"
      },
      "source": [
        "# Результат домашнего задания"
      ]
    },
    {
      "cell_type": "markdown",
      "id": "ZChzCNY-xU5T",
      "metadata": {
        "id": "ZChzCNY-xU5T"
      },
      "source": [
        "Решение для каждого задания предоставляется в виде программного кода на языке Python."
      ]
    },
    {
      "cell_type": "markdown",
      "id": "_b-1pLsCxfXq",
      "metadata": {
        "id": "_b-1pLsCxfXq"
      },
      "source": [
        "# Критерии оценивания"
      ]
    },
    {
      "cell_type": "markdown",
      "id": "it3ZHhNixgxr",
      "metadata": {
        "id": "it3ZHhNixgxr"
      },
      "source": [
        "К1 - за каждое правильно решенное задание +2 балла\n",
        "\n",
        "Максимальное количество баллов —  8 баллов.\n",
        "\n",
        "Минимальное количество баллов, чтобы преподаватель смог зачесть вашу работу — 4 балла."
      ]
    }
  ],
  "metadata": {
    "colab": {
      "include_colab_link": true,
      "provenance": []
    },
    "kernelspec": {
      "display_name": "myenv",
      "language": "python",
      "name": "python3"
    },
    "language_info": {
      "codemirror_mode": {
        "name": "ipython",
        "version": 3
      },
      "file_extension": ".py",
      "mimetype": "text/x-python",
      "name": "python",
      "nbconvert_exporter": "python",
      "pygments_lexer": "ipython3",
      "version": "3.12.3"
    }
  },
  "nbformat": 4,
  "nbformat_minor": 5
}
