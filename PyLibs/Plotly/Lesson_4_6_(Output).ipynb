{
  "cells": [
    {
      "cell_type": "markdown",
      "metadata": {
        "id": "view-in-github",
        "colab_type": "text"
      },
      "source": [
        "<a href=\"https://colab.research.google.com/github/A-l-E-v/ML-Engineer/blob/main/Lesson_4_6_(Output).ipynb\" target=\"_parent\"><img src=\"https://colab.research.google.com/assets/colab-badge.svg\" alt=\"Open In Colab\"/></a>"
      ]
    },
    {
      "cell_type": "code",
      "execution_count": null,
      "id": "0581bf21",
      "metadata": {
        "id": "0581bf21"
      },
      "outputs": [],
      "source": [
        "import plotly.graph_objects as go\n",
        "import plotly.express as px\n",
        "import plotly.io as pio\n",
        "import numpy as np\n",
        "import pandas as pd\n",
        "import os\n",
        "from IPython.display import Image"
      ]
    },
    {
      "cell_type": "markdown",
      "id": "b1f60d8f",
      "metadata": {
        "id": "b1f60d8f"
      },
      "source": [
        "## 1. Типы выводов. Виды рендеров."
      ]
    },
    {
      "cell_type": "code",
      "execution_count": null,
      "id": "d8ae71bc",
      "metadata": {
        "id": "d8ae71bc"
      },
      "outputs": [],
      "source": [
        "# Выводим с помощью show()\n",
        "\n",
        "fig = go.Figure \\\n",
        "(\n",
        "    data=[go.Scatter(y=np.random.random(10))],\n",
        "    layout_title_text=\"A Figure Displayed with fig.show()\"\n",
        ")\n",
        "\n",
        "fig.show() # тут происходит обращение к pio.show, рендерер выбирается самостоятельно"
      ]
    },
    {
      "cell_type": "code",
      "execution_count": null,
      "id": "bdad97a3",
      "metadata": {
        "id": "bdad97a3"
      },
      "outputs": [],
      "source": [
        "# Выводим с помощью display()\n",
        "\n",
        "fig = go.Figure \\\n",
        "(\n",
        "    data=[go.Scatter(y=np.random.random(10))],\n",
        "    layout_title_text=\"A Figure Displayed with display()\"\n",
        ")\n",
        "\n",
        "display(fig)"
      ]
    },
    {
      "cell_type": "code",
      "execution_count": null,
      "id": "046b58bd",
      "metadata": {
        "id": "046b58bd"
      },
      "outputs": [],
      "source": [
        "pio.renderers"
      ]
    },
    {
      "cell_type": "code",
      "execution_count": null,
      "id": "3ae48342",
      "metadata": {
        "id": "3ae48342"
      },
      "outputs": [],
      "source": [
        "# Изменение рендерера\n",
        "\n",
        "fig = go.Figure \\\n",
        "(\n",
        "    data=[go.Scatter(y=np.random.random(10))],\n",
        "    layout_title_text=\"A Figure Displayed with renderer == 'svg'\"\n",
        ")\n",
        "\n",
        "fig.show(renderer=\"svg\")"
      ]
    },
    {
      "cell_type": "code",
      "execution_count": null,
      "id": "368c50f2",
      "metadata": {
        "id": "368c50f2"
      },
      "outputs": [],
      "source": [
        "# Изменение рендерера\n",
        "\n",
        "fig = go.Figure \\\n",
        "(\n",
        "    data=[go.Scatter(y=np.random.random(10))],\n",
        "    layout_title_text=\"A Figure Displayed with renderer == 'png'\"\n",
        ")\n",
        "\n",
        "fig.show(renderer=\"png\", height=720, width=1280)"
      ]
    },
    {
      "cell_type": "code",
      "execution_count": null,
      "id": "6ff9cceb",
      "metadata": {
        "id": "6ff9cceb"
      },
      "outputs": [],
      "source": [
        "# комбинация рендереров\n",
        "\n",
        "fig = go.Figure \\\n",
        "(\n",
        "    data=[go.Scatter(y=np.random.random(10))],\n",
        "    layout_title_text=\"A Figure Displayed with mixed renderer\"\n",
        ")\n",
        "\n",
        "fig.show(renderer=\"notebook+svg\")"
      ]
    },
    {
      "cell_type": "code",
      "execution_count": null,
      "id": "76fe588e",
      "metadata": {
        "id": "76fe588e"
      },
      "outputs": [],
      "source": [
        "# можем задавать дефолтный рендерер\n",
        "\n",
        "pio.renderers.default = \"browser\"\n",
        "\n",
        "fig = go.Figure \\\n",
        "(\n",
        "    data=[go.Scatter(y=np.random.random(10))],\n",
        "    layout_title_text=\"A Figure Displayed with browser renderer\"\n",
        ")\n",
        "\n",
        "fig.show()"
      ]
    },
    {
      "cell_type": "code",
      "execution_count": null,
      "id": "152492b9",
      "metadata": {
        "id": "152492b9"
      },
      "outputs": [],
      "source": [
        "# действует в течение всей сессии\n",
        "\n",
        "fig.show()"
      ]
    },
    {
      "cell_type": "code",
      "execution_count": null,
      "id": "5bb0ef2f",
      "metadata": {
        "id": "5bb0ef2f"
      },
      "outputs": [],
      "source": [
        "# но может быть переписан в параметре renderer\n",
        "\n",
        "fig.show(renderer=\"notebook\")"
      ]
    },
    {
      "cell_type": "code",
      "execution_count": null,
      "id": "492b9e03",
      "metadata": {
        "id": "492b9e03"
      },
      "outputs": [],
      "source": [
        "pio.renderers.default = \"plotly_mimetype+notebook\""
      ]
    },
    {
      "cell_type": "code",
      "execution_count": null,
      "id": "9dee0509",
      "metadata": {
        "id": "9dee0509"
      },
      "outputs": [],
      "source": [
        "# если используется FigureWidget, то обычный fig.show() не работает,\n",
        "# так как вывод FigureWidget не использует рендереры\n",
        "\n",
        "fig = go.FigureWidget \\\n",
        "(\n",
        "    data=[go.Scatter(y=np.random.random(10))],\n",
        "    layout_title_text=\"A Figure Displayed with browser renderer\"\n",
        ")\n",
        "\n",
        "display(fig) # правильно"
      ]
    },
    {
      "cell_type": "markdown",
      "id": "b2cfdadf",
      "metadata": {
        "id": "b2cfdadf"
      },
      "source": [
        "Почитать про остальные виды рендереров можно [тут](https://plotly.com/python/renderers/)"
      ]
    },
    {
      "cell_type": "markdown",
      "id": "c0aeb7ee",
      "metadata": {
        "id": "c0aeb7ee"
      },
      "source": [
        "## 2. Интерактивный и статический экспорт"
      ]
    },
    {
      "cell_type": "markdown",
      "id": "c09083e3",
      "metadata": {
        "id": "c09083e3"
      },
      "source": [
        "### Статический экспорт"
      ]
    },
    {
      "cell_type": "markdown",
      "id": "fefe5a0a",
      "metadata": {
        "id": "fefe5a0a"
      },
      "source": [
        "Нужно убедиться, что установлен **kaleido** (было на первых уроках)"
      ]
    },
    {
      "cell_type": "code",
      "execution_count": null,
      "id": "8e085c7c",
      "metadata": {
        "id": "8e085c7c"
      },
      "outputs": [],
      "source": [
        "# соpдаем рандомную картинку\n",
        "\n",
        "N = 100\n",
        "x = np.random.rand(N)\n",
        "y = np.random.rand(N)\n",
        "colors = np.random.rand(N)\n",
        "sizes = np.random.rand(N) * 50\n",
        "\n",
        "fig = go.Figure()\n",
        "fig.add_trace\\\n",
        "(\n",
        "    go.Scatter\\\n",
        "    (\n",
        "        x=x,\n",
        "        y=y,\n",
        "        mode=\"markers\",\n",
        "        marker=\\\n",
        "        {\n",
        "            \"size\": sizes,\n",
        "            \"color\": colors,\n",
        "            \"opacity\": 0.7,\n",
        "            \"colorscale\": 'hot'\n",
        "        }\n",
        "    )\n",
        ")\n",
        "\n",
        "fig.show()"
      ]
    },
    {
      "cell_type": "code",
      "execution_count": null,
      "id": "be2c02a6",
      "metadata": {
        "id": "be2c02a6"
      },
      "outputs": [],
      "source": [
        "# создаём папку для изображений\n",
        "if not os.path.exists(\"images\"):\n",
        "    os.mkdir(\"images\")"
      ]
    },
    {
      "cell_type": "code",
      "execution_count": null,
      "id": "957669eb",
      "metadata": {
        "id": "957669eb"
      },
      "outputs": [],
      "source": [
        "# растровые форматы\n",
        "fig.write_image(\"images/fig1.png\")\n",
        "\n",
        "fig.write_image(\"images/fig1.jpeg\")\n",
        "\n",
        "fig.write_image(\"images/fig1.webp\")"
      ]
    },
    {
      "cell_type": "code",
      "execution_count": null,
      "id": "1a758b61",
      "metadata": {
        "id": "1a758b61"
      },
      "outputs": [],
      "source": [
        "# векторные форматы\n",
        "\n",
        "fig.write_image(\"images/fig1.svg\")\n",
        "\n",
        "fig.write_image(\"images/fig1.pdf\")"
      ]
    },
    {
      "cell_type": "code",
      "execution_count": null,
      "id": "2a678278",
      "metadata": {
        "id": "2a678278"
      },
      "outputs": [],
      "source": [
        "# можно открыть изображение в бинарном виде\n",
        "\n",
        "img_bytes = fig.to_image(format=\"png\")\n",
        "\n",
        "img_bytes[:20]"
      ]
    },
    {
      "cell_type": "code",
      "execution_count": null,
      "id": "438d5d85",
      "metadata": {
        "id": "438d5d85"
      },
      "outputs": [],
      "source": [
        "Image(img_bytes)"
      ]
    },
    {
      "cell_type": "code",
      "execution_count": null,
      "id": "6c086d5b",
      "metadata": {
        "id": "6c086d5b"
      },
      "outputs": [],
      "source": [
        "# можем регулиовать размеры и разрешение\n",
        "\n",
        "img_bytes = fig.to_image(format=\"png\", width=600, height=350, scale=0.25)\n",
        "Image(img_bytes)"
      ]
    },
    {
      "cell_type": "code",
      "execution_count": null,
      "id": "404eb213",
      "metadata": {
        "id": "404eb213"
      },
      "outputs": [],
      "source": [
        "# можно явно указывать, что мы хотим использовать kaleido при экспорте\n",
        "# также можно использовать другие движки\n",
        "\n",
        "fig.to_image(format=\"png\", engine=\"kaleido\")"
      ]
    },
    {
      "cell_type": "code",
      "execution_count": null,
      "id": "f3e6b8c9",
      "metadata": {
        "id": "f3e6b8c9"
      },
      "outputs": [],
      "source": [
        "# параметры, которые мы можем глобально передать в pio.kaleido.scope\n",
        "[ops for ops in pio.kaleido.scope.__dir__() if ops[0] != '_']"
      ]
    },
    {
      "cell_type": "code",
      "execution_count": null,
      "id": "68d5f489",
      "metadata": {
        "id": "68d5f489"
      },
      "outputs": [],
      "source": [
        "pio.kaleido.scope.default_format = 'svg'"
      ]
    },
    {
      "cell_type": "markdown",
      "id": "42f05ba8",
      "metadata": {
        "id": "42f05ba8"
      },
      "source": [
        "### Интерактивный экспорт"
      ]
    },
    {
      "cell_type": "markdown",
      "id": "ca496e38",
      "metadata": {
        "id": "ca496e38"
      },
      "source": [
        "Значит в HTML"
      ]
    },
    {
      "cell_type": "code",
      "execution_count": null,
      "id": "184a1354",
      "metadata": {
        "id": "184a1354"
      },
      "outputs": [],
      "source": [
        "fig.write_html(\"images/fig_html.html\")"
      ]
    },
    {
      "cell_type": "code",
      "execution_count": null,
      "id": "e784019b",
      "metadata": {
        "id": "e784019b"
      },
      "outputs": [],
      "source": [
        "help(go.Figure.write_html)"
      ]
    },
    {
      "cell_type": "markdown",
      "id": "b91980e1",
      "metadata": {
        "id": "b91980e1"
      },
      "source": [
        "## 3. Стилизация изображений (theming). Использование шаблонов (templates)."
      ]
    },
    {
      "cell_type": "code",
      "execution_count": null,
      "id": "98a24bc8",
      "metadata": {
        "id": "98a24bc8"
      },
      "outputs": [],
      "source": [
        "# выведем доступные в plotly шаблоны\n",
        "pio.templates"
      ]
    },
    {
      "cell_type": "markdown",
      "id": "875f22bd",
      "metadata": {
        "id": "875f22bd"
      },
      "source": [
        "### Использование шаблонов в Plotly Express"
      ]
    },
    {
      "cell_type": "code",
      "execution_count": null,
      "id": "0248d4d4",
      "metadata": {
        "id": "0248d4d4"
      },
      "outputs": [],
      "source": [
        "px.data.iris()"
      ]
    },
    {
      "cell_type": "code",
      "execution_count": null,
      "id": "ce4e4337",
      "metadata": {
        "scrolled": false,
        "id": "ce4e4337"
      },
      "outputs": [],
      "source": [
        "# используем разные стили в параметре templates\n",
        "df = px.data.iris()\n",
        "\n",
        "for template in [\"plotly\", \"plotly_white\", \"plotly_dark\", \"ggplot2\", \"seaborn\", \"simple_white\", \"none\"]:\n",
        "    fig = px.scatter\\\n",
        "    (\n",
        "        df,\n",
        "        x=\"sepal_width\", y=\"sepal_length\",\n",
        "        size=\"petal_width\", color=\"petal_length\", color_continuous_scale=\"Magenta\",\n",
        "        symbol='species',\n",
        "        template=template, title=\"Iris: '%s' theme\" % template\n",
        "    )\n",
        "    fig.update_layout(coloraxis_colorbar_x=-0.18)\n",
        "    fig.show()"
      ]
    },
    {
      "cell_type": "markdown",
      "id": "f047503f",
      "metadata": {
        "id": "f047503f"
      },
      "source": [
        "### Использование шаблонов в Graph Objects"
      ]
    },
    {
      "cell_type": "code",
      "execution_count": null,
      "id": "ffc16983",
      "metadata": {
        "id": "ffc16983"
      },
      "outputs": [],
      "source": [
        "# используем разные стили в параметре templates метода update_layout\n",
        "z_data = pd.read_csv\\\n",
        "(\n",
        "    \"https://raw.githubusercontent.com/plotly/datasets/master/api_docs/mt_bruno_elevation.csv\"\n",
        ")\n",
        "\n",
        "fig = go.Figure\\\n",
        "(\n",
        "    data=go.Surface(z=z_data.values),\n",
        "    layout=go.Layout\\\n",
        "    (\n",
        "        title=\"Mt Bruno Elevation\",\n",
        "        width=500,\n",
        "        height=500,\n",
        "    )\n",
        ")\n",
        "\n",
        "for template in [\"plotly\", \"plotly_white\", \"plotly_dark\", \"ggplot2\", \"seaborn\", \"simple_white\", \"none\"]:\n",
        "    fig.update_layout(template=template, title=\"Mt Bruno Elevation: '%s' theme\" % template)\n",
        "    fig.show()"
      ]
    },
    {
      "cell_type": "markdown",
      "id": "2b7160a0",
      "metadata": {
        "id": "2b7160a0"
      },
      "source": [
        "### Изменение дефолтных значений шаблона"
      ]
    },
    {
      "cell_type": "code",
      "execution_count": null,
      "id": "b7cee24c",
      "metadata": {
        "id": "b7cee24c"
      },
      "outputs": [],
      "source": [
        "# Это значение соохраняется в течение одной сессии жизни ядра! После перезапуска ядра настройки сбросятся.\n",
        "pio.templates.default = \"plotly_white\"\n",
        "\n",
        "df = px.data.iris()\n",
        "\n",
        "fig = px.scatter\\\n",
        "(\n",
        "    df,\n",
        "    x=\"sepal_width\", y=\"sepal_length\",\n",
        "    size=\"petal_width\", color=\"petal_length\", color_continuous_scale=\"Magenta\",\n",
        "    symbol='species',\n",
        "    title=\"Iris: '%s' theme\" % pio.templates.default\n",
        ")\n",
        "fig.update_layout(coloraxis_colorbar_x=-0.18)\n",
        "fig.show()"
      ]
    },
    {
      "cell_type": "code",
      "execution_count": null,
      "id": "63e57828",
      "metadata": {
        "id": "63e57828"
      },
      "outputs": [],
      "source": [
        "# это позволит отключить все настройки из шаблона по умолчанию\n",
        "pio.templates.default = \"none\""
      ]
    },
    {
      "cell_type": "code",
      "execution_count": null,
      "id": "4b48ec15",
      "metadata": {
        "id": "4b48ec15"
      },
      "outputs": [],
      "source": [
        "df = px.data.iris()\n",
        "\n",
        "fig = px.scatter\\\n",
        "(\n",
        "    df,\n",
        "    x=\"sepal_width\", y=\"sepal_length\",\n",
        "    size=\"petal_width\", color=\"petal_length\", color_continuous_scale=\"Magenta\",\n",
        "    symbol='species',\n",
        "    title=\"Iris: '%s' theme\" % pio.templates.default\n",
        ")\n",
        "fig.update_layout(coloraxis_colorbar_x=-0.18)\n",
        "fig.show()"
      ]
    },
    {
      "cell_type": "markdown",
      "id": "1889a5b4",
      "metadata": {
        "id": "1889a5b4"
      },
      "source": [
        "### Создание своих шаблонов"
      ]
    },
    {
      "cell_type": "code",
      "execution_count": null,
      "id": "3b3eae8c",
      "metadata": {
        "id": "3b3eae8c"
      },
      "outputs": [],
      "source": [
        "# а как вообще выглядит стандартный шаблон?\n",
        "\n",
        "plotly_template = pio.templates[\"plotly\"]\n",
        "plotly_template.layout"
      ]
    },
    {
      "cell_type": "code",
      "execution_count": null,
      "id": "c9a43c15",
      "metadata": {
        "id": "c9a43c15"
      },
      "outputs": [],
      "source": [
        "# c помощью словаря\n",
        "large_labels_template = \\\n",
        "{\n",
        "    \"layout\": go.Layout \\\n",
        "    (\n",
        "        title_font_size=30,\n",
        "        xaxis={\"titlefont_size\": 25, \"tickfont_size\": 20},\n",
        "        yaxis={\"titlefont_size\": 25, \"tickfont_size\": 20},\n",
        "        coloraxis_colorbar={\"titlefont_size\": 25, \"tickfont_size\": 20}\n",
        "    )\n",
        "}\n",
        "\n",
        "fig = px.scatter \\\n",
        "(\n",
        "    df,\n",
        "    x=\"sepal_width\", y=\"sepal_length\",\n",
        "    size=\"petal_width\", color=\"petal_length\", color_continuous_scale=\"Magenta\",\n",
        "    symbol='species',\n",
        "    template=large_labels_template, title=\"Iris: '%s' theme\" % \"custom\"\n",
        ")\n",
        "fig.update_layout(coloraxis_colorbar_x=-0.35)\n",
        "fig.show()"
      ]
    },
    {
      "cell_type": "code",
      "execution_count": null,
      "id": "31dd45f4",
      "metadata": {
        "id": "31dd45f4"
      },
      "outputs": [],
      "source": [
        "# с помощью объекта Template()\n",
        "\n",
        "pinkbigmarker_template = go.layout.Template()\n",
        "pinkbigmarker_template.update \\\n",
        "(\n",
        "    data=\\\n",
        "    {\n",
        "        \"scatter\": [go.Scatter(marker={\"size\": 30, \"color\": \"pink\"})]\n",
        "    }\n",
        ")\n",
        "\n",
        "fig = go.Figure()\n",
        "fig.add_scatter(x=np.random.random(100), y=np.random.random(100), mode=\"markers\")\n",
        "fig.update_layout(template=pinkbigmarker_template)\n",
        "fig.show()"
      ]
    },
    {
      "cell_type": "code",
      "execution_count": null,
      "id": "5f9f546b",
      "metadata": {
        "id": "5f9f546b"
      },
      "outputs": [],
      "source": [
        "# можно делать циклы\n",
        "\n",
        "bigmarkers_template = go.layout.Template()\n",
        "bigmarkers_template.update \\\n",
        "(\n",
        "    data=\\\n",
        "    {\n",
        "        \"scatter\": \\\n",
        "        [\n",
        "            go.Scatter(marker={\"size\": 30, \"color\": \"pink\"}),\n",
        "            go.Scatter(marker={\"size\": 30, \"color\": \"indigo\"}),\n",
        "            go.Scatter(marker={\"size\": 30, \"color\": \"lime\"})\n",
        "        ]\n",
        "    }\n",
        ")\n",
        "\n",
        "fig = go.Figure()\n",
        "for i in range(6):\n",
        "    fig.add_scatter(x=np.random.random(20) + i, y=np.random.random(20) - i, mode=\"markers\")\n",
        "fig.update_layout(template=bigmarkers_template)\n",
        "fig.show()"
      ]
    },
    {
      "cell_type": "code",
      "execution_count": null,
      "id": "cc938d8f",
      "metadata": {
        "id": "cc938d8f"
      },
      "outputs": [],
      "source": [
        "# за стилизацию характеристик layout, представляющих собой список объектов, отвечает параметр *defaults\n",
        "# (shapedefaults, annotationdefaults, updatemenusdefaults и т.д.):\n",
        "\n",
        "noedge_template = go.layout.Template()\n",
        "noedge_template.update\\\n",
        "(\n",
        "    layout=\\\n",
        "    {\n",
        "        \"shapedefaults\":\n",
        "        {\n",
        "            \"line_width\": 0\n",
        "        }\n",
        "    }\n",
        ")\n",
        "\n",
        "fig_1 = go.Figure()\n",
        "\n",
        "fig_1.update_layout\\\n",
        "(\n",
        "    title_text=\"without template\",\n",
        "    shapes=\\\n",
        "    [\n",
        "        {\n",
        "            \"x0\": 0, \"x1\": 1, \"y0\": 0, \"y1\": 1,\n",
        "            \"fillcolor\": \"red\",\n",
        "        },\n",
        "        {\n",
        "            \"x0\": 1, \"x1\": 2, \"y0\": 1, \"y1\": 2,\n",
        "            \"fillcolor\": \"blue\",\n",
        "        }\n",
        "    ]\n",
        ")\n",
        "\n",
        "fig_1.show()\n",
        "\n",
        "fig_2 = go.Figure()\n",
        "\n",
        "fig_2.update_layout\\\n",
        "(\n",
        "    template=noedge_template,\n",
        "    title_text=\"with template\",\n",
        "    shapes=\\\n",
        "    [\n",
        "        {\n",
        "            \"x0\": 0, \"x1\": 1, \"y0\": 0, \"y1\": 1,\n",
        "            \"fillcolor\": \"red\",\n",
        "        },\n",
        "        {\n",
        "            \"x0\": 1, \"x1\": 2, \"y0\": 1, \"y1\": 2,\n",
        "            \"fillcolor\": \"blue\",\n",
        "        }\n",
        "    ]\n",
        ")\n",
        "\n",
        "fig_2.show()"
      ]
    },
    {
      "cell_type": "code",
      "execution_count": null,
      "id": "c6da389a",
      "metadata": {
        "id": "c6da389a"
      },
      "outputs": [],
      "source": [
        "# для стилизации можно передавать и сам набор характеристик:\n",
        "\n",
        "draft_template = go.layout.Template()\n",
        "draft_template.update\\\n",
        "(\n",
        "    layout=\\\n",
        "    {\n",
        "        \"annotations\":\n",
        "        [{\n",
        "            \"name\": \"draft watermark\",\n",
        "            \"text\": \"DRAFT\",\n",
        "            \"textangle\": -30,\n",
        "            \"opacity\": 0.1,\n",
        "            \"font\": {\"color\": \"black\", \"size\": 100},\n",
        "            \"xref\": \"paper\",\n",
        "            \"yref\": \"paper\",\n",
        "            \"x\": 0.5,\n",
        "            \"y\": 0.5,\n",
        "            \"showarrow\": False,\n",
        "        }]\n",
        "    }\n",
        ")\n",
        "\n",
        "fig=go.Figure()\n",
        "fig.update_layout\\\n",
        "(\n",
        "    template=draft_template,\n",
        "    shapes=\\\n",
        "    [\n",
        "        {\n",
        "            \"x0\": 0, \"x1\": 1, \"y0\": 0, \"y1\": 1,\n",
        "            \"fillcolor\": \"red\",\n",
        "        },\n",
        "        {\n",
        "            \"x0\": 1, \"x1\": 2, \"y0\": 1, \"y1\": 2,\n",
        "            \"fillcolor\": \"blue\",\n",
        "        }\n",
        "    ]\n",
        ")\n",
        "fig.show()"
      ]
    },
    {
      "cell_type": "code",
      "execution_count": null,
      "id": "e4549691",
      "metadata": {
        "id": "e4549691"
      },
      "outputs": [],
      "source": [
        "# чтобы кастомизировать параметры самого объекта из шаблона, его надо назвать,\n",
        "# а затем сослаться на него с помощью templateitemname внутри методов создания рисунка\n",
        "\n",
        "draft_template = go.layout.Template()\n",
        "draft_template.update\\\n",
        "(\n",
        "    layout=\\\n",
        "    {\n",
        "        \"annotations\":\n",
        "        [{\n",
        "            \"name\": \"draft watermark\",\n",
        "            \"text\": \"DRAFT\",\n",
        "            \"textangle\": -30,\n",
        "            \"opacity\": 0.1,\n",
        "            \"font\": {\"color\": \"black\", \"size\": 100},\n",
        "            \"xref\": \"paper\",\n",
        "            \"yref\": \"paper\",\n",
        "            \"x\": 0.5,\n",
        "            \"y\": 0.5,\n",
        "            \"showarrow\": False,\n",
        "        }]\n",
        "    }\n",
        ")\n",
        "\n",
        "fig=go.Figure()\n",
        "fig.update_layout\\\n",
        "(\n",
        "    template=draft_template,\n",
        "    shapes=\\\n",
        "    [\n",
        "        {\n",
        "            \"x0\": 0, \"x1\": 1, \"y0\": 0, \"y1\": 1,\n",
        "            \"fillcolor\": \"red\",\n",
        "        },\n",
        "        {\n",
        "            \"x0\": 1, \"x1\": 2, \"y0\": 1, \"y1\": 2,\n",
        "            \"fillcolor\": \"blue\",\n",
        "        }\n",
        "    ],\n",
        "    annotations=\\\n",
        "    [{\n",
        "        \"templateitemname\": \"draft watermark\",\n",
        "        \"text\": \"CONFIDENTIAL\"\n",
        "    }]\n",
        ")\n",
        "fig.show()"
      ]
    },
    {
      "cell_type": "code",
      "execution_count": null,
      "id": "66a56a8b",
      "metadata": {
        "id": "66a56a8b"
      },
      "outputs": [],
      "source": [
        "# созданный шаблон можно добавить в список шаблонов в pio\n",
        "\n",
        "draft_template = go.layout.Template()\n",
        "draft_template.update\\\n",
        "(\n",
        "    layout=\\\n",
        "    {\n",
        "        \"annotations\":\n",
        "        [{\n",
        "            \"name\": \"draft watermark\",\n",
        "            \"text\": \"DRAFT\",\n",
        "            \"textangle\": -30,\n",
        "            \"opacity\": 0.1,\n",
        "            \"font\": {\"color\": \"black\", \"size\": 100},\n",
        "            \"xref\": \"paper\",\n",
        "            \"yref\": \"paper\",\n",
        "            \"x\": 0.5,\n",
        "            \"y\": 0.5,\n",
        "            \"showarrow\": False,\n",
        "        }]\n",
        "    }\n",
        ")\n",
        "pio.templates[\"draft\"] = draft_template\n",
        "\n",
        "fig=go.Figure()\n",
        "fig.update_layout\\\n",
        "(\n",
        "    template=\"draft\",\n",
        "    shapes=\\\n",
        "    [\n",
        "        {\n",
        "            \"x0\": 0, \"x1\": 1, \"y0\": 0, \"y1\": 1,\n",
        "            \"fillcolor\": \"red\",\n",
        "        },\n",
        "        {\n",
        "            \"x0\": 1, \"x1\": 2, \"y0\": 1, \"y1\": 2,\n",
        "            \"fillcolor\": \"blue\",\n",
        "        }\n",
        "    ]\n",
        ")\n",
        "fig.show()"
      ]
    },
    {
      "cell_type": "code",
      "execution_count": null,
      "id": "6eac9649",
      "metadata": {
        "id": "6eac9649"
      },
      "outputs": [],
      "source": [
        "# также этот шаблон, как и любой другой, можно сделать дефотным\n",
        "\n",
        "pio.templates.default = \"draft\"\n",
        "\n",
        "fig=go.Figure()\n",
        "fig.update_layout\\\n",
        "(\n",
        "    shapes=\\\n",
        "    [\n",
        "        {\n",
        "            \"x0\": 0, \"x1\": 1, \"y0\": 0, \"y1\": 1,\n",
        "            \"fillcolor\": \"red\",\n",
        "        },\n",
        "        {\n",
        "            \"x0\": 1, \"x1\": 2, \"y0\": 1, \"y1\": 2,\n",
        "            \"fillcolor\": \"blue\",\n",
        "        }\n",
        "    ]\n",
        ")\n",
        "fig.show()"
      ]
    },
    {
      "cell_type": "code",
      "execution_count": null,
      "id": "ce78a822",
      "metadata": {
        "id": "ce78a822"
      },
      "outputs": [],
      "source": [
        "# шаблоны можно объединять между собой с помощью \"+\"\n",
        "\n",
        "noedge_template = go.layout.Template()\n",
        "noedge_template.update\\\n",
        "(\n",
        "    layout=\\\n",
        "    {\n",
        "        \"shapedefaults\":\n",
        "        {\n",
        "            \"line_width\": 0\n",
        "        }\n",
        "    }\n",
        ")\n",
        "pio.templates[\"shapes_noedge\"] = noedge_template\n",
        "\n",
        "fig=go.Figure()\n",
        "fig.update_layout\\\n",
        "(\n",
        "    template=\"shapes_noedge+draft\",\n",
        "    shapes=\\\n",
        "    [\n",
        "        {\n",
        "            \"x0\": 0, \"x1\": 1, \"y0\": 0, \"y1\": 1,\n",
        "            \"fillcolor\": \"red\",\n",
        "        },\n",
        "        {\n",
        "            \"x0\": 1, \"x1\": 2, \"y0\": 1, \"y1\": 2,\n",
        "            \"fillcolor\": \"blue\",\n",
        "        }\n",
        "    ]\n",
        ")\n",
        "fig.show()"
      ]
    },
    {
      "cell_type": "code",
      "execution_count": null,
      "id": "36b0513c",
      "metadata": {
        "id": "36b0513c"
      },
      "outputs": [],
      "source": [
        "# лучший способ оперировать шаблонами это создавать файл под каждый из них и потом вызывать нужные\n",
        "\n",
        "from templates import shapes_noedge, draft"
      ]
    },
    {
      "cell_type": "code",
      "execution_count": null,
      "id": "52b961af",
      "metadata": {
        "id": "52b961af"
      },
      "outputs": [],
      "source": [
        "fig=go.Figure()\n",
        "fig.update_layout\\\n",
        "(\n",
        "    template=\"shapes_noedge+draft\",\n",
        "    shapes=\\\n",
        "    [\n",
        "        {\n",
        "            \"x0\": 0, \"x1\": 1, \"y0\": 0, \"y1\": 1,\n",
        "            \"fillcolor\": \"red\",\n",
        "        },\n",
        "        {\n",
        "            \"x0\": 1, \"x1\": 2, \"y0\": 1, \"y1\": 2,\n",
        "            \"fillcolor\": \"blue\",\n",
        "        }\n",
        "    ]\n",
        ")\n",
        "fig.show()"
      ]
    },
    {
      "cell_type": "markdown",
      "id": "0897203d",
      "metadata": {
        "id": "0897203d"
      },
      "source": [
        "## Дополнительные материалы"
      ]
    },
    {
      "cell_type": "markdown",
      "id": "f3b12d12",
      "metadata": {
        "id": "f3b12d12"
      },
      "source": [
        "[Документация по формам](https://plotly.com/python/reference/layout/shapes/)\n",
        "\n",
        "[Документация по аннотациям](https://plotly.com/python/reference/layout/annotations/)"
      ]
    }
  ],
  "metadata": {
    "kernelspec": {
      "display_name": "Python 3 (ipykernel)",
      "language": "python",
      "name": "python3"
    },
    "language_info": {
      "codemirror_mode": {
        "name": "ipython",
        "version": 3
      },
      "file_extension": ".py",
      "mimetype": "text/x-python",
      "name": "python",
      "nbconvert_exporter": "python",
      "pygments_lexer": "ipython3",
      "version": "3.10.12"
    },
    "colab": {
      "provenance": [],
      "include_colab_link": true
    }
  },
  "nbformat": 4,
  "nbformat_minor": 5
}