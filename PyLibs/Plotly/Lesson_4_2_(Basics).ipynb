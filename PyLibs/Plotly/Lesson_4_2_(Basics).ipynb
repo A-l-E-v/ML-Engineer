{
  "cells": [
    {
      "cell_type": "markdown",
      "metadata": {
        "id": "view-in-github",
        "colab_type": "text"
      },
      "source": [
        "<a href=\"https://colab.research.google.com/github/A-l-E-v/ML-Engineer/blob/main/Lesson_4_2_(Basics).ipynb\" target=\"_parent\"><img src=\"https://colab.research.google.com/assets/colab-badge.svg\" alt=\"Open In Colab\"/></a>"
      ]
    },
    {
      "cell_type": "code",
      "execution_count": null,
      "id": "3b04b887",
      "metadata": {
        "id": "3b04b887"
      },
      "outputs": [],
      "source": [
        "# основная библиотека в модуле\n",
        "!pip install plotly"
      ]
    },
    {
      "cell_type": "code",
      "execution_count": null,
      "id": "458895e4",
      "metadata": {
        "scrolled": true,
        "id": "458895e4"
      },
      "outputs": [],
      "source": [
        "# для работы некоторых виджетов\n",
        "!pip install ipywidgets"
      ]
    },
    {
      "cell_type": "code",
      "execution_count": null,
      "id": "30342cc9",
      "metadata": {
        "id": "30342cc9"
      },
      "outputs": [],
      "source": [
        "# для экспорта в статичное изображение\n",
        "!pip install kaleido"
      ]
    },
    {
      "cell_type": "markdown",
      "id": "a54a995a",
      "metadata": {
        "id": "a54a995a"
      },
      "source": [
        "## Graph Objects"
      ]
    },
    {
      "cell_type": "code",
      "execution_count": null,
      "id": "fbc8e070",
      "metadata": {
        "id": "fbc8e070"
      },
      "outputs": [],
      "source": [
        "import numpy as np\n",
        "import plotly.graph_objects as go\n",
        "import plotly.subplots as sp"
      ]
    },
    {
      "cell_type": "code",
      "execution_count": null,
      "id": "63e64cdd",
      "metadata": {
        "id": "63e64cdd"
      },
      "outputs": [],
      "source": [
        "# hello world\n",
        "\n",
        "fig = go.Figure()\n",
        "fig.show()"
      ]
    },
    {
      "cell_type": "code",
      "execution_count": null,
      "id": "0e0b1c5a",
      "metadata": {
        "id": "0e0b1c5a"
      },
      "outputs": [],
      "source": [
        "# добавим линию\n",
        "\n",
        "fig = go.Figure \\\n",
        "(\n",
        "    data=[go.Scatter(x=[1, 2, 3], y=[3, 2, 1])],\n",
        "    layout=go.Layout \\\n",
        "    (\n",
        "        title=go.layout.Title(text=\"A Figure created by plotly.graph_objects\")\n",
        "    )\n",
        ")\n",
        "\n",
        "fig.show()"
      ]
    },
    {
      "cell_type": "code",
      "execution_count": null,
      "id": "a57f1a48",
      "metadata": {
        "id": "a57f1a48"
      },
      "outputs": [],
      "source": [
        "# можно оставить только точки\n",
        "\n",
        "fig = go.Figure \\\n",
        "(\n",
        "    data=[go.Scatter(x=[1, 2, 3], y=[3, 2, 1], mode='markers')],\n",
        "    layout=go.Layout \\\n",
        "    (\n",
        "        title=go.layout.Title(text=\"A Figure created by plotly.graph_objects\")\n",
        "    )\n",
        ")\n",
        "\n",
        "fig.show()"
      ]
    },
    {
      "cell_type": "code",
      "execution_count": null,
      "id": "ad5258c8",
      "metadata": {
        "id": "ad5258c8"
      },
      "outputs": [],
      "source": [
        "# можно определить параметры заранее, чтобы потом их переиспользовать\n",
        "\n",
        "dict_of_params = \\\n",
        "{\n",
        "    \"data\": [{\n",
        "                \"type\": \"scatter\",\n",
        "                'x': [1, 2, 3],\n",
        "                'y': [3, 2, 1],\n",
        "                \"mode\": \"markers\"\n",
        "            }],\n",
        "    \"layout\": {\"title\": {\"text\": \"A Figure created by plotly.graph_objects and preset of params\"}}\n",
        "}\n",
        "\n",
        "fig = go.Figure(dict_of_params)\n",
        "\n",
        "fig.show()"
      ]
    },
    {
      "cell_type": "code",
      "execution_count": null,
      "id": "abd09181",
      "metadata": {
        "id": "abd09181"
      },
      "outputs": [],
      "source": [
        "# можно конвертировать в словарь или json\n",
        "\n",
        "fig = go.Figure \\\n",
        "(\n",
        "    data=[go.Scatter(x=[1, 2, 3], y=[3, 2, 1], mode='markers')],\n",
        "    layout=go.Layout \\\n",
        "    (\n",
        "        title=go.layout.Title(text=\"A Figure created by plotly.graph_objects\")\n",
        "    )\n",
        ")\n",
        "\n",
        "fig.layout.template = None # убираем вывод графика\n",
        "\n",
        "print(\"Dictionary representation of a figure:\\n\\n\" + str(fig.to_dict()))\n",
        "print(\"\\n\")\n",
        "print(\"JSON Representation of a figure:\\n\\n\" + str(fig.to_json()))"
      ]
    },
    {
      "cell_type": "markdown",
      "id": "128a0b7f",
      "metadata": {
        "id": "128a0b7f"
      },
      "source": [
        "## Обновление элементов графика"
      ]
    },
    {
      "cell_type": "code",
      "execution_count": null,
      "id": "9a59c306",
      "metadata": {
        "id": "9a59c306"
      },
      "outputs": [],
      "source": [
        "# базовый способ это сделать - с помощью add_trace()\n",
        "\n",
        "fig = go.Figure()\n",
        "\n",
        "fig.add_trace(go.Scatter(x=[1, 2, 3], y=[3, 2, 1], mode='markers'))\n",
        "\n",
        "fig.show()"
      ]
    },
    {
      "cell_type": "code",
      "execution_count": null,
      "id": "b227227b",
      "metadata": {
        "id": "b227227b"
      },
      "outputs": [],
      "source": [
        "# делать композиции можно с использованием отдельной библиотеки\n",
        "\n",
        "fig = sp.make_subplots(rows=2, cols=1)\n",
        "\n",
        "fig.add_trace(go.Scatter(y=[1, 2, 3], mode=\"lines+markers\"), row=1, col=1)\n",
        "fig.add_trace(go.Histogram(x=np.random.choice(range(10), size=1000,\n",
        "                                              p=np.exp(range(10))/sum(np.exp(range(10))))),\n",
        "              row=2, col=1)\n",
        "\n",
        "fig.show()"
      ]
    },
    {
      "cell_type": "code",
      "execution_count": null,
      "id": "f0619567",
      "metadata": {
        "id": "f0619567"
      },
      "outputs": [],
      "source": [
        "# обновлять композицию можно также используя add_{type}\n",
        "\n",
        "fig = sp.make_subplots(rows=2, cols=1)\n",
        "\n",
        "fig.add_scatter(y=[1, 2, 3], mode=\"lines+markers\", row=1, col=1)\n",
        "fig.add_histogram(x=np.random.choice(range(10), size=1000,\n",
        "                                     p=np.exp(range(10))/sum(np.exp(range(10)))),\n",
        "                  row=2, col=1)\n",
        "\n",
        "fig.show()"
      ]
    },
    {
      "cell_type": "code",
      "execution_count": null,
      "id": "85db10e7",
      "metadata": {
        "id": "85db10e7"
      },
      "outputs": [],
      "source": [
        "# магия с подчёркиваниями часто работает при задании параметров\n",
        "\n",
        "fig = go.Figure \\\n",
        "(\n",
        "    data=[go.Scatter(x=[1, 2, 3], y=[3, 2, 1], mode='markers')],\n",
        "    layout=go.Layout \\\n",
        "    (\n",
        "        title=go.layout.Title(text=\"A Figure created without magic underscores\")\n",
        "    )\n",
        ")\n",
        "\n",
        "fig.show()\n",
        "\n",
        "# используем подчёркивания, \"раскрывая скобки\"\n",
        "\n",
        "fig = go.Figure \\\n",
        "(\n",
        "    data=[go.Scatter(x=[1, 2, 3], y=[3, 2, 1], mode='lines+markers')],\n",
        "    layout_title=go.layout.Title(text=\"A Figure created with magic underscores\")\n",
        ")\n",
        "\n",
        "fig.show()\n",
        "\n",
        "# можно обнаглеть ещё сильнее\n",
        "\n",
        "fig = go.Figure \\\n",
        "(\n",
        "    data=[go.Scatter(x=[1, 2, 3], y=[3, 2, 1], mode='lines+markers')],\n",
        "    layout_title_text=\"Even more magic\"\n",
        ")\n",
        "\n",
        "fig.show()"
      ]
    },
    {
      "cell_type": "code",
      "execution_count": null,
      "id": "56c7b88e",
      "metadata": {
        "id": "56c7b88e"
      },
      "outputs": [],
      "source": [
        "# теперь заёмемся обновлением атрибутов, наш помощник тут update_layout()\n",
        "\n",
        "fig = go.Figure()\n",
        "\n",
        "fig.add_trace(go.Scatter(x=[1, 2, 3], y=[3, 2, 1], mode='markers'))\n",
        "\n",
        "# используем подчёркивания\n",
        "fig.update_layout(title_text=\"Figure created using update_layout() and magic underscores\",\n",
        "                  title_font_size=30, title_font_color='green')\n",
        "\n",
        "fig.show()"
      ]
    },
    {
      "cell_type": "code",
      "execution_count": null,
      "id": "cf801800",
      "metadata": {
        "id": "cf801800"
      },
      "outputs": [],
      "source": [
        "# все способы обновить атрибуты ниже являются эквивалентными:\n",
        "\n",
        "fig.update_layout(title_text=\"update_layout() Syntax Example\",\n",
        "                  title_font_size=30, title_font_color=\"green\")\n",
        "\n",
        "fig.update_layout(title_text=\"update_layout() Syntax Example\",\n",
        "                  title_font={\"size\": 30, \"color\": \"green\"})\n",
        "\n",
        "\n",
        "fig.update_layout(title=\\\n",
        "                  {\n",
        "                      \"text\": \"update_layout() Syntax Example\",\n",
        "                      \"font\": {\"size\": 30, \"color\": \"green\"}\n",
        "                  })\n",
        "\n",
        "fig.update_layout(\\\n",
        "{\n",
        "    \"title\": \\\n",
        "    {\n",
        "        \"text\": \"update_layout() Syntax Example\",\n",
        "        \"font\": {\"size\": 30, \"color\": \"green\"}\n",
        "    }\n",
        "})\n",
        "\n",
        "fig.update_layout(title=go.layout.Title(text=\"update_layout() Syntax Example\",\n",
        "                                        font=go.layout.title.Font(size=30, color=\"green\")))"
      ]
    },
    {
      "cell_type": "code",
      "execution_count": null,
      "id": "d95421a5",
      "metadata": {
        "id": "d95421a5"
      },
      "outputs": [],
      "source": [
        "# ещё немного примеров обновления атрибутов\n",
        "\n",
        "fig = sp.make_subplots(rows=2, cols=1)\n",
        "\n",
        "fig.add_scatter(y=[3, 2, 3.5], mode=\"markers\",\n",
        "                marker={\"size\": 15, \"color\": \"crimson\"},\n",
        "                name=\"scatter_up\", row=1, col=1)\n",
        "\n",
        "fig.add_scatter(y=[2, 3, 4], mode=\"lines\",\n",
        "                marker={\"color\": \"violet\"},\n",
        "                name=\"line_up\", row=1, col=1)\n",
        "\n",
        "fig.add_scatter(y=[2, 3, 4], mode=\"markers\",\n",
        "                marker={\"size\": 15, \"color\": \"violet\"},\n",
        "                name=\"scatter_down\", row=2, col=1)\n",
        "\n",
        "fig.add_scatter(y=[3, 2, 3.5], mode=\"lines\",\n",
        "                marker={\"color\": \"crimson\"},\n",
        "                name=\"line_down\", row=2, col=1)\n",
        "\n",
        "fig.show()"
      ]
    },
    {
      "cell_type": "code",
      "execution_count": null,
      "id": "0266bae1",
      "metadata": {
        "id": "0266bae1"
      },
      "outputs": [],
      "source": [
        "# мы можем обновить некий именованный параметр сразу у всех графиков\n",
        "\n",
        "fig = sp.make_subplots(rows=2, cols=1)\n",
        "\n",
        "fig.add_scatter(y=[3, 2, 3.5], mode=\"markers\",\n",
        "                marker={\"size\": 15, \"color\": \"crimson\"},\n",
        "                name=\"scatter_up\", row=1, col=1)\n",
        "\n",
        "fig.add_scatter(y=[2, 3, 4], mode=\"lines\",\n",
        "                marker={\"color\": \"violet\"},\n",
        "                name=\"line_up\", row=1, col=1)\n",
        "\n",
        "fig.add_scatter(y=[2, 3, 4], mode=\"markers\",\n",
        "                marker={\"size\": 15, \"color\": \"violet\"},\n",
        "                name=\"scatter_down\", row=2, col=1)\n",
        "\n",
        "fig.add_scatter(y=[3, 2, 3.5], mode=\"lines\",\n",
        "                marker={\"color\": \"crimson\"},\n",
        "                name=\"line_down\", row=2, col=1)\n",
        "\n",
        "fig.update_traces(marker={\"color\": \"indigo\"})\n",
        "\n",
        "fig.show()"
      ]
    },
    {
      "cell_type": "code",
      "execution_count": null,
      "id": "80f8f731",
      "metadata": {
        "id": "80f8f731"
      },
      "outputs": [],
      "source": [
        "# мы можем применить селектор\n",
        "\n",
        "fig = sp.make_subplots(rows=2, cols=1)\n",
        "\n",
        "fig.add_scatter(y=[3, 2, 3.5], mode=\"markers\",\n",
        "                marker={\"size\": 15, \"color\": \"crimson\"},\n",
        "                name=\"scatter_up\", row=1, col=1)\n",
        "\n",
        "fig.add_scatter(y=[2, 3, 4], mode=\"lines\",\n",
        "                marker={\"color\": \"violet\"},\n",
        "                name=\"line_up\", row=1, col=1)\n",
        "\n",
        "fig.add_scatter(y=[2, 3, 4], mode=\"markers\",\n",
        "                marker={\"size\": 15, \"color\": \"violet\"},\n",
        "                name=\"scatter_down\", row=2, col=1)\n",
        "\n",
        "fig.add_scatter(y=[3, 2, 3.5], mode=\"lines\",\n",
        "                marker={\"color\": \"crimson\"},\n",
        "                name=\"line_down\", row=2, col=1)\n",
        "\n",
        "fig.update_traces(marker={\"color\": \"indigo\"}, selector={\"mode\": \"lines\"})\n",
        "\n",
        "fig.show()"
      ]
    },
    {
      "cell_type": "code",
      "execution_count": null,
      "id": "09b984b2",
      "metadata": {
        "id": "09b984b2"
      },
      "outputs": [],
      "source": [
        "# также можно выбирать только определенную строку или столбец\n",
        "\n",
        "fig = sp.make_subplots(rows=2, cols=1)\n",
        "\n",
        "fig.add_scatter(y=[3, 2, 3.5], mode=\"markers\",\n",
        "                marker={\"size\": 15, \"color\": \"crimson\"},\n",
        "                name=\"scatter_up\", row=1, col=1)\n",
        "\n",
        "fig.add_scatter(y=[2, 3, 4], mode=\"lines\",\n",
        "                marker={\"color\": \"violet\"},\n",
        "                name=\"line_up\", row=1, col=1)\n",
        "\n",
        "fig.add_scatter(y=[2, 3, 4], mode=\"markers\",\n",
        "                marker={\"size\": 15, \"color\": \"violet\"},\n",
        "                name=\"scatter_down\", row=2, col=1)\n",
        "\n",
        "fig.add_scatter(y=[3, 2, 3.5], mode=\"lines\",\n",
        "                marker={\"color\": \"crimson\"},\n",
        "                name=\"line_down\", row=2, col=1)\n",
        "\n",
        "fig.update_traces(marker_color=\"indigo\", selector={\"type\": \"scatter\"}, row=2)\n",
        "\n",
        "fig.show()"
      ]
    },
    {
      "cell_type": "code",
      "execution_count": null,
      "id": "6801162a",
      "metadata": {
        "id": "6801162a"
      },
      "outputs": [],
      "source": [
        "fig = go.Figure \\\n",
        "(\n",
        "    data=[go.Scatter(x=[1, 2, 3], y=[3, 2, 1], mode='markers', marker_color='crimson')],\n",
        "    layout=go.Layout \\\n",
        "    (\n",
        "        title=go.layout.Title(text=\"A Figure created by plotly.graph_objects\")\n",
        "    )\n",
        ")\n",
        "\n",
        "\n",
        "fig.update_traces(marker={\"opacity\": 0.4})\n",
        "\n",
        "fig.show()"
      ]
    },
    {
      "cell_type": "code",
      "execution_count": null,
      "id": "1a8487fa",
      "metadata": {
        "id": "1a8487fa"
      },
      "outputs": [],
      "source": [
        "fig = go.Figure \\\n",
        "(\n",
        "    data=[go.Scatter(x=[1, 2, 3], y=[3, 2, 1], mode='markers', marker_color='crimson')],\n",
        "    layout=go.Layout \\\n",
        "    (\n",
        "        title=go.layout.Title(text=\"A Figure created by plotly.graph_objects\")\n",
        "    )\n",
        ")\n",
        "\n",
        "fig.update_traces(overwrite=True, marker={\"opacity\": 0.7}) # здесь магические подчёркивания не сработают!\n",
        "\n",
        "fig.show()"
      ]
    },
    {
      "cell_type": "code",
      "execution_count": null,
      "id": "553794ca",
      "metadata": {
        "id": "553794ca"
      },
      "outputs": [],
      "source": [
        "# также можно обновлять парметры осей\n",
        "\n",
        "fig = sp.make_subplots(rows=2, cols=1)\n",
        "\n",
        "fig.add_scatter(y=[3, 2, 3.5], mode=\"markers\",\n",
        "                marker={\"size\": 15, \"color\": \"crimson\"},\n",
        "                name=\"scatter_up\", row=1, col=1)\n",
        "\n",
        "fig.add_scatter(y=[2, 3, 4], mode=\"lines\",\n",
        "                marker={\"color\": \"violet\"},\n",
        "                name=\"line_up\", row=1, col=1)\n",
        "\n",
        "fig.add_scatter(y=[2, 3, 4], mode=\"markers\",\n",
        "                marker={\"size\": 15, \"color\": \"violet\"},\n",
        "                name=\"scatter_down\", row=2, col=1)\n",
        "\n",
        "fig.add_scatter(y=[3, 2, 3.5], mode=\"lines\",\n",
        "                marker={\"color\": \"crimson\"},\n",
        "                name=\"line_down\", row=2, col=1)\n",
        "\n",
        "fig.update_xaxes(showgrid=False)\n",
        "\n",
        "fig.show()"
      ]
    },
    {
      "cell_type": "code",
      "execution_count": null,
      "id": "bbd2fec3",
      "metadata": {
        "id": "bbd2fec3"
      },
      "outputs": [],
      "source": [
        "# также обновление может происходить путём прямого обращения к атрибутам (нежелательный путь)\n",
        "\n",
        "fig = go.Figure \\\n",
        "(\n",
        "    data=[go.Scatter(x=[1, 2, 3], y=[3, 2, 1], mode='markers', marker_color='crimson')]\n",
        ")\n",
        "\n",
        "fig.layout.title.text = \"Figure created using direct updating of attributes\"\n",
        "\n",
        "fig.show()"
      ]
    },
    {
      "cell_type": "code",
      "execution_count": null,
      "id": "891e13ec",
      "metadata": {
        "id": "891e13ec"
      },
      "outputs": [],
      "source": [
        "fig = go.Figure \\\n",
        "(\n",
        "    data=[go.Scatter(x=[1, 2, 3], y=[3, 2, 1], mode='markers', marker_color='crimson')],\n",
        "    layout=go.Layout \\\n",
        "    (\n",
        "        title=go.layout.Title(text=\"Figure created using direct updating of attributes\")\n",
        "    )\n",
        ")\n",
        "\n",
        "fig.data[0].marker.size = 30\n",
        "fig.data[0].marker.color = 'pink'\n",
        "\n",
        "fig.show()"
      ]
    },
    {
      "cell_type": "markdown",
      "id": "9a61a7e8",
      "metadata": {
        "id": "9a61a7e8"
      },
      "source": [
        "## Plotly Express"
      ]
    },
    {
      "cell_type": "code",
      "execution_count": null,
      "id": "0e2f8897",
      "metadata": {
        "id": "0e2f8897"
      },
      "outputs": [],
      "source": [
        "import plotly.express as px\n",
        "\n",
        "# можно импортировать простые датасеты\n",
        "df = px.data.stocks()"
      ]
    },
    {
      "cell_type": "code",
      "execution_count": null,
      "id": "124bcaf3",
      "metadata": {
        "id": "124bcaf3"
      },
      "outputs": [],
      "source": [
        "df"
      ]
    },
    {
      "cell_type": "code",
      "execution_count": null,
      "id": "d5808ed9",
      "metadata": {
        "id": "d5808ed9"
      },
      "outputs": [],
      "source": [
        "# можно легко рисовать линии\n",
        "fig = px.line(df, x=\"date\", y=df.columns[1:], title=\"A Plotly Express Figure\")\n",
        "\n",
        "fig.show()"
      ]
    },
    {
      "cell_type": "code",
      "execution_count": null,
      "id": "c3dec9b6",
      "metadata": {
        "id": "c3dec9b6"
      },
      "outputs": [],
      "source": [
        "px.data.experiment()"
      ]
    },
    {
      "cell_type": "code",
      "execution_count": null,
      "id": "c759da58",
      "metadata": {
        "id": "c759da58"
      },
      "outputs": [],
      "source": [
        "# можно делать композиции одним параметром как в seaborn\n",
        "df = px.data.experiment()\n",
        "\n",
        "fig = px.scatter(df, x=\"experiment_1\", y=\"experiment_2\", color=\"gender\", facet_col=\"group\",\n",
        "                 title=\"Using facet_col to create composition\")\n",
        "\n",
        "fig.show()"
      ]
    },
    {
      "cell_type": "code",
      "execution_count": null,
      "id": "2cd8e72f",
      "metadata": {
        "id": "2cd8e72f"
      },
      "outputs": [],
      "source": [
        "# ... и регрессионные линии тоже тут как тут\n",
        "df = px.data.experiment()\n",
        "\n",
        "fig = px.scatter(df, x=\"experiment_1\", y=\"experiment_2\", color=\"gender\", facet_col=\"group\", trendline=\"ols\",\n",
        "                 title=\"Adding traces to subplots within a Plotly Express Figure\")\n",
        "\n",
        "fig.update_traces(\n",
        "    line=dict(dash=\"dot\"),\n",
        "    selector=dict(type=\"scatter\", mode=\"lines\"))\n",
        "\n",
        "fig.show()"
      ]
    },
    {
      "cell_type": "code",
      "execution_count": null,
      "id": "dbdd83b5",
      "metadata": {
        "id": "dbdd83b5"
      },
      "outputs": [],
      "source": [
        "# ещё можно применять обновление параметров по условию\n",
        "\n",
        "df = px.data.experiment()\n",
        "\n",
        "fig = px.scatter(df, x=\"experiment_1\", y=\"experiment_2\", color=\"gender\", facet_col=\"group\", trendline=\"ols\",\n",
        "                 title=\"Changing layout by condition\")\n",
        "\n",
        "fig.update_traces(\n",
        "    line=dict(dash=\"dot\"),\n",
        "    selector=dict(type=\"scatter\", mode=\"lines\"))\n",
        "\n",
        "\n",
        "fig.for_each_trace(\n",
        "    lambda trace: trace.update(marker_symbol=\"star\") if trace.name == \"male\" \\\n",
        "    else trace.update(marker_symbol=\"diamond\"),\n",
        ")\n",
        "\n",
        "fig.show()"
      ]
    },
    {
      "cell_type": "code",
      "execution_count": null,
      "id": "e2c5b882",
      "metadata": {
        "id": "e2c5b882"
      },
      "outputs": [],
      "source": [
        "# Ещё несколько примеров использования\n",
        "\n",
        "df = px.data.experiment()\n",
        "\n",
        "fig = px.scatter(df, x=\"experiment_1\", y=\"experiment_2\", color=\"gender\", marginal_y=\"violin\",\n",
        "           marginal_x=\"box\", trendline=\"ols\", template=\"simple_white\")\n",
        "\n",
        "fig.show()"
      ]
    },
    {
      "cell_type": "code",
      "execution_count": null,
      "id": "c5968686",
      "metadata": {
        "id": "c5968686"
      },
      "outputs": [],
      "source": [
        "px.data.gapminder()"
      ]
    },
    {
      "cell_type": "code",
      "execution_count": null,
      "id": "413025df",
      "metadata": {
        "id": "413025df"
      },
      "outputs": [],
      "source": [
        "df = px.data.gapminder()\n",
        "\n",
        "fig = px.scatter(df.query(\"year==2007\"), x=\"gdpPercap\", y=\"lifeExp\", size=\"pop\", color=\"continent\",\n",
        "           hover_name=\"country\", log_x=True, size_max=60)\n",
        "\n",
        "fig.show()"
      ]
    },
    {
      "cell_type": "code",
      "execution_count": null,
      "id": "7be09b45",
      "metadata": {
        "id": "7be09b45"
      },
      "outputs": [],
      "source": [
        "df = px.data.gapminder()\n",
        "\n",
        "fig = px.scatter(df, x=\"gdpPercap\", y=\"lifeExp\", animation_frame=\"year\", animation_group=\"country\",\n",
        "           size=\"pop\", color=\"continent\", hover_name=\"country\", facet_col=\"continent\",\n",
        "           log_x=True, size_max=45, range_x=[100, 100000], range_y=[25, 90])\n",
        "\n",
        "\n",
        "fig.show()"
      ]
    },
    {
      "cell_type": "code",
      "execution_count": null,
      "id": "a66db508",
      "metadata": {
        "id": "a66db508"
      },
      "outputs": [],
      "source": [
        "df = px.data.gapminder()\n",
        "fig = px.area(df, x=\"year\", y=\"pop\", color=\"continent\", line_group=\"country\")\n",
        "fig.show()"
      ]
    },
    {
      "cell_type": "code",
      "execution_count": null,
      "id": "d4aec7ea",
      "metadata": {
        "id": "d4aec7ea"
      },
      "outputs": [],
      "source": [
        "df = px.data.gapminder().query(\"year == 2007\")\n",
        "fig = px.sunburst(df, path=['continent', 'country'], values='pop',\n",
        "                  color='lifeExp', hover_data=['iso_alpha'])\n",
        "fig.show()"
      ]
    },
    {
      "cell_type": "code",
      "execution_count": null,
      "id": "a70e8a9b",
      "metadata": {
        "id": "a70e8a9b"
      },
      "outputs": [],
      "source": [
        "df = px.data.gapminder().query(\"year == 2007\")\n",
        "fig = px.treemap(df, path=[px.Constant('world'), 'continent', 'country'], values='pop',\n",
        "                  color='lifeExp', hover_data=['iso_alpha'])\n",
        "fig.show()"
      ]
    },
    {
      "cell_type": "code",
      "execution_count": null,
      "id": "2fe7899d",
      "metadata": {
        "id": "2fe7899d"
      },
      "outputs": [],
      "source": [
        "df = px.data.tips()\n",
        "fig = px.violin(df, y=\"tip\", x=\"smoker\", color=\"sex\", box=True, points=\"all\", hover_data=df.columns)\n",
        "fig.show()"
      ]
    },
    {
      "cell_type": "markdown",
      "id": "33d15490",
      "metadata": {
        "id": "33d15490"
      },
      "source": [
        "## Работа с интерактивным выводом"
      ]
    },
    {
      "cell_type": "code",
      "execution_count": null,
      "id": "7e06484d",
      "metadata": {
        "id": "7e06484d"
      },
      "outputs": [],
      "source": [
        "# добавляем возможность скроллить изображение\n",
        "\n",
        "fig = go.Figure()\n",
        "\n",
        "config = {'scrollZoom': True} # здесь мы настраиваем конфигурацию интерактивного вывода\n",
        "\n",
        "fig.add_trace\\\n",
        "(\n",
        "    go.Scatter(x=[1, 2, 3], y=[3, 2, 1])\\\n",
        ")\n",
        "\n",
        "fig.show(config=config)"
      ]
    },
    {
      "cell_type": "code",
      "execution_count": null,
      "id": "23cd9b34",
      "metadata": {
        "id": "23cd9b34"
      },
      "outputs": [],
      "source": [
        "# делаем статичную картинку\n",
        "\n",
        "fig = go.Figure()\n",
        "\n",
        "config = {'staticPlot': True}\n",
        "\n",
        "fig.add_trace\\\n",
        "(\n",
        "    go.Scatter(x=[1, 2, 3], y=[3, 2, 1])\\\n",
        ")\n",
        "\n",
        "fig.show(config=config)"
      ]
    },
    {
      "cell_type": "code",
      "execution_count": null,
      "id": "3cec7125",
      "metadata": {
        "id": "3cec7125"
      },
      "outputs": [],
      "source": [
        "# теперь набор инструментов всегда отображается\n",
        "\n",
        "fig = go.Figure()\n",
        "\n",
        "config = {'displayModeBar': True}\n",
        "\n",
        "fig.add_trace\\\n",
        "(\n",
        "    go.Scatter(x=[1, 2, 3], y=[3, 2, 1])\\\n",
        ")\n",
        "\n",
        "fig.show(config=config)"
      ]
    },
    {
      "cell_type": "code",
      "execution_count": null,
      "id": "0e118f1b",
      "metadata": {
        "id": "0e118f1b"
      },
      "outputs": [],
      "source": [
        "# теперь набор инструментов не отображается\n",
        "\n",
        "fig = go.Figure()\n",
        "\n",
        "config = {'displayModeBar': False}\n",
        "\n",
        "fig.add_trace\\\n",
        "(\n",
        "    go.Scatter(x=[1, 2, 3], y=[3, 2, 1])\\\n",
        ")\n",
        "\n",
        "fig.show(config=config)"
      ]
    },
    {
      "cell_type": "code",
      "execution_count": null,
      "id": "8a5ab037",
      "metadata": {
        "id": "8a5ab037"
      },
      "outputs": [],
      "source": [
        "# убрать лого plotly (при нажатии на которое нас переводят на страничку plotly)\n",
        "\n",
        "fig = go.Figure()\n",
        "\n",
        "config = {'displaylogo': False}\n",
        "\n",
        "fig.add_trace\\\n",
        "(\n",
        "    go.Scatter(x=[1, 2, 3], y=[3, 2, 1])\\\n",
        ")\n",
        "\n",
        "fig.show(config=config)"
      ]
    },
    {
      "cell_type": "code",
      "execution_count": null,
      "id": "9fae5714",
      "metadata": {
        "id": "9fae5714"
      },
      "outputs": [],
      "source": [
        "# кастомизируем кнопку скачивания изображения (можно кастомизировать и другие)\n",
        "\n",
        "fig = go.Figure()\n",
        "\n",
        "config = \\\n",
        "{\n",
        "    'toImageButtonOptions': \\\n",
        "    {\n",
        "        'format': 'svg', # или png, svg, jpeg, webp\n",
        "        'filename': 'custom_image', # название изображения\n",
        "        'height': 480, # высота\n",
        "        'width': 640, # ширина\n",
        "        'scale': 1 # можно увеличить объекты изображения в такое количество раз\n",
        "    }\n",
        "}\n",
        "\n",
        "fig.add_trace \\\n",
        "(\n",
        "    go.Scatter(x=[1, 2, 3], y=[3, 2, 1]) \\\n",
        ")\n",
        "\n",
        "fig.show(config=config)"
      ]
    },
    {
      "cell_type": "code",
      "execution_count": null,
      "id": "882beca5",
      "metadata": {
        "id": "882beca5"
      },
      "outputs": [],
      "source": [
        "# кастомизируем кнопку скачивания изображения (можно кастомизировать и другие)\n",
        "\n",
        "fig = go.Figure()\n",
        "\n",
        "config = \\\n",
        "{\n",
        "    'toImageButtonOptions': \\\n",
        "    {\n",
        "        # скачиваем в том же размере что и отрендереное в тетрадке изображение\n",
        "        'height': None,\n",
        "        'width': None\n",
        "    }\n",
        "}\n",
        "\n",
        "fig.add_trace \\\n",
        "(\n",
        "    go.Scatter(x=[1, 2, 3], y=[3, 2, 1]) \\\n",
        ")\n",
        "\n",
        "fig.show(config=config)"
      ]
    },
    {
      "cell_type": "code",
      "execution_count": null,
      "id": "fefd8e41",
      "metadata": {
        "id": "fefd8e41"
      },
      "outputs": [],
      "source": [
        "# убираем часть инструментов\n",
        "\n",
        "fig = go.Figure()\n",
        "\n",
        "fig.add_trace \\\n",
        "(\n",
        "    go.Scatter(x=[1, 2, 3], y=[3, 2, 1]) \\\n",
        ")\n",
        "\n",
        "fig.update_layout(modebar_remove=['zoom', 'pan'])\n",
        "\n",
        "fig.show(config=config)"
      ]
    },
    {
      "cell_type": "code",
      "execution_count": null,
      "id": "25df7c81",
      "metadata": {
        "id": "25df7c81"
      },
      "outputs": [],
      "source": [
        "# добавляем список инструментов\n",
        "\n",
        "df = px.data.experiment()\n",
        "\n",
        "fig = px.scatter(df, x=\"experiment_1\", y=\"experiment_2\", color=\"gender\")\n",
        "\n",
        "fig.update_layout\\\n",
        "(\n",
        "    dragmode='drawopenpath',\n",
        "    newshape_line_color='lime',\n",
        "    title_text='Experiments visualizing',\n",
        "    modebar_add=\\\n",
        "    [\n",
        "        'drawline',\n",
        "        'drawopenpath',\n",
        "        'drawclosedpath',\n",
        "        'drawcircle',\n",
        "        'drawrect',\n",
        "        'eraseshape'\n",
        "    ]\n",
        ")\n",
        "\n",
        "fig.show()"
      ]
    },
    {
      "cell_type": "code",
      "execution_count": null,
      "id": "e3190c8c",
      "metadata": {
        "id": "e3190c8c"
      },
      "outputs": [],
      "source": [
        "# меняем время отклика на двойное нажатие (исходное - 300 мс.)\n",
        "\n",
        "df = px.data.experiment()\n",
        "\n",
        "config = {'doubleClickDelay': 1000}\n",
        "\n",
        "fig = px.scatter(df, x=\"experiment_1\", y=\"experiment_2\", color=\"gender\")\n",
        "\n",
        "fig.show(config=config)"
      ]
    },
    {
      "cell_type": "markdown",
      "id": "04ad372d",
      "metadata": {
        "id": "04ad372d"
      },
      "source": [
        "## Материалы для самостоятельного изучения"
      ]
    },
    {
      "cell_type": "markdown",
      "id": "6c6c2286",
      "metadata": {
        "id": "6c6c2286"
      },
      "source": [
        "[Настройка легенды в plotly](https://plotly.com/python/legend/)\n",
        "\n",
        "Стилизация [графиков plotly express](https://plotly.com/python/styling-plotly-express/) и [маркеров](https://plotly.com/python/styling-plotly-express/)\n",
        "\n",
        "[Использование и настройка осей в plolty](https://plotly.com/python/axes/)\n",
        "\n",
        "[Настройка штрихов в plotly](https://plotly.com/python/tick-formatting/)\n",
        "\n",
        "[Настройка размера итогового рисунка](https://plotly.com/python/setting-graph-size/)"
      ]
    },
    {
      "cell_type": "markdown",
      "id": "d675039b",
      "metadata": {
        "id": "d675039b"
      },
      "source": [
        "## Дополнительные материалы"
      ]
    },
    {
      "cell_type": "markdown",
      "id": "c1982e2e",
      "metadata": {
        "id": "c1982e2e"
      },
      "source": [
        "[Большое количество примеров использования plotly.express](https://plotly.com/python/plotly-express/) (обратите внимание - почти все скрипты **в пару строк!**)\n",
        "\n",
        "Не забудьте посетить [страничку с основными видами графиков для их обзора](https://plotly.com/python/basic-charts/)\n",
        "\n",
        "И конечно, [официальную страничку с документацией plotly](https://plotly.com/python/) на случай любых вопросов"
      ]
    }
  ],
  "metadata": {
    "kernelspec": {
      "display_name": "Python 3 (ipykernel)",
      "language": "python",
      "name": "python3"
    },
    "language_info": {
      "codemirror_mode": {
        "name": "ipython",
        "version": 3
      },
      "file_extension": ".py",
      "mimetype": "text/x-python",
      "name": "python",
      "nbconvert_exporter": "python",
      "pygments_lexer": "ipython3",
      "version": "3.10.12"
    },
    "colab": {
      "provenance": [],
      "include_colab_link": true
    }
  },
  "nbformat": 4,
  "nbformat_minor": 5
}