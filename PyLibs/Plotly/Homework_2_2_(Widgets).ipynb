{
  "cells": [
    {
      "cell_type": "markdown",
      "metadata": {
        "colab_type": "text",
        "id": "view-in-github"
      },
      "source": [
        "<a href=\"https://colab.research.google.com/github/A-l-E-v/ML-Engineer/blob/main/Homework_2_2_(Widgets).ipynb\" target=\"_parent\"><img src=\"https://colab.research.google.com/assets/colab-badge.svg\" alt=\"Open In Colab\"/></a>"
      ]
    },
    {
      "cell_type": "markdown",
      "id": "yoyCORqX-BnT",
      "metadata": {
        "id": "yoyCORqX-BnT"
      },
      "source": [
        "# Домашнее задание\n",
        "# Тема 4. Урок 3.3. Plotly"
      ]
    },
    {
      "cell_type": "markdown",
      "id": "3KX_vvFj-QfS",
      "metadata": {
        "id": "3KX_vvFj-QfS"
      },
      "source": [
        "## Инструкции для выполнения домашнего задания"
      ]
    },
    {
      "cell_type": "markdown",
      "id": "qZkXZcnI-XR7",
      "metadata": {
        "id": "qZkXZcnI-XR7"
      },
      "source": [
        "1. Домашнее задание состоит из вводной части и задания, состоящего из 5 пунктов\n",
        "2. В вводной части вам нужно подключить необходимые библиотеки и загрузить данные\n",
        "3. В задании дан фрагмент программного кода, который нужно дополнить для построения графика\n",
        "4. В каждом фрагменте программного кода даны комментарии, написанные через **#** и выделенные зеленым цветом. Комментарии или дают пояснения к строке, или объясняют, какие строки должны быть на месте пропусков, т.е. чем вы должны дополнить фрагмент программного кода до полноценной программы\n",
        "5. В случае если вы забыли ранее изученные  материалы, вы всегда можете вернуться на обучающую платформу и просмотреть их заново (видео, презентация, тетрадь и т.д.), а также можете воспользоваться документацией Plotly"
      ]
    },
    {
      "cell_type": "markdown",
      "id": "8zdx64xw-xlV",
      "metadata": {
        "id": "8zdx64xw-xlV"
      },
      "source": [
        "## Подготовка к выполнению домашего задания"
      ]
    },
    {
      "cell_type": "code",
      "execution_count": 1,
      "id": "f7462ac1",
      "metadata": {
        "id": "f7462ac1"
      },
      "outputs": [],
      "source": [
        "import plotly.express as px\n",
        "import pandas as pd"
      ]
    },
    {
      "cell_type": "markdown",
      "id": "wpS8IvFo--_S",
      "metadata": {
        "id": "wpS8IvFo--_S"
      },
      "source": [
        "Выкачиваем данные:"
      ]
    },
    {
      "cell_type": "code",
      "execution_count": 2,
      "id": "c2c5a0bc",
      "metadata": {
        "id": "c2c5a0bc",
        "outputId": "6c2ef60a-c6fe-43c1-a826-b28b41502058"
      },
      "outputs": [
        {
          "data": {
            "text/html": [
              "<div>\n",
              "<style scoped>\n",
              "    .dataframe tbody tr th:only-of-type {\n",
              "        vertical-align: middle;\n",
              "    }\n",
              "\n",
              "    .dataframe tbody tr th {\n",
              "        vertical-align: top;\n",
              "    }\n",
              "\n",
              "    .dataframe thead th {\n",
              "        text-align: right;\n",
              "    }\n",
              "</style>\n",
              "<table border=\"1\" class=\"dataframe\">\n",
              "  <thead>\n",
              "    <tr style=\"text-align: right;\">\n",
              "      <th></th>\n",
              "      <th>country</th>\n",
              "      <th>continent</th>\n",
              "      <th>year</th>\n",
              "      <th>lifeExp</th>\n",
              "      <th>pop</th>\n",
              "      <th>gdpPercap</th>\n",
              "      <th>iso_alpha</th>\n",
              "      <th>iso_num</th>\n",
              "    </tr>\n",
              "  </thead>\n",
              "  <tbody>\n",
              "    <tr>\n",
              "      <th>0</th>\n",
              "      <td>Afghanistan</td>\n",
              "      <td>Asia</td>\n",
              "      <td>1952</td>\n",
              "      <td>28.801</td>\n",
              "      <td>8425333</td>\n",
              "      <td>779.445314</td>\n",
              "      <td>AFG</td>\n",
              "      <td>4</td>\n",
              "    </tr>\n",
              "    <tr>\n",
              "      <th>1</th>\n",
              "      <td>Afghanistan</td>\n",
              "      <td>Asia</td>\n",
              "      <td>1957</td>\n",
              "      <td>30.332</td>\n",
              "      <td>9240934</td>\n",
              "      <td>820.853030</td>\n",
              "      <td>AFG</td>\n",
              "      <td>4</td>\n",
              "    </tr>\n",
              "    <tr>\n",
              "      <th>2</th>\n",
              "      <td>Afghanistan</td>\n",
              "      <td>Asia</td>\n",
              "      <td>1962</td>\n",
              "      <td>31.997</td>\n",
              "      <td>10267083</td>\n",
              "      <td>853.100710</td>\n",
              "      <td>AFG</td>\n",
              "      <td>4</td>\n",
              "    </tr>\n",
              "    <tr>\n",
              "      <th>3</th>\n",
              "      <td>Afghanistan</td>\n",
              "      <td>Asia</td>\n",
              "      <td>1967</td>\n",
              "      <td>34.020</td>\n",
              "      <td>11537966</td>\n",
              "      <td>836.197138</td>\n",
              "      <td>AFG</td>\n",
              "      <td>4</td>\n",
              "    </tr>\n",
              "    <tr>\n",
              "      <th>4</th>\n",
              "      <td>Afghanistan</td>\n",
              "      <td>Asia</td>\n",
              "      <td>1972</td>\n",
              "      <td>36.088</td>\n",
              "      <td>13079460</td>\n",
              "      <td>739.981106</td>\n",
              "      <td>AFG</td>\n",
              "      <td>4</td>\n",
              "    </tr>\n",
              "    <tr>\n",
              "      <th>...</th>\n",
              "      <td>...</td>\n",
              "      <td>...</td>\n",
              "      <td>...</td>\n",
              "      <td>...</td>\n",
              "      <td>...</td>\n",
              "      <td>...</td>\n",
              "      <td>...</td>\n",
              "      <td>...</td>\n",
              "    </tr>\n",
              "    <tr>\n",
              "      <th>1699</th>\n",
              "      <td>Zimbabwe</td>\n",
              "      <td>Africa</td>\n",
              "      <td>1987</td>\n",
              "      <td>62.351</td>\n",
              "      <td>9216418</td>\n",
              "      <td>706.157306</td>\n",
              "      <td>ZWE</td>\n",
              "      <td>716</td>\n",
              "    </tr>\n",
              "    <tr>\n",
              "      <th>1700</th>\n",
              "      <td>Zimbabwe</td>\n",
              "      <td>Africa</td>\n",
              "      <td>1992</td>\n",
              "      <td>60.377</td>\n",
              "      <td>10704340</td>\n",
              "      <td>693.420786</td>\n",
              "      <td>ZWE</td>\n",
              "      <td>716</td>\n",
              "    </tr>\n",
              "    <tr>\n",
              "      <th>1701</th>\n",
              "      <td>Zimbabwe</td>\n",
              "      <td>Africa</td>\n",
              "      <td>1997</td>\n",
              "      <td>46.809</td>\n",
              "      <td>11404948</td>\n",
              "      <td>792.449960</td>\n",
              "      <td>ZWE</td>\n",
              "      <td>716</td>\n",
              "    </tr>\n",
              "    <tr>\n",
              "      <th>1702</th>\n",
              "      <td>Zimbabwe</td>\n",
              "      <td>Africa</td>\n",
              "      <td>2002</td>\n",
              "      <td>39.989</td>\n",
              "      <td>11926563</td>\n",
              "      <td>672.038623</td>\n",
              "      <td>ZWE</td>\n",
              "      <td>716</td>\n",
              "    </tr>\n",
              "    <tr>\n",
              "      <th>1703</th>\n",
              "      <td>Zimbabwe</td>\n",
              "      <td>Africa</td>\n",
              "      <td>2007</td>\n",
              "      <td>43.487</td>\n",
              "      <td>12311143</td>\n",
              "      <td>469.709298</td>\n",
              "      <td>ZWE</td>\n",
              "      <td>716</td>\n",
              "    </tr>\n",
              "  </tbody>\n",
              "</table>\n",
              "<p>1704 rows × 8 columns</p>\n",
              "</div>"
            ],
            "text/plain": [
              "          country continent  year  lifeExp       pop   gdpPercap iso_alpha  \\\n",
              "0     Afghanistan      Asia  1952   28.801   8425333  779.445314       AFG   \n",
              "1     Afghanistan      Asia  1957   30.332   9240934  820.853030       AFG   \n",
              "2     Afghanistan      Asia  1962   31.997  10267083  853.100710       AFG   \n",
              "3     Afghanistan      Asia  1967   34.020  11537966  836.197138       AFG   \n",
              "4     Afghanistan      Asia  1972   36.088  13079460  739.981106       AFG   \n",
              "...           ...       ...   ...      ...       ...         ...       ...   \n",
              "1699     Zimbabwe    Africa  1987   62.351   9216418  706.157306       ZWE   \n",
              "1700     Zimbabwe    Africa  1992   60.377  10704340  693.420786       ZWE   \n",
              "1701     Zimbabwe    Africa  1997   46.809  11404948  792.449960       ZWE   \n",
              "1702     Zimbabwe    Africa  2002   39.989  11926563  672.038623       ZWE   \n",
              "1703     Zimbabwe    Africa  2007   43.487  12311143  469.709298       ZWE   \n",
              "\n",
              "      iso_num  \n",
              "0           4  \n",
              "1           4  \n",
              "2           4  \n",
              "3           4  \n",
              "4           4  \n",
              "...       ...  \n",
              "1699      716  \n",
              "1700      716  \n",
              "1701      716  \n",
              "1702      716  \n",
              "1703      716  \n",
              "\n",
              "[1704 rows x 8 columns]"
            ]
          },
          "execution_count": 2,
          "metadata": {},
          "output_type": "execute_result"
        }
      ],
      "source": [
        "data_gapminder = px.data.gapminder()\n",
        "data_gapminder"
      ]
    },
    {
      "cell_type": "markdown",
      "id": "d12fa668",
      "metadata": {
        "id": "d12fa668"
      },
      "source": [
        "## Задание"
      ]
    },
    {
      "cell_type": "markdown",
      "id": "75b195d8",
      "metadata": {
        "id": "75b195d8"
      },
      "source": [
        "В этом задании вы научитесь добавлять слайдеры и пару слайдеров, делать кнопки выбора периода, а также редактировать всплывающие окна\n",
        "\n",
        "### 1\n",
        "\n",
        "С помощью plotly express постройте изображение по следующим правилам:\n",
        "    \n",
        "    1) Данные отфильтрованы только для стран Европы\n",
        "    2) По оси х - года, по оси у - ожидаемая продолжительность жизни (lifeExp)\n",
        "    3) Цветовое разделение - по названиям стран\n",
        "    4) Помимо линий, маркеры должны быть видны\n",
        "    5) График должен быть подписан\n",
        "    6) Изначальная высота - 500, ширина - 750\n",
        "    \n",
        "### 2\n",
        "\n",
        "Добавьте два слайдера под изображением, друг под другом:\n",
        "\n",
        "    1) Слайдер регулировки высоты:\n",
        "        а) Шкала - от 500 до 1000 с шагом 50\n",
        "        б) Имеется подпись, в каждый момент сигнализирующая о текущем значении высоты\n",
        "        в) Изначально ползунок в крайнем левом положении шкалы\n",
        "    2) Слайдер регулировки ширины:\n",
        "        а) Шкала - от 750 до 1500 с шагом 50\n",
        "        б) Имеется подпись, в каждый момент сигнализирующая о текущем значении ширины\n",
        "        в) Изначально ползунок в крайнем левом положении шкалы\n",
        "        \n",
        "### 3\n",
        "\n",
        "Добавьте пару слайдеров, позволяющих выбрать нужный временной промежуток по оси х, а также несколько кнопок выбора периода:\n",
        "\n",
        "    1) 5 полных лет от правого слайдера\n",
        "    2) левый слайдер - начало пятого года назад от правого слайдера (5YTD)\n",
        "    3) аналогичные пары кнопок для 10 и для 25 лет\n",
        "    4) кнопка, возвращающая полный диапазон для шкалы х\n",
        "    \n",
        "### 4\n",
        "\n",
        "Скорректируйте шаблон для всплывающего окна. Он должен выглядеть так (эффекты шрифта типа курсива или выделения жирным должны учитываться; фигурные скобки не нужны):\n",
        "\n",
        "**Year**: {год по оси х}<br>\n",
        "**Life Expectancy**: {продолжительность жизни по оси у, округлённое до двух знаков после запятой}<br>\n",
        "*Population*: {значение населения из data_gapminder}<br>\n",
        "*GDP per Capita*: {ВВП на душу населения из data_gapminder, округлённый до двух знаков после запятой}<br>\n",
        "{Название страны, сбоку, вне основного всплывающего окна в дополнительной его части}\n",
        "\n",
        "\n",
        "*Подсказка: чтобы выполнить это задание, вам понадобится внести часть значений в параметр custom_data ещё при создании рисунка, а затем воспользоваться этими данными внутри шаблона*\n",
        "\n",
        "### 5\n",
        "\n",
        "Добавьте линии проекций по оси х и по оси у:\n",
        "\n",
        "    1) Cтиль линий - точечный (dot)\n",
        "    2) По оси х линия проекции должна свободно двигаться за курсором, по оси у - быть привязана к значению в точке\n",
        "    3) Проекция должна продолжаться только от точки (курсора) до нуля соответствующей оси, не в другую сторону"
      ]
    },
    {
      "cell_type": "code",
      "execution_count": 3,
      "id": "0m2zx1XtDrjB",
      "metadata": {
        "colab": {
          "base_uri": "https://localhost:8080/",
          "height": 517
        },
        "id": "0m2zx1XtDrjB",
        "outputId": "c9710fc4-7b3b-42da-e01d-846e39d5f799"
      },
      "outputs": [],
      "source": [
        "# Если вы сделаете всё правильно, то получится что-то похожее на это"
      ]
    },
    {
      "cell_type": "markdown",
      "id": "924dba95",
      "metadata": {
        "id": "924dba95"
      },
      "source": [
        "В случае, если с нуля написать нужный код будет очень сложно, то можно воспользоваться подсказкой - шаблоном ниже. Но сначала всё же попробуйте написать код самостоятельно."
      ]
    },
    {
      "cell_type": "markdown",
      "id": "ARyqUWIXAI1C",
      "metadata": {
        "id": "ARyqUWIXAI1C"
      },
      "source": [
        "### Подсказка"
      ]
    },
    {
      "cell_type": "code",
      "execution_count": 4,
      "id": "84b22cbe",
      "metadata": {
        "id": "84b22cbe"
      },
      "outputs": [],
      "source": [
        "# fig = px.line\\\n",
        "# (\n",
        "#     # ???\n",
        "#     # custom_data=[]\n",
        "# )\n",
        "\n",
        "# fig.update_layout\\\n",
        "# (\n",
        "#     # добавляем слайдеры\n",
        "#     sliders=\n",
        "#     [\n",
        "#         # первый - для контроля высоты изображения\n",
        "#         {\n",
        "#             # ???\n",
        "#         },\n",
        "#         # второй - для контроля ширины изображения\n",
        "#         {\n",
        "#             # ???\n",
        "#         }\n",
        "#     ],\n",
        "#     # добавляем пару слайдеров\n",
        "#     xaxis=\\\n",
        "#     {\n",
        "#         \"rangeselector\":\n",
        "#         {\n",
        "#             \"buttons\":\n",
        "#             [\n",
        "#                 # 5 полных лет\n",
        "#                 {\n",
        "#                     # ???\n",
        "#                 },\n",
        "#                 # 5 лет до текущей даты, далее - аналогично\n",
        "#                 {\n",
        "#                     # ???\n",
        "#                 },\n",
        "#                 {\n",
        "#                     # ???\n",
        "#                 },\n",
        "#                 {\n",
        "#                     # ???\n",
        "#                 },\n",
        "#                 {\n",
        "#                     # ???\n",
        "#                 },\n",
        "#                 {\n",
        "#                     # ???\n",
        "#                 },\n",
        "#                 # полная шкала\n",
        "#                 {\n",
        "#                     # ???\n",
        "#                 }\n",
        "#             ]\n",
        "#         },\n",
        "#         # ???\n",
        "#     }\n",
        "# )\n",
        "\n",
        "# # управляем всплывающим окном\n",
        "# fig.update_traces\\\n",
        "# (\n",
        "#     hovertemplate=#???\n",
        "# )\n",
        "\n",
        "# # проекции\n",
        "# fig.update_xaxes(# ???)\n",
        "# fig.update_yaxes(# ???)\n",
        "\n",
        "# fig.show()"
      ]
    },
    {
      "cell_type": "code",
      "execution_count": 5,
      "id": "7d87a736",
      "metadata": {},
      "outputs": [
        {
          "data": {
            "application/vnd.plotly.v1+json": {
              "config": {
                "plotlyServerURL": "https://plot.ly"
              },
              "data": [
                {
                  "customdata": [
                    [
                      1282697,
                      1601.056136,
                      "Albania"
                    ],
                    [
                      1476505,
                      1942.284244,
                      "Albania"
                    ],
                    [
                      1728137,
                      2312.888958,
                      "Albania"
                    ],
                    [
                      1984060,
                      2760.196931,
                      "Albania"
                    ],
                    [
                      2263554,
                      3313.422188,
                      "Albania"
                    ],
                    [
                      2509048,
                      3533.003910000001,
                      "Albania"
                    ],
                    [
                      2780097,
                      3630.880722,
                      "Albania"
                    ],
                    [
                      3075321,
                      3738.932735,
                      "Albania"
                    ],
                    [
                      3326498,
                      2497.437901,
                      "Albania"
                    ],
                    [
                      3428038,
                      3193.054604,
                      "Albania"
                    ],
                    [
                      3508512,
                      4604.211737,
                      "Albania"
                    ],
                    [
                      3600523,
                      5937.029525999998,
                      "Albania"
                    ]
                  ],
                  "hovertemplate": "<b>Year</b>: %{x}<br><b>Life Expectancy</b>: %{y:.2f}<br><i>Population</i>: %{customdata[0]}<br><i>GDP per Capita</i>: %{customdata[1]:.2f}<br><extra>%{customdata[2]}</extra>",
                  "legendgroup": "Albania",
                  "line": {
                    "color": "#636efa",
                    "dash": "solid"
                  },
                  "marker": {
                    "symbol": "circle"
                  },
                  "mode": "lines+markers",
                  "name": "Albania",
                  "orientation": "v",
                  "showlegend": true,
                  "type": "scatter",
                  "x": {
                    "bdata": "oAelB6oHrwe0B7kHvgfDB8gHzQfSB9cH",
                    "dtype": "i2"
                  },
                  "xaxis": "x",
                  "y": {
                    "bdata": "PQrXo3CdS0CkcD0K16NNQBSuR+F6NFBArkfhehSOUEBcj8L1KOxQQOxRuB6FO1FAexSuR+GaUUAAAAAAAABSQHe+nxov5VFAzczMzMw8UkCNbOf7qelSQFCNl24SG1NA",
                    "dtype": "f8"
                  },
                  "yaxis": "y"
                },
                {
                  "customdata": [
                    [
                      6927772,
                      6137.076492,
                      "Austria"
                    ],
                    [
                      6965860,
                      8842.59803,
                      "Austria"
                    ],
                    [
                      7129864,
                      10750.72111,
                      "Austria"
                    ],
                    [
                      7376998,
                      12834.6024,
                      "Austria"
                    ],
                    [
                      7544201,
                      16661.6256,
                      "Austria"
                    ],
                    [
                      7568430,
                      19749.4223,
                      "Austria"
                    ],
                    [
                      7574613,
                      21597.08362,
                      "Austria"
                    ],
                    [
                      7578903,
                      23687.82607,
                      "Austria"
                    ],
                    [
                      7914969,
                      27042.01868,
                      "Austria"
                    ],
                    [
                      8069876,
                      29095.920660000003,
                      "Austria"
                    ],
                    [
                      8148312,
                      32417.60769,
                      "Austria"
                    ],
                    [
                      8199783,
                      36126.4927,
                      "Austria"
                    ]
                  ],
                  "hovertemplate": "<b>Year</b>: %{x}<br><b>Life Expectancy</b>: %{y:.2f}<br><i>Population</i>: %{customdata[0]}<br><i>GDP per Capita</i>: %{customdata[1]:.2f}<br><extra>%{customdata[2]}</extra>",
                  "legendgroup": "Austria",
                  "line": {
                    "color": "#EF553B",
                    "dash": "solid"
                  },
                  "marker": {
                    "symbol": "circle"
                  },
                  "mode": "lines+markers",
                  "name": "Austria",
                  "orientation": "v",
                  "showlegend": true,
                  "type": "scatter",
                  "x": {
                    "bdata": "oAelB6oHrwe0B7kHvgfDB8gHzQfSB9cH",
                    "dtype": "i2"
                  },
                  "xaxis": "x",
                  "y": {
                    "bdata": "MzMzMzOzUEAfhetRuN5QQMP1KFyPYlFAKVyPwvWIUUC4HoXrUahRQHsUrkfhClJA7FG4HoVLUkBcj8L1KLxSQMP1KFyPAlNAcT0K16NgU0AfhetRuL5TQJMYBFYO9VNA",
                    "dtype": "f8"
                  },
                  "yaxis": "y"
                },
                {
                  "customdata": [
                    [
                      8730405,
                      8343.105126999999,
                      "Belgium"
                    ],
                    [
                      8989111,
                      9714.960623,
                      "Belgium"
                    ],
                    [
                      9218400,
                      10991.20676,
                      "Belgium"
                    ],
                    [
                      9556500,
                      13149.04119,
                      "Belgium"
                    ],
                    [
                      9709100,
                      16672.14356,
                      "Belgium"
                    ],
                    [
                      9821800,
                      19117.97448,
                      "Belgium"
                    ],
                    [
                      9856303,
                      20979.84589,
                      "Belgium"
                    ],
                    [
                      9870200,
                      22525.56308,
                      "Belgium"
                    ],
                    [
                      10045622,
                      25575.57069,
                      "Belgium"
                    ],
                    [
                      10199787,
                      27561.19663,
                      "Belgium"
                    ],
                    [
                      10311970,
                      30485.88375,
                      "Belgium"
                    ],
                    [
                      10392226,
                      33692.60508,
                      "Belgium"
                    ]
                  ],
                  "hovertemplate": "<b>Year</b>: %{x}<br><b>Life Expectancy</b>: %{y:.2f}<br><i>Population</i>: %{customdata[0]}<br><i>GDP per Capita</i>: %{customdata[1]:.2f}<br><extra>%{customdata[2]}</extra>",
                  "legendgroup": "Belgium",
                  "line": {
                    "color": "#00cc96",
                    "dash": "solid"
                  },
                  "marker": {
                    "symbol": "circle"
                  },
                  "mode": "lines+markers",
                  "name": "Belgium",
                  "orientation": "v",
                  "showlegend": true,
                  "type": "scatter",
                  "x": {
                    "bdata": "oAelB6oHrwe0B7kHvgfDB8gHzQfSB9cH",
                    "dtype": "i2"
                  },
                  "xaxis": "x",
                  "y": {
                    "bdata": "AAAAAAAAUUCPwvUoXE9RQAAAAAAAkFFAXI/C9Si8UUBcj8L1KNxRQDMzMzMzM1JA7FG4HoV7UkBmZmZmZtZSQD0K16NwHVNAUrgehethU0AUrkfhepRTQE5iEFg53FNA",
                    "dtype": "f8"
                  },
                  "yaxis": "y"
                },
                {
                  "customdata": [
                    [
                      2791000,
                      973.5331948,
                      "Bosnia and Herzegovina"
                    ],
                    [
                      3076000,
                      1353.989176,
                      "Bosnia and Herzegovina"
                    ],
                    [
                      3349000,
                      1709.683679,
                      "Bosnia and Herzegovina"
                    ],
                    [
                      3585000,
                      2172.3524230000007,
                      "Bosnia and Herzegovina"
                    ],
                    [
                      3819000,
                      2860.16975,
                      "Bosnia and Herzegovina"
                    ],
                    [
                      4086000,
                      3528.481305,
                      "Bosnia and Herzegovina"
                    ],
                    [
                      4172693,
                      4126.613157,
                      "Bosnia and Herzegovina"
                    ],
                    [
                      4338977,
                      4314.114757,
                      "Bosnia and Herzegovina"
                    ],
                    [
                      4256013,
                      2546.781445,
                      "Bosnia and Herzegovina"
                    ],
                    [
                      3607000,
                      4766.355904,
                      "Bosnia and Herzegovina"
                    ],
                    [
                      4165416,
                      6018.975239,
                      "Bosnia and Herzegovina"
                    ],
                    [
                      4552198,
                      7446.298803,
                      "Bosnia and Herzegovina"
                    ]
                  ],
                  "hovertemplate": "<b>Year</b>: %{x}<br><b>Life Expectancy</b>: %{y:.2f}<br><i>Population</i>: %{customdata[0]}<br><i>GDP per Capita</i>: %{customdata[1]:.2f}<br><extra>%{customdata[2]}</extra>",
                  "legendgroup": "Bosnia and Herzegovina",
                  "line": {
                    "color": "#ab63fa",
                    "dash": "solid"
                  },
                  "marker": {
                    "symbol": "circle"
                  },
                  "mode": "lines+markers",
                  "name": "Bosnia and Herzegovina",
                  "orientation": "v",
                  "showlegend": true,
                  "type": "scatter",
                  "x": {
                    "bdata": "oAelB6oHrwe0B7kHvgfDB8gHzQfSB9cH",
                    "dtype": "i2"
                  },
                  "xaxis": "x",
                  "y": {
                    "bdata": "KVyPwvXoSkCamZmZmTlNQNejcD0K905Aw/UoXI8yUEDNzMzMzNxQQNejcD0Kd1FAXI/C9SisUUApXI/C9chRQAisHFpkC1JAVg4tsp1PUkD2KFyPwoVSQEoMAiuHtlJA",
                    "dtype": "f8"
                  },
                  "yaxis": "y"
                },
                {
                  "customdata": [
                    [
                      7274900,
                      2444.286648,
                      "Bulgaria"
                    ],
                    [
                      7651254,
                      3008.670727,
                      "Bulgaria"
                    ],
                    [
                      8012946,
                      4254.337839,
                      "Bulgaria"
                    ],
                    [
                      8310226,
                      5577.0028,
                      "Bulgaria"
                    ],
                    [
                      8576200,
                      6597.494398,
                      "Bulgaria"
                    ],
                    [
                      8797022,
                      7612.240438,
                      "Bulgaria"
                    ],
                    [
                      8892098,
                      8224.191647,
                      "Bulgaria"
                    ],
                    [
                      8971958,
                      8239.854824,
                      "Bulgaria"
                    ],
                    [
                      8658506,
                      6302.623438000001,
                      "Bulgaria"
                    ],
                    [
                      8066057,
                      5970.38876,
                      "Bulgaria"
                    ],
                    [
                      7661799,
                      7696.777725,
                      "Bulgaria"
                    ],
                    [
                      7322858,
                      10680.79282,
                      "Bulgaria"
                    ]
                  ],
                  "hovertemplate": "<b>Year</b>: %{x}<br><b>Life Expectancy</b>: %{y:.2f}<br><i>Population</i>: %{customdata[0]}<br><i>GDP per Capita</i>: %{customdata[1]:.2f}<br><extra>%{customdata[2]}</extra>",
                  "legendgroup": "Bulgaria",
                  "line": {
                    "color": "#FFA15A",
                    "dash": "solid"
                  },
                  "marker": {
                    "symbol": "circle"
                  },
                  "mode": "lines+markers",
                  "name": "Bulgaria",
                  "orientation": "v",
                  "showlegend": true,
                  "type": "scatter",
                  "x": {
                    "bdata": "oAelB6oHrwe0B7kHvgfDB8gHzQfSB9cH",
                    "dtype": "i2"
                  },
                  "xaxis": "x",
                  "y": {
                    "bdata": "zczMzMzMTUDXo3A9CqdQQHE9CtejYFFAexSuR+GaUUCamZmZmblRQKRwPQrXs1FAhetRuB7FUUD2KFyPwtVRQFyPwvUozFFAFK5H4XqUUUApXI/C9QhSQLgehetRQFJA",
                    "dtype": "f8"
                  },
                  "yaxis": "y"
                },
                {
                  "customdata": [
                    [
                      3882229,
                      3119.23652,
                      "Croatia"
                    ],
                    [
                      3991242,
                      4338.231617,
                      "Croatia"
                    ],
                    [
                      4076557,
                      5477.890018,
                      "Croatia"
                    ],
                    [
                      4174366,
                      6960.297861,
                      "Croatia"
                    ],
                    [
                      4225310,
                      9164.090127,
                      "Croatia"
                    ],
                    [
                      4318673,
                      11305.38517,
                      "Croatia"
                    ],
                    [
                      4413368,
                      13221.82184,
                      "Croatia"
                    ],
                    [
                      4484310,
                      13822.58394,
                      "Croatia"
                    ],
                    [
                      4494013,
                      8447.794873,
                      "Croatia"
                    ],
                    [
                      4444595,
                      9875.604515,
                      "Croatia"
                    ],
                    [
                      4481020,
                      11628.38895,
                      "Croatia"
                    ],
                    [
                      4493312,
                      14619.222719999998,
                      "Croatia"
                    ]
                  ],
                  "hovertemplate": "<b>Year</b>: %{x}<br><b>Life Expectancy</b>: %{y:.2f}<br><i>Population</i>: %{customdata[0]}<br><i>GDP per Capita</i>: %{customdata[1]:.2f}<br><extra>%{customdata[2]}</extra>",
                  "legendgroup": "Croatia",
                  "line": {
                    "color": "#19d3f3",
                    "dash": "solid"
                  },
                  "marker": {
                    "symbol": "circle"
                  },
                  "mode": "lines+markers",
                  "name": "Croatia",
                  "orientation": "v",
                  "showlegend": true,
                  "type": "scatter",
                  "x": {
                    "bdata": "oAelB6oHrwe0B7kHvgfDB8gHzQfSB9cH",
                    "dtype": "i2"
                  },
                  "xaxis": "x",
                  "y": {
                    "bdata": "exSuR+GaTkDhehSuRzFQQLgehetRyFBAAAAAAAAgUUDXo3A9CmdRQClcj8L1qFFAPQrXo3CdUUDhehSuR+FRQH0/NV66IVJA7FG4HoVrUkDy0k1iELhSQB1aZDvf71JA",
                    "dtype": "f8"
                  },
                  "yaxis": "y"
                },
                {
                  "customdata": [
                    [
                      9125183,
                      6876.14025,
                      "Czech Republic"
                    ],
                    [
                      9513758,
                      8256.343918,
                      "Czech Republic"
                    ],
                    [
                      9620282,
                      10136.86713,
                      "Czech Republic"
                    ],
                    [
                      9835109,
                      11399.44489,
                      "Czech Republic"
                    ],
                    [
                      9862158,
                      13108.4536,
                      "Czech Republic"
                    ],
                    [
                      10161915,
                      14800.16062,
                      "Czech Republic"
                    ],
                    [
                      10303704,
                      15377.22855,
                      "Czech Republic"
                    ],
                    [
                      10311597,
                      16310.4434,
                      "Czech Republic"
                    ],
                    [
                      10315702,
                      14297.02122,
                      "Czech Republic"
                    ],
                    [
                      10300707,
                      16048.51424,
                      "Czech Republic"
                    ],
                    [
                      10256295,
                      17596.210219999994,
                      "Czech Republic"
                    ],
                    [
                      10228744,
                      22833.30851,
                      "Czech Republic"
                    ]
                  ],
                  "hovertemplate": "<b>Year</b>: %{x}<br><b>Life Expectancy</b>: %{y:.2f}<br><i>Population</i>: %{customdata[0]}<br><i>GDP per Capita</i>: %{customdata[1]:.2f}<br><extra>%{customdata[2]}</extra>",
                  "legendgroup": "Czech Republic",
                  "line": {
                    "color": "#FF6692",
                    "dash": "solid"
                  },
                  "marker": {
                    "symbol": "circle"
                  },
                  "mode": "lines+markers",
                  "name": "Czech Republic",
                  "orientation": "v",
                  "showlegend": true,
                  "type": "scatter",
                  "x": {
                    "bdata": "oAelB6oHrwe0B7kHvgfDB8gHzQfSB9cH",
                    "dtype": "i2"
                  },
                  "xaxis": "x",
                  "y": {
                    "bdata": "SOF6FK63UEBSuB6F60FRQJqZmZmZeVFAuB6F61GYUUDD9Shcj5JRQD0K16NwrVFAPQrXo3C9UUCF61G4HuVRQJqZmZmZGVJAcT0K16OAUkBxPQrXo+BSQMl2vp8aH1NA",
                    "dtype": "f8"
                  },
                  "yaxis": "y"
                },
                {
                  "customdata": [
                    [
                      4334000,
                      9692.385245,
                      "Denmark"
                    ],
                    [
                      4487831,
                      11099.65935,
                      "Denmark"
                    ],
                    [
                      4646899,
                      13583.31351,
                      "Denmark"
                    ],
                    [
                      4838800,
                      15937.21123,
                      "Denmark"
                    ],
                    [
                      4991596,
                      18866.20721,
                      "Denmark"
                    ],
                    [
                      5088419,
                      20422.9015,
                      "Denmark"
                    ],
                    [
                      5117810,
                      21688.04048,
                      "Denmark"
                    ],
                    [
                      5127024,
                      25116.17581,
                      "Denmark"
                    ],
                    [
                      5171393,
                      26406.73985,
                      "Denmark"
                    ],
                    [
                      5283663,
                      29804.34567,
                      "Denmark"
                    ],
                    [
                      5374693,
                      32166.50006,
                      "Denmark"
                    ],
                    [
                      5468120,
                      35278.41874,
                      "Denmark"
                    ]
                  ],
                  "hovertemplate": "<b>Year</b>: %{x}<br><b>Life Expectancy</b>: %{y:.2f}<br><i>Population</i>: %{customdata[0]}<br><i>GDP per Capita</i>: %{customdata[1]:.2f}<br><extra>%{customdata[2]}</extra>",
                  "legendgroup": "Denmark",
                  "line": {
                    "color": "#B6E880",
                    "dash": "solid"
                  },
                  "marker": {
                    "symbol": "circle"
                  },
                  "mode": "lines+markers",
                  "name": "Denmark",
                  "orientation": "v",
                  "showlegend": true,
                  "type": "scatter",
                  "x": {
                    "bdata": "oAelB6oHrwe0B7kHvgfDB8gHzQfSB9cH",
                    "dtype": "i2"
                  },
                  "xaxis": "x",
                  "y": {
                    "bdata": "UrgeheuxUUCkcD0K1/NRQGZmZmZmFlJAPQrXo3A9UkCuR+F6FF5SQFyPwvUorFJAuB6F61GoUkAzMzMzM7NSQIXrUbge1VJA16NwPQoHU0DsUbgehUtTQGiR7Xw/lVNA",
                    "dtype": "f8"
                  },
                  "yaxis": "y"
                },
                {
                  "customdata": [
                    [
                      4090500,
                      6424.519071,
                      "Finland"
                    ],
                    [
                      4324000,
                      7545.415386,
                      "Finland"
                    ],
                    [
                      4491443,
                      9371.842561,
                      "Finland"
                    ],
                    [
                      4605744,
                      10921.63626,
                      "Finland"
                    ],
                    [
                      4639657,
                      14358.8759,
                      "Finland"
                    ],
                    [
                      4738902,
                      15605.42283,
                      "Finland"
                    ],
                    [
                      4826933,
                      18533.15761,
                      "Finland"
                    ],
                    [
                      4931729,
                      21141.01223,
                      "Finland"
                    ],
                    [
                      5041039,
                      20647.16499,
                      "Finland"
                    ],
                    [
                      5134406,
                      23723.9502,
                      "Finland"
                    ],
                    [
                      5193039,
                      28204.59057,
                      "Finland"
                    ],
                    [
                      5238460,
                      33207.0844,
                      "Finland"
                    ]
                  ],
                  "hovertemplate": "<b>Year</b>: %{x}<br><b>Life Expectancy</b>: %{y:.2f}<br><i>Population</i>: %{customdata[0]}<br><i>GDP per Capita</i>: %{customdata[1]:.2f}<br><extra>%{customdata[2]}</extra>",
                  "legendgroup": "Finland",
                  "line": {
                    "color": "#FF97FF",
                    "dash": "solid"
                  },
                  "marker": {
                    "symbol": "circle"
                  },
                  "mode": "lines+markers",
                  "name": "Finland",
                  "orientation": "v",
                  "showlegend": true,
                  "type": "scatter",
                  "x": {
                    "bdata": "oAelB6oHrwe0B7kHvgfDB8gHzQfSB9cH",
                    "dtype": "i2"
                  },
                  "xaxis": "x",
                  "y": {
                    "bdata": "MzMzMzOjUECPwvUoXN9QQAAAAAAAMFFAhetRuB51UUBI4XoUrrdRQOF6FK5HIVJAMzMzMzOjUkCF61G4HrVSQM3MzMzM7FJAuB6F61FIU0BI4XoUrpdTQHnpJjEI1FNA",
                    "dtype": "f8"
                  },
                  "yaxis": "y"
                },
                {
                  "customdata": [
                    [
                      42459667,
                      7029.809327,
                      "France"
                    ],
                    [
                      44310863,
                      8662.834898000001,
                      "France"
                    ],
                    [
                      47124000,
                      10560.48553,
                      "France"
                    ],
                    [
                      49569000,
                      12999.91766,
                      "France"
                    ],
                    [
                      51732000,
                      16107.19171,
                      "France"
                    ],
                    [
                      53165019,
                      18292.63514,
                      "France"
                    ],
                    [
                      54433565,
                      20293.89746,
                      "France"
                    ],
                    [
                      55630100,
                      22066.44214,
                      "France"
                    ],
                    [
                      57374179,
                      24703.79615,
                      "France"
                    ],
                    [
                      58623428,
                      25889.78487,
                      "France"
                    ],
                    [
                      59925035,
                      28926.03234,
                      "France"
                    ],
                    [
                      61083916,
                      30470.0167,
                      "France"
                    ]
                  ],
                  "hovertemplate": "<b>Year</b>: %{x}<br><b>Life Expectancy</b>: %{y:.2f}<br><i>Population</i>: %{customdata[0]}<br><i>GDP per Capita</i>: %{customdata[1]:.2f}<br><extra>%{customdata[2]}</extra>",
                  "legendgroup": "France",
                  "line": {
                    "color": "#FECB52",
                    "dash": "solid"
                  },
                  "marker": {
                    "symbol": "circle"
                  },
                  "mode": "lines+markers",
                  "name": "France",
                  "orientation": "v",
                  "showlegend": true,
                  "type": "scatter",
                  "x": {
                    "bdata": "oAelB6oHrwe0B7kHvgfDB8gHzQfSB9cH",
                    "dtype": "i2"
                  },
                  "xaxis": "x",
                  "y": {
                    "bdata": "CtejcD3aUEDsUbgehTtRQHE9CtejoFFAMzMzMzPjUUC4HoXrURhSQIXrUbgedVJAKVyPwvW4UkD2KFyPwhVTQD0K16NwXVNAKVyPwvWoU0D2KFyPwuVTQDVeukkMKlRA",
                    "dtype": "f8"
                  },
                  "yaxis": "y"
                },
                {
                  "customdata": [
                    [
                      69145952,
                      7144.114393000002,
                      "Germany"
                    ],
                    [
                      71019069,
                      10187.82665,
                      "Germany"
                    ],
                    [
                      73739117,
                      12902.46291,
                      "Germany"
                    ],
                    [
                      76368453,
                      14745.62561,
                      "Germany"
                    ],
                    [
                      78717088,
                      18016.18027,
                      "Germany"
                    ],
                    [
                      78160773,
                      20512.92123,
                      "Germany"
                    ],
                    [
                      78335266,
                      22031.53274,
                      "Germany"
                    ],
                    [
                      77718298,
                      24639.18566,
                      "Germany"
                    ],
                    [
                      80597764,
                      26505.30317,
                      "Germany"
                    ],
                    [
                      82011073,
                      27788.88416,
                      "Germany"
                    ],
                    [
                      82350671,
                      30035.80198,
                      "Germany"
                    ],
                    [
                      82400996,
                      32170.37442,
                      "Germany"
                    ]
                  ],
                  "hovertemplate": "<b>Year</b>: %{x}<br><b>Life Expectancy</b>: %{y:.2f}<br><i>Population</i>: %{customdata[0]}<br><i>GDP per Capita</i>: %{customdata[1]:.2f}<br><extra>%{customdata[2]}</extra>",
                  "legendgroup": "Germany",
                  "line": {
                    "color": "#636efa",
                    "dash": "solid"
                  },
                  "marker": {
                    "symbol": "circle"
                  },
                  "mode": "lines+markers",
                  "name": "Germany",
                  "orientation": "v",
                  "showlegend": true,
                  "type": "scatter",
                  "x": {
                    "bdata": "oAelB6oHrwe0B7kHvgfDB8gHzQfSB9cH",
                    "dtype": "i2"
                  },
                  "xaxis": "x",
                  "y": {
                    "bdata": "AAAAAADgUEBmZmZmZkZRQDMzMzMzk1FAMzMzMzOzUUAAAAAAAMBRQAAAAAAAIFJAMzMzMzNzUkCR7Xw/NbZSQBSuR+F6BFNA9ihcj8JVU0B7FK5H4apTQESLbOf72VNA",
                    "dtype": "f8"
                  },
                  "yaxis": "y"
                },
                {
                  "customdata": [
                    [
                      7733250,
                      3530.690067,
                      "Greece"
                    ],
                    [
                      8096218,
                      4916.299889,
                      "Greece"
                    ],
                    [
                      8448233,
                      6017.190732999999,
                      "Greece"
                    ],
                    [
                      8716441,
                      8513.097016,
                      "Greece"
                    ],
                    [
                      8888628,
                      12724.82957,
                      "Greece"
                    ],
                    [
                      9308479,
                      14195.52428,
                      "Greece"
                    ],
                    [
                      9786480,
                      15268.42089,
                      "Greece"
                    ],
                    [
                      9974490,
                      16120.52839,
                      "Greece"
                    ],
                    [
                      10325429,
                      17541.49634,
                      "Greece"
                    ],
                    [
                      10502372,
                      18747.69814,
                      "Greece"
                    ],
                    [
                      10603863,
                      22514.2548,
                      "Greece"
                    ],
                    [
                      10706290,
                      27538.41188,
                      "Greece"
                    ]
                  ],
                  "hovertemplate": "<b>Year</b>: %{x}<br><b>Life Expectancy</b>: %{y:.2f}<br><i>Population</i>: %{customdata[0]}<br><i>GDP per Capita</i>: %{customdata[1]:.2f}<br><extra>%{customdata[2]}</extra>",
                  "legendgroup": "Greece",
                  "line": {
                    "color": "#EF553B",
                    "dash": "solid"
                  },
                  "marker": {
                    "symbol": "circle"
                  },
                  "mode": "lines+markers",
                  "name": "Greece",
                  "orientation": "v",
                  "showlegend": true,
                  "type": "scatter",
                  "x": {
                    "bdata": "oAelB6oHrwe0B7kHvgfDB8gHzQfSB9cH",
                    "dtype": "i2"
                  },
                  "xaxis": "x",
                  "y": {
                    "bdata": "16NwPQp3UEDXo3A9CvdQQHE9CtejYFFAAAAAAADAUUD2KFyPwhVSQOxRuB6Fa1JAj8L1KFzPUkB7FK5H4SpTQFK4HoXrQVNAVg4tsp13U0Cq8dJNYpBTQPT91Hjp3lNA",
                    "dtype": "f8"
                  },
                  "yaxis": "y"
                },
                {
                  "customdata": [
                    [
                      9504000,
                      5263.673816,
                      "Hungary"
                    ],
                    [
                      9839000,
                      6040.180011,
                      "Hungary"
                    ],
                    [
                      10063000,
                      7550.359877,
                      "Hungary"
                    ],
                    [
                      10223422,
                      9326.64467,
                      "Hungary"
                    ],
                    [
                      10394091,
                      10168.65611,
                      "Hungary"
                    ],
                    [
                      10637171,
                      11674.83737,
                      "Hungary"
                    ],
                    [
                      10705535,
                      12545.99066,
                      "Hungary"
                    ],
                    [
                      10612740,
                      12986.47998,
                      "Hungary"
                    ],
                    [
                      10348684,
                      10535.62855,
                      "Hungary"
                    ],
                    [
                      10244684,
                      11712.7768,
                      "Hungary"
                    ],
                    [
                      10083313,
                      14843.93556,
                      "Hungary"
                    ],
                    [
                      9956108,
                      18008.94444,
                      "Hungary"
                    ]
                  ],
                  "hovertemplate": "<b>Year</b>: %{x}<br><b>Life Expectancy</b>: %{y:.2f}<br><i>Population</i>: %{customdata[0]}<br><i>GDP per Capita</i>: %{customdata[1]:.2f}<br><extra>%{customdata[2]}</extra>",
                  "legendgroup": "Hungary",
                  "line": {
                    "color": "#00cc96",
                    "dash": "solid"
                  },
                  "marker": {
                    "symbol": "circle"
                  },
                  "mode": "lines+markers",
                  "name": "Hungary",
                  "orientation": "v",
                  "showlegend": true,
                  "type": "scatter",
                  "x": {
                    "bdata": "oAelB6oHrwe0B7kHvgfDB8gHzQfSB9cH",
                    "dtype": "i2"
                  },
                  "xaxis": "x",
                  "y": {
                    "bdata": "UrgehesBUEAK16NwPZpQQD0K16Nw/VBAAAAAAABgUUBxPQrXo3BRQM3MzMzMfFFAKVyPwvVYUUCF61G4HmVRQHsUrkfhSlFAw/UoXI/CUUD2KFyPwiVSQBSDwMqhVVJA",
                    "dtype": "f8"
                  },
                  "yaxis": "y"
                },
                {
                  "customdata": [
                    [
                      147962,
                      7267.688428,
                      "Iceland"
                    ],
                    [
                      165110,
                      9244.001412,
                      "Iceland"
                    ],
                    [
                      182053,
                      10350.15906,
                      "Iceland"
                    ],
                    [
                      198676,
                      13319.89568,
                      "Iceland"
                    ],
                    [
                      209275,
                      15798.06362,
                      "Iceland"
                    ],
                    [
                      221823,
                      19654.96247,
                      "Iceland"
                    ],
                    [
                      233997,
                      23269.6075,
                      "Iceland"
                    ],
                    [
                      244676,
                      26923.20628,
                      "Iceland"
                    ],
                    [
                      259012,
                      25144.39201,
                      "Iceland"
                    ],
                    [
                      271192,
                      28061.099660000003,
                      "Iceland"
                    ],
                    [
                      288030,
                      31163.20196,
                      "Iceland"
                    ],
                    [
                      301931,
                      36180.78919,
                      "Iceland"
                    ]
                  ],
                  "hovertemplate": "<b>Year</b>: %{x}<br><b>Life Expectancy</b>: %{y:.2f}<br><i>Population</i>: %{customdata[0]}<br><i>GDP per Capita</i>: %{customdata[1]:.2f}<br><extra>%{customdata[2]}</extra>",
                  "legendgroup": "Iceland",
                  "line": {
                    "color": "#ab63fa",
                    "dash": "solid"
                  },
                  "marker": {
                    "symbol": "circle"
                  },
                  "mode": "lines+markers",
                  "name": "Iceland",
                  "orientation": "v",
                  "showlegend": true,
                  "type": "scatter",
                  "x": {
                    "bdata": "oAelB6oHrwe0B7kHvgfDB8gHzQfSB9cH",
                    "dtype": "i2"
                  },
                  "xaxis": "x",
                  "y": {
                    "bdata": "j8L1KFwfUkCuR+F6FF5SQOxRuB6Fa1JAH4XrUbhuUkA9CtejcJ1SQNejcD0KB1NAj8L1KFw/U0AfhetRuE5TQOF6FK5HsVNAzczMzMy8U0AAAAAAACBUQJzEILBycFRA",
                    "dtype": "f8"
                  },
                  "yaxis": "y"
                },
                {
                  "customdata": [
                    [
                      2952156,
                      5210.280328,
                      "Ireland"
                    ],
                    [
                      2878220,
                      5599.077872,
                      "Ireland"
                    ],
                    [
                      2830000,
                      6631.597314,
                      "Ireland"
                    ],
                    [
                      2900100,
                      7655.568963,
                      "Ireland"
                    ],
                    [
                      3024400,
                      9530.772896,
                      "Ireland"
                    ],
                    [
                      3271900,
                      11150.98113,
                      "Ireland"
                    ],
                    [
                      3480000,
                      12618.32141,
                      "Ireland"
                    ],
                    [
                      3539900,
                      13872.86652,
                      "Ireland"
                    ],
                    [
                      3557761,
                      17558.81555,
                      "Ireland"
                    ],
                    [
                      3667233,
                      24521.94713,
                      "Ireland"
                    ],
                    [
                      3879155,
                      34077.04939,
                      "Ireland"
                    ],
                    [
                      4109086,
                      40675.99635,
                      "Ireland"
                    ]
                  ],
                  "hovertemplate": "<b>Year</b>: %{x}<br><b>Life Expectancy</b>: %{y:.2f}<br><i>Population</i>: %{customdata[0]}<br><i>GDP per Capita</i>: %{customdata[1]:.2f}<br><extra>%{customdata[2]}</extra>",
                  "legendgroup": "Ireland",
                  "line": {
                    "color": "#FFA15A",
                    "dash": "solid"
                  },
                  "marker": {
                    "symbol": "circle"
                  },
                  "mode": "lines+markers",
                  "name": "Ireland",
                  "orientation": "v",
                  "showlegend": true,
                  "type": "scatter",
                  "x": {
                    "bdata": "oAelB6oHrwe0B7kHvgfDB8gHzQfSB9cH",
                    "dtype": "i2"
                  },
                  "xaxis": "x",
                  "y": {
                    "bdata": "CtejcD26UECamZmZmTlRQMP1KFyPklFAhetRuB7FUUBSuB6F69FRQFK4HoXrAVJAZmZmZmZGUkDXo3A9CpdSQNnO91Pj3VJAK4cW2c4HU0AnMQisHHJTQHE9CtejuFNA",
                    "dtype": "f8"
                  },
                  "yaxis": "y"
                },
                {
                  "customdata": [
                    [
                      47666000,
                      4931.404154999998,
                      "Italy"
                    ],
                    [
                      49182000,
                      6248.656232,
                      "Italy"
                    ],
                    [
                      50843200,
                      8243.58234,
                      "Italy"
                    ],
                    [
                      52667100,
                      10022.40131,
                      "Italy"
                    ],
                    [
                      54365564,
                      12269.27378,
                      "Italy"
                    ],
                    [
                      56059245,
                      14255.98475,
                      "Italy"
                    ],
                    [
                      56535636,
                      16537.4835,
                      "Italy"
                    ],
                    [
                      56729703,
                      19207.23482,
                      "Italy"
                    ],
                    [
                      56840847,
                      22013.64486,
                      "Italy"
                    ],
                    [
                      57479469,
                      24675.02446,
                      "Italy"
                    ],
                    [
                      57926999,
                      27968.09817,
                      "Italy"
                    ],
                    [
                      58147733,
                      28569.7197,
                      "Italy"
                    ]
                  ],
                  "hovertemplate": "<b>Year</b>: %{x}<br><b>Life Expectancy</b>: %{y:.2f}<br><i>Population</i>: %{customdata[0]}<br><i>GDP per Capita</i>: %{customdata[1]:.2f}<br><extra>%{customdata[2]}</extra>",
                  "legendgroup": "Italy",
                  "line": {
                    "color": "#19d3f3",
                    "dash": "solid"
                  },
                  "marker": {
                    "symbol": "circle"
                  },
                  "mode": "lines+markers",
                  "name": "Italy",
                  "orientation": "v",
                  "showlegend": true,
                  "type": "scatter",
                  "x": {
                    "bdata": "oAelB6oHrwe0B7kHvgfDB8gHzQfSB9cH",
                    "dtype": "i2"
                  },
                  "xaxis": "x",
                  "y": {
                    "bdata": "XI/C9Sh8UECkcD0K1/NQQI/C9ShcT1FApHA9CtfDUUBcj8L1KAxSQB+F61G4XlJAH4XrUbi+UkB7FK5H4RpTQFyPwvUoXFNAFK5H4Xq0U0CPwvUoXA9UQG3n+6nxIlRA",
                    "dtype": "f8"
                  },
                  "yaxis": "y"
                },
                {
                  "customdata": [
                    [
                      413834,
                      2647.585601,
                      "Montenegro"
                    ],
                    [
                      442829,
                      3682.259903,
                      "Montenegro"
                    ],
                    [
                      474528,
                      4649.593785,
                      "Montenegro"
                    ],
                    [
                      501035,
                      5907.850937,
                      "Montenegro"
                    ],
                    [
                      527678,
                      7778.414017,
                      "Montenegro"
                    ],
                    [
                      560073,
                      9595.929905,
                      "Montenegro"
                    ],
                    [
                      562548,
                      11222.58762,
                      "Montenegro"
                    ],
                    [
                      569473,
                      11732.51017,
                      "Montenegro"
                    ],
                    [
                      621621,
                      7003.339037000002,
                      "Montenegro"
                    ],
                    [
                      692651,
                      6465.613349,
                      "Montenegro"
                    ],
                    [
                      720230,
                      6557.194282,
                      "Montenegro"
                    ],
                    [
                      684736,
                      9253.896111,
                      "Montenegro"
                    ]
                  ],
                  "hovertemplate": "<b>Year</b>: %{x}<br><b>Life Expectancy</b>: %{y:.2f}<br><i>Population</i>: %{customdata[0]}<br><i>GDP per Capita</i>: %{customdata[1]:.2f}<br><extra>%{customdata[2]}</extra>",
                  "legendgroup": "Montenegro",
                  "line": {
                    "color": "#FF6692",
                    "dash": "solid"
                  },
                  "marker": {
                    "symbol": "circle"
                  },
                  "mode": "lines+markers",
                  "name": "Montenegro",
                  "orientation": "v",
                  "showlegend": true,
                  "type": "scatter",
                  "x": {
                    "bdata": "oAelB6oHrwe0B7kHvgfDB8gHzQfSB9cH",
                    "dtype": "i2"
                  },
                  "xaxis": "x",
                  "y": {
                    "bdata": "okW28/2UTUDTTWIQWLlOQHe+nxov3U9ACKwcWmTLUEBkEFg5tKhRQE5iEFg5RFJAWDm0yHaGUkCPwvUoXLdSQKRwPQrX21JAFK5H4XrcUkASWDm0yH5SQJhuEoPAolJA",
                    "dtype": "f8"
                  },
                  "yaxis": "y"
                },
                {
                  "customdata": [
                    [
                      10381988,
                      8941.571858,
                      "Netherlands"
                    ],
                    [
                      11026383,
                      11276.19344,
                      "Netherlands"
                    ],
                    [
                      11805689,
                      12790.84956,
                      "Netherlands"
                    ],
                    [
                      12596822,
                      15363.25136,
                      "Netherlands"
                    ],
                    [
                      13329874,
                      18794.74567,
                      "Netherlands"
                    ],
                    [
                      13852989,
                      21209.0592,
                      "Netherlands"
                    ],
                    [
                      14310401,
                      21399.46046,
                      "Netherlands"
                    ],
                    [
                      14665278,
                      23651.32361,
                      "Netherlands"
                    ],
                    [
                      15174244,
                      26790.94961,
                      "Netherlands"
                    ],
                    [
                      15604464,
                      30246.13063,
                      "Netherlands"
                    ],
                    [
                      16122830,
                      33724.75778,
                      "Netherlands"
                    ],
                    [
                      16570613,
                      36797.93332,
                      "Netherlands"
                    ]
                  ],
                  "hovertemplate": "<b>Year</b>: %{x}<br><b>Life Expectancy</b>: %{y:.2f}<br><i>Population</i>: %{customdata[0]}<br><i>GDP per Capita</i>: %{customdata[1]:.2f}<br><extra>%{customdata[2]}</extra>",
                  "legendgroup": "Netherlands",
                  "line": {
                    "color": "#B6E880",
                    "dash": "solid"
                  },
                  "marker": {
                    "symbol": "circle"
                  },
                  "mode": "lines+markers",
                  "name": "Netherlands",
                  "orientation": "v",
                  "showlegend": true,
                  "type": "scatter",
                  "x": {
                    "bdata": "oAelB6oHrwe0B7kHvgfDB8gHzQfSB9cH",
                    "dtype": "i2"
                  },
                  "xaxis": "x",
                  "y": {
                    "bdata": "uB6F61EIUkCPwvUoXD9SQB+F61G4TlJAFK5H4Xp0UkAAAAAAAHBSQI/C9Shcz1JAMzMzMzMDU0CF61G4HjVTQHsUrkfhWlNAUrgeheuBU0BSuB6F66FTQFTjpZvE8FNA",
                    "dtype": "f8"
                  },
                  "yaxis": "y"
                },
                {
                  "customdata": [
                    [
                      3327728,
                      10095.42172,
                      "Norway"
                    ],
                    [
                      3491938,
                      11653.97304,
                      "Norway"
                    ],
                    [
                      3638919,
                      13450.40151,
                      "Norway"
                    ],
                    [
                      3786019,
                      16361.87647,
                      "Norway"
                    ],
                    [
                      3933004,
                      18965.05551,
                      "Norway"
                    ],
                    [
                      4043205,
                      23311.34939,
                      "Norway"
                    ],
                    [
                      4114787,
                      26298.63531,
                      "Norway"
                    ],
                    [
                      4186147,
                      31540.9748,
                      "Norway"
                    ],
                    [
                      4286357,
                      33965.66115,
                      "Norway"
                    ],
                    [
                      4405672,
                      41283.16433,
                      "Norway"
                    ],
                    [
                      4535591,
                      44683.97525,
                      "Norway"
                    ],
                    [
                      4627926,
                      49357.19017,
                      "Norway"
                    ]
                  ],
                  "hovertemplate": "<b>Year</b>: %{x}<br><b>Life Expectancy</b>: %{y:.2f}<br><i>Population</i>: %{customdata[0]}<br><i>GDP per Capita</i>: %{customdata[1]:.2f}<br><extra>%{customdata[2]}</extra>",
                  "legendgroup": "Norway",
                  "line": {
                    "color": "#FF97FF",
                    "dash": "solid"
                  },
                  "marker": {
                    "symbol": "circle"
                  },
                  "mode": "lines+markers",
                  "name": "Norway",
                  "orientation": "v",
                  "showlegend": true,
                  "type": "scatter",
                  "x": {
                    "bdata": "oAelB6oHrwe0B7kHvgfDB8gHzQfSB9cH",
                    "dtype": "i2"
                  },
                  "xaxis": "x",
                  "y": {
                    "bdata": "exSuR+EqUkBcj8L1KFxSQK5H4XoUXlJAhetRuB6FUkD2KFyPwpVSQEjhehSu11JArkfhehT+UkApXI/C9fhSQBSuR+F6VFNAFK5H4XqUU0AzMzMzM8NTQAaBlUOLDFRA",
                    "dtype": "f8"
                  },
                  "yaxis": "y"
                },
                {
                  "customdata": [
                    [
                      25730551,
                      4029.329699,
                      "Poland"
                    ],
                    [
                      28235346,
                      4734.253019,
                      "Poland"
                    ],
                    [
                      30329617,
                      5338.752143,
                      "Poland"
                    ],
                    [
                      31785378,
                      6557.152776,
                      "Poland"
                    ],
                    [
                      33039545,
                      8006.506993000001,
                      "Poland"
                    ],
                    [
                      34621254,
                      9508.141454,
                      "Poland"
                    ],
                    [
                      36227381,
                      8451.531004,
                      "Poland"
                    ],
                    [
                      37740710,
                      9082.351172,
                      "Poland"
                    ],
                    [
                      38370697,
                      7738.881247,
                      "Poland"
                    ],
                    [
                      38654957,
                      10159.58368,
                      "Poland"
                    ],
                    [
                      38625976,
                      12002.23908,
                      "Poland"
                    ],
                    [
                      38518241,
                      15389.924680000002,
                      "Poland"
                    ]
                  ],
                  "hovertemplate": "<b>Year</b>: %{x}<br><b>Life Expectancy</b>: %{y:.2f}<br><i>Population</i>: %{customdata[0]}<br><i>GDP per Capita</i>: %{customdata[1]:.2f}<br><extra>%{customdata[2]}</extra>",
                  "legendgroup": "Poland",
                  "line": {
                    "color": "#FECB52",
                    "dash": "solid"
                  },
                  "marker": {
                    "symbol": "circle"
                  },
                  "mode": "lines+markers",
                  "name": "Poland",
                  "orientation": "v",
                  "showlegend": true,
                  "type": "scatter",
                  "x": {
                    "bdata": "oAelB6oHrwe0B7kHvgfDB8gHzQfSB9cH",
                    "dtype": "i2"
                  },
                  "xaxis": "x",
                  "y": {
                    "bdata": "SOF6FK6nTkDhehSuR3FQQClcj8L16FBA16NwPQpnUUBmZmZmZrZRQHsUrkfhqlFAFK5H4XrUUUAfhetRuL5RQI/C9Shcv1FAAAAAAAAwUkB7FK5H4apSQHnpJjEI5FJA",
                    "dtype": "f8"
                  },
                  "yaxis": "y"
                },
                {
                  "customdata": [
                    [
                      8526050,
                      3068.319867,
                      "Portugal"
                    ],
                    [
                      8817650,
                      3774.571743,
                      "Portugal"
                    ],
                    [
                      9019800,
                      4727.954889,
                      "Portugal"
                    ],
                    [
                      9103000,
                      6361.517993,
                      "Portugal"
                    ],
                    [
                      8970450,
                      9022.247417,
                      "Portugal"
                    ],
                    [
                      9662600,
                      10172.48572,
                      "Portugal"
                    ],
                    [
                      9859650,
                      11753.84291,
                      "Portugal"
                    ],
                    [
                      9915289,
                      13039.30876,
                      "Portugal"
                    ],
                    [
                      9927680,
                      16207.266630000002,
                      "Portugal"
                    ],
                    [
                      10156415,
                      17641.03156,
                      "Portugal"
                    ],
                    [
                      10433867,
                      19970.90787,
                      "Portugal"
                    ],
                    [
                      10642836,
                      20509.64777,
                      "Portugal"
                    ]
                  ],
                  "hovertemplate": "<b>Year</b>: %{x}<br><b>Life Expectancy</b>: %{y:.2f}<br><i>Population</i>: %{customdata[0]}<br><i>GDP per Capita</i>: %{customdata[1]:.2f}<br><extra>%{customdata[2]}</extra>",
                  "legendgroup": "Portugal",
                  "line": {
                    "color": "#636efa",
                    "dash": "solid"
                  },
                  "marker": {
                    "symbol": "circle"
                  },
                  "mode": "lines+markers",
                  "name": "Portugal",
                  "orientation": "v",
                  "showlegend": true,
                  "type": "scatter",
                  "x": {
                    "bdata": "oAelB6oHrwe0B7kHvgfDB8gHzQfSB9cH",
                    "dtype": "i2"
                  },
                  "xaxis": "x",
                  "y": {
                    "bdata": "KVyPwvXoTUDhehSuR8FOQClcj8L1GFBAZmZmZmamUEBxPQrXo1BRQArXo3A9mlFA4XoUrkcxUkCkcD0K14NSQNejcD0Kt1JArkfhehT+UkDD9Shcj1JTQIPAyqFFhlNA",
                    "dtype": "f8"
                  },
                  "yaxis": "y"
                },
                {
                  "customdata": [
                    [
                      16630000,
                      3144.613186,
                      "Romania"
                    ],
                    [
                      17829327,
                      3943.370225,
                      "Romania"
                    ],
                    [
                      18680721,
                      4734.997586,
                      "Romania"
                    ],
                    [
                      19284814,
                      6470.866545,
                      "Romania"
                    ],
                    [
                      20662648,
                      8011.4144019999985,
                      "Romania"
                    ],
                    [
                      21658597,
                      9356.39724,
                      "Romania"
                    ],
                    [
                      22356726,
                      9605.314053,
                      "Romania"
                    ],
                    [
                      22686371,
                      9696.273295,
                      "Romania"
                    ],
                    [
                      22797027,
                      6598.409903,
                      "Romania"
                    ],
                    [
                      22562458,
                      7346.547556999999,
                      "Romania"
                    ],
                    [
                      22404337,
                      7885.360081,
                      "Romania"
                    ],
                    [
                      22276056,
                      10808.47561,
                      "Romania"
                    ]
                  ],
                  "hovertemplate": "<b>Year</b>: %{x}<br><b>Life Expectancy</b>: %{y:.2f}<br><i>Population</i>: %{customdata[0]}<br><i>GDP per Capita</i>: %{customdata[1]:.2f}<br><extra>%{customdata[2]}</extra>",
                  "legendgroup": "Romania",
                  "line": {
                    "color": "#EF553B",
                    "dash": "solid"
                  },
                  "marker": {
                    "symbol": "circle"
                  },
                  "mode": "lines+markers",
                  "name": "Romania",
                  "orientation": "v",
                  "showlegend": true,
                  "type": "scatter",
                  "x": {
                    "bdata": "oAelB6oHrwe0B7kHvgfDB8gHzQfSB9cH",
                    "dtype": "i2"
                  },
                  "xaxis": "x",
                  "y": {
                    "bdata": "ZmZmZmaGTkBmZmZmZgZQQDMzMzMzs1BAMzMzMzOzUEA9CtejcE1RQD0K16NwXVFACtejcD1qUUBSuB6F62FRQNejcD0KV1FArkfhehRuUUD4U+Olm9RRQFg5tMh2HlJA",
                    "dtype": "f8"
                  },
                  "yaxis": "y"
                },
                {
                  "customdata": [
                    [
                      6860147,
                      3581.459448,
                      "Serbia"
                    ],
                    [
                      7271135,
                      4981.090891,
                      "Serbia"
                    ],
                    [
                      7616060,
                      6289.629157,
                      "Serbia"
                    ],
                    [
                      7971222,
                      7991.707066,
                      "Serbia"
                    ],
                    [
                      8313288,
                      10522.06749,
                      "Serbia"
                    ],
                    [
                      8686367,
                      12980.66956,
                      "Serbia"
                    ],
                    [
                      9032824,
                      15181.0927,
                      "Serbia"
                    ],
                    [
                      9230783,
                      15870.87851,
                      "Serbia"
                    ],
                    [
                      9826397,
                      9325.068238,
                      "Serbia"
                    ],
                    [
                      10336594,
                      7914.320304000002,
                      "Serbia"
                    ],
                    [
                      10111559,
                      7236.075251,
                      "Serbia"
                    ],
                    [
                      10150265,
                      9786.534714,
                      "Serbia"
                    ]
                  ],
                  "hovertemplate": "<b>Year</b>: %{x}<br><b>Life Expectancy</b>: %{y:.2f}<br><i>Population</i>: %{customdata[0]}<br><i>GDP per Capita</i>: %{customdata[1]:.2f}<br><extra>%{customdata[2]}</extra>",
                  "legendgroup": "Serbia",
                  "line": {
                    "color": "#00cc96",
                    "dash": "solid"
                  },
                  "marker": {
                    "symbol": "circle"
                  },
                  "mode": "lines+markers",
                  "name": "Serbia",
                  "orientation": "v",
                  "showlegend": true,
                  "type": "scatter",
                  "x": {
                    "bdata": "oAelB6oHrwe0B7kHvgfDB8gHzQfSB9cH",
                    "dtype": "i2"
                  },
                  "xaxis": "x",
                  "y": {
                    "bdata": "c2iR7Xz/TEBI4XoUrtdOQESLbOf7IVBA0SLb+X66UEDNzMzMzCxRQDMzMzMzk1FA7Xw/NV6KUUDLoUW2881RQBcEVg4t6lFAAiuHFtkOUkAUg8DKoU1SQOOlm8QggFJA",
                    "dtype": "f8"
                  },
                  "yaxis": "y"
                },
                {
                  "customdata": [
                    [
                      3558137,
                      5074.659104,
                      "Slovak Republic"
                    ],
                    [
                      3844277,
                      6093.26298,
                      "Slovak Republic"
                    ],
                    [
                      4237384,
                      7481.107598,
                      "Slovak Republic"
                    ],
                    [
                      4442238,
                      8412.902397,
                      "Slovak Republic"
                    ],
                    [
                      4593433,
                      9674.167626,
                      "Slovak Republic"
                    ],
                    [
                      4827803,
                      10922.66404,
                      "Slovak Republic"
                    ],
                    [
                      5048043,
                      11348.54585,
                      "Slovak Republic"
                    ],
                    [
                      5199318,
                      12037.26758,
                      "Slovak Republic"
                    ],
                    [
                      5302888,
                      9498.467723,
                      "Slovak Republic"
                    ],
                    [
                      5383010,
                      12126.23065,
                      "Slovak Republic"
                    ],
                    [
                      5410052,
                      13638.778369999998,
                      "Slovak Republic"
                    ],
                    [
                      5447502,
                      18678.31435,
                      "Slovak Republic"
                    ]
                  ],
                  "hovertemplate": "<b>Year</b>: %{x}<br><b>Life Expectancy</b>: %{y:.2f}<br><i>Population</i>: %{customdata[0]}<br><i>GDP per Capita</i>: %{customdata[1]:.2f}<br><extra>%{customdata[2]}</extra>",
                  "legendgroup": "Slovak Republic",
                  "line": {
                    "color": "#ab63fa",
                    "dash": "solid"
                  },
                  "marker": {
                    "symbol": "circle"
                  },
                  "mode": "lines+markers",
                  "name": "Slovak Republic",
                  "orientation": "v",
                  "showlegend": true,
                  "type": "scatter",
                  "x": {
                    "bdata": "oAelB6oHrwe0B7kHvgfDB8gHzQfSB9cH",
                    "dtype": "i2"
                  },
                  "xaxis": "x",
                  "y": {
                    "bdata": "16NwPQoXUEDNzMzMzNxQQIXrUbgelVFAH4XrUbi+UUBmZmZmZpZRQM3MzMzMnFFAMzMzMzOzUUCF61G4HsVRQLgehetR2FFAPQrXo3AtUkAzMzMzM3NSQN9PjZduqlJA",
                    "dtype": "f8"
                  },
                  "yaxis": "y"
                },
                {
                  "customdata": [
                    [
                      1489518,
                      4215.041741,
                      "Slovenia"
                    ],
                    [
                      1533070,
                      5862.276629,
                      "Slovenia"
                    ],
                    [
                      1582962,
                      7402.303395,
                      "Slovenia"
                    ],
                    [
                      1646912,
                      9405.489397,
                      "Slovenia"
                    ],
                    [
                      1694510,
                      12383.4862,
                      "Slovenia"
                    ],
                    [
                      1746919,
                      15277.030169999998,
                      "Slovenia"
                    ],
                    [
                      1861252,
                      17866.72175,
                      "Slovenia"
                    ],
                    [
                      1945870,
                      18678.53492,
                      "Slovenia"
                    ],
                    [
                      1999210,
                      14214.71681,
                      "Slovenia"
                    ],
                    [
                      2011612,
                      17161.10735,
                      "Slovenia"
                    ],
                    [
                      2011497,
                      20660.01936,
                      "Slovenia"
                    ],
                    [
                      2009245,
                      25768.25759,
                      "Slovenia"
                    ]
                  ],
                  "hovertemplate": "<b>Year</b>: %{x}<br><b>Life Expectancy</b>: %{y:.2f}<br><i>Population</i>: %{customdata[0]}<br><i>GDP per Capita</i>: %{customdata[1]:.2f}<br><extra>%{customdata[2]}</extra>",
                  "legendgroup": "Slovenia",
                  "line": {
                    "color": "#FFA15A",
                    "dash": "solid"
                  },
                  "marker": {
                    "symbol": "circle"
                  },
                  "mode": "lines+markers",
                  "name": "Slovenia",
                  "orientation": "v",
                  "showlegend": true,
                  "type": "scatter",
                  "x": {
                    "bdata": "oAelB6oHrwe0B7kHvgfDB8gHzQfSB9cH",
                    "dtype": "i2"
                  },
                  "xaxis": "x",
                  "y": {
                    "bdata": "FK5H4XpkUEBmZmZmZvZQQJqZmZmZSVFA7FG4HoVLUUAUrkfhenRRQK5H4XoUvlFAeekmMQjEUUAAAAAAABBSQClcj8L1aFJAuB6F61HIUkAK16NwPSpTQCUGgZVDe1NA",
                    "dtype": "f8"
                  },
                  "yaxis": "y"
                },
                {
                  "customdata": [
                    [
                      28549870,
                      3834.034742,
                      "Spain"
                    ],
                    [
                      29841614,
                      4564.80241,
                      "Spain"
                    ],
                    [
                      31158061,
                      5693.843879,
                      "Spain"
                    ],
                    [
                      32850275,
                      7993.512294,
                      "Spain"
                    ],
                    [
                      34513161,
                      10638.75131,
                      "Spain"
                    ],
                    [
                      36439000,
                      13236.92117,
                      "Spain"
                    ],
                    [
                      37983310,
                      13926.16997,
                      "Spain"
                    ],
                    [
                      38880702,
                      15764.98313,
                      "Spain"
                    ],
                    [
                      39549438,
                      18603.06452,
                      "Spain"
                    ],
                    [
                      39855442,
                      20445.29896,
                      "Spain"
                    ],
                    [
                      40152517,
                      24835.47166,
                      "Spain"
                    ],
                    [
                      40448191,
                      28821.0637,
                      "Spain"
                    ]
                  ],
                  "hovertemplate": "<b>Year</b>: %{x}<br><b>Life Expectancy</b>: %{y:.2f}<br><i>Population</i>: %{customdata[0]}<br><i>GDP per Capita</i>: %{customdata[1]:.2f}<br><extra>%{customdata[2]}</extra>",
                  "legendgroup": "Spain",
                  "line": {
                    "color": "#19d3f3",
                    "dash": "solid"
                  },
                  "marker": {
                    "symbol": "circle"
                  },
                  "mode": "lines+markers",
                  "name": "Spain",
                  "orientation": "v",
                  "showlegend": true,
                  "type": "scatter",
                  "x": {
                    "bdata": "oAelB6oHrwe0B7kHvgfDB8gHzQfSB9cH",
                    "dtype": "i2"
                  },
                  "xaxis": "x",
                  "y": {
                    "bdata": "XI/C9Sg8UEAK16NwPapQQFyPwvUobFFAXI/C9SjcUUCkcD0K10NSQClcj8L1mFJAMzMzMzMTU0CamZmZmTlTQBSuR+F6ZFNA4XoUrkexU0BSuB6F6/FTQE5iEFg5PFRA",
                    "dtype": "f8"
                  },
                  "yaxis": "y"
                },
                {
                  "customdata": [
                    [
                      7124673,
                      8527.844662000001,
                      "Sweden"
                    ],
                    [
                      7363802,
                      9911.878226,
                      "Sweden"
                    ],
                    [
                      7561588,
                      12329.44192,
                      "Sweden"
                    ],
                    [
                      7867931,
                      15258.29697,
                      "Sweden"
                    ],
                    [
                      8122293,
                      17832.02464,
                      "Sweden"
                    ],
                    [
                      8251648,
                      18855.72521,
                      "Sweden"
                    ],
                    [
                      8325260,
                      20667.38125,
                      "Sweden"
                    ],
                    [
                      8421403,
                      23586.92927,
                      "Sweden"
                    ],
                    [
                      8718867,
                      23880.01683,
                      "Sweden"
                    ],
                    [
                      8897619,
                      25266.59499,
                      "Sweden"
                    ],
                    [
                      8954175,
                      29341.630930000007,
                      "Sweden"
                    ],
                    [
                      9031088,
                      33859.74835,
                      "Sweden"
                    ]
                  ],
                  "hovertemplate": "<b>Year</b>: %{x}<br><b>Life Expectancy</b>: %{y:.2f}<br><i>Population</i>: %{customdata[0]}<br><i>GDP per Capita</i>: %{customdata[1]:.2f}<br><extra>%{customdata[2]}</extra>",
                  "legendgroup": "Sweden",
                  "line": {
                    "color": "#FF6692",
                    "dash": "solid"
                  },
                  "marker": {
                    "symbol": "circle"
                  },
                  "mode": "lines+markers",
                  "name": "Sweden",
                  "orientation": "v",
                  "showlegend": true,
                  "type": "scatter",
                  "x": {
                    "bdata": "oAelB6oHrwe0B7kHvgfDB8gHzQfSB9cH",
                    "dtype": "i2"
                  },
                  "xaxis": "x",
                  "y": {
                    "bdata": "16NwPQr3UUCPwvUoXB9SQEjhehSuV1JACtejcD2KUkCuR+F6FK5SQFyPwvUo3FJAexSuR+EaU0Bcj8L1KExTQArXo3A9ilNAKVyPwvXYU0DD9ShcjwJUQH9qvHSTOFRA",
                    "dtype": "f8"
                  },
                  "yaxis": "y"
                },
                {
                  "customdata": [
                    [
                      4815000,
                      14734.23275,
                      "Switzerland"
                    ],
                    [
                      5126000,
                      17909.48973,
                      "Switzerland"
                    ],
                    [
                      5666000,
                      20431.0927,
                      "Switzerland"
                    ],
                    [
                      6063000,
                      22966.14432,
                      "Switzerland"
                    ],
                    [
                      6401400,
                      27195.11304,
                      "Switzerland"
                    ],
                    [
                      6316424,
                      26982.29052,
                      "Switzerland"
                    ],
                    [
                      6468126,
                      28397.71512,
                      "Switzerland"
                    ],
                    [
                      6649942,
                      30281.70459,
                      "Switzerland"
                    ],
                    [
                      6995447,
                      31871.5303,
                      "Switzerland"
                    ],
                    [
                      7193761,
                      32135.323010000004,
                      "Switzerland"
                    ],
                    [
                      7361757,
                      34480.95771,
                      "Switzerland"
                    ],
                    [
                      7554661,
                      37506.41907,
                      "Switzerland"
                    ]
                  ],
                  "hovertemplate": "<b>Year</b>: %{x}<br><b>Life Expectancy</b>: %{y:.2f}<br><i>Population</i>: %{customdata[0]}<br><i>GDP per Capita</i>: %{customdata[1]:.2f}<br><extra>%{customdata[2]}</extra>",
                  "legendgroup": "Switzerland",
                  "line": {
                    "color": "#B6E880",
                    "dash": "solid"
                  },
                  "marker": {
                    "symbol": "circle"
                  },
                  "mode": "lines+markers",
                  "name": "Switzerland",
                  "orientation": "v",
                  "showlegend": true,
                  "type": "scatter",
                  "x": {
                    "bdata": "oAelB6oHrwe0B7kHvgfDB8gHzQfSB9cH",
                    "dtype": "i2"
                  },
                  "xaxis": "x",
                  "y": {
                    "bdata": "SOF6FK5nUUCkcD0K16NRQBSuR+F61FFA4XoUrkcxUkBSuB6F63FSQClcj8L12FJAPQrXo3ANU0AK16NwPVpTQFK4HoXrgVNASOF6FK7XU0BI4XoUridUQMCfGi/dbFRA",
                    "dtype": "f8"
                  },
                  "yaxis": "y"
                },
                {
                  "customdata": [
                    [
                      22235677,
                      1969.10098,
                      "Turkey"
                    ],
                    [
                      25670939,
                      2218.754257,
                      "Turkey"
                    ],
                    [
                      29788695,
                      2322.869908,
                      "Turkey"
                    ],
                    [
                      33411317,
                      2826.3563870000007,
                      "Turkey"
                    ],
                    [
                      37492953,
                      3450.69638,
                      "Turkey"
                    ],
                    [
                      42404033,
                      4269.122326,
                      "Turkey"
                    ],
                    [
                      47328791,
                      4241.356344,
                      "Turkey"
                    ],
                    [
                      52881328,
                      5089.043686,
                      "Turkey"
                    ],
                    [
                      58179144,
                      5678.348271,
                      "Turkey"
                    ],
                    [
                      63047647,
                      6601.429915,
                      "Turkey"
                    ],
                    [
                      67308928,
                      6508.085718,
                      "Turkey"
                    ],
                    [
                      71158647,
                      8458.276384,
                      "Turkey"
                    ]
                  ],
                  "hovertemplate": "<b>Year</b>: %{x}<br><b>Life Expectancy</b>: %{y:.2f}<br><i>Population</i>: %{customdata[0]}<br><i>GDP per Capita</i>: %{customdata[1]:.2f}<br><extra>%{customdata[2]}</extra>",
                  "legendgroup": "Turkey",
                  "line": {
                    "color": "#FF97FF",
                    "dash": "solid"
                  },
                  "marker": {
                    "symbol": "circle"
                  },
                  "mode": "lines+markers",
                  "name": "Turkey",
                  "orientation": "v",
                  "showlegend": true,
                  "type": "scatter",
                  "x": {
                    "bdata": "oAelB6oHrwe0B7kHvgfDB8gHzQfSB9cH",
                    "dtype": "i2"
                  },
                  "xaxis": "x",
                  "y": {
                    "bdata": "exSuR+HKRUAmMQisHApIQAaBlUOLDEpAYLpJDAIrS0BxPQrXo4BMQDeJQWDlwE1A+FPjpZuETkDn+6nx0o1PQNNNYhBYiVBAPQrXo3A1UUCuR+F6FLZRQH0/NV668VFA",
                    "dtype": "f8"
                  },
                  "yaxis": "y"
                },
                {
                  "customdata": [
                    [
                      50430000,
                      9979.508487,
                      "United Kingdom"
                    ],
                    [
                      51430000,
                      11283.17795,
                      "United Kingdom"
                    ],
                    [
                      53292000,
                      12477.17707,
                      "United Kingdom"
                    ],
                    [
                      54959000,
                      14142.85089,
                      "United Kingdom"
                    ],
                    [
                      56079000,
                      15895.11641,
                      "United Kingdom"
                    ],
                    [
                      56179000,
                      17428.74846,
                      "United Kingdom"
                    ],
                    [
                      56339704,
                      18232.42452,
                      "United Kingdom"
                    ],
                    [
                      56981620,
                      21664.78767,
                      "United Kingdom"
                    ],
                    [
                      57866349,
                      22705.09254,
                      "United Kingdom"
                    ],
                    [
                      58808266,
                      26074.53136,
                      "United Kingdom"
                    ],
                    [
                      59912431,
                      29478.99919,
                      "United Kingdom"
                    ],
                    [
                      60776238,
                      33203.26128,
                      "United Kingdom"
                    ]
                  ],
                  "hovertemplate": "<b>Year</b>: %{x}<br><b>Life Expectancy</b>: %{y:.2f}<br><i>Population</i>: %{customdata[0]}<br><i>GDP per Capita</i>: %{customdata[1]:.2f}<br><extra>%{customdata[2]}</extra>",
                  "legendgroup": "United Kingdom",
                  "line": {
                    "color": "#FECB52",
                    "dash": "solid"
                  },
                  "marker": {
                    "symbol": "circle"
                  },
                  "mode": "lines+markers",
                  "name": "United Kingdom",
                  "orientation": "v",
                  "showlegend": true,
                  "type": "scatter",
                  "x": {
                    "bdata": "oAelB6oHrwe0B7kHvgfDB8gHzQfSB9cH",
                    "dtype": "i2"
                  },
                  "xaxis": "x",
                  "y": {
                    "bdata": "7FG4HoVLUUB7FK5H4ZpRQHE9CtejsFFA16NwPQrXUUBxPQrXowBSQHE9CtejMFJAw/UoXI+CUkCcxCCwcsBSQHsUrkfhGlNAy6FFtvNNU0CgGi/dJJ5TQDMzMzMz21NA",
                    "dtype": "f8"
                  },
                  "yaxis": "y"
                }
              ],
              "layout": {
                "height": 500,
                "legend": {
                  "title": {
                    "text": "country"
                  },
                  "tracegroupgap": 0
                },
                "sliders": [
                  {
                    "active": 0,
                    "currentvalue": {
                      "prefix": "Высота: "
                    },
                    "steps": [
                      {
                        "args": [
                          {
                            "height": 500
                          }
                        ],
                        "label": "500",
                        "method": "relayout"
                      },
                      {
                        "args": [
                          {
                            "height": 550
                          }
                        ],
                        "label": "550",
                        "method": "relayout"
                      },
                      {
                        "args": [
                          {
                            "height": 600
                          }
                        ],
                        "label": "600",
                        "method": "relayout"
                      },
                      {
                        "args": [
                          {
                            "height": 650
                          }
                        ],
                        "label": "650",
                        "method": "relayout"
                      },
                      {
                        "args": [
                          {
                            "height": 700
                          }
                        ],
                        "label": "700",
                        "method": "relayout"
                      },
                      {
                        "args": [
                          {
                            "height": 750
                          }
                        ],
                        "label": "750",
                        "method": "relayout"
                      },
                      {
                        "args": [
                          {
                            "height": 800
                          }
                        ],
                        "label": "800",
                        "method": "relayout"
                      },
                      {
                        "args": [
                          {
                            "height": 850
                          }
                        ],
                        "label": "850",
                        "method": "relayout"
                      },
                      {
                        "args": [
                          {
                            "height": 900
                          }
                        ],
                        "label": "900",
                        "method": "relayout"
                      },
                      {
                        "args": [
                          {
                            "height": 950
                          }
                        ],
                        "label": "950",
                        "method": "relayout"
                      },
                      {
                        "args": [
                          {
                            "height": 1000
                          }
                        ],
                        "label": "1000",
                        "method": "relayout"
                      }
                    ],
                    "y": 0.2
                  },
                  {
                    "active": 0,
                    "currentvalue": {
                      "prefix": "Ширина: "
                    },
                    "steps": [
                      {
                        "args": [
                          {
                            "width": 750
                          }
                        ],
                        "label": "750",
                        "method": "relayout"
                      },
                      {
                        "args": [
                          {
                            "width": 800
                          }
                        ],
                        "label": "800",
                        "method": "relayout"
                      },
                      {
                        "args": [
                          {
                            "width": 850
                          }
                        ],
                        "label": "850",
                        "method": "relayout"
                      },
                      {
                        "args": [
                          {
                            "width": 900
                          }
                        ],
                        "label": "900",
                        "method": "relayout"
                      },
                      {
                        "args": [
                          {
                            "width": 950
                          }
                        ],
                        "label": "950",
                        "method": "relayout"
                      },
                      {
                        "args": [
                          {
                            "width": 1000
                          }
                        ],
                        "label": "1000",
                        "method": "relayout"
                      },
                      {
                        "args": [
                          {
                            "width": 1050
                          }
                        ],
                        "label": "1050",
                        "method": "relayout"
                      },
                      {
                        "args": [
                          {
                            "width": 1100
                          }
                        ],
                        "label": "1100",
                        "method": "relayout"
                      },
                      {
                        "args": [
                          {
                            "width": 1150
                          }
                        ],
                        "label": "1150",
                        "method": "relayout"
                      },
                      {
                        "args": [
                          {
                            "width": 1200
                          }
                        ],
                        "label": "1200",
                        "method": "relayout"
                      },
                      {
                        "args": [
                          {
                            "width": 1250
                          }
                        ],
                        "label": "1250",
                        "method": "relayout"
                      },
                      {
                        "args": [
                          {
                            "width": 1300
                          }
                        ],
                        "label": "1300",
                        "method": "relayout"
                      },
                      {
                        "args": [
                          {
                            "width": 1350
                          }
                        ],
                        "label": "1350",
                        "method": "relayout"
                      },
                      {
                        "args": [
                          {
                            "width": 1400
                          }
                        ],
                        "label": "1400",
                        "method": "relayout"
                      },
                      {
                        "args": [
                          {
                            "width": 1450
                          }
                        ],
                        "label": "1450",
                        "method": "relayout"
                      },
                      {
                        "args": [
                          {
                            "width": 1500
                          }
                        ],
                        "label": "1500",
                        "method": "relayout"
                      }
                    ],
                    "y": 0.1
                  }
                ],
                "template": {
                  "data": {
                    "bar": [
                      {
                        "error_x": {
                          "color": "#2a3f5f"
                        },
                        "error_y": {
                          "color": "#2a3f5f"
                        },
                        "marker": {
                          "line": {
                            "color": "#E5ECF6",
                            "width": 0.5
                          },
                          "pattern": {
                            "fillmode": "overlay",
                            "size": 10,
                            "solidity": 0.2
                          }
                        },
                        "type": "bar"
                      }
                    ],
                    "barpolar": [
                      {
                        "marker": {
                          "line": {
                            "color": "#E5ECF6",
                            "width": 0.5
                          },
                          "pattern": {
                            "fillmode": "overlay",
                            "size": 10,
                            "solidity": 0.2
                          }
                        },
                        "type": "barpolar"
                      }
                    ],
                    "carpet": [
                      {
                        "aaxis": {
                          "endlinecolor": "#2a3f5f",
                          "gridcolor": "white",
                          "linecolor": "white",
                          "minorgridcolor": "white",
                          "startlinecolor": "#2a3f5f"
                        },
                        "baxis": {
                          "endlinecolor": "#2a3f5f",
                          "gridcolor": "white",
                          "linecolor": "white",
                          "minorgridcolor": "white",
                          "startlinecolor": "#2a3f5f"
                        },
                        "type": "carpet"
                      }
                    ],
                    "choropleth": [
                      {
                        "colorbar": {
                          "outlinewidth": 0,
                          "ticks": ""
                        },
                        "type": "choropleth"
                      }
                    ],
                    "contour": [
                      {
                        "colorbar": {
                          "outlinewidth": 0,
                          "ticks": ""
                        },
                        "colorscale": [
                          [
                            0,
                            "#0d0887"
                          ],
                          [
                            0.1111111111111111,
                            "#46039f"
                          ],
                          [
                            0.2222222222222222,
                            "#7201a8"
                          ],
                          [
                            0.3333333333333333,
                            "#9c179e"
                          ],
                          [
                            0.4444444444444444,
                            "#bd3786"
                          ],
                          [
                            0.5555555555555556,
                            "#d8576b"
                          ],
                          [
                            0.6666666666666666,
                            "#ed7953"
                          ],
                          [
                            0.7777777777777778,
                            "#fb9f3a"
                          ],
                          [
                            0.8888888888888888,
                            "#fdca26"
                          ],
                          [
                            1,
                            "#f0f921"
                          ]
                        ],
                        "type": "contour"
                      }
                    ],
                    "contourcarpet": [
                      {
                        "colorbar": {
                          "outlinewidth": 0,
                          "ticks": ""
                        },
                        "type": "contourcarpet"
                      }
                    ],
                    "heatmap": [
                      {
                        "colorbar": {
                          "outlinewidth": 0,
                          "ticks": ""
                        },
                        "colorscale": [
                          [
                            0,
                            "#0d0887"
                          ],
                          [
                            0.1111111111111111,
                            "#46039f"
                          ],
                          [
                            0.2222222222222222,
                            "#7201a8"
                          ],
                          [
                            0.3333333333333333,
                            "#9c179e"
                          ],
                          [
                            0.4444444444444444,
                            "#bd3786"
                          ],
                          [
                            0.5555555555555556,
                            "#d8576b"
                          ],
                          [
                            0.6666666666666666,
                            "#ed7953"
                          ],
                          [
                            0.7777777777777778,
                            "#fb9f3a"
                          ],
                          [
                            0.8888888888888888,
                            "#fdca26"
                          ],
                          [
                            1,
                            "#f0f921"
                          ]
                        ],
                        "type": "heatmap"
                      }
                    ],
                    "histogram": [
                      {
                        "marker": {
                          "pattern": {
                            "fillmode": "overlay",
                            "size": 10,
                            "solidity": 0.2
                          }
                        },
                        "type": "histogram"
                      }
                    ],
                    "histogram2d": [
                      {
                        "colorbar": {
                          "outlinewidth": 0,
                          "ticks": ""
                        },
                        "colorscale": [
                          [
                            0,
                            "#0d0887"
                          ],
                          [
                            0.1111111111111111,
                            "#46039f"
                          ],
                          [
                            0.2222222222222222,
                            "#7201a8"
                          ],
                          [
                            0.3333333333333333,
                            "#9c179e"
                          ],
                          [
                            0.4444444444444444,
                            "#bd3786"
                          ],
                          [
                            0.5555555555555556,
                            "#d8576b"
                          ],
                          [
                            0.6666666666666666,
                            "#ed7953"
                          ],
                          [
                            0.7777777777777778,
                            "#fb9f3a"
                          ],
                          [
                            0.8888888888888888,
                            "#fdca26"
                          ],
                          [
                            1,
                            "#f0f921"
                          ]
                        ],
                        "type": "histogram2d"
                      }
                    ],
                    "histogram2dcontour": [
                      {
                        "colorbar": {
                          "outlinewidth": 0,
                          "ticks": ""
                        },
                        "colorscale": [
                          [
                            0,
                            "#0d0887"
                          ],
                          [
                            0.1111111111111111,
                            "#46039f"
                          ],
                          [
                            0.2222222222222222,
                            "#7201a8"
                          ],
                          [
                            0.3333333333333333,
                            "#9c179e"
                          ],
                          [
                            0.4444444444444444,
                            "#bd3786"
                          ],
                          [
                            0.5555555555555556,
                            "#d8576b"
                          ],
                          [
                            0.6666666666666666,
                            "#ed7953"
                          ],
                          [
                            0.7777777777777778,
                            "#fb9f3a"
                          ],
                          [
                            0.8888888888888888,
                            "#fdca26"
                          ],
                          [
                            1,
                            "#f0f921"
                          ]
                        ],
                        "type": "histogram2dcontour"
                      }
                    ],
                    "mesh3d": [
                      {
                        "colorbar": {
                          "outlinewidth": 0,
                          "ticks": ""
                        },
                        "type": "mesh3d"
                      }
                    ],
                    "parcoords": [
                      {
                        "line": {
                          "colorbar": {
                            "outlinewidth": 0,
                            "ticks": ""
                          }
                        },
                        "type": "parcoords"
                      }
                    ],
                    "pie": [
                      {
                        "automargin": true,
                        "type": "pie"
                      }
                    ],
                    "scatter": [
                      {
                        "fillpattern": {
                          "fillmode": "overlay",
                          "size": 10,
                          "solidity": 0.2
                        },
                        "type": "scatter"
                      }
                    ],
                    "scatter3d": [
                      {
                        "line": {
                          "colorbar": {
                            "outlinewidth": 0,
                            "ticks": ""
                          }
                        },
                        "marker": {
                          "colorbar": {
                            "outlinewidth": 0,
                            "ticks": ""
                          }
                        },
                        "type": "scatter3d"
                      }
                    ],
                    "scattercarpet": [
                      {
                        "marker": {
                          "colorbar": {
                            "outlinewidth": 0,
                            "ticks": ""
                          }
                        },
                        "type": "scattercarpet"
                      }
                    ],
                    "scattergeo": [
                      {
                        "marker": {
                          "colorbar": {
                            "outlinewidth": 0,
                            "ticks": ""
                          }
                        },
                        "type": "scattergeo"
                      }
                    ],
                    "scattergl": [
                      {
                        "marker": {
                          "colorbar": {
                            "outlinewidth": 0,
                            "ticks": ""
                          }
                        },
                        "type": "scattergl"
                      }
                    ],
                    "scattermap": [
                      {
                        "marker": {
                          "colorbar": {
                            "outlinewidth": 0,
                            "ticks": ""
                          }
                        },
                        "type": "scattermap"
                      }
                    ],
                    "scattermapbox": [
                      {
                        "marker": {
                          "colorbar": {
                            "outlinewidth": 0,
                            "ticks": ""
                          }
                        },
                        "type": "scattermapbox"
                      }
                    ],
                    "scatterpolar": [
                      {
                        "marker": {
                          "colorbar": {
                            "outlinewidth": 0,
                            "ticks": ""
                          }
                        },
                        "type": "scatterpolar"
                      }
                    ],
                    "scatterpolargl": [
                      {
                        "marker": {
                          "colorbar": {
                            "outlinewidth": 0,
                            "ticks": ""
                          }
                        },
                        "type": "scatterpolargl"
                      }
                    ],
                    "scatterternary": [
                      {
                        "marker": {
                          "colorbar": {
                            "outlinewidth": 0,
                            "ticks": ""
                          }
                        },
                        "type": "scatterternary"
                      }
                    ],
                    "surface": [
                      {
                        "colorbar": {
                          "outlinewidth": 0,
                          "ticks": ""
                        },
                        "colorscale": [
                          [
                            0,
                            "#0d0887"
                          ],
                          [
                            0.1111111111111111,
                            "#46039f"
                          ],
                          [
                            0.2222222222222222,
                            "#7201a8"
                          ],
                          [
                            0.3333333333333333,
                            "#9c179e"
                          ],
                          [
                            0.4444444444444444,
                            "#bd3786"
                          ],
                          [
                            0.5555555555555556,
                            "#d8576b"
                          ],
                          [
                            0.6666666666666666,
                            "#ed7953"
                          ],
                          [
                            0.7777777777777778,
                            "#fb9f3a"
                          ],
                          [
                            0.8888888888888888,
                            "#fdca26"
                          ],
                          [
                            1,
                            "#f0f921"
                          ]
                        ],
                        "type": "surface"
                      }
                    ],
                    "table": [
                      {
                        "cells": {
                          "fill": {
                            "color": "#EBF0F8"
                          },
                          "line": {
                            "color": "white"
                          }
                        },
                        "header": {
                          "fill": {
                            "color": "#C8D4E3"
                          },
                          "line": {
                            "color": "white"
                          }
                        },
                        "type": "table"
                      }
                    ]
                  },
                  "layout": {
                    "annotationdefaults": {
                      "arrowcolor": "#2a3f5f",
                      "arrowhead": 0,
                      "arrowwidth": 1
                    },
                    "autotypenumbers": "strict",
                    "coloraxis": {
                      "colorbar": {
                        "outlinewidth": 0,
                        "ticks": ""
                      }
                    },
                    "colorscale": {
                      "diverging": [
                        [
                          0,
                          "#8e0152"
                        ],
                        [
                          0.1,
                          "#c51b7d"
                        ],
                        [
                          0.2,
                          "#de77ae"
                        ],
                        [
                          0.3,
                          "#f1b6da"
                        ],
                        [
                          0.4,
                          "#fde0ef"
                        ],
                        [
                          0.5,
                          "#f7f7f7"
                        ],
                        [
                          0.6,
                          "#e6f5d0"
                        ],
                        [
                          0.7,
                          "#b8e186"
                        ],
                        [
                          0.8,
                          "#7fbc41"
                        ],
                        [
                          0.9,
                          "#4d9221"
                        ],
                        [
                          1,
                          "#276419"
                        ]
                      ],
                      "sequential": [
                        [
                          0,
                          "#0d0887"
                        ],
                        [
                          0.1111111111111111,
                          "#46039f"
                        ],
                        [
                          0.2222222222222222,
                          "#7201a8"
                        ],
                        [
                          0.3333333333333333,
                          "#9c179e"
                        ],
                        [
                          0.4444444444444444,
                          "#bd3786"
                        ],
                        [
                          0.5555555555555556,
                          "#d8576b"
                        ],
                        [
                          0.6666666666666666,
                          "#ed7953"
                        ],
                        [
                          0.7777777777777778,
                          "#fb9f3a"
                        ],
                        [
                          0.8888888888888888,
                          "#fdca26"
                        ],
                        [
                          1,
                          "#f0f921"
                        ]
                      ],
                      "sequentialminus": [
                        [
                          0,
                          "#0d0887"
                        ],
                        [
                          0.1111111111111111,
                          "#46039f"
                        ],
                        [
                          0.2222222222222222,
                          "#7201a8"
                        ],
                        [
                          0.3333333333333333,
                          "#9c179e"
                        ],
                        [
                          0.4444444444444444,
                          "#bd3786"
                        ],
                        [
                          0.5555555555555556,
                          "#d8576b"
                        ],
                        [
                          0.6666666666666666,
                          "#ed7953"
                        ],
                        [
                          0.7777777777777778,
                          "#fb9f3a"
                        ],
                        [
                          0.8888888888888888,
                          "#fdca26"
                        ],
                        [
                          1,
                          "#f0f921"
                        ]
                      ]
                    },
                    "colorway": [
                      "#636efa",
                      "#EF553B",
                      "#00cc96",
                      "#ab63fa",
                      "#FFA15A",
                      "#19d3f3",
                      "#FF6692",
                      "#B6E880",
                      "#FF97FF",
                      "#FECB52"
                    ],
                    "font": {
                      "color": "#2a3f5f"
                    },
                    "geo": {
                      "bgcolor": "white",
                      "lakecolor": "white",
                      "landcolor": "#E5ECF6",
                      "showlakes": true,
                      "showland": true,
                      "subunitcolor": "white"
                    },
                    "hoverlabel": {
                      "align": "left"
                    },
                    "hovermode": "closest",
                    "mapbox": {
                      "style": "light"
                    },
                    "paper_bgcolor": "white",
                    "plot_bgcolor": "#E5ECF6",
                    "polar": {
                      "angularaxis": {
                        "gridcolor": "white",
                        "linecolor": "white",
                        "ticks": ""
                      },
                      "bgcolor": "#E5ECF6",
                      "radialaxis": {
                        "gridcolor": "white",
                        "linecolor": "white",
                        "ticks": ""
                      }
                    },
                    "scene": {
                      "xaxis": {
                        "backgroundcolor": "#E5ECF6",
                        "gridcolor": "white",
                        "gridwidth": 2,
                        "linecolor": "white",
                        "showbackground": true,
                        "ticks": "",
                        "zerolinecolor": "white"
                      },
                      "yaxis": {
                        "backgroundcolor": "#E5ECF6",
                        "gridcolor": "white",
                        "gridwidth": 2,
                        "linecolor": "white",
                        "showbackground": true,
                        "ticks": "",
                        "zerolinecolor": "white"
                      },
                      "zaxis": {
                        "backgroundcolor": "#E5ECF6",
                        "gridcolor": "white",
                        "gridwidth": 2,
                        "linecolor": "white",
                        "showbackground": true,
                        "ticks": "",
                        "zerolinecolor": "white"
                      }
                    },
                    "shapedefaults": {
                      "line": {
                        "color": "#2a3f5f"
                      }
                    },
                    "ternary": {
                      "aaxis": {
                        "gridcolor": "white",
                        "linecolor": "white",
                        "ticks": ""
                      },
                      "baxis": {
                        "gridcolor": "white",
                        "linecolor": "white",
                        "ticks": ""
                      },
                      "bgcolor": "#E5ECF6",
                      "caxis": {
                        "gridcolor": "white",
                        "linecolor": "white",
                        "ticks": ""
                      }
                    },
                    "title": {
                      "x": 0.05
                    },
                    "xaxis": {
                      "automargin": true,
                      "gridcolor": "white",
                      "linecolor": "white",
                      "ticks": "",
                      "title": {
                        "standoff": 15
                      },
                      "zerolinecolor": "white",
                      "zerolinewidth": 2
                    },
                    "yaxis": {
                      "automargin": true,
                      "gridcolor": "white",
                      "linecolor": "white",
                      "ticks": "",
                      "title": {
                        "standoff": 15
                      },
                      "zerolinecolor": "white",
                      "zerolinewidth": 2
                    }
                  }
                },
                "title": {
                  "text": "Ожидаемая продолжительность жизни в странах Европы"
                },
                "width": 750,
                "xaxis": {
                  "anchor": "y",
                  "domain": [
                    0,
                    1
                  ],
                  "rangeselector": {
                    "buttons": [
                      {
                        "count": 5,
                        "label": "5Y",
                        "step": "year",
                        "stepmode": "backward"
                      },
                      {
                        "count": 5,
                        "label": "5YTD",
                        "step": "year",
                        "stepmode": "todate"
                      },
                      {
                        "count": 10,
                        "label": "10Y",
                        "step": "year",
                        "stepmode": "backward"
                      },
                      {
                        "count": 10,
                        "label": "10YTD",
                        "step": "year",
                        "stepmode": "todate"
                      },
                      {
                        "count": 25,
                        "label": "25Y",
                        "step": "year",
                        "stepmode": "backward"
                      },
                      {
                        "count": 25,
                        "label": "25YTD",
                        "step": "year",
                        "stepmode": "todate"
                      },
                      {
                        "label": "All",
                        "step": "all"
                      }
                    ]
                  },
                  "rangeslider": {
                    "visible": true
                  },
                  "showspikes": true,
                  "spikecolor": "grey",
                  "spikedash": "dot",
                  "spikemode": "toaxis",
                  "spikesnap": "cursor",
                  "title": {
                    "text": "year"
                  }
                },
                "yaxis": {
                  "anchor": "x",
                  "domain": [
                    0,
                    1
                  ],
                  "showspikes": true,
                  "spikecolor": "grey",
                  "spikedash": "dot",
                  "spikemode": "toaxis",
                  "spikesnap": "data",
                  "title": {
                    "text": "lifeExp"
                  }
                }
              }
            }
          },
          "metadata": {},
          "output_type": "display_data"
        }
      ],
      "source": [
        "import plotly.express as px\n",
        "import pandas as pd\n",
        "\n",
        "# Загрузка данных\n",
        "data_gapminder = px.data.gapminder()\n",
        "\n",
        "# Фильтрация данных для Европы\n",
        "europe_data = data_gapminder[data_gapminder['continent'] == 'Europe']\n",
        "\n",
        "## 1. Построение базового графика\n",
        "fig = px.line(\n",
        "    europe_data,\n",
        "    x=\"year\",\n",
        "    y=\"lifeExp\",\n",
        "    color=\"country\",\n",
        "    markers=True,\n",
        "    title=\"Ожидаемая продолжительность жизни в странах Европы\",\n",
        "    height=500,\n",
        "    width=750,\n",
        "    custom_data=['pop', 'gdpPercap', 'country']  # Добавляем дополнительные данные для всплывающего окна\n",
        ")\n",
        "\n",
        "## 2. Добавление слайдеров для регулировки размеров\n",
        "fig.update_layout(\n",
        "    sliders=[\n",
        "        # Слайдер для высоты\n",
        "        {\n",
        "            'active': 0,\n",
        "            'currentvalue': {'prefix': 'Высота: '},\n",
        "            'steps': [{'args': [{'height': h}],\n",
        "                      'label': str(h),\n",
        "                      'method': 'relayout'} \n",
        "                      for h in range(500, 1050, 50)],\n",
        "            'y': 0.2\n",
        "        },\n",
        "        # Слайдер для ширины\n",
        "        {\n",
        "            'active': 0,\n",
        "            'currentvalue': {'prefix': 'Ширина: '},\n",
        "            'steps': [{'args': [{'width': w}],\n",
        "                      'label': str(w),\n",
        "                      'method': 'relayout'} \n",
        "                      for w in range(750, 1550, 50)],\n",
        "            'y': 0.1\n",
        "        }\n",
        "    ]\n",
        ")\n",
        "\n",
        "## 3. Добавление слайдеров и кнопок для выбора периода\n",
        "fig.update_layout(\n",
        "    xaxis={\n",
        "        'rangeselector': {\n",
        "            'buttons': [\n",
        "                # 5 полных лет\n",
        "                {\n",
        "                    'count': 5,\n",
        "                    'label': '5Y',\n",
        "                    'step': 'year',\n",
        "                    'stepmode': 'backward'\n",
        "                },\n",
        "                # 5 лет до текущей даты\n",
        "                {\n",
        "                    'count': 5,\n",
        "                    'label': '5YTD',\n",
        "                    'step': 'year',\n",
        "                    'stepmode': 'todate'\n",
        "                },\n",
        "                # 10 полных лет\n",
        "                {\n",
        "                    'count': 10,\n",
        "                    'label': '10Y',\n",
        "                    'step': 'year',\n",
        "                    'stepmode': 'backward'\n",
        "                },\n",
        "                # 10 лет до текущей даты\n",
        "                {\n",
        "                    'count': 10,\n",
        "                    'label': '10YTD',\n",
        "                    'step': 'year',\n",
        "                    'stepmode': 'todate'\n",
        "                },\n",
        "                # 25 полных лет\n",
        "                {\n",
        "                    'count': 25,\n",
        "                    'label': '25Y',\n",
        "                    'step': 'year',\n",
        "                    'stepmode': 'backward'\n",
        "                },\n",
        "                # 25 лет до текущей даты\n",
        "                {\n",
        "                    'count': 25,\n",
        "                    'label': '25YTD',\n",
        "                    'step': 'year',\n",
        "                    'stepmode': 'todate'\n",
        "                },\n",
        "                # Полный диапазон\n",
        "                {\n",
        "                    'label': 'All',\n",
        "                    'step': 'all'\n",
        "                }\n",
        "            ]\n",
        "        },\n",
        "        'rangeslider': {'visible': True}\n",
        "    }\n",
        ")\n",
        "\n",
        "## 4. Настройка всплывающего окна\n",
        "fig.update_traces(\n",
        "    hovertemplate=\"<b>Year</b>: %{x}<br>\" +\n",
        "                  \"<b>Life Expectancy</b>: %{y:.2f}<br>\" +\n",
        "                  \"<i>Population</i>: %{customdata[0]}<br>\" +\n",
        "                  \"<i>GDP per Capita</i>: %{customdata[1]:.2f}<br>\" +\n",
        "                  \"<extra>%{customdata[2]}</extra>\"\n",
        ")\n",
        "\n",
        "## 5. Добавление линий проекций\n",
        "fig.update_xaxes(\n",
        "    showspikes=True,\n",
        "    spikecolor=\"grey\",\n",
        "    spikesnap=\"cursor\",\n",
        "    spikemode=\"toaxis\",\n",
        "    spikedash=\"dot\"\n",
        ")\n",
        "\n",
        "fig.update_yaxes(\n",
        "    showspikes=True,\n",
        "    spikecolor=\"grey\",\n",
        "    spikesnap=\"data\",\n",
        "    spikemode=\"toaxis\",\n",
        "    spikedash=\"dot\"\n",
        ")\n",
        "\n",
        "fig.show()"
      ]
    },
    {
      "cell_type": "markdown",
      "id": "cyPHf1AZSMkE",
      "metadata": {
        "id": "cyPHf1AZSMkE"
      },
      "source": [
        "# Результат домашнего задания"
      ]
    },
    {
      "cell_type": "markdown",
      "id": "BnRn_fl5SN_0",
      "metadata": {
        "id": "BnRn_fl5SN_0"
      },
      "source": [
        "Решение для каждого задания предоставляется в виде программного кода на языке Python."
      ]
    },
    {
      "cell_type": "markdown",
      "id": "v0em-0ZGSVoU",
      "metadata": {
        "id": "v0em-0ZGSVoU"
      },
      "source": [
        "# Критерии оценивания"
      ]
    },
    {
      "cell_type": "markdown",
      "id": "3qq1JX9ASYuk",
      "metadata": {
        "id": "3qq1JX9ASYuk"
      },
      "source": [
        "К1 - за каждый правильно решенный пункт задания + 1 балл\n",
        "\n",
        "Максимальное количество баллов —  5 баллов.\n",
        "\n",
        "Минимальное количество баллов, чтобы преподаватель смог зачесть вашу работу — 3 балла."
      ]
    }
  ],
  "metadata": {
    "colab": {
      "include_colab_link": true,
      "provenance": []
    },
    "kernelspec": {
      "display_name": "myenv",
      "language": "python",
      "name": "python3"
    },
    "language_info": {
      "codemirror_mode": {
        "name": "ipython",
        "version": 3
      },
      "file_extension": ".py",
      "mimetype": "text/x-python",
      "name": "python",
      "nbconvert_exporter": "python",
      "pygments_lexer": "ipython3",
      "version": "3.12.3"
    }
  },
  "nbformat": 4,
  "nbformat_minor": 5
}
