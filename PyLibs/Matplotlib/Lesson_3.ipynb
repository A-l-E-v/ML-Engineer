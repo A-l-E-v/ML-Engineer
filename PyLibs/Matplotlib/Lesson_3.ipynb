{
  "cells": [
    {
      "cell_type": "markdown",
      "metadata": {
        "id": "view-in-github",
        "colab_type": "text"
      },
      "source": [
        "<a href=\"https://colab.research.google.com/github/A-l-E-v/ML-Engineer/blob/main/Lesson_3.ipynb\" target=\"_parent\"><img src=\"https://colab.research.google.com/assets/colab-badge.svg\" alt=\"Open In Colab\"/></a>"
      ]
    },
    {
      "cell_type": "code",
      "execution_count": null,
      "id": "2762489a",
      "metadata": {
        "id": "2762489a"
      },
      "outputs": [],
      "source": [
        "import numpy as np\n",
        "import pandas as pd\n",
        "import matplotlib.pyplot as plt"
      ]
    },
    {
      "cell_type": "markdown",
      "id": "0af39f44",
      "metadata": {
        "id": "0af39f44"
      },
      "source": [
        "Данные отсюда: https://ncdrisc.org/data-downloads-height.html"
      ]
    },
    {
      "cell_type": "markdown",
      "id": "16961b94",
      "metadata": {
        "id": "16961b94"
      },
      "source": [
        "## Построение гистограммы"
      ]
    },
    {
      "cell_type": "code",
      "execution_count": null,
      "id": "fe03ea27",
      "metadata": {
        "id": "fe03ea27"
      },
      "outputs": [],
      "source": [
        "# импортируем данные\n",
        "data_height = pd.read_csv('NCD\n",
        "data_18 = data_height[data_height['Age group'] == 18]"
      ]
    },
    {
      "cell_type": "markdown",
      "source": [],
      "metadata": {
        "id": "Mpzg3KFTYKmU"
      },
      "id": "Mpzg3KFTYKmU"
    },
    {
      "cell_type": "code",
      "execution_count": null,
      "id": "ebc841c2",
      "metadata": {
        "id": "ebc841c2"
      },
      "outputs": [],
      "source": [
        "# фильтруем данные\n",
        "data_18 = data_height[data_height['Age group'] == 18]"
      ]
    },
    {
      "cell_type": "code",
      "execution_count": null,
      "id": "068ad825",
      "metadata": {
        "id": "068ad825"
      },
      "outputs": [],
      "source": [
        "fig, ax = plt.subplots(figsize=(15, 10))\n",
        "ax.hist(data_18['Mean height'])\n",
        "ax.grid()\n",
        "plt.show()"
      ]
    },
    {
      "cell_type": "code",
      "execution_count": null,
      "id": "93f43eeb",
      "metadata": {
        "id": "93f43eeb"
      },
      "outputs": [],
      "source": [
        "# Добавляем подписи\n",
        "fig, ax = plt.subplots(figsize=(15, 10))\n",
        "ax.set_title('Mean height of people aged 18 (1985-2019)', size=20)\n",
        "ax.hist(data_18['Mean height'])\n",
        "ax.set_xlabel('Height', size=15)\n",
        "ax.set_ylabel('Number', size=15)\n",
        "ax.grid()\n",
        "plt.show()"
      ]
    },
    {
      "cell_type": "code",
      "execution_count": null,
      "id": "3b13393b",
      "metadata": {
        "id": "3b13393b"
      },
      "outputs": [],
      "source": [
        "# Делим гистограмму на две по смыслу\n",
        "fig, ax = plt.subplots(figsize=(15, 10))\n",
        "ax.set_title('Mean height of people aged 18 (1985-2019)', size=20)\n",
        "ax.hist(data_18[data_18['Sex'] == 'Boys']['Mean height'], label='Boys')\n",
        "ax.hist(data_18[data_18['Sex'] == 'Girls']['Mean height'], label= 'Girls', color='r')\n",
        "ax.set_xlabel('Height', size=15)\n",
        "ax.set_ylabel('Number', size=15)\n",
        "ax.legend()\n",
        "ax.grid()\n",
        "plt.show()"
      ]
    },
    {
      "cell_type": "code",
      "execution_count": null,
      "id": "c93c306f",
      "metadata": {
        "id": "c93c306f"
      },
      "outputs": [],
      "source": [
        "# Делаем гистограммы более плавными\n",
        "fig, ax = plt.subplots(figsize=(15, 10))\n",
        "ax.set_title('Mean height of people aged 18 (1985-2019)', size=20)\n",
        "ax.hist(data_18[data_18['Sex'] == 'Boys']['Mean height'], label='Boys', bins=5)\n",
        "ax.hist(data_18[data_18['Sex'] == 'Girls']['Mean height'], label= 'Girls', color='r', bins=5)\n",
        "ax.set_xlabel('Height', size=15)\n",
        "ax.set_ylabel('Number', size=15)\n",
        "ax.legend()\n",
        "ax.grid()\n",
        "plt.show()"
      ]
    },
    {
      "cell_type": "code",
      "execution_count": null,
      "id": "c1037320",
      "metadata": {
        "id": "c1037320"
      },
      "outputs": [],
      "source": [
        "# Добавляем границы\n",
        "fig, ax = plt.subplots(figsize=(15, 10))\n",
        "ax.set_title('Mean height of people aged 18 (1985-2019)', size=20)\n",
        "ax.hist(data_18[data_18['Sex'] == 'Boys']['Mean height'], label='Boys',\n",
        "        bins=5, edgecolor='black')\n",
        "ax.hist(data_18[data_18['Sex'] == 'Girls']['Mean height'], label= 'Girls', color='r',\n",
        "        bins=5, edgecolor='black')\n",
        "ax.set_xlabel('Height', size=15)\n",
        "ax.set_ylabel('Number', size=15)\n",
        "ax.legend()\n",
        "ax.grid()\n",
        "plt.show()"
      ]
    },
    {
      "cell_type": "markdown",
      "id": "72bfcbff",
      "metadata": {
        "id": "72bfcbff"
      },
      "source": [
        "## Интеграция матплотлиба с другими библиотеками"
      ]
    },
    {
      "cell_type": "code",
      "execution_count": null,
      "id": "9b8c428b",
      "metadata": {
        "scrolled": false,
        "id": "9b8c428b"
      },
      "outputs": [],
      "source": [
        "data_18.hist(column='Mean height', by='Sex',\n",
        "             xlabelsize=15, ylabelsize=15, sharey=True,\n",
        "             figsize=(15, 10), bins=5, legend=True, xrot=0, edgecolor='black')"
      ]
    },
    {
      "cell_type": "code",
      "execution_count": null,
      "id": "9008e03e",
      "metadata": {
        "id": "9008e03e"
      },
      "outputs": [],
      "source": [
        "data_18.pivot(index='Year', columns='Sex', values=['Mean height', 'Mean height standard error'])"
      ]
    },
    {
      "cell_type": "code",
      "execution_count": null,
      "id": "0674e2dc",
      "metadata": {
        "id": "0674e2dc"
      },
      "outputs": [],
      "source": [
        "data_18.pivot(index='Year', columns='Sex', values=['Mean height', 'Mean height standard error'])\\\n",
        "       .plot(y='Mean height', yerr='Mean height standard error', grid=True,\n",
        "             title='Mean height over years', legend=True, figsize=(15, 10), color=['b', 'r'])"
      ]
    }
  ],
  "metadata": {
    "kernelspec": {
      "display_name": "Python 3 (ipykernel)",
      "language": "python",
      "name": "python3"
    },
    "language_info": {
      "codemirror_mode": {
        "name": "ipython",
        "version": 3
      },
      "file_extension": ".py",
      "mimetype": "text/x-python",
      "name": "python",
      "nbconvert_exporter": "python",
      "pygments_lexer": "ipython3",
      "version": "3.10.12"
    },
    "colab": {
      "provenance": [],
      "include_colab_link": true
    }
  },
  "nbformat": 4,
  "nbformat_minor": 5
}