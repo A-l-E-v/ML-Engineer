{
  "cells": [
    {
      "cell_type": "markdown",
      "metadata": {
        "id": "view-in-github",
        "colab_type": "text"
      },
      "source": [
        "<a href=\"https://colab.research.google.com/github/A-l-E-v/ML-Engineer/blob/main/Homework_2.ipynb\" target=\"_parent\"><img src=\"https://colab.research.google.com/assets/colab-badge.svg\" alt=\"Open In Colab\"/></a>"
      ]
    },
    {
      "cell_type": "markdown",
      "id": "cxxZ16X4dHV3",
      "metadata": {
        "id": "cxxZ16X4dHV3"
      },
      "source": [
        "# Домашнее задание\n",
        "# Тема 2. Урок 3. Matplotlib"
      ]
    },
    {
      "cell_type": "markdown",
      "source": [
        "В этом домашнем задании нам предстоит визуализировать несколько статистик, описывающих оценку вкусовых качеств разных сортов шоколада. Данные мы будем визуализировать разными способами, применяя тот или иной метод для каждого из них."
      ],
      "metadata": {
        "id": "zfbeLon__RCB"
      },
      "id": "zfbeLon__RCB"
    },
    {
      "cell_type": "markdown",
      "id": "g15Iyblc1QTa",
      "metadata": {
        "id": "g15Iyblc1QTa"
      },
      "source": [
        "## Инструкции для выполнения домашнего задания\n",
        "\n"
      ]
    },
    {
      "cell_type": "markdown",
      "id": "7dv8WUHKr3Nr",
      "metadata": {
        "id": "7dv8WUHKr3Nr"
      },
      "source": [
        "1. Домашнее задание состоит из вводной части и 3 заданий\n",
        "2. В вводной части вам нужно подключить необходимые библиотеки, выгрузить и обработать данные\n",
        "3. В каждом задании дан фрагмент программного кода, который нужно дополнить для построения графиков\n",
        "4. В каждом фрагменте программного кода даны комментарии, написанные через **#** и выделенные зеленым цветом. Комментарии или дают пояснения к строке, или объясняют, какие строки должны быть на месте пропусков, т.е. чем вы должны дополнить фрагмент программного кода до полноценной программы\n",
        "5. В случае если вы забыли ранее изученные  материалы, вы всегда можете вернуться на обучающую платформу и просмотреть их заново (видео, презентация, тетрадь и т.д.), а также можете воспользоваться документацией Matplotlib"
      ]
    },
    {
      "cell_type": "markdown",
      "id": "dTsMAbBv0YoV",
      "metadata": {
        "id": "dTsMAbBv0YoV"
      },
      "source": [
        "## Подготовка к выполнению домашего задания\n"
      ]
    },
    {
      "cell_type": "markdown",
      "source": [
        "### Импорт библиотек"
      ],
      "metadata": {
        "id": "JDpTxlzJ_sD9"
      },
      "id": "JDpTxlzJ_sD9"
    },
    {
      "cell_type": "code",
      "execution_count": null,
      "id": "dee6145b",
      "metadata": {
        "colab": {
          "background_save": true
        },
        "id": "dee6145b"
      },
      "outputs": [],
      "source": [
        "import numpy as np\n",
        "import pandas as pd\n",
        "import matplotlib.pyplot as plt"
      ]
    },
    {
      "cell_type": "markdown",
      "source": [
        "### Загрузка датасета"
      ],
      "metadata": {
        "id": "kWB0oEEp_zL5"
      },
      "id": "kWB0oEEp_zL5"
    },
    {
      "cell_type": "code",
      "execution_count": null,
      "id": "77406571",
      "metadata": {
        "id": "77406571"
      },
      "outputs": [],
      "source": [
        "# для начала выгрузим данные\n",
        "FILE_ID = '1fovSybJL6Uas6YttK-Xe2nwAUdIKoxlF'\n",
        "!wget --no-check-certificate 'https://docs.google.com/uc?export=download&id={FILE_ID}' -O chocolate.csv\n",
        "\n",
        "data = pd.read_csv(\"chocolate.csv\")"
      ]
    },
    {
      "cell_type": "markdown",
      "source": [
        "### Предобработка датасета"
      ],
      "metadata": {
        "id": "9RwwBO80ABOr"
      },
      "id": "9RwwBO80ABOr"
    },
    {
      "cell_type": "code",
      "execution_count": null,
      "id": "b2edbbad",
      "metadata": {
        "id": "b2edbbad"
      },
      "outputs": [],
      "source": [
        "# теперь переведём строковые данные процентов в числовой формат (это нам пригодится)\n",
        "data[\"cocoa_percent\"] = pd.to_numeric(data[\"cocoa_percent\"].str[:-1])\n",
        "data.rename(columns={\"cocoa_percent\": \"cocoa_percent, %\"}, inplace=True)  # укажем проценты в названии столбца"
      ]
    },
    {
      "cell_type": "code",
      "execution_count": null,
      "id": "7fc68d79",
      "metadata": {
        "id": "7fc68d79"
      },
      "outputs": [],
      "source": [
        "# посмотрим на данные\n",
        "data"
      ]
    },
    {
      "cell_type": "markdown",
      "id": "b6170b35",
      "metadata": {
        "id": "b6170b35"
      },
      "source": [
        "В этом задании предлагаем вам сосредоточиться на рейтинге шоколада.\n",
        "Давайте попробуем оценить, насколько итоговый рейтинг зависит от страны-продавца.\n",
        "\n",
        "Для этого изучим данные о трех основных продавцах, имеющих примерно равную долю на рынке продажи шоколада:\n",
        "1.   Великобритании\n",
        "2.   Франции\n",
        "3.   Канаде\n"
      ]
    },
    {
      "cell_type": "markdown",
      "id": "4c1b6725",
      "metadata": {
        "id": "4c1b6725"
      },
      "source": [
        "## Задание 1"
      ]
    },
    {
      "cell_type": "markdown",
      "id": "c34352d3",
      "metadata": {
        "id": "c34352d3"
      },
      "source": [
        "В первом задании нам предстоит визуализировать гистограммы оценок шоколада критиками в зависимости от страны продавца. Визуализировать мы их будем обычным методом: используя уже знакомый нам интерфейс pyplot."
      ]
    },
    {
      "cell_type": "markdown",
      "source": [
        "Для начала определим все бины и названия стран заранее - чтобы пользоваться ими в будущем"
      ],
      "metadata": {
        "id": "hEgaChNyd05o"
      },
      "id": "hEgaChNyd05o"
    },
    {
      "cell_type": "code",
      "source": [
        "bins = np.linspace(data['rating'].min(), data['rating'].max(), 16)\n",
        "countries = [\"U.K.\", \"France\", \"Canada\"]"
      ],
      "metadata": {
        "id": "tUM0zTh-5aWV"
      },
      "id": "tUM0zTh-5aWV",
      "execution_count": null,
      "outputs": []
    },
    {
      "cell_type": "markdown",
      "source": [
        "Приступаем к построению графика:"
      ],
      "metadata": {
        "id": "ybm5IkTY5kzb"
      },
      "id": "ybm5IkTY5kzb"
    },
    {
      "cell_type": "code",
      "execution_count": null,
      "id": "c3b57397",
      "metadata": {
        "id": "c3b57397"
      },
      "outputs": [],
      "source": [
        "# (Напишите код) определите объекты fig, ax\n",
        "# (Напишите код) подпишите график таким образом, чтобы подпись характеризовала происходящее на графике\n",
        "\n",
        "# постройте гистограмму для распределения рейтинга по каждой из стран, продающих шоколад:\n",
        "ax.hist\\\n",
        "(\n",
        "    # (Напишите код) тут должен быть список множеств значений поля \"rating\", по одному множеству значений для страны-продавца\n",
        "    # ПОДСКАЗКА: каждое множество значений может быть получено фильтрацией нужного поля по названию страны\n",
        "    # (Напишите код) определите бины с помощью списка, который мы получили выше,\n",
        "    # (Напишите код) добавите границы чёрного цвета для стобиков гистограммы\n",
        "    # (Напишите код) сделайте столбцы более прозрачными: приравняйте параметр насыщенности к 0.75\n",
        ")\n",
        "\n",
        "# (Напишите код) добавьте разумные подписи осей размера 15, увеличьте шрифт подписей штрихов до 13\n",
        "# (Напишите код) добавьте легенду размера 15 и сетку"
      ]
    },
    {
      "cell_type": "markdown",
      "source": [
        "Выводим результат:"
      ],
      "metadata": {
        "id": "q_yvJbWg5up-"
      },
      "id": "q_yvJbWg5up-"
    },
    {
      "cell_type": "code",
      "source": [
        "plt.show()"
      ],
      "metadata": {
        "id": "-v8kWZNC50Vx"
      },
      "id": "-v8kWZNC50Vx",
      "execution_count": null,
      "outputs": []
    },
    {
      "cell_type": "markdown",
      "id": "e582108e",
      "metadata": {
        "id": "e582108e"
      },
      "source": [
        "Если всё сделано правильно, то вы получите гистограмму распределения рейтинга шоколада по трём странам. <br><br>\n",
        "\n",
        "Исходя из визуализации, сделайте вывод о сравнительном среднем качестве шоколада в зависимости от страны-продавца"
      ]
    },
    {
      "cell_type": "markdown",
      "id": "ef07ce97",
      "metadata": {
        "id": "ef07ce97"
      },
      "source": [
        "## Задание 2"
      ]
    },
    {
      "cell_type": "markdown",
      "id": "2fc716f7",
      "metadata": {
        "id": "2fc716f7"
      },
      "source": [
        "В данном задании мы построим три гистограммы распределения качества шоколада для каждой из стран-продавцов, причём сделаем это в одну строку с помощью метода hist соответствующего датафрейма"
      ]
    },
    {
      "cell_type": "markdown",
      "source": [
        "Сначала выделяем всё, что нам нужно, в отдельный датафрейм:"
      ],
      "metadata": {
        "id": "4hyaPcHL6jaV"
      },
      "id": "4hyaPcHL6jaV"
    },
    {
      "cell_type": "code",
      "execution_count": null,
      "id": "eb30ff3e",
      "metadata": {
        "id": "eb30ff3e"
      },
      "outputs": [],
      "source": [
        "data_short = data[data[\"company_location\"].isin(countries)][[\"company_location\", \"cocoa_percent, %\", \"rating\"]]\n",
        "data_short"
      ]
    },
    {
      "cell_type": "markdown",
      "source": [
        "Здесь строим гистограмму"
      ],
      "metadata": {
        "id": "igToQFQl6uAV"
      },
      "id": "igToQFQl6uAV"
    },
    {
      "cell_type": "code",
      "execution_count": null,
      "id": "5bde49e1",
      "metadata": {
        "id": "5bde49e1"
      },
      "outputs": [],
      "source": [
        "data_short.#(Напишите код) название метода\\\n",
        "(\n",
        "    # (Напишите код) укажите какой из столбцов будет источником для визуализации\n",
        "    # (Напишите код) укажите, по какому столбцу будет производиться разделение гистограмм\n",
        "    # (Напишите код) укажите размеры подписей по осям x и y, пусть это будет 13\n",
        "    # (Напишите код) задайте ось y общей для всех построенных графиков\n",
        "    # (Напишите код) укажите число бинов равным 15\n",
        "    # (Напишите код) укажите достаточный размер рисунка для различения всех особенностей графика\n",
        "    # (Напишите код) сделайте надписи по оси х горизонтальными\n",
        "    # (Напишите код) добавьте легенду\n",
        "    # (Напишите код) добавьте чёрные границы для столбцов\n",
        ")"
      ]
    },
    {
      "cell_type": "markdown",
      "source": [
        "Выводим результат:"
      ],
      "metadata": {
        "id": "O9QDHVJN67el"
      },
      "id": "O9QDHVJN67el"
    },
    {
      "cell_type": "code",
      "source": [
        "plt.show()"
      ],
      "metadata": {
        "id": "tUW0X3jl69zk"
      },
      "id": "tUW0X3jl69zk",
      "execution_count": null,
      "outputs": []
    },
    {
      "cell_type": "markdown",
      "id": "68955c17",
      "metadata": {
        "id": "68955c17"
      },
      "source": [
        "Если все выполнено верно, вы получите три гистограммы, каждая из которых подписана и в своем окне."
      ]
    },
    {
      "cell_type": "markdown",
      "id": "90268a09",
      "metadata": {
        "id": "90268a09"
      },
      "source": [
        "## Задание 3"
      ]
    },
    {
      "cell_type": "markdown",
      "id": "d11ad2dd",
      "metadata": {
        "id": "d11ad2dd"
      },
      "source": [
        "В этом задании мы построим графики зависимости оценок шоколада от процентного содержания какао в нём для каждой из стран. Так как для одной и той же страны-продавца и одного содержания какао в шоколаде мы можем получить разные оценки, то в случае нескольких оценок мы будем строить среднее от них, и строить \"усы\" стандартного отклонения"
      ]
    },
    {
      "cell_type": "markdown",
      "source": [
        "Строим среднее и разброс для оценок шоколада с одинаковым процентным содержанием и той же компанией:"
      ],
      "metadata": {
        "id": "YgIJVUJ-75-_"
      },
      "id": "YgIJVUJ-75-_"
    },
    {
      "cell_type": "code",
      "execution_count": null,
      "id": "82d3e36a",
      "metadata": {
        "id": "82d3e36a"
      },
      "outputs": [],
      "source": [
        "grouping = data_short.groupby([\"company_location\", \"cocoa_percent, %\"])\n",
        "means = grouping.mean()\n",
        "std = grouping.std()\n",
        "std.fillna(0.0, inplace=True) # в случае, когда оценка одна (разброс NaN), разброса нет"
      ]
    },
    {
      "cell_type": "markdown",
      "source": [
        "Посмотрим как выглядит среднее:"
      ],
      "metadata": {
        "id": "Y93hQs6v8BED"
      },
      "id": "Y93hQs6v8BED"
    },
    {
      "cell_type": "code",
      "execution_count": null,
      "id": "500cd2d4",
      "metadata": {
        "id": "500cd2d4",
        "scrolled": true
      },
      "outputs": [],
      "source": [
        "means"
      ]
    },
    {
      "cell_type": "code",
      "execution_count": null,
      "id": "92d30a85",
      "metadata": {
        "id": "92d30a85"
      },
      "outputs": [],
      "source": [
        "# здесь мы устраняем разрывы в графике среднего значения,\n",
        "# то есть, для тех значений, где нет среднего, мы его интерполируем\n",
        "# также здесь мы \"расшиваем\" двуколоночный индекс в индексы/столбцы, т.е. переводим в табличную форму\n",
        "means_unstacked = means.unstack(level=0).interpolate()\n",
        "std_unstacked = std.unstack(level=0)"
      ]
    },
    {
      "cell_type": "markdown",
      "source": [
        "Смотрим, что получилось:"
      ],
      "metadata": {
        "id": "7C0f4z238S11"
      },
      "id": "7C0f4z238S11"
    },
    {
      "cell_type": "code",
      "execution_count": null,
      "id": "5dd44653",
      "metadata": {
        "id": "5dd44653"
      },
      "outputs": [],
      "source": [
        "means_unstacked"
      ]
    },
    {
      "cell_type": "markdown",
      "source": [
        "Строим итоговый график:"
      ],
      "metadata": {
        "id": "v7MoryO68YiX"
      },
      "id": "v7MoryO68YiX"
    },
    {
      "cell_type": "code",
      "execution_count": null,
      "id": "f59806c7",
      "metadata": {
        "id": "f59806c7",
        "scrolled": false
      },
      "outputs": [],
      "source": [
        "# (Напишите код) определите объекты fig, ax\n",
        "# построение графика:\n",
        "means_unstacked.# (Напишите код) название нужного метода\\\n",
        "(\n",
        "    # (Напишите код) укажите колонку, которая будет отвечать за значения по оси y\n",
        "    # (Напишите код) укажите значения, которые будут отвечать за \"усы\" ошибок\n",
        "    # ПОДСКАЗКА: это как-то связано с std_unstacked, далее см. в тетрадке с лекции\n",
        "    capsize=4, # ширина \"крышечек\" для усов\n",
        "    # (Напишите код) добавьте сетку\n",
        "    # (Напишите код) разумно подпишите график\n",
        "    # (Напишите код) задайте ширину линий равную двум\n",
        "    # (Напишите код) задайте размер шрифта равным 15\n",
        "    # (Напишите код) укажите объект Axis, с которым мы работаем\n",
        ")\n",
        "\n",
        "# (Напишите код) задайте подпись по оси у (по оси х она появится из метода сама)\n",
        "# (Напишите код) задайте размер подписи к графику равным 20\n",
        "# (Напишите код) задаем размер подписи оси х равным 15\n",
        "# (Напишите код) добавьте легенду"
      ]
    },
    {
      "cell_type": "markdown",
      "source": [
        "Выводим результат:"
      ],
      "metadata": {
        "id": "d_Auo0oL8jVn"
      },
      "id": "d_Auo0oL8jVn"
    },
    {
      "cell_type": "code",
      "source": [
        "plt.show()"
      ],
      "metadata": {
        "id": "3ucatqK_8oUc"
      },
      "id": "3ucatqK_8oUc",
      "execution_count": null,
      "outputs": []
    },
    {
      "cell_type": "markdown",
      "id": "064a3eaa",
      "metadata": {
        "id": "064a3eaa"
      },
      "source": [
        "Если всё сделано правильно, то вы получите графики зависимости оценок качества шоколада для каждой страны в зависимости от процента содержания какао. <br>"
      ]
    },
    {
      "cell_type": "markdown",
      "source": [
        "**Проведите наблюдения и напишите ответы:**\n",
        "\n",
        "*   Как оценка качества зависит от процента горькости? Специфична ли эта тенденция по стране-продавцу?\n",
        "*   Выпишите любые другие характрные на ваш взгляд наблюдения."
      ],
      "metadata": {
        "id": "dJqExqWblH3v"
      },
      "id": "dJqExqWblH3v"
    },
    {
      "cell_type": "markdown",
      "source": [
        "## Результат домашнего задания"
      ],
      "metadata": {
        "id": "Hv_RqgIx83xD"
      },
      "id": "Hv_RqgIx83xD"
    },
    {
      "cell_type": "markdown",
      "source": [
        "Решение для каждого задания предоставляется в виде программного кода на языке Python и ответов на вопросы при наличии их в задании."
      ],
      "metadata": {
        "id": "XXgRaDGi9Bx7"
      },
      "id": "XXgRaDGi9Bx7"
    },
    {
      "cell_type": "markdown",
      "source": [
        "## Критерии оценивания"
      ],
      "metadata": {
        "id": "PIsx7a-g9rFl"
      },
      "id": "PIsx7a-g9rFl"
    },
    {
      "cell_type": "markdown",
      "id": "YWlsAy83jxDQ",
      "metadata": {
        "id": "YWlsAy83jxDQ"
      },
      "source": [
        "К1 - за выполнение 1 и 2 задания оценивать по  +2 балла\n",
        "К2 - за выполнение 5-го задания по +3 бала\n",
        "\n",
        "Максимальное количество баллов —  7 баллов.\n",
        "\n",
        "Минимальное количество баллов, чтобы преподаватель смог зачесть вашу работу — 4 балла."
      ]
    }
  ],
  "metadata": {
    "colab": {
      "provenance": [],
      "include_colab_link": true
    },
    "kernelspec": {
      "display_name": "Python 3 (ipykernel)",
      "language": "python",
      "name": "python3"
    },
    "language_info": {
      "codemirror_mode": {
        "name": "ipython",
        "version": 3
      },
      "file_extension": ".py",
      "mimetype": "text/x-python",
      "name": "python",
      "nbconvert_exporter": "python",
      "pygments_lexer": "ipython3",
      "version": "3.10.12"
    }
  },
  "nbformat": 4,
  "nbformat_minor": 5
}