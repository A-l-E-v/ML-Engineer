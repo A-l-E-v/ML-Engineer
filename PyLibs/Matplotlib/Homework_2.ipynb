{
  "cells": [
    {
      "cell_type": "markdown",
      "metadata": {
        "colab_type": "text",
        "id": "view-in-github"
      },
      "source": [
        "<a href=\"https://colab.research.google.com/github/A-l-E-v/ML-Engineer/blob/main/Homework_2.ipynb\" target=\"_parent\"><img src=\"https://colab.research.google.com/assets/colab-badge.svg\" alt=\"Open In Colab\"/></a>"
      ]
    },
    {
      "cell_type": "markdown",
      "id": "cxxZ16X4dHV3",
      "metadata": {
        "id": "cxxZ16X4dHV3"
      },
      "source": [
        "# Домашнее задание\n",
        "# Тема 2. Урок 3. Matplotlib"
      ]
    },
    {
      "cell_type": "markdown",
      "id": "zfbeLon__RCB",
      "metadata": {
        "id": "zfbeLon__RCB"
      },
      "source": [
        "В этом домашнем задании нам предстоит визуализировать несколько статистик, описывающих оценку вкусовых качеств разных сортов шоколада. Данные мы будем визуализировать разными способами, применяя тот или иной метод для каждого из них."
      ]
    },
    {
      "cell_type": "markdown",
      "id": "g15Iyblc1QTa",
      "metadata": {
        "id": "g15Iyblc1QTa"
      },
      "source": [
        "## Инструкции для выполнения домашнего задания\n",
        "\n"
      ]
    },
    {
      "cell_type": "markdown",
      "id": "7dv8WUHKr3Nr",
      "metadata": {
        "id": "7dv8WUHKr3Nr"
      },
      "source": [
        "1. Домашнее задание состоит из вводной части и 3 заданий\n",
        "2. В вводной части вам нужно подключить необходимые библиотеки, выгрузить и обработать данные\n",
        "3. В каждом задании дан фрагмент программного кода, который нужно дополнить для построения графиков\n",
        "4. В каждом фрагменте программного кода даны комментарии, написанные через **#** и выделенные зеленым цветом. Комментарии или дают пояснения к строке, или объясняют, какие строки должны быть на месте пропусков, т.е. чем вы должны дополнить фрагмент программного кода до полноценной программы\n",
        "5. В случае если вы забыли ранее изученные  материалы, вы всегда можете вернуться на обучающую платформу и просмотреть их заново (видео, презентация, тетрадь и т.д.), а также можете воспользоваться документацией Matplotlib"
      ]
    },
    {
      "cell_type": "markdown",
      "id": "dTsMAbBv0YoV",
      "metadata": {
        "id": "dTsMAbBv0YoV"
      },
      "source": [
        "## Подготовка к выполнению домашего задания\n"
      ]
    },
    {
      "cell_type": "markdown",
      "id": "JDpTxlzJ_sD9",
      "metadata": {
        "id": "JDpTxlzJ_sD9"
      },
      "source": [
        "### Импорт библиотек"
      ]
    },
    {
      "cell_type": "code",
      "execution_count": null,
      "id": "dee6145b",
      "metadata": {
        "colab": {
          "background_save": true
        },
        "id": "dee6145b"
      },
      "outputs": [],
      "source": [
        "import numpy as np\n",
        "import pandas as pd\n",
        "import matplotlib.pyplot as plt"
      ]
    },
    {
      "cell_type": "markdown",
      "id": "kWB0oEEp_zL5",
      "metadata": {
        "id": "kWB0oEEp_zL5"
      },
      "source": [
        "### Загрузка датасета"
      ]
    },
    {
      "cell_type": "code",
      "execution_count": null,
      "id": "77406571",
      "metadata": {
        "id": "77406571"
      },
      "outputs": [],
      "source": [
        "# для начала выгрузим данные\n",
        "FILE_ID = '1fovSybJL6Uas6YttK-Xe2nwAUdIKoxlF'\n",
        "!wget --no-check-certificate 'https://docs.google.com/uc?export=download&id={FILE_ID}' -O chocolate.csv\n",
        "\n",
        "data = pd.read_csv(\"chocolate.csv\")"
      ]
    },
    {
      "cell_type": "markdown",
      "id": "9RwwBO80ABOr",
      "metadata": {
        "id": "9RwwBO80ABOr"
      },
      "source": [
        "### Предобработка датасета"
      ]
    },
    {
      "cell_type": "code",
      "execution_count": null,
      "id": "b2edbbad",
      "metadata": {
        "id": "b2edbbad"
      },
      "outputs": [],
      "source": [
        "# теперь переведём строковые данные процентов в числовой формат (это нам пригодится)\n",
        "data[\"cocoa_percent\"] = pd.to_numeric(data[\"cocoa_percent\"].str[:-1])\n",
        "data.rename(columns={\"cocoa_percent\": \"cocoa_percent, %\"}, inplace=True)  # укажем проценты в названии столбца\n",
        "\n",
        "# Выбор стран для анализа\n",
        "countries = [\"U.K.\", \"France\", \"Canada\"]\n",
        "data_short = data[data[\"company_location\"].isin(countries)][[\"company_location\", \"cocoa_percent, %\", \"rating\"]]"
      ]
    },
    {
      "cell_type": "code",
      "execution_count": null,
      "id": "7fc68d79",
      "metadata": {
        "id": "7fc68d79"
      },
      "outputs": [],
      "source": [
        "# посмотрим на данные\n",
        "data"
      ]
    },
    {
      "cell_type": "markdown",
      "id": "b6170b35",
      "metadata": {
        "id": "b6170b35"
      },
      "source": [
        "В этом задании предлагаем вам сосредоточиться на рейтинге шоколада.\n",
        "Давайте попробуем оценить, насколько итоговый рейтинг зависит от страны-продавца.\n",
        "\n",
        "Для этого изучим данные о трех основных продавцах, имеющих примерно равную долю на рынке продажи шоколада:\n",
        "1.   Великобритании\n",
        "2.   Франции\n",
        "3.   Канаде\n"
      ]
    },
    {
      "cell_type": "markdown",
      "id": "4c1b6725",
      "metadata": {
        "id": "4c1b6725"
      },
      "source": [
        "## Задание 1"
      ]
    },
    {
      "cell_type": "markdown",
      "id": "c34352d3",
      "metadata": {
        "id": "c34352d3"
      },
      "source": [
        "В первом задании нам предстоит визуализировать гистограммы оценок шоколада критиками в зависимости от страны продавца. Визуализировать мы их будем обычным методом: используя уже знакомый нам интерфейс pyplot."
      ]
    },
    {
      "cell_type": "markdown",
      "id": "hEgaChNyd05o",
      "metadata": {
        "id": "hEgaChNyd05o"
      },
      "source": [
        "Для начала определим все бины и названия стран заранее - чтобы пользоваться ими в будущем"
      ]
    },
    {
      "cell_type": "code",
      "execution_count": null,
      "id": "tUM0zTh-5aWV",
      "metadata": {
        "id": "tUM0zTh-5aWV"
      },
      "outputs": [],
      "source": [
        "# Определение бинов\n",
        "bins = np.linspace(data['rating'].min(), data['rating'].max(), 16)\n",
        "\n",
        "# Построение гистограмм\n",
        "fig, ax = plt.subplots(figsize=(12, 8))\n",
        "ax.set_title(\"Распределение рейтингов шоколада по странам-продавцам\", fontsize=16)\n",
        "\n",
        "# Получаем данные для каждой страны\n",
        "hist_data = [\n",
        "    data[data[\"company_location\"] == \"U.K.\"][\"rating\"],\n",
        "    data[data[\"company_location\"] == \"France\"][\"rating\"],\n",
        "    data[data[\"company_location\"] == \"Canada\"][\"rating\"]\n",
        "]"
      ]
    },
    {
      "cell_type": "markdown",
      "id": "ybm5IkTY5kzb",
      "metadata": {
        "id": "ybm5IkTY5kzb"
      },
      "source": [
        "Приступаем к построению графика:"
      ]
    },
    {
      "cell_type": "code",
      "execution_count": null,
      "id": "c3b57397",
      "metadata": {
        "id": "c3b57397"
      },
      "outputs": [],
      "source": [
        "ax.hist(\n",
        "    hist_data,\n",
        "    bins=bins,\n",
        "    edgecolor='black',\n",
        "    alpha=0.75,\n",
        "    label=countries\n",
        ")\n",
        "\n",
        "ax.set_xlabel(\"Рейтинг шоколада\", fontsize=15)\n",
        "ax.set_ylabel(\"Количество оценок\", fontsize=15)\n",
        "ax.tick_params(labelsize=13)\n",
        "ax.legend(fontsize=15)\n",
        "ax.grid(True)"
      ]
    },
    {
      "cell_type": "markdown",
      "id": "q_yvJbWg5up-",
      "metadata": {
        "id": "q_yvJbWg5up-"
      },
      "source": [
        "Выводим результат:"
      ]
    },
    {
      "cell_type": "code",
      "execution_count": null,
      "id": "-v8kWZNC50Vx",
      "metadata": {
        "id": "-v8kWZNC50Vx"
      },
      "outputs": [],
      "source": [
        "plt.show()"
      ]
    },
    {
      "cell_type": "markdown",
      "id": "e582108e",
      "metadata": {
        "id": "e582108e"
      },
      "source": [
        "Если всё сделано правильно, то вы получите гистограмму распределения рейтинга шоколада по трём странам. <br><br>\n",
        "\n",
        "Исходя из визуализации, сделайте вывод о сравнительном среднем качестве шоколада в зависимости от страны-продавца"
      ]
    },
    {
      "cell_type": "markdown",
      "id": "67933ead",
      "metadata": {},
      "source": [
        "Вывод по заданию 1:\n",
        "Средний рейтинг шоколада из Великобритании несколько выше, чем у шоколада из Франции и Канады. Распределение оценок для Великобритании смещено вправо (в сторону более высоких оценок), тогда как для Франции и Канады распределение более симметричное."
      ]
    },
    {
      "cell_type": "markdown",
      "id": "ef07ce97",
      "metadata": {
        "id": "ef07ce97"
      },
      "source": [
        "## Задание 2"
      ]
    },
    {
      "cell_type": "markdown",
      "id": "2fc716f7",
      "metadata": {
        "id": "2fc716f7"
      },
      "source": [
        "В данном задании мы построим три гистограммы распределения качества шоколада для каждой из стран-продавцов, причём сделаем это в одну строку с помощью метода hist соответствующего датафрейма"
      ]
    },
    {
      "cell_type": "markdown",
      "id": "4hyaPcHL6jaV",
      "metadata": {
        "id": "4hyaPcHL6jaV"
      },
      "source": [
        "Сначала выделяем всё, что нам нужно, в отдельный датафрейм:"
      ]
    },
    {
      "cell_type": "code",
      "execution_count": null,
      "id": "eb30ff3e",
      "metadata": {
        "id": "eb30ff3e"
      },
      "outputs": [],
      "source": [
        "data_short = data[data[\"company_location\"].isin(countries)][[\"company_location\", \"cocoa_percent, %\", \"rating\"]]\n",
        "data_short"
      ]
    },
    {
      "cell_type": "markdown",
      "id": "igToQFQl6uAV",
      "metadata": {
        "id": "igToQFQl6uAV"
      },
      "source": [
        "Здесь строим гистограмму"
      ]
    },
    {
      "cell_type": "code",
      "execution_count": null,
      "id": "5bde49e1",
      "metadata": {
        "id": "5bde49e1"
      },
      "outputs": [],
      "source": [
        "data_short.hist(\n",
        "    column=\"rating\",\n",
        "    by=\"company_location\",\n",
        "    figsize=(15, 5),\n",
        "    bins=15,\n",
        "    sharey=True,\n",
        "    edgecolor='black',\n",
        "    xlabelsize=13,\n",
        "    ylabelsize=13,\n",
        "    layout=(1, 3))"
      ]
    },
    {
      "cell_type": "code",
      "execution_count": null,
      "id": "53a1452d",
      "metadata": {},
      "outputs": [],
      "source": [
        "plt.suptitle(\"Распределение рейтингов шоколада по странам\", fontsize=16)\n",
        "plt.xticks(rotation=0)\n",
        "plt.legend(fontsize=12)\n",
        "plt.tight_layout()"
      ]
    },
    {
      "cell_type": "markdown",
      "id": "O9QDHVJN67el",
      "metadata": {
        "id": "O9QDHVJN67el"
      },
      "source": [
        "Выводим результат:"
      ]
    },
    {
      "cell_type": "code",
      "execution_count": null,
      "id": "tUW0X3jl69zk",
      "metadata": {
        "id": "tUW0X3jl69zk"
      },
      "outputs": [],
      "source": [
        "plt.show()"
      ]
    },
    {
      "cell_type": "markdown",
      "id": "68955c17",
      "metadata": {
        "id": "68955c17"
      },
      "source": [
        "Если все выполнено верно, вы получите три гистограммы, каждая из которых подписана и в своем окне."
      ]
    },
    {
      "cell_type": "markdown",
      "id": "90268a09",
      "metadata": {
        "id": "90268a09"
      },
      "source": [
        "## Задание 3"
      ]
    },
    {
      "cell_type": "markdown",
      "id": "d11ad2dd",
      "metadata": {
        "id": "d11ad2dd"
      },
      "source": [
        "В этом задании мы построим графики зависимости оценок шоколада от процентного содержания какао в нём для каждой из стран. Так как для одной и той же страны-продавца и одного содержания какао в шоколаде мы можем получить разные оценки, то в случае нескольких оценок мы будем строить среднее от них, и строить \"усы\" стандартного отклонения"
      ]
    },
    {
      "cell_type": "markdown",
      "id": "YgIJVUJ-75-_",
      "metadata": {
        "id": "YgIJVUJ-75-_"
      },
      "source": [
        "Строим среднее и разброс для оценок шоколада с одинаковым процентным содержанием и той же компанией:"
      ]
    },
    {
      "cell_type": "code",
      "execution_count": null,
      "id": "82d3e36a",
      "metadata": {
        "id": "82d3e36a"
      },
      "outputs": [],
      "source": [
        "grouping = data_short.groupby([\"company_location\", \"cocoa_percent, %\"])\n",
        "means = grouping.mean()\n",
        "std = grouping.std()\n",
        "std.fillna(0.0, inplace=True) # в случае, когда оценка одна (разброс NaN), разброса нет"
      ]
    },
    {
      "cell_type": "markdown",
      "id": "Y93hQs6v8BED",
      "metadata": {
        "id": "Y93hQs6v8BED"
      },
      "source": [
        "Посмотрим как выглядит среднее:"
      ]
    },
    {
      "cell_type": "code",
      "execution_count": null,
      "id": "500cd2d4",
      "metadata": {
        "id": "500cd2d4",
        "scrolled": true
      },
      "outputs": [],
      "source": [
        "means"
      ]
    },
    {
      "cell_type": "code",
      "execution_count": null,
      "id": "92d30a85",
      "metadata": {
        "id": "92d30a85"
      },
      "outputs": [],
      "source": [
        "# здесь мы устраняем разрывы в графике среднего значения,\n",
        "# то есть, для тех значений, где нет среднего, мы его интерполируем\n",
        "# также здесь мы \"расшиваем\" двуколоночный индекс в индексы/столбцы, т.е. переводим в табличную форму\n",
        "means_unstacked = means.unstack(level=0).interpolate()\n",
        "std_unstacked = std.unstack(level=0)"
      ]
    },
    {
      "cell_type": "markdown",
      "id": "7C0f4z238S11",
      "metadata": {
        "id": "7C0f4z238S11"
      },
      "source": [
        "Смотрим, что получилось:"
      ]
    },
    {
      "cell_type": "code",
      "execution_count": null,
      "id": "5dd44653",
      "metadata": {
        "id": "5dd44653"
      },
      "outputs": [],
      "source": [
        "means_unstacked"
      ]
    },
    {
      "cell_type": "markdown",
      "id": "v7MoryO68YiX",
      "metadata": {
        "id": "v7MoryO68YiX"
      },
      "source": [
        "Строим итоговый график:"
      ]
    },
    {
      "cell_type": "code",
      "execution_count": null,
      "id": "f59806c7",
      "metadata": {
        "id": "f59806c7",
        "scrolled": false
      },
      "outputs": [],
      "source": [
        "means_unstacked.plot(\n",
        "    y='rating',\n",
        "    yerr=std_unstacked['rating'],\n",
        "    capsize=4,\n",
        "    grid=True,\n",
        "    title=\"Зависимость рейтинга от содержания какао по странам\",\n",
        "    linewidth=2,\n",
        "    fontsize=15,\n",
        "    ax=ax\n",
        ")\n",
        "\n",
        "ax.set_ylabel(\"Средний рейтинг\", fontsize=15)\n",
        "ax.set_xlabel(\"Содержание какао, %\", fontsize=15)\n",
        "ax.legend(fontsize=15)\n",
        "plt.suptitle(\"Зависимость рейтинга от содержания какао\", fontsize=20)"
      ]
    },
    {
      "cell_type": "markdown",
      "id": "d_Auo0oL8jVn",
      "metadata": {
        "id": "d_Auo0oL8jVn"
      },
      "source": [
        "Выводим результат:"
      ]
    },
    {
      "cell_type": "code",
      "execution_count": null,
      "id": "3ucatqK_8oUc",
      "metadata": {
        "id": "3ucatqK_8oUc"
      },
      "outputs": [],
      "source": [
        "plt.show()"
      ]
    },
    {
      "cell_type": "markdown",
      "id": "064a3eaa",
      "metadata": {
        "id": "064a3eaa"
      },
      "source": [
        "Если всё сделано правильно, то вы получите графики зависимости оценок качества шоколада для каждой страны в зависимости от процента содержания какао. <br>"
      ]
    },
    {
      "cell_type": "markdown",
      "id": "dJqExqWblH3v",
      "metadata": {
        "id": "dJqExqWblH3v"
      },
      "source": [
        "**Проведите наблюдения и напишите ответы:**\n",
        "\n",
        "*   Как оценка качества зависит от процента горькости? Специфична ли эта тенденция по стране-продавцу?\n",
        "*   Выпишите любые другие характрные на ваш взгляд наблюдения."
      ]
    },
    {
      "cell_type": "markdown",
      "id": "8e5e42f4",
      "metadata": {},
      "source": [
        "Зависимость оценки качества от процента какао:\n",
        "\n",
        "    Для всех трех стран наблюдается схожая тенденция: с увеличением содержания какао до 70-80% рейтинг в среднем растет, а затем начинает снижаться для шоколада с очень высоким содержанием какао (85-100%).\n",
        "\n",
        "    Наибольшие оценки получает шоколад с содержанием какао около 70-75%.\n",
        "\n",
        "    Разброс оценок (длина \"усов\") максимален для шоколада с содержанием какао 60-80%.\n",
        "\n",
        "Другие наблюдения:\n",
        "\n",
        "    Шоколад из Великобритании имеет более стабильно высокие оценки по всем процентам содержания какао.\n",
        "\n",
        "    Для Франции характерен наибольший разброс оценок при содержании какао около 70%.\n",
        "\n",
        "    Канадский шоколад показывает наименьший разброс оценок, что может свидетельствовать о более стабильном качестве.\n",
        "\n",
        "    Для шоколада с очень высоким содержанием какао (90-100%) оценки существенно ниже среднего во всех странах."
      ]
    },
    {
      "cell_type": "markdown",
      "id": "Hv_RqgIx83xD",
      "metadata": {
        "id": "Hv_RqgIx83xD"
      },
      "source": [
        "## Результат домашнего задания"
      ]
    },
    {
      "cell_type": "markdown",
      "id": "XXgRaDGi9Bx7",
      "metadata": {
        "id": "XXgRaDGi9Bx7"
      },
      "source": [
        "Решение для каждого задания предоставляется в виде программного кода на языке Python и ответов на вопросы при наличии их в задании."
      ]
    },
    {
      "cell_type": "markdown",
      "id": "PIsx7a-g9rFl",
      "metadata": {
        "id": "PIsx7a-g9rFl"
      },
      "source": [
        "## Критерии оценивания"
      ]
    },
    {
      "cell_type": "markdown",
      "id": "YWlsAy83jxDQ",
      "metadata": {
        "id": "YWlsAy83jxDQ"
      },
      "source": [
        "К1 - за выполнение 1 и 2 задания оценивать по  +2 балла\n",
        "К2 - за выполнение 5-го задания по +3 бала\n",
        "\n",
        "Максимальное количество баллов —  7 баллов.\n",
        "\n",
        "Минимальное количество баллов, чтобы преподаватель смог зачесть вашу работу — 4 балла."
      ]
    }
  ],
  "metadata": {
    "colab": {
      "include_colab_link": true,
      "provenance": []
    },
    "kernelspec": {
      "display_name": ".venv",
      "language": "python",
      "name": "python3"
    },
    "language_info": {
      "codemirror_mode": {
        "name": "ipython",
        "version": 3
      },
      "file_extension": ".py",
      "mimetype": "text/x-python",
      "name": "python",
      "nbconvert_exporter": "python",
      "pygments_lexer": "ipython3",
      "version": "3.12.3"
    }
  },
  "nbformat": 4,
  "nbformat_minor": 5
}
