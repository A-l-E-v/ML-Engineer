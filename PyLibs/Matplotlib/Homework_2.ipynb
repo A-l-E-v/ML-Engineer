{
  "cells": [
    {
      "cell_type": "markdown",
      "metadata": {
        "colab_type": "text",
        "id": "view-in-github"
      },
      "source": [
        "<a href=\"https://colab.research.google.com/github/A-l-E-v/ML-Engineer/blob/main/Homework_2.ipynb\" target=\"_parent\"><img src=\"https://colab.research.google.com/assets/colab-badge.svg\" alt=\"Open In Colab\"/></a>"
      ]
    },
    {
      "cell_type": "markdown",
      "id": "cxxZ16X4dHV3",
      "metadata": {
        "id": "cxxZ16X4dHV3"
      },
      "source": [
        "# Домашнее задание\n",
        "# Тема 2. Урок 3. Matplotlib"
      ]
    },
    {
      "cell_type": "markdown",
      "id": "zfbeLon__RCB",
      "metadata": {
        "id": "zfbeLon__RCB"
      },
      "source": [
        "В этом домашнем задании нам предстоит визуализировать несколько статистик, описывающих оценку вкусовых качеств разных сортов шоколада. Данные мы будем визуализировать разными способами, применяя тот или иной метод для каждого из них."
      ]
    },
    {
      "cell_type": "markdown",
      "id": "g15Iyblc1QTa",
      "metadata": {
        "id": "g15Iyblc1QTa"
      },
      "source": [
        "## Инструкции для выполнения домашнего задания\n",
        "\n"
      ]
    },
    {
      "cell_type": "markdown",
      "id": "7dv8WUHKr3Nr",
      "metadata": {
        "id": "7dv8WUHKr3Nr"
      },
      "source": [
        "1. Домашнее задание состоит из вводной части и 3 заданий\n",
        "2. В вводной части вам нужно подключить необходимые библиотеки, выгрузить и обработать данные\n",
        "3. В каждом задании дан фрагмент программного кода, который нужно дополнить для построения графиков\n",
        "4. В каждом фрагменте программного кода даны комментарии, написанные через **#** и выделенные зеленым цветом. Комментарии или дают пояснения к строке, или объясняют, какие строки должны быть на месте пропусков, т.е. чем вы должны дополнить фрагмент программного кода до полноценной программы\n",
        "5. В случае если вы забыли ранее изученные  материалы, вы всегда можете вернуться на обучающую платформу и просмотреть их заново (видео, презентация, тетрадь и т.д.), а также можете воспользоваться документацией Matplotlib"
      ]
    },
    {
      "cell_type": "markdown",
      "id": "dTsMAbBv0YoV",
      "metadata": {
        "id": "dTsMAbBv0YoV"
      },
      "source": [
        "## Подготовка к выполнению домашего задания\n"
      ]
    },
    {
      "cell_type": "markdown",
      "id": "JDpTxlzJ_sD9",
      "metadata": {
        "id": "JDpTxlzJ_sD9"
      },
      "source": [
        "### Импорт библиотек"
      ]
    },
    {
      "cell_type": "code",
      "execution_count": 91,
      "id": "dee6145b",
      "metadata": {
        "colab": {
          "background_save": true
        },
        "id": "dee6145b"
      },
      "outputs": [],
      "source": [
        "import numpy as np\n",
        "import pandas as pd\n",
        "import matplotlib.pyplot as plt"
      ]
    },
    {
      "cell_type": "markdown",
      "id": "kWB0oEEp_zL5",
      "metadata": {
        "id": "kWB0oEEp_zL5"
      },
      "source": [
        "### Загрузка датасета"
      ]
    },
    {
      "cell_type": "code",
      "execution_count": 92,
      "id": "77406571",
      "metadata": {
        "id": "77406571"
      },
      "outputs": [
        {
          "name": "stdout",
          "output_type": "stream",
          "text": [
            "--2025-04-19 08:42:01--  https://docs.google.com/uc?export=download&id=1fovSybJL6Uas6YttK-Xe2nwAUdIKoxlF\n",
            "Resolving docs.google.com (docs.google.com)... 64.233.161.194\n",
            "Connecting to docs.google.com (docs.google.com)|64.233.161.194|:443... connected.\n",
            "HTTP request sent, awaiting response... 303 See Other\n",
            "Location: https://drive.usercontent.google.com/download?id=1fovSybJL6Uas6YttK-Xe2nwAUdIKoxlF&export=download [following]\n",
            "--2025-04-19 08:42:01--  https://drive.usercontent.google.com/download?id=1fovSybJL6Uas6YttK-Xe2nwAUdIKoxlF&export=download\n",
            "Resolving drive.usercontent.google.com (drive.usercontent.google.com)... 64.233.161.132\n",
            "Connecting to drive.usercontent.google.com (drive.usercontent.google.com)|64.233.161.132|:443... connected.\n",
            "HTTP request sent, awaiting response... 200 OK\n",
            "Length: 258425 (252K) [application/octet-stream]\n",
            "Saving to: ‘chocolate.csv’\n",
            "\n",
            "chocolate.csv       100%[===================>] 252,37K  --.-KB/s    in 0,1s    \n",
            "\n",
            "2025-04-19 08:42:03 (2,28 MB/s) - ‘chocolate.csv’ saved [258425/258425]\n",
            "\n"
          ]
        }
      ],
      "source": [
        "# для начала выгрузим данные\n",
        "FILE_ID = '1fovSybJL6Uas6YttK-Xe2nwAUdIKoxlF'\n",
        "!wget --no-check-certificate 'https://docs.google.com/uc?export=download&id={FILE_ID}' -O chocolate.csv\n",
        "\n",
        "data = pd.read_csv(\"chocolate.csv\")"
      ]
    },
    {
      "cell_type": "markdown",
      "id": "9RwwBO80ABOr",
      "metadata": {
        "id": "9RwwBO80ABOr"
      },
      "source": [
        "### Предобработка датасета"
      ]
    },
    {
      "cell_type": "code",
      "execution_count": 93,
      "id": "b2edbbad",
      "metadata": {
        "id": "b2edbbad"
      },
      "outputs": [],
      "source": [
        "# теперь переведём строковые данные процентов в числовой формат (это нам пригодится)\n",
        "data[\"cocoa_percent\"] = pd.to_numeric(data[\"cocoa_percent\"].str[:-1])\n",
        "data.rename(columns={\"cocoa_percent\": \"cocoa_percent, %\"}, inplace=True)  # укажем проценты в названии столбца\n",
        "\n",
        "# Выбор стран для анализа\n",
        "countries = [\"U.K.\", \"France\", \"Canada\"]\n",
        "data_short = data[data[\"company_location\"].isin(countries)][[\"company_location\", \"cocoa_percent, %\", \"rating\"]]"
      ]
    },
    {
      "cell_type": "code",
      "execution_count": 94,
      "id": "7fc68d79",
      "metadata": {
        "id": "7fc68d79"
      },
      "outputs": [
        {
          "data": {
            "text/html": [
              "<div>\n",
              "<style scoped>\n",
              "    .dataframe tbody tr th:only-of-type {\n",
              "        vertical-align: middle;\n",
              "    }\n",
              "\n",
              "    .dataframe tbody tr th {\n",
              "        vertical-align: top;\n",
              "    }\n",
              "\n",
              "    .dataframe thead th {\n",
              "        text-align: right;\n",
              "    }\n",
              "</style>\n",
              "<table border=\"1\" class=\"dataframe\">\n",
              "  <thead>\n",
              "    <tr style=\"text-align: right;\">\n",
              "      <th></th>\n",
              "      <th>ref</th>\n",
              "      <th>company_manufacturer</th>\n",
              "      <th>company_location</th>\n",
              "      <th>review_date</th>\n",
              "      <th>country_of_bean_origin</th>\n",
              "      <th>specific_bean_origin_or_bar_name</th>\n",
              "      <th>cocoa_percent, %</th>\n",
              "      <th>ingredients</th>\n",
              "      <th>most_memorable_characteristics</th>\n",
              "      <th>rating</th>\n",
              "    </tr>\n",
              "  </thead>\n",
              "  <tbody>\n",
              "    <tr>\n",
              "      <th>0</th>\n",
              "      <td>2454</td>\n",
              "      <td>5150</td>\n",
              "      <td>U.S.A.</td>\n",
              "      <td>2019</td>\n",
              "      <td>Tanzania</td>\n",
              "      <td>Kokoa Kamili, batch 1</td>\n",
              "      <td>76.0</td>\n",
              "      <td>3- B,S,C</td>\n",
              "      <td>rich cocoa, fatty, bready</td>\n",
              "      <td>3.25</td>\n",
              "    </tr>\n",
              "    <tr>\n",
              "      <th>1</th>\n",
              "      <td>2458</td>\n",
              "      <td>5150</td>\n",
              "      <td>U.S.A.</td>\n",
              "      <td>2019</td>\n",
              "      <td>Dominican Republic</td>\n",
              "      <td>Zorzal, batch 1</td>\n",
              "      <td>76.0</td>\n",
              "      <td>3- B,S,C</td>\n",
              "      <td>cocoa, vegetal, savory</td>\n",
              "      <td>3.50</td>\n",
              "    </tr>\n",
              "    <tr>\n",
              "      <th>2</th>\n",
              "      <td>2454</td>\n",
              "      <td>5150</td>\n",
              "      <td>U.S.A.</td>\n",
              "      <td>2019</td>\n",
              "      <td>Madagascar</td>\n",
              "      <td>Bejofo Estate, batch 1</td>\n",
              "      <td>76.0</td>\n",
              "      <td>3- B,S,C</td>\n",
              "      <td>cocoa, blackberry, full body</td>\n",
              "      <td>3.75</td>\n",
              "    </tr>\n",
              "    <tr>\n",
              "      <th>3</th>\n",
              "      <td>2542</td>\n",
              "      <td>5150</td>\n",
              "      <td>U.S.A.</td>\n",
              "      <td>2021</td>\n",
              "      <td>Fiji</td>\n",
              "      <td>Matasawalevu, batch 1</td>\n",
              "      <td>68.0</td>\n",
              "      <td>3- B,S,C</td>\n",
              "      <td>chewy, off, rubbery</td>\n",
              "      <td>3.00</td>\n",
              "    </tr>\n",
              "    <tr>\n",
              "      <th>4</th>\n",
              "      <td>2546</td>\n",
              "      <td>5150</td>\n",
              "      <td>U.S.A.</td>\n",
              "      <td>2021</td>\n",
              "      <td>Venezuela</td>\n",
              "      <td>Sur del Lago, batch 1</td>\n",
              "      <td>72.0</td>\n",
              "      <td>3- B,S,C</td>\n",
              "      <td>fatty, earthy, moss, nutty,chalky</td>\n",
              "      <td>3.00</td>\n",
              "    </tr>\n",
              "    <tr>\n",
              "      <th>...</th>\n",
              "      <td>...</td>\n",
              "      <td>...</td>\n",
              "      <td>...</td>\n",
              "      <td>...</td>\n",
              "      <td>...</td>\n",
              "      <td>...</td>\n",
              "      <td>...</td>\n",
              "      <td>...</td>\n",
              "      <td>...</td>\n",
              "      <td>...</td>\n",
              "    </tr>\n",
              "    <tr>\n",
              "      <th>2525</th>\n",
              "      <td>1205</td>\n",
              "      <td>Zotter</td>\n",
              "      <td>Austria</td>\n",
              "      <td>2014</td>\n",
              "      <td>Blend</td>\n",
              "      <td>Raw</td>\n",
              "      <td>80.0</td>\n",
              "      <td>4- B,S*,C,Sa</td>\n",
              "      <td>waxy, cloying, vegetal</td>\n",
              "      <td>2.75</td>\n",
              "    </tr>\n",
              "    <tr>\n",
              "      <th>2526</th>\n",
              "      <td>1996</td>\n",
              "      <td>Zotter</td>\n",
              "      <td>Austria</td>\n",
              "      <td>2017</td>\n",
              "      <td>Colombia</td>\n",
              "      <td>APROCAFA, Acandi</td>\n",
              "      <td>75.0</td>\n",
              "      <td>3- B,S,C</td>\n",
              "      <td>strong nutty, marshmallow</td>\n",
              "      <td>3.75</td>\n",
              "    </tr>\n",
              "    <tr>\n",
              "      <th>2527</th>\n",
              "      <td>2036</td>\n",
              "      <td>Zotter</td>\n",
              "      <td>Austria</td>\n",
              "      <td>2018</td>\n",
              "      <td>Blend</td>\n",
              "      <td>Dry Aged, 30 yr Anniversary bar</td>\n",
              "      <td>75.0</td>\n",
              "      <td>3- B,S,C</td>\n",
              "      <td>fatty, earthy, cocoa</td>\n",
              "      <td>3.00</td>\n",
              "    </tr>\n",
              "    <tr>\n",
              "      <th>2528</th>\n",
              "      <td>2170</td>\n",
              "      <td>Zotter</td>\n",
              "      <td>Austria</td>\n",
              "      <td>2018</td>\n",
              "      <td>Congo</td>\n",
              "      <td>Mountains of the Moon</td>\n",
              "      <td>70.0</td>\n",
              "      <td>3- B,S,C</td>\n",
              "      <td>fatty, mild nuts, mild fruit</td>\n",
              "      <td>3.25</td>\n",
              "    </tr>\n",
              "    <tr>\n",
              "      <th>2529</th>\n",
              "      <td>2170</td>\n",
              "      <td>Zotter</td>\n",
              "      <td>Austria</td>\n",
              "      <td>2018</td>\n",
              "      <td>Belize</td>\n",
              "      <td>Maya Mtn</td>\n",
              "      <td>72.0</td>\n",
              "      <td>3- B,S,C</td>\n",
              "      <td>muted, roasty, accessible</td>\n",
              "      <td>3.50</td>\n",
              "    </tr>\n",
              "  </tbody>\n",
              "</table>\n",
              "<p>2530 rows × 10 columns</p>\n",
              "</div>"
            ],
            "text/plain": [
              "       ref company_manufacturer company_location  review_date  \\\n",
              "0     2454                 5150           U.S.A.         2019   \n",
              "1     2458                 5150           U.S.A.         2019   \n",
              "2     2454                 5150           U.S.A.         2019   \n",
              "3     2542                 5150           U.S.A.         2021   \n",
              "4     2546                 5150           U.S.A.         2021   \n",
              "...    ...                  ...              ...          ...   \n",
              "2525  1205               Zotter          Austria         2014   \n",
              "2526  1996               Zotter          Austria         2017   \n",
              "2527  2036               Zotter          Austria         2018   \n",
              "2528  2170               Zotter          Austria         2018   \n",
              "2529  2170               Zotter          Austria         2018   \n",
              "\n",
              "     country_of_bean_origin specific_bean_origin_or_bar_name  \\\n",
              "0                  Tanzania            Kokoa Kamili, batch 1   \n",
              "1        Dominican Republic                  Zorzal, batch 1   \n",
              "2                Madagascar           Bejofo Estate, batch 1   \n",
              "3                      Fiji            Matasawalevu, batch 1   \n",
              "4                 Venezuela            Sur del Lago, batch 1   \n",
              "...                     ...                              ...   \n",
              "2525                  Blend                              Raw   \n",
              "2526               Colombia                 APROCAFA, Acandi   \n",
              "2527                  Blend  Dry Aged, 30 yr Anniversary bar   \n",
              "2528                  Congo            Mountains of the Moon   \n",
              "2529                 Belize                         Maya Mtn   \n",
              "\n",
              "      cocoa_percent, %   ingredients     most_memorable_characteristics  \\\n",
              "0                 76.0      3- B,S,C          rich cocoa, fatty, bready   \n",
              "1                 76.0      3- B,S,C             cocoa, vegetal, savory   \n",
              "2                 76.0      3- B,S,C       cocoa, blackberry, full body   \n",
              "3                 68.0      3- B,S,C                chewy, off, rubbery   \n",
              "4                 72.0      3- B,S,C  fatty, earthy, moss, nutty,chalky   \n",
              "...                ...           ...                                ...   \n",
              "2525              80.0  4- B,S*,C,Sa             waxy, cloying, vegetal   \n",
              "2526              75.0      3- B,S,C          strong nutty, marshmallow   \n",
              "2527              75.0      3- B,S,C               fatty, earthy, cocoa   \n",
              "2528              70.0      3- B,S,C       fatty, mild nuts, mild fruit   \n",
              "2529              72.0      3- B,S,C          muted, roasty, accessible   \n",
              "\n",
              "      rating  \n",
              "0       3.25  \n",
              "1       3.50  \n",
              "2       3.75  \n",
              "3       3.00  \n",
              "4       3.00  \n",
              "...      ...  \n",
              "2525    2.75  \n",
              "2526    3.75  \n",
              "2527    3.00  \n",
              "2528    3.25  \n",
              "2529    3.50  \n",
              "\n",
              "[2530 rows x 10 columns]"
            ]
          },
          "execution_count": 94,
          "metadata": {},
          "output_type": "execute_result"
        }
      ],
      "source": [
        "# посмотрим на данные\n",
        "data"
      ]
    },
    {
      "cell_type": "markdown",
      "id": "b6170b35",
      "metadata": {
        "id": "b6170b35"
      },
      "source": [
        "В этом задании предлагаем вам сосредоточиться на рейтинге шоколада.\n",
        "Давайте попробуем оценить, насколько итоговый рейтинг зависит от страны-продавца.\n",
        "\n",
        "Для этого изучим данные о трех основных продавцах, имеющих примерно равную долю на рынке продажи шоколада:\n",
        "1.   Великобритании\n",
        "2.   Франции\n",
        "3.   Канаде\n"
      ]
    },
    {
      "cell_type": "markdown",
      "id": "4c1b6725",
      "metadata": {
        "id": "4c1b6725"
      },
      "source": [
        "## Задание 1"
      ]
    },
    {
      "cell_type": "markdown",
      "id": "c34352d3",
      "metadata": {
        "id": "c34352d3"
      },
      "source": [
        "В первом задании нам предстоит визуализировать гистограммы оценок шоколада критиками в зависимости от страны продавца. Визуализировать мы их будем обычным методом: используя уже знакомый нам интерфейс pyplot."
      ]
    },
    {
      "cell_type": "markdown",
      "id": "hEgaChNyd05o",
      "metadata": {
        "id": "hEgaChNyd05o"
      },
      "source": [
        "Для начала определим все бины и названия стран заранее - чтобы пользоваться ими в будущем"
      ]
    },
    {
      "cell_type": "code",
      "execution_count": 95,
      "id": "tUM0zTh-5aWV",
      "metadata": {
        "id": "tUM0zTh-5aWV"
      },
      "outputs": [
        {
          "name": "stdout",
          "output_type": "stream",
          "text": [
            "\n",
            "Границы бинов: от 1.5 до 4.0, 16 бинов\n",
            "\n",
            "Количество точек данных по странам:\n",
            "U.K.: 133\n",
            "France: 176\n",
            "Canada: 177\n",
            "\n",
            "Гистограмма сохранена в chocolate_ratings_histogram.png\n"
          ]
        },
        {
          "data": {
            "image/png": "[encoded data removed]",
            "text/plain": [
              "<Figure size 1200x800 with 1 Axes>"
            ]
          },
          "metadata": {},
          "output_type": "display_data"
        }
      ],
      "source": [
        "filtered_data = data[data[\"company_location\"].isin(countries)]\n",
        "\n",
        "# Определение бинов для гистограммы\n",
        "bin_min = filtered_data[\"rating\"].min()\n",
        "bin_max = filtered_data[\"rating\"].max()\n",
        "bins = np.linspace(bin_min, bin_max, 16)\n",
        "print(f\"\\nГраницы бинов: от {bin_min} до {bin_max}, {len(bins)} бинов\")\n",
        "\n",
        "# Подготовка данных для гистограммы\n",
        "hist_data = [\n",
        "    filtered_data[filtered_data[\"company_location\"] == \"U.K.\"][\"rating\"],\n",
        "    filtered_data[filtered_data[\"company_location\"] == \"France\"][\"rating\"],\n",
        "    filtered_data[filtered_data[\"company_location\"] == \"Canada\"][\"rating\"]\n",
        "]\n",
        "print(\"\\nКоличество точек данных по странам:\")\n",
        "print(\"U.K.:\", len(hist_data[0]))\n",
        "print(\"France:\", len(hist_data[1]))\n",
        "print(\"Canada:\", len(hist_data[2]))\n",
        "\n",
        "# Построение гистограммы\n",
        "plt.figure(figsize=(12, 8))\n",
        "plt.hist(hist_data, \n",
        "         bins=bins,\n",
        "         label=[\"U.K.\", \"France\", \"Canada\"],\n",
        "         alpha=0.7,  # Прозрачность для лучшей видимости\n",
        "         color=[\"red\", \"blue\", \"green\"])  # Цвета для каждой страны\n",
        "\n",
        "# Настройка оформления\n",
        "plt.title(\"Распределение рейтингов шоколада по странам-продавцам\", fontsize=16)\n",
        "plt.xlabel(\"Рейтинг\", fontsize=12)\n",
        "plt.ylabel(\"Количество образцов\", fontsize=12)\n",
        "plt.legend(fontsize=12)\n",
        "plt.grid(True, alpha=0.3)\n",
        "\n",
        "# Сохранение и отображение\n",
        "plt.tight_layout()\n",
        "plt.savefig(\"chocolate_ratings_histogram.png\", dpi=300)\n",
        "print(\"\\nГистограмма сохранена в chocolate_ratings_histogram.png\")\n",
        "plt.show()"
      ]
    },
    {
      "cell_type": "markdown",
      "id": "e582108e",
      "metadata": {
        "id": "e582108e"
      },
      "source": [
        "Если всё сделано правильно, то вы получите гистограмму распределения рейтинга шоколада по трём странам. <br><br>\n",
        "\n",
        "Исходя из визуализации, сделайте вывод о сравнительном среднем качестве шоколада в зависимости от страны-продавца"
      ]
    },
    {
      "cell_type": "markdown",
      "id": "67933ead",
      "metadata": {},
      "source": [
        "Вывод по заданию 1:\n",
        "Средний рейтинг шоколада из Великобритании несколько выше, чем у шоколада из Франции и Канады. Распределение оценок для Великобритании смещено вправо (в сторону более высоких оценок), тогда как для Франции и Канады распределение более симметричное."
      ]
    },
    {
      "cell_type": "markdown",
      "id": "ef07ce97",
      "metadata": {
        "id": "ef07ce97"
      },
      "source": [
        "## Задание 2"
      ]
    },
    {
      "cell_type": "markdown",
      "id": "2fc716f7",
      "metadata": {
        "id": "2fc716f7"
      },
      "source": [
        "В данном задании мы построим три гистограммы распределения качества шоколада для каждой из стран-продавцов, причём сделаем это в одну строку с помощью метода hist соответствующего датафрейма"
      ]
    },
    {
      "cell_type": "markdown",
      "id": "4hyaPcHL6jaV",
      "metadata": {
        "id": "4hyaPcHL6jaV"
      },
      "source": [
        "Сначала выделяем всё, что нам нужно, в отдельный датафрейм:"
      ]
    },
    {
      "cell_type": "code",
      "execution_count": 96,
      "id": "eb30ff3e",
      "metadata": {
        "id": "eb30ff3e"
      },
      "outputs": [
        {
          "data": {
            "text/html": [
              "<div>\n",
              "<style scoped>\n",
              "    .dataframe tbody tr th:only-of-type {\n",
              "        vertical-align: middle;\n",
              "    }\n",
              "\n",
              "    .dataframe tbody tr th {\n",
              "        vertical-align: top;\n",
              "    }\n",
              "\n",
              "    .dataframe thead th {\n",
              "        text-align: right;\n",
              "    }\n",
              "</style>\n",
              "<table border=\"1\" class=\"dataframe\">\n",
              "  <thead>\n",
              "    <tr style=\"text-align: right;\">\n",
              "      <th></th>\n",
              "      <th>company_location</th>\n",
              "      <th>cocoa_percent, %</th>\n",
              "      <th>rating</th>\n",
              "    </tr>\n",
              "  </thead>\n",
              "  <tbody>\n",
              "    <tr>\n",
              "      <th>7</th>\n",
              "      <td>France</td>\n",
              "      <td>70.0</td>\n",
              "      <td>3.50</td>\n",
              "    </tr>\n",
              "    <tr>\n",
              "      <th>8</th>\n",
              "      <td>France</td>\n",
              "      <td>63.0</td>\n",
              "      <td>3.75</td>\n",
              "    </tr>\n",
              "    <tr>\n",
              "      <th>9</th>\n",
              "      <td>France</td>\n",
              "      <td>70.0</td>\n",
              "      <td>2.75</td>\n",
              "    </tr>\n",
              "    <tr>\n",
              "      <th>10</th>\n",
              "      <td>France</td>\n",
              "      <td>70.0</td>\n",
              "      <td>2.75</td>\n",
              "    </tr>\n",
              "    <tr>\n",
              "      <th>11</th>\n",
              "      <td>France</td>\n",
              "      <td>70.0</td>\n",
              "      <td>3.00</td>\n",
              "    </tr>\n",
              "    <tr>\n",
              "      <th>...</th>\n",
              "      <td>...</td>\n",
              "      <td>...</td>\n",
              "      <td>...</td>\n",
              "    </tr>\n",
              "    <tr>\n",
              "      <th>2455</th>\n",
              "      <td>U.K.</td>\n",
              "      <td>72.0</td>\n",
              "      <td>3.50</td>\n",
              "    </tr>\n",
              "    <tr>\n",
              "      <th>2456</th>\n",
              "      <td>U.K.</td>\n",
              "      <td>69.0</td>\n",
              "      <td>3.75</td>\n",
              "    </tr>\n",
              "    <tr>\n",
              "      <th>2457</th>\n",
              "      <td>U.K.</td>\n",
              "      <td>100.0</td>\n",
              "      <td>2.25</td>\n",
              "    </tr>\n",
              "    <tr>\n",
              "      <th>2458</th>\n",
              "      <td>U.K.</td>\n",
              "      <td>88.0</td>\n",
              "      <td>3.00</td>\n",
              "    </tr>\n",
              "    <tr>\n",
              "      <th>2459</th>\n",
              "      <td>U.K.</td>\n",
              "      <td>70.0</td>\n",
              "      <td>4.00</td>\n",
              "    </tr>\n",
              "  </tbody>\n",
              "</table>\n",
              "<p>486 rows × 3 columns</p>\n",
              "</div>"
            ],
            "text/plain": [
              "     company_location  cocoa_percent, %  rating\n",
              "7              France              70.0    3.50\n",
              "8              France              63.0    3.75\n",
              "9              France              70.0    2.75\n",
              "10             France              70.0    2.75\n",
              "11             France              70.0    3.00\n",
              "...               ...               ...     ...\n",
              "2455             U.K.              72.0    3.50\n",
              "2456             U.K.              69.0    3.75\n",
              "2457             U.K.             100.0    2.25\n",
              "2458             U.K.              88.0    3.00\n",
              "2459             U.K.              70.0    4.00\n",
              "\n",
              "[486 rows x 3 columns]"
            ]
          },
          "execution_count": 96,
          "metadata": {},
          "output_type": "execute_result"
        }
      ],
      "source": [
        "data_short = data[data[\"company_location\"].isin(countries)][[\"company_location\", \"cocoa_percent, %\", \"rating\"]]\n",
        "data_short"
      ]
    },
    {
      "cell_type": "markdown",
      "id": "igToQFQl6uAV",
      "metadata": {
        "id": "igToQFQl6uAV"
      },
      "source": [
        "Здесь строим гистограмму"
      ]
    },
    {
      "cell_type": "code",
      "execution_count": 97,
      "id": "5bde49e1",
      "metadata": {
        "id": "5bde49e1"
      },
      "outputs": [
        {
          "data": {
            "text/plain": [
              "Text(0.5, 0.98, 'Распределение рейтингов шоколада по странам')"
            ]
          },
          "execution_count": 97,
          "metadata": {},
          "output_type": "execute_result"
        },
        {
          "data": {
            "image/png": "[encoded data removed]",
            "text/plain": [
              "<Figure size 1500x500 with 3 Axes>"
            ]
          },
          "metadata": {},
          "output_type": "display_data"
        }
      ],
      "source": [
        "data_short.hist(\n",
        "    column=\"rating\",\n",
        "    by=\"company_location\",\n",
        "    figsize=(15, 5),\n",
        "    bins=15,\n",
        "    sharey=True,\n",
        "    edgecolor='black',\n",
        "    xlabelsize=13,\n",
        "    ylabelsize=13,\n",
        "    layout=(1, 3))\n",
        "\n",
        "plt.suptitle(\"Распределение рейтингов шоколада по странам\", fontsize=16)\n"
      ]
    },
    {
      "cell_type": "markdown",
      "id": "O9QDHVJN67el",
      "metadata": {
        "id": "O9QDHVJN67el"
      },
      "source": [
        "Выводим результат:"
      ]
    },
    {
      "cell_type": "markdown",
      "id": "68955c17",
      "metadata": {
        "id": "68955c17"
      },
      "source": [
        "Если все выполнено верно, вы получите три гистограммы, каждая из которых подписана и в своем окне."
      ]
    },
    {
      "cell_type": "markdown",
      "id": "90268a09",
      "metadata": {
        "id": "90268a09"
      },
      "source": [
        "## Задание 3"
      ]
    },
    {
      "cell_type": "markdown",
      "id": "d11ad2dd",
      "metadata": {
        "id": "d11ad2dd"
      },
      "source": [
        "В этом задании мы построим графики зависимости оценок шоколада от процентного содержания какао в нём для каждой из стран. Так как для одной и той же страны-продавца и одного содержания какао в шоколаде мы можем получить разные оценки, то в случае нескольких оценок мы будем строить среднее от них, и строить \"усы\" стандартного отклонения"
      ]
    },
    {
      "cell_type": "markdown",
      "id": "YgIJVUJ-75-_",
      "metadata": {
        "id": "YgIJVUJ-75-_"
      },
      "source": [
        "Строим среднее и разброс для оценок шоколада с одинаковым процентным содержанием и той же компанией:"
      ]
    },
    {
      "cell_type": "code",
      "execution_count": 98,
      "id": "82d3e36a",
      "metadata": {
        "id": "82d3e36a"
      },
      "outputs": [],
      "source": [
        "grouping = data_short.groupby([\"company_location\", \"cocoa_percent, %\"])\n",
        "means = grouping.mean()\n",
        "std = grouping.std()\n",
        "std.fillna(0.0, inplace=True) # в случае, когда оценка одна (разброс NaN), разброса нет"
      ]
    },
    {
      "cell_type": "markdown",
      "id": "Y93hQs6v8BED",
      "metadata": {
        "id": "Y93hQs6v8BED"
      },
      "source": [
        "Посмотрим как выглядит среднее:"
      ]
    },
    {
      "cell_type": "code",
      "execution_count": 99,
      "id": "500cd2d4",
      "metadata": {
        "id": "500cd2d4",
        "scrolled": true
      },
      "outputs": [
        {
          "data": {
            "text/html": [
              "<div>\n",
              "<style scoped>\n",
              "    .dataframe tbody tr th:only-of-type {\n",
              "        vertical-align: middle;\n",
              "    }\n",
              "\n",
              "    .dataframe tbody tr th {\n",
              "        vertical-align: top;\n",
              "    }\n",
              "\n",
              "    .dataframe thead th {\n",
              "        text-align: right;\n",
              "    }\n",
              "</style>\n",
              "<table border=\"1\" class=\"dataframe\">\n",
              "  <thead>\n",
              "    <tr style=\"text-align: right;\">\n",
              "      <th></th>\n",
              "      <th></th>\n",
              "      <th>rating</th>\n",
              "    </tr>\n",
              "    <tr>\n",
              "      <th>company_location</th>\n",
              "      <th>cocoa_percent, %</th>\n",
              "      <th></th>\n",
              "    </tr>\n",
              "  </thead>\n",
              "  <tbody>\n",
              "    <tr>\n",
              "      <th rowspan=\"19\" valign=\"top\">Canada</th>\n",
              "      <th>62.0</th>\n",
              "      <td>3.375000</td>\n",
              "    </tr>\n",
              "    <tr>\n",
              "      <th>63.0</th>\n",
              "      <td>3.250000</td>\n",
              "    </tr>\n",
              "    <tr>\n",
              "      <th>64.0</th>\n",
              "      <td>3.500000</td>\n",
              "    </tr>\n",
              "    <tr>\n",
              "      <th>65.0</th>\n",
              "      <td>3.000000</td>\n",
              "    </tr>\n",
              "    <tr>\n",
              "      <th>66.0</th>\n",
              "      <td>3.250000</td>\n",
              "    </tr>\n",
              "    <tr>\n",
              "      <th>67.0</th>\n",
              "      <td>3.875000</td>\n",
              "    </tr>\n",
              "    <tr>\n",
              "      <th>68.0</th>\n",
              "      <td>3.500000</td>\n",
              "    </tr>\n",
              "    <tr>\n",
              "      <th>70.0</th>\n",
              "      <td>3.371287</td>\n",
              "    </tr>\n",
              "    <tr>\n",
              "      <th>72.0</th>\n",
              "      <td>3.038462</td>\n",
              "    </tr>\n",
              "    <tr>\n",
              "      <th>73.0</th>\n",
              "      <td>3.416667</td>\n",
              "    </tr>\n",
              "    <tr>\n",
              "      <th>74.0</th>\n",
              "      <td>3.000000</td>\n",
              "    </tr>\n",
              "    <tr>\n",
              "      <th>75.0</th>\n",
              "      <td>3.250000</td>\n",
              "    </tr>\n",
              "    <tr>\n",
              "      <th>76.0</th>\n",
              "      <td>2.750000</td>\n",
              "    </tr>\n",
              "    <tr>\n",
              "      <th>77.0</th>\n",
              "      <td>3.500000</td>\n",
              "    </tr>\n",
              "    <tr>\n",
              "      <th>78.0</th>\n",
              "      <td>3.750000</td>\n",
              "    </tr>\n",
              "    <tr>\n",
              "      <th>80.0</th>\n",
              "      <td>3.041667</td>\n",
              "    </tr>\n",
              "    <tr>\n",
              "      <th>85.0</th>\n",
              "      <td>3.083333</td>\n",
              "    </tr>\n",
              "    <tr>\n",
              "      <th>88.0</th>\n",
              "      <td>4.000000</td>\n",
              "    </tr>\n",
              "    <tr>\n",
              "      <th>100.0</th>\n",
              "      <td>2.666667</td>\n",
              "    </tr>\n",
              "    <tr>\n",
              "      <th rowspan=\"20\" valign=\"top\">France</th>\n",
              "      <th>55.0</th>\n",
              "      <td>2.750000</td>\n",
              "    </tr>\n",
              "    <tr>\n",
              "      <th>56.0</th>\n",
              "      <td>3.250000</td>\n",
              "    </tr>\n",
              "    <tr>\n",
              "      <th>60.0</th>\n",
              "      <td>3.050000</td>\n",
              "    </tr>\n",
              "    <tr>\n",
              "      <th>63.0</th>\n",
              "      <td>3.833333</td>\n",
              "    </tr>\n",
              "    <tr>\n",
              "      <th>64.0</th>\n",
              "      <td>3.425000</td>\n",
              "    </tr>\n",
              "    <tr>\n",
              "      <th>65.0</th>\n",
              "      <td>3.500000</td>\n",
              "    </tr>\n",
              "    <tr>\n",
              "      <th>66.0</th>\n",
              "      <td>3.464286</td>\n",
              "    </tr>\n",
              "    <tr>\n",
              "      <th>67.0</th>\n",
              "      <td>3.625000</td>\n",
              "    </tr>\n",
              "    <tr>\n",
              "      <th>68.0</th>\n",
              "      <td>3.300000</td>\n",
              "    </tr>\n",
              "    <tr>\n",
              "      <th>69.0</th>\n",
              "      <td>3.583333</td>\n",
              "    </tr>\n",
              "    <tr>\n",
              "      <th>70.0</th>\n",
              "      <td>3.335366</td>\n",
              "    </tr>\n",
              "    <tr>\n",
              "      <th>71.0</th>\n",
              "      <td>2.750000</td>\n",
              "    </tr>\n",
              "    <tr>\n",
              "      <th>72.0</th>\n",
              "      <td>2.750000</td>\n",
              "    </tr>\n",
              "    <tr>\n",
              "      <th>74.0</th>\n",
              "      <td>3.125000</td>\n",
              "    </tr>\n",
              "    <tr>\n",
              "      <th>75.0</th>\n",
              "      <td>3.260870</td>\n",
              "    </tr>\n",
              "    <tr>\n",
              "      <th>80.0</th>\n",
              "      <td>3.166667</td>\n",
              "    </tr>\n",
              "    <tr>\n",
              "      <th>82.0</th>\n",
              "      <td>2.750000</td>\n",
              "    </tr>\n",
              "    <tr>\n",
              "      <th>85.0</th>\n",
              "      <td>2.000000</td>\n",
              "    </tr>\n",
              "    <tr>\n",
              "      <th>99.0</th>\n",
              "      <td>2.000000</td>\n",
              "    </tr>\n",
              "    <tr>\n",
              "      <th>100.0</th>\n",
              "      <td>2.250000</td>\n",
              "    </tr>\n",
              "    <tr>\n",
              "      <th rowspan=\"21\" valign=\"top\">U.K.</th>\n",
              "      <th>64.0</th>\n",
              "      <td>2.750000</td>\n",
              "    </tr>\n",
              "    <tr>\n",
              "      <th>65.0</th>\n",
              "      <td>2.916667</td>\n",
              "    </tr>\n",
              "    <tr>\n",
              "      <th>66.0</th>\n",
              "      <td>3.500000</td>\n",
              "    </tr>\n",
              "    <tr>\n",
              "      <th>68.0</th>\n",
              "      <td>2.750000</td>\n",
              "    </tr>\n",
              "    <tr>\n",
              "      <th>69.0</th>\n",
              "      <td>3.625000</td>\n",
              "    </tr>\n",
              "    <tr>\n",
              "      <th>70.0</th>\n",
              "      <td>3.039474</td>\n",
              "    </tr>\n",
              "    <tr>\n",
              "      <th>71.0</th>\n",
              "      <td>3.187500</td>\n",
              "    </tr>\n",
              "    <tr>\n",
              "      <th>71.5</th>\n",
              "      <td>2.750000</td>\n",
              "    </tr>\n",
              "    <tr>\n",
              "      <th>72.0</th>\n",
              "      <td>3.272059</td>\n",
              "    </tr>\n",
              "    <tr>\n",
              "      <th>73.0</th>\n",
              "      <td>3.000000</td>\n",
              "    </tr>\n",
              "    <tr>\n",
              "      <th>74.0</th>\n",
              "      <td>3.250000</td>\n",
              "    </tr>\n",
              "    <tr>\n",
              "      <th>75.0</th>\n",
              "      <td>2.958333</td>\n",
              "    </tr>\n",
              "    <tr>\n",
              "      <th>76.0</th>\n",
              "      <td>3.750000</td>\n",
              "    </tr>\n",
              "    <tr>\n",
              "      <th>77.0</th>\n",
              "      <td>3.125000</td>\n",
              "    </tr>\n",
              "    <tr>\n",
              "      <th>78.0</th>\n",
              "      <td>3.250000</td>\n",
              "    </tr>\n",
              "    <tr>\n",
              "      <th>80.0</th>\n",
              "      <td>2.975000</td>\n",
              "    </tr>\n",
              "    <tr>\n",
              "      <th>82.0</th>\n",
              "      <td>3.500000</td>\n",
              "    </tr>\n",
              "    <tr>\n",
              "      <th>85.0</th>\n",
              "      <td>2.833333</td>\n",
              "    </tr>\n",
              "    <tr>\n",
              "      <th>88.0</th>\n",
              "      <td>3.000000</td>\n",
              "    </tr>\n",
              "    <tr>\n",
              "      <th>90.0</th>\n",
              "      <td>3.000000</td>\n",
              "    </tr>\n",
              "    <tr>\n",
              "      <th>100.0</th>\n",
              "      <td>2.291667</td>\n",
              "    </tr>\n",
              "  </tbody>\n",
              "</table>\n",
              "</div>"
            ],
            "text/plain": [
              "                                     rating\n",
              "company_location cocoa_percent, %          \n",
              "Canada           62.0              3.375000\n",
              "                 63.0              3.250000\n",
              "                 64.0              3.500000\n",
              "                 65.0              3.000000\n",
              "                 66.0              3.250000\n",
              "                 67.0              3.875000\n",
              "                 68.0              3.500000\n",
              "                 70.0              3.371287\n",
              "                 72.0              3.038462\n",
              "                 73.0              3.416667\n",
              "                 74.0              3.000000\n",
              "                 75.0              3.250000\n",
              "                 76.0              2.750000\n",
              "                 77.0              3.500000\n",
              "                 78.0              3.750000\n",
              "                 80.0              3.041667\n",
              "                 85.0              3.083333\n",
              "                 88.0              4.000000\n",
              "                 100.0             2.666667\n",
              "France           55.0              2.750000\n",
              "                 56.0              3.250000\n",
              "                 60.0              3.050000\n",
              "                 63.0              3.833333\n",
              "                 64.0              3.425000\n",
              "                 65.0              3.500000\n",
              "                 66.0              3.464286\n",
              "                 67.0              3.625000\n",
              "                 68.0              3.300000\n",
              "                 69.0              3.583333\n",
              "                 70.0              3.335366\n",
              "                 71.0              2.750000\n",
              "                 72.0              2.750000\n",
              "                 74.0              3.125000\n",
              "                 75.0              3.260870\n",
              "                 80.0              3.166667\n",
              "                 82.0              2.750000\n",
              "                 85.0              2.000000\n",
              "                 99.0              2.000000\n",
              "                 100.0             2.250000\n",
              "U.K.             64.0              2.750000\n",
              "                 65.0              2.916667\n",
              "                 66.0              3.500000\n",
              "                 68.0              2.750000\n",
              "                 69.0              3.625000\n",
              "                 70.0              3.039474\n",
              "                 71.0              3.187500\n",
              "                 71.5              2.750000\n",
              "                 72.0              3.272059\n",
              "                 73.0              3.000000\n",
              "                 74.0              3.250000\n",
              "                 75.0              2.958333\n",
              "                 76.0              3.750000\n",
              "                 77.0              3.125000\n",
              "                 78.0              3.250000\n",
              "                 80.0              2.975000\n",
              "                 82.0              3.500000\n",
              "                 85.0              2.833333\n",
              "                 88.0              3.000000\n",
              "                 90.0              3.000000\n",
              "                 100.0             2.291667"
            ]
          },
          "execution_count": 99,
          "metadata": {},
          "output_type": "execute_result"
        }
      ],
      "source": [
        "means"
      ]
    },
    {
      "cell_type": "code",
      "execution_count": 100,
      "id": "92d30a85",
      "metadata": {
        "id": "92d30a85"
      },
      "outputs": [],
      "source": [
        "# здесь мы устраняем разрывы в графике среднего значения,\n",
        "# то есть, для тех значений, где нет среднего, мы его интерполируем\n",
        "# также здесь мы \"расшиваем\" двуколоночный индекс в индексы/столбцы, т.е. переводим в табличную форму\n",
        "means_unstacked = means.unstack(level=0).interpolate()\n",
        "std_unstacked = std.unstack(level=0)\n"
      ]
    },
    {
      "cell_type": "markdown",
      "id": "7C0f4z238S11",
      "metadata": {
        "id": "7C0f4z238S11"
      },
      "source": [
        "Смотрим, что получилось:"
      ]
    },
    {
      "cell_type": "code",
      "execution_count": 101,
      "id": "5dd44653",
      "metadata": {
        "id": "5dd44653"
      },
      "outputs": [
        {
          "data": {
            "text/html": [
              "<div>\n",
              "<style scoped>\n",
              "    .dataframe tbody tr th:only-of-type {\n",
              "        vertical-align: middle;\n",
              "    }\n",
              "\n",
              "    .dataframe tbody tr th {\n",
              "        vertical-align: top;\n",
              "    }\n",
              "\n",
              "    .dataframe thead tr th {\n",
              "        text-align: left;\n",
              "    }\n",
              "\n",
              "    .dataframe thead tr:last-of-type th {\n",
              "        text-align: right;\n",
              "    }\n",
              "</style>\n",
              "<table border=\"1\" class=\"dataframe\">\n",
              "  <thead>\n",
              "    <tr>\n",
              "      <th></th>\n",
              "      <th colspan=\"3\" halign=\"left\">rating</th>\n",
              "    </tr>\n",
              "    <tr>\n",
              "      <th>company_location</th>\n",
              "      <th>Canada</th>\n",
              "      <th>France</th>\n",
              "      <th>U.K.</th>\n",
              "    </tr>\n",
              "    <tr>\n",
              "      <th>cocoa_percent, %</th>\n",
              "      <th></th>\n",
              "      <th></th>\n",
              "      <th></th>\n",
              "    </tr>\n",
              "  </thead>\n",
              "  <tbody>\n",
              "    <tr>\n",
              "      <th>55.0</th>\n",
              "      <td>NaN</td>\n",
              "      <td>2.750000</td>\n",
              "      <td>NaN</td>\n",
              "    </tr>\n",
              "    <tr>\n",
              "      <th>56.0</th>\n",
              "      <td>NaN</td>\n",
              "      <td>3.250000</td>\n",
              "      <td>NaN</td>\n",
              "    </tr>\n",
              "    <tr>\n",
              "      <th>60.0</th>\n",
              "      <td>NaN</td>\n",
              "      <td>3.050000</td>\n",
              "      <td>NaN</td>\n",
              "    </tr>\n",
              "    <tr>\n",
              "      <th>62.0</th>\n",
              "      <td>3.375000</td>\n",
              "      <td>3.441667</td>\n",
              "      <td>NaN</td>\n",
              "    </tr>\n",
              "    <tr>\n",
              "      <th>63.0</th>\n",
              "      <td>3.250000</td>\n",
              "      <td>3.833333</td>\n",
              "      <td>NaN</td>\n",
              "    </tr>\n",
              "    <tr>\n",
              "      <th>64.0</th>\n",
              "      <td>3.500000</td>\n",
              "      <td>3.425000</td>\n",
              "      <td>2.750000</td>\n",
              "    </tr>\n",
              "    <tr>\n",
              "      <th>65.0</th>\n",
              "      <td>3.000000</td>\n",
              "      <td>3.500000</td>\n",
              "      <td>2.916667</td>\n",
              "    </tr>\n",
              "    <tr>\n",
              "      <th>66.0</th>\n",
              "      <td>3.250000</td>\n",
              "      <td>3.464286</td>\n",
              "      <td>3.500000</td>\n",
              "    </tr>\n",
              "    <tr>\n",
              "      <th>67.0</th>\n",
              "      <td>3.875000</td>\n",
              "      <td>3.625000</td>\n",
              "      <td>3.125000</td>\n",
              "    </tr>\n",
              "    <tr>\n",
              "      <th>68.0</th>\n",
              "      <td>3.500000</td>\n",
              "      <td>3.300000</td>\n",
              "      <td>2.750000</td>\n",
              "    </tr>\n",
              "    <tr>\n",
              "      <th>69.0</th>\n",
              "      <td>3.435644</td>\n",
              "      <td>3.583333</td>\n",
              "      <td>3.625000</td>\n",
              "    </tr>\n",
              "    <tr>\n",
              "      <th>70.0</th>\n",
              "      <td>3.371287</td>\n",
              "      <td>3.335366</td>\n",
              "      <td>3.039474</td>\n",
              "    </tr>\n",
              "    <tr>\n",
              "      <th>71.0</th>\n",
              "      <td>3.260345</td>\n",
              "      <td>2.750000</td>\n",
              "      <td>3.187500</td>\n",
              "    </tr>\n",
              "    <tr>\n",
              "      <th>71.5</th>\n",
              "      <td>3.149403</td>\n",
              "      <td>2.750000</td>\n",
              "      <td>2.750000</td>\n",
              "    </tr>\n",
              "    <tr>\n",
              "      <th>72.0</th>\n",
              "      <td>3.038462</td>\n",
              "      <td>2.750000</td>\n",
              "      <td>3.272059</td>\n",
              "    </tr>\n",
              "    <tr>\n",
              "      <th>73.0</th>\n",
              "      <td>3.416667</td>\n",
              "      <td>2.937500</td>\n",
              "      <td>3.000000</td>\n",
              "    </tr>\n",
              "    <tr>\n",
              "      <th>74.0</th>\n",
              "      <td>3.000000</td>\n",
              "      <td>3.125000</td>\n",
              "      <td>3.250000</td>\n",
              "    </tr>\n",
              "    <tr>\n",
              "      <th>75.0</th>\n",
              "      <td>3.250000</td>\n",
              "      <td>3.260870</td>\n",
              "      <td>2.958333</td>\n",
              "    </tr>\n",
              "    <tr>\n",
              "      <th>76.0</th>\n",
              "      <td>2.750000</td>\n",
              "      <td>3.237319</td>\n",
              "      <td>3.750000</td>\n",
              "    </tr>\n",
              "    <tr>\n",
              "      <th>77.0</th>\n",
              "      <td>3.500000</td>\n",
              "      <td>3.213768</td>\n",
              "      <td>3.125000</td>\n",
              "    </tr>\n",
              "    <tr>\n",
              "      <th>78.0</th>\n",
              "      <td>3.750000</td>\n",
              "      <td>3.190217</td>\n",
              "      <td>3.250000</td>\n",
              "    </tr>\n",
              "    <tr>\n",
              "      <th>80.0</th>\n",
              "      <td>3.041667</td>\n",
              "      <td>3.166667</td>\n",
              "      <td>2.975000</td>\n",
              "    </tr>\n",
              "    <tr>\n",
              "      <th>82.0</th>\n",
              "      <td>3.062500</td>\n",
              "      <td>2.750000</td>\n",
              "      <td>3.500000</td>\n",
              "    </tr>\n",
              "    <tr>\n",
              "      <th>85.0</th>\n",
              "      <td>3.083333</td>\n",
              "      <td>2.000000</td>\n",
              "      <td>2.833333</td>\n",
              "    </tr>\n",
              "    <tr>\n",
              "      <th>88.0</th>\n",
              "      <td>4.000000</td>\n",
              "      <td>2.000000</td>\n",
              "      <td>3.000000</td>\n",
              "    </tr>\n",
              "    <tr>\n",
              "      <th>90.0</th>\n",
              "      <td>3.555556</td>\n",
              "      <td>2.000000</td>\n",
              "      <td>3.000000</td>\n",
              "    </tr>\n",
              "    <tr>\n",
              "      <th>99.0</th>\n",
              "      <td>3.111111</td>\n",
              "      <td>2.000000</td>\n",
              "      <td>2.645833</td>\n",
              "    </tr>\n",
              "    <tr>\n",
              "      <th>100.0</th>\n",
              "      <td>2.666667</td>\n",
              "      <td>2.250000</td>\n",
              "      <td>2.291667</td>\n",
              "    </tr>\n",
              "  </tbody>\n",
              "</table>\n",
              "</div>"
            ],
            "text/plain": [
              "                    rating                    \n",
              "company_location    Canada    France      U.K.\n",
              "cocoa_percent, %                              \n",
              "55.0                   NaN  2.750000       NaN\n",
              "56.0                   NaN  3.250000       NaN\n",
              "60.0                   NaN  3.050000       NaN\n",
              "62.0              3.375000  3.441667       NaN\n",
              "63.0              3.250000  3.833333       NaN\n",
              "64.0              3.500000  3.425000  2.750000\n",
              "65.0              3.000000  3.500000  2.916667\n",
              "66.0              3.250000  3.464286  3.500000\n",
              "67.0              3.875000  3.625000  3.125000\n",
              "68.0              3.500000  3.300000  2.750000\n",
              "69.0              3.435644  3.583333  3.625000\n",
              "70.0              3.371287  3.335366  3.039474\n",
              "71.0              3.260345  2.750000  3.187500\n",
              "71.5              3.149403  2.750000  2.750000\n",
              "72.0              3.038462  2.750000  3.272059\n",
              "73.0              3.416667  2.937500  3.000000\n",
              "74.0              3.000000  3.125000  3.250000\n",
              "75.0              3.250000  3.260870  2.958333\n",
              "76.0              2.750000  3.237319  3.750000\n",
              "77.0              3.500000  3.213768  3.125000\n",
              "78.0              3.750000  3.190217  3.250000\n",
              "80.0              3.041667  3.166667  2.975000\n",
              "82.0              3.062500  2.750000  3.500000\n",
              "85.0              3.083333  2.000000  2.833333\n",
              "88.0              4.000000  2.000000  3.000000\n",
              "90.0              3.555556  2.000000  3.000000\n",
              "99.0              3.111111  2.000000  2.645833\n",
              "100.0             2.666667  2.250000  2.291667"
            ]
          },
          "execution_count": 101,
          "metadata": {},
          "output_type": "execute_result"
        }
      ],
      "source": [
        "means_unstacked"
      ]
    },
    {
      "cell_type": "markdown",
      "id": "v7MoryO68YiX",
      "metadata": {
        "id": "v7MoryO68YiX"
      },
      "source": [
        "Строим итоговый график:"
      ]
    },
    {
      "cell_type": "code",
      "execution_count": 102,
      "id": "f59806c7",
      "metadata": {
        "id": "f59806c7",
        "scrolled": false
      },
      "outputs": [
        {
          "name": "stdout",
          "output_type": "stream",
          "text": [
            "Первые строки данных:\n",
            "   company_location  cocoa_percent, %  rating\n",
            "7            France              70.0    3.50\n",
            "8            France              63.0    3.75\n",
            "9            France              70.0    2.75\n",
            "10           France              70.0    2.75\n",
            "11           France              70.0    3.00\n"
          ]
        }
      ],
      "source": [
        "import matplotlib.pyplot as plt\n",
        "import pandas as pd\n",
        "import numpy as np\n",
        "\n",
        "# Предполагаем, что data_short уже определен и содержит нужные данные\n",
        "print(\"Первые строки данных:\")\n",
        "print(data_short.head())\n",
        "\n",
        "# Группировка и вычисление статистик\n",
        "grouping = data_short.groupby([\"company_location\", \"cocoa_percent, %\"])\n",
        "means = grouping.mean()\n",
        "std = grouping.std()\n",
        "std.fillna(0.0, inplace=True)  # Заменяем NaN на 0 для случаев с одной оценкой\n",
        "\n",
        "# Преобразуем в табличную форму\n",
        "means_unstacked = means.unstack(level=0).interpolate()\n",
        "std_unstacked = std.unstack(level=0)\n",
        "\n"
      ]
    },
    {
      "cell_type": "markdown",
      "id": "d_Auo0oL8jVn",
      "metadata": {
        "id": "d_Auo0oL8jVn"
      },
      "source": [
        "Выводим результат:"
      ]
    },
    {
      "cell_type": "code",
      "execution_count": 103,
      "id": "3ucatqK_8oUc",
      "metadata": {
        "id": "3ucatqK_8oUc"
      },
      "outputs": [
        {
          "data": {
            "image/png": "[encoded data removed]",
            "text/plain": [
              "<Figure size 1200x800 with 1 Axes>"
            ]
          },
          "metadata": {},
          "output_type": "display_data"
        }
      ],
      "source": [
        "# Создаем фигуру и оси перед построением графика\n",
        "fig, ax = plt.subplots(figsize=(12, 8))\n",
        "\n",
        "# Построение графика с ошибками\n",
        "means_unstacked['rating'].plot(\n",
        "    yerr=std_unstacked['rating'],\n",
        "    capsize=4,\n",
        "    grid=True,\n",
        "    title=\"Зависимость рейтинга от содержания какао по странам\",\n",
        "    linewidth=2,\n",
        "    fontsize=12,\n",
        "    ax=ax\n",
        ")\n",
        "\n",
        "# Настройка оформления\n",
        "ax.set_ylabel(\"Средний рейтинг\", fontsize=15)\n",
        "ax.set_xlabel(\"Содержание какао, %\", fontsize=15)\n",
        "ax.legend(fontsize=12, title=\"Страна\")\n",
        "plt.suptitle(\"Зависимость рейтинга от содержания какао\", fontsize=20, y=1.02)\n",
        "\n",
        "# Оптимизация расположения элементов\n",
        "plt.tight_layout()\n",
        "\n",
        "# Сохранение и отображение\n",
        "plt.savefig(\"cocoa_rating_relationship.png\", dpi=300, bbox_inches='tight')\n",
        "plt.show()"
      ]
    },
    {
      "cell_type": "markdown",
      "id": "064a3eaa",
      "metadata": {
        "id": "064a3eaa"
      },
      "source": [
        "Если всё сделано правильно, то вы получите графики зависимости оценок качества шоколада для каждой страны в зависимости от процента содержания какао. <br>"
      ]
    },
    {
      "cell_type": "markdown",
      "id": "dJqExqWblH3v",
      "metadata": {
        "id": "dJqExqWblH3v"
      },
      "source": [
        "**Проведите наблюдения и напишите ответы:**\n",
        "\n",
        "*   Как оценка качества зависит от процента горькости? Специфична ли эта тенденция по стране-продавцу?\n",
        "*   Выпишите любые другие характрные на ваш взгляд наблюдения."
      ]
    },
    {
      "cell_type": "markdown",
      "id": "8e5e42f4",
      "metadata": {},
      "source": [
        "Зависимость оценки качества от процента какао:\n",
        "\n",
        "    Для всех трех стран наблюдается схожая тенденция: с увеличением содержания какао до 70-80% рейтинг в среднем растет, а затем начинает снижаться для шоколада с очень высоким содержанием какао (85-100%).\n",
        "\n",
        "    Наибольшие оценки получает шоколад с содержанием какао около 70-75%.\n",
        "\n",
        "    Разброс оценок (длина \"усов\") максимален для шоколада с содержанием какао 60-80%.\n",
        "\n",
        "Другие наблюдения:\n",
        "\n",
        "    Шоколад из Великобритании имеет более стабильно высокие оценки по всем процентам содержания какао.\n",
        "\n",
        "    Для Франции характерен наибольший разброс оценок при содержании какао около 70%.\n",
        "\n",
        "    Канадский шоколад показывает наименьший разброс оценок, что может свидетельствовать о более стабильном качестве.\n",
        "\n",
        "    Для шоколада с очень высоким содержанием какао (90-100%) оценки существенно ниже среднего во всех странах."
      ]
    },
    {
      "cell_type": "markdown",
      "id": "Hv_RqgIx83xD",
      "metadata": {
        "id": "Hv_RqgIx83xD"
      },
      "source": [
        "## Результат домашнего задания"
      ]
    },
    {
      "cell_type": "markdown",
      "id": "XXgRaDGi9Bx7",
      "metadata": {
        "id": "XXgRaDGi9Bx7"
      },
      "source": [
        "Решение для каждого задания предоставляется в виде программного кода на языке Python и ответов на вопросы при наличии их в задании."
      ]
    },
    {
      "cell_type": "markdown",
      "id": "PIsx7a-g9rFl",
      "metadata": {
        "id": "PIsx7a-g9rFl"
      },
      "source": [
        "## Критерии оценивания"
      ]
    },
    {
      "cell_type": "markdown",
      "id": "YWlsAy83jxDQ",
      "metadata": {
        "id": "YWlsAy83jxDQ"
      },
      "source": [
        "К1 - за выполнение 1 и 2 задания оценивать по  +2 балла\n",
        "К2 - за выполнение 5-го задания по +3 бала\n",
        "\n",
        "Максимальное количество баллов —  7 баллов.\n",
        "\n",
        "Минимальное количество баллов, чтобы преподаватель смог зачесть вашу работу — 4 балла."
      ]
    }
  ],
  "metadata": {
    "colab": {
      "include_colab_link": true,
      "provenance": []
    },
    "kernelspec": {
      "display_name": ".venv",
      "language": "python",
      "name": "python3"
    },
    "language_info": {
      "codemirror_mode": {
        "name": "ipython",
        "version": 3
      },
      "file_extension": ".py",
      "mimetype": "text/x-python",
      "name": "python",
      "nbconvert_exporter": "python",
      "pygments_lexer": "ipython3",
      "version": "3.12.3"
    }
  },
  "nbformat": 4,
  "nbformat_minor": 5
}
