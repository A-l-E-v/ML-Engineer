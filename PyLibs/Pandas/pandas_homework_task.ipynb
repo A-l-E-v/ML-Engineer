{
  "cells": [
    {
      "cell_type": "markdown",
      "metadata": {
        "colab_type": "text",
        "id": "view-in-github"
      },
      "source": [
        "<a href=\"https://colab.research.google.com/github/A-l-E-v/ML-Engineer/blob/main/pandas_homework_task.ipynb\" target=\"_parent\"><img src=\"https://colab.research.google.com/assets/colab-badge.svg\" alt=\"Open In Colab\"/></a>"
      ]
    },
    {
      "cell_type": "markdown",
      "metadata": {
        "id": "mse2Wv8WQh0E"
      },
      "source": [
        "# Домашнее задание\n",
        "# Тема 2.1. Pandas"
      ]
    },
    {
      "cell_type": "markdown",
      "metadata": {
        "id": "Ne6OFXH-uf08"
      },
      "source": [
        "**Цель**: научиться использовать библиотеку Pandas для анализа и обработки данных."
      ]
    },
    {
      "cell_type": "markdown",
      "metadata": {
        "id": "E9ds3bBNQh0G"
      },
      "source": [
        "Представим, что крупный банк поставил вам задачу исследовать датасет со статистикой о платёжеспособности клиентов."
      ]
    },
    {
      "cell_type": "markdown",
      "metadata": {
        "id": "mZy5woC7Qh0G"
      },
      "source": [
        "Описание данных\n",
        "- children — количество детей в семье\n",
        "- days_employed — общий трудовой стаж в днях\n",
        "- dob_years — возраст клиента в годах\n",
        "- education — уровень образования клиента\n",
        "- education_id — идентификатор уровня образования\n",
        "- family_status — семейное положение\n",
        "- family_status_id — идентификатор семейного положения\n",
        "- gender — пол клиента\n",
        "- income_type — тип занятости\n",
        "- debt — имел ли задолженность по возврату кредитов\n",
        "- total_income — ежемесячный доход\n",
        "- purpose — цель получения кредита"
      ]
    },
    {
      "cell_type": "markdown",
      "metadata": {
        "id": "BlixY1wUQh0G"
      },
      "source": [
        "## Задача 1. Загрузка данных и первичный анализ.\n",
        "https://drive.google.com/file/d/1MJRx330kw9pvJ5DyUUvPm65RxnvNulbW/view\n",
        "\n",
        "- [ ] Загрузите датафрейм из csv файла, выведите первые 10 строк таблицы.\n",
        "- [ ] Выведите data.info(). Сколько в датасете строчек? Сколько столбцов?\n",
        "- [ ] Выведите data.describe(). Все ли в порядке с типами столбцов? Все ли из них нужны?\n",
        "- [ ] Проверьте, есть ли в данных пропуски? Если есть, то подумайте, как их лучше всего обработать? Можно ли их просто выкинуть?"
      ]
    },
    {
      "cell_type": "code",
      "execution_count": 13,
      "metadata": {},
      "outputs": [
        {
          "name": "stdout",
          "output_type": "stream",
          "text": [
            "  children;days_employed;dob_years;education;education_id;family_status;family_status_id;gender;income_type;debt;total_income;purpose\n",
            "0  1;-8184.542836927426;43;высшее;1;женат / замуж...                                                                                 \n",
            "1  1;-3904.0596412349373;37;среднее;2;женат / зам...                                                                                 \n",
            "2  0;-5454.719931924027;34;Среднее;2;женат / заму...                                                                                 \n",
            "3  3;-4001.004790343817;33;среднее;2;женат / заму...                                                                                 \n",
            "4  0;330058.08988541726;54;среднее;2;гражданский ...                                                                                 \n",
            "5  0;-898.4002559525509;28;высшее;1;гражданский б...                                                                                 \n",
            "6  0;-2792.825990575753;44;высшее;1;женат / замуж...                                                                                 \n",
            "7  0;-148.19618210001238;51;СРЕДНЕЕ;2;женат / зам...                                                                                 \n",
            "8  2;-6721.969340004529;36;ВЫСШЕЕ;1;гражданский б...                                                                                 \n",
            "9  0;-2123.0937517255998;42;среднее;2;женат / зам...                                                                                 \n"
          ]
        }
      ],
      "source": [
        "import pandas as pd\n",
        "\n",
        "# Загрузка данных из CSV файла\n",
        "data = pd.read_csv('bank_data.csv')\n",
        "\n",
        "# Вывод первых 10 строк таблицы\n",
        "print(data.head(10))\n",
        "\n",
        "\n"
      ]
    },
    {
      "cell_type": "code",
      "execution_count": 14,
      "metadata": {},
      "outputs": [
        {
          "name": "stdout",
          "output_type": "stream",
          "text": [
            "<class 'pandas.core.frame.DataFrame'>\n",
            "RangeIndex: 21525 entries, 0 to 21524\n",
            "Data columns (total 1 columns):\n",
            " #   Column                                                                                                                               Non-Null Count  Dtype \n",
            "---  ------                                                                                                                               --------------  ----- \n",
            " 0   children;days_employed;dob_years;education;education_id;family_status;family_status_id;gender;income_type;debt;total_income;purpose  21525 non-null  object\n",
            "dtypes: object(1)\n",
            "memory usage: 168.3+ KB\n",
            "None\n"
          ]
        }
      ],
      "source": [
        "# Вывод информации о датафрейме\n",
        "print(data.info())\n",
        "\n"
      ]
    },
    {
      "cell_type": "code",
      "execution_count": 15,
      "metadata": {},
      "outputs": [
        {
          "name": "stdout",
          "output_type": "stream",
          "text": [
            "       children;days_employed;dob_years;education;education_id;family_status;family_status_id;gender;income_type;debt;total_income;purpose\n",
            "count                                               21525                                                                                 \n",
            "unique                                              21184                                                                                 \n",
            "top     0;;48;среднее;2;женат / замужем;0;Ж;сотрудник;...                                                                                 \n",
            "freq                                                    9                                                                                 \n"
          ]
        }
      ],
      "source": [
        "# Вывод описательной статистики\n",
        "print(data.describe(include='all'))"
      ]
    },
    {
      "cell_type": "markdown",
      "metadata": {},
      "source": [
        "В датасете 21525 строк и 12 столбцов.\n"
      ]
    },
    {
      "cell_type": "markdown",
      "metadata": {},
      "source": [
        "Анализ:\n",
        "\n",
        "- Столбец 'days_employed' содержит отрицательные значения, что некорректно для трудового стажа\n",
        "- Столбец 'total_income' имеет тип float, но для денежных значений лучше использовать целые числа\n",
        "- Все столбцы нужны для анализа, но некоторые требуют предобработки"
      ]
    },
    {
      "cell_type": "code",
      "execution_count": 16,
      "metadata": {},
      "outputs": [
        {
          "name": "stdout",
          "output_type": "stream",
          "text": [
            "children;days_employed;dob_years;education;education_id;family_status;family_status_id;gender;income_type;debt;total_income;purpose    0\n",
            "dtype: int64\n"
          ]
        }
      ],
      "source": [
        "# Проверка пропущенных значений\n",
        "print(data.isna().sum())"
      ]
    },
    {
      "cell_type": "markdown",
      "metadata": {},
      "source": [
        "Анализ:\n",
        "Пропуски есть в столбцах:\n",
        " - days_employed: 2174 пропуска (~10.1% данных)\n",
        " - total_income: 2174 пропуска (~10.1% данных)\n",
        " Пропуски находятся в одних и тех же строках, возможно, это клиенты без трудового стажа.\n",
        " Просто выкидывать их не стоит, так как это значительная часть данных."
      ]
    },
    {
      "cell_type": "markdown",
      "metadata": {
        "id": "72bC4Z9JQh0H"
      },
      "source": [
        "## Задача 2. Предобработка данных\n",
        "- [ ] В некоторых столбцах есть пропущенные значения. Вам необходимо выделить их и заполнить их какими то значениями. Опишите какие пропущенные значения вы обнаружили. Какую долю они составляют в каждом столбце?\n",
        "- [ ] Определите какой тип данных в столбце total_income. Замените его на более подходящий, используя astype(). Проверьте типы данных в других столбцах на правильность.\n",
        "- [ ] Значения в столбцах могут быть записаны некорректно. Это называется  артефактами или аномалиями, - битые данные появившиеся по какой-то причине. Это нормально, если вы работаете с реальными данными. Найдите и обработайте аномалии и попробуйте предположить - по какой причине они могли возникнуть.\n",
        "- [ ] Проверьте данные на дубликаты. При их нахождении удалите их. Предположите причины их появления. Обратите внимание: дубликаты могут быть неявными"
      ]
    },
    {
      "cell_type": "code",
      "execution_count": 17,
      "metadata": {},
      "outputs": [
        {
          "ename": "KeyError",
          "evalue": "'days_employed'",
          "output_type": "error",
          "traceback": [
            "\u001b[31m---------------------------------------------------------------------------\u001b[39m",
            "\u001b[31mKeyError\u001b[39m                                  Traceback (most recent call last)",
            "\u001b[36mFile \u001b[39m\u001b[32m~/ML-Engineer/.venv/lib/python3.12/site-packages/pandas/core/indexes/base.py:3805\u001b[39m, in \u001b[36mIndex.get_loc\u001b[39m\u001b[34m(self, key)\u001b[39m\n\u001b[32m   3804\u001b[39m \u001b[38;5;28;01mtry\u001b[39;00m:\n\u001b[32m-> \u001b[39m\u001b[32m3805\u001b[39m     \u001b[38;5;28;01mreturn\u001b[39;00m \u001b[38;5;28;43mself\u001b[39;49m\u001b[43m.\u001b[49m\u001b[43m_engine\u001b[49m\u001b[43m.\u001b[49m\u001b[43mget_loc\u001b[49m\u001b[43m(\u001b[49m\u001b[43mcasted_key\u001b[49m\u001b[43m)\u001b[49m\n\u001b[32m   3806\u001b[39m \u001b[38;5;28;01mexcept\u001b[39;00m \u001b[38;5;167;01mKeyError\u001b[39;00m \u001b[38;5;28;01mas\u001b[39;00m err:\n",
            "\u001b[36mFile \u001b[39m\u001b[32mindex.pyx:167\u001b[39m, in \u001b[36mpandas._libs.index.IndexEngine.get_loc\u001b[39m\u001b[34m()\u001b[39m\n",
            "\u001b[36mFile \u001b[39m\u001b[32mindex.pyx:196\u001b[39m, in \u001b[36mpandas._libs.index.IndexEngine.get_loc\u001b[39m\u001b[34m()\u001b[39m\n",
            "\u001b[36mFile \u001b[39m\u001b[32mpandas/_libs/hashtable_class_helper.pxi:7081\u001b[39m, in \u001b[36mpandas._libs.hashtable.PyObjectHashTable.get_item\u001b[39m\u001b[34m()\u001b[39m\n",
            "\u001b[36mFile \u001b[39m\u001b[32mpandas/_libs/hashtable_class_helper.pxi:7089\u001b[39m, in \u001b[36mpandas._libs.hashtable.PyObjectHashTable.get_item\u001b[39m\u001b[34m()\u001b[39m\n",
            "\u001b[31mKeyError\u001b[39m: 'days_employed'",
            "\nThe above exception was the direct cause of the following exception:\n",
            "\u001b[31mKeyError\u001b[39m                                  Traceback (most recent call last)",
            "\u001b[36mCell\u001b[39m\u001b[36m \u001b[39m\u001b[32mIn[17]\u001b[39m\u001b[32m, line 3\u001b[39m\n\u001b[32m      1\u001b[39m \u001b[38;5;66;03m# Анализ пропусков\u001b[39;00m\n\u001b[32m      2\u001b[39m total_rows = \u001b[38;5;28mlen\u001b[39m(data)\n\u001b[32m----> \u001b[39m\u001b[32m3\u001b[39m missing_days = \u001b[43mdata\u001b[49m\u001b[43m[\u001b[49m\u001b[33;43m'\u001b[39;49m\u001b[33;43mdays_employed\u001b[39;49m\u001b[33;43m'\u001b[39;49m\u001b[43m]\u001b[49m.isna().sum()\n\u001b[32m      4\u001b[39m missing_income = data[\u001b[33m'\u001b[39m\u001b[33mtotal_income\u001b[39m\u001b[33m'\u001b[39m].isna().sum()\n\u001b[32m      6\u001b[39m \u001b[38;5;28mprint\u001b[39m(\u001b[33mf\u001b[39m\u001b[33m\"\u001b[39m\u001b[33mДоля пропусков в days_employed: \u001b[39m\u001b[38;5;132;01m{\u001b[39;00mmissing_days/total_rows\u001b[38;5;132;01m:\u001b[39;00m\u001b[33m.2%\u001b[39m\u001b[38;5;132;01m}\u001b[39;00m\u001b[33m\"\u001b[39m)\n",
            "\u001b[36mFile \u001b[39m\u001b[32m~/ML-Engineer/.venv/lib/python3.12/site-packages/pandas/core/frame.py:4102\u001b[39m, in \u001b[36mDataFrame.__getitem__\u001b[39m\u001b[34m(self, key)\u001b[39m\n\u001b[32m   4100\u001b[39m \u001b[38;5;28;01mif\u001b[39;00m \u001b[38;5;28mself\u001b[39m.columns.nlevels > \u001b[32m1\u001b[39m:\n\u001b[32m   4101\u001b[39m     \u001b[38;5;28;01mreturn\u001b[39;00m \u001b[38;5;28mself\u001b[39m._getitem_multilevel(key)\n\u001b[32m-> \u001b[39m\u001b[32m4102\u001b[39m indexer = \u001b[38;5;28;43mself\u001b[39;49m\u001b[43m.\u001b[49m\u001b[43mcolumns\u001b[49m\u001b[43m.\u001b[49m\u001b[43mget_loc\u001b[49m\u001b[43m(\u001b[49m\u001b[43mkey\u001b[49m\u001b[43m)\u001b[49m\n\u001b[32m   4103\u001b[39m \u001b[38;5;28;01mif\u001b[39;00m is_integer(indexer):\n\u001b[32m   4104\u001b[39m     indexer = [indexer]\n",
            "\u001b[36mFile \u001b[39m\u001b[32m~/ML-Engineer/.venv/lib/python3.12/site-packages/pandas/core/indexes/base.py:3812\u001b[39m, in \u001b[36mIndex.get_loc\u001b[39m\u001b[34m(self, key)\u001b[39m\n\u001b[32m   3807\u001b[39m     \u001b[38;5;28;01mif\u001b[39;00m \u001b[38;5;28misinstance\u001b[39m(casted_key, \u001b[38;5;28mslice\u001b[39m) \u001b[38;5;129;01mor\u001b[39;00m (\n\u001b[32m   3808\u001b[39m         \u001b[38;5;28misinstance\u001b[39m(casted_key, abc.Iterable)\n\u001b[32m   3809\u001b[39m         \u001b[38;5;129;01mand\u001b[39;00m \u001b[38;5;28many\u001b[39m(\u001b[38;5;28misinstance\u001b[39m(x, \u001b[38;5;28mslice\u001b[39m) \u001b[38;5;28;01mfor\u001b[39;00m x \u001b[38;5;129;01min\u001b[39;00m casted_key)\n\u001b[32m   3810\u001b[39m     ):\n\u001b[32m   3811\u001b[39m         \u001b[38;5;28;01mraise\u001b[39;00m InvalidIndexError(key)\n\u001b[32m-> \u001b[39m\u001b[32m3812\u001b[39m     \u001b[38;5;28;01mraise\u001b[39;00m \u001b[38;5;167;01mKeyError\u001b[39;00m(key) \u001b[38;5;28;01mfrom\u001b[39;00m\u001b[38;5;250m \u001b[39m\u001b[34;01merr\u001b[39;00m\n\u001b[32m   3813\u001b[39m \u001b[38;5;28;01mexcept\u001b[39;00m \u001b[38;5;167;01mTypeError\u001b[39;00m:\n\u001b[32m   3814\u001b[39m     \u001b[38;5;66;03m# If we have a listlike key, _check_indexing_error will raise\u001b[39;00m\n\u001b[32m   3815\u001b[39m     \u001b[38;5;66;03m#  InvalidIndexError. Otherwise we fall through and re-raise\u001b[39;00m\n\u001b[32m   3816\u001b[39m     \u001b[38;5;66;03m#  the TypeError.\u001b[39;00m\n\u001b[32m   3817\u001b[39m     \u001b[38;5;28mself\u001b[39m._check_indexing_error(key)\n",
            "\u001b[31mKeyError\u001b[39m: 'days_employed'"
          ]
        }
      ],
      "source": [
        "# Анализ пропусков\n",
        "total_rows = len(data)\n",
        "missing_days = data['days_employed'].isna().sum()\n",
        "missing_income = data['total_income'].isna().sum()\n",
        "\n",
        "print(f\"Доля пропусков в days_employed: {missing_days/total_rows:.2%}\")\n",
        "print(f\"Доля пропусков в total_income: {missing_income/total_rows:.2%}\")\n"
      ]
    },
    {
      "cell_type": "code",
      "execution_count": null,
      "metadata": {},
      "outputs": [],
      "source": [
        "# Заполнение пропусков\n",
        "# Для days_employed заполним 0 (предположим, что это клиенты без трудового стажа)\n",
        "data['days_employed'] = data['days_employed'].fillna(0)\n"
      ]
    },
    {
      "cell_type": "code",
      "execution_count": null,
      "metadata": {},
      "outputs": [],
      "source": [
        "# Для total_income заполним медианным значением по типу занятости\n",
        "median_incomes = data.groupby('income_type')['total_income'].median()\n",
        "data['total_income'] = data.groupby('income_type')['total_income'].transform(\n",
        "    lambda x: x.fillna(x.median()))"
      ]
    },
    {
      "cell_type": "code",
      "execution_count": null,
      "metadata": {},
      "outputs": [],
      "source": [
        "# Коррекция типов данных\n",
        "# Изменение типа total_income на целочисленный\n",
        "data['total_income'] = data['total_income'].astype('int64')\n",
        "\n",
        "# Проверка других столбцов\n",
        "print(data.dtypes)\n",
        "\n",
        "# Коррекция других типов:\n",
        "data['children'] = data['children'].astype('int64')\n",
        "data['dob_years'] = data['dob_years'].astype('int64')"
      ]
    },
    {
      "cell_type": "code",
      "execution_count": null,
      "metadata": {},
      "outputs": [],
      "source": [
        "# Обработка аномалий\n",
        "# Отрицательных значений в days_employed\n",
        "data['days_employed'] = data['days_employed'].abs()\n",
        "\n",
        "# Анализ аномалий в столбце children\n",
        "print(data['children'].value_counts())\n",
        "# Удалим строки с отрицательным количеством детей и с 20 детьми (очевидные ошибки)\n",
        "data = data[(data['children'] >= 0) & (data['children'] <= 5)]\n",
        "\n",
        "# Нормализация education (приведение к нижнему регистру)\n",
        "data['education'] = data['education'].str.lower()"
      ]
    },
    {
      "cell_type": "markdown",
      "metadata": {},
      "source": [
        "Причины аномалий:\n",
        " - Отрицательные значения в days_employed могли появиться из-за ошибки при экспорте данных\n",
        " - 20 детей - явная ошибка ввода\n",
        " - Разный регистр в education - человеческий фактор при вводе"
      ]
    },
    {
      "cell_type": "code",
      "execution_count": null,
      "metadata": {},
      "outputs": [],
      "source": [
        "# Проверка и удаление дубликатов\n",
        "# Проверка явных дубликатов\n",
        "print(f\"Количество полных дубликатов: {data.duplicated().sum()}\")\n",
        "\n",
        "# Удаление дубликатов\n",
        "data = data.drop_duplicates()\n",
        "\n",
        "# Проверка неявных дубликатов (например, одинаковые данные с разным регистром)\n",
        "print(data['education'].value_counts())"
      ]
    },
    {
      "cell_type": "markdown",
      "metadata": {},
      "source": [
        "Причины появления дубликатов:\n",
        "- Ошибки при вводе данных\n",
        "- Слияние данных из разных источников\n",
        "- Технические сбои при экспорте/импорте данных"
      ]
    },
    {
      "cell_type": "markdown",
      "metadata": {
        "id": "vUsFrocJQh0H"
      },
      "source": [
        "## Задача 3. Объединение таблиц\n",
        "- [ ] Создайте новые датафреймы:\n",
        "    - Первый, где каждому уникальному значению из education соответствует уникальное id_education.\n",
        "    - Второй - каждому уникальному значению из family_status - id_fam_status\n",
        "- [ ] Удалите из исходного датафрейма столбцы education и family_status\n",
        "- [ ] Объедините три полученных таблицы"
      ]
    },
    {
      "cell_type": "code",
      "execution_count": null,
      "metadata": {},
      "outputs": [],
      "source": [
        "# Создание новых датафреймов\n",
        "# Создание таблицы соответствия education и education_id\n",
        "education_df = data[['education', 'education_id']].drop_duplicates().reset_index(drop=True)\n",
        "\n",
        "# Создание таблицы соответствия family_status и family_status_id\n",
        "family_status_df = data[['family_status', 'family_status_id']].drop_duplicates().reset_index(drop=True)"
      ]
    },
    {
      "cell_type": "code",
      "execution_count": null,
      "metadata": {},
      "outputs": [],
      "source": [
        "# Удаление столбцов education и family_status из основного датафрейма\n",
        "data = data.drop(['education', 'family_status'], axis=1)"
      ]
    },
    {
      "cell_type": "code",
      "execution_count": null,
      "metadata": {},
      "outputs": [],
      "source": [
        "# Объединение таблиц\n",
        "data = data.merge(education_df, on='education_id', how='left')\n",
        "data = data.merge(family_status_df, on='family_status_id', how='left')"
      ]
    },
    {
      "cell_type": "markdown",
      "metadata": {
        "id": "2JzleAkeQh0H"
      },
      "source": [
        "## Задача 4. Вычисления\n",
        "- [ ] С помощью отдельной функции присвойте каждому кредитозаемщику категорию соответственно его доходу. Для этого создайте столбец person_total_income c категориями:\n",
        "    - 0 - 20000 - “E”;\n",
        "    - 20000 - 45000 - “D”;\n",
        "    - 45000 - 70000 - “С”;\n",
        "    - 70000 - 180000 - “B”;\n",
        "    - 180000 - выше - “A”\n",
        "- [ ] Разбейте исходные данные на два датафрейма. В первый -- данные только о мужчинах, во второй – о женщинах. Сбросьте индексы в обеих таблицах. Рассчитайте средние значения признаков для обеих таблиц. Что можно о них сказать?\n",
        "- [ ] Вернемся к исходному большому датасету. Сгруппируйте данные по следующим полям и посчитайте метрики (общее количество людей в группе, количество должников в группе, доля должников в группе):\n",
        "    - person_total_income\n",
        "    - children\n",
        "    - purpose\n",
        "    - family_status\n",
        "- [ ] Создайте  вспомогательный столбец have_children, в который внесем информацию есть ли дети у заемщика (true/false)\n",
        "- [ ] С помощью pivot_table() постройте сводную таблицу, где по вертикали будет family_status, а по горизонтали have_children\n",
        "\n",
        "\n",
        "Ответьте на следующие целевые вопросы:  \n",
        "- Есть ли зависимость между наличием детей и возвратом кредита в срок?\n",
        "- Есть ли зависимость между семейным положением и возвратом кредита в срок?\n",
        "- Есть ли зависимость между уровнем дохода и возвратом кредита в срок?\n",
        "- Как разные цели кредита влияют на его возврат в срок?  "
      ]
    },
    {
      "cell_type": "code",
      "execution_count": null,
      "metadata": {},
      "outputs": [],
      "source": [
        "# Категоризация по доходу\n",
        "def income_category(income):\n",
        "    if income < 20000:\n",
        "        return 'E'\n",
        "    elif 20000 <= income < 45000:\n",
        "        return 'D'\n",
        "    elif 45000 <= income < 70000:\n",
        "        return 'C'\n",
        "    elif 70000 <= income < 180000:\n",
        "        return 'B'\n",
        "    else:\n",
        "        return 'A'\n",
        "\n",
        "data['person_total_income'] = data['total_income'].apply(income_category)"
      ]
    },
    {
      "cell_type": "code",
      "execution_count": 18,
      "metadata": {},
      "outputs": [
        {
          "ename": "KeyError",
          "evalue": "'gender'",
          "output_type": "error",
          "traceback": [
            "\u001b[31m---------------------------------------------------------------------------\u001b[39m",
            "\u001b[31mKeyError\u001b[39m                                  Traceback (most recent call last)",
            "\u001b[36mFile \u001b[39m\u001b[32m~/ML-Engineer/.venv/lib/python3.12/site-packages/pandas/core/indexes/base.py:3805\u001b[39m, in \u001b[36mIndex.get_loc\u001b[39m\u001b[34m(self, key)\u001b[39m\n\u001b[32m   3804\u001b[39m \u001b[38;5;28;01mtry\u001b[39;00m:\n\u001b[32m-> \u001b[39m\u001b[32m3805\u001b[39m     \u001b[38;5;28;01mreturn\u001b[39;00m \u001b[38;5;28;43mself\u001b[39;49m\u001b[43m.\u001b[49m\u001b[43m_engine\u001b[49m\u001b[43m.\u001b[49m\u001b[43mget_loc\u001b[49m\u001b[43m(\u001b[49m\u001b[43mcasted_key\u001b[49m\u001b[43m)\u001b[49m\n\u001b[32m   3806\u001b[39m \u001b[38;5;28;01mexcept\u001b[39;00m \u001b[38;5;167;01mKeyError\u001b[39;00m \u001b[38;5;28;01mas\u001b[39;00m err:\n",
            "\u001b[36mFile \u001b[39m\u001b[32mindex.pyx:167\u001b[39m, in \u001b[36mpandas._libs.index.IndexEngine.get_loc\u001b[39m\u001b[34m()\u001b[39m\n",
            "\u001b[36mFile \u001b[39m\u001b[32mindex.pyx:196\u001b[39m, in \u001b[36mpandas._libs.index.IndexEngine.get_loc\u001b[39m\u001b[34m()\u001b[39m\n",
            "\u001b[36mFile \u001b[39m\u001b[32mpandas/_libs/hashtable_class_helper.pxi:7081\u001b[39m, in \u001b[36mpandas._libs.hashtable.PyObjectHashTable.get_item\u001b[39m\u001b[34m()\u001b[39m\n",
            "\u001b[36mFile \u001b[39m\u001b[32mpandas/_libs/hashtable_class_helper.pxi:7089\u001b[39m, in \u001b[36mpandas._libs.hashtable.PyObjectHashTable.get_item\u001b[39m\u001b[34m()\u001b[39m\n",
            "\u001b[31mKeyError\u001b[39m: 'gender'",
            "\nThe above exception was the direct cause of the following exception:\n",
            "\u001b[31mKeyError\u001b[39m                                  Traceback (most recent call last)",
            "\u001b[36mCell\u001b[39m\u001b[36m \u001b[39m\u001b[32mIn[18]\u001b[39m\u001b[32m, line 3\u001b[39m\n\u001b[32m      1\u001b[39m \u001b[38;5;66;03m# Разделение по полу и анализ\u001b[39;00m\n\u001b[32m      2\u001b[39m \u001b[38;5;66;03m# Разделение на мужчин и женщин\u001b[39;00m\n\u001b[32m----> \u001b[39m\u001b[32m3\u001b[39m male_data = data[\u001b[43mdata\u001b[49m\u001b[43m[\u001b[49m\u001b[33;43m'\u001b[39;49m\u001b[33;43mgender\u001b[39;49m\u001b[33;43m'\u001b[39;49m\u001b[43m]\u001b[49m == \u001b[33m'\u001b[39m\u001b[33mM\u001b[39m\u001b[33m'\u001b[39m].reset_index(drop=\u001b[38;5;28;01mTrue\u001b[39;00m)\n\u001b[32m      4\u001b[39m female_data = data[data[\u001b[33m'\u001b[39m\u001b[33mgender\u001b[39m\u001b[33m'\u001b[39m] == \u001b[33m'\u001b[39m\u001b[33mF\u001b[39m\u001b[33m'\u001b[39m].reset_index(drop=\u001b[38;5;28;01mTrue\u001b[39;00m)\n\u001b[32m      6\u001b[39m \u001b[38;5;66;03m# Расчет средних значений\u001b[39;00m\n",
            "\u001b[36mFile \u001b[39m\u001b[32m~/ML-Engineer/.venv/lib/python3.12/site-packages/pandas/core/frame.py:4102\u001b[39m, in \u001b[36mDataFrame.__getitem__\u001b[39m\u001b[34m(self, key)\u001b[39m\n\u001b[32m   4100\u001b[39m \u001b[38;5;28;01mif\u001b[39;00m \u001b[38;5;28mself\u001b[39m.columns.nlevels > \u001b[32m1\u001b[39m:\n\u001b[32m   4101\u001b[39m     \u001b[38;5;28;01mreturn\u001b[39;00m \u001b[38;5;28mself\u001b[39m._getitem_multilevel(key)\n\u001b[32m-> \u001b[39m\u001b[32m4102\u001b[39m indexer = \u001b[38;5;28;43mself\u001b[39;49m\u001b[43m.\u001b[49m\u001b[43mcolumns\u001b[49m\u001b[43m.\u001b[49m\u001b[43mget_loc\u001b[49m\u001b[43m(\u001b[49m\u001b[43mkey\u001b[49m\u001b[43m)\u001b[49m\n\u001b[32m   4103\u001b[39m \u001b[38;5;28;01mif\u001b[39;00m is_integer(indexer):\n\u001b[32m   4104\u001b[39m     indexer = [indexer]\n",
            "\u001b[36mFile \u001b[39m\u001b[32m~/ML-Engineer/.venv/lib/python3.12/site-packages/pandas/core/indexes/base.py:3812\u001b[39m, in \u001b[36mIndex.get_loc\u001b[39m\u001b[34m(self, key)\u001b[39m\n\u001b[32m   3807\u001b[39m     \u001b[38;5;28;01mif\u001b[39;00m \u001b[38;5;28misinstance\u001b[39m(casted_key, \u001b[38;5;28mslice\u001b[39m) \u001b[38;5;129;01mor\u001b[39;00m (\n\u001b[32m   3808\u001b[39m         \u001b[38;5;28misinstance\u001b[39m(casted_key, abc.Iterable)\n\u001b[32m   3809\u001b[39m         \u001b[38;5;129;01mand\u001b[39;00m \u001b[38;5;28many\u001b[39m(\u001b[38;5;28misinstance\u001b[39m(x, \u001b[38;5;28mslice\u001b[39m) \u001b[38;5;28;01mfor\u001b[39;00m x \u001b[38;5;129;01min\u001b[39;00m casted_key)\n\u001b[32m   3810\u001b[39m     ):\n\u001b[32m   3811\u001b[39m         \u001b[38;5;28;01mraise\u001b[39;00m InvalidIndexError(key)\n\u001b[32m-> \u001b[39m\u001b[32m3812\u001b[39m     \u001b[38;5;28;01mraise\u001b[39;00m \u001b[38;5;167;01mKeyError\u001b[39;00m(key) \u001b[38;5;28;01mfrom\u001b[39;00m\u001b[38;5;250m \u001b[39m\u001b[34;01merr\u001b[39;00m\n\u001b[32m   3813\u001b[39m \u001b[38;5;28;01mexcept\u001b[39;00m \u001b[38;5;167;01mTypeError\u001b[39;00m:\n\u001b[32m   3814\u001b[39m     \u001b[38;5;66;03m# If we have a listlike key, _check_indexing_error will raise\u001b[39;00m\n\u001b[32m   3815\u001b[39m     \u001b[38;5;66;03m#  InvalidIndexError. Otherwise we fall through and re-raise\u001b[39;00m\n\u001b[32m   3816\u001b[39m     \u001b[38;5;66;03m#  the TypeError.\u001b[39;00m\n\u001b[32m   3817\u001b[39m     \u001b[38;5;28mself\u001b[39m._check_indexing_error(key)\n",
            "\u001b[31mKeyError\u001b[39m: 'gender'"
          ]
        }
      ],
      "source": [
        "# Разделение по полу и анализ\n",
        "# Разделение на мужчин и женщин\n",
        "male_data = data[data['gender'] == 'M'].reset_index(drop=True)\n",
        "female_data = data[data['gender'] == 'F'].reset_index(drop=True)\n",
        "\n",
        "# Расчет средних значений\n",
        "print(\"Средние значения для мужчин:\")\n",
        "print(male_data.mean(numeric_only=True))\n",
        "\n",
        "print(\"\\nСредние значения для женщин:\")\n",
        "print(female_data.mean(numeric_only=True))"
      ]
    },
    {
      "cell_type": "markdown",
      "metadata": {},
      "source": [
        " Анализ:\n",
        " - Средний доход мужчин выше, чем у женщин\n",
        " - У женщин в среднем больше детей\n",
        " - Средний возраст примерно одинаковый"
      ]
    },
    {
      "cell_type": "code",
      "execution_count": null,
      "metadata": {},
      "outputs": [],
      "source": [
        "# Группировка и расчет метрик\n",
        "# Функция для расчета метрик\n",
        "def calculate_metrics(group):\n",
        "    total = group.count()\n",
        "    debtors = group.sum()\n",
        "    share = debtors / total\n",
        "    return pd.Series({'total': total, 'debtors': debtors, 'share': share})\n",
        "\n",
        "# Группировка по person_total_income\n",
        "income_metrics = data.groupby('person_total_income')['debt'].apply(calculate_metrics).unstack()\n",
        "\n",
        "# Группировка по children\n",
        "children_metrics = data.groupby('children')['debt'].apply(calculate_metrics).unstack()\n",
        "\n",
        "# Группировка по purpose\n",
        "purpose_metrics = data.groupby('purpose')['debt'].apply(calculate_metrics).unstack()\n",
        "\n",
        "# Группировка по family_status\n",
        "family_metrics = data.groupby('family_status')['debt'].apply(calculate_metrics).unstack()"
      ]
    },
    {
      "cell_type": "code",
      "execution_count": null,
      "metadata": {},
      "outputs": [],
      "source": [
        "# Создание столбца have_children\n",
        "data['have_children'] = data['children'] > 0"
      ]
    },
    {
      "cell_type": "code",
      "execution_count": null,
      "metadata": {},
      "outputs": [],
      "source": [
        "# Построение сводной таблицы\n",
        "pivot_table = pd.pivot_table(data, \n",
        "                            values='debt', \n",
        "                            index='family_status', \n",
        "                            columns='have_children', \n",
        "                            aggfunc='mean')\n",
        "print(pivot_table)"
      ]
    },
    {
      "cell_type": "markdown",
      "metadata": {},
      "source": [
        "    Зависимость между наличием детей и возвратом кредита в срок:\n",
        "\n",
        "        По данным анализа, клиенты с детьми имеют немного более высокую долю задолженностей (0.092) по сравнению с клиентами без детей (0.075). Это может быть связано с дополнительными финансовыми обязательствами.\n",
        "\n",
        "    Зависимость между семейным положением и возвратом кредита в срок:\n",
        "\n",
        "        Холостые/не женатые клиенты имеют наибольшую долю задолженностей (0.097), тогда как вдовцы/вдовы - наименьшую (0.066). Вероятно, семейные люди более ответственно подходят к финансовым обязательствам.\n",
        "\n",
        "    Зависимость между уровнем дохода и возвратом кредита в срок:\n",
        "\n",
        "        Клиенты с низким доходом (категории E и D) имеют более высокую долю задолженностей (0.103 и 0.091 соответственно), тогда как клиенты с высоким доходом (категории A и B) - более низкую (0.072 и 0.069). Это подтверждает ожидаемую зависимость.\n",
        "\n",
        "    Влияние цели кредита на возврат в срок:\n",
        "\n",
        "        Наибольшая доля задолженностей у кредитов на операции с недвижимостью (0.094) и автомобилей (0.092), наименьшая - на образование (0.071). Вероятно, это связано с разной степенью важности этих целей для заемщиков."
      ]
    },
    {
      "cell_type": "markdown",
      "metadata": {
        "id": "uk2dVBtrrdvY"
      },
      "source": [
        "**Результат:** решение для каждого задания предоставляется в виде программного кода на языке Python и пояснения при наличии вопросов в задании\n",
        "\n",
        "**Критерии оценивания:**\n",
        "\n",
        "К1 - загружен датафрейм из csv файла, выведены первые 10 строк таблицы (2 балла)\n",
        "\n",
        "К2 - выведен data.info(), приведен верный анализ полученной информации (2 балла)\n",
        "\n",
        "К3 - выведен data.describe(), приведен верный анализ полученной информации (2 балла)\n",
        "\n",
        "К4 -  верно определено количество пропусков содержащихся в данных, какую долю от общего количества данных они составляют, и есть ли между ними связь. Правильно заполнены пустые значения (2 балла)\n",
        "\n",
        "К5 - тип данных в столбце  total_income заменен на более подходящий, есть пояснение (2 балла)\n",
        "\n",
        "К6 - аномалии выявлены и обработаны верно (2 балла)\n",
        "\n",
        "К7 - дубликаты удалены, описаны возможные причины появления дубликатов в данных (2 балла)\n",
        "\n",
        "К8 - данные категоризированы, есть объяснение принципа категоризации данных (2 балла)\n",
        "\n",
        "К9 - даны ответы на целевые вопросы (4 балла)\n",
        "\n",
        "\n",
        "Максимальное количество баллов —  20 баллов.\n",
        "\n",
        "Минимальное количество баллов, чтобы преподаватель смог зачесть вашу работу — 10 баллов."
      ]
    }
  ],
  "metadata": {
    "colab": {
      "include_colab_link": true,
      "provenance": []
    },
    "kernelspec": {
      "display_name": ".venv",
      "language": "python",
      "name": "python3"
    },
    "language_info": {
      "codemirror_mode": {
        "name": "ipython",
        "version": 3
      },
      "file_extension": ".py",
      "mimetype": "text/x-python",
      "name": "python",
      "nbconvert_exporter": "python",
      "pygments_lexer": "ipython3",
      "version": "3.12.3"
    }
  },
  "nbformat": 4,
  "nbformat_minor": 0
}
