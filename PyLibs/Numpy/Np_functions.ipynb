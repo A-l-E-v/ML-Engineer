{
  "cells": [
    {
      "cell_type": "markdown",
      "metadata": {
        "id": "view-in-github",
        "colab_type": "text"
      },
      "source": [
        "<a href=\"https://colab.research.google.com/github/A-l-E-v/ML-Engineer/blob/main/Np_functions.ipynb\" target=\"_parent\"><img src=\"https://colab.research.google.com/assets/colab-badge.svg\" alt=\"Open In Colab\"/></a>"
      ]
    },
    {
      "cell_type": "code",
      "execution_count": null,
      "metadata": {
        "id": "rK1-ONvV7eT3"
      },
      "outputs": [],
      "source": [
        "import numpy as np"
      ]
    },
    {
      "cell_type": "markdown",
      "metadata": {
        "id": "iX2cwEZc6HYT"
      },
      "source": [
        "## Numpy: functions"
      ]
    },
    {
      "cell_type": "markdown",
      "metadata": {
        "id": "vw-qxz_d6JHy"
      },
      "source": [
        "![images.png](data:image/png;base64,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)"
      ]
    },
    {
      "cell_type": "markdown",
      "metadata": {
        "id": "XjqLKlVG6Azm"
      },
      "source": [
        "Константы"
      ]
    },
    {
      "cell_type": "code",
      "execution_count": null,
      "metadata": {
        "id": "aBPLwvua5-n8"
      },
      "outputs": [],
      "source": [
        "np.pi, np.e"
      ]
    },
    {
      "cell_type": "markdown",
      "metadata": {
        "id": "b2V583Fw6IaD"
      },
      "source": [
        "Функции"
      ]
    },
    {
      "cell_type": "code",
      "execution_count": null,
      "metadata": {
        "id": "etIensAz6NhC"
      },
      "outputs": [],
      "source": [
        "print( np.sin(np.pi / 2) )\n",
        "print( np.cos(np.pi / 4) )"
      ]
    },
    {
      "cell_type": "code",
      "execution_count": null,
      "metadata": {
        "colab": {
          "background_save": true
        },
        "id": "sEP_KFq16wuE"
      },
      "outputs": [],
      "source": [
        "print( np.log(np.e ** 2) )\n",
        "print( np.log2(32) )\n",
        "print( np.log10(10000) )"
      ]
    },
    {
      "cell_type": "code",
      "execution_count": null,
      "metadata": {
        "id": "1VMy_svh7H5b"
      },
      "outputs": [],
      "source": [
        "np.sin([0, np.pi / 4, np.pi / 2])"
      ]
    }
  ],
  "metadata": {
    "colab": {
      "provenance": [],
      "include_colab_link": true
    },
    "kernelspec": {
      "display_name": "Python 3",
      "name": "python3"
    },
    "language_info": {
      "name": "python"
    }
  },
  "nbformat": 4,
  "nbformat_minor": 0
}