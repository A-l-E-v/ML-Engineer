{
  "cells": [
    {
      "cell_type": "markdown",
      "metadata": {
        "id": "view-in-github",
        "colab_type": "text"
      },
      "source": [
        "<a href=\"https://colab.research.google.com/github/A-l-E-v/ML-Engineer/blob/main/request_final_only_task.ipynb\" target=\"_parent\"><img src=\"https://colab.research.google.com/assets/colab-badge.svg\" alt=\"Open In Colab\"/></a>"
      ]
    },
    {
      "cell_type": "markdown",
      "id": "072ab693-f300-4712-9574-4dc7e21d78e2",
      "metadata": {
        "id": "072ab693-f300-4712-9574-4dc7e21d78e2"
      },
      "source": [
        "# Домашнее задание\n",
        "# Тема 2.2. Request"
      ]
    },
    {
      "cell_type": "markdown",
      "source": [
        "Цель: научиться парсить данные при помощи библиотеки Request."
      ],
      "metadata": {
        "id": "yty8uM2qsao-"
      },
      "id": "yty8uM2qsao-"
    },
    {
      "cell_type": "markdown",
      "id": "11b84bce-a63d-4794-88d0-8718398519ef",
      "metadata": {
        "id": "11b84bce-a63d-4794-88d0-8718398519ef"
      },
      "source": [
        "# 1. Просто get-запрос"
      ]
    },
    {
      "cell_type": "markdown",
      "id": "0e114783-db81-4929-b047-f8828f8405ee",
      "metadata": {
        "tags": [],
        "id": "0e114783-db81-4929-b047-f8828f8405ee"
      },
      "source": [
        "### Задание\n",
        "С помощью библиотеки Requests отправьте get запрос на страницу https://ru.wikipedia.org/wiki/Капибара и выведите статус-код операции."
      ]
    },
    {
      "cell_type": "markdown",
      "id": "1aaf5d61-ef5b-451d-acfd-4ab19a021b4c",
      "metadata": {
        "tags": [],
        "id": "1aaf5d61-ef5b-451d-acfd-4ab19a021b4c"
      },
      "source": [
        "## 2. Парсинг википедии"
      ]
    },
    {
      "cell_type": "markdown",
      "id": "30a13622-5510-4493-a6a8-3eda8ebd2c8e",
      "metadata": {
        "tags": [],
        "id": "30a13622-5510-4493-a6a8-3eda8ebd2c8e"
      },
      "source": [
        "### Задание\n",
        "С помощью библиотеки Requests распарсите страницу https://ru.wikipedia.org/wiki/Биткойн, соберите ссылки на изображения (подсказка: атрибут src) и подписи к этим изображениям (подсказка: тег figcaption). Оформите результат в пандас-таблицу."
      ]
    },
    {
      "cell_type": "markdown",
      "id": "c9f4bdf1-1efd-4ebc-b3ab-bf8f886fa1f7",
      "metadata": {
        "tags": [],
        "id": "c9f4bdf1-1efd-4ebc-b3ab-bf8f886fa1f7"
      },
      "source": [
        "## 3. Краулинг форума"
      ]
    },
    {
      "cell_type": "markdown",
      "id": "1a8b6b37-a45f-41e0-8a03-6f0f25635562",
      "metadata": {
        "tags": [],
        "id": "1a8b6b37-a45f-41e0-8a03-6f0f25635562"
      },
      "source": [
        "### Задание\n",
        "Распарсите все страницы из раздела \"Ветеринария КРС\" https://fermer.ru/forum/zhivotnovodstvo/krupnyi-rogatyi-skot/veterinariya-krs. С каждой страницы соберите таблицу и сохраните из нее следующую информацию: имя темы, ссылка на тему, количество оветов, количество просмотров, имя автора темы."
      ]
    },
    {
      "cell_type": "markdown",
      "id": "4f80199e-bba1-40a0-8aca-0e97c8787b0e",
      "metadata": {
        "tags": [],
        "id": "4f80199e-bba1-40a0-8aca-0e97c8787b0e"
      },
      "source": [
        "## 4. Тестовое API"
      ]
    },
    {
      "cell_type": "markdown",
      "id": "f384004f-8673-4bdf-8cd9-dcc9dc3efdc9",
      "metadata": {
        "tags": [],
        "id": "f384004f-8673-4bdf-8cd9-dcc9dc3efdc9"
      },
      "source": [
        "### Задание\n",
        "Получите данные последних 6 пользователей с сайта https://fakestoreapi.com с помощью API.  \n",
        "Подсказка: используйте параметр sort."
      ]
    },
    {
      "cell_type": "markdown",
      "source": [
        "**Результат:** решение для каждого задания предоставляется в виде программного кода на языке Python\n",
        "\n",
        "**Критерии оценивания:**\n",
        "\n",
        "К1 - отправлен get запрос на сайт из Задания 1, выведен статус-код операции (4 балла)\n",
        "\n",
        "К2 - распарсена страница сайта из Задания 2, собраны  ссылки на изображения и подписи к этим изображениям. Собранные данные представлены в виде пандас-таблицы (6 баллов)\n",
        "\n",
        "К3 - распарсены все страницы из раздела \"Ветеринария КРС\" из Задания 3, с каждой страницы взята таблица и из нее сохранена соответствующая условию задания ифнормация (6 баллов)\n",
        "\n",
        "К4 -  получены данные последних 6 пользователей с сайта из Задания 4 с помощью API (4 балла)\n",
        "\n",
        "\n",
        "Максимальное количество баллов —  20 баллов.\n",
        "\n",
        "Минимальное количество баллов, чтобы преподаватель смог зачесть вашу работу — 10 баллов."
      ],
      "metadata": {
        "id": "eY9iksIEsT2w"
      },
      "id": "eY9iksIEsT2w"
    }
  ],
  "metadata": {
    "kernelspec": {
      "display_name": "Python 3 (ipykernel)",
      "language": "python",
      "name": "python3"
    },
    "language_info": {
      "codemirror_mode": {
        "name": "ipython",
        "version": 3
      },
      "file_extension": ".py",
      "mimetype": "text/x-python",
      "name": "python",
      "nbconvert_exporter": "python",
      "pygments_lexer": "ipython3",
      "version": "3.10.9"
    },
    "colab": {
      "provenance": [],
      "include_colab_link": true
    }
  },
  "nbformat": 4,
  "nbformat_minor": 5
}