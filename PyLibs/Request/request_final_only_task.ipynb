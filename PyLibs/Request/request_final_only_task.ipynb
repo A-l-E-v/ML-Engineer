{
  "cells": [
    {
      "cell_type": "markdown",
      "metadata": {
        "colab_type": "text",
        "id": "view-in-github"
      },
      "source": [
        "<a href=\"https://colab.research.google.com/github/A-l-E-v/ML-Engineer/blob/main/request_final_only_task.ipynb\" target=\"_parent\"><img src=\"https://colab.research.google.com/assets/colab-badge.svg\" alt=\"Open In Colab\"/></a>"
      ]
    },
    {
      "cell_type": "markdown",
      "id": "072ab693-f300-4712-9574-4dc7e21d78e2",
      "metadata": {
        "id": "072ab693-f300-4712-9574-4dc7e21d78e2"
      },
      "source": [
        "# Домашнее задание\n",
        "# Тема 2.2. Request"
      ]
    },
    {
      "cell_type": "markdown",
      "id": "yty8uM2qsao-",
      "metadata": {
        "id": "yty8uM2qsao-"
      },
      "source": [
        "Цель: научиться парсить данные при помощи библиотеки Request."
      ]
    },
    {
      "cell_type": "markdown",
      "id": "11b84bce-a63d-4794-88d0-8718398519ef",
      "metadata": {
        "id": "11b84bce-a63d-4794-88d0-8718398519ef"
      },
      "source": [
        "# 1. Просто get-запрос"
      ]
    },
    {
      "cell_type": "markdown",
      "id": "0e114783-db81-4929-b047-f8828f8405ee",
      "metadata": {
        "id": "0e114783-db81-4929-b047-f8828f8405ee",
        "tags": []
      },
      "source": [
        "### Задание\n",
        "С помощью библиотеки Requests отправьте get запрос на страницу https://ru.wikipedia.org/wiki/Капибара и выведите статус-код операции."
      ]
    },
    {
      "cell_type": "code",
      "execution_count": 5,
      "id": "ca83aad1",
      "metadata": {},
      "outputs": [
        {
          "ename": "ModuleNotFoundError",
          "evalue": "No module named 'requests'",
          "output_type": "error",
          "traceback": [
            "\u001b[31m---------------------------------------------------------------------------\u001b[39m",
            "\u001b[31mModuleNotFoundError\u001b[39m                       Traceback (most recent call last)",
            "\u001b[36mCell\u001b[39m\u001b[36m \u001b[39m\u001b[32mIn[5]\u001b[39m\u001b[32m, line 1\u001b[39m\n\u001b[32m----> \u001b[39m\u001b[32m1\u001b[39m \u001b[38;5;28;01mimport\u001b[39;00m\u001b[38;5;250m \u001b[39m\u001b[34;01mrequests\u001b[39;00m\n\u001b[32m      3\u001b[39m \u001b[38;5;66;03m# Отправка GET-запроса на страницу Википедии о капибаре\u001b[39;00m\n\u001b[32m      4\u001b[39m response = requests.get(\u001b[33m'\u001b[39m\u001b[33mhttps://ru.wikipedia.org/wiki/Капибара\u001b[39m\u001b[33m'\u001b[39m)\n",
            "\u001b[31mModuleNotFoundError\u001b[39m: No module named 'requests'"
          ]
        }
      ],
      "source": [
        "import requests\n",
        "\n",
        "# Отправка GET-запроса на страницу Википедии о капибаре\n",
        "response = requests.get('https://ru.wikipedia.org/wiki/Капибара')\n",
        "\n",
        "# Вывод статус-кода операции\n",
        "print(f\"Статус-код: {response.status_code}\")"
      ]
    },
    {
      "cell_type": "markdown",
      "id": "1aaf5d61-ef5b-451d-acfd-4ab19a021b4c",
      "metadata": {
        "id": "1aaf5d61-ef5b-451d-acfd-4ab19a021b4c",
        "tags": []
      },
      "source": [
        "## 2. Парсинг википедии"
      ]
    },
    {
      "cell_type": "markdown",
      "id": "30a13622-5510-4493-a6a8-3eda8ebd2c8e",
      "metadata": {
        "id": "30a13622-5510-4493-a6a8-3eda8ebd2c8e",
        "tags": []
      },
      "source": [
        "### Задание\n",
        "С помощью библиотеки Requests распарсите страницу https://ru.wikipedia.org/wiki/Биткойн, соберите ссылки на изображения (подсказка: атрибут src) и подписи к этим изображениям (подсказка: тег figcaption). Оформите результат в пандас-таблицу."
      ]
    },
    {
      "cell_type": "code",
      "execution_count": 6,
      "id": "936ac0d1",
      "metadata": {},
      "outputs": [
        {
          "ename": "ModuleNotFoundError",
          "evalue": "No module named 'bs4'",
          "output_type": "error",
          "traceback": [
            "\u001b[31m---------------------------------------------------------------------------\u001b[39m",
            "\u001b[31mModuleNotFoundError\u001b[39m                       Traceback (most recent call last)",
            "\u001b[36mCell\u001b[39m\u001b[36m \u001b[39m\u001b[32mIn[6]\u001b[39m\u001b[32m, line 1\u001b[39m\n\u001b[32m----> \u001b[39m\u001b[32m1\u001b[39m \u001b[38;5;28;01mfrom\u001b[39;00m\u001b[38;5;250m \u001b[39m\u001b[34;01mbs4\u001b[39;00m\u001b[38;5;250m \u001b[39m\u001b[38;5;28;01mimport\u001b[39;00m BeautifulSoup\n\u001b[32m      2\u001b[39m \u001b[38;5;28;01mimport\u001b[39;00m\u001b[38;5;250m \u001b[39m\u001b[34;01mpandas\u001b[39;00m\u001b[38;5;250m \u001b[39m\u001b[38;5;28;01mas\u001b[39;00m\u001b[38;5;250m \u001b[39m\u001b[34;01mpd\u001b[39;00m\n\u001b[32m      4\u001b[39m \u001b[38;5;66;03m# Получение HTML-страницы о Биткойне\u001b[39;00m\n",
            "\u001b[31mModuleNotFoundError\u001b[39m: No module named 'bs4'"
          ]
        }
      ],
      "source": [
        "from bs4 import BeautifulSoup\n",
        "import pandas as pd\n",
        "\n",
        "# Получение HTML-страницы о Биткойне\n",
        "response = requests.get('https://ru.wikipedia.org/wiki/Биткойн')\n",
        "soup = BeautifulSoup(response.text, 'html.parser')\n",
        "\n",
        "# Сбор данных об изображениях\n",
        "images = []\n",
        "captions = []\n",
        "\n",
        "# Поиск всех изображений (тег figure)\n",
        "for figure in soup.find_all('figure'):\n",
        "    img = figure.find('img')\n",
        "    if img and 'src' in img.attrs:\n",
        "        images.append(img['src'])\n",
        "        caption = figure.find('figcaption')\n",
        "        captions.append(caption.get_text() if caption else 'Нет подписи')\n",
        "\n",
        "# Создание DataFrame\n",
        "df = pd.DataFrame({\n",
        "    'Изображение': images,\n",
        "    'Подпись': captions\n",
        "})\n",
        "\n",
        "# Вывод таблицы\n",
        "print(df)"
      ]
    },
    {
      "cell_type": "markdown",
      "id": "c9f4bdf1-1efd-4ebc-b3ab-bf8f886fa1f7",
      "metadata": {
        "id": "c9f4bdf1-1efd-4ebc-b3ab-bf8f886fa1f7",
        "tags": []
      },
      "source": [
        "## 3. Краулинг форума"
      ]
    },
    {
      "cell_type": "markdown",
      "id": "1a8b6b37-a45f-41e0-8a03-6f0f25635562",
      "metadata": {
        "id": "1a8b6b37-a45f-41e0-8a03-6f0f25635562",
        "tags": []
      },
      "source": [
        "### Задание\n",
        "Распарсите все страницы из раздела \"Ветеринария КРС\" https://fermer.ru/forum/zhivotnovodstvo/krupnyi-rogatyi-skot/veterinariya-krs. С каждой страницы соберите таблицу и сохраните из нее следующую информацию: имя темы, ссылка на тему, количество оветов, количество просмотров, имя автора темы."
      ]
    },
    {
      "cell_type": "code",
      "execution_count": 2,
      "id": "e7face1e",
      "metadata": {},
      "outputs": [
        {
          "ename": "ModuleNotFoundError",
          "evalue": "No module named 'bs4'",
          "output_type": "error",
          "traceback": [
            "\u001b[31m---------------------------------------------------------------------------\u001b[39m",
            "\u001b[31mModuleNotFoundError\u001b[39m                       Traceback (most recent call last)",
            "\u001b[36mCell\u001b[39m\u001b[36m \u001b[39m\u001b[32mIn[2]\u001b[39m\u001b[32m, line 2\u001b[39m\n\u001b[32m      1\u001b[39m \u001b[38;5;28;01mimport\u001b[39;00m\u001b[38;5;250m \u001b[39m\u001b[34;01mtime\u001b[39;00m\n\u001b[32m----> \u001b[39m\u001b[32m2\u001b[39m \u001b[38;5;28;01mfrom\u001b[39;00m\u001b[38;5;250m \u001b[39m\u001b[34;01mbs4\u001b[39;00m\u001b[38;5;250m \u001b[39m\u001b[38;5;28;01mimport\u001b[39;00m BeautifulSoup\n\u001b[32m      3\u001b[39m \u001b[38;5;28;01mimport\u001b[39;00m\u001b[38;5;250m \u001b[39m\u001b[34;01mpandas\u001b[39;00m\u001b[38;5;250m \u001b[39m\u001b[38;5;28;01mas\u001b[39;00m\u001b[38;5;250m \u001b[39m\u001b[34;01mpd\u001b[39;00m\n\u001b[32m      5\u001b[39m base_url = \u001b[33m'\u001b[39m\u001b[33mhttps://fermer.ru/forum/zhivotnovodstvo/krupnyi-rogatyi-skot/veterinariya-krs\u001b[39m\u001b[33m'\u001b[39m\n",
            "\u001b[31mModuleNotFoundError\u001b[39m: No module named 'bs4'"
          ]
        }
      ],
      "source": [
        "import time\n",
        "from bs4 import BeautifulSoup\n",
        "import pandas as pd\n",
        "\n",
        "base_url = 'https://fermer.ru/forum/zhivotnovodstvo/krupnyi-rogatyi-skot/veterinariya-krs'\n",
        "all_data = []\n",
        "\n",
        "# Функция для парсинга одной страницы\n",
        "def parse_page(page_url):\n",
        "    response = requests.get(page_url)\n",
        "    soup = BeautifulSoup(response.text, 'html.parser')\n",
        "    \n",
        "    # Поиск таблицы с темами\n",
        "    topics_table = soup.find('table', {'class': 'topics'})\n",
        "    if not topics_table:\n",
        "        return\n",
        "    \n",
        "    # Парсинг строк таблицы\n",
        "    for row in topics_table.find_all('tr')[1:]:  # Пропускаем заголовок\n",
        "        cols = row.find_all('td')\n",
        "        if len(cols) >= 5:\n",
        "            topic = cols[1].find('a')\n",
        "            topic_name = topic.text.strip()\n",
        "            topic_link = topic['href']\n",
        "            replies = cols[2].text.strip()\n",
        "            views = cols[3].text.strip()\n",
        "            author = cols[4].text.strip()\n",
        "            \n",
        "            all_data.append({\n",
        "                'Тема': topic_name,\n",
        "                'Ссылка': topic_link,\n",
        "                'Ответы': replies,\n",
        "                'Просмотры': views,\n",
        "                'Автор': author\n",
        "            })\n",
        "\n",
        "# Парсинг всех страниц (предположим, что их 5)\n",
        "for page_num in range(1, 6):\n",
        "    page_url = f\"{base_url}?page={page_num}\"\n",
        "    parse_page(page_url)\n",
        "    time.sleep(1)  # Задержка между запросами\n",
        "\n",
        "# Создание DataFrame\n",
        "forum_df = pd.DataFrame(all_data)\n",
        "print(forum_df)"
      ]
    },
    {
      "cell_type": "markdown",
      "id": "4f80199e-bba1-40a0-8aca-0e97c8787b0e",
      "metadata": {
        "id": "4f80199e-bba1-40a0-8aca-0e97c8787b0e",
        "tags": []
      },
      "source": [
        "## 4. Тестовое API"
      ]
    },
    {
      "cell_type": "markdown",
      "id": "f384004f-8673-4bdf-8cd9-dcc9dc3efdc9",
      "metadata": {
        "id": "f384004f-8673-4bdf-8cd9-dcc9dc3efdc9",
        "tags": []
      },
      "source": [
        "### Задание\n",
        "Получите данные последних 6 пользователей с сайта https://fakestoreapi.com с помощью API.  \n",
        "Подсказка: используйте параметр sort."
      ]
    },
    {
      "cell_type": "code",
      "execution_count": 8,
      "id": "8b0a7720",
      "metadata": {},
      "outputs": [
        {
          "ename": "ModuleNotFoundError",
          "evalue": "No module named 'requests'",
          "output_type": "error",
          "traceback": [
            "\u001b[31m---------------------------------------------------------------------------\u001b[39m",
            "\u001b[31mModuleNotFoundError\u001b[39m                       Traceback (most recent call last)",
            "\u001b[36mCell\u001b[39m\u001b[36m \u001b[39m\u001b[32mIn[8]\u001b[39m\u001b[32m, line 1\u001b[39m\n\u001b[32m----> \u001b[39m\u001b[32m1\u001b[39m \u001b[38;5;28;01mimport\u001b[39;00m\u001b[38;5;250m \u001b[39m\u001b[34;01mrequests\u001b[39;00m\n\u001b[32m      2\u001b[39m \u001b[38;5;28;01mimport\u001b[39;00m\u001b[38;5;250m \u001b[39m\u001b[34;01mpandas\u001b[39;00m\u001b[38;5;250m \u001b[39m\u001b[38;5;28;01mas\u001b[39;00m\u001b[38;5;250m \u001b[39m\u001b[34;01mpd\u001b[39;00m\n\u001b[32m      4\u001b[39m \u001b[38;5;66;03m# Получение данных последних 6 пользователей\u001b[39;00m\n",
            "\u001b[31mModuleNotFoundError\u001b[39m: No module named 'requests'"
          ]
        }
      ],
      "source": [
        "import requests\n",
        "import pandas as pd\n",
        "\n",
        "# Получение данных последних 6 пользователей\n",
        "response = requests.get('https://fakestoreapi.com/users?sort=desc&limit=6')\n",
        "users = response.json()\n",
        "\n",
        "# Создание DataFrame\n",
        "users_df = pd.DataFrame(users)\n",
        "\n",
        "# Вывод данных\n",
        "print(users_df[['id', 'name', 'username', 'email']])"
      ]
    },
    {
      "cell_type": "markdown",
      "id": "eY9iksIEsT2w",
      "metadata": {
        "id": "eY9iksIEsT2w"
      },
      "source": [
        "**Результат:** решение для каждого задания предоставляется в виде программного кода на языке Python\n",
        "\n",
        "**Критерии оценивания:**\n",
        "\n",
        "К1 - отправлен get запрос на сайт из Задания 1, выведен статус-код операции (4 балла)\n",
        "\n",
        "К2 - распарсена страница сайта из Задания 2, собраны  ссылки на изображения и подписи к этим изображениям. Собранные данные представлены в виде пандас-таблицы (6 баллов)\n",
        "\n",
        "К3 - распарсены все страницы из раздела \"Ветеринария КРС\" из Задания 3, с каждой страницы взята таблица и из нее сохранена соответствующая условию задания ифнормация (6 баллов)\n",
        "\n",
        "К4 -  получены данные последних 6 пользователей с сайта из Задания 4 с помощью API (4 балла)\n",
        "\n",
        "\n",
        "Максимальное количество баллов —  20 баллов.\n",
        "\n",
        "Минимальное количество баллов, чтобы преподаватель смог зачесть вашу работу — 10 баллов."
      ]
    }
  ],
  "metadata": {
    "colab": {
      "include_colab_link": true,
      "provenance": []
    },
    "kernelspec": {
      "display_name": ".venv",
      "language": "python",
      "name": "python3"
    },
    "language_info": {
      "codemirror_mode": {
        "name": "ipython",
        "version": 3
      },
      "file_extension": ".py",
      "mimetype": "text/x-python",
      "name": "python",
      "nbconvert_exporter": "python",
      "pygments_lexer": "ipython3",
      "version": "3.12.3"
    }
  },
  "nbformat": 4,
  "nbformat_minor": 5
}
