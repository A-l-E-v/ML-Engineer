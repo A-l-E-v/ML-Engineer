{
  "cells": [
    {
      "cell_type": "markdown",
      "metadata": {
        "id": "view-in-github",
        "colab_type": "text"
      },
      "source": [
        "<a href=\"https://colab.research.google.com/github/A-l-E-v/ML-Engineer/blob/main/request_3_6_%D0%BA%D0%BE%D0%BD%D1%81%D0%BF%D0%B5%D0%BA%D1%82.ipynb\" target=\"_parent\"><img src=\"https://colab.research.google.com/assets/colab-badge.svg\" alt=\"Open In Colab\"/></a>"
      ]
    },
    {
      "cell_type": "markdown",
      "id": "e16b6be0-4313-4a38-ab64-bc6cf96f907a",
      "metadata": {
        "id": "e16b6be0-4313-4a38-ab64-bc6cf96f907a"
      },
      "source": [
        "# Парсинг веб-сайтов"
      ]
    },
    {
      "cell_type": "markdown",
      "id": "6fa50909-37ba-4ff4-93ad-5bb921eea4f0",
      "metadata": {
        "id": "6fa50909-37ba-4ff4-93ad-5bb921eea4f0"
      },
      "source": [
        "## Часть 2. Парсинг множества страниц (crawling)"
      ]
    },
    {
      "cell_type": "markdown",
      "id": "bdea3393-2cb4-4dec-a1c7-77679971c51f",
      "metadata": {
        "id": "bdea3393-2cb4-4dec-a1c7-77679971c51f"
      },
      "source": [
        "Часто бывает, что нужно достать информацию не с одной страницы, а с многих. В таком случае нужно написать скрипт, который будет обходить нужные нам страницы и парсить их. Такой скрипт еще иногда называют кроулером (crawler)."
      ]
    },
    {
      "cell_type": "markdown",
      "id": "bddc867e-f00a-4484-badc-2c5e635c2e78",
      "metadata": {
        "id": "bddc867e-f00a-4484-badc-2c5e635c2e78"
      },
      "source": [
        "Попробуем распарсить Форум на КиноПоиске, а именно раздел \"Фильмы ХХI века\": https://forumkinopoisk.ru/forumdisplay.php?f=5  \n",
        "Пусть наша задача звучит так: собрать названия тем, количество ответов, количество просмотров, ссылку на тред."
      ]
    },
    {
      "cell_type": "markdown",
      "id": "79800d00-4720-4b7b-b0f7-299e35491461",
      "metadata": {
        "id": "79800d00-4720-4b7b-b0f7-299e35491461"
      },
      "source": [
        "Прежде чем начать парсинг, убедимся, что сайт вообще возможно получить обычным запросом."
      ]
    },
    {
      "cell_type": "code",
      "execution_count": null,
      "id": "95814990-be24-468d-9cbe-190e4a64ff76",
      "metadata": {
        "id": "95814990-be24-468d-9cbe-190e4a64ff76"
      },
      "outputs": [],
      "source": [
        "# Импортируем необходимые библиотеки\n",
        "import requests\n",
        "import pandas as pd\n",
        "from bs4 import BeautifulSoup"
      ]
    },
    {
      "cell_type": "code",
      "execution_count": null,
      "id": "32539365-8e8b-4ed5-89d9-f9c5140df506",
      "metadata": {
        "scrolled": true,
        "tags": [],
        "id": "32539365-8e8b-4ed5-89d9-f9c5140df506"
      },
      "outputs": [],
      "source": [
        "# Задаем URL на forumkinopoisk\n",
        "URL= \"https://forumkinopoisk.ru/forumdisplay.php?f=5\""
      ]
    },
    {
      "cell_type": "code",
      "execution_count": null,
      "id": "617f9ce0-ae1e-4898-8b14-175148e07f05",
      "metadata": {
        "scrolled": true,
        "tags": [],
        "id": "617f9ce0-ae1e-4898-8b14-175148e07f05",
        "outputId": "1a686cc0-0d6a-4d22-820d-f0f0b7aeb4e4"
      },
      "outputs": [
        {
          "ename": "SSLError",
          "evalue": "HTTPSConnectionPool(host='forumkinopoisk.ru', port=443): Max retries exceeded with url: /forumdisplay.php?f=5 (Caused by SSLError(SSLCertVerificationError(1, '[SSL: CERTIFICATE_VERIFY_FAILED] certificate verify failed: unable to get local issuer certificate (_ssl.c:997)')))",
          "output_type": "error",
          "traceback": [
            "\u001b[1;31m---------------------------------------------------------------------------\u001b[0m",
            "\u001b[1;31mSSLCertVerificationError\u001b[0m                  Traceback (most recent call last)",
            "File \u001b[1;32mC:\\ProgramData\\anaconda3\\lib\\site-packages\\urllib3\\connectionpool.py:703\u001b[0m, in \u001b[0;36mHTTPConnectionPool.urlopen\u001b[1;34m(self, method, url, body, headers, retries, redirect, assert_same_host, timeout, pool_timeout, release_conn, chunked, body_pos, **response_kw)\u001b[0m\n\u001b[0;32m    702\u001b[0m \u001b[38;5;66;03m# Make the request on the httplib connection object.\u001b[39;00m\n\u001b[1;32m--> 703\u001b[0m httplib_response \u001b[38;5;241m=\u001b[39m \u001b[38;5;28;43mself\u001b[39;49m\u001b[38;5;241;43m.\u001b[39;49m\u001b[43m_make_request\u001b[49m\u001b[43m(\u001b[49m\n\u001b[0;32m    704\u001b[0m \u001b[43m    \u001b[49m\u001b[43mconn\u001b[49m\u001b[43m,\u001b[49m\n\u001b[0;32m    705\u001b[0m \u001b[43m    \u001b[49m\u001b[43mmethod\u001b[49m\u001b[43m,\u001b[49m\n\u001b[0;32m    706\u001b[0m \u001b[43m    \u001b[49m\u001b[43murl\u001b[49m\u001b[43m,\u001b[49m\n\u001b[0;32m    707\u001b[0m \u001b[43m    \u001b[49m\u001b[43mtimeout\u001b[49m\u001b[38;5;241;43m=\u001b[39;49m\u001b[43mtimeout_obj\u001b[49m\u001b[43m,\u001b[49m\n\u001b[0;32m    708\u001b[0m \u001b[43m    \u001b[49m\u001b[43mbody\u001b[49m\u001b[38;5;241;43m=\u001b[39;49m\u001b[43mbody\u001b[49m\u001b[43m,\u001b[49m\n\u001b[0;32m    709\u001b[0m \u001b[43m    \u001b[49m\u001b[43mheaders\u001b[49m\u001b[38;5;241;43m=\u001b[39;49m\u001b[43mheaders\u001b[49m\u001b[43m,\u001b[49m\n\u001b[0;32m    710\u001b[0m \u001b[43m    \u001b[49m\u001b[43mchunked\u001b[49m\u001b[38;5;241;43m=\u001b[39;49m\u001b[43mchunked\u001b[49m\u001b[43m,\u001b[49m\n\u001b[0;32m    711\u001b[0m \u001b[43m\u001b[49m\u001b[43m)\u001b[49m\n\u001b[0;32m    713\u001b[0m \u001b[38;5;66;03m# If we're going to release the connection in ``finally:``, then\u001b[39;00m\n\u001b[0;32m    714\u001b[0m \u001b[38;5;66;03m# the response doesn't need to know about the connection. Otherwise\u001b[39;00m\n\u001b[0;32m    715\u001b[0m \u001b[38;5;66;03m# it will also try to release it and we'll have a double-release\u001b[39;00m\n\u001b[0;32m    716\u001b[0m \u001b[38;5;66;03m# mess.\u001b[39;00m\n",
            "File \u001b[1;32mC:\\ProgramData\\anaconda3\\lib\\site-packages\\urllib3\\connectionpool.py:386\u001b[0m, in \u001b[0;36mHTTPConnectionPool._make_request\u001b[1;34m(self, conn, method, url, timeout, chunked, **httplib_request_kw)\u001b[0m\n\u001b[0;32m    385\u001b[0m \u001b[38;5;28;01mtry\u001b[39;00m:\n\u001b[1;32m--> 386\u001b[0m     \u001b[38;5;28;43mself\u001b[39;49m\u001b[38;5;241;43m.\u001b[39;49m\u001b[43m_validate_conn\u001b[49m\u001b[43m(\u001b[49m\u001b[43mconn\u001b[49m\u001b[43m)\u001b[49m\n\u001b[0;32m    387\u001b[0m \u001b[38;5;28;01mexcept\u001b[39;00m (SocketTimeout, BaseSSLError) \u001b[38;5;28;01mas\u001b[39;00m e:\n\u001b[0;32m    388\u001b[0m     \u001b[38;5;66;03m# Py2 raises this as a BaseSSLError, Py3 raises it as socket timeout.\u001b[39;00m\n",
            "File \u001b[1;32mC:\\ProgramData\\anaconda3\\lib\\site-packages\\urllib3\\connectionpool.py:1042\u001b[0m, in \u001b[0;36mHTTPSConnectionPool._validate_conn\u001b[1;34m(self, conn)\u001b[0m\n\u001b[0;32m   1041\u001b[0m \u001b[38;5;28;01mif\u001b[39;00m \u001b[38;5;129;01mnot\u001b[39;00m \u001b[38;5;28mgetattr\u001b[39m(conn, \u001b[38;5;124m\"\u001b[39m\u001b[38;5;124msock\u001b[39m\u001b[38;5;124m\"\u001b[39m, \u001b[38;5;28;01mNone\u001b[39;00m):  \u001b[38;5;66;03m# AppEngine might not have  `.sock`\u001b[39;00m\n\u001b[1;32m-> 1042\u001b[0m     \u001b[43mconn\u001b[49m\u001b[38;5;241;43m.\u001b[39;49m\u001b[43mconnect\u001b[49m\u001b[43m(\u001b[49m\u001b[43m)\u001b[49m\n\u001b[0;32m   1044\u001b[0m \u001b[38;5;28;01mif\u001b[39;00m \u001b[38;5;129;01mnot\u001b[39;00m conn\u001b[38;5;241m.\u001b[39mis_verified:\n",
            "File \u001b[1;32mC:\\ProgramData\\anaconda3\\lib\\site-packages\\urllib3\\connection.py:414\u001b[0m, in \u001b[0;36mHTTPSConnection.connect\u001b[1;34m(self)\u001b[0m\n\u001b[0;32m    412\u001b[0m     context\u001b[38;5;241m.\u001b[39mload_default_certs()\n\u001b[1;32m--> 414\u001b[0m \u001b[38;5;28mself\u001b[39m\u001b[38;5;241m.\u001b[39msock \u001b[38;5;241m=\u001b[39m \u001b[43mssl_wrap_socket\u001b[49m\u001b[43m(\u001b[49m\n\u001b[0;32m    415\u001b[0m \u001b[43m    \u001b[49m\u001b[43msock\u001b[49m\u001b[38;5;241;43m=\u001b[39;49m\u001b[43mconn\u001b[49m\u001b[43m,\u001b[49m\n\u001b[0;32m    416\u001b[0m \u001b[43m    \u001b[49m\u001b[43mkeyfile\u001b[49m\u001b[38;5;241;43m=\u001b[39;49m\u001b[38;5;28;43mself\u001b[39;49m\u001b[38;5;241;43m.\u001b[39;49m\u001b[43mkey_file\u001b[49m\u001b[43m,\u001b[49m\n\u001b[0;32m    417\u001b[0m \u001b[43m    \u001b[49m\u001b[43mcertfile\u001b[49m\u001b[38;5;241;43m=\u001b[39;49m\u001b[38;5;28;43mself\u001b[39;49m\u001b[38;5;241;43m.\u001b[39;49m\u001b[43mcert_file\u001b[49m\u001b[43m,\u001b[49m\n\u001b[0;32m    418\u001b[0m \u001b[43m    \u001b[49m\u001b[43mkey_password\u001b[49m\u001b[38;5;241;43m=\u001b[39;49m\u001b[38;5;28;43mself\u001b[39;49m\u001b[38;5;241;43m.\u001b[39;49m\u001b[43mkey_password\u001b[49m\u001b[43m,\u001b[49m\n\u001b[0;32m    419\u001b[0m \u001b[43m    \u001b[49m\u001b[43mca_certs\u001b[49m\u001b[38;5;241;43m=\u001b[39;49m\u001b[38;5;28;43mself\u001b[39;49m\u001b[38;5;241;43m.\u001b[39;49m\u001b[43mca_certs\u001b[49m\u001b[43m,\u001b[49m\n\u001b[0;32m    420\u001b[0m \u001b[43m    \u001b[49m\u001b[43mca_cert_dir\u001b[49m\u001b[38;5;241;43m=\u001b[39;49m\u001b[38;5;28;43mself\u001b[39;49m\u001b[38;5;241;43m.\u001b[39;49m\u001b[43mca_cert_dir\u001b[49m\u001b[43m,\u001b[49m\n\u001b[0;32m    421\u001b[0m \u001b[43m    \u001b[49m\u001b[43mca_cert_data\u001b[49m\u001b[38;5;241;43m=\u001b[39;49m\u001b[38;5;28;43mself\u001b[39;49m\u001b[38;5;241;43m.\u001b[39;49m\u001b[43mca_cert_data\u001b[49m\u001b[43m,\u001b[49m\n\u001b[0;32m    422\u001b[0m \u001b[43m    \u001b[49m\u001b[43mserver_hostname\u001b[49m\u001b[38;5;241;43m=\u001b[39;49m\u001b[43mserver_hostname\u001b[49m\u001b[43m,\u001b[49m\n\u001b[0;32m    423\u001b[0m \u001b[43m    \u001b[49m\u001b[43mssl_context\u001b[49m\u001b[38;5;241;43m=\u001b[39;49m\u001b[43mcontext\u001b[49m\u001b[43m,\u001b[49m\n\u001b[0;32m    424\u001b[0m \u001b[43m    \u001b[49m\u001b[43mtls_in_tls\u001b[49m\u001b[38;5;241;43m=\u001b[39;49m\u001b[43mtls_in_tls\u001b[49m\u001b[43m,\u001b[49m\n\u001b[0;32m    425\u001b[0m \u001b[43m\u001b[49m\u001b[43m)\u001b[49m\n\u001b[0;32m    427\u001b[0m \u001b[38;5;66;03m# If we're using all defaults and the connection\u001b[39;00m\n\u001b[0;32m    428\u001b[0m \u001b[38;5;66;03m# is TLSv1 or TLSv1.1 we throw a DeprecationWarning\u001b[39;00m\n\u001b[0;32m    429\u001b[0m \u001b[38;5;66;03m# for the host.\u001b[39;00m\n",
            "File \u001b[1;32mC:\\ProgramData\\anaconda3\\lib\\site-packages\\urllib3\\util\\ssl_.py:449\u001b[0m, in \u001b[0;36mssl_wrap_socket\u001b[1;34m(sock, keyfile, certfile, cert_reqs, ca_certs, server_hostname, ssl_version, ciphers, ssl_context, ca_cert_dir, key_password, ca_cert_data, tls_in_tls)\u001b[0m\n\u001b[0;32m    448\u001b[0m \u001b[38;5;28;01mif\u001b[39;00m send_sni:\n\u001b[1;32m--> 449\u001b[0m     ssl_sock \u001b[38;5;241m=\u001b[39m \u001b[43m_ssl_wrap_socket_impl\u001b[49m\u001b[43m(\u001b[49m\n\u001b[0;32m    450\u001b[0m \u001b[43m        \u001b[49m\u001b[43msock\u001b[49m\u001b[43m,\u001b[49m\u001b[43m \u001b[49m\u001b[43mcontext\u001b[49m\u001b[43m,\u001b[49m\u001b[43m \u001b[49m\u001b[43mtls_in_tls\u001b[49m\u001b[43m,\u001b[49m\u001b[43m \u001b[49m\u001b[43mserver_hostname\u001b[49m\u001b[38;5;241;43m=\u001b[39;49m\u001b[43mserver_hostname\u001b[49m\n\u001b[0;32m    451\u001b[0m \u001b[43m    \u001b[49m\u001b[43m)\u001b[49m\n\u001b[0;32m    452\u001b[0m \u001b[38;5;28;01melse\u001b[39;00m:\n",
            "File \u001b[1;32mC:\\ProgramData\\anaconda3\\lib\\site-packages\\urllib3\\util\\ssl_.py:493\u001b[0m, in \u001b[0;36m_ssl_wrap_socket_impl\u001b[1;34m(sock, ssl_context, tls_in_tls, server_hostname)\u001b[0m\n\u001b[0;32m    492\u001b[0m \u001b[38;5;28;01mif\u001b[39;00m server_hostname:\n\u001b[1;32m--> 493\u001b[0m     \u001b[38;5;28;01mreturn\u001b[39;00m \u001b[43mssl_context\u001b[49m\u001b[38;5;241;43m.\u001b[39;49m\u001b[43mwrap_socket\u001b[49m\u001b[43m(\u001b[49m\u001b[43msock\u001b[49m\u001b[43m,\u001b[49m\u001b[43m \u001b[49m\u001b[43mserver_hostname\u001b[49m\u001b[38;5;241;43m=\u001b[39;49m\u001b[43mserver_hostname\u001b[49m\u001b[43m)\u001b[49m\n\u001b[0;32m    494\u001b[0m \u001b[38;5;28;01melse\u001b[39;00m:\n",
            "File \u001b[1;32mC:\\ProgramData\\anaconda3\\lib\\ssl.py:513\u001b[0m, in \u001b[0;36mSSLContext.wrap_socket\u001b[1;34m(self, sock, server_side, do_handshake_on_connect, suppress_ragged_eofs, server_hostname, session)\u001b[0m\n\u001b[0;32m    507\u001b[0m \u001b[38;5;28;01mdef\u001b[39;00m \u001b[38;5;21mwrap_socket\u001b[39m(\u001b[38;5;28mself\u001b[39m, sock, server_side\u001b[38;5;241m=\u001b[39m\u001b[38;5;28;01mFalse\u001b[39;00m,\n\u001b[0;32m    508\u001b[0m                 do_handshake_on_connect\u001b[38;5;241m=\u001b[39m\u001b[38;5;28;01mTrue\u001b[39;00m,\n\u001b[0;32m    509\u001b[0m                 suppress_ragged_eofs\u001b[38;5;241m=\u001b[39m\u001b[38;5;28;01mTrue\u001b[39;00m,\n\u001b[0;32m    510\u001b[0m                 server_hostname\u001b[38;5;241m=\u001b[39m\u001b[38;5;28;01mNone\u001b[39;00m, session\u001b[38;5;241m=\u001b[39m\u001b[38;5;28;01mNone\u001b[39;00m):\n\u001b[0;32m    511\u001b[0m     \u001b[38;5;66;03m# SSLSocket class handles server_hostname encoding before it calls\u001b[39;00m\n\u001b[0;32m    512\u001b[0m     \u001b[38;5;66;03m# ctx._wrap_socket()\u001b[39;00m\n\u001b[1;32m--> 513\u001b[0m     \u001b[38;5;28;01mreturn\u001b[39;00m \u001b[38;5;28;43mself\u001b[39;49m\u001b[38;5;241;43m.\u001b[39;49m\u001b[43msslsocket_class\u001b[49m\u001b[38;5;241;43m.\u001b[39;49m\u001b[43m_create\u001b[49m\u001b[43m(\u001b[49m\n\u001b[0;32m    514\u001b[0m \u001b[43m        \u001b[49m\u001b[43msock\u001b[49m\u001b[38;5;241;43m=\u001b[39;49m\u001b[43msock\u001b[49m\u001b[43m,\u001b[49m\n\u001b[0;32m    515\u001b[0m \u001b[43m        \u001b[49m\u001b[43mserver_side\u001b[49m\u001b[38;5;241;43m=\u001b[39;49m\u001b[43mserver_side\u001b[49m\u001b[43m,\u001b[49m\n\u001b[0;32m    516\u001b[0m \u001b[43m        \u001b[49m\u001b[43mdo_handshake_on_connect\u001b[49m\u001b[38;5;241;43m=\u001b[39;49m\u001b[43mdo_handshake_on_connect\u001b[49m\u001b[43m,\u001b[49m\n\u001b[0;32m    517\u001b[0m \u001b[43m        \u001b[49m\u001b[43msuppress_ragged_eofs\u001b[49m\u001b[38;5;241;43m=\u001b[39;49m\u001b[43msuppress_ragged_eofs\u001b[49m\u001b[43m,\u001b[49m\n\u001b[0;32m    518\u001b[0m \u001b[43m        \u001b[49m\u001b[43mserver_hostname\u001b[49m\u001b[38;5;241;43m=\u001b[39;49m\u001b[43mserver_hostname\u001b[49m\u001b[43m,\u001b[49m\n\u001b[0;32m    519\u001b[0m \u001b[43m        \u001b[49m\u001b[43mcontext\u001b[49m\u001b[38;5;241;43m=\u001b[39;49m\u001b[38;5;28;43mself\u001b[39;49m\u001b[43m,\u001b[49m\n\u001b[0;32m    520\u001b[0m \u001b[43m        \u001b[49m\u001b[43msession\u001b[49m\u001b[38;5;241;43m=\u001b[39;49m\u001b[43msession\u001b[49m\n\u001b[0;32m    521\u001b[0m \u001b[43m    \u001b[49m\u001b[43m)\u001b[49m\n",
            "File \u001b[1;32mC:\\ProgramData\\anaconda3\\lib\\ssl.py:1071\u001b[0m, in \u001b[0;36mSSLSocket._create\u001b[1;34m(cls, sock, server_side, do_handshake_on_connect, suppress_ragged_eofs, server_hostname, context, session)\u001b[0m\n\u001b[0;32m   1070\u001b[0m             \u001b[38;5;28;01mraise\u001b[39;00m \u001b[38;5;167;01mValueError\u001b[39;00m(\u001b[38;5;124m\"\u001b[39m\u001b[38;5;124mdo_handshake_on_connect should not be specified for non-blocking sockets\u001b[39m\u001b[38;5;124m\"\u001b[39m)\n\u001b[1;32m-> 1071\u001b[0m         \u001b[38;5;28;43mself\u001b[39;49m\u001b[38;5;241;43m.\u001b[39;49m\u001b[43mdo_handshake\u001b[49m\u001b[43m(\u001b[49m\u001b[43m)\u001b[49m\n\u001b[0;32m   1072\u001b[0m \u001b[38;5;28;01mexcept\u001b[39;00m (\u001b[38;5;167;01mOSError\u001b[39;00m, \u001b[38;5;167;01mValueError\u001b[39;00m):\n",
            "File \u001b[1;32mC:\\ProgramData\\anaconda3\\lib\\ssl.py:1342\u001b[0m, in \u001b[0;36mSSLSocket.do_handshake\u001b[1;34m(self, block)\u001b[0m\n\u001b[0;32m   1341\u001b[0m         \u001b[38;5;28mself\u001b[39m\u001b[38;5;241m.\u001b[39msettimeout(\u001b[38;5;28;01mNone\u001b[39;00m)\n\u001b[1;32m-> 1342\u001b[0m     \u001b[38;5;28;43mself\u001b[39;49m\u001b[38;5;241;43m.\u001b[39;49m\u001b[43m_sslobj\u001b[49m\u001b[38;5;241;43m.\u001b[39;49m\u001b[43mdo_handshake\u001b[49m\u001b[43m(\u001b[49m\u001b[43m)\u001b[49m\n\u001b[0;32m   1343\u001b[0m \u001b[38;5;28;01mfinally\u001b[39;00m:\n",
            "\u001b[1;31mSSLCertVerificationError\u001b[0m: [SSL: CERTIFICATE_VERIFY_FAILED] certificate verify failed: unable to get local issuer certificate (_ssl.c:997)",
            "\nDuring handling of the above exception, another exception occurred:\n",
            "\u001b[1;31mMaxRetryError\u001b[0m                             Traceback (most recent call last)",
            "File \u001b[1;32mC:\\ProgramData\\anaconda3\\lib\\site-packages\\requests\\adapters.py:489\u001b[0m, in \u001b[0;36mHTTPAdapter.send\u001b[1;34m(self, request, stream, timeout, verify, cert, proxies)\u001b[0m\n\u001b[0;32m    488\u001b[0m \u001b[38;5;28;01mif\u001b[39;00m \u001b[38;5;129;01mnot\u001b[39;00m chunked:\n\u001b[1;32m--> 489\u001b[0m     resp \u001b[38;5;241m=\u001b[39m \u001b[43mconn\u001b[49m\u001b[38;5;241;43m.\u001b[39;49m\u001b[43murlopen\u001b[49m\u001b[43m(\u001b[49m\n\u001b[0;32m    490\u001b[0m \u001b[43m        \u001b[49m\u001b[43mmethod\u001b[49m\u001b[38;5;241;43m=\u001b[39;49m\u001b[43mrequest\u001b[49m\u001b[38;5;241;43m.\u001b[39;49m\u001b[43mmethod\u001b[49m\u001b[43m,\u001b[49m\n\u001b[0;32m    491\u001b[0m \u001b[43m        \u001b[49m\u001b[43murl\u001b[49m\u001b[38;5;241;43m=\u001b[39;49m\u001b[43murl\u001b[49m\u001b[43m,\u001b[49m\n\u001b[0;32m    492\u001b[0m \u001b[43m        \u001b[49m\u001b[43mbody\u001b[49m\u001b[38;5;241;43m=\u001b[39;49m\u001b[43mrequest\u001b[49m\u001b[38;5;241;43m.\u001b[39;49m\u001b[43mbody\u001b[49m\u001b[43m,\u001b[49m\n\u001b[0;32m    493\u001b[0m \u001b[43m        \u001b[49m\u001b[43mheaders\u001b[49m\u001b[38;5;241;43m=\u001b[39;49m\u001b[43mrequest\u001b[49m\u001b[38;5;241;43m.\u001b[39;49m\u001b[43mheaders\u001b[49m\u001b[43m,\u001b[49m\n\u001b[0;32m    494\u001b[0m \u001b[43m        \u001b[49m\u001b[43mredirect\u001b[49m\u001b[38;5;241;43m=\u001b[39;49m\u001b[38;5;28;43;01mFalse\u001b[39;49;00m\u001b[43m,\u001b[49m\n\u001b[0;32m    495\u001b[0m \u001b[43m        \u001b[49m\u001b[43massert_same_host\u001b[49m\u001b[38;5;241;43m=\u001b[39;49m\u001b[38;5;28;43;01mFalse\u001b[39;49;00m\u001b[43m,\u001b[49m\n\u001b[0;32m    496\u001b[0m \u001b[43m        \u001b[49m\u001b[43mpreload_content\u001b[49m\u001b[38;5;241;43m=\u001b[39;49m\u001b[38;5;28;43;01mFalse\u001b[39;49;00m\u001b[43m,\u001b[49m\n\u001b[0;32m    497\u001b[0m \u001b[43m        \u001b[49m\u001b[43mdecode_content\u001b[49m\u001b[38;5;241;43m=\u001b[39;49m\u001b[38;5;28;43;01mFalse\u001b[39;49;00m\u001b[43m,\u001b[49m\n\u001b[0;32m    498\u001b[0m \u001b[43m        \u001b[49m\u001b[43mretries\u001b[49m\u001b[38;5;241;43m=\u001b[39;49m\u001b[38;5;28;43mself\u001b[39;49m\u001b[38;5;241;43m.\u001b[39;49m\u001b[43mmax_retries\u001b[49m\u001b[43m,\u001b[49m\n\u001b[0;32m    499\u001b[0m \u001b[43m        \u001b[49m\u001b[43mtimeout\u001b[49m\u001b[38;5;241;43m=\u001b[39;49m\u001b[43mtimeout\u001b[49m\u001b[43m,\u001b[49m\n\u001b[0;32m    500\u001b[0m \u001b[43m    \u001b[49m\u001b[43m)\u001b[49m\n\u001b[0;32m    502\u001b[0m \u001b[38;5;66;03m# Send the request.\u001b[39;00m\n\u001b[0;32m    503\u001b[0m \u001b[38;5;28;01melse\u001b[39;00m:\n",
            "File \u001b[1;32mC:\\ProgramData\\anaconda3\\lib\\site-packages\\urllib3\\connectionpool.py:787\u001b[0m, in \u001b[0;36mHTTPConnectionPool.urlopen\u001b[1;34m(self, method, url, body, headers, retries, redirect, assert_same_host, timeout, pool_timeout, release_conn, chunked, body_pos, **response_kw)\u001b[0m\n\u001b[0;32m    785\u001b[0m     e \u001b[38;5;241m=\u001b[39m ProtocolError(\u001b[38;5;124m\"\u001b[39m\u001b[38;5;124mConnection aborted.\u001b[39m\u001b[38;5;124m\"\u001b[39m, e)\n\u001b[1;32m--> 787\u001b[0m retries \u001b[38;5;241m=\u001b[39m \u001b[43mretries\u001b[49m\u001b[38;5;241;43m.\u001b[39;49m\u001b[43mincrement\u001b[49m\u001b[43m(\u001b[49m\n\u001b[0;32m    788\u001b[0m \u001b[43m    \u001b[49m\u001b[43mmethod\u001b[49m\u001b[43m,\u001b[49m\u001b[43m \u001b[49m\u001b[43murl\u001b[49m\u001b[43m,\u001b[49m\u001b[43m \u001b[49m\u001b[43merror\u001b[49m\u001b[38;5;241;43m=\u001b[39;49m\u001b[43me\u001b[49m\u001b[43m,\u001b[49m\u001b[43m \u001b[49m\u001b[43m_pool\u001b[49m\u001b[38;5;241;43m=\u001b[39;49m\u001b[38;5;28;43mself\u001b[39;49m\u001b[43m,\u001b[49m\u001b[43m \u001b[49m\u001b[43m_stacktrace\u001b[49m\u001b[38;5;241;43m=\u001b[39;49m\u001b[43msys\u001b[49m\u001b[38;5;241;43m.\u001b[39;49m\u001b[43mexc_info\u001b[49m\u001b[43m(\u001b[49m\u001b[43m)\u001b[49m\u001b[43m[\u001b[49m\u001b[38;5;241;43m2\u001b[39;49m\u001b[43m]\u001b[49m\n\u001b[0;32m    789\u001b[0m \u001b[43m\u001b[49m\u001b[43m)\u001b[49m\n\u001b[0;32m    790\u001b[0m retries\u001b[38;5;241m.\u001b[39msleep()\n",
            "File \u001b[1;32mC:\\ProgramData\\anaconda3\\lib\\site-packages\\urllib3\\util\\retry.py:592\u001b[0m, in \u001b[0;36mRetry.increment\u001b[1;34m(self, method, url, response, error, _pool, _stacktrace)\u001b[0m\n\u001b[0;32m    591\u001b[0m \u001b[38;5;28;01mif\u001b[39;00m new_retry\u001b[38;5;241m.\u001b[39mis_exhausted():\n\u001b[1;32m--> 592\u001b[0m     \u001b[38;5;28;01mraise\u001b[39;00m MaxRetryError(_pool, url, error \u001b[38;5;129;01mor\u001b[39;00m ResponseError(cause))\n\u001b[0;32m    594\u001b[0m log\u001b[38;5;241m.\u001b[39mdebug(\u001b[38;5;124m\"\u001b[39m\u001b[38;5;124mIncremented Retry for (url=\u001b[39m\u001b[38;5;124m'\u001b[39m\u001b[38;5;132;01m%s\u001b[39;00m\u001b[38;5;124m'\u001b[39m\u001b[38;5;124m): \u001b[39m\u001b[38;5;132;01m%r\u001b[39;00m\u001b[38;5;124m\"\u001b[39m, url, new_retry)\n",
            "\u001b[1;31mMaxRetryError\u001b[0m: HTTPSConnectionPool(host='forumkinopoisk.ru', port=443): Max retries exceeded with url: /forumdisplay.php?f=5 (Caused by SSLError(SSLCertVerificationError(1, '[SSL: CERTIFICATE_VERIFY_FAILED] certificate verify failed: unable to get local issuer certificate (_ssl.c:997)')))",
            "\nDuring handling of the above exception, another exception occurred:\n",
            "\u001b[1;31mSSLError\u001b[0m                                  Traceback (most recent call last)",
            "Cell \u001b[1;32mIn[20], line 2\u001b[0m\n\u001b[0;32m      1\u001b[0m URL\u001b[38;5;241m=\u001b[39m \u001b[38;5;124m\"\u001b[39m\u001b[38;5;124mhttps://forumkinopoisk.ru/forumdisplay.php?f=5\u001b[39m\u001b[38;5;124m\"\u001b[39m\n\u001b[1;32m----> 2\u001b[0m response \u001b[38;5;241m=\u001b[39m \u001b[43mrequests\u001b[49m\u001b[38;5;241;43m.\u001b[39;49m\u001b[43mget\u001b[49m\u001b[43m(\u001b[49m\u001b[43mURL\u001b[49m\u001b[43m)\u001b[49m\n",
            "File \u001b[1;32mC:\\ProgramData\\anaconda3\\lib\\site-packages\\requests\\api.py:73\u001b[0m, in \u001b[0;36mget\u001b[1;34m(url, params, **kwargs)\u001b[0m\n\u001b[0;32m     62\u001b[0m \u001b[38;5;28;01mdef\u001b[39;00m \u001b[38;5;21mget\u001b[39m(url, params\u001b[38;5;241m=\u001b[39m\u001b[38;5;28;01mNone\u001b[39;00m, \u001b[38;5;241m*\u001b[39m\u001b[38;5;241m*\u001b[39mkwargs):\n\u001b[0;32m     63\u001b[0m     \u001b[38;5;124mr\u001b[39m\u001b[38;5;124;03m\"\"\"Sends a GET request.\u001b[39;00m\n\u001b[0;32m     64\u001b[0m \n\u001b[0;32m     65\u001b[0m \u001b[38;5;124;03m    :param url: URL for the new :class:`Request` object.\u001b[39;00m\n\u001b[1;32m   (...)\u001b[0m\n\u001b[0;32m     70\u001b[0m \u001b[38;5;124;03m    :rtype: requests.Response\u001b[39;00m\n\u001b[0;32m     71\u001b[0m \u001b[38;5;124;03m    \"\"\"\u001b[39;00m\n\u001b[1;32m---> 73\u001b[0m     \u001b[38;5;28;01mreturn\u001b[39;00m request(\u001b[38;5;124m\"\u001b[39m\u001b[38;5;124mget\u001b[39m\u001b[38;5;124m\"\u001b[39m, url, params\u001b[38;5;241m=\u001b[39mparams, \u001b[38;5;241m*\u001b[39m\u001b[38;5;241m*\u001b[39mkwargs)\n",
            "File \u001b[1;32mC:\\ProgramData\\anaconda3\\lib\\site-packages\\requests\\api.py:59\u001b[0m, in \u001b[0;36mrequest\u001b[1;34m(method, url, **kwargs)\u001b[0m\n\u001b[0;32m     55\u001b[0m \u001b[38;5;66;03m# By using the 'with' statement we are sure the session is closed, thus we\u001b[39;00m\n\u001b[0;32m     56\u001b[0m \u001b[38;5;66;03m# avoid leaving sockets open which can trigger a ResourceWarning in some\u001b[39;00m\n\u001b[0;32m     57\u001b[0m \u001b[38;5;66;03m# cases, and look like a memory leak in others.\u001b[39;00m\n\u001b[0;32m     58\u001b[0m \u001b[38;5;28;01mwith\u001b[39;00m sessions\u001b[38;5;241m.\u001b[39mSession() \u001b[38;5;28;01mas\u001b[39;00m session:\n\u001b[1;32m---> 59\u001b[0m     \u001b[38;5;28;01mreturn\u001b[39;00m session\u001b[38;5;241m.\u001b[39mrequest(method\u001b[38;5;241m=\u001b[39mmethod, url\u001b[38;5;241m=\u001b[39murl, \u001b[38;5;241m*\u001b[39m\u001b[38;5;241m*\u001b[39mkwargs)\n",
            "File \u001b[1;32mC:\\ProgramData\\anaconda3\\lib\\site-packages\\requests\\sessions.py:587\u001b[0m, in \u001b[0;36mSession.request\u001b[1;34m(self, method, url, params, data, headers, cookies, files, auth, timeout, allow_redirects, proxies, hooks, stream, verify, cert, json)\u001b[0m\n\u001b[0;32m    582\u001b[0m send_kwargs \u001b[38;5;241m=\u001b[39m {\n\u001b[0;32m    583\u001b[0m     \u001b[38;5;124m\"\u001b[39m\u001b[38;5;124mtimeout\u001b[39m\u001b[38;5;124m\"\u001b[39m: timeout,\n\u001b[0;32m    584\u001b[0m     \u001b[38;5;124m\"\u001b[39m\u001b[38;5;124mallow_redirects\u001b[39m\u001b[38;5;124m\"\u001b[39m: allow_redirects,\n\u001b[0;32m    585\u001b[0m }\n\u001b[0;32m    586\u001b[0m send_kwargs\u001b[38;5;241m.\u001b[39mupdate(settings)\n\u001b[1;32m--> 587\u001b[0m resp \u001b[38;5;241m=\u001b[39m \u001b[38;5;28mself\u001b[39m\u001b[38;5;241m.\u001b[39msend(prep, \u001b[38;5;241m*\u001b[39m\u001b[38;5;241m*\u001b[39msend_kwargs)\n\u001b[0;32m    589\u001b[0m \u001b[38;5;28;01mreturn\u001b[39;00m resp\n",
            "File \u001b[1;32mC:\\ProgramData\\anaconda3\\lib\\site-packages\\requests\\sessions.py:701\u001b[0m, in \u001b[0;36mSession.send\u001b[1;34m(self, request, **kwargs)\u001b[0m\n\u001b[0;32m    698\u001b[0m start \u001b[38;5;241m=\u001b[39m preferred_clock()\n\u001b[0;32m    700\u001b[0m \u001b[38;5;66;03m# Send the request\u001b[39;00m\n\u001b[1;32m--> 701\u001b[0m r \u001b[38;5;241m=\u001b[39m adapter\u001b[38;5;241m.\u001b[39msend(request, \u001b[38;5;241m*\u001b[39m\u001b[38;5;241m*\u001b[39mkwargs)\n\u001b[0;32m    703\u001b[0m \u001b[38;5;66;03m# Total elapsed time of the request (approximately)\u001b[39;00m\n\u001b[0;32m    704\u001b[0m elapsed \u001b[38;5;241m=\u001b[39m preferred_clock() \u001b[38;5;241m-\u001b[39m start\n",
            "File \u001b[1;32mC:\\ProgramData\\anaconda3\\lib\\site-packages\\requests\\adapters.py:563\u001b[0m, in \u001b[0;36mHTTPAdapter.send\u001b[1;34m(self, request, stream, timeout, verify, cert, proxies)\u001b[0m\n\u001b[0;32m    559\u001b[0m         \u001b[38;5;28;01mraise\u001b[39;00m ProxyError(e, request\u001b[38;5;241m=\u001b[39mrequest)\n\u001b[0;32m    561\u001b[0m     \u001b[38;5;28;01mif\u001b[39;00m \u001b[38;5;28misinstance\u001b[39m(e\u001b[38;5;241m.\u001b[39mreason, _SSLError):\n\u001b[0;32m    562\u001b[0m         \u001b[38;5;66;03m# This branch is for urllib3 v1.22 and later.\u001b[39;00m\n\u001b[1;32m--> 563\u001b[0m         \u001b[38;5;28;01mraise\u001b[39;00m SSLError(e, request\u001b[38;5;241m=\u001b[39mrequest)\n\u001b[0;32m    565\u001b[0m     \u001b[38;5;28;01mraise\u001b[39;00m \u001b[38;5;167;01mConnectionError\u001b[39;00m(e, request\u001b[38;5;241m=\u001b[39mrequest)\n\u001b[0;32m    567\u001b[0m \u001b[38;5;28;01mexcept\u001b[39;00m ClosedPoolError \u001b[38;5;28;01mas\u001b[39;00m e:\n",
            "\u001b[1;31mSSLError\u001b[0m: HTTPSConnectionPool(host='forumkinopoisk.ru', port=443): Max retries exceeded with url: /forumdisplay.php?f=5 (Caused by SSLError(SSLCertVerificationError(1, '[SSL: CERTIFICATE_VERIFY_FAILED] certificate verify failed: unable to get local issuer certificate (_ssl.c:997)')))"
          ]
        }
      ],
      "source": [
        "# Отправляем GET-запрос по указанному URL и выводим статус код ответа\n",
        "response = requests.get(URL)\n",
        "response.status_code"
      ]
    },
    {
      "cell_type": "markdown",
      "source": [
        "Видим ошибку SSLError. Это относительно легкая проблема, и она исправляется отключением проверки SSL-сертификата. Мы не будем подробно останаливаться на том, что это такое и зачем нужно - просто запомните, что в таких случаях проверку надо отключать."
      ],
      "metadata": {
        "id": "G9TsLrBlx9_V"
      },
      "id": "G9TsLrBlx9_V"
    },
    {
      "cell_type": "code",
      "execution_count": null,
      "id": "141508d8-fda4-42f0-a9d7-dda859e8d64f",
      "metadata": {
        "id": "141508d8-fda4-42f0-a9d7-dda859e8d64f",
        "outputId": "8459bc6a-fae5-4844-9a91-8d803a4d67f6"
      },
      "outputs": [
        {
          "name": "stderr",
          "output_type": "stream",
          "text": [
            "C:\\ProgramData\\anaconda3\\lib\\site-packages\\urllib3\\connectionpool.py:1045: InsecureRequestWarning: Unverified HTTPS request is being made to host 'forumkinopoisk.ru'. Adding certificate verification is strongly advised. See: https://urllib3.readthedocs.io/en/1.26.x/advanced-usage.html#ssl-warnings\n",
            "  warnings.warn(\n"
          ]
        },
        {
          "data": {
            "text/plain": [
              "200"
            ]
          },
          "execution_count": 21,
          "metadata": {},
          "output_type": "execute_result"
        }
      ],
      "source": [
        "# Отправляем GET-запрос, но отключим проверку SSL-сертификата\n",
        "response = requests.get(URL, verify=False)\n",
        "response.status_code"
      ]
    },
    {
      "cell_type": "markdown",
      "source": [
        "Видим предупреждение от интерпретатора. Иногда они сигнализируют о важных, но пока не критичных проблемах. Однако сейчас они будут только мешаться."
      ],
      "metadata": {
        "id": "yQhl9bX7ygZ_"
      },
      "id": "yQhl9bX7ygZ_"
    },
    {
      "cell_type": "code",
      "execution_count": null,
      "id": "48895ef4-1917-45c2-b2c7-19c62ea26fd3",
      "metadata": {
        "id": "48895ef4-1917-45c2-b2c7-19c62ea26fd3"
      },
      "outputs": [],
      "source": [
        "#  отключим предупреждения(\"варнинги\") для всего проекта\n",
        "import warnings\n",
        "warnings.filterwarnings(\"ignore\")"
      ]
    },
    {
      "cell_type": "markdown",
      "id": "818da33c-ab29-4728-8921-474017eb7f61",
      "metadata": {
        "id": "818da33c-ab29-4728-8921-474017eb7f61"
      },
      "source": [
        "Приступим к парсингу сайта.  \n",
        "Выпишем несколько страниц из этого раздела:  \n",
        "https://forumkinopoisk.ru/forumdisplay.php?f=5&order=desc  \n",
        "https://forumkinopoisk.ru/forumdisplay.php?f=5&order=desc&page=2  \n",
        "...  \n",
        "https://forumkinopoisk.ru/forumdisplay.php?f=5&order=desc&page=13  \n",
        "https://forumkinopoisk.ru/forumdisplay.php?f=5&order=desc&page=14  \n",
        "...  \n",
        "https://forumkinopoisk.ru/forumdisplay.php?f=5&order=desc&page=464  \n",
        "https://forumkinopoisk.ru/forumdisplay.php?f=5&order=desc&page=465    \n",
        "Видим, что нумерация страниц на сайте и в url-адресе совпадают. У первой ссылки номера страницы нет, но если его подставить, то ссылка работает: https://forumkinopoisk.ru/forumdisplay.php?f=5&order=desc&page=1"
      ]
    },
    {
      "cell_type": "code",
      "execution_count": null,
      "id": "a5e77722-ff88-4d19-8653-a94983ccdf0a",
      "metadata": {
        "id": "a5e77722-ff88-4d19-8653-a94983ccdf0a"
      },
      "outputs": [],
      "source": [
        "# Напишем функцию для создания списка всех страниц\n",
        "def make_page_list(base_URL, max_number):\n",
        "    page_list=[]\n",
        "    for i in range(1, max_number+1):\n",
        "        page_list.append(base_URL+ '&page='+ str(i))\n",
        "    return page_list"
      ]
    },
    {
      "cell_type": "code",
      "execution_count": null,
      "id": "b588c038-306f-44a4-8e5b-8aeb737d9a2e",
      "metadata": {
        "id": "b588c038-306f-44a4-8e5b-8aeb737d9a2e",
        "outputId": "c1b2d6ce-406c-418c-dbff-5ffb1d53c2ed"
      },
      "outputs": [
        {
          "data": {
            "text/plain": [
              "(['https://forumkinopoisk.ru/forumdisplay.php?f=5&order=desc&page=1',\n",
              "  'https://forumkinopoisk.ru/forumdisplay.php?f=5&order=desc&page=2',\n",
              "  'https://forumkinopoisk.ru/forumdisplay.php?f=5&order=desc&page=3',\n",
              "  'https://forumkinopoisk.ru/forumdisplay.php?f=5&order=desc&page=4',\n",
              "  'https://forumkinopoisk.ru/forumdisplay.php?f=5&order=desc&page=5'],\n",
              " 'https://forumkinopoisk.ru/forumdisplay.php?f=5&order=desc&page=465')"
            ]
          },
          "execution_count": 16,
          "metadata": {},
          "output_type": "execute_result"
        }
      ],
      "source": [
        "# Создаем список страниц с использованием функции make_page_list\n",
        "page_list = make_page_list('https://forumkinopoisk.ru/forumdisplay.php?f=5&order=desc', 465)\n",
        "# Выводим первые 5 страниц и последнюю страницу из списка\n",
        "page_list[:5], page_list[-1]"
      ]
    },
    {
      "cell_type": "markdown",
      "id": "08ac887b-029a-4787-8fd1-86f2325c9591",
      "metadata": {
        "id": "08ac887b-029a-4787-8fd1-86f2325c9591"
      },
      "source": [
        "### Парсинг первой страницы"
      ]
    },
    {
      "cell_type": "markdown",
      "id": "8c323013-cc67-4be6-aea1-43fd8382e934",
      "metadata": {
        "id": "8c323013-cc67-4be6-aea1-43fd8382e934"
      },
      "source": [
        "Сначала разберемся как все работает на примере одной страницы."
      ]
    },
    {
      "cell_type": "code",
      "execution_count": null,
      "id": "3f324551-c273-4fb1-a911-69c8003ee812",
      "metadata": {
        "id": "3f324551-c273-4fb1-a911-69c8003ee812"
      },
      "outputs": [],
      "source": [
        "# Напишем функцию для отправки get-запроса и превращения его в soup\n",
        "def get_soup(URL):\n",
        "    response = requests.get(URL, verify=False)\n",
        "    soup = BeautifulSoup(response.text, 'lxml')\n",
        "    return soup"
      ]
    },
    {
      "cell_type": "code",
      "execution_count": null,
      "id": "fac77de6-6a60-415f-a8a8-5208b50e5319",
      "metadata": {
        "scrolled": true,
        "tags": [],
        "id": "fac77de6-6a60-415f-a8a8-5208b50e5319",
        "outputId": "c1271533-9300-4f56-d6f8-3cf422da7681"
      },
      "outputs": [
        {
          "name": "stderr",
          "output_type": "stream",
          "text": [
            "C:\\ProgramData\\anaconda3\\lib\\site-packages\\urllib3\\connectionpool.py:1045: InsecureRequestWarning: Unverified HTTPS request is being made to host 'forumkinopoisk.ru'. Adding certificate verification is strongly advised. See: https://urllib3.readthedocs.io/en/1.26.x/advanced-usage.html#ssl-warnings\n",
            "  warnings.warn(\n"
          ]
        },
        {
          "data": {
            "text/plain": [
              "'\\n\\n\\n\\n\\n\\n\\n\\n\\n\\n\\n\\n\\n\\n\\n\\n\\n\\n\\n\\n\\n\\nФильмы ХХI века - Форум на КиноПоиске\\n\\n\\n\\n\\n\\n\\n\\n\\n\\n\\n\\n\\n\\n\\n\\n\\n\\n\\n\\n\\n\\n\\n\\n\\n\\n\\n\\n\\n\\n\\n\\n\\n\\n\\n\\n\\n\\n\\n\\n\\xa0\\nФорум на КиноПоиске\\n> О фильмах\\n\\n\\n\\n \\r\\n\\tФильмы ХХI века\\r\\n\\r\\n\\n\\n\\n\\n\\n\\n\\n\\n\\n\\nИмя\\n\\nЗапомнить?\\n\\n\\nПароль\\n\\n\\n\\n\\n\\n\\n\\n\\n\\n\\n\\n\\n\\n\\n\\n\\n\\n\\n\\nСправка\\nПользователи\\nСоциальные группы\\nКалендарь\\nПоиск\\nСообщения за день\\nВсе разделы прочитаны\\n\\n\\n\\n\\n\\n\\n\\nФильмы ХХI века Художественные и документальные, детские и взрослые, хорошие и плохие, цветные и черно-белые. Один фильм - одна тема.\\n\\n\\n\\n\\n\\n\\n\\n\\n\\n\\n\\n\\n\\n\\n\\n\\n\\n\\n\\n\\n\\n\\nСтраница 1 из 465\\n1\\n231151101\\n>\\nПоследняя »\\n\\n\\n\\n\\n\\n\\n\\n\\nТемы раздела : Фильмы ХХI века\\nОпции раздела \\nИскать в этом разделе\\n\\n\\n\\n\\n\\n\\n\\n\\nПросмотров: 1,064 \\nОбъявление: Премия ФКП: Топ 100 лучших фильмов ужасов, Премия ФКП 1931: Выбор форума [лауреаты]\\n\\n\\n31.07.2023\\n\\nOrientir\\r\\n\\t\\t\\t\\t(Firefly)\\r\\n\\t\\t\\t\\n\\n\\n\\n\\n\\xa0\\n\\nТема  /\\r\\n\\t\\tАвтор\\n\\nПоследнее сообщение \\nОтветов \\nПросмотров \\n\\n\\n\\n\\n\\n\\n\\n\\n\\n\\n\\n\\n\\n\\n!\\nПравила раздела\\n\\n\\nJohn Doe\\n\\n\\n\\n\\r\\n\\t\\t\\t10.01.2007 18:00\\r\\n\\t\\t\\tот John Doe \\n\\n\\n4\\n76,409\\n\\n\\n\\n\\n\\n\\n\\n\\n\\n\\n \\n\\nХэллоуин заканчивается (Halloween Ends)\\n( 1 2 3 ... Последняя страница)\\n\\n\\nDandyAndy\\n\\n\\n\\n\\r\\n\\t\\t\\tСегодня 18:37\\r\\n\\t\\t\\tот Генозавр \\n\\n\\n116\\n22,072\\n\\n\\n\\n\\n\\n\\n\\n\\n\\n \\n\\nЧеловек-паук: Нет пути домой (Spider-Man: No Way Home)\\n( 1 2 3 ... Последняя страница)\\n\\n\\nRote\\n\\n\\n\\n\\r\\n\\t\\t\\tСегодня 17:12\\r\\n\\t\\t\\tот bigbanan \\n\\n\\n8,770\\n1,151,565\\n\\n\\n\\n\\n\\n\\n\\n\\n \\n\\nОтряд самоубийц (Suicide Squad)\\n( 1 2 3 ... Последняя страница)\\n\\n\\nСтальной Детройт\\n\\n\\n\\n\\r\\n\\t\\t\\tСегодня 16:03\\r\\n\\t\\t\\tот LUCIFER \\n\\n\\n8,440\\n1,413,478\\n\\n\\n\\n\\n\\n\\n\\n\\n \\n\\nФредди против Джейсона (Freddy vs. Jason)\\n( 1 2 3 ... Последняя страница)\\n\\n\\nfreddy\\n\\n\\n\\n\\r\\n\\t\\t\\tСегодня 15:55\\r\\n\\t\\t\\tот Генозавр \\n\\n\\n1,526\\n162,029\\n\\n\\n\\n\\n\\n\\n\\n\\n \\n\\nОпасный друг (Good Boy)\\n\\n\\nPsyhoze\\n\\n\\n\\n\\r\\n\\t\\t\\tСегодня 14:24\\r\\n\\t\\t\\tот Psyhoze \\n\\n\\n8\\n1,002\\n\\n\\n\\n\\n\\n\\n\\n\\n\\n \\n\\nОднажды в… Голливуде (Once Upon a Time ... in Hollywood)\\n( 1 2 3 ... Последняя страница)\\n\\n\\nLittle black dress\\n\\n\\n\\n\\r\\n\\t\\t\\tСегодня 13:17\\r\\n\\t\\t\\tот euro-banan \\n\\n\\n3,869\\n494,667\\n\\n\\n\\n\\n\\n\\n\\n\\n\\n \\n\\nСоциальная сеть (The Social Network)\\n( 1 2 3 ... Последняя страница)\\n\\n\\nWaldemar\\n\\n\\n\\n\\r\\n\\t\\t\\tСегодня 10:06\\r\\n\\t\\t\\tот YHWH \\n\\n\\n2,405\\n295,719\\n\\n\\n\\n\\n\\n\\n\\n\\n\\n \\n\\nФлэш (The Flash)\\n( 1 2 3 ... Последняя страница)\\n\\n\\nDandyAndy\\n\\n\\n\\n\\r\\n\\t\\t\\tСегодня 09:10\\r\\n\\t\\t\\tот Гатлий Щуч \\n\\n\\n3,326\\n407,470\\n\\n\\n\\n\\n\\n\\n\\nБеллфлауэр, Калифорния (Bellflower)\\n\\n\\nMysteryMan\\n\\n\\n\\n\\r\\n\\t\\t\\tСегодня 07:09\\r\\n\\t\\t\\tот Darien \\n\\n\\n3\\n2,386\\n\\n\\n\\n\\n\\n\\n\\n\\n\\n \\n\\nПомнить (Remember)\\n\\n\\nupdater\\n\\n\\n\\n\\r\\n\\t\\t\\tСегодня 07:04\\r\\n\\t\\t\\tот koffyn \\n\\n\\n23\\n6,757\\n\\n\\n\\n\\n\\n\\n\\n\\n\\n \\n\\nЭлементарно (Elemental)\\n( 1 2 3 ... Последняя страница)\\n\\n\\nDandyAndy\\n\\n\\n\\n\\r\\n\\t\\t\\tВчера 21:04\\r\\n\\t\\t\\tот Hiro Hamada \\n\\n\\n121\\n16,415\\n\\n\\n\\n\\n\\n\\n\\n\\n\\n \\n\\nВойна миров Z (World War Z)\\n( 1 2 3 ... Последняя страница)\\n\\n\\nЖивой МЕРТВЕЦ\\n\\n\\n\\n\\r\\n\\t\\t\\tВчера 20:46\\r\\n\\t\\t\\tот bigbanan \\n\\n\\n2,182\\n368,865\\n\\n\\n\\n\\n\\n\\n\\n\\n \\n\\nВэлиант: Пернатый спецназ (Valiant)\\n( 1 2 3)\\n\\n\\ngidr\\n\\n\\n\\n\\r\\n\\t\\t\\tВчера 19:23\\r\\n\\t\\t\\tот Сумён Петрович \\n\\n\\n57\\n6,961\\n\\n\\n\\n\\n\\n\\n\\nСигнал (The Signal)\\n( 1 2 3)\\n\\n\\nДензел\\n\\n\\n\\n\\r\\n\\t\\t\\tВчера 19:07\\r\\n\\t\\t\\tот Пелагея \\n\\n\\n68\\n15,077\\n\\n\\n\\n\\n\\n\\n\\n\\n\\n \\n\\nСердце Стоун (Heart Of Stone)\\n( 1 2 3)\\n\\n\\nDandyAndy\\n\\n\\n\\n\\r\\n\\t\\t\\tВчера 16:10\\r\\n\\t\\t\\tот gearswik \\n\\n\\n58\\n10,490\\n\\n\\n\\n\\n\\n\\n\\n\\n\\n \\n\\nТерминатор: Тёмные судьбы (Terminator: Dark Fate)\\n( 1 2 3 ... Последняя страница)\\n\\n\\nСтальной Детройт\\n\\n\\n\\n\\r\\n\\t\\t\\tВчера 15:58\\r\\n\\t\\t\\tот VitoKorleone \\n\\n\\n3,604\\n446,775\\n\\n\\n\\n\\n\\n\\n\\n\\n \\n\\nПодземелья и драконы: Честь среди воров (Dungeons & Dragons: Honor Among Thieves)\\n( 1 2 3 ... Последняя страница)\\n\\n\\nThorongiL\\n\\n\\n\\n\\r\\n\\t\\t\\tВчера 14:04\\r\\n\\t\\t\\tот Брэнд \\n\\n\\n461\\n68,977\\n\\n\\n\\n\\n\\n\\n\\n\\n \\n\\nБессонница (Insomnia)\\n( 1 2 3 ... Последняя страница)\\n\\n\\nАлексей\\n\\n\\n\\n\\r\\n\\t\\t\\tВчера 10:05\\r\\n\\t\\t\\tот MementoMori \\n\\n\\n183\\n28,618\\n\\n\\n\\n\\n\\n\\n\\n\\n\\n \\n\\nБез обид (No Hard Feelings)\\n( 1 2 3)\\n\\n\\nThorongiL\\n\\n\\n\\n\\r\\n\\t\\t\\tВчера 08:46\\r\\n\\t\\t\\tот Пелагея \\n\\n\\n69\\n10,776\\n\\n\\n\\n\\n\\n\\n\\n\\n\\n \\n\\nНе время умирать (No Time to Die)\\n( 1 2 3 ... Последняя страница)\\n\\n\\nЖивой МЕРТВЕЦ\\n\\n\\n\\n\\r\\n\\t\\t\\t18.08.2023 22:56\\r\\n\\t\\t\\tот Простозритель \\n\\n\\n2,371\\n348,993\\n\\n\\n\\n\\n\\n\\n\\n\\n \\n\\nМексиканец (The Mexican)\\n( 1 2 3 ... Последняя страница)\\n\\n\\nРомочка\\n\\n\\n\\n\\r\\n\\t\\t\\t18.08.2023 22:29\\r\\n\\t\\t\\tот psid \\n\\n\\n99\\n12,125\\n\\n\\n\\n\\n\\n\\n\\n\\n\\n \\n\\nЧёрная Пантера: Ваканда навеки (Black Panther: Wakanda Forever)\\n( 1 2 3 ... Последняя страница)\\n\\n\\nSkorsteensfeieren\\n\\n\\n\\n\\r\\n\\t\\t\\t18.08.2023 21:15\\r\\n\\t\\t\\tот MementoMori \\n\\n\\n1,032\\n169,689\\n\\n\\n\\n\\n\\n\\n\\n\\n \\n\\nЯ краснею (Turning Red)\\n( 1 2 3 ... Последняя страница)\\n\\n\\nThorongiL\\n\\n\\n\\n\\r\\n\\t\\t\\t18.08.2023 18:50\\r\\n\\t\\t\\tот Сумён Петрович \\n\\n\\n125\\n20,831\\n\\n\\n\\n\\n\\n\\n\\n\\n\\n \\n\\nСудья Дредд 3D (Dredd 3D)\\n( 1 2 3 ... Последняя страница)\\n\\n\\nЖивой МЕРТВЕЦ\\n\\n\\n\\n\\r\\n\\t\\t\\t18.08.2023 17:59\\r\\n\\t\\t\\tот Vein \\n\\n\\n2,334\\n355,721\\n\\n\\n\\n\\n\\n\\n\\n\\n \\n\\nЧеловек-паук: Паутина вселенных (Spider-Man: Across the Spider-Verse)\\n( 1 2 3 ... Последняя страница)\\n\\n\\nThorongiL\\n\\n\\n\\n\\r\\n\\t\\t\\t18.08.2023 15:12\\r\\n\\t\\t\\tот Sinyor \\n\\n\\n501\\n60,290\\n\\n\\n\\n\\n\\n\\n\\n\\n\\n \\n\\nДобыча (Prey)\\n( 1 2 3 ... Последняя страница)\\n\\n\\nDandyAndy\\n\\n\\n\\n\\r\\n\\t\\t\\t18.08.2023 07:05\\r\\n\\t\\t\\tот Дормидонт Евлампиевич \\n\\n\\n2,017\\n286,089\\n\\n\\n\\n\\n\\n\\n\\nЧудаки (Jackass 4)\\n( 1 2)\\n\\n\\nThorongiL\\n\\n\\n\\n\\r\\n\\t\\t\\t17.08.2023 22:14\\r\\n\\t\\t\\tот MementoMori \\n\\n\\n35\\n6,707\\n\\n\\n\\n\\n\\n\\n\\n\\n\\n \\n\\nЧёрная Вдова (Black Widow)\\n( 1 2 3 ... Последняя страница)\\n\\n\\nDаrk Dreamer\\n\\n\\n\\n\\r\\n\\t\\t\\t17.08.2023 21:59\\r\\n\\t\\t\\tот Dark_Hierophant \\n\\n\\n2,012\\n379,722\\n\\n\\n\\n\\n\\n\\n\\n\\n\\n \\n\\nХалк (Hulk)\\n( 1 2 3 ... Последняя страница)\\n\\n\\nPOTTER\\n\\n\\n\\n\\r\\n\\t\\t\\t17.08.2023 16:18\\r\\n\\t\\t\\tот mastholte rietberg \\n\\n\\n337\\n42,304\\n\\n\\n\\n\\n\\n\\n\\n\\n\\n \\n\\nПоследняя дуэль (The Last Duel)\\n( 1 2 3 ... Последняя страница)\\n\\n\\nDandyAndy\\n\\n\\n\\n\\r\\n\\t\\t\\t17.08.2023 12:31\\r\\n\\t\\t\\tот mastholte rietberg \\n\\n\\n1,313\\n283,512\\n\\n\\n\\n\\n\\n\\n\\n\\n\\n\\n\\nСтраница 1 из 465\\n1\\n231151101\\n>\\nПоследняя »\\n\\n\\n\\n\\n\\n\\n\\n\\n\\n\\n\\n\\n\\n\\n\\n\\n\\n\\n\\n\\n\\n\\nОпции просмотра\\nПрисутствуют\\nМодераторы\\n\\n\\nПоказаны темы с 1 по 30 из 13950\\n34 (Пользователей: 1, гостей: 33)\\nМодераторы : 2\\n\\n\\n\\n\\n\\n\\nКритерий сортировки\\n\\nНазвание\\nДата обновления\\nДата начала темы\\nЧисло ответов\\nЧисло просмотров\\nАвтор\\n\\n\\n\\nПорядок отображения\\n\\nвозрастанию\\nубыванию\\n\\n\\n\\nПоказать\\n\\nза последний день\\nза последние 2 дня\\nза последнюю неделю\\nза последние 10 дней\\nза последние 2 недели\\nза последний месяц\\nза последние 45 дней\\nза последние 2 месяца\\nза последние 75 дней\\nза последние 100 дней\\nза последний год\\nс самого начала\\n\\n\\n\\n\\n\\r\\n\\t\\t\\t\\r\\n\\t\\t\\t\\t\\xa0\\r\\n\\t\\t\\t\\r\\n\\t\\t\\t\\n\\n\\n\\n\\n\\n\\nJmpR\\nAmore, Frumpel\\xa0\\n\\n\\n\\n\\n\\n\\n\\nОпции раздела\\nИскать в этом разделе\\n\\n\\n\\n\\n\\n Отметить раздел прочитанным\\n Показать родительский раздел\\n\\n\\n\\n\\n\\n\\n\\n\\n\\n\\n\\n\\n\\nИскать в этом разделе :\\n\\nРасширенный поиск\\n\\n\\n\\n\\n\\n\\n\\n\\n\\n\\n\\n\\n\\n\\n\\nНовые сообщения\\n\\nПопулярная тема с новыми сообщениями\\n\\n\\n\\nНет новых сообщений\\n\\nПопулярная тема без новых сообщений\\n\\n\\n\\nТема закрыта\\n\\xa0\\n\\n\\n\\n\\n\\n\\n\\n\\xa0\\n\\n\\n\\n\\n\\r\\n\\t\\tВаши права в разделе\\r\\n\\t\\n\\n\\n\\n\\n\\nВы не можете создавать новые темы\\nВы не можете отвечать в темах\\nВы не можете прикреплять вложения\\nВы не можете редактировать свои сообщения\\n\\nBB коды Вкл.\\nСмайлы Вкл.\\n[IMG] код Вкл.\\nHTML код Выкл.\\n\\nПравила форума\\n\\n\\n\\n\\n\\n\\n\\n\\n\\n\\nБыстрый переход\\n\\n\\nМой кабинет\\nЛичные сообщения\\nПодписки\\nКто на форуме\\nПоиск по форуму\\nГлавная страница форума\\n\\n\\n О фильмах\\n\\xa0 \\xa0  Фильмы ХХI века\\n\\xa0 \\xa0  Сегодня в кино\\n\\xa0 \\xa0  Скоро в кино\\n\\xa0 \\xa0 \\xa0 \\xa0  Кино в разработке\\n\\xa0 \\xa0 \\xa0 \\xa0  Кино в заморозке и на полке\\n\\xa0 \\xa0  Фильмы ХХ века\\n\\xa0 \\xa0  Поиск фильмов\\n\\xa0 \\xa0 \\xa0 \\xa0  Найденное\\n\\xa0 \\xa0 \\xa0 \\xa0  Тематические рекомендации\\n Прочее\\n\\xa0 \\xa0  О кино\\n\\xa0 \\xa0 \\xa0 \\xa0  Лучшая премьера месяца и киноитоги разных лет (архив)\\n\\xa0 \\xa0 \\xa0 \\xa0  Кинонаграды и кинофестивали. Прогнозы по кинонаградам (архив)\\n\\xa0 \\xa0  Действующие лица\\n\\xa0 \\xa0 \\xa0 \\xa0  Около Кино\\n\\xa0 \\xa0 \\xa0 \\xa0  Рейтинги кинодеятелей\\n\\xa0 \\xa0  Сериалы\\n\\xa0 \\xa0 \\xa0 \\xa0  Награды, рейтинги и общие сериальные темы\\n\\xa0 \\xa0  Видеосалон\\n\\xa0 \\xa0  Киномузыка\\n\\xa0 \\xa0 \\xa0 \\xa0  Поиск саундтреков\\n\\xa0 \\xa0 \\xa0 \\xa0  Композиторы\\n Бонус\\n\\xa0 \\xa0  Трёп\\n\\xa0 \\xa0 \\xa0 \\xa0  Компьютерные игры\\n\\xa0 \\xa0 \\xa0 \\xa0  Спорт и спортивные прогнозы\\n\\xa0 \\xa0 \\xa0 \\xa0  Архив\\n\\xa0 \\xa0  Кино-игры\\n\\xa0 \\xa0 \\xa0 \\xa0  Игра: Угадай бокс-офис США!\\n\\xa0 \\xa0 \\xa0 \\xa0  Командный турнир\\n\\xa0 \\xa0 \\xa0 \\xa0  Игра: Угадай бокс-офис России!\\n\\xa0 \\xa0  Форум КиноПоиск.ru\\n\\xa0 \\xa0  Выбираем лучшее на КиноПоиске\\n\\xa0 \\xa0 \\xa0 \\xa0  Опросы на КиноПоиске\\n\\xa0 \\xa0 \\xa0 \\xa0  Активные конкурсы\\n\\xa0 \\xa0 \\xa0 \\xa0  Архив конкурсов\\n\\xa0 \\xa0 \\xa0 \\xa0  Победители конкурсов\\n\\n\\n\\n\\n\\n\\n\\n\\n\\nЧасовой пояс GMT +3, время: 18:44.\\n\\n\\n\\n\\n\\n\\n\\n\\n\\n\\n\\n\\n-- English (US)\\n-- Русский язык\\n\\n\\n\\n\\n\\n\\nОбратная связь -\\r\\n\\t\\t\\t\\tФорум на КиноПоиске -\\r\\n\\t\\t\\t\\t\\r\\n\\t\\t\\t\\t\\r\\n\\t\\t\\t\\tАрхив -\\r\\n\\t\\t\\t\\t\\r\\n\\t\\t\\t\\t\\r\\n\\t\\t\\t\\tВверх\\n\\n\\n\\n\\n\\n\\n\\n\\n\\n\\r\\n\\r\\n\\t© КиноПоиск.ru - Найди своё кино!\\r\\n\\t\\n\\n\\n\\n\\n\\n\\n\\n\\n\\n\\n\\n\\n'"
            ]
          },
          "execution_count": 27,
          "metadata": {},
          "output_type": "execute_result"
        }
      ],
      "source": [
        "# Получим soup для первой страницы из списка page_list и извлекаем текстовое содержимое страницы\n",
        "soup = get_soup(page_list[0])\n",
        "soup.text"
      ]
    },
    {
      "cell_type": "code",
      "execution_count": null,
      "id": "a9038d61-01d5-4efe-a2a3-30663390ed3f",
      "metadata": {
        "id": "a9038d61-01d5-4efe-a2a3-30663390ed3f"
      },
      "outputs": [],
      "source": [
        "# Находим элемент таблицы с помощью BeautifulSoup на основе указанных атрибутов\n",
        "table = soup.find('tbody', attrs = {\"id\": \"threadbits_forum_5\"})"
      ]
    },
    {
      "cell_type": "code",
      "execution_count": null,
      "id": "709930b5-dcae-42fb-9ad5-f53847e642aa",
      "metadata": {
        "id": "709930b5-dcae-42fb-9ad5-f53847e642aa"
      },
      "outputs": [],
      "source": [
        "# Находим все ячейки в указанной строке таблицы\n",
        "cells = table.find_all('tr')[5].find_all('td')"
      ]
    },
    {
      "cell_type": "code",
      "execution_count": null,
      "id": "65f1ec82-46ac-4e98-9c24-886671cc8f35",
      "metadata": {
        "scrolled": true,
        "tags": [],
        "id": "65f1ec82-46ac-4e98-9c24-886671cc8f35",
        "outputId": "c0859fa0-e4a1-457a-eb0f-3408addb14af"
      },
      "outputs": [
        {
          "data": {
            "text/plain": [
              "<td class=\"alt1\" id=\"td_threadtitle_280664\" title=\"Опасный друг || Good Boy  \n",
              " \n",
              "https://i.ibb.co/72MNzsC/4373222-imdb-logo-logos-icon.png \n",
              " \n",
              "https://i.ibb.co/2PCYm2C/W1500-51871763.jpg \n",
              " \n",
              "Сюжет:\">\n",
              "<div>\n",
              "<span style=\"float:right\">\n",
              "<a href=\"#\" onclick=\"attachments(280664); return false\"> <img alt=\"Вложений: 4\" border=\"0\" class=\"inlineimg\" src=\"images/misc/paperclip.gif\"/></a>\n",
              "</span>\n",
              "<a href=\"showthread.php?s=0e59d367e69d8e505515fa4dc9284de3&amp;t=280664\" id=\"thread_title_280664\">Опасный друг (Good Boy)</a>\n",
              "</div>\n",
              "<div class=\"smallfont\">\n",
              "<span onclick=\"window.open('member.php?s=0e59d367e69d8e505515fa4dc9284de3&amp;u=732960', '_self')\" style=\"cursor:pointer\">Psyhoze</span>\n",
              "</div>\n",
              "</td>"
            ]
          },
          "execution_count": 33,
          "metadata": {},
          "output_type": "execute_result"
        }
      ],
      "source": [
        "# Возвращаем третью ячейку (с индексом 2) из списка ячеек\n",
        "cells[2]"
      ]
    },
    {
      "cell_type": "markdown",
      "source": [
        "Видим, что в ячейке в перемешку лежит много разной информации."
      ],
      "metadata": {
        "id": "8zzLYj2G0VX0"
      },
      "id": "8zzLYj2G0VX0"
    },
    {
      "cell_type": "code",
      "execution_count": null,
      "id": "5722cf27-c2a4-4a11-85a8-57fad0e62e90",
      "metadata": {
        "id": "5722cf27-c2a4-4a11-85a8-57fad0e62e90",
        "outputId": "cb4c180a-c805-4869-942a-7c87341ff6e4"
      },
      "outputs": [
        {
          "data": {
            "text/plain": [
              "<a href=\"showthread.php?s=0e59d367e69d8e505515fa4dc9284de3&amp;t=280664\" id=\"thread_title_280664\">Опасный друг (Good Boy)</a>"
            ]
          },
          "execution_count": 35,
          "metadata": {},
          "output_type": "execute_result"
        }
      ],
      "source": [
        "#  рассмотрим только элемент содержащий название треда\n",
        "cells[2].find_all('a')[1]"
      ]
    },
    {
      "cell_type": "code",
      "execution_count": null,
      "id": "8a0373e3-7567-4c59-958e-e4eaadf5e6c0",
      "metadata": {
        "id": "8a0373e3-7567-4c59-958e-e4eaadf5e6c0",
        "outputId": "f97801b9-4347-423d-b663-2b64c2c9cd35"
      },
      "outputs": [
        {
          "name": "stdout",
          "output_type": "stream",
          "text": [
            "Опасный друг (Good Boy) showthread.php?s=0e59d367e69d8e505515fa4dc9284de3&t=280664\n"
          ]
        }
      ],
      "source": [
        "# пройдемся по всем тегам <a> и обработаем только то, где есть аттрибут id\n",
        "for a in cells[2].find_all('a'):\n",
        "    if 'id' in a.attrs:\n",
        "        name = a.text\n",
        "        thread_url = a['href']\n",
        "        break\n",
        "print(name, thread_url)"
      ]
    },
    {
      "cell_type": "markdown",
      "id": "1252b9e1-7784-410b-8cac-d3756a0b072b",
      "metadata": {
        "id": "1252b9e1-7784-410b-8cac-d3756a0b072b"
      },
      "source": [
        "Если мы зайдем на тред через сайт, то увидим, что ссылка выглядит так https://forumkinopoisk.ru/showthread.php?t=280664.   \n",
        "Однако ссылка, полученная парсингом и прибавлением адреса сайта (https://forumkinopoisk.ru/), https://forumkinopoisk.ru/showthread.php?s=0e59d367e69d8e505515fa4dc9284de3&t=280664 - тоже рабочая."
      ]
    },
    {
      "cell_type": "code",
      "execution_count": null,
      "id": "436c14f8-bcd5-41db-8d70-fdaecf57b950",
      "metadata": {
        "id": "436c14f8-bcd5-41db-8d70-fdaecf57b950",
        "outputId": "fc076a1e-0e31-444b-d8a5-42df36b5c517"
      },
      "outputs": [
        {
          "data": {
            "text/plain": [
              "('8', '1,002')"
            ]
          },
          "execution_count": 39,
          "metadata": {},
          "output_type": "execute_result"
        }
      ],
      "source": [
        "#  С остальными данными все просто\n",
        "cells[4].text, cells[5].text"
      ]
    },
    {
      "cell_type": "markdown",
      "id": "049c21c6-b04b-46be-991b-9f69f7724ec6",
      "metadata": {
        "id": "049c21c6-b04b-46be-991b-9f69f7724ec6"
      },
      "source": [
        "Оформим все это в функции"
      ]
    },
    {
      "cell_type": "code",
      "execution_count": null,
      "id": "04722a16-5713-4a44-bafc-bc6d84d50b4b",
      "metadata": {
        "id": "04722a16-5713-4a44-bafc-bc6d84d50b4b"
      },
      "outputs": [],
      "source": [
        "# Функция парсинга ячейки с именем\n",
        "def parse_name_cell(cell):\n",
        "    for a in cell.find_all('a'):\n",
        "        if 'id' in a.attrs:\n",
        "            name = a.text\n",
        "            thread_url = \"https://forumkinopoisk.ru/\" + a['href']\n",
        "            return (name, thread_url)"
      ]
    },
    {
      "cell_type": "code",
      "execution_count": null,
      "id": "e5d2c587-e216-4c8e-894e-9236738c0586",
      "metadata": {
        "id": "e5d2c587-e216-4c8e-894e-9236738c0586"
      },
      "outputs": [],
      "source": [
        "# Функция парсинга одной таблицы\n",
        "def parse_table(table):\n",
        "    content=[]\n",
        "    for row in table.find_all('tr'):\n",
        "        if not row.find_all('th'):\n",
        "            try:\n",
        "                cells = row.find_all('td')\n",
        "                name, thread_url = parse_name_cell(cells[2])\n",
        "                if name == \"Правила раздела\":\n",
        "                    continue\n",
        "                answer_amount = cells[4].text\n",
        "                views_amount = cells[5].text\n",
        "                content.append([name, thread_url, answer_amount, views_amount])\n",
        "            except (IndexError, TypeError, KeyError):\n",
        "                pass\n",
        "    table_df  = pd.DataFrame(content, columns=[\"name\", \"thread_url\", \"answer_amount\", \"views_amount\"])\n",
        "    return table_df"
      ]
    },
    {
      "cell_type": "code",
      "execution_count": null,
      "id": "43fa950d-6299-4dfd-8f0a-64ed70030d48",
      "metadata": {
        "id": "43fa950d-6299-4dfd-8f0a-64ed70030d48",
        "outputId": "b0fa59ab-09b6-4d6f-98f6-c2b6ad2f4447"
      },
      "outputs": [
        {
          "data": {
            "text/html": [
              "<div>\n",
              "<style scoped>\n",
              "    .dataframe tbody tr th:only-of-type {\n",
              "        vertical-align: middle;\n",
              "    }\n",
              "\n",
              "    .dataframe tbody tr th {\n",
              "        vertical-align: top;\n",
              "    }\n",
              "\n",
              "    .dataframe thead th {\n",
              "        text-align: right;\n",
              "    }\n",
              "</style>\n",
              "<table border=\"1\" class=\"dataframe\">\n",
              "  <thead>\n",
              "    <tr style=\"text-align: right;\">\n",
              "      <th></th>\n",
              "      <th>name</th>\n",
              "      <th>thread_url</th>\n",
              "      <th>answer_amount</th>\n",
              "      <th>views_amount</th>\n",
              "    </tr>\n",
              "  </thead>\n",
              "  <tbody>\n",
              "    <tr>\n",
              "      <th>0</th>\n",
              "      <td>Хэллоуин заканчивается (Halloween Ends)</td>\n",
              "      <td>https://forumkinopoisk.ru/showthread.php?s=0e5...</td>\n",
              "      <td>116</td>\n",
              "      <td>22,072</td>\n",
              "    </tr>\n",
              "    <tr>\n",
              "      <th>1</th>\n",
              "      <td>Человек-паук: Нет пути домой (Spider-Man: No W...</td>\n",
              "      <td>https://forumkinopoisk.ru/showthread.php?s=0e5...</td>\n",
              "      <td>8,770</td>\n",
              "      <td>1,151,565</td>\n",
              "    </tr>\n",
              "    <tr>\n",
              "      <th>2</th>\n",
              "      <td>Отряд самоубийц (Suicide Squad)</td>\n",
              "      <td>https://forumkinopoisk.ru/showthread.php?s=0e5...</td>\n",
              "      <td>8,440</td>\n",
              "      <td>1,413,478</td>\n",
              "    </tr>\n",
              "    <tr>\n",
              "      <th>3</th>\n",
              "      <td>Фредди против Джейсона (Freddy vs. Jason)</td>\n",
              "      <td>https://forumkinopoisk.ru/showthread.php?s=0e5...</td>\n",
              "      <td>1,526</td>\n",
              "      <td>162,029</td>\n",
              "    </tr>\n",
              "    <tr>\n",
              "      <th>4</th>\n",
              "      <td>Опасный друг (Good Boy)</td>\n",
              "      <td>https://forumkinopoisk.ru/showthread.php?s=0e5...</td>\n",
              "      <td>8</td>\n",
              "      <td>1,002</td>\n",
              "    </tr>\n",
              "  </tbody>\n",
              "</table>\n",
              "</div>"
            ],
            "text/plain": [
              "                                                name  \\\n",
              "0            Хэллоуин заканчивается (Halloween Ends)   \n",
              "1  Человек-паук: Нет пути домой (Spider-Man: No W...   \n",
              "2                    Отряд самоубийц (Suicide Squad)   \n",
              "3          Фредди против Джейсона (Freddy vs. Jason)   \n",
              "4                            Опасный друг (Good Boy)   \n",
              "\n",
              "                                          thread_url answer_amount  \\\n",
              "0  https://forumkinopoisk.ru/showthread.php?s=0e5...           116   \n",
              "1  https://forumkinopoisk.ru/showthread.php?s=0e5...         8,770   \n",
              "2  https://forumkinopoisk.ru/showthread.php?s=0e5...         8,440   \n",
              "3  https://forumkinopoisk.ru/showthread.php?s=0e5...         1,526   \n",
              "4  https://forumkinopoisk.ru/showthread.php?s=0e5...             8   \n",
              "\n",
              "  views_amount  \n",
              "0       22,072  \n",
              "1    1,151,565  \n",
              "2    1,413,478  \n",
              "3      162,029  \n",
              "4        1,002  "
            ]
          },
          "execution_count": 54,
          "metadata": {},
          "output_type": "execute_result"
        }
      ],
      "source": [
        "#  оформим результат в таблицу\n",
        "table_df = parse_table(table)\n",
        "table_df.head()"
      ]
    },
    {
      "cell_type": "markdown",
      "id": "e43330cf-9104-49b3-85e1-c62f2a59d3be",
      "metadata": {
        "id": "e43330cf-9104-49b3-85e1-c62f2a59d3be"
      },
      "source": [
        "### Парсинг всех таблиц"
      ]
    },
    {
      "cell_type": "code",
      "execution_count": null,
      "id": "278f08d7-d5d1-4663-8c0c-e61686509c18",
      "metadata": {
        "id": "278f08d7-d5d1-4663-8c0c-e61686509c18"
      },
      "outputs": [],
      "source": [
        "# импортируем библиотеку для прогресс-бара\n",
        "from tqdm import tqdm"
      ]
    },
    {
      "cell_type": "markdown",
      "source": [
        "tqdm библиотека нужна для удобного остлеживания прогресса."
      ],
      "metadata": {
        "id": "-fDuSRyy154s"
      },
      "id": "-fDuSRyy154s"
    },
    {
      "cell_type": "code",
      "execution_count": null,
      "id": "48c072f4-4427-4cb8-9252-8a5d9711a139",
      "metadata": {
        "id": "48c072f4-4427-4cb8-9252-8a5d9711a139"
      },
      "outputs": [],
      "source": [
        "#  импортируем библиотеку времени\n",
        "import time"
      ]
    },
    {
      "cell_type": "code",
      "execution_count": null,
      "id": "c148ee84-9ed1-471e-9a20-9d81459cfd50",
      "metadata": {
        "id": "c148ee84-9ed1-471e-9a20-9d81459cfd50",
        "outputId": "c29eedf0-d2fc-41fb-f24a-7af28d21ea39"
      },
      "outputs": [
        {
          "name": "stdout",
          "output_type": "stream",
          "text": [
            "hello\n",
            "world\n"
          ]
        }
      ],
      "source": [
        "# посмотрим как работает sleep таймер\n",
        "print(\"hello\")\n",
        "time.sleep(5)\n",
        "print(\"world\")"
      ]
    },
    {
      "cell_type": "markdown",
      "source": [
        "Часто в сайты встроена защита от кроулинга: если слишком много зарпосов подряд идет с одного кмопьютера, то все его запросы будут блокироваться. Это исправляется добавлением sleep таймера между отправкой запросов. Это действие решает проблему с блокировкой, но значительно замедляет сбор ифнормации. В данном случае сайт не имет подобной защиты, поэтому мы не будем использовать таймер."
      ],
      "metadata": {
        "id": "D75DCbbS1Rym"
      },
      "id": "D75DCbbS1Rym"
    },
    {
      "cell_type": "code",
      "execution_count": null,
      "id": "96c2c918-5490-4a9b-9126-22b9211bb16f",
      "metadata": {
        "scrolled": true,
        "tags": [],
        "id": "96c2c918-5490-4a9b-9126-22b9211bb16f",
        "outputId": "4f62e038-5347-41db-96f4-f5fd2ce7ee74"
      },
      "outputs": [
        {
          "name": "stderr",
          "output_type": "stream",
          "text": [
            "100%|██████████| 465/465 [01:35<00:00,  4.85it/s]\n"
          ]
        }
      ],
      "source": [
        "# пройдемся по всем старницам, распарсим таблицы, и добавим их к финальному дадасету\n",
        "big_df = pd.DataFrame()\n",
        "for page in tqdm(page_list):\n",
        "    soup = get_soup(page)\n",
        "    table = soup.find('tbody', attrs = {\"id\": \"threadbits_forum_5\"})\n",
        "    table_df = parse_table(table)\n",
        "    big_df = pd.concat([big_df, table_df], ignore_index=True)\n",
        "    # time.sleep(5)"
      ]
    },
    {
      "cell_type": "code",
      "execution_count": null,
      "id": "e38f76bb-e79a-4f65-b9de-5a5bdd602ea6",
      "metadata": {
        "scrolled": true,
        "tags": [],
        "id": "e38f76bb-e79a-4f65-b9de-5a5bdd602ea6",
        "outputId": "5646a2d0-1fb9-4072-fd1e-782be9e27fad"
      },
      "outputs": [
        {
          "data": {
            "text/html": [
              "<div>\n",
              "<style scoped>\n",
              "    .dataframe tbody tr th:only-of-type {\n",
              "        vertical-align: middle;\n",
              "    }\n",
              "\n",
              "    .dataframe tbody tr th {\n",
              "        vertical-align: top;\n",
              "    }\n",
              "\n",
              "    .dataframe thead th {\n",
              "        text-align: right;\n",
              "    }\n",
              "</style>\n",
              "<table border=\"1\" class=\"dataframe\">\n",
              "  <thead>\n",
              "    <tr style=\"text-align: right;\">\n",
              "      <th></th>\n",
              "      <th>name</th>\n",
              "      <th>thread_url</th>\n",
              "      <th>answer_amount</th>\n",
              "      <th>views_amount</th>\n",
              "    </tr>\n",
              "  </thead>\n",
              "  <tbody>\n",
              "    <tr>\n",
              "      <th>0</th>\n",
              "      <td>Ты ранил мои чувства (You Hurt My Feelings)</td>\n",
              "      <td>https://forumkinopoisk.ru/showthread.php?s=c20...</td>\n",
              "      <td>2</td>\n",
              "      <td>544</td>\n",
              "    </tr>\n",
              "    <tr>\n",
              "      <th>1</th>\n",
              "      <td>Хэллоуин заканчивается (Halloween Ends)</td>\n",
              "      <td>https://forumkinopoisk.ru/showthread.php?s=c20...</td>\n",
              "      <td>116</td>\n",
              "      <td>22,100</td>\n",
              "    </tr>\n",
              "    <tr>\n",
              "      <th>2</th>\n",
              "      <td>Человек-паук: Нет пути домой (Spider-Man: No W...</td>\n",
              "      <td>https://forumkinopoisk.ru/showthread.php?s=c20...</td>\n",
              "      <td>8,770</td>\n",
              "      <td>1,151,595</td>\n",
              "    </tr>\n",
              "    <tr>\n",
              "      <th>3</th>\n",
              "      <td>Отряд самоубийц (Suicide Squad)</td>\n",
              "      <td>https://forumkinopoisk.ru/showthread.php?s=c20...</td>\n",
              "      <td>8,440</td>\n",
              "      <td>1,413,498</td>\n",
              "    </tr>\n",
              "    <tr>\n",
              "      <th>4</th>\n",
              "      <td>Фредди против Джейсона (Freddy vs. Jason)</td>\n",
              "      <td>https://forumkinopoisk.ru/showthread.php?s=c20...</td>\n",
              "      <td>1,526</td>\n",
              "      <td>162,050</td>\n",
              "    </tr>\n",
              "    <tr>\n",
              "      <th>...</th>\n",
              "      <td>...</td>\n",
              "      <td>...</td>\n",
              "      <td>...</td>\n",
              "      <td>...</td>\n",
              "    </tr>\n",
              "    <tr>\n",
              "      <th>25</th>\n",
              "      <td>Воспитатели (Die Fetten Jahre sind vorbei)</td>\n",
              "      <td>https://forumkinopoisk.ru/showthread.php?s=c20...</td>\n",
              "      <td>11</td>\n",
              "      <td>4,706</td>\n",
              "    </tr>\n",
              "    <tr>\n",
              "      <th>26</th>\n",
              "      <td>U2 в 3D (U2 3D)</td>\n",
              "      <td>https://forumkinopoisk.ru/showthread.php?s=c20...</td>\n",
              "      <td>13</td>\n",
              "      <td>5,270</td>\n",
              "    </tr>\n",
              "    <tr>\n",
              "      <th>27</th>\n",
              "      <td>Грайндхаус (Grind House)</td>\n",
              "      <td>https://forumkinopoisk.ru/showthread.php?s=c20...</td>\n",
              "      <td>413</td>\n",
              "      <td>47,517</td>\n",
              "    </tr>\n",
              "    <tr>\n",
              "      <th>28</th>\n",
              "      <td>Титаник 2 (Jack is back)</td>\n",
              "      <td>https://forumkinopoisk.ru/showthread.php?s=c20...</td>\n",
              "      <td>15</td>\n",
              "      <td>11,971</td>\n",
              "    </tr>\n",
              "    <tr>\n",
              "      <th>29</th>\n",
              "      <td>Ганнибал (Hannibal)</td>\n",
              "      <td>https://forumkinopoisk.ru/showthread.php?s=c20...</td>\n",
              "      <td>72</td>\n",
              "      <td>352</td>\n",
              "    </tr>\n",
              "  </tbody>\n",
              "</table>\n",
              "<p>13950 rows × 4 columns</p>\n",
              "</div>"
            ],
            "text/plain": [
              "                                                 name  \\\n",
              "0         Ты ранил мои чувства (You Hurt My Feelings)   \n",
              "1             Хэллоуин заканчивается (Halloween Ends)   \n",
              "2   Человек-паук: Нет пути домой (Spider-Man: No W...   \n",
              "3                     Отряд самоубийц (Suicide Squad)   \n",
              "4           Фредди против Джейсона (Freddy vs. Jason)   \n",
              "..                                                ...   \n",
              "25         Воспитатели (Die Fetten Jahre sind vorbei)   \n",
              "26                                    U2 в 3D (U2 3D)   \n",
              "27                           Грайндхаус (Grind House)   \n",
              "28                           Титаник 2 (Jack is back)   \n",
              "29                                Ганнибал (Hannibal)   \n",
              "\n",
              "                                           thread_url answer_amount  \\\n",
              "0   https://forumkinopoisk.ru/showthread.php?s=c20...             2   \n",
              "1   https://forumkinopoisk.ru/showthread.php?s=c20...           116   \n",
              "2   https://forumkinopoisk.ru/showthread.php?s=c20...         8,770   \n",
              "3   https://forumkinopoisk.ru/showthread.php?s=c20...         8,440   \n",
              "4   https://forumkinopoisk.ru/showthread.php?s=c20...         1,526   \n",
              "..                                                ...           ...   \n",
              "25  https://forumkinopoisk.ru/showthread.php?s=c20...            11   \n",
              "26  https://forumkinopoisk.ru/showthread.php?s=c20...            13   \n",
              "27  https://forumkinopoisk.ru/showthread.php?s=c20...           413   \n",
              "28  https://forumkinopoisk.ru/showthread.php?s=c20...            15   \n",
              "29  https://forumkinopoisk.ru/showthread.php?s=c20...            72   \n",
              "\n",
              "   views_amount  \n",
              "0           544  \n",
              "1        22,100  \n",
              "2     1,151,595  \n",
              "3     1,413,498  \n",
              "4       162,050  \n",
              "..          ...  \n",
              "25        4,706  \n",
              "26        5,270  \n",
              "27       47,517  \n",
              "28       11,971  \n",
              "29          352  \n",
              "\n",
              "[13950 rows x 4 columns]"
            ]
          },
          "execution_count": 62,
          "metadata": {},
          "output_type": "execute_result"
        }
      ],
      "source": [
        "# посмотрим на результат\n",
        "big_df"
      ]
    },
    {
      "cell_type": "markdown",
      "id": "ece2c760-84ac-4f84-babc-b20b4f781378",
      "metadata": {
        "id": "ece2c760-84ac-4f84-babc-b20b4f781378"
      },
      "source": [
        "Подведем итоги. В ходе урока мы научились обходить сайт и парсить содержимое большого количества страниц."
      ]
    }
  ],
  "metadata": {
    "kernelspec": {
      "display_name": "Python 3 (ipykernel)",
      "language": "python",
      "name": "python3"
    },
    "language_info": {
      "codemirror_mode": {
        "name": "ipython",
        "version": 3
      },
      "file_extension": ".py",
      "mimetype": "text/x-python",
      "name": "python",
      "nbconvert_exporter": "python",
      "pygments_lexer": "ipython3",
      "version": "3.10.9"
    },
    "colab": {
      "provenance": [],
      "include_colab_link": true
    }
  },
  "nbformat": 4,
  "nbformat_minor": 5
}