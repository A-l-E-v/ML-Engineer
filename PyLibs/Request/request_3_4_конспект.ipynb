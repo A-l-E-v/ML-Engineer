{
  "cells": [
    {
      "cell_type": "markdown",
      "metadata": {
        "id": "view-in-github",
        "colab_type": "text"
      },
      "source": [
        "<a href=\"https://colab.research.google.com/github/A-l-E-v/ML-Engineer/blob/main/request_3_4_%D0%BA%D0%BE%D0%BD%D1%81%D0%BF%D0%B5%D0%BA%D1%82.ipynb\" target=\"_parent\"><img src=\"https://colab.research.google.com/assets/colab-badge.svg\" alt=\"Open In Colab\"/></a>"
      ]
    },
    {
      "cell_type": "markdown",
      "id": "27737a0a-3a72-4142-a83e-ee33baaa3b6c",
      "metadata": {
        "tags": [],
        "id": "27737a0a-3a72-4142-a83e-ee33baaa3b6c"
      },
      "source": [
        "# Ваш первый get-запрос"
      ]
    },
    {
      "cell_type": "markdown",
      "id": "0b5d5118-1f38-4abe-8f5e-ac01861b8371",
      "metadata": {
        "id": "0b5d5118-1f38-4abe-8f5e-ac01861b8371"
      },
      "source": [
        "Чтобы получить данные с сервера, вам понадобится метод get(). Для отправления HTTP-запросов подключают библиотеку requests (англ. «запросы»)."
      ]
    },
    {
      "cell_type": "code",
      "execution_count": null,
      "id": "84462eb7-1739-4c13-8842-db96fd395600",
      "metadata": {
        "id": "84462eb7-1739-4c13-8842-db96fd395600"
      },
      "outputs": [],
      "source": [
        "# Импортируем библиотеку\n",
        "import requests"
      ]
    },
    {
      "cell_type": "markdown",
      "id": "249fba35-712e-4b45-8d30-84d0139f3ef0",
      "metadata": {
        "id": "249fba35-712e-4b45-8d30-84d0139f3ef0"
      },
      "source": [
        "Прежде всего, нужна ссылка на сайт или URL (от англ. Uniform Resource Locator — «единый указатель ресурса»). Этой аббревиатурой обозначают адрес объекта в интернете.   \n",
        "Для примера возьмем страничку на википедии про python: https://ru.wikipedia.org/wiki/Python"
      ]
    },
    {
      "cell_type": "code",
      "execution_count": null,
      "id": "47e84ff1-8d85-4f05-96f3-9150b6c8421e",
      "metadata": {
        "id": "47e84ff1-8d85-4f05-96f3-9150b6c8421e"
      },
      "outputs": [],
      "source": [
        "# Сохраним ссылку в переменной URL\n",
        "URL = 'https://ru.wikipedia.org/wiki/Python'"
      ]
    },
    {
      "cell_type": "markdown",
      "id": "fbfeb474-b198-4b0c-a06d-06ea85fcb5c5",
      "metadata": {
        "id": "fbfeb474-b198-4b0c-a06d-06ea85fcb5c5"
      },
      "source": [
        "Метод get() библиотеки Requests выступает в роли имитации запроса от браузера. Передадим ему ссылку на сайт как аргумент. Метод отправит get-запрос на сервер, обработает полученный оттуда результат и вернёт объект response (англ. «ответ»), содержащий ответ сервера на HTTP-запрос."
      ]
    },
    {
      "cell_type": "code",
      "execution_count": null,
      "id": "c21e1f5f-cefc-43a3-bba0-60289ed16eed",
      "metadata": {
        "id": "c21e1f5f-cefc-43a3-bba0-60289ed16eed"
      },
      "outputs": [],
      "source": [
        "# сохраняем объект Response в переменную resp\n",
        "resp = requests.get(URL)"
      ]
    },
    {
      "cell_type": "markdown",
      "id": "cf01ae06-e938-42cc-ad1b-313c16b9547a",
      "metadata": {
        "id": "cf01ae06-e938-42cc-ad1b-313c16b9547a"
      },
      "source": [
        "Атрибут status_code (от англ. «код состояния») отвечает на вопрос: отправил сервер ответ или возникла какая-то ошибка."
      ]
    },
    {
      "cell_type": "code",
      "execution_count": null,
      "id": "2076f19d-f1bd-45af-839a-a294cc8bd7f4",
      "metadata": {
        "id": "2076f19d-f1bd-45af-839a-a294cc8bd7f4",
        "outputId": "3e172e8c-7ee6-4ad5-be49-6a583e4659fd"
      },
      "outputs": [
        {
          "name": "stdout",
          "output_type": "stream",
          "text": [
            "200\n"
          ]
        }
      ],
      "source": [
        "# Выведем код состояния ответа\n",
        "print(resp.status_code)"
      ]
    },
    {
      "cell_type": "markdown",
      "id": "b993f1c1-bf8e-4e43-a8e5-8a7c4badeda5",
      "metadata": {
        "id": "b993f1c1-bf8e-4e43-a8e5-8a7c4badeda5"
      },
      "source": [
        "200 - этот код означает, что запрос отработал корректно и ответ получен."
      ]
    },
    {
      "cell_type": "markdown",
      "id": "b80b6c8f-fbd5-4a7a-a9fe-d8f8bf6bab18",
      "metadata": {
        "id": "b80b6c8f-fbd5-4a7a-a9fe-d8f8bf6bab18"
      },
      "source": [
        "Объект Response содержит ответ сервера:\n",
        "* код состояния\n",
        "* содержание запроса\n",
        "* код самой HTML-страницы  \n",
        "\n",
        "Атрибуты объекта Response позволяют выводить не все данные из ответа, а только нужные для анализа. Название атрибута пишут после объекта Response, разделяя точкой\n"
      ]
    },
    {
      "cell_type": "code",
      "execution_count": null,
      "id": "af80a440-105f-4cfe-90da-3453c5c71e9b",
      "metadata": {
        "scrolled": true,
        "tags": [],
        "id": "af80a440-105f-4cfe-90da-3453c5c71e9b",
        "outputId": "484051d3-3506-45ea-8c97-4e7cc94442fb"
      },
      "outputs": [
        {
          "name": "stdout",
          "output_type": "stream",
          "text": [
            "<body></body><script nonce='f0e45464029ab947cf38497e92471337'>var it = {\"host\":\"https:\\u002F\\u002Fsso.ya.ru\\u002Finstall?uuid=9f1d2225-7e23-4155-b171-7988c74f41ff\",\"retpath\":\"https:\\u002F\\u002Fya.ru\\u002F?nr=1&redirect_ts=1690408575.00000\"};(function() { var form = document.createElement('form'); var element1 = document.createElement('input'); var element2 = document.createElement('input'); element1.name = 'retpath'; element1.type = 'hidden'; element1.value = it.retpath; form.appendChild(element1); element2.name = 'container'; element2.type = 'hidden'; element2.value = '1690408635.10137725.oljfR5-8O5h3I4F4.NE_xFQG_h4R2gleYk5vV17lTZg5duFVbyglwqe-yQSqBaCTLar-8EYq_MAJDn99qPYES7L8CF2ksO9ybwqomWlYJvHy5mDVHKJA6xlGIIxI7m8tr8T0ZNYmE0uBhCNXQb2TO3NGwDtnydqgaZPH31rbbX4KDrUoflQP3ogkjr7LT67zQrI91cqVXCGGxQkXemswaFkQH8qgUY0n_gjhvhWsHhXrTNk_rPorxERPDGHnK1nuFjlhLc2QKUJZ04ZwYA9GsNR0sKus-YJKDeIACKmMO0ULQ85HAL7rVrprdTrqERUn4qFdbQz_rTsX2jIBqXqybRdw2lBpRKwWxb1S-wtI2I6cSrs7s_oYoriRXJwl6yADQT54Ki_pHn1ksDkLPJUWCishe37KWZsNsGL-Mi2klKBG2eKmPidhtnUkQ-CkYUMx50eJ0TMGSOyr1Mzq68HxWcYzSje1JxawOxCybNzc7Vr_qLmIJAxRw5ZQAKxYLlXMDZvIK3UNXnjjPzWoVZ48Xm6oGCHnVFhPuSY1Epeg9-KeuMnjDlcE4a191yz3JT1_AMx7WdxqctJoeRUOsswZMSm9DOzYimGv1YD8AhOd9Y8nDfSVRrTeqVCT4l8UHbeEYdVRbfn-uUYYZsf_NS3AOU8TkOWZctgUTHWpHY5APsjuzzO3ZZIfiidrx0d4ZfwWGP5bBYxx-0843cYh9zIYdPu6af2Mq9xZTlNVPwtbpWjXjQbwQtomkZen2mZ7PExy6UJKJoPRQdtfbMNtPR1R69zSDqr-E-fBr2VjBWTpBQKUHECK4H-f86eE5L1pZZobHIAqAvYqnE2CZhjNmQc_PuI8uuy7Kmf8tbdyie2Ick3wFEmK2qSMjLC6xCA3oA03eXg3GHuc5d1aeGPKJtY5k6HJZeHoSFoXw7qqaNaVLEQdoSoqyC09pQhIWogwS93Z5mHadq0oG54V1UUB6dctY3J8diq4sD5W_zQ-S0Ln6KYuVF58kCYQi80nrWut2mkimi7VdX1-DZD39gIqCNMei4GXyfLKejm6fMB7lvxmFXzu8O680IIu1Xb_xvlv02at8a2MVsbx4pao6R3cxCkKQunK8kUaiExX96XTRghUvbUwGi9oPzN-xH6QaXC12O7uNz9IvZSZqjzBQWL-AxrTPaXISpvdDqn4A.pHU0F1FVaf4zZqLRfSDwwQ'; form.appendChild(element2); form.method = 'POST'; form.action = it.host; document.body.appendChild(form); form.submit();})();</script>\n"
          ]
        }
      ],
      "source": [
        "# аттрибут text содержит лишь текстовое содержание запроса\n",
        "print(resp.text)"
      ]
    },
    {
      "cell_type": "markdown",
      "id": "70a6083e-34e0-472c-9371-25e0fc42f341",
      "metadata": {
        "id": "70a6083e-34e0-472c-9371-25e0fc42f341"
      },
      "source": [
        "Выглядит угрожающе и непонятно, но не пугайтесь: во-первых, нам пока это еще не нужно, а во-вторых, скоро вы научитесь свободно ориентироваться в этом хаосе."
      ]
    },
    {
      "cell_type": "markdown",
      "id": "d9c7d293-1ce4-4466-a413-f193d07d093d",
      "metadata": {
        "id": "d9c7d293-1ce4-4466-a413-f193d07d093d"
      },
      "source": [
        "## Какие проблемы бывают в сети?"
      ]
    },
    {
      "cell_type": "markdown",
      "id": "81778a47-ff34-4144-a17c-125266b91162",
      "metadata": {
        "id": "81778a47-ff34-4144-a17c-125266b91162"
      },
      "source": [
        "Попробуем посмотреть как блиблиотека поведет себя с другими сайтами."
      ]
    },
    {
      "cell_type": "code",
      "execution_count": null,
      "id": "19037ec1-633c-496b-92cf-62f5a266a81d",
      "metadata": {
        "id": "19037ec1-633c-496b-92cf-62f5a266a81d"
      },
      "outputs": [],
      "source": [
        "# Для удобства создадим вспомогательную функцию, которая выполняет get-запрос и выводит статус код\n",
        "def my_get:\n",
        "    response = requests.get(URL)\n",
        "    print(response.status_code)\n",
        "    return response"
      ]
    },
    {
      "cell_type": "markdown",
      "id": "f682a8fb-cfee-4b81-87b0-a1cc28ec43f3",
      "metadata": {
        "id": "f682a8fb-cfee-4b81-87b0-a1cc28ec43f3"
      },
      "source": [
        "### 403"
      ]
    },
    {
      "cell_type": "markdown",
      "id": "695fbce1-d616-430d-94a8-1b116d6d15d3",
      "metadata": {
        "id": "695fbce1-d616-430d-94a8-1b116d6d15d3"
      },
      "source": [
        "Попробуем отправить запрос к известному интернет-магазину."
      ]
    },
    {
      "cell_type": "code",
      "execution_count": null,
      "id": "1a43bcc2-3852-4bb3-b4c7-08a2f3131c38",
      "metadata": {
        "id": "1a43bcc2-3852-4bb3-b4c7-08a2f3131c38",
        "outputId": "7c9b5445-17c7-4d33-99a6-ebcb79d304aa"
      },
      "outputs": [
        {
          "name": "stdout",
          "output_type": "stream",
          "text": [
            "403\n"
          ]
        }
      ],
      "source": [
        "# попробуем \"постучаться\" в сайт озона\n",
        "URL = \"https://www.ozon.ru/\"\n",
        "resp = my_get(URL)"
      ]
    },
    {
      "cell_type": "markdown",
      "id": "56789d9c-126c-451d-8edd-2390052a737c",
      "metadata": {
        "id": "56789d9c-126c-451d-8edd-2390052a737c"
      },
      "source": [
        "403 - код, означающий, что доступ запрещен. Это та самая защита от веб-майнинга, про кототорую мы говорили ранее. В простых случаях ее можно обойти с помощью хитростей или с помощью фреймворка selenium. Однако в случае крупной фирмы, вроде Озона, это может не помочь."
      ]
    },
    {
      "cell_type": "markdown",
      "id": "6eb08640-54b4-4f56-b54a-5ec499ae0884",
      "metadata": {
        "id": "6eb08640-54b4-4f56-b54a-5ec499ae0884"
      },
      "source": [
        "### 404"
      ]
    },
    {
      "cell_type": "markdown",
      "id": "7d937960-ae68-4058-87cd-7f92663b8d06",
      "metadata": {
        "id": "7d937960-ae68-4058-87cd-7f92663b8d06"
      },
      "source": [
        "Посмотрим, что выведет запрос на несущесвтующую страницу на википедии."
      ]
    },
    {
      "cell_type": "code",
      "execution_count": null,
      "id": "2e956726-87c4-4b2e-bbd7-f42a77786647",
      "metadata": {
        "id": "2e956726-87c4-4b2e-bbd7-f42a77786647",
        "outputId": "daaf960e-aa7e-4ce9-e399-f49c6d244552"
      },
      "outputs": [
        {
          "name": "stdout",
          "output_type": "stream",
          "text": [
            "404\n"
          ]
        }
      ],
      "source": [
        "# кинем запрос на несуществующую страницу, существующего сайта\n",
        "URL = \"https://ru.wikipedia.org/wiki/non_exist\"\n",
        "resp = my_get(URL)"
      ]
    },
    {
      "cell_type": "markdown",
      "id": "b7a202d9-fb40-430c-9215-7b372d2ada7a",
      "metadata": {
        "id": "b7a202d9-fb40-430c-9215-7b372d2ada7a"
      },
      "source": [
        "404 - Not Found. Страница не найдена. Это самая частая интернет ошибка."
      ]
    },
    {
      "cell_type": "markdown",
      "id": "25a88855-5c82-424d-954d-2a28dc432157",
      "metadata": {
        "id": "25a88855-5c82-424d-954d-2a28dc432157"
      },
      "source": [
        "### error"
      ]
    },
    {
      "cell_type": "markdown",
      "id": "88d7053c-d6d7-4619-8227-f8cca7dd40aa",
      "metadata": {
        "id": "88d7053c-d6d7-4619-8227-f8cca7dd40aa"
      },
      "source": [
        "Попробуем обратиться к несуществующему сайту."
      ]
    },
    {
      "cell_type": "code",
      "execution_count": null,
      "id": "c139e36d-ab7a-4ada-9ea0-f5a382e0ce41",
      "metadata": {
        "scrolled": true,
        "tags": [],
        "id": "c139e36d-ab7a-4ada-9ea0-f5a382e0ce41",
        "outputId": "8fe2299d-1163-49c1-bd06-00830680fee6"
      },
      "outputs": [
        {
          "ename": "ConnectionError",
          "evalue": "HTTPSConnectionPool(host='www.non_exist.ru', port=443): Max retries exceeded with url: / (Caused by NewConnectionError('<urllib3.connection.HTTPSConnection object at 0x000002091CB49480>: Failed to establish a new connection: [Errno 11001] getaddrinfo failed'))",
          "output_type": "error",
          "traceback": [
            "\u001b[1;31m---------------------------------------------------------------------------\u001b[0m",
            "\u001b[1;31mgaierror\u001b[0m                                  Traceback (most recent call last)",
            "File \u001b[1;32mC:\\ProgramData\\anaconda3\\lib\\site-packages\\urllib3\\connection.py:174\u001b[0m, in \u001b[0;36mHTTPConnection._new_conn\u001b[1;34m(self)\u001b[0m\n\u001b[0;32m    173\u001b[0m \u001b[38;5;28;01mtry\u001b[39;00m:\n\u001b[1;32m--> 174\u001b[0m     conn \u001b[38;5;241m=\u001b[39m connection\u001b[38;5;241m.\u001b[39mcreate_connection(\n\u001b[0;32m    175\u001b[0m         (\u001b[38;5;28mself\u001b[39m\u001b[38;5;241m.\u001b[39m_dns_host, \u001b[38;5;28mself\u001b[39m\u001b[38;5;241m.\u001b[39mport), \u001b[38;5;28mself\u001b[39m\u001b[38;5;241m.\u001b[39mtimeout, \u001b[38;5;241m*\u001b[39m\u001b[38;5;241m*\u001b[39mextra_kw\n\u001b[0;32m    176\u001b[0m     )\n\u001b[0;32m    178\u001b[0m \u001b[38;5;28;01mexcept\u001b[39;00m SocketTimeout:\n",
            "File \u001b[1;32mC:\\ProgramData\\anaconda3\\lib\\site-packages\\urllib3\\util\\connection.py:72\u001b[0m, in \u001b[0;36mcreate_connection\u001b[1;34m(address, timeout, source_address, socket_options)\u001b[0m\n\u001b[0;32m     68\u001b[0m     \u001b[38;5;28;01mreturn\u001b[39;00m six\u001b[38;5;241m.\u001b[39mraise_from(\n\u001b[0;32m     69\u001b[0m         LocationParseError(\u001b[38;5;124mu\u001b[39m\u001b[38;5;124m\"\u001b[39m\u001b[38;5;124m'\u001b[39m\u001b[38;5;132;01m%s\u001b[39;00m\u001b[38;5;124m'\u001b[39m\u001b[38;5;124m, label empty or too long\u001b[39m\u001b[38;5;124m\"\u001b[39m \u001b[38;5;241m%\u001b[39m host), \u001b[38;5;28;01mNone\u001b[39;00m\n\u001b[0;32m     70\u001b[0m     )\n\u001b[1;32m---> 72\u001b[0m \u001b[38;5;28;01mfor\u001b[39;00m res \u001b[38;5;129;01min\u001b[39;00m \u001b[43msocket\u001b[49m\u001b[38;5;241;43m.\u001b[39;49m\u001b[43mgetaddrinfo\u001b[49m\u001b[43m(\u001b[49m\u001b[43mhost\u001b[49m\u001b[43m,\u001b[49m\u001b[43m \u001b[49m\u001b[43mport\u001b[49m\u001b[43m,\u001b[49m\u001b[43m \u001b[49m\u001b[43mfamily\u001b[49m\u001b[43m,\u001b[49m\u001b[43m \u001b[49m\u001b[43msocket\u001b[49m\u001b[38;5;241;43m.\u001b[39;49m\u001b[43mSOCK_STREAM\u001b[49m\u001b[43m)\u001b[49m:\n\u001b[0;32m     73\u001b[0m     af, socktype, proto, canonname, sa \u001b[38;5;241m=\u001b[39m res\n",
            "File \u001b[1;32mC:\\ProgramData\\anaconda3\\lib\\socket.py:955\u001b[0m, in \u001b[0;36mgetaddrinfo\u001b[1;34m(host, port, family, type, proto, flags)\u001b[0m\n\u001b[0;32m    954\u001b[0m addrlist \u001b[38;5;241m=\u001b[39m []\n\u001b[1;32m--> 955\u001b[0m \u001b[38;5;28;01mfor\u001b[39;00m res \u001b[38;5;129;01min\u001b[39;00m \u001b[43m_socket\u001b[49m\u001b[38;5;241;43m.\u001b[39;49m\u001b[43mgetaddrinfo\u001b[49m\u001b[43m(\u001b[49m\u001b[43mhost\u001b[49m\u001b[43m,\u001b[49m\u001b[43m \u001b[49m\u001b[43mport\u001b[49m\u001b[43m,\u001b[49m\u001b[43m \u001b[49m\u001b[43mfamily\u001b[49m\u001b[43m,\u001b[49m\u001b[43m \u001b[49m\u001b[38;5;28;43mtype\u001b[39;49m\u001b[43m,\u001b[49m\u001b[43m \u001b[49m\u001b[43mproto\u001b[49m\u001b[43m,\u001b[49m\u001b[43m \u001b[49m\u001b[43mflags\u001b[49m\u001b[43m)\u001b[49m:\n\u001b[0;32m    956\u001b[0m     af, socktype, proto, canonname, sa \u001b[38;5;241m=\u001b[39m res\n",
            "\u001b[1;31mgaierror\u001b[0m: [Errno 11001] getaddrinfo failed",
            "\nDuring handling of the above exception, another exception occurred:\n",
            "\u001b[1;31mNewConnectionError\u001b[0m                        Traceback (most recent call last)",
            "File \u001b[1;32mC:\\ProgramData\\anaconda3\\lib\\site-packages\\urllib3\\connectionpool.py:703\u001b[0m, in \u001b[0;36mHTTPConnectionPool.urlopen\u001b[1;34m(self, method, url, body, headers, retries, redirect, assert_same_host, timeout, pool_timeout, release_conn, chunked, body_pos, **response_kw)\u001b[0m\n\u001b[0;32m    702\u001b[0m \u001b[38;5;66;03m# Make the request on the httplib connection object.\u001b[39;00m\n\u001b[1;32m--> 703\u001b[0m httplib_response \u001b[38;5;241m=\u001b[39m \u001b[38;5;28;43mself\u001b[39;49m\u001b[38;5;241;43m.\u001b[39;49m\u001b[43m_make_request\u001b[49m\u001b[43m(\u001b[49m\n\u001b[0;32m    704\u001b[0m \u001b[43m    \u001b[49m\u001b[43mconn\u001b[49m\u001b[43m,\u001b[49m\n\u001b[0;32m    705\u001b[0m \u001b[43m    \u001b[49m\u001b[43mmethod\u001b[49m\u001b[43m,\u001b[49m\n\u001b[0;32m    706\u001b[0m \u001b[43m    \u001b[49m\u001b[43murl\u001b[49m\u001b[43m,\u001b[49m\n\u001b[0;32m    707\u001b[0m \u001b[43m    \u001b[49m\u001b[43mtimeout\u001b[49m\u001b[38;5;241;43m=\u001b[39;49m\u001b[43mtimeout_obj\u001b[49m\u001b[43m,\u001b[49m\n\u001b[0;32m    708\u001b[0m \u001b[43m    \u001b[49m\u001b[43mbody\u001b[49m\u001b[38;5;241;43m=\u001b[39;49m\u001b[43mbody\u001b[49m\u001b[43m,\u001b[49m\n\u001b[0;32m    709\u001b[0m \u001b[43m    \u001b[49m\u001b[43mheaders\u001b[49m\u001b[38;5;241;43m=\u001b[39;49m\u001b[43mheaders\u001b[49m\u001b[43m,\u001b[49m\n\u001b[0;32m    710\u001b[0m \u001b[43m    \u001b[49m\u001b[43mchunked\u001b[49m\u001b[38;5;241;43m=\u001b[39;49m\u001b[43mchunked\u001b[49m\u001b[43m,\u001b[49m\n\u001b[0;32m    711\u001b[0m \u001b[43m\u001b[49m\u001b[43m)\u001b[49m\n\u001b[0;32m    713\u001b[0m \u001b[38;5;66;03m# If we're going to release the connection in ``finally:``, then\u001b[39;00m\n\u001b[0;32m    714\u001b[0m \u001b[38;5;66;03m# the response doesn't need to know about the connection. Otherwise\u001b[39;00m\n\u001b[0;32m    715\u001b[0m \u001b[38;5;66;03m# it will also try to release it and we'll have a double-release\u001b[39;00m\n\u001b[0;32m    716\u001b[0m \u001b[38;5;66;03m# mess.\u001b[39;00m\n",
            "File \u001b[1;32mC:\\ProgramData\\anaconda3\\lib\\site-packages\\urllib3\\connectionpool.py:386\u001b[0m, in \u001b[0;36mHTTPConnectionPool._make_request\u001b[1;34m(self, conn, method, url, timeout, chunked, **httplib_request_kw)\u001b[0m\n\u001b[0;32m    385\u001b[0m \u001b[38;5;28;01mtry\u001b[39;00m:\n\u001b[1;32m--> 386\u001b[0m     \u001b[38;5;28;43mself\u001b[39;49m\u001b[38;5;241;43m.\u001b[39;49m\u001b[43m_validate_conn\u001b[49m\u001b[43m(\u001b[49m\u001b[43mconn\u001b[49m\u001b[43m)\u001b[49m\n\u001b[0;32m    387\u001b[0m \u001b[38;5;28;01mexcept\u001b[39;00m (SocketTimeout, BaseSSLError) \u001b[38;5;28;01mas\u001b[39;00m e:\n\u001b[0;32m    388\u001b[0m     \u001b[38;5;66;03m# Py2 raises this as a BaseSSLError, Py3 raises it as socket timeout.\u001b[39;00m\n",
            "File \u001b[1;32mC:\\ProgramData\\anaconda3\\lib\\site-packages\\urllib3\\connectionpool.py:1042\u001b[0m, in \u001b[0;36mHTTPSConnectionPool._validate_conn\u001b[1;34m(self, conn)\u001b[0m\n\u001b[0;32m   1041\u001b[0m \u001b[38;5;28;01mif\u001b[39;00m \u001b[38;5;129;01mnot\u001b[39;00m \u001b[38;5;28mgetattr\u001b[39m(conn, \u001b[38;5;124m\"\u001b[39m\u001b[38;5;124msock\u001b[39m\u001b[38;5;124m\"\u001b[39m, \u001b[38;5;28;01mNone\u001b[39;00m):  \u001b[38;5;66;03m# AppEngine might not have  `.sock`\u001b[39;00m\n\u001b[1;32m-> 1042\u001b[0m     \u001b[43mconn\u001b[49m\u001b[38;5;241;43m.\u001b[39;49m\u001b[43mconnect\u001b[49m\u001b[43m(\u001b[49m\u001b[43m)\u001b[49m\n\u001b[0;32m   1044\u001b[0m \u001b[38;5;28;01mif\u001b[39;00m \u001b[38;5;129;01mnot\u001b[39;00m conn\u001b[38;5;241m.\u001b[39mis_verified:\n",
            "File \u001b[1;32mC:\\ProgramData\\anaconda3\\lib\\site-packages\\urllib3\\connection.py:358\u001b[0m, in \u001b[0;36mHTTPSConnection.connect\u001b[1;34m(self)\u001b[0m\n\u001b[0;32m    356\u001b[0m \u001b[38;5;28;01mdef\u001b[39;00m \u001b[38;5;21mconnect\u001b[39m(\u001b[38;5;28mself\u001b[39m):\n\u001b[0;32m    357\u001b[0m     \u001b[38;5;66;03m# Add certificate verification\u001b[39;00m\n\u001b[1;32m--> 358\u001b[0m     \u001b[38;5;28mself\u001b[39m\u001b[38;5;241m.\u001b[39msock \u001b[38;5;241m=\u001b[39m conn \u001b[38;5;241m=\u001b[39m \u001b[38;5;28;43mself\u001b[39;49m\u001b[38;5;241;43m.\u001b[39;49m\u001b[43m_new_conn\u001b[49m\u001b[43m(\u001b[49m\u001b[43m)\u001b[49m\n\u001b[0;32m    359\u001b[0m     hostname \u001b[38;5;241m=\u001b[39m \u001b[38;5;28mself\u001b[39m\u001b[38;5;241m.\u001b[39mhost\n",
            "File \u001b[1;32mC:\\ProgramData\\anaconda3\\lib\\site-packages\\urllib3\\connection.py:186\u001b[0m, in \u001b[0;36mHTTPConnection._new_conn\u001b[1;34m(self)\u001b[0m\n\u001b[0;32m    185\u001b[0m \u001b[38;5;28;01mexcept\u001b[39;00m SocketError \u001b[38;5;28;01mas\u001b[39;00m e:\n\u001b[1;32m--> 186\u001b[0m     \u001b[38;5;28;01mraise\u001b[39;00m NewConnectionError(\n\u001b[0;32m    187\u001b[0m         \u001b[38;5;28mself\u001b[39m, \u001b[38;5;124m\"\u001b[39m\u001b[38;5;124mFailed to establish a new connection: \u001b[39m\u001b[38;5;132;01m%s\u001b[39;00m\u001b[38;5;124m\"\u001b[39m \u001b[38;5;241m%\u001b[39m e\n\u001b[0;32m    188\u001b[0m     )\n\u001b[0;32m    190\u001b[0m \u001b[38;5;28;01mreturn\u001b[39;00m conn\n",
            "\u001b[1;31mNewConnectionError\u001b[0m: <urllib3.connection.HTTPSConnection object at 0x000002091CB49480>: Failed to establish a new connection: [Errno 11001] getaddrinfo failed",
            "\nDuring handling of the above exception, another exception occurred:\n",
            "\u001b[1;31mMaxRetryError\u001b[0m                             Traceback (most recent call last)",
            "File \u001b[1;32mC:\\ProgramData\\anaconda3\\lib\\site-packages\\requests\\adapters.py:489\u001b[0m, in \u001b[0;36mHTTPAdapter.send\u001b[1;34m(self, request, stream, timeout, verify, cert, proxies)\u001b[0m\n\u001b[0;32m    488\u001b[0m \u001b[38;5;28;01mif\u001b[39;00m \u001b[38;5;129;01mnot\u001b[39;00m chunked:\n\u001b[1;32m--> 489\u001b[0m     resp \u001b[38;5;241m=\u001b[39m \u001b[43mconn\u001b[49m\u001b[38;5;241;43m.\u001b[39;49m\u001b[43murlopen\u001b[49m\u001b[43m(\u001b[49m\n\u001b[0;32m    490\u001b[0m \u001b[43m        \u001b[49m\u001b[43mmethod\u001b[49m\u001b[38;5;241;43m=\u001b[39;49m\u001b[43mrequest\u001b[49m\u001b[38;5;241;43m.\u001b[39;49m\u001b[43mmethod\u001b[49m\u001b[43m,\u001b[49m\n\u001b[0;32m    491\u001b[0m \u001b[43m        \u001b[49m\u001b[43murl\u001b[49m\u001b[38;5;241;43m=\u001b[39;49m\u001b[43murl\u001b[49m\u001b[43m,\u001b[49m\n\u001b[0;32m    492\u001b[0m \u001b[43m        \u001b[49m\u001b[43mbody\u001b[49m\u001b[38;5;241;43m=\u001b[39;49m\u001b[43mrequest\u001b[49m\u001b[38;5;241;43m.\u001b[39;49m\u001b[43mbody\u001b[49m\u001b[43m,\u001b[49m\n\u001b[0;32m    493\u001b[0m \u001b[43m        \u001b[49m\u001b[43mheaders\u001b[49m\u001b[38;5;241;43m=\u001b[39;49m\u001b[43mrequest\u001b[49m\u001b[38;5;241;43m.\u001b[39;49m\u001b[43mheaders\u001b[49m\u001b[43m,\u001b[49m\n\u001b[0;32m    494\u001b[0m \u001b[43m        \u001b[49m\u001b[43mredirect\u001b[49m\u001b[38;5;241;43m=\u001b[39;49m\u001b[38;5;28;43;01mFalse\u001b[39;49;00m\u001b[43m,\u001b[49m\n\u001b[0;32m    495\u001b[0m \u001b[43m        \u001b[49m\u001b[43massert_same_host\u001b[49m\u001b[38;5;241;43m=\u001b[39;49m\u001b[38;5;28;43;01mFalse\u001b[39;49;00m\u001b[43m,\u001b[49m\n\u001b[0;32m    496\u001b[0m \u001b[43m        \u001b[49m\u001b[43mpreload_content\u001b[49m\u001b[38;5;241;43m=\u001b[39;49m\u001b[38;5;28;43;01mFalse\u001b[39;49;00m\u001b[43m,\u001b[49m\n\u001b[0;32m    497\u001b[0m \u001b[43m        \u001b[49m\u001b[43mdecode_content\u001b[49m\u001b[38;5;241;43m=\u001b[39;49m\u001b[38;5;28;43;01mFalse\u001b[39;49;00m\u001b[43m,\u001b[49m\n\u001b[0;32m    498\u001b[0m \u001b[43m        \u001b[49m\u001b[43mretries\u001b[49m\u001b[38;5;241;43m=\u001b[39;49m\u001b[38;5;28;43mself\u001b[39;49m\u001b[38;5;241;43m.\u001b[39;49m\u001b[43mmax_retries\u001b[49m\u001b[43m,\u001b[49m\n\u001b[0;32m    499\u001b[0m \u001b[43m        \u001b[49m\u001b[43mtimeout\u001b[49m\u001b[38;5;241;43m=\u001b[39;49m\u001b[43mtimeout\u001b[49m\u001b[43m,\u001b[49m\n\u001b[0;32m    500\u001b[0m \u001b[43m    \u001b[49m\u001b[43m)\u001b[49m\n\u001b[0;32m    502\u001b[0m \u001b[38;5;66;03m# Send the request.\u001b[39;00m\n\u001b[0;32m    503\u001b[0m \u001b[38;5;28;01melse\u001b[39;00m:\n",
            "File \u001b[1;32mC:\\ProgramData\\anaconda3\\lib\\site-packages\\urllib3\\connectionpool.py:787\u001b[0m, in \u001b[0;36mHTTPConnectionPool.urlopen\u001b[1;34m(self, method, url, body, headers, retries, redirect, assert_same_host, timeout, pool_timeout, release_conn, chunked, body_pos, **response_kw)\u001b[0m\n\u001b[0;32m    785\u001b[0m     e \u001b[38;5;241m=\u001b[39m ProtocolError(\u001b[38;5;124m\"\u001b[39m\u001b[38;5;124mConnection aborted.\u001b[39m\u001b[38;5;124m\"\u001b[39m, e)\n\u001b[1;32m--> 787\u001b[0m retries \u001b[38;5;241m=\u001b[39m \u001b[43mretries\u001b[49m\u001b[38;5;241;43m.\u001b[39;49m\u001b[43mincrement\u001b[49m\u001b[43m(\u001b[49m\n\u001b[0;32m    788\u001b[0m \u001b[43m    \u001b[49m\u001b[43mmethod\u001b[49m\u001b[43m,\u001b[49m\u001b[43m \u001b[49m\u001b[43murl\u001b[49m\u001b[43m,\u001b[49m\u001b[43m \u001b[49m\u001b[43merror\u001b[49m\u001b[38;5;241;43m=\u001b[39;49m\u001b[43me\u001b[49m\u001b[43m,\u001b[49m\u001b[43m \u001b[49m\u001b[43m_pool\u001b[49m\u001b[38;5;241;43m=\u001b[39;49m\u001b[38;5;28;43mself\u001b[39;49m\u001b[43m,\u001b[49m\u001b[43m \u001b[49m\u001b[43m_stacktrace\u001b[49m\u001b[38;5;241;43m=\u001b[39;49m\u001b[43msys\u001b[49m\u001b[38;5;241;43m.\u001b[39;49m\u001b[43mexc_info\u001b[49m\u001b[43m(\u001b[49m\u001b[43m)\u001b[49m\u001b[43m[\u001b[49m\u001b[38;5;241;43m2\u001b[39;49m\u001b[43m]\u001b[49m\n\u001b[0;32m    789\u001b[0m \u001b[43m\u001b[49m\u001b[43m)\u001b[49m\n\u001b[0;32m    790\u001b[0m retries\u001b[38;5;241m.\u001b[39msleep()\n",
            "File \u001b[1;32mC:\\ProgramData\\anaconda3\\lib\\site-packages\\urllib3\\util\\retry.py:592\u001b[0m, in \u001b[0;36mRetry.increment\u001b[1;34m(self, method, url, response, error, _pool, _stacktrace)\u001b[0m\n\u001b[0;32m    591\u001b[0m \u001b[38;5;28;01mif\u001b[39;00m new_retry\u001b[38;5;241m.\u001b[39mis_exhausted():\n\u001b[1;32m--> 592\u001b[0m     \u001b[38;5;28;01mraise\u001b[39;00m MaxRetryError(_pool, url, error \u001b[38;5;129;01mor\u001b[39;00m ResponseError(cause))\n\u001b[0;32m    594\u001b[0m log\u001b[38;5;241m.\u001b[39mdebug(\u001b[38;5;124m\"\u001b[39m\u001b[38;5;124mIncremented Retry for (url=\u001b[39m\u001b[38;5;124m'\u001b[39m\u001b[38;5;132;01m%s\u001b[39;00m\u001b[38;5;124m'\u001b[39m\u001b[38;5;124m): \u001b[39m\u001b[38;5;132;01m%r\u001b[39;00m\u001b[38;5;124m\"\u001b[39m, url, new_retry)\n",
            "\u001b[1;31mMaxRetryError\u001b[0m: HTTPSConnectionPool(host='www.non_exist.ru', port=443): Max retries exceeded with url: / (Caused by NewConnectionError('<urllib3.connection.HTTPSConnection object at 0x000002091CB49480>: Failed to establish a new connection: [Errno 11001] getaddrinfo failed'))",
            "\nDuring handling of the above exception, another exception occurred:\n",
            "\u001b[1;31mConnectionError\u001b[0m                           Traceback (most recent call last)",
            "Cell \u001b[1;32mIn[19], line 2\u001b[0m\n\u001b[0;32m      1\u001b[0m URL \u001b[38;5;241m=\u001b[39m \u001b[38;5;124m\"\u001b[39m\u001b[38;5;124mhttps://www.non_exist.ru\u001b[39m\u001b[38;5;124m\"\u001b[39m\n\u001b[1;32m----> 2\u001b[0m resp \u001b[38;5;241m=\u001b[39m \u001b[43mmy_get\u001b[49m\u001b[43m(\u001b[49m\u001b[43mURL\u001b[49m\u001b[43m)\u001b[49m\n",
            "Cell \u001b[1;32mIn[13], line 3\u001b[0m, in \u001b[0;36mmy_get\u001b[1;34m(URL)\u001b[0m\n\u001b[0;32m      2\u001b[0m \u001b[38;5;28;01mdef\u001b[39;00m \u001b[38;5;21mmy_get\u001b[39m(URL):\n\u001b[1;32m----> 3\u001b[0m     response \u001b[38;5;241m=\u001b[39m \u001b[43mrequests\u001b[49m\u001b[38;5;241;43m.\u001b[39;49m\u001b[43mget\u001b[49m\u001b[43m(\u001b[49m\u001b[43mURL\u001b[49m\u001b[43m)\u001b[49m \n\u001b[0;32m      4\u001b[0m     \u001b[38;5;28mprint\u001b[39m(response\u001b[38;5;241m.\u001b[39mstatus_code)\n\u001b[0;32m      5\u001b[0m     \u001b[38;5;28;01mreturn\u001b[39;00m response\n",
            "File \u001b[1;32mC:\\ProgramData\\anaconda3\\lib\\site-packages\\requests\\api.py:73\u001b[0m, in \u001b[0;36mget\u001b[1;34m(url, params, **kwargs)\u001b[0m\n\u001b[0;32m     62\u001b[0m \u001b[38;5;28;01mdef\u001b[39;00m \u001b[38;5;21mget\u001b[39m(url, params\u001b[38;5;241m=\u001b[39m\u001b[38;5;28;01mNone\u001b[39;00m, \u001b[38;5;241m*\u001b[39m\u001b[38;5;241m*\u001b[39mkwargs):\n\u001b[0;32m     63\u001b[0m     \u001b[38;5;124mr\u001b[39m\u001b[38;5;124;03m\"\"\"Sends a GET request.\u001b[39;00m\n\u001b[0;32m     64\u001b[0m \n\u001b[0;32m     65\u001b[0m \u001b[38;5;124;03m    :param url: URL for the new :class:`Request` object.\u001b[39;00m\n\u001b[1;32m   (...)\u001b[0m\n\u001b[0;32m     70\u001b[0m \u001b[38;5;124;03m    :rtype: requests.Response\u001b[39;00m\n\u001b[0;32m     71\u001b[0m \u001b[38;5;124;03m    \"\"\"\u001b[39;00m\n\u001b[1;32m---> 73\u001b[0m     \u001b[38;5;28;01mreturn\u001b[39;00m request(\u001b[38;5;124m\"\u001b[39m\u001b[38;5;124mget\u001b[39m\u001b[38;5;124m\"\u001b[39m, url, params\u001b[38;5;241m=\u001b[39mparams, \u001b[38;5;241m*\u001b[39m\u001b[38;5;241m*\u001b[39mkwargs)\n",
            "File \u001b[1;32mC:\\ProgramData\\anaconda3\\lib\\site-packages\\requests\\api.py:59\u001b[0m, in \u001b[0;36mrequest\u001b[1;34m(method, url, **kwargs)\u001b[0m\n\u001b[0;32m     55\u001b[0m \u001b[38;5;66;03m# By using the 'with' statement we are sure the session is closed, thus we\u001b[39;00m\n\u001b[0;32m     56\u001b[0m \u001b[38;5;66;03m# avoid leaving sockets open which can trigger a ResourceWarning in some\u001b[39;00m\n\u001b[0;32m     57\u001b[0m \u001b[38;5;66;03m# cases, and look like a memory leak in others.\u001b[39;00m\n\u001b[0;32m     58\u001b[0m \u001b[38;5;28;01mwith\u001b[39;00m sessions\u001b[38;5;241m.\u001b[39mSession() \u001b[38;5;28;01mas\u001b[39;00m session:\n\u001b[1;32m---> 59\u001b[0m     \u001b[38;5;28;01mreturn\u001b[39;00m session\u001b[38;5;241m.\u001b[39mrequest(method\u001b[38;5;241m=\u001b[39mmethod, url\u001b[38;5;241m=\u001b[39murl, \u001b[38;5;241m*\u001b[39m\u001b[38;5;241m*\u001b[39mkwargs)\n",
            "File \u001b[1;32mC:\\ProgramData\\anaconda3\\lib\\site-packages\\requests\\sessions.py:587\u001b[0m, in \u001b[0;36mSession.request\u001b[1;34m(self, method, url, params, data, headers, cookies, files, auth, timeout, allow_redirects, proxies, hooks, stream, verify, cert, json)\u001b[0m\n\u001b[0;32m    582\u001b[0m send_kwargs \u001b[38;5;241m=\u001b[39m {\n\u001b[0;32m    583\u001b[0m     \u001b[38;5;124m\"\u001b[39m\u001b[38;5;124mtimeout\u001b[39m\u001b[38;5;124m\"\u001b[39m: timeout,\n\u001b[0;32m    584\u001b[0m     \u001b[38;5;124m\"\u001b[39m\u001b[38;5;124mallow_redirects\u001b[39m\u001b[38;5;124m\"\u001b[39m: allow_redirects,\n\u001b[0;32m    585\u001b[0m }\n\u001b[0;32m    586\u001b[0m send_kwargs\u001b[38;5;241m.\u001b[39mupdate(settings)\n\u001b[1;32m--> 587\u001b[0m resp \u001b[38;5;241m=\u001b[39m \u001b[38;5;28mself\u001b[39m\u001b[38;5;241m.\u001b[39msend(prep, \u001b[38;5;241m*\u001b[39m\u001b[38;5;241m*\u001b[39msend_kwargs)\n\u001b[0;32m    589\u001b[0m \u001b[38;5;28;01mreturn\u001b[39;00m resp\n",
            "File \u001b[1;32mC:\\ProgramData\\anaconda3\\lib\\site-packages\\requests\\sessions.py:701\u001b[0m, in \u001b[0;36mSession.send\u001b[1;34m(self, request, **kwargs)\u001b[0m\n\u001b[0;32m    698\u001b[0m start \u001b[38;5;241m=\u001b[39m preferred_clock()\n\u001b[0;32m    700\u001b[0m \u001b[38;5;66;03m# Send the request\u001b[39;00m\n\u001b[1;32m--> 701\u001b[0m r \u001b[38;5;241m=\u001b[39m adapter\u001b[38;5;241m.\u001b[39msend(request, \u001b[38;5;241m*\u001b[39m\u001b[38;5;241m*\u001b[39mkwargs)\n\u001b[0;32m    703\u001b[0m \u001b[38;5;66;03m# Total elapsed time of the request (approximately)\u001b[39;00m\n\u001b[0;32m    704\u001b[0m elapsed \u001b[38;5;241m=\u001b[39m preferred_clock() \u001b[38;5;241m-\u001b[39m start\n",
            "File \u001b[1;32mC:\\ProgramData\\anaconda3\\lib\\site-packages\\requests\\adapters.py:565\u001b[0m, in \u001b[0;36mHTTPAdapter.send\u001b[1;34m(self, request, stream, timeout, verify, cert, proxies)\u001b[0m\n\u001b[0;32m    561\u001b[0m     \u001b[38;5;28;01mif\u001b[39;00m \u001b[38;5;28misinstance\u001b[39m(e\u001b[38;5;241m.\u001b[39mreason, _SSLError):\n\u001b[0;32m    562\u001b[0m         \u001b[38;5;66;03m# This branch is for urllib3 v1.22 and later.\u001b[39;00m\n\u001b[0;32m    563\u001b[0m         \u001b[38;5;28;01mraise\u001b[39;00m SSLError(e, request\u001b[38;5;241m=\u001b[39mrequest)\n\u001b[1;32m--> 565\u001b[0m     \u001b[38;5;28;01mraise\u001b[39;00m \u001b[38;5;167;01mConnectionError\u001b[39;00m(e, request\u001b[38;5;241m=\u001b[39mrequest)\n\u001b[0;32m    567\u001b[0m \u001b[38;5;28;01mexcept\u001b[39;00m ClosedPoolError \u001b[38;5;28;01mas\u001b[39;00m e:\n\u001b[0;32m    568\u001b[0m     \u001b[38;5;28;01mraise\u001b[39;00m \u001b[38;5;167;01mConnectionError\u001b[39;00m(e, request\u001b[38;5;241m=\u001b[39mrequest)\n",
            "\u001b[1;31mConnectionError\u001b[0m: HTTPSConnectionPool(host='www.non_exist.ru', port=443): Max retries exceeded with url: / (Caused by NewConnectionError('<urllib3.connection.HTTPSConnection object at 0x000002091CB49480>: Failed to establish a new connection: [Errno 11001] getaddrinfo failed'))"
          ]
        }
      ],
      "source": [
        "# кинем запрос на несуществующий сайт\n",
        "URL = \"https://www.non_exist.ru\"\n",
        "resp = my_get(URL)"
      ]
    },
    {
      "cell_type": "markdown",
      "id": "ad625dbf-c11c-4a92-8dfb-5753a41dcce5",
      "metadata": {
        "id": "ad625dbf-c11c-4a92-8dfb-5753a41dcce5"
      },
      "source": [
        "Получаем ворох ошибок:\n",
        "\n",
        "\n",
        "*   ConnectionError\n",
        "*   MaxRetryError\n",
        "\n"
      ]
    },
    {
      "cell_type": "markdown",
      "id": "b500f2ac-9e08-4880-800d-a050c9ae346c",
      "metadata": {
        "id": "b500f2ac-9e08-4880-800d-a050c9ae346c"
      },
      "source": [
        "Подведем итоги. В ходе урока мы научились:\n",
        "* писать просыте GET запросы\n",
        "* какие бывают самые частые код состояния и ошибки"
      ]
    },
    {
      "cell_type": "code",
      "execution_count": null,
      "id": "936b43da-fa38-491c-a501-3aab88923150",
      "metadata": {
        "id": "936b43da-fa38-491c-a501-3aab88923150"
      },
      "outputs": [],
      "source": []
    }
  ],
  "metadata": {
    "kernelspec": {
      "display_name": "Python 3 (ipykernel)",
      "language": "python",
      "name": "python3"
    },
    "language_info": {
      "codemirror_mode": {
        "name": "ipython",
        "version": 3
      },
      "file_extension": ".py",
      "mimetype": "text/x-python",
      "name": "python",
      "nbconvert_exporter": "python",
      "pygments_lexer": "ipython3",
      "version": "3.10.9"
    },
    "colab": {
      "provenance": [],
      "include_colab_link": true
    }
  },
  "nbformat": 4,
  "nbformat_minor": 5
}