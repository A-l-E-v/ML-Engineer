{
  "cells": [
    {
      "cell_type": "markdown",
      "metadata": {
        "id": "view-in-github",
        "colab_type": "text"
      },
      "source": [
        "<a href=\"https://colab.research.google.com/github/A-l-E-v/ML-Engineer/blob/main/Lesson_3_6_(Compositions).ipynb\" target=\"_parent\"><img src=\"https://colab.research.google.com/assets/colab-badge.svg\" alt=\"Open In Colab\"/></a>"
      ]
    },
    {
      "cell_type": "code",
      "execution_count": null,
      "id": "fd9df27d",
      "metadata": {
        "id": "fd9df27d"
      },
      "outputs": [],
      "source": [
        "import numpy as np\n",
        "import pandas as pd\n",
        "import matplotlib.pyplot as plt\n",
        "import seaborn as sns\n",
        "sns.set_theme(style=\"darkgrid\")"
      ]
    },
    {
      "cell_type": "markdown",
      "id": "d4942989",
      "metadata": {
        "id": "d4942989"
      },
      "source": [
        "## 1. Использование FacetGrid"
      ]
    },
    {
      "cell_type": "code",
      "execution_count": null,
      "id": "92c6b769",
      "metadata": {
        "id": "92c6b769"
      },
      "outputs": [],
      "source": [
        "data_auto = sns.load_dataset('mpg')"
      ]
    },
    {
      "cell_type": "code",
      "execution_count": null,
      "id": "8fe5c400",
      "metadata": {
        "id": "8fe5c400"
      },
      "outputs": [],
      "source": [
        "data_auto.head()"
      ]
    },
    {
      "cell_type": "code",
      "execution_count": null,
      "id": "8821413e",
      "metadata": {
        "id": "8821413e"
      },
      "outputs": [],
      "source": [
        "# Создание объекта\n",
        "fg = sns.FacetGrid(data_auto, col=\"origin\")\n",
        "plt.show()"
      ]
    },
    {
      "cell_type": "code",
      "execution_count": null,
      "id": "3855c785",
      "metadata": {
        "id": "3855c785"
      },
      "outputs": [],
      "source": [
        "# Теперь можно сопоставить каждому графику диаграмму, которую мы хотим использовать\n",
        "fg = sns.FacetGrid(data_auto, col=\"origin\")\n",
        "fg.map(sns.histplot, \"mpg\")\n",
        "plt.show()"
      ]
    },
    {
      "cell_type": "code",
      "execution_count": null,
      "id": "33a56518",
      "metadata": {
        "id": "33a56518"
      },
      "outputs": [],
      "source": [
        "# Чтобы сделать график зависимости, нужно передать несколько параметров в map\n",
        "fg = sns.FacetGrid(data_auto, col=\"origin\", hue=\"cylinders\")\n",
        "fg.map(sns.scatterplot, \"mpg\", \"horsepower\", alpha=.5)\n",
        "fg.add_legend() # обратите внимание, что в данном случае легенду надо добавить самостоятельно!\n",
        "plt.show()"
      ]
    },
    {
      "cell_type": "code",
      "execution_count": null,
      "id": "0274ff98",
      "metadata": {
        "scrolled": false,
        "id": "0274ff98"
      },
      "outputs": [],
      "source": [
        "# можно контролировать внешний вид путем передачи параметров в FacetGrid,\n",
        "# а параметры самой функции можно передавать в map\n",
        "\n",
        "fg = sns.FacetGrid(data_auto, row=\"model_year\", col=\"origin\", margin_titles=True)\n",
        "fg.map(sns.stripplot, \"cylinders\", \"mpg\", order=[3, 4, 5, 6, 8], jitter=.1)\n",
        "plt.show()"
      ]
    },
    {
      "cell_type": "code",
      "execution_count": null,
      "id": "c561a1bf",
      "metadata": {
        "id": "c561a1bf"
      },
      "outputs": [],
      "source": [
        "# Можно задавать рамер каждого графика в композиции\n",
        "fg = sns.FacetGrid(data_auto, col=\"cylinders\", height=5, aspect=.5)\n",
        "fg.map(sns.barplot, \"origin\", \"mpg\", order=[\"usa\", \"europe\", \"japan\"])\n",
        "plt.show()"
      ]
    },
    {
      "cell_type": "code",
      "execution_count": null,
      "id": "8cd991a2",
      "metadata": {
        "id": "8cd991a2"
      },
      "outputs": [],
      "source": [
        "# Работает также и со строками\n",
        "fg = sns.FacetGrid(data_auto, row=\"origin\", row_order=[\"usa\", \"europe\", \"japan\"], aspect=4)\n",
        "fg.map(sns.kdeplot, \"mpg\")\n",
        "plt.show()"
      ]
    },
    {
      "cell_type": "code",
      "execution_count": null,
      "id": "2f92835d",
      "metadata": {
        "id": "2f92835d"
      },
      "outputs": [],
      "source": [
        "# можно подбирать цвета с помощью palette\n",
        "fg = sns.FacetGrid(data_auto, col=\"origin\", hue=\"cylinders\", palette='Oranges')\n",
        "fg.map(sns.scatterplot, \"mpg\", \"horsepower\", alpha=.5)\n",
        "fg.add_legend()\n",
        "plt.show()"
      ]
    },
    {
      "cell_type": "code",
      "execution_count": null,
      "id": "232b6b60",
      "metadata": {
        "id": "232b6b60"
      },
      "outputs": [],
      "source": [
        "# можно ограничить число столбцов c помощью wrap, причем тогда нельзя использовать параметр row\n",
        "fg = sns.FacetGrid(data_auto, col=\"cylinders\", col_wrap=3)\n",
        "fg.map(sns.pointplot, \"model_year\", \"mpg\", color=\"g\", order=data_auto['model_year'].unique(),\n",
        "       errorbar=None, native_scale=True)\n",
        "plt.show()"
      ]
    },
    {
      "cell_type": "code",
      "execution_count": null,
      "id": "45fbc750",
      "metadata": {
        "id": "45fbc750"
      },
      "outputs": [],
      "source": [
        "# Кастомизация графика путём обращения к методам FacetGrid\n",
        "\n",
        "with sns.axes_style(\"white\"):\n",
        "    fg = sns.FacetGrid(data_auto, col=\"origin\")\n",
        "fg.map(sns.histplot, \"mpg\")\n",
        "fg.set_axis_labels(\"Fuel consumption (meter per gallon)\", \"Number of cars\", size=10)\n",
        "fg.set(xticks=np.arange(10, 50, 5), yticks=[0, 15, 30, 45])\n",
        "plt.show()"
      ]
    },
    {
      "cell_type": "code",
      "execution_count": null,
      "id": "7c8d2b56",
      "metadata": {
        "id": "7c8d2b56"
      },
      "outputs": [],
      "source": [
        "# ещё большая кастомиpация с помощью обращения непосредственно к объектам Axes и Figure класса FacetGrid\n",
        "\n",
        "with sns.axes_style(\"white\"):\n",
        "    fg = sns.FacetGrid(data_auto, col=\"origin\")\n",
        "fg.map(sns.histplot, \"mpg\")\n",
        "fg.set_axis_labels(\"Fuel consumption (meter per gallon)\", \"Number of cars\", size=10)\n",
        "fg.set(xticks=np.arange(10, 50, 5), yticks=[0, 15, 30, 45])\n",
        "\n",
        "fg.fig.suptitle('Fuel consumption distribution by origin', fontsize=15, x=0.55)\n",
        "fg.fig.subplots_adjust(wspace=.02, hspace=.02, top=0.8)\n",
        "\n",
        "for ax in fg.axes_dict.values():\n",
        "    ax.grid(color='black', linestyle=':')\n",
        "\n",
        "plt.show()"
      ]
    },
    {
      "cell_type": "markdown",
      "id": "8070db1c",
      "metadata": {
        "id": "8070db1c"
      },
      "source": [
        "## *2. Использование собственных функций в качестве параметра метода FacetGrid.map()*"
      ]
    },
    {
      "cell_type": "markdown",
      "id": "85b4d431",
      "metadata": {
        "id": "85b4d431"
      },
      "source": [
        "Чтобы использовать собственную функцию в качестве параметра, она должна удовлетворять трём условиям:\n",
        "\n",
        "1. Она должна выполнять построения в активные в текущем контексте объекты Axes. В случае неявного стиля программирования, достаточно использовать функции из модуля matplotlib.pyplot, которые выберут нужные объекты в теневом режиме. В случае, если используется явный стиль, можно получить необходимые объекты с помощью функции matplotlib.pyplot.gca(), а далее использовать полученный объект Axes и его методы\n",
        "\n",
        "2. Она должна принимать сами данные, переданные до этого в качестве параметра для создания объекта FacetGrid. Впоследствии метод map использует созданную функцию, чтобы визуализировать данные на каждом из подграфиков\n",
        "\n",
        "3. Функция должна принимать и уметь работать с параметрами *color* и *label*, которые контролируют цветовую гамму линий/точек и подписи подграфиков соответственно. **Проще всего реализовать такую функциональность, передав** *****kwargs*** **в качестве последнего параметра функции. Эта заглушка отвечает в python за сохранение всех параметров после именованных.**"
      ]
    },
    {
      "cell_type": "code",
      "execution_count": null,
      "id": "3f407ce9",
      "metadata": {
        "id": "3f407ce9"
      },
      "outputs": [],
      "source": [
        "from scipy import stats"
      ]
    },
    {
      "cell_type": "code",
      "execution_count": null,
      "id": "e871d9fa",
      "metadata": {
        "id": "e871d9fa"
      },
      "outputs": [],
      "source": [
        "# строим квантильный график\n",
        "def quantile_plot(data, **kwargs):\n",
        "    ax = plt.gca()\n",
        "    quantiles, xr = stats.probplot(data, fit=False)\n",
        "    ax.scatter(xr, quantiles, **kwargs)\n",
        "\n",
        "fg = sns.FacetGrid(data_auto, col=\"origin\", aspect=0.8, height=6)\n",
        "fg.map(quantile_plot, \"mpg\")\n",
        "fg.fig.suptitle('Fuel consumption distribution by origin, probability plots', fontsize=20, x=0.55)\n",
        "fg.fig.subplots_adjust(top=0.85)\n",
        "plt.show()"
      ]
    },
    {
      "cell_type": "code",
      "execution_count": null,
      "id": "cb0c3834",
      "metadata": {
        "id": "cb0c3834"
      },
      "outputs": [],
      "source": [
        "# строим Q-Q график\n",
        "def qq_plot(data_x, data_y, diagonal=True, **kwargs):\n",
        "    ax = plt.gca()\n",
        "    _, xr = stats.probplot(data_x, fit=False)\n",
        "    _, yr = stats.probplot(data_y, fit=False)\n",
        "    ax.scatter(xr, yr, **kwargs)\n",
        "    if diagonal:\n",
        "        ax.plot([np.nanmin(xr), np.nanmax(xr)], [np.nanmin(yr), np.nanmax(yr)], ls='--', lw=3, color='g')\n",
        "\n",
        "fg = sns.FacetGrid(data_auto, col=\"origin\", aspect=0.8, height=6, sharex=False, sharey=False)\n",
        "fg.map(qq_plot, \"mpg\", \"horsepower\")\n",
        "fg.fig.suptitle('Fuel consumption distribution by origin, Q-Q plots', fontsize=20, x=0.55)\n",
        "fg.fig.subplots_adjust(top=0.85)\n",
        "plt.show()"
      ]
    },
    {
      "cell_type": "code",
      "execution_count": null,
      "id": "ac6739e6",
      "metadata": {
        "id": "ac6739e6"
      },
      "outputs": [],
      "source": [
        "# строим Q-Q график\n",
        "def qq_plot(data_x, data_y, diagonal=True, **kwargs):\n",
        "    ax = plt.gca()\n",
        "    _, xr = stats.probplot(data_x, fit=False)\n",
        "    _, yr = stats.probplot(data_y, fit=False)\n",
        "    ax.scatter(xr, yr, **kwargs)\n",
        "    if diagonal:\n",
        "        ax.plot([np.nanmin(xr), np.nanmax(xr)], [np.nanmin(yr), np.nanmax(yr)], ls='--', lw=3, color='g')\n",
        "\n",
        "fg = sns.FacetGrid(data_auto, col=\"origin\", aspect=0.8, height=6, sharex=False, sharey=False)\n",
        "fg.map(qq_plot, \"mpg\", \"acceleration\")\n",
        "fg.fig.suptitle('Fuel consumption distribution by origin, Q-Q plots', fontsize=20, x=0.55)\n",
        "fg.fig.subplots_adjust(top=0.85)\n",
        "plt.show()"
      ]
    },
    {
      "cell_type": "code",
      "execution_count": null,
      "id": "854559a4",
      "metadata": {
        "id": "854559a4"
      },
      "outputs": [],
      "source": [
        "# color тоже работает\n",
        "\n",
        "fg = sns.FacetGrid(data_auto, col=\"origin\", hue='cylinders', aspect=0.8, height=6, sharex=False, sharey=False)\n",
        "fg.map(qq_plot, \"mpg\", \"acceleration\")\n",
        "fg.fig.suptitle('Fuel consumption distribution by origin, Q-Q plots', fontsize=20, x=0.55)\n",
        "fg.fig.subplots_adjust(top=0.85)\n",
        "fg.add_legend()\n",
        "plt.show()"
      ]
    },
    {
      "cell_type": "code",
      "execution_count": null,
      "id": "963091a5",
      "metadata": {
        "id": "963091a5"
      },
      "outputs": [],
      "source": [
        "# при этом можно не пользоваться только **kwargs, а кастомизировать параметры по-своему\n",
        "\n",
        "def hexbin(x, y, color, gridsize, **kwargs):\n",
        "    cmap = sns.light_palette(color, as_cmap=True)\n",
        "    plt.hexbin(x, y, gridsize=gridsize, cmap=cmap, **kwargs)\n",
        "\n",
        "with sns.axes_style(\"dark\"):\n",
        "    g = sns.FacetGrid(data_auto, hue=\"origin\", col=\"origin\", height=6, sharex=False, sharey=False)\n",
        "g.map(hexbin, \"mpg\", \"horsepower\", gridsize=15)\n",
        "plt.show()"
      ]
    },
    {
      "cell_type": "markdown",
      "id": "b4fd239c",
      "metadata": {
        "id": "b4fd239c"
      },
      "source": [
        "## 3. Использование PairGrid()"
      ]
    },
    {
      "cell_type": "code",
      "execution_count": null,
      "id": "53614a74",
      "metadata": {
        "id": "53614a74"
      },
      "outputs": [],
      "source": [
        "# начало работы\n",
        "\n",
        "pg = sns.PairGrid(data_auto)\n",
        "pg.map(sns.scatterplot)\n",
        "pg.fig.suptitle('Pairwise correlations for automobile data', fontsize=20, x=0.5)\n",
        "pg.fig.subplots_adjust(top=0.95)\n",
        "plt.show()"
      ]
    },
    {
      "cell_type": "code",
      "execution_count": null,
      "id": "d4632c83",
      "metadata": {
        "id": "d4632c83"
      },
      "outputs": [],
      "source": [
        "# диагональные элементы можно изменить, при этом шкала оси y уже не будет верна для диаг. элементов\n",
        "\n",
        "pg = sns.PairGrid(data_auto)\n",
        "pg.map_diag(sns.histplot)\n",
        "pg.map_offdiag(sns.scatterplot)\n",
        "pg.fig.suptitle('Pairwise correlations for automobile data', fontsize=20, x=0.5)\n",
        "pg.fig.subplots_adjust(top=0.95)\n",
        "plt.show()"
      ]
    },
    {
      "cell_type": "code",
      "execution_count": null,
      "id": "7fbfa508",
      "metadata": {
        "id": "7fbfa508"
      },
      "outputs": [],
      "source": [
        "# добавляем цветовое различие\n",
        "\n",
        "pg = sns.PairGrid(data_auto, hue=\"origin\")\n",
        "pg.map_diag(sns.histplot)\n",
        "pg.map_offdiag(sns.scatterplot)\n",
        "pg.fig.suptitle('Pairwise correlations for automobile data (divided by origin)', fontsize=20, x=0.5)\n",
        "pg.fig.subplots_adjust(top=0.95)\n",
        "pg.add_legend()\n",
        "plt.show()"
      ]
    },
    {
      "cell_type": "code",
      "execution_count": null,
      "id": "c090acc7",
      "metadata": {
        "id": "c090acc7"
      },
      "outputs": [],
      "source": [
        "# выделяем только те величины что нам нужны\n",
        "\n",
        "pg = sns.PairGrid(data_auto, vars=[\"mpg\", \"cylinders\", \"horsepower\", \"acceleration\"], hue=\"origin\")\n",
        "pg.map(sns.scatterplot)\n",
        "pg.fig.suptitle('Pairwise correlations for automobile data (short)', fontsize=20, x=0.5)\n",
        "pg.fig.subplots_adjust(top=0.95)\n",
        "pg.add_legend()\n",
        "plt.show()"
      ]
    },
    {
      "cell_type": "code",
      "execution_count": null,
      "id": "75386853",
      "metadata": {
        "id": "75386853"
      },
      "outputs": [],
      "source": [
        "# можно кастомизировать то, что под и над диагональю, отдельно\n",
        "\n",
        "pg = sns.PairGrid(data_auto)\n",
        "pg.map_upper(sns.scatterplot)\n",
        "pg.map_lower(sns.kdeplot)\n",
        "pg.map_diag(sns.histplot)\n",
        "pg.fig.suptitle('Pairwise correlations for automobile data (customized)', fontsize=20, x=0.5)\n",
        "pg.fig.subplots_adjust(top=0.95)\n",
        "plt.show()"
      ]
    },
    {
      "cell_type": "code",
      "execution_count": null,
      "id": "4763be5d",
      "metadata": {
        "id": "4763be5d"
      },
      "outputs": [],
      "source": [
        "# можно делать не только квадратную матрицу, её можно кастомизировать\n",
        "\n",
        "pg = sns.PairGrid(data_auto, y_vars=[\"mpg\"], x_vars=[\"acceleration\", \"cylinders\"], height=6)\n",
        "pg.map(sns.regplot, color=\"purple\")\n",
        "pg.axes[0][0].set_xticks(np.arange(7, 25.1, 2))\n",
        "pg.fig.suptitle('Pairwise correlations for automobile data (mpg vs. acceleration/cylinders)',\n",
        "                fontsize=20, x=0.5)\n",
        "pg.fig.subplots_adjust(top=0.93)\n",
        "plt.show()"
      ]
    },
    {
      "cell_type": "code",
      "execution_count": null,
      "id": "e43c8467",
      "metadata": {
        "id": "e43c8467"
      },
      "outputs": [],
      "source": [
        "# можно кастомизировать внешний вид\n",
        "\n",
        "pg = sns.PairGrid(data_auto, hue=\"cylinders\", palette=\"Wistia\")\n",
        "pg.map(plt.scatter, s=25, marker='s')\n",
        "pg.add_legend()\n",
        "pg.fig.suptitle('Pairwise correlations for automobile data', fontsize=20, x=0.5)\n",
        "pg.fig.subplots_adjust(top=0.95)\n",
        "plt.show()"
      ]
    },
    {
      "cell_type": "code",
      "execution_count": null,
      "id": "dc60e7a8",
      "metadata": {
        "id": "dc60e7a8"
      },
      "outputs": [],
      "source": [
        "# Всё же, для быстрой визуализации можно использовать функцию pairplot\n",
        "\n",
        "fig = sns.pairplot(data_auto, hue=\"origin\", palette=\"Set2\", diag_kind=\"kde\", height=3)\n",
        "fig.fig.suptitle('Pairwise correlations for automobile data (designed)', fontsize=20, x=0.5)\n",
        "fig.fig.subplots_adjust(top=0.95)\n",
        "plt.show()"
      ]
    }
  ],
  "metadata": {
    "kernelspec": {
      "display_name": "Python 3 (ipykernel)",
      "language": "python",
      "name": "python3"
    },
    "language_info": {
      "codemirror_mode": {
        "name": "ipython",
        "version": 3
      },
      "file_extension": ".py",
      "mimetype": "text/x-python",
      "name": "python",
      "nbconvert_exporter": "python",
      "pygments_lexer": "ipython3",
      "version": "3.10.12"
    },
    "colab": {
      "provenance": [],
      "include_colab_link": true
    }
  },
  "nbformat": 4,
  "nbformat_minor": 5
}