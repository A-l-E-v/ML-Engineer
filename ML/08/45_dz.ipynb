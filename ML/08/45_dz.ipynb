{
 "cells": [
  {
   "cell_type": "markdown",
   "metadata": {},
   "source": [
    "Математические основы МГК"
   ]
  },
  {
   "cell_type": "markdown",
   "metadata": {},
   "source": [
    "Ручной расчет МГК для 2D точек"
   ]
  },
  {
   "cell_type": "code",
   "execution_count": 1,
   "metadata": {},
   "outputs": [],
   "source": [
    "import numpy as np\n",
    "\n",
    "# Исходные данные (2D точки)\n",
    "X = np.array([\n",
    "    [2.5, 2.4],\n",
    "    [0.5, 0.7],\n",
    "    [2.2, 2.9],\n",
    "    [1.9, 2.2],\n",
    "    [3.1, 3.0],\n",
    "    [2.3, 2.7],\n",
    "    [2.0, 1.6],\n",
    "    [1.0, 1.1],\n",
    "    [1.5, 1.6],\n",
    "    [1.1, 0.9]\n",
    "])"
   ]
  },
  {
   "cell_type": "code",
   "execution_count": 2,
   "metadata": {},
   "outputs": [
    {
     "name": "stdout",
     "output_type": "stream",
     "text": [
      "Центрированные данные:\n",
      " [[ 0.69  0.49]\n",
      " [-1.31 -1.21]\n",
      " [ 0.39  0.99]\n",
      " [ 0.09  0.29]\n",
      " [ 1.29  1.09]\n",
      " [ 0.49  0.79]\n",
      " [ 0.19 -0.31]\n",
      " [-0.81 -0.81]\n",
      " [-0.31 -0.31]\n",
      " [-0.71 -1.01]]\n"
     ]
    }
   ],
   "source": [
    "# Центрирование данных\n",
    "mean = np.mean(X, axis=0)\n",
    "X_centered = X - mean\n",
    "print(\"Центрированные данные:\\n\", X_centered)"
   ]
  },
  {
   "cell_type": "code",
   "execution_count": 3,
   "metadata": {},
   "outputs": [
    {
     "name": "stdout",
     "output_type": "stream",
     "text": [
      "Ковариационная матрица:\n",
      " [[0.61655556 0.61544444]\n",
      " [0.61544444 0.71655556]]\n"
     ]
    }
   ],
   "source": [
    "# Вычисление ковариационной матрицы\n",
    "cov_matrix = np.cov(X_centered, rowvar=False)\n",
    "print(\"Ковариационная матрица:\\n\", cov_matrix)"
   ]
  },
  {
   "cell_type": "code",
   "execution_count": 4,
   "metadata": {},
   "outputs": [
    {
     "name": "stdout",
     "output_type": "stream",
     "text": [
      "Собственные значения: [0.0490834  1.28402771]\n",
      "Собственные векторы:\n",
      " [[-0.73517866 -0.6778734 ]\n",
      " [ 0.6778734  -0.73517866]]\n"
     ]
    }
   ],
   "source": [
    "# Нахождение собственных значений и векторов\n",
    "eigen_values, eigen_vectors = np.linalg.eig(cov_matrix)\n",
    "print(\"Собственные значения:\", eigen_values)\n",
    "print(\"Собственные векторы:\\n\", eigen_vectors)"
   ]
  },
  {
   "cell_type": "code",
   "execution_count": 5,
   "metadata": {},
   "outputs": [
    {
     "name": "stdout",
     "output_type": "stream",
     "text": [
      "Проекции точек на первую главную компоненту:\n",
      " [-0.17511531  0.14285723  0.38437499  0.13041721 -0.20949846  0.17528244\n",
      " -0.3498247   0.04641726  0.01776463 -0.16267529]\n"
     ]
    }
   ],
   "source": [
    "# Проекция на первую главную компоненту\n",
    "projection_vector = eigen_vectors[:, 0]  # первая главная компонента\n",
    "X_pca = X_centered.dot(projection_vector)\n",
    "print(\"Проекции точек на первую главную компоненту:\\n\", X_pca)"
   ]
  },
  {
   "cell_type": "markdown",
   "metadata": {},
   "source": [
    "Анализ влияния нормализации и выбросов"
   ]
  },
  {
   "cell_type": "code",
   "execution_count": 6,
   "metadata": {},
   "outputs": [
    {
     "name": "stdout",
     "output_type": "stream",
     "text": [
      "Ковариационная матрица (увеличенный масштаб):\n",
      " [[ 0.61655556  6.15444444]\n",
      " [ 6.15444444 71.65555556]]\n",
      "Собственные значения (увеличенный масштаб): [ 0.08730985 72.18480126]\n",
      "Собственные векторы (увеличенный масштаб):\n",
      " [[-0.99632289 -0.08567786]\n",
      " [ 0.08567786 -0.99632289]]\n"
     ]
    }
   ],
   "source": [
    "# Увеличим второй признак в 10 раз\n",
    "X_scaled = np.copy(X)\n",
    "X_scaled[:, 1] *= 10\n",
    "\n",
    "mean_scaled = np.mean(X_scaled, axis=0)\n",
    "X_centered_scaled = X_scaled - mean_scaled\n",
    "cov_matrix_scaled = np.cov(X_centered_scaled, rowvar=False)\n",
    "print(\"Ковариационная матрица (увеличенный масштаб):\\n\", cov_matrix_scaled)\n",
    "\n",
    "eigen_values_scaled, eigen_vectors_scaled = np.linalg.eig(cov_matrix_scaled)\n",
    "print(\"Собственные значения (увеличенный масштаб):\", eigen_values_scaled)\n",
    "print(\"Собственные векторы (увеличенный масштаб):\\n\", eigen_vectors_scaled)"
   ]
  },
  {
   "cell_type": "code",
   "execution_count": 7,
   "metadata": {},
   "outputs": [
    {
     "name": "stdout",
     "output_type": "stream",
     "text": [
      "Стандартизованные данные:\n",
      " [[ 0.92627881  0.61016865]\n",
      " [-1.7585873  -1.506743  ]\n",
      " [ 0.52354889  1.23278973]\n",
      " [ 0.12081898  0.36112022]\n",
      " [ 1.73173864  1.35731394]\n",
      " [ 0.6577922   0.9837413 ]\n",
      " [ 0.25506228 -0.38602507]\n",
      " [-1.08737078 -1.00864614]\n",
      " [-0.41615425 -0.38602507]\n",
      " [-0.95312747 -1.25769457]]\n"
     ]
    }
   ],
   "source": [
    "# Стандартизация данных\n",
    "from sklearn.preprocessing import StandardScaler\n",
    "\n",
    "scaler = StandardScaler()\n",
    "X_standardized = scaler.fit_transform(X)\n",
    "print(\"Стандартизованные данные:\\n\", X_standardized)"
   ]
  },
  {
   "cell_type": "code",
   "execution_count": 8,
   "metadata": {},
   "outputs": [
    {
     "name": "stdout",
     "output_type": "stream",
     "text": [
      "Ковариационная матрица с выбросом:\n",
      " [[6.65272727 6.57727273]\n",
      " [6.57727273 6.59472727]]\n",
      "Собственные значения с выбросом: [13.20106393  0.04639061]\n",
      "Собственные векторы с выбросом:\n",
      " [[ 0.70866391 -0.70554621]\n",
      " [ 0.70554621  0.70866391]]\n"
     ]
    }
   ],
   "source": [
    "# Добавим выброс\n",
    "X_outlier = np.vstack((X, [10, 10]))\n",
    "\n",
    "mean_outlier = np.mean(X_outlier, axis=0)\n",
    "X_centered_outlier = X_outlier - mean_outlier\n",
    "cov_matrix_outlier = np.cov(X_centered_outlier, rowvar=False)\n",
    "print(\"Ковариационная матрица с выбросом:\\n\", cov_matrix_outlier)\n",
    "\n",
    "eigen_values_outlier, eigen_vectors_outlier = np.linalg.eig(cov_matrix_outlier)\n",
    "print(\"Собственные значения с выбросом:\", eigen_values_outlier)\n",
    "print(\"Собственные векторы с выбросом:\\n\", eigen_vectors_outlier)"
   ]
  },
  {
   "cell_type": "markdown",
   "metadata": {},
   "source": [
    "Выводы\n",
    "\n",
    "- Изучены математические основы МГК: ковариационная матрица, собственные значения и векторы.\n",
    "- Выполнен формальный вывод алгоритма МГК.\n",
    "- Реализован ручной расчёт МГК для 2D-данных с использованием библиотеки NumPy.\n",
    "- Показано влияние:\n",
    "  - нормализации — без неё доминируют признаки с большими значениями;\n",
    "  - выбросов — они искажают направление главных компонент.\n",
    "\n",
    "Выводы:\n",
    "- Нормализация данных критически важна для корректного применения МГК.\n",
    "- МГК чувствителен к выбросам, поэтому перед его применением рекомендуется предварительная очистка данных.\n",
    "- МГК позволяет находить направления наибольшей изменчивости и эффективно снижать размерность данных."
   ]
  }
 ],
 "metadata": {
  "kernelspec": {
   "display_name": "myenv",
   "language": "python",
   "name": "python3"
  },
  "language_info": {
   "codemirror_mode": {
    "name": "ipython",
    "version": 3
   },
   "file_extension": ".py",
   "mimetype": "text/x-python",
   "name": "python",
   "nbconvert_exporter": "python",
   "pygments_lexer": "ipython3",
   "version": "3.12.3"
  }
 },
 "nbformat": 4,
 "nbformat_minor": 4
}
