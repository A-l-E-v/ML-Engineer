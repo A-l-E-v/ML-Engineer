{
  "cells": [
    {
      "cell_type": "markdown",
      "metadata": {
        "id": "view-in-github",
        "colab_type": "text"
      },
      "source": [
        "<a href=\"https://colab.research.google.com/github/A-l-E-v/ML-Engineer/blob/main/Lesson_4_5_(3D).ipynb\" target=\"_parent\"><img src=\"https://colab.research.google.com/assets/colab-badge.svg\" alt=\"Open In Colab\"/></a>"
      ]
    },
    {
      "cell_type": "code",
      "execution_count": null,
      "id": "062e5a41",
      "metadata": {
        "id": "062e5a41"
      },
      "outputs": [],
      "source": [
        "import numpy as np\n",
        "import pandas as pd\n",
        "import plotly.graph_objects as go\n",
        "from plotly.subplots import make_subplots\n",
        "import plotly.express as px\n",
        "from ipywidgets import widgets"
      ]
    },
    {
      "cell_type": "markdown",
      "id": "b5a7ac39",
      "metadata": {
        "id": "b5a7ac39"
      },
      "source": [
        "## 1. Основы работы с 3D"
      ]
    },
    {
      "cell_type": "code",
      "execution_count": null,
      "id": "1ff48cb1",
      "metadata": {
        "id": "1ff48cb1"
      },
      "outputs": [],
      "source": [
        "# hello world\n",
        "\n",
        "fig = go.Figure()\n",
        "\n",
        "fig.add_mesh3d(x=np.random.random(100)*100, y=np.random.random(100)*100, z=np.random.random(100)*100,\n",
        "               opacity=0.6, color='lime')\n",
        "\n",
        "fig.update_layout \\\n",
        "(\n",
        "    scene=\n",
        "    {\n",
        "        \"xaxis\": {\"nticks\": 5, \"range\": [-100,100]},\n",
        "        \"yaxis\": {\"nticks\": 5, \"range\": [-100,100]},\n",
        "        \"zaxis\": {\"nticks\": 5, \"range\": [-100,100]},\n",
        "    },\n",
        "    width=700,\n",
        "    margin={'r': 20, 'l': 10, 'b': 10, 't': 10}\n",
        ")\n",
        "\n",
        "fig.show()"
      ]
    },
    {
      "cell_type": "code",
      "execution_count": null,
      "id": "974aa6e4",
      "metadata": {
        "id": "974aa6e4"
      },
      "outputs": [],
      "source": [
        "# можно автоматически подбирать масштаб, оставляя какие-то значения в качестве None\n",
        "\n",
        "fig = go.Figure()\n",
        "\n",
        "fig.add_mesh3d(x=np.random.random(100)*50, y=np.random.random(100)*75, z=np.random.random(100)*100,\n",
        "               opacity=0.6, color='lime')\n",
        "\n",
        "fig.update_layout \\\n",
        "(\n",
        "    scene=\n",
        "    {\n",
        "        \"xaxis\": {\"nticks\": 4, \"range\": [None, 100]},\n",
        "        \"yaxis\": {\"nticks\": 4, \"range\": [None, None]},\n",
        "        \"zaxis\": {\"nticks\": 4, \"range\": [-100, None]},\n",
        "    },\n",
        "    width=700,\n",
        "    margin={'r': 20, 'l': 10, 'b': 10, 't': 10}\n",
        ")\n",
        "\n",
        "fig.show()"
      ]
    },
    {
      "cell_type": "code",
      "execution_count": null,
      "id": "440ed70d",
      "metadata": {
        "id": "440ed70d"
      },
      "outputs": [],
      "source": [
        "# композиции делаются ровно таким же образом, как и до этого\n",
        "\n",
        "N = 100\n",
        "\n",
        "fig = make_subplots(rows=2, cols=2,\n",
        "                    specs=[[{'is_3d': True}, {'is_3d': True}],\n",
        "                           [{'is_3d': True}, {'is_3d': True}]],\n",
        "                    print_grid=True)\n",
        "\n",
        "for i in [1, 2]:\n",
        "    for j in [1, 2]:\n",
        "        fig.append_trace \\\n",
        "        (\n",
        "            # делаем намеренно вытянутые области\n",
        "            go.Mesh3d \\\n",
        "            (\n",
        "                x=(75*np.random.randn(N)),\n",
        "                y=(25*np.random.randn(N)),\n",
        "                z=(50*np.random.randn(N)),\n",
        "                opacity=0.6\n",
        "            ),\n",
        "            row=i, col=j\n",
        "        )\n",
        "\n",
        "fig.update_layout(width=700, margin={'r': 10, 'l': 10, 'b': 10, 't': 10})\n",
        "\n",
        "# тут фиксируем оси так, чтобы сцена была кубической\n",
        "fig.update_layout(scene_aspectmode='cube')\n",
        "\n",
        "# здесь вручную вытягиваем ось x\n",
        "fig.update_layout(scene2_aspectmode='manual',\n",
        "                  scene2_aspectratio={'x': 2, 'y': 1, 'x': 1})\n",
        "\n",
        "# здесь мы подбираем отношения осей на основании дли областей определеня данных\n",
        "fig.update_layout(scene3_aspectmode='data')\n",
        "\n",
        "# здесь отношения осей подбираются автоматически\n",
        "fig.update_layout(scene4_aspectmode='auto')\n",
        "\n",
        "fig.show()"
      ]
    },
    {
      "cell_type": "code",
      "execution_count": null,
      "id": "89eda672",
      "metadata": {
        "id": "89eda672"
      },
      "outputs": [],
      "source": [
        "# подпишем оси\n",
        "\n",
        "fig = go.Figure()\n",
        "\n",
        "fig.add_mesh3d(x=np.random.random(100)*100, y=np.random.random(100)*100, z=np.random.random(100)*100,\n",
        "               opacity=0.6, color='lime')\n",
        "\n",
        "fig.update_layout \\\n",
        "(\n",
        "    scene=\n",
        "    {\n",
        "        \"xaxis\": {\"nticks\": 4, \"range\": [None, 100]},\n",
        "        \"yaxis\": {\"nticks\": 4, \"range\": [None, None]},\n",
        "        \"zaxis\": {\"nticks\": 4, \"range\": [-100, None]},\n",
        "        \"xaxis_title\": 'X AXIS TITLE',\n",
        "        \"yaxis_title\": 'Y AXIS TITLE',\n",
        "        \"zaxis_title\": 'Z AXIS TITLE'\n",
        "    },\n",
        "    width=700,\n",
        "    margin={'r': 20, 'l': 10, 'b': 10, 't': 10}\n",
        ")\n",
        "\n",
        "fig.show()"
      ]
    },
    {
      "cell_type": "code",
      "execution_count": null,
      "id": "ef36b9c3",
      "metadata": {
        "id": "ef36b9c3"
      },
      "outputs": [],
      "source": [
        "# поработаем со штрихами\n",
        "\n",
        "fig = go.Figure()\n",
        "\n",
        "fig.add_mesh3d(x=np.random.random(100)*100, y=np.random.random(100)*100, z=np.random.random(100)*100,\n",
        "               opacity=0.6, color='lime')\n",
        "\n",
        "fig.update_layout \\\n",
        "(\n",
        "    scene=\n",
        "    {\n",
        "        \"xaxis\":\n",
        "        {\n",
        "            \"nticks\": 4, \"range\": [None, 100],\n",
        "            \"tickfont\":\n",
        "            {\n",
        "                \"color\": 'green',\n",
        "                \"size\": 12,\n",
        "                \"family\": 'Old Standard TT, serif'\n",
        "            }\n",
        "        },\n",
        "        \"yaxis\": {\"nticks\": 4, \"range\": [None, None], \"ticks\": 'outside', \"tick0\": 0, \"tickwidth\": 3},\n",
        "        \"zaxis\": {\"range\": [-100, None], \"ticktext\": ['I','LOVE','PLOTLY','PYTHON'],\n",
        "                  \"tickvals\": [0, -25, -50, -100]},\n",
        "        \"xaxis_title\": 'X AXIS TITLE',\n",
        "        \"yaxis_title\": 'Y AXIS TITLE',\n",
        "        \"zaxis_title\": 'Z AXIS TITLE'\n",
        "    },\n",
        "    width=700,\n",
        "    margin={'r': 20, 'l': 10, 'b': 10, 't': 10}\n",
        ")\n",
        "\n",
        "fig.show()"
      ]
    },
    {
      "cell_type": "code",
      "execution_count": null,
      "id": "42909e42",
      "metadata": {
        "id": "42909e42"
      },
      "outputs": [],
      "source": [
        "# изменим цвета фона и сетки\n",
        "\n",
        "fig = go.Figure()\n",
        "\n",
        "fig.add_mesh3d(x=np.random.random(100)*100, y=np.random.random(100)*100, z=np.random.random(100)*100,\n",
        "               opacity=0.6, color='lime')\n",
        "\n",
        "fig.update_layout \\\n",
        "(\n",
        "    scene=\n",
        "    {\n",
        "        \"xaxis\":\n",
        "        {\n",
        "            \"backgroundcolor\": \"rgb(200, 260, 230)\",\n",
        "            \"gridcolor\": \"white\",\n",
        "            \"showbackground\": True,\n",
        "            \"zerolinecolor\": \"white\"\n",
        "        },\n",
        "        \"yaxis\":\n",
        "        {\n",
        "            \"backgroundcolor\": \"rgb(170, 200, 260)\",\n",
        "            \"gridcolor\": \"white\",\n",
        "            \"showbackground\": True,\n",
        "            \"zerolinecolor\": \"white\"\n",
        "        },\n",
        "        \"zaxis\":\n",
        "        {\n",
        "            \"backgroundcolor\": \"rgb(200, 260, 170)\",\n",
        "            \"gridcolor\": \"white\",\n",
        "            \"showbackground\": True,\n",
        "            \"zerolinecolor\": \"white\"\n",
        "        },\n",
        "    },\n",
        "    width=700,\n",
        "    margin={'r': 20, 'l': 10, 'b': 10, 't': 10}\n",
        ")\n",
        "\n",
        "\n",
        "fig.show()"
      ]
    },
    {
      "cell_type": "code",
      "execution_count": null,
      "id": "69033084",
      "metadata": {
        "id": "69033084"
      },
      "outputs": [],
      "source": [
        "# можем отключить ненужные проекции\n",
        "\n",
        "fig = go.Figure()\n",
        "\n",
        "fig.add_mesh3d(x=np.random.random(100)*100, y=np.random.random(100)*100, z=np.random.random(100)*100,\n",
        "               opacity=0.6, color='lime')\n",
        "\n",
        "fig.update_layout \\\n",
        "(\n",
        "    scene=\n",
        "    {\n",
        "        \"xaxis\":\n",
        "        {\n",
        "            \"backgroundcolor\": \"rgb(200, 260, 230)\",\n",
        "            \"gridcolor\": \"white\",\n",
        "            \"showbackground\": True,\n",
        "            \"zerolinecolor\": \"white\"\n",
        "        },\n",
        "        \"yaxis\":\n",
        "        {\n",
        "            \"backgroundcolor\": \"rgb(170, 200, 260)\",\n",
        "            \"gridcolor\": \"white\",\n",
        "            \"showbackground\": True,\n",
        "            \"zerolinecolor\": \"white\"\n",
        "        },\n",
        "        \"zaxis\":\n",
        "        {\n",
        "            \"backgroundcolor\": \"rgb(200, 260, 170)\",\n",
        "            \"gridcolor\": \"white\",\n",
        "            \"showbackground\": True,\n",
        "            \"zerolinecolor\": \"white\"\n",
        "        },\n",
        "        \"xaxis_showspikes\": False,\n",
        "        \"yaxis_showspikes\": False\n",
        "    },\n",
        "    width=700,\n",
        "    margin={'r': 20, 'l': 10, 'b': 10, 't': 10}\n",
        ")\n",
        "\n",
        "\n",
        "fig.show()"
      ]
    },
    {
      "cell_type": "markdown",
      "id": "5ebb4809",
      "metadata": {
        "id": "5ebb4809"
      },
      "source": [
        "## 2. Scatter- и lineplot в 3D"
      ]
    },
    {
      "cell_type": "code",
      "execution_count": null,
      "id": "3ab9d5ad",
      "metadata": {
        "id": "3ab9d5ad"
      },
      "outputs": [],
      "source": [
        "df = px.data.experiment()\n",
        "df"
      ]
    },
    {
      "cell_type": "code",
      "execution_count": null,
      "id": "48f62491",
      "metadata": {
        "id": "48f62491"
      },
      "outputs": [],
      "source": [
        "# тут тоже можно использовать plotly.express\n",
        "\n",
        "fig = px.scatter_3d(df, x='experiment_1', y='experiment_2', z='experiment_3',\n",
        "                    color='gender')\n",
        "fig.show()"
      ]
    },
    {
      "cell_type": "code",
      "execution_count": null,
      "id": "fbe59523",
      "metadata": {
        "id": "fbe59523"
      },
      "outputs": [],
      "source": [
        "# видим, что мы увеличили количество независимых координат, которые мы можем показать:\n",
        "\n",
        "fig = px.scatter_3d(df, x='experiment_1', y='experiment_2', z='experiment_3',\n",
        "                    color='gender', symbol=\"group\")\n",
        "fig.show()"
      ]
    },
    {
      "cell_type": "code",
      "execution_count": null,
      "id": "67a03186",
      "metadata": {
        "id": "67a03186"
      },
      "outputs": [],
      "source": [
        "# можем стилизовать график:\n",
        "\n",
        "fig = px.scatter_3d(df, x='gender', y='group', z='experiment_3',\n",
        "                    color='experiment_1', size=\"experiment_2\", opacity=0.75)\n",
        "\n",
        "# без зазоров и пробелов\n",
        "fig.update_layout(margin={'r': 0, 'l': 0, 'b': 0, 't': 0})\n",
        "fig.show()"
      ]
    },
    {
      "cell_type": "code",
      "execution_count": null,
      "id": "d6587d8e",
      "metadata": {
        "id": "d6587d8e"
      },
      "outputs": [],
      "source": [
        "# теперь сделаем с помощью graph_objects\n",
        "\n",
        "# Трилистник\n",
        "t = np.linspace(0, 2*np.pi, 50)\n",
        "x = np.sin(t) + 2*np.sin(2*t)\n",
        "y = np.cos(t) - 2*np.cos(2*t)\n",
        "z = -np.sin(3*t)\n",
        "\n",
        "fig = go.Figure()\n",
        "fig.add_scatter3d(x=x, y=y, z=z, mode='markers')\n",
        "fig.show()"
      ]
    },
    {
      "cell_type": "code",
      "execution_count": null,
      "id": "878cfd56",
      "metadata": {
        "id": "878cfd56"
      },
      "outputs": [],
      "source": [
        "# теперь стилизуем\n",
        "\n",
        "t = np.linspace(0, 2*np.pi, 50)\n",
        "x = np.sin(t) + 2*np.sin(2*t)\n",
        "y = np.cos(t) - 2*np.cos(2*t)\n",
        "z = -np.sin(3*t)\n",
        "\n",
        "fig = go.Figure()\n",
        "fig.add_scatter3d(x=x, y=y, z=z, mode='markers',\n",
        "                  marker={\"size\": 15, \"color\": z, \"colorscale\": 'hot', \"opacity\": 0.75})\n",
        "fig.update_layout(margin={'r': 0, 'l': 0, 'b': 0, 't': 0})\n",
        "fig.show()"
      ]
    },
    {
      "cell_type": "code",
      "execution_count": null,
      "id": "fa35c269",
      "metadata": {
        "id": "fa35c269"
      },
      "outputs": [],
      "source": [
        "df = px.data.stocks()\n",
        "df"
      ]
    },
    {
      "cell_type": "code",
      "execution_count": null,
      "id": "4c9e6ab8",
      "metadata": {
        "id": "4c9e6ab8"
      },
      "outputs": [],
      "source": [
        "# линии тоже очень легко делать\n",
        "\n",
        "fig = px.line_3d(df, z='date', x=\"GOOG\", y=\"AAPL\")\n",
        "fig.update_traces(line_width=10)\n",
        "fig.show()"
      ]
    },
    {
      "cell_type": "code",
      "execution_count": null,
      "id": "0b1f3307",
      "metadata": {
        "id": "0b1f3307"
      },
      "outputs": [],
      "source": [
        "df = px.data.gapminder().query(\"continent=='Asia'\")\n",
        "df"
      ]
    },
    {
      "cell_type": "code",
      "execution_count": null,
      "id": "2f68ff45",
      "metadata": {
        "id": "2f68ff45"
      },
      "outputs": [],
      "source": [
        "# можно даже много сразу\n",
        "fig = px.line_3d(df, x=\"pop\", y=\"lifeExp\", z=\"year\", color='country', log_x=True)\n",
        "fig.update_traces(line_width=5)\n",
        "fig.show()"
      ]
    },
    {
      "cell_type": "code",
      "execution_count": null,
      "id": "f72e6c32",
      "metadata": {
        "id": "f72e6c32"
      },
      "outputs": [],
      "source": [
        "fig.data[0]"
      ]
    },
    {
      "cell_type": "code",
      "execution_count": null,
      "id": "e1fea445",
      "metadata": {
        "id": "e1fea445"
      },
      "outputs": [],
      "source": [
        "# можно изобразить 3d случайное блуждание\n",
        "\n",
        "steps = np.random.choice([-1, 1], 1000)\n",
        "directions = [np.random.choice([0, 0, 1], 3, replace=False) for i in range(1000)]\n",
        "walk = np.cumsum(np.array(directions) * steps.reshape(-1, 1), axis=0)\n",
        "\n",
        "fig = go.Figure\\\n",
        "(\n",
        "    data=go.Scatter3d\\\n",
        "    (\n",
        "        x=walk[:, 0], y=walk[:, 1], z=walk[:, 2],\n",
        "        marker={\"size\": 5, \"color\": abs(walk).sum(axis=1), \"colorscale\": 'hot'},\n",
        "        line={\"color\": 'darkblue', \"width\": 3}\n",
        "    )\n",
        ")\n",
        "\n",
        "fig.update_layout\\\n",
        "(\n",
        "    width=800,\n",
        "    height=800\n",
        ")\n",
        "\n",
        "fig.show()"
      ]
    },
    {
      "cell_type": "markdown",
      "id": "68036de4",
      "metadata": {
        "id": "68036de4"
      },
      "source": [
        "## 3. Построение триангуляции, полигонов и поверхностей"
      ]
    },
    {
      "cell_type": "code",
      "execution_count": null,
      "id": "77c61a40",
      "metadata": {
        "id": "77c61a40"
      },
      "outputs": [],
      "source": [
        "# начнём с простого\n",
        "\n",
        "fig = go.Figure \\\n",
        "(\n",
        "    data=\\\n",
        "    [\n",
        "        go.Mesh3d(x=np.random.random(100)*100, y=np.random.random(100)*100, z=np.random.random(100)*100,\n",
        "                  color='lightpink', opacity=0.5)\n",
        "    ]\n",
        ")\n",
        "fig.show()"
      ]
    },
    {
      "cell_type": "code",
      "execution_count": null,
      "id": "bbd938a9",
      "metadata": {
        "id": "bbd938a9"
      },
      "outputs": [],
      "source": [
        "# добавим выпуклую оболочку\n",
        "\n",
        "fig = go.Figure \\\n",
        "(\n",
        "    data=\\\n",
        "    [\n",
        "        go.Mesh3d(x=np.random.random(100)*100, y=np.random.random(100)*100, z=np.random.random(100)*100,\n",
        "                  alphahull=5, color='cyan', opacity=0.5)\n",
        "    ]\n",
        ")\n",
        "fig.show()"
      ]
    },
    {
      "cell_type": "code",
      "execution_count": null,
      "id": "6b7d9dd1",
      "metadata": {
        "id": "6b7d9dd1"
      },
      "outputs": [],
      "source": [
        "# загружаем текстуры\n",
        "\n",
        "base_url = \"https://raw.githubusercontent.com/plotly/datasets/master/ply/\"\n",
        "mesh_names = ['sandal', 'scissors', 'shark', 'walkman']\n",
        "dataframes = {name: pd.read_csv(base_url + name + '-ply.csv') for name in mesh_names}\n",
        "\n",
        "textures = widgets.Dropdown \\\n",
        "(\n",
        "    options=mesh_names,\n",
        "    value=\"sandal\",\n",
        "    description=\"Choose texture:\"\n",
        ")\n",
        "\n",
        "df = dataframes[\"sandal\"]\n",
        "fig = go.FigureWidget \\\n",
        "(\n",
        "    go.Mesh3d \\\n",
        "    (\n",
        "        x=df.x, y=df.y, z=df.z,\n",
        "        i=df.i, j=df.j, k=df.k,\n",
        "        facecolor=df.facecolor\n",
        "    )\n",
        ")\n",
        "\n",
        "def textures_change(change):\n",
        "    df = dataframes[change[\"new\"]]\n",
        "    fig.data[0].update(x=df.x, y=df.y, z=df.z,\n",
        "                       i=df.i, j=df.j, k=df.k,\n",
        "                       facecolor=df.facecolor)\n",
        "\n",
        "textures.observe(textures_change, names=\"value\")\n",
        "\n",
        "display(textures)\n",
        "display(fig)"
      ]
    },
    {
      "cell_type": "code",
      "execution_count": null,
      "id": "1995bec3",
      "metadata": {
        "id": "1995bec3"
      },
      "outputs": [],
      "source": [
        "dataframes['sandal']"
      ]
    },
    {
      "cell_type": "code",
      "execution_count": null,
      "id": "be3c7729",
      "metadata": {
        "id": "be3c7729"
      },
      "outputs": [],
      "source": [
        "# рисуем тетраэдр\n",
        "\n",
        "fig = go.Figure\\\n",
        "(\n",
        "    data=\\\n",
        "    [\n",
        "        go.Mesh3d\\\n",
        "        (\n",
        "            x=[0, 1, 2, 0],\n",
        "            y=[0, 0, 1, 2],\n",
        "            z=[0, 2, 0, 1],\n",
        "            colorbar_title='z',\n",
        "            colorscale=[[0, 'gold'],\n",
        "                        [0.5, 'green'],\n",
        "                        [1, 'magenta']],\n",
        "\n",
        "            # Интенсивности цвета для каждой вершины\n",
        "            intensity=[0, 0.33, 0.66, 1],\n",
        "\n",
        "            # здесь мы задаем сами треугольники\n",
        "            i=[0, 0, 0, 1],\n",
        "            j=[1, 2, 3, 2],\n",
        "            k=[2, 3, 1, 3],\n",
        "\n",
        "            name='y',\n",
        "            showscale=True\n",
        "        )\n",
        "])\n",
        "\n",
        "fig.show()"
      ]
    },
    {
      "cell_type": "code",
      "execution_count": null,
      "id": "6c681b19",
      "metadata": {
        "id": "6c681b19"
      },
      "outputs": [],
      "source": [
        "# рисуем кубик\n",
        "\n",
        "fig = go.Figure\\\n",
        "(\n",
        "    data=\\\n",
        "    [\n",
        "        go.Mesh3d\\\n",
        "        (\n",
        "            # 8 вершин куба\n",
        "            x=[0, 0, 1, 1, 0, 0, 1, 1],\n",
        "            y=[0, 1, 1, 0, 0, 1, 1, 0],\n",
        "            z=[0, 0, 0, 0, 1, 1, 1, 1],\n",
        "            colorbar_title='z',\n",
        "            colorscale=[[0, 'gold'],\n",
        "                        [0.5, 'green'],\n",
        "                        [1, 'magenta']],\n",
        "\n",
        "            # Интенсивности цвета для каждой вершины\n",
        "            intensity = np.linspace(0, 1, 8, endpoint=True),\n",
        "\n",
        "            # здесь мы задаем сами треугольники\n",
        "            i = [7, 0, 0, 0, 4, 4, 6, 6, 4, 0, 3, 2],\n",
        "            j = [3, 4, 1, 2, 5, 6, 5, 2, 0, 1, 6, 3],\n",
        "            k = [0, 7, 2, 3, 6, 7, 1, 1, 5, 5, 7, 6],\n",
        "\n",
        "            name='y',\n",
        "            showscale=True\n",
        "        )\n",
        "])\n",
        "\n",
        "fig.show()"
      ]
    },
    {
      "cell_type": "code",
      "execution_count": null,
      "id": "b46b2e5a",
      "metadata": {
        "id": "b46b2e5a"
      },
      "outputs": [],
      "source": [
        "# рисуем октаэдр, но здесь интенсивности заданы на грани, а не на вершины -\n",
        "# в этом случае интерполяция цвета не применяется, цвет распределяется равномено по грани\n",
        "\n",
        "fig = go.Figure\\\n",
        "(\n",
        "    data=\\\n",
        "    [\n",
        "        go.Mesh3d\\\n",
        "        (\n",
        "            # 6 вершин\n",
        "            x=[1, 0, -1, 0, 0, 0],\n",
        "            y=[0, -1, 0, 1, 0, 0],\n",
        "            z=[0, 0, 0, 0, 1, -1],\n",
        "            colorbar_title='z',\n",
        "            colorscale=[[0, 'gold'],\n",
        "                        [0.5, 'green'],\n",
        "                        [1, 'magenta']],\n",
        "\n",
        "            # Интенсивности цвета для каждой грани\n",
        "            intensity = np.linspace(0, 1, 8, endpoint=True),\n",
        "            intensitymode='cell',\n",
        "\n",
        "            # здесь мы задаем сами треугольники\n",
        "            i = [4, 4, 4, 4, 5, 5, 5, 5],\n",
        "            j = [0, 1, 2, 3, 1, 2, 3, 0],\n",
        "            k = [1, 2, 3, 0, 0, 1, 2, 3],\n",
        "\n",
        "            name='y',\n",
        "            showscale=True\n",
        "        )\n",
        "])\n",
        "\n",
        "fig.show()"
      ]
    },
    {
      "cell_type": "markdown",
      "id": "937563b8",
      "metadata": {
        "id": "937563b8"
      },
      "source": [
        "### Поверхности"
      ]
    },
    {
      "cell_type": "code",
      "execution_count": null,
      "id": "f60f1b5a",
      "metadata": {
        "id": "f60f1b5a"
      },
      "outputs": [],
      "source": [
        "# загрузим данные из внешних источников\n",
        "z_data = \\\n",
        "pd.read_csv('https://raw.githubusercontent.com/plotly/datasets/master/api_docs/mt_bruno_elevation.csv',\n",
        "            index_col=0)\n",
        "z_data"
      ]
    },
    {
      "cell_type": "code",
      "execution_count": null,
      "id": "62f87bf5",
      "metadata": {
        "id": "62f87bf5"
      },
      "outputs": [],
      "source": [
        "fig = go.Figure(data=[go.Surface(z=z_data.values)])\n",
        "\n",
        "fig.update_layout(title='Mt Bruno Elevation',\n",
        "                  autosize=False,\n",
        "                  width=500, height=500,\n",
        "                  margin={'l': 65, 'r': 50, 'b': 65, 't': 90})\n",
        "\n",
        "fig.show()"
      ]
    },
    {
      "cell_type": "code",
      "execution_count": null,
      "id": "63842897",
      "metadata": {
        "id": "63842897"
      },
      "outputs": [],
      "source": [
        "# теперь давайте передадим значения x и y\n",
        "\n",
        "sh_0, sh_1 = z_data.shape\n",
        "x, y = np.linspace(0, 1, sh_0), np.linspace(0, 1, sh_1)\n",
        "\n",
        "fig = go.Figure(data=[go.Surface(z=z_data.values, x=x, y=y)])\n",
        "fig.update_layout(title='Mt Bruno Elevation', autosize=False,\n",
        "                  width=500, height=500,\n",
        "                  margin={'l': 65, 'r': 50, 'b': 65, 't': 90})\n",
        "fig.show()"
      ]
    },
    {
      "cell_type": "code",
      "execution_count": null,
      "id": "0bd67beb",
      "metadata": {
        "id": "0bd67beb"
      },
      "outputs": [],
      "source": [
        "# можем добавить проекцию поверхности на плоскость\n",
        "fig = go.Figure(data=[go.Surface(z=z_data.values)])\n",
        "fig.update_traces(contours_z=\n",
        "                  {\n",
        "                      \"show\": True,\n",
        "                      \"usecolormap\": True,\n",
        "                      \"highlightcolor\": \"limegreen\",\n",
        "                      \"project_z\": True\n",
        "                  })\n",
        "\n",
        "fig.update_layout(title='Mt Bruno Elevation', autosize=False,\n",
        "                  width=500, height=500,\n",
        "                  margin={'l': 65, 'r': 50, 'b': 65, 't': 90})\n",
        "\n",
        "fig.show()"
      ]
    },
    {
      "cell_type": "code",
      "execution_count": null,
      "id": "6b2a6648",
      "metadata": {
        "id": "6b2a6648"
      },
      "outputs": [],
      "source": [
        "# слои \"нарезки\" можно настроить самостоятельно:\n",
        "\n",
        "fig = go.Figure\\\n",
        "(\n",
        "    go.Surface\\\n",
        "    (\n",
        "        contours = \\\n",
        "        {\n",
        "            \"x\": {\"show\": True, \"start\": 2, \"end\": 4, \"size\": 0.2, \"color\":\"white\"},\n",
        "            \"z\": {\"show\": True, \"start\": -0.5, \"end\": 0.5, \"size\": 0.05}\n",
        "        },\n",
        "    x = [1, 2, 3, 4, 5],\n",
        "    y = [1, 2, 3, 4, 5],\n",
        "    z = \\\n",
        "    [\n",
        "        [-1, 1, -1, 1, -1],\n",
        "        [1, 0, 1, 0, 1],\n",
        "        [-1, 1, -1, 1, -1],\n",
        "        [1, 0, 1, 0, 1],\n",
        "        [-1, 1, -1, 1, -1]\n",
        "    ])\n",
        ")\n",
        "fig.update_layout\\\n",
        "(\n",
        "    scene = \\\n",
        "    {\n",
        "        \"xaxis\": {\"nticks\": 20},\n",
        "        \"zaxis\": {\"nticks\": 4},\n",
        "        \"aspectratio\": {\"x\": 1, \"y\": 1, \"z\": 0.2}\n",
        "    }\n",
        ")\n",
        "fig.show()"
      ]
    },
    {
      "cell_type": "code",
      "execution_count": null,
      "id": "c6afefe5",
      "metadata": {
        "id": "c6afefe5"
      },
      "outputs": [],
      "source": [
        "# можно сделать лазанью\n",
        "z1 = 9.5 + np.random.random((10, 10))\n",
        "\n",
        "z2 = z1 + 2\n",
        "z3 = z1 - 2\n",
        "\n",
        "fig = go.Figure\\\n",
        "(\n",
        "    data=\\\n",
        "    [\n",
        "        go.Surface(z=z1, colorscale='Oranges'),\n",
        "        go.Surface(z=z2, showscale=False, opacity=0.9, colorscale='Oranges'),\n",
        "        go.Surface(z=z3, showscale=False, opacity=0.9, colorscale='Oranges')\n",
        "    ]\n",
        ")\n",
        "\n",
        "fig.show()"
      ]
    },
    {
      "cell_type": "code",
      "execution_count": null,
      "id": "e7c265c7",
      "metadata": {
        "scrolled": false,
        "id": "e7c265c7"
      },
      "outputs": [],
      "source": [
        "# бублик\n",
        "\n",
        "phi, psi = np.mgrid[0:2*np.pi:100j, -np.pi:np.pi:100j]\n",
        "R = 10\n",
        "r = 9\n",
        "\n",
        "x = (R + r*np.cos(psi))*np.cos(phi)\n",
        "y = (R + r*np.cos(psi))*np.sin(phi)\n",
        "z = r*np.sin(psi)\n",
        "\n",
        "fig = make_subplots(rows=1, cols=2,\n",
        "                    specs=[[{'is_3d': True}, {'is_3d': True}]],\n",
        "                    subplot_titles=['Color corresponds to z', 'Color corresponds to distance to origin'])\n",
        "\n",
        "fig.add_trace(go.Surface(x=x, y=y, z=z, colorbar_x=0), 1, 1)\n",
        "fig.add_trace(go.Surface(x=x, y=y, z=z, surfacecolor=x**2 + y**2 + z**2, colorscale='electric'), 1, 2)\n",
        "fig.update_layout(title_text=\"Torus\")\n",
        "fig.show()"
      ]
    },
    {
      "cell_type": "markdown",
      "id": "671ea0a3",
      "metadata": {
        "id": "671ea0a3"
      },
      "source": [
        "## 4. Настройка камеры и сцены"
      ]
    },
    {
      "cell_type": "markdown",
      "id": "b6b1128f",
      "metadata": {
        "id": "b6b1128f"
      },
      "source": [
        "Положение камеры определяется благодаря трём координатам: up, center, eye (уровень, фокус, позиция). Координаты определяются в системе координат сцены."
      ]
    },
    {
      "cell_type": "code",
      "execution_count": null,
      "id": "935846f8",
      "metadata": {
        "id": "935846f8"
      },
      "outputs": [],
      "source": [
        "fig = go.Figure(data=go.Surface(z=z_data, showscale=False))\n",
        "fig.update_layout \\\n",
        "(\n",
        "    title='Mt Bruno Elevation',\n",
        "    width=400, height=400,\n",
        "    margin={'l': 20, 'r': 0, 'b': 20, 't': 40}\n",
        ")\n",
        "\n",
        "name = 'default'\n",
        "# Дефолтные значения камеры: под углом в полоборота\n",
        "camera = \\\n",
        "{\n",
        "    \"up\": {'x': 0, 'y': 0, 'z': 1},\n",
        "    \"center\": {'x': 0, 'y': 0, 'z': 0},\n",
        "    \"eye\": {'x': 1.25, 'y': 1.25, 'z': 1.25}\n",
        "\n",
        "}\n",
        "\n",
        "fig.update_layout(scene_camera=camera, title=name)\n",
        "fig.show()"
      ]
    },
    {
      "cell_type": "code",
      "execution_count": null,
      "id": "6bef1158",
      "metadata": {
        "id": "6bef1158"
      },
      "outputs": [],
      "source": [
        "# занижаем позицию камеры\n",
        "\n",
        "fig = go.Figure(data=go.Surface(z=z_data, showscale=False))\n",
        "fig.update_layout \\\n",
        "(\n",
        "    title='Mt Bruno Elevation',\n",
        "    width=400, height=400,\n",
        "    margin={'l': 20, 'r': 0, 'b': 20, 't': 40}\n",
        ")\n",
        "\n",
        "name = 'eye = (x: 1.5, y: 1.5, z: 0.25)'\n",
        "camera = \\\n",
        "{\n",
        "    \"eye\": {'x': 1.5, 'y': 1.5, 'z': 0.25}\n",
        "}\n",
        "\n",
        "fig.update_layout(scene_camera=camera, title=name)\n",
        "fig.show()"
      ]
    },
    {
      "cell_type": "code",
      "execution_count": null,
      "id": "c9923ce3",
      "metadata": {
        "id": "c9923ce3"
      },
      "outputs": [],
      "source": [
        "# смотрим в проекции X-Z\n",
        "\n",
        "fig = go.Figure(data=go.Surface(z=z_data, showscale=False))\n",
        "fig.update_layout \\\n",
        "(\n",
        "    title='Mt Bruno Elevation',\n",
        "    width=400, height=400,\n",
        "    margin={'l': 20, 'r': 0, 'b': 20, 't': 40}\n",
        ")\n",
        "\n",
        "name = 'eye = (x: 0, y: 2, z: 0)'\n",
        "camera = \\\n",
        "{\n",
        "    \"eye\": {'x': 0, 'y': 2, 'z': 0}\n",
        "}\n",
        "\n",
        "fig.update_layout(scene_camera=camera, title=name)\n",
        "fig.show()"
      ]
    },
    {
      "cell_type": "code",
      "execution_count": null,
      "id": "015e3c30",
      "metadata": {
        "id": "015e3c30"
      },
      "outputs": [],
      "source": [
        "# смотрим в проекции Y-Z\n",
        "\n",
        "fig = go.Figure(data=go.Surface(z=z_data, showscale=False))\n",
        "fig.update_layout \\\n",
        "(\n",
        "    title='Mt Bruno Elevation',\n",
        "    width=400, height=400,\n",
        "    margin={'l': 20, 'r': 0, 'b': 20, 't': 40}\n",
        ")\n",
        "\n",
        "name = 'eye = (x: 2, y: 0, z: 0)'\n",
        "camera = \\\n",
        "{\n",
        "    \"eye\": {'x': 2, 'y': 0, 'z': 0}\n",
        "}\n",
        "\n",
        "fig.update_layout(scene_camera=camera, title=name)\n",
        "fig.show()"
      ]
    },
    {
      "cell_type": "code",
      "execution_count": null,
      "id": "f20a10f4",
      "metadata": {
        "id": "f20a10f4"
      },
      "outputs": [],
      "source": [
        "# смотрим с высоты\n",
        "\n",
        "fig = go.Figure(data=go.Surface(z=z_data, showscale=False))\n",
        "fig.update_layout \\\n",
        "(\n",
        "    title='Mt Bruno Elevation',\n",
        "    width=400, height=400,\n",
        "    margin={'l': 20, 'r': 0, 'b': 20, 't': 40}\n",
        ")\n",
        "\n",
        "name = 'eye = (x: 0, y: 0, z: 2)'\n",
        "camera = \\\n",
        "{\n",
        "    \"eye\": {'x': 0, 'y': 0, 'z': 2}\n",
        "}\n",
        "\n",
        "fig.update_layout(scene_camera=camera, title=name)\n",
        "fig.show()"
      ]
    },
    {
      "cell_type": "code",
      "execution_count": null,
      "id": "fe71eb20",
      "metadata": {
        "id": "fe71eb20"
      },
      "outputs": [],
      "source": [
        "# смотрим с и сдвигаемся в нужную нам сторону\n",
        "\n",
        "fig = go.Figure(data=go.Surface(z=z_data, showscale=False))\n",
        "fig.update_layout \\\n",
        "(\n",
        "    title='Mt Bruno Elevation',\n",
        "    width=400, height=400,\n",
        "    margin={'l': 20, 'r': 0, 'b': 20, 't': 40}\n",
        ")\n",
        "\n",
        "name = 'eye = (x: 0, y: 0, z: 1.5)'\n",
        "camera = \\\n",
        "{\n",
        "    \"up\": {'x': 1, 'y': 0, 'z': 0},\n",
        "    \"eye\": {'x': 0, 'y': 0, 'z': 2}\n",
        "}\n",
        "\n",
        "fig.update_layout(scene_camera=camera, title=name)\n",
        "fig.show()"
      ]
    },
    {
      "cell_type": "code",
      "execution_count": null,
      "id": "484fb9ed",
      "metadata": {
        "id": "484fb9ed"
      },
      "outputs": [],
      "source": [
        "# заваливаем горизонт под нужным углом\n",
        "\n",
        "fig = go.Figure(data=go.Surface(z=z_data, showscale=False))\n",
        "fig.update_layout \\\n",
        "(\n",
        "    title='Mt Bruno Elevation',\n",
        "    width=400, height=400,\n",
        "    margin={'l': 20, 'r': 0, 'b': 20, 't': 40}\n",
        ")\n",
        "\n",
        "angle = np.pi / 6 # 30 градусов\n",
        "\n",
        "name = 'angle view along x axis'\n",
        "camera = \\\n",
        "{\n",
        "    \"up\": {'x': 0, 'y': np.cos(angle), 'z': np.sin(angle)},\n",
        "    \"eye\": {'x': 2, 'y': 0, 'z': 0}\n",
        "}\n",
        "\n",
        "# тут понадобится другой параметр scene_dragmode, т.к. поворот смещает нас с направления осей\n",
        "fig.update_layout(scene_camera=camera, scene_dragmode='orbit', title=name)\n",
        "fig.show()"
      ]
    },
    {
      "cell_type": "code",
      "execution_count": null,
      "id": "9fa548aa",
      "metadata": {
        "id": "9fa548aa"
      },
      "outputs": [],
      "source": [
        "# смещаем фокусную точку для обзора под другим углом\n",
        "\n",
        "fig = go.Figure(data=go.Surface(z=z_data, showscale=False))\n",
        "fig.update_layout \\\n",
        "(\n",
        "    title='Mt Bruno Elevation',\n",
        "    width=400, height=400,\n",
        "    margin={'l': 20, 'r': 0, 'b': 20, 't': 40}\n",
        ")\n",
        "\n",
        "name = 'looking on the top'\n",
        "camera = \\\n",
        "{\n",
        "    \"center\": {'x': 0, 'y': -0.2, 'z': 0.8}\n",
        "}\n",
        "\n",
        "\n",
        "fig.update_layout(scene_camera=camera, title=name)\n",
        "fig.show()"
      ]
    },
    {
      "cell_type": "markdown",
      "id": "a287fa5a",
      "metadata": {
        "id": "a287fa5a"
      },
      "source": [
        "## Дополнительные материалы\n",
        "\n",
        "[Больше примеров с 3D](https://plotly.com/python/3d-charts/)"
      ]
    }
  ],
  "metadata": {
    "kernelspec": {
      "display_name": "Python 3 (ipykernel)",
      "language": "python",
      "name": "python3"
    },
    "language_info": {
      "codemirror_mode": {
        "name": "ipython",
        "version": 3
      },
      "file_extension": ".py",
      "mimetype": "text/x-python",
      "name": "python",
      "nbconvert_exporter": "python",
      "pygments_lexer": "ipython3",
      "version": "3.10.12"
    },
    "colab": {
      "provenance": [],
      "include_colab_link": true
    }
  },
  "nbformat": 4,
  "nbformat_minor": 5
}