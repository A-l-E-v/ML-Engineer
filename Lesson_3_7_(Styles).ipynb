{
  "cells": [
    {
      "cell_type": "markdown",
      "metadata": {
        "id": "view-in-github",
        "colab_type": "text"
      },
      "source": [
        "<a href=\"https://colab.research.google.com/github/A-l-E-v/ML-Engineer/blob/main/Lesson_3_7_(Styles).ipynb\" target=\"_parent\"><img src=\"https://colab.research.google.com/assets/colab-badge.svg\" alt=\"Open In Colab\"/></a>"
      ]
    },
    {
      "cell_type": "code",
      "execution_count": null,
      "id": "f99f4359",
      "metadata": {
        "id": "f99f4359"
      },
      "outputs": [],
      "source": [
        "import numpy as np\n",
        "import seaborn as sns\n",
        "import matplotlib.pyplot as plt"
      ]
    },
    {
      "cell_type": "code",
      "execution_count": null,
      "id": "48b84a65",
      "metadata": {
        "id": "48b84a65"
      },
      "outputs": [],
      "source": [
        "def plot_random_walk(walks=10, length=10, figsize=(8, 6), ax=None):\n",
        "    if ax is None:\n",
        "        fig, ax = plt.subplots(figsize=figsize)\n",
        "    for walk in np.cumsum(np.random.choice([-1, 1], [walks, length]), axis=1):\n",
        "        ax.plot(walk)"
      ]
    },
    {
      "cell_type": "code",
      "execution_count": null,
      "id": "de73e3b0",
      "metadata": {
        "id": "de73e3b0"
      },
      "outputs": [],
      "source": [
        "# рисуем случайные хождения\n",
        "\n",
        "plot_random_walk(7)\n",
        "plt.show()"
      ]
    },
    {
      "cell_type": "code",
      "execution_count": null,
      "id": "c9d19207",
      "metadata": {
        "id": "c9d19207"
      },
      "outputs": [],
      "source": [
        "# загружаем контекст сиборна\n",
        "\n",
        "sns.set_theme()\n",
        "plot_random_walk(7)\n",
        "plt.show()"
      ]
    },
    {
      "cell_type": "markdown",
      "id": "c8460742",
      "metadata": {
        "id": "c8460742"
      },
      "source": [
        "## 1. Работа со стилем рисунков"
      ]
    },
    {
      "cell_type": "code",
      "execution_count": null,
      "id": "ab5349d0",
      "metadata": {
        "id": "ab5349d0"
      },
      "outputs": [],
      "source": [
        "# сетка нужна для наилучшего поиска количественных значений\n",
        "\n",
        "sns.set_style(\"whitegrid\")\n",
        "\n",
        "fig, ax = plt.subplots()\n",
        "sns.boxplot(np.random.normal(size=(20, 6)) + np.arange(6) / 2, ax=ax)\n",
        "plt.show()"
      ]
    },
    {
      "cell_type": "code",
      "execution_count": null,
      "id": "71373528",
      "metadata": {
        "id": "71373528"
      },
      "outputs": [],
      "source": [
        "# в случае, когда количественные значения нас не интересуют, сетка может перегружать рисунок\n",
        "\n",
        "sns.set_style(\"dark\")\n",
        "\n",
        "plot_random_walk()\n",
        "plt.show()"
      ]
    },
    {
      "cell_type": "code",
      "execution_count": null,
      "id": "a8a2c477",
      "metadata": {
        "id": "a8a2c477"
      },
      "outputs": [],
      "source": [
        "# если мы хотим, чтобы цвета выделялись лучше\n",
        "\n",
        "sns.set_style(\"white\")\n",
        "\n",
        "plot_random_walk()\n",
        "plt.show()"
      ]
    },
    {
      "cell_type": "code",
      "execution_count": null,
      "id": "2cb4555b",
      "metadata": {
        "id": "2cb4555b"
      },
      "outputs": [],
      "source": [
        "# чтобы придать подписям штрихи на осях\n",
        "\n",
        "sns.set_style(\"ticks\")\n",
        "\n",
        "plot_random_walk()\n",
        "plt.show()"
      ]
    },
    {
      "cell_type": "code",
      "execution_count": null,
      "id": "15b230c5",
      "metadata": {
        "id": "15b230c5"
      },
      "outputs": [],
      "source": [
        "# можем убрать верхнюю и правую рамки\n",
        "\n",
        "plot_random_walk()\n",
        "sns.despine()\n",
        "plt.show()"
      ]
    },
    {
      "cell_type": "code",
      "execution_count": null,
      "id": "eb527b4e",
      "metadata": {
        "id": "eb527b4e"
      },
      "outputs": [],
      "source": [
        "# также можно обрезать часть нижней и левой оси, которые не используются\n",
        "\n",
        "fig, ax = plt.subplots()\n",
        "sns.violinplot(np.random.normal(size=(20, 6)) + np.arange(6) / 2, ax=ax)\n",
        "sns.despine(offset=40, trim=True)\n",
        "plt.show()"
      ]
    },
    {
      "cell_type": "code",
      "execution_count": null,
      "id": "33ebbb96",
      "metadata": {
        "id": "33ebbb96"
      },
      "outputs": [],
      "source": [
        "# также можно вырезать ось целиком\n",
        "\n",
        "fig, ax = plt.subplots()\n",
        "sns.swarmplot(np.random.normal(size=(20, 6)) + np.arange(6) / 2, ax=ax)\n",
        "sns.despine(bottom=True)\n",
        "plt.show()"
      ]
    },
    {
      "cell_type": "code",
      "execution_count": null,
      "id": "df262198",
      "metadata": {
        "id": "df262198"
      },
      "outputs": [],
      "source": [
        "# с помощью ключевого слова \"with\" можно использовать стиль лишь временно\n",
        "\n",
        "fig = plt.figure(figsize=(8, 8))\n",
        "gs = fig.add_gridspec(2, 2)\n",
        "\n",
        "with sns.axes_style(\"darkgrid\"):\n",
        "    ax = fig.add_subplot(gs[0, 0])\n",
        "    plot_random_walk(6, 6, ax=ax)\n",
        "\n",
        "with sns.axes_style(\"white\"):\n",
        "    ax = fig.add_subplot(gs[0, 1])\n",
        "    plot_random_walk(6, 6, ax=ax)\n",
        "\n",
        "with sns.axes_style(\"ticks\"):\n",
        "    ax = fig.add_subplot(gs[1, 0])\n",
        "    plot_random_walk(6, 6, ax=ax)\n",
        "\n",
        "with sns.axes_style(\"whitegrid\"):\n",
        "    ax = fig.add_subplot(gs[1, 1])\n",
        "    plot_random_walk(6, 6, ax=ax)\n",
        "\n",
        "fig.tight_layout()\n",
        "fig.suptitle(\"figures in different styles\", y=1.02)\n",
        "plt.show()"
      ]
    },
    {
      "cell_type": "code",
      "execution_count": null,
      "id": "19005eef",
      "metadata": {
        "id": "19005eef"
      },
      "outputs": [],
      "source": [
        "sns.axes_style(\"darkgrid\")"
      ]
    },
    {
      "cell_type": "code",
      "execution_count": null,
      "id": "59f59178",
      "metadata": {
        "id": "59f59178"
      },
      "outputs": [],
      "source": [
        "# можно самому конфигурировать параметры стиля\n",
        "\n",
        "sns.set_style(\"darkgrid\", {\"axes.edgecolor\": \"red\"})\n",
        "\n",
        "plot_random_walk()\n",
        "plt.show()"
      ]
    },
    {
      "cell_type": "markdown",
      "id": "4680b110",
      "metadata": {
        "id": "4680b110"
      },
      "source": [
        "## 2. Работа с элементами графика"
      ]
    },
    {
      "cell_type": "code",
      "execution_count": null,
      "id": "906d701f",
      "metadata": {
        "id": "906d701f"
      },
      "outputs": [],
      "source": [
        "# сбрасываем все предыдущие параметры\n",
        "\n",
        "sns.set_theme()"
      ]
    },
    {
      "cell_type": "code",
      "execution_count": null,
      "id": "4ece7be8",
      "metadata": {
        "id": "4ece7be8"
      },
      "outputs": [],
      "source": [
        "# применяем первый набор параметров (для статьи)\n",
        "\n",
        "sns.set_context(\"paper\")\n",
        "\n",
        "plot_random_walk()\n",
        "plt.show()"
      ]
    },
    {
      "cell_type": "code",
      "execution_count": null,
      "id": "6a21579d",
      "metadata": {
        "id": "6a21579d"
      },
      "outputs": [],
      "source": [
        "# применяем первый набор параметров (для речи)\n",
        "\n",
        "sns.set_context(\"talk\")\n",
        "\n",
        "plot_random_walk()\n",
        "plt.show()"
      ]
    },
    {
      "cell_type": "code",
      "execution_count": null,
      "id": "416b7a09",
      "metadata": {
        "id": "416b7a09"
      },
      "outputs": [],
      "source": [
        "# применяем первый набор параметров (для стенда)\n",
        "\n",
        "sns.set_context(\"poster\")\n",
        "\n",
        "plot_random_walk()\n",
        "plt.show()"
      ]
    },
    {
      "cell_type": "code",
      "execution_count": null,
      "id": "6dcff132",
      "metadata": {
        "id": "6dcff132"
      },
      "outputs": [],
      "source": [
        "# параметры контекста тоже можно контролировать\n",
        "\n",
        "sns.set_context(\"notebook\", font_scale=2, rc={\"lines.linewidth\": 4})\n",
        "plot_random_walk()\n",
        "plt.show()"
      ]
    },
    {
      "cell_type": "markdown",
      "id": "f6c8b83d",
      "metadata": {
        "id": "f6c8b83d"
      },
      "source": [
        "## 3. Работа с цветом"
      ]
    },
    {
      "cell_type": "code",
      "execution_count": null,
      "id": "0f6410c5",
      "metadata": {
        "id": "0f6410c5"
      },
      "outputs": [],
      "source": [
        "sns.set_theme('paper')\n",
        "sns.set_style('white')"
      ]
    },
    {
      "cell_type": "code",
      "execution_count": null,
      "id": "37a26c87",
      "metadata": {
        "id": "37a26c87"
      },
      "outputs": [],
      "source": [
        "data_1 = np.random.sample([2, 20])\n",
        "data_2 = np.random.sample([2, 20])\n",
        "\n",
        "fig, (ax1, ax2) = plt.subplots(1, 2, figsize=(7, 3), sharex=True, sharey=True)\n",
        "ax1.scatter(data_1[0][:10], data_1[1][:10])\n",
        "ax1.scatter(data_1[0][10:], data_1[1][10:], marker='v', color='b')\n",
        "ax2.scatter(data_2[0][:10], data_2[1][:10])\n",
        "ax2.scatter(data_2[0][10:], data_2[1][10:], marker='v', color='orange')\n",
        "plt.show()"
      ]
    },
    {
      "cell_type": "code",
      "execution_count": null,
      "id": "ec3b76ac",
      "metadata": {
        "id": "ec3b76ac"
      },
      "outputs": [],
      "source": [
        "data_1 = np.random.sample([2, 20])\n",
        "data_2 = np.random.sample([2, 20])\n",
        "\n",
        "fig, (ax1, ax2) = plt.subplots(1, 2, figsize=(7, 3), sharex=True, sharey=True)\n",
        "sns.scatterplot(x=data_1[0], y=data_1[1], hue=data_1[1], ax=ax1, palette='Set1', legend=False)\n",
        "sns.scatterplot(x=data_2[0], y=data_2[1], hue=data_2[1], ax=ax2, palette='Blues', legend=False)\n",
        "plt.show()"
      ]
    },
    {
      "cell_type": "code",
      "execution_count": null,
      "id": "1f8708c0",
      "metadata": {
        "id": "1f8708c0"
      },
      "outputs": [],
      "source": [
        "data_1 = np.random.sample([100, 100])\n",
        "data_2 = np.random.sample([100, 100])\n",
        "\n",
        "fig, (ax1, ax2) = plt.subplots(1, 2, figsize=(7, 3), sharex=True, sharey=True)\n",
        "sns.histplot(x=data_1[0], y=data_1[1], ax=ax1, cmap='gist_rainbow', cbar=True)\n",
        "sns.histplot(x=data_2[0], y=data_2[1], ax=ax2, cmap='Blues', cbar=True)\n",
        "plt.show()"
      ]
    },
    {
      "cell_type": "code",
      "execution_count": null,
      "id": "69ca23c2",
      "metadata": {
        "id": "69ca23c2"
      },
      "outputs": [],
      "source": [
        "sns.color_palette()"
      ]
    },
    {
      "cell_type": "code",
      "execution_count": null,
      "id": "d006b66a",
      "metadata": {
        "id": "d006b66a"
      },
      "outputs": [],
      "source": [
        "sns.color_palette(\"tab10\")"
      ]
    },
    {
      "cell_type": "markdown",
      "id": "d30a5f91",
      "metadata": {
        "id": "d30a5f91"
      },
      "source": [
        "### Дискретные гаммы"
      ]
    },
    {
      "cell_type": "code",
      "execution_count": null,
      "id": "3bd7f16d",
      "metadata": {
        "id": "3bd7f16d"
      },
      "outputs": [],
      "source": [
        "# равномерное распределение по цветовому кругу\n",
        "sns.color_palette(\"hls\", 8)"
      ]
    },
    {
      "cell_type": "code",
      "execution_count": null,
      "id": "4dbfa882",
      "metadata": {
        "id": "4dbfa882"
      },
      "outputs": [],
      "source": [
        "# равномерное распределение по цветовому кругу с балансом насыщенности\n",
        "sns.color_palette(\"husl\", 8)"
      ]
    },
    {
      "cell_type": "markdown",
      "id": "d1920779",
      "metadata": {
        "id": "d1920779"
      },
      "source": [
        "Гаммы от [Color Brewer](https://colorbrewer2.org/)"
      ]
    },
    {
      "cell_type": "code",
      "execution_count": null,
      "id": "76ea5333",
      "metadata": {
        "id": "76ea5333"
      },
      "outputs": [],
      "source": [
        "sns.color_palette(\"Set2\")"
      ]
    },
    {
      "cell_type": "code",
      "execution_count": null,
      "id": "6b0afea0",
      "metadata": {
        "id": "6b0afea0"
      },
      "outputs": [],
      "source": [
        "sns.color_palette(\"Paired\")"
      ]
    },
    {
      "cell_type": "markdown",
      "id": "5ab21000",
      "metadata": {
        "id": "5ab21000"
      },
      "source": [
        "### Градиентные гаммы"
      ]
    },
    {
      "cell_type": "code",
      "execution_count": null,
      "id": "93d87a72",
      "metadata": {
        "id": "93d87a72"
      },
      "outputs": [],
      "source": [
        "sns.color_palette(\"rocket\", as_cmap=True)"
      ]
    },
    {
      "cell_type": "code",
      "execution_count": null,
      "id": "276cc85e",
      "metadata": {
        "id": "276cc85e"
      },
      "outputs": [],
      "source": [
        "sns.color_palette(\"mako\", as_cmap=True)"
      ]
    },
    {
      "cell_type": "code",
      "execution_count": null,
      "id": "1a71292b",
      "metadata": {
        "id": "1a71292b"
      },
      "outputs": [],
      "source": [
        "sns.color_palette(\"flare\", as_cmap=True)"
      ]
    },
    {
      "cell_type": "code",
      "execution_count": null,
      "id": "97fcc59c",
      "metadata": {
        "id": "97fcc59c"
      },
      "outputs": [],
      "source": [
        "sns.color_palette(\"crest\", as_cmap=True)"
      ]
    },
    {
      "cell_type": "code",
      "execution_count": null,
      "id": "4bed7975",
      "metadata": {
        "id": "4bed7975"
      },
      "outputs": [],
      "source": [
        "sns.color_palette(\"magma\", as_cmap=True)"
      ]
    },
    {
      "cell_type": "code",
      "execution_count": null,
      "id": "9af3a101",
      "metadata": {
        "id": "9af3a101"
      },
      "outputs": [],
      "source": [
        "sns.color_palette(\"rocket_r\", as_cmap=True)"
      ]
    },
    {
      "cell_type": "code",
      "execution_count": null,
      "id": "e0a0403e",
      "metadata": {
        "id": "e0a0403e"
      },
      "outputs": [],
      "source": [
        "# дискретная градиентная гамма\n",
        "sns.color_palette(\"rocket\", 8)"
      ]
    },
    {
      "cell_type": "code",
      "execution_count": null,
      "id": "d6e08729",
      "metadata": {
        "id": "d6e08729"
      },
      "outputs": [],
      "source": [
        "sns.color_palette(\"cubehelix\", as_cmap=True)"
      ]
    },
    {
      "cell_type": "code",
      "execution_count": null,
      "id": "449b543e",
      "metadata": {
        "id": "449b543e"
      },
      "outputs": [],
      "source": [
        "# программируемые шкалы\n",
        "sns.cubehelix_palette(as_cmap=True)"
      ]
    },
    {
      "cell_type": "code",
      "execution_count": null,
      "id": "d4ee081d",
      "metadata": {
        "id": "d4ee081d"
      },
      "outputs": [],
      "source": [
        "sns.cubehelix_palette(start=.5, rot=-.5, as_cmap=True)"
      ]
    },
    {
      "cell_type": "code",
      "execution_count": null,
      "id": "1611b306",
      "metadata": {
        "id": "1611b306"
      },
      "outputs": [],
      "source": [
        "# чем больше \"rot\" по модулю, тем сильнее изменяется гамма\n",
        "sns.cubehelix_palette(start=.5, rot=-.75, as_cmap=True)"
      ]
    },
    {
      "cell_type": "code",
      "execution_count": null,
      "id": "7fdab90b",
      "metadata": {
        "id": "7fdab90b"
      },
      "outputs": [],
      "source": [
        "# можно контролировать яркость темной и светлой области\n",
        "sns.cubehelix_palette(start=2, rot=0, dark=0, light=.95, reverse=True, as_cmap=True)"
      ]
    },
    {
      "cell_type": "code",
      "execution_count": null,
      "id": "f2f83f1a",
      "metadata": {
        "id": "f2f83f1a"
      },
      "outputs": [],
      "source": [
        "# параметр может быть задан в виде строки\n",
        "sns.color_palette(\"ch:start=.2,rot=-.3\", as_cmap=True)"
      ]
    },
    {
      "cell_type": "code",
      "execution_count": null,
      "id": "acba24e9",
      "metadata": {
        "id": "acba24e9"
      },
      "outputs": [],
      "source": [
        "sns.color_palette(\"ch:s=-.2,r=.6\", as_cmap=True)"
      ]
    },
    {
      "cell_type": "code",
      "execution_count": null,
      "id": "e506e5bf",
      "metadata": {
        "id": "e506e5bf"
      },
      "outputs": [],
      "source": [
        "# кастомная светлая гамма на основе цвета\n",
        "sns.light_palette(\"seagreen\", as_cmap=True)"
      ]
    },
    {
      "cell_type": "code",
      "execution_count": null,
      "id": "4ebb2781",
      "metadata": {
        "id": "4ebb2781"
      },
      "outputs": [],
      "source": [
        "# кастомная тёмная гамма на основе цвета\n",
        "sns.dark_palette(\"#69d\", reverse=True, as_cmap=True)"
      ]
    },
    {
      "cell_type": "code",
      "execution_count": null,
      "id": "937601fc",
      "metadata": {
        "id": "937601fc"
      },
      "outputs": [],
      "source": [
        "# также в виде строки\n",
        "sns.color_palette(\"light:b\", as_cmap=True)"
      ]
    },
    {
      "cell_type": "code",
      "execution_count": null,
      "id": "6a09068a",
      "metadata": {
        "id": "6a09068a"
      },
      "outputs": [],
      "source": [
        "sns.color_palette(\"dark:salmon_r\", as_cmap=True)"
      ]
    },
    {
      "cell_type": "markdown",
      "id": "db42b603",
      "metadata": {
        "id": "db42b603"
      },
      "source": [
        "Ещё гаммы от [Color Brewer](https://colorbrewer2.org/)"
      ]
    },
    {
      "cell_type": "code",
      "execution_count": null,
      "id": "47c2bd7b",
      "metadata": {
        "id": "47c2bd7b"
      },
      "outputs": [],
      "source": [
        "sns.color_palette(\"Blues\", as_cmap=True)"
      ]
    },
    {
      "cell_type": "code",
      "execution_count": null,
      "id": "df300802",
      "metadata": {
        "id": "df300802"
      },
      "outputs": [],
      "source": [
        "sns.color_palette(\"YlOrBr\", as_cmap=True)"
      ]
    },
    {
      "cell_type": "markdown",
      "id": "eb6c8600",
      "metadata": {
        "id": "eb6c8600"
      },
      "source": [
        "### Гаммы противопоставления"
      ]
    },
    {
      "cell_type": "code",
      "execution_count": null,
      "id": "6d4bc856",
      "metadata": {
        "id": "6d4bc856"
      },
      "outputs": [],
      "source": [
        "sns.color_palette(\"vlag\", as_cmap=True)"
      ]
    },
    {
      "cell_type": "code",
      "execution_count": null,
      "id": "59a58dc4",
      "metadata": {
        "id": "59a58dc4"
      },
      "outputs": [],
      "source": [
        "sns.color_palette(\"icefire\", as_cmap=True)"
      ]
    },
    {
      "cell_type": "code",
      "execution_count": null,
      "id": "1c1f025a",
      "metadata": {
        "id": "1c1f025a"
      },
      "outputs": [],
      "source": [
        "# кастомная гамма: здесь первые два числа - это углы цветового круга\n",
        "sns.diverging_palette(220, 20, as_cmap=True)"
      ]
    },
    {
      "cell_type": "code",
      "execution_count": null,
      "id": "50c3c647",
      "metadata": {
        "id": "50c3c647"
      },
      "outputs": [],
      "source": [
        "# кастомная гамма: здесь s - это насыщенность\n",
        "sns.diverging_palette(145, 300, s=60, as_cmap=True)"
      ]
    },
    {
      "cell_type": "code",
      "execution_count": null,
      "id": "7d74000e",
      "metadata": {
        "id": "7d74000e"
      },
      "outputs": [],
      "source": [
        "# кастомная гамма: здесь l - это яркость краёв\n",
        "sns.diverging_palette(250, 30, l=65, center=\"dark\", as_cmap=True)"
      ]
    },
    {
      "cell_type": "markdown",
      "id": "c09a8483",
      "metadata": {
        "id": "c09a8483"
      },
      "source": [
        "Ещё гаммы от [Color Brewer](https://colorbrewer2.org/)"
      ]
    },
    {
      "cell_type": "code",
      "execution_count": null,
      "id": "6a6fe8f7",
      "metadata": {
        "id": "6a6fe8f7"
      },
      "outputs": [],
      "source": [
        "sns.color_palette(\"Spectral\", as_cmap=True)"
      ]
    },
    {
      "cell_type": "code",
      "execution_count": null,
      "id": "096c3ec4",
      "metadata": {
        "id": "096c3ec4"
      },
      "outputs": [],
      "source": [
        "sns.color_palette(\"coolwarm\", as_cmap=True)"
      ]
    },
    {
      "cell_type": "markdown",
      "id": "bdd0a211",
      "metadata": {
        "id": "bdd0a211"
      },
      "source": [
        "## 4. Дополнительные материалы"
      ]
    },
    {
      "cell_type": "markdown",
      "id": "2ad9db21",
      "metadata": {
        "id": "2ad9db21"
      },
      "source": [
        "[Список шкал и как их использовать](https://matplotlib.org/stable/users/explain/colors/colormaps.html)\n",
        "\n",
        "[Серия статей от Обсерватории НАСА о теории использования цветов](https://earthobservatory.nasa.gov/blogs/elegantfigures/2013/08/05/subtleties-of-color-part-1-of-6/)"
      ]
    }
  ],
  "metadata": {
    "kernelspec": {
      "display_name": "Python 3 (ipykernel)",
      "language": "python",
      "name": "python3"
    },
    "language_info": {
      "codemirror_mode": {
        "name": "ipython",
        "version": 3
      },
      "file_extension": ".py",
      "mimetype": "text/x-python",
      "name": "python",
      "nbconvert_exporter": "python",
      "pygments_lexer": "ipython3",
      "version": "3.10.12"
    },
    "colab": {
      "provenance": [],
      "include_colab_link": true
    }
  },
  "nbformat": 4,
  "nbformat_minor": 5
}